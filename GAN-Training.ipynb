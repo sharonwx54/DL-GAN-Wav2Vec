{
  "cells": [
    {
      "cell_type": "markdown",
      "id": "me7MaEVG66Pb",
      "metadata": {
        "id": "me7MaEVG66Pb"
      },
      "source": [
        "# HW5: Unsupervised Speech Recognition (USR)"
      ]
    },
    {
      "cell_type": "markdown",
      "id": "CdBewqEe7Xjs",
      "metadata": {
        "id": "CdBewqEe7Xjs"
      },
      "source": [
        "Welcome to HW5 in Introduction to Deep Learning 11685. You will be working on Unsupervised Speech Recognition with GANs in this HW. You will be reimplementing and further improving on the model given in the USR paper by Facebook AI.<br>\n",
        "Link: https://arxiv.org/abs/2105.11084\n"
      ]
    },
    {
      "cell_type": "markdown",
      "id": "yi_xghRe2Ncg",
      "metadata": {
        "id": "yi_xghRe2Ncg"
      },
      "source": [
        "# Global Variables"
      ]
    },
    {
      "cell_type": "code",
      "execution_count": null,
      "id": "8fZkk04e2TKb",
      "metadata": {
        "id": "8fZkk04e2TKb"
      },
      "outputs": [],
      "source": [
        "USE_DRIVE = False # using google drive or not, as GCP cannot connect to drive\n",
        "SUBMIT = False # whether to submit to kaggle"
      ]
    },
    {
      "cell_type": "markdown",
      "id": "vih9ZiCQ7skd",
      "metadata": {
        "id": "vih9ZiCQ7skd"
      },
      "source": [
        "# Installations"
      ]
    },
    {
      "cell_type": "code",
      "execution_count": null,
      "id": "DgYdpT-l7v_C",
      "metadata": {
        "colab": {
          "base_uri": "https://localhost:8080/"
        },
        "id": "DgYdpT-l7v_C",
        "outputId": "dedbe225-c4c7-4331-ab71-ae8d7211d651"
      },
      "outputs": [
        {
          "name": "stdout",
          "output_type": "stream",
          "text": [
            "Looking in indexes: https://pypi.org/simple, https://us-python.pkg.dev/colab-wheels/public/simple/\n",
            "Collecting git+https://github.com/pytorch/fairseq\n",
            "  Cloning https://github.com/pytorch/fairseq to /tmp/pip-req-build-u6yco_ml\n",
            "  Running command git clone --filter=blob:none --quiet https://github.com/pytorch/fairseq /tmp/pip-req-build-u6yco_ml\n",
            "  Resolved https://github.com/pytorch/fairseq to commit 3f6ba43f07a6e9e2acf957fc24e57251a7a3f55c\n",
            "  Running command git submodule update --init --recursive -q\n",
            "  From https://github.com/ngoyal2707/Megatron-LM\n",
            "   * branch            adb23324c222aad0aad89308e70302d996a5eaeb -> FETCH_HEAD\n",
            "  Installing build dependencies ... \u001b[?25l\u001b[?25hdone\n",
            "  Getting requirements to build wheel ... \u001b[?25l\u001b[?25hdone\n",
            "  Preparing metadata (pyproject.toml) ... \u001b[?25l\u001b[?25hdone\n",
            "Requirement already satisfied: cffi in /usr/local/lib/python3.9/dist-packages (from fairseq==0.12.2) (1.15.1)\n",
            "Requirement already satisfied: regex in /usr/local/lib/python3.9/dist-packages (from fairseq==0.12.2) (2022.10.31)\n",
            "Requirement already satisfied: torch>=1.13 in /usr/local/lib/python3.9/dist-packages (from fairseq==0.12.2) (2.0.0+cu118)\n",
            "Requirement already satisfied: torchaudio>=0.8.0 in /usr/local/lib/python3.9/dist-packages (from fairseq==0.12.2) (2.0.1+cu118)\n",
            "Requirement already satisfied: bitarray in /usr/local/lib/python3.9/dist-packages (from fairseq==0.12.2) (2.7.3)\n",
            "Requirement already satisfied: scikit-learn in /usr/local/lib/python3.9/dist-packages (from fairseq==0.12.2) (1.2.2)\n",
            "Requirement already satisfied: packaging in /usr/local/lib/python3.9/dist-packages (from fairseq==0.12.2) (23.0)\n",
            "Requirement already satisfied: hydra-core<1.1,>=1.0.7 in /usr/local/lib/python3.9/dist-packages (from fairseq==0.12.2) (1.0.7)\n",
            "Requirement already satisfied: omegaconf<2.1 in /usr/local/lib/python3.9/dist-packages (from fairseq==0.12.2) (2.0.6)\n",
            "Requirement already satisfied: numpy>=1.21.3 in /usr/local/lib/python3.9/dist-packages (from fairseq==0.12.2) (1.22.4)\n",
            "Requirement already satisfied: sacrebleu>=1.4.12 in /usr/local/lib/python3.9/dist-packages (from fairseq==0.12.2) (2.3.1)\n",
            "Requirement already satisfied: cython in /usr/local/lib/python3.9/dist-packages (from fairseq==0.12.2) (0.29.34)\n",
            "Requirement already satisfied: tqdm in /usr/local/lib/python3.9/dist-packages (from fairseq==0.12.2) (4.65.0)\n",
            "Requirement already satisfied: antlr4-python3-runtime==4.8 in /usr/local/lib/python3.9/dist-packages (from hydra-core<1.1,>=1.0.7->fairseq==0.12.2) (4.8)\n",
            "Requirement already satisfied: typing-extensions in /usr/local/lib/python3.9/dist-packages (from omegaconf<2.1->fairseq==0.12.2) (4.5.0)\n",
            "Requirement already satisfied: PyYAML>=5.1.* in /usr/local/lib/python3.9/dist-packages (from omegaconf<2.1->fairseq==0.12.2) (6.0)\n",
            "Requirement already satisfied: portalocker in /usr/local/lib/python3.9/dist-packages (from sacrebleu>=1.4.12->fairseq==0.12.2) (2.7.0)\n",
            "Requirement already satisfied: tabulate>=0.8.9 in /usr/local/lib/python3.9/dist-packages (from sacrebleu>=1.4.12->fairseq==0.12.2) (0.8.10)\n",
            "Requirement already satisfied: colorama in /usr/local/lib/python3.9/dist-packages (from sacrebleu>=1.4.12->fairseq==0.12.2) (0.4.6)\n",
            "Requirement already satisfied: lxml in /usr/local/lib/python3.9/dist-packages (from sacrebleu>=1.4.12->fairseq==0.12.2) (4.9.2)\n",
            "Requirement already satisfied: triton==2.0.0 in /usr/local/lib/python3.9/dist-packages (from torch>=1.13->fairseq==0.12.2) (2.0.0)\n",
            "Requirement already satisfied: filelock in /usr/local/lib/python3.9/dist-packages (from torch>=1.13->fairseq==0.12.2) (3.10.7)\n",
            "Requirement already satisfied: sympy in /usr/local/lib/python3.9/dist-packages (from torch>=1.13->fairseq==0.12.2) (1.11.1)\n",
            "Requirement already satisfied: jinja2 in /usr/local/lib/python3.9/dist-packages (from torch>=1.13->fairseq==0.12.2) (3.1.2)\n",
            "Requirement already satisfied: networkx in /usr/local/lib/python3.9/dist-packages (from torch>=1.13->fairseq==0.12.2) (3.0)\n",
            "Requirement already satisfied: cmake in /usr/local/lib/python3.9/dist-packages (from triton==2.0.0->torch>=1.13->fairseq==0.12.2) (3.25.2)\n",
            "Requirement already satisfied: lit in /usr/local/lib/python3.9/dist-packages (from triton==2.0.0->torch>=1.13->fairseq==0.12.2) (16.0.0)\n",
            "Requirement already satisfied: pycparser in /usr/local/lib/python3.9/dist-packages (from cffi->fairseq==0.12.2) (2.21)\n",
            "Requirement already satisfied: scipy>=1.3.2 in /usr/local/lib/python3.9/dist-packages (from scikit-learn->fairseq==0.12.2) (1.10.1)\n",
            "Requirement already satisfied: joblib>=1.1.1 in /usr/local/lib/python3.9/dist-packages (from scikit-learn->fairseq==0.12.2) (1.1.1)\n",
            "Requirement already satisfied: threadpoolctl>=2.0.0 in /usr/local/lib/python3.9/dist-packages (from scikit-learn->fairseq==0.12.2) (3.1.0)\n",
            "Requirement already satisfied: MarkupSafe>=2.0 in /usr/local/lib/python3.9/dist-packages (from jinja2->torch>=1.13->fairseq==0.12.2) (2.1.2)\n",
            "Requirement already satisfied: mpmath>=0.19 in /usr/local/lib/python3.9/dist-packages (from sympy->torch>=1.13->fairseq==0.12.2) (1.3.0)\n"
          ]
        }
      ],
      "source": [
        "! pip install git+https://github.com/pytorch/fairseq # need to install fairseq\n",
        "# You can install other libraries such as torchsummaryX, wandb and so on"
      ]
    },
    {
      "cell_type": "code",
      "execution_count": null,
      "id": "fnCVIFOIKGQh",
      "metadata": {
        "id": "fnCVIFOIKGQh"
      },
      "outputs": [],
      "source": [
        "!pip install torchsummaryX wandb"
      ]
    },
    {
      "cell_type": "code",
      "execution_count": null,
      "id": "J2PycobeipKv",
      "metadata": {
        "colab": {
          "base_uri": "https://localhost:8080/"
        },
        "id": "J2PycobeipKv",
        "outputId": "298fafa8-3f8c-4424-dfb6-bd37d5c9762a"
      },
      "outputs": [
        {
          "name": "stdout",
          "output_type": "stream",
          "text": [
            "Mounted at /content/drive\n"
          ]
        }
      ],
      "source": [
        "if USE_DRIVE:\n",
        "  from google.colab import drive\n",
        "  drive.mount('/content/drive')"
      ]
    },
    {
      "cell_type": "markdown",
      "id": "o52Nmb_976iy",
      "metadata": {
        "id": "o52Nmb_976iy"
      },
      "source": [
        "# Kaggle"
      ]
    },
    {
      "cell_type": "code",
      "execution_count": null,
      "id": "twxcI5cX78YN",
      "metadata": {
        "colab": {
          "base_uri": "https://localhost:8080/"
        },
        "id": "twxcI5cX78YN",
        "outputId": "85f2e34c-cdd7-48d6-d9c6-77e5fb1daa20"
      },
      "outputs": [
        {
          "name": "stdout",
          "output_type": "stream",
          "text": [
            "Looking in indexes: https://pypi.org/simple, https://us-python.pkg.dev/colab-wheels/public/simple/\n",
            "Collecting kaggle==1.5.8\n",
            "  Using cached kaggle-1.5.8-py3-none-any.whl\n",
            "Installing collected packages: kaggle\n",
            "  Attempting uninstall: kaggle\n",
            "    Found existing installation: kaggle 1.5.8\n",
            "    Uninstalling kaggle-1.5.8:\n",
            "      Successfully uninstalled kaggle-1.5.8\n",
            "Successfully installed kaggle-1.5.8\n",
            "mkdir: cannot create directory ‘/root/.kaggle/’: File exists\n"
          ]
        }
      ],
      "source": [
        "!pip install --upgrade --force-reinstall --no-deps kaggle==1.5.8\n",
        "!mkdir /root/.kaggle/\n",
        "\n",
        "api_token = '{\"username\":\"sharonxin1207\",\"key\":\"xxx\"}'\n",
        "\n",
        "with open(\"/root/.kaggle/kaggle.json\", \"w+\") as f:\n",
        "    f.write(api_token) # TODO: Put your kaggle username & key here\n",
        "\n",
        "!chmod 600 /root/.kaggle/kaggle.json"
      ]
    },
    {
      "cell_type": "code",
      "execution_count": null,
      "id": "xvhE7WH48ZuK",
      "metadata": {
        "id": "xvhE7WH48ZuK"
      },
      "outputs": [],
      "source": [
        "!kaggle competitions download -c 11-685-s23-hw5\n",
        "!mkdir '/content/data'\n",
        "\n",
        "!unzip -qo '/content/11-685-s23-hw5.zip' -d '/content/data'\n",
        "# move this folder to DeepLearningHW5GAN"
      ]
    },
    {
      "cell_type": "markdown",
      "id": "OmEqwUmr8bIR",
      "metadata": {
        "id": "OmEqwUmr8bIR"
      },
      "source": [
        "# Imports"
      ]
    },
    {
      "cell_type": "code",
      "execution_count": null,
      "id": "dd2e63a8-73fe-44ba-952f-6a9b6d1a7150",
      "metadata": {
        "colab": {
          "base_uri": "https://localhost:8080/"
        },
        "id": "dd2e63a8-73fe-44ba-952f-6a9b6d1a7150",
        "outputId": "0e24fed1-1dd5-4471-b09b-0b39eb1c3d49"
      },
      "outputs": [
        {
          "name": "stdout",
          "output_type": "stream",
          "text": [
            "GPU:  Tesla T4\n",
            "Device:  cuda:0\n"
          ]
        }
      ],
      "source": [
        "import torch\n",
        "from torch import nn, optim\n",
        "from torch.utils import data\n",
        "from torch.nn.utils.rnn import *\n",
        "\n",
        "import numpy as np\n",
        "from tqdm import tqdm\n",
        "import sys\n",
        "import json\n",
        "import pprint\n",
        "\n",
        "# add any other imports that you want \n",
        "\n",
        "has_cuda = torch.cuda.is_available()\n",
        "if has_cuda:\n",
        "  print(\"GPU: \", torch.cuda.get_device_name(0))\n",
        "device = torch.device(\"cuda:0\" if has_cuda else \"cpu\")\n",
        "print(\"Device: \", device)"
      ]
    },
    {
      "cell_type": "code",
      "execution_count": null,
      "id": "uki_6a_i8nDg",
      "metadata": {
        "colab": {
          "base_uri": "https://localhost:8080/"
        },
        "id": "uki_6a_i8nDg",
        "outputId": "d35b1ec0-3927-4a07-d7e8-a39611301d8a"
      },
      "outputs": [
        {
          "name": "stdout",
          "output_type": "stream",
          "text": [
            "/content/DeepLearningHW5GAN\n"
          ]
        }
      ],
      "source": [
        "# TODO\n",
        "if USE_DRIVE:\n",
        "  %cd /content/drive/MyDrive/DeepLearningHW5GAN\n",
        "else:\n",
        "  # this is the path for GCP save directory\n",
        "  %cd /content/DeepLearningHW5GAN/\n"
      ]
    },
    {
      "cell_type": "code",
      "execution_count": 30,
      "id": "pRte4Mkkq5oo",
      "metadata": {
        "colab": {
          "base_uri": "https://localhost:8080/"
        },
        "id": "pRte4Mkkq5oo",
        "outputId": "12fd3ba8-bb72-4061-a884-30e9f6f4162d"
      },
      "outputs": [
        {
          "name": "stdout",
          "output_type": "stream",
          "text": [
            "The autoreload extension is already loaded. To reload it, use:\n",
            "  %reload_ext autoreload\n"
          ]
        }
      ],
      "source": [
        "%load_ext autoreload\n",
        "%autoreload 2"
      ]
    },
    {
      "cell_type": "markdown",
      "id": "x8t4UM6G802b",
      "metadata": {
        "id": "x8t4UM6G802b"
      },
      "source": [
        "# Dataset and DataLoaders"
      ]
    },
    {
      "cell_type": "markdown",
      "id": "WahsDNk29slr",
      "metadata": {
        "id": "WahsDNk29slr"
      },
      "source": [
        "You have TODOs which need to be completed in `task/unpaired_audio_text.py` before you run these cells. You just need to replace the paths. You can use the original code base as a reference.\n",
        "\n"
      ]
    },
    {
      "cell_type": "code",
      "execution_count": null,
      "id": "9cf0e76a-be23-4898-85fc-b8c20c0e9b7d",
      "metadata": {
        "colab": {
          "base_uri": "https://localhost:8080/"
        },
        "id": "9cf0e76a-be23-4898-85fc-b8c20c0e9b7d",
        "outputId": "f76e0945-4a02-4a78-e315-f06d9abd983c"
      },
      "outputs": [
        {
          "name": "stdout",
          "output_type": "stream",
          "text": [
            "/content/DeepLearningHW5GAN\n"
          ]
        }
      ],
      "source": [
        "from task import *\n",
        "task = UnpairedAudioText()"
      ]
    },
    {
      "cell_type": "code",
      "execution_count": null,
      "id": "48b5c5b4-f26f-4748-ae21-609a26b0f35a",
      "metadata": {
        "id": "48b5c5b4-f26f-4748-ae21-609a26b0f35a"
      },
      "outputs": [],
      "source": [
        "train_dataloader_args = dict(batch_size=160, #feel free to change these values\n",
        "                             num_workers=4,\n",
        "                            ) if has_cuda else dict(batch_size=64)\n",
        "train_dataloader_args[\"shuffle\"] = True\n",
        "train_dataloader_args[\"collate_fn\"] = task.datasets[\"train\"].collater\n",
        "\n",
        "validation_dataloader_args = train_dataloader_args.copy()\n",
        "validation_dataloader_args[\"shuffle\"] = False\n",
        "validation_dataloader_args[\"collate_fn\"] = task.datasets[\"valid\"].collater\n",
        "\n",
        "train_dataloader = data.DataLoader(task.datasets[\"train\"], **train_dataloader_args)\n",
        "validation_dataloader = data.DataLoader(task.datasets[\"valid\"], **validation_dataloader_args)"
      ]
    },
    {
      "cell_type": "code",
      "execution_count": null,
      "id": "L050BKKY3DoD",
      "metadata": {
        "colab": {
          "base_uri": "https://localhost:8080/"
        },
        "id": "L050BKKY3DoD",
        "outputId": "d8352885-fda8-4734-bd08-4c8c136c8223"
      },
      "outputs": [
        {
          "name": "stdout",
          "output_type": "stream",
          "text": [
            "torch.Size([160, 261, 512])\n"
          ]
        }
      ],
      "source": [
        "for x in train_dataloader:\n",
        "  print(x['net_input']['features'].shape)\n",
        "  break"
      ]
    },
    {
      "cell_type": "markdown",
      "id": "XVawLoVc-X8J",
      "metadata": {
        "id": "XVawLoVc-X8J"
      },
      "source": [
        "# Model and Training Configurations"
      ]
    },
    {
      "cell_type": "markdown",
      "id": "PrUXnHLM-fjp",
      "metadata": {
        "id": "PrUXnHLM-fjp"
      },
      "source": [
        "You need to complete the TODOs in `model/wav2vec_u.py` before you run this cell. You can use the original codebase as a refernce to complete this.\n",
        "Original Codebase: https://github.com/pytorch/fairseq/blob/main/examples/wav2vec/unsupervised/\n"
      ]
    },
    {
      "cell_type": "code",
      "execution_count": null,
      "id": "11242dfc-d46b-4c96-b49a-474d4ce21415",
      "metadata": {
        "id": "11242dfc-d46b-4c96-b49a-474d4ce21415"
      },
      "outputs": [],
      "source": [
        "from model import Wav2vec_U\n",
        "\n",
        "model = Wav2vec_U(task.target_dictionary).to(device)\n",
        "print(model)"
      ]
    },
    {
      "cell_type": "markdown",
      "id": "gvYhE31qF09H",
      "metadata": {
        "id": "gvYhE31qF09H"
      },
      "source": [
        "For a GAN, you need optimizers for both the discriminator and the generator. Configure the optimizers according to fairseq's configuration given in the link:\n",
        "https://github.com/pytorch/fairseq/blob/main/examples/wav2vec/unsupervised/config/gan/w2vu.yaml\n"
      ]
    },
    {
      "cell_type": "code",
      "execution_count": 32,
      "id": "5c4d1cf5-e9b8-46d6-a031-bc3c63607fc4",
      "metadata": {
        "id": "5c4d1cf5-e9b8-46d6-a031-bc3c63607fc4"
      },
      "outputs": [],
      "source": [
        "from itertools import chain\n",
        "\n",
        "num_epochs = 1000\n",
        "epoch_start = 1\n",
        "\n",
        "if epoch_start == 1:\n",
        "    # define 2 optimizers for different parts of the model at the start of the training\n",
        "    optimizer = {\n",
        "      \"discriminator\": optim.Adam(model.discriminator.parameters(),\n",
        "                                  # TODO: define lr, weight decay, betas and other relavant parameters\n",
        "                                  lr = 0.0005, betas=(0.5, 0.98), eps=1e-06, weight_decay=0.0001\n",
        "                                 ),\n",
        "      \"generator\": optim.Adam(chain(model.generator.parameters(), model.segmenter.parameters()),\n",
        "                              # TODO: define lr, weight decay, betas and other relavant parameters\n",
        "                               lr = 0.0004, betas=(0.5, 0.98), eps=1e-06, weight_decay=0.0\n",
        "                              )\n",
        "    }\n",
        "    \n",
        "# Optional TODO: Consider using mixed-precision to speed up training\n",
        "scaler      = torch.cuda.amp.GradScaler()"
      ]
    },
    {
      "cell_type": "markdown",
      "id": "6pJtsdZqFBBt",
      "metadata": {
        "id": "6pJtsdZqFBBt"
      },
      "source": [
        "A bunch of TODOs in the next cell. <br><br>\n",
        "Tip: Instead of completing whole `run_model` function and the debugging while running the experiment section, you can create a new cell and code your own sanity check. It may help you to understand what is returned from the dataloader, what needs to be pushed to the device, how model is called and what `loss_stats` are."
      ]
    },
    {
      "cell_type": "code",
      "execution_count": 33,
      "id": "899ce50f-c973-46b1-b9c2-6a49bfbf0fab",
      "metadata": {
        "id": "899ce50f-c973-46b1-b9c2-6a49bfbf0fab"
      },
      "outputs": [],
      "source": [
        "# Hint: You may find pdb to be a great tool in helping you understand returned values\n",
        "# from the dataloader and the model. Usage:\n",
        "# import pdb\n",
        "# pdb.set_trace()\n",
        "\n",
        "def run_model(model, dataloader, optimizer):\n",
        "    cumulative_stats = dict()\n",
        "    # model.set_num_updates(1)\n",
        "\n",
        "    for data in tqdm(dataloader, desc=\"Train\" if model.training else \"Eval \"):\n",
        "        net_input = data['net_input']\n",
        "        #net_input = dict()\n",
        "        net_input['features'] = net_input['features'].to(device)\n",
        "        net_input['padding_mask'] = net_input['padding_mask'].to(device)\n",
        "        \n",
        "        data['net_input'] = net_input\n",
        "\n",
        "        # What are the keys and values obtained from the data loader?\n",
        "        # TODO: move all tensors to GPU\n",
        "        # Tip: Checking what is inside net_input might help\n",
        "\n",
        "\n",
        "        loss_stats = dict()\n",
        "\n",
        "        if model.training:\n",
        "            net_input['random_label'] = net_input['random_label'].to(device)\n",
        "            # TODO: We are training the model. Might need to do something with the optimizer?\n",
        "            # Remember that you are training a GAN. Both optimizers won't be used at the same time.\n",
        "            # You may have to write an if statement or something similar to use the specific optimizer.\n",
        "            # You may have to use the discrim_step() attribute in the Wav2vec_U class\n",
        "            # curr_optimizer = optimizer[model.get_groups_for_update()]\n",
        "            if model.discrim_step(model.update_num):\n",
        "                optimizer['discriminator'].zero_grad()\n",
        "            else:\n",
        "                optimizer['generator'].zero_grad()\n",
        "            # curr_optimizer.zero_grad()\n",
        "\n",
        "            with torch.cuda.amp.autocast():\n",
        "              loss_stats = model(**net_input) # forward pass\n",
        "              \n",
        "            total_loss = 0.0 \n",
        "            for loss_type, loss_value in loss_stats['losses'].items():\n",
        "              if loss_value is None:\n",
        "                  continue\n",
        "              else:\n",
        "                  total_loss += loss_value\n",
        "            total_loss /= net_input[\"features\"].size(0) # average by batch\n",
        "\n",
        "            group = model.get_groups_for_update() # told generator or de\n",
        "            #print(\"Group Is\")\n",
        "            #print(group)\n",
        "            # Look at what the get_groups_for_update() function does in the Wav2vec_U class\n",
        "            # Can you try to think how you can use discrim_step() previously?\n",
        "\n",
        "            # TODO: backprop loss and run the corresponding optimizer (Tip: See what 'group' is)\n",
        "            scaler.scale(total_loss).backward()\n",
        "            scaler.step(optimizer[group])\n",
        "            scaler.update()\n",
        "            #torch.nn.utils.clip_grad_norm_(model.parameters(), 5.0)\n",
        "\n",
        "            # model.set_num_updates(model.update_num+1)\n",
        "            torch.cuda.empty_cache()\n",
        "\n",
        "        else:\n",
        "            # validation\n",
        "            loss_stats = task.valid_step(data, model)\n",
        "\n",
        "\n",
        "        # accumulate batch stats\n",
        "        for k, v in loss_stats.items():\n",
        "            if type(v) is dict:\n",
        "                # flatten inner dictionary\n",
        "                key_value_pairs = [(k + \"_\" + kn, vn) for kn, vn in v.items()]\n",
        "            else:\n",
        "                key_value_pairs = [(k, v)]\n",
        "\n",
        "          # TODO: accmulate all statistics into cumulative_stats, a dictionary\n",
        "          # NOTE: you should convert any returned tensors to either values or numpy arrays\n",
        "          # cumulative_stats shouldn't have nested dictionaries\n",
        "            for i in range(len(key_value_pairs)):\n",
        "              cum_key, cum_value = key_value_pairs[i]\n",
        "              if cum_key not in cumulative_stats.keys():\n",
        "                cumulative_stats[cum_key] = 0\n",
        "              \n",
        "              if cum_value is None:\n",
        "                continue\n",
        "              if torch.is_tensor(cum_value):\n",
        "                cumulative_stats[cum_key] += cum_value.cpu().detach().numpy()\n",
        "              else:\n",
        "                cumulative_stats[cum_key] += cum_value\n",
        "    \n",
        "    # average stats over the dataset\n",
        "    # Note that some metrics are already averaged over batch, so the result won't make sense\n",
        "    # You can fix them if needed\n",
        "    for k, v in cumulative_stats.items():\n",
        "        if v is not None:\n",
        "            v = v / len(dataloader.dataset)\n",
        "        if type(v) is np.ndarray:\n",
        "            v = v.tolist()\n",
        "        cumulative_stats[k] = v\n",
        "\n",
        "    return cumulative_stats"
      ]
    },
    {
      "cell_type": "code",
      "execution_count": 34,
      "id": "2Vr-KHerH2yP",
      "metadata": {
        "id": "2Vr-KHerH2yP"
      },
      "outputs": [],
      "source": [
        "def save_model(model, optimizer, metric, epoch, path):\n",
        "    torch.save(\n",
        "        {'model_state_dict'         : model.state_dict(),\n",
        "         'd_optimizer_state_dict'   : optimizer[\"discriminator\"].state_dict(),\n",
        "         \"g_optimizer_state_dict\"   : optimizer[\"generator\"].state_dict(),\n",
        "        #  'scheduler_state_dict'     : scheduler.state_dict(),\n",
        "          'distance'                  : metric, \n",
        "         'epoch'                    : epoch}, \n",
        "         path\n",
        "    )\n",
        "\n",
        "def load_model(path, model, d_optimizer= None, g_optimizer= None, scheduler= None):\n",
        "\n",
        "    checkpoint = torch.load(path)\n",
        "    model.load_state_dict(checkpoint['model_state_dict'])\n",
        "\n",
        "    if d_optimizer != None and g_optimizer != None:\n",
        "        d_optimizer.load_state_dict(checkpoint['d_optimizer_state_dict'])\n",
        "        g_optimizer.load_state_dict(checkpoint['g_optimizer_state_dict'])\n",
        "    if scheduler != None:\n",
        "        scheduler.load_state_dict(checkpoint['scheduler_state_dict'])\n",
        "        \n",
        "    epoch   = checkpoint['epoch']\n",
        "    metric  = checkpoint['distance']\n",
        "\n",
        "    return [model, optimizer, scheduler, epoch, metric]"
      ]
    },
    {
      "cell_type": "markdown",
      "id": "-P7cxaSNGi8w",
      "metadata": {
        "id": "-P7cxaSNGi8w"
      },
      "source": [
        "# Experiments"
      ]
    },
    {
      "cell_type": "code",
      "execution_count": null,
      "id": "W9xVB0leKxTy",
      "metadata": {
        "colab": {
          "base_uri": "https://localhost:8080/"
        },
        "id": "W9xVB0leKxTy",
        "outputId": "7463b2c9-cf02-4f99-e435-cae45656bbdc"
      },
      "outputs": [
        {
          "name": "stderr",
          "output_type": "stream",
          "text": [
            "\u001b[34m\u001b[1mwandb\u001b[0m: Currently logged in as: \u001b[33mwenxinz3\u001b[0m (\u001b[33msharonxin1207\u001b[0m). Use \u001b[1m`wandb login --relogin`\u001b[0m to force relogin\n",
            "\u001b[34m\u001b[1mwandb\u001b[0m: \u001b[33mWARNING\u001b[0m If you're specifying your api key in code, ensure this code is not shared publicly.\n",
            "\u001b[34m\u001b[1mwandb\u001b[0m: \u001b[33mWARNING\u001b[0m Consider setting the WANDB_API_KEY environment variable, or running `wandb login` from the command line.\n",
            "\u001b[34m\u001b[1mwandb\u001b[0m: Appending key for api.wandb.ai to your netrc file: /root/.netrc\n"
          ]
        },
        {
          "data": {
            "text/plain": [
              "True"
            ]
          },
          "execution_count": 14,
          "metadata": {},
          "output_type": "execute_result"
        }
      ],
      "source": [
        "# Login to Wandb\n",
        "# Initialize your Wandb Run Here\n",
        "# Save your model architecture in a txt file, and save the file to Wandb\n",
        "import wandb\n",
        "wandb.login(key=\"27ad915a9386068b1fc160cd97b84be7ba1fe659\") #API Key is in your wandb account, under settings (wandb.ai/settings)"
      ]
    },
    {
      "cell_type": "code",
      "execution_count": 35,
      "id": "v3ptbTIXKycc",
      "metadata": {
        "colab": {
          "base_uri": "https://localhost:8080/",
          "height": 345
        },
        "id": "v3ptbTIXKycc",
        "outputId": "0b03ba75-4128-4dc8-a0b2-12bb3327f12b"
      },
      "outputs": [
        {
          "data": {
            "text/html": [
              "Finishing last run (ID:zbr58qjv) before initializing another..."
            ],
            "text/plain": [
              "<IPython.core.display.HTML object>"
            ]
          },
          "metadata": {},
          "output_type": "display_data"
        },
        {
          "data": {
            "text/html": [
              "Waiting for W&B process to finish... <strong style=\"color:green\">(success).</strong>"
            ],
            "text/plain": [
              "<IPython.core.display.HTML object>"
            ]
          },
          "metadata": {},
          "output_type": "display_data"
        },
        {
          "data": {
            "text/html": [
              "<style>\n",
              "    table.wandb td:nth-child(1) { padding: 0 10px; text-align: left ; width: auto;} td:nth-child(2) {text-align: left ; width: 100%}\n",
              "    .wandb-row { display: flex; flex-direction: row; flex-wrap: wrap; justify-content: flex-start; width: 100% }\n",
              "    .wandb-col { display: flex; flex-direction: column; flex-basis: 100%; flex: 1; padding: 10px; }\n",
              "    </style>\n",
              "<div class=\"wandb-row\"><div class=\"wandb-col\"><h3>Run history:</h3><br/><table class=\"wandb\"><tr><td>edit_distance</td><td>▄▃▅▅▇▂▁▂▄▃▅▄▅▃▅▃▆▄▃▃▄█▄▅▁▄▅▁▃▇▅▅▃▃▄▆▄▅▃▅</td></tr></table><br/></div><div class=\"wandb-col\"><h3>Run summary:</h3><br/><table class=\"wandb\"><tr><td>edit_distance</td><td>42.409</td></tr></table><br/></div></div>"
            ],
            "text/plain": [
              "<IPython.core.display.HTML object>"
            ]
          },
          "metadata": {},
          "output_type": "display_data"
        },
        {
          "data": {
            "text/html": [
              " View run <strong style=\"color:#cdcd00\">run-basic-finetune</strong> at: <a href='https://wandb.ai/sharonxin1207/hw5-ablations/runs/zbr58qjv' target=\"_blank\">https://wandb.ai/sharonxin1207/hw5-ablations/runs/zbr58qjv</a><br/>Synced 5 W&B file(s), 0 media file(s), 0 artifact file(s) and 0 other file(s)"
            ],
            "text/plain": [
              "<IPython.core.display.HTML object>"
            ]
          },
          "metadata": {},
          "output_type": "display_data"
        },
        {
          "data": {
            "text/html": [
              "Find logs at: <code>./wandb/run-20230501_175811-zbr58qjv/logs</code>"
            ],
            "text/plain": [
              "<IPython.core.display.HTML object>"
            ]
          },
          "metadata": {},
          "output_type": "display_data"
        },
        {
          "data": {
            "text/html": [
              "Successfully finished last run (ID:zbr58qjv). Initializing new run:<br/>"
            ],
            "text/plain": [
              "<IPython.core.display.HTML object>"
            ]
          },
          "metadata": {},
          "output_type": "display_data"
        },
        {
          "data": {
            "text/html": [
              "wandb version 0.15.1 is available!  To upgrade, please run:\n",
              " $ pip install wandb --upgrade"
            ],
            "text/plain": [
              "<IPython.core.display.HTML object>"
            ]
          },
          "metadata": {},
          "output_type": "display_data"
        },
        {
          "data": {
            "text/html": [
              "Tracking run with wandb version 0.14.2"
            ],
            "text/plain": [
              "<IPython.core.display.HTML object>"
            ]
          },
          "metadata": {},
          "output_type": "display_data"
        },
        {
          "data": {
            "text/html": [
              "Run data is saved locally in <code>/content/DeepLearningHW5GAN/wandb/run-20230502_201927-9nqqrx2c</code>"
            ],
            "text/plain": [
              "<IPython.core.display.HTML object>"
            ]
          },
          "metadata": {},
          "output_type": "display_data"
        },
        {
          "data": {
            "text/html": [
              "Syncing run <strong><a href='https://wandb.ai/sharonxin1207/hw5-ablations/runs/9nqqrx2c' target=\"_blank\">run-0.5dropout</a></strong> to <a href='https://wandb.ai/sharonxin1207/hw5-ablations' target=\"_blank\">Weights & Biases</a> (<a href='https://wandb.me/run' target=\"_blank\">docs</a>)<br/>"
            ],
            "text/plain": [
              "<IPython.core.display.HTML object>"
            ]
          },
          "metadata": {},
          "output_type": "display_data"
        },
        {
          "data": {
            "text/html": [
              " View project at <a href='https://wandb.ai/sharonxin1207/hw5-ablations' target=\"_blank\">https://wandb.ai/sharonxin1207/hw5-ablations</a>"
            ],
            "text/plain": [
              "<IPython.core.display.HTML object>"
            ]
          },
          "metadata": {},
          "output_type": "display_data"
        },
        {
          "data": {
            "text/html": [
              " View run at <a href='https://wandb.ai/sharonxin1207/hw5-ablations/runs/9nqqrx2c' target=\"_blank\">https://wandb.ai/sharonxin1207/hw5-ablations/runs/9nqqrx2c</a>"
            ],
            "text/plain": [
              "<IPython.core.display.HTML object>"
            ]
          },
          "metadata": {},
          "output_type": "display_data"
        }
      ],
      "source": [
        "run = wandb.init(\n",
        "    name = \"run-hw5\", ## Wandb creates random run names if you skip this field\n",
        "    reinit = True, ### Allows reinitalizing runs when you re-run this cell\n",
        "    # run_id = ### Insert specific run id here if you want to resume a previous run\n",
        "    # resume = \"allow\", ### You need this to resume previous runs, but comment out reinit = True when using this\n",
        "    project = \"hw5-ablations\", ### Project should be created in your wandb account \n",
        "    # config = config ### Wandb Config for your run\n",
        ")"
      ]
    },
    {
      "cell_type": "code",
      "execution_count": null,
      "id": "uEBdHEAU27LH",
      "metadata": {
        "id": "uEBdHEAU27LH"
      },
      "outputs": [],
      "source": [
        "epoch_start = 1\n",
        "num_epochs = 2000\n",
        "best_dist = 100\n",
        "eval_interval = 5 # evaluation after how many epochs?"
      ]
    },
    {
      "cell_type": "code",
      "execution_count": 22,
      "id": "DRucqMVkx-gE",
      "metadata": {
        "id": "DRucqMVkx-gE"
      },
      "outputs": [],
      "source": [
        "RELOAD = False\n",
        "reload_path = 'gan_1780.pt'\n",
        "if RELOAD:\n",
        "  model, optimizer, scheduler, epoch, best_dist = load_model(\n",
        "      reload_path, model, optimizer[\"discriminator\"], optimizer[\"generator\"])\n",
        "  epoch_start = epoch"
      ]
    },
    {
      "cell_type": "code",
      "execution_count": 36,
      "id": "09a4fe6c-a9e4-4c6e-9483-4fc4e1f5d3f9",
      "metadata": {
        "colab": {
          "base_uri": "https://localhost:8080/"
        },
        "id": "09a4fe6c-a9e4-4c6e-9483-4fc4e1f5d3f9",
        "outputId": "0a04bf53-0326-40de-c0bf-5a9242c7210c"
      },
      "outputs": [
        {
          "name": "stderr",
          "output_type": "stream",
          "text": [
            "Training for 1000 epochs\n",
            "Epoch 1\n",
            "Train: 100%|██████████| 82/82 [00:25<00:00,  3.24it/s]\n",
            "Epoch 2\n",
            "Train: 100%|██████████| 82/82 [00:20<00:00,  3.94it/s]\n",
            "Epoch 3\n",
            "Train: 100%|██████████| 82/82 [00:23<00:00,  3.47it/s]\n",
            "Epoch 4\n",
            "Train: 100%|██████████| 82/82 [00:20<00:00,  4.01it/s]\n",
            "Eval : 100%|██████████| 7/7 [00:02<00:00,  3.25it/s]\n",
            "Epoch 5\n"
          ]
        },
        {
          "name": "stdout",
          "output_type": "stream",
          "text": [
            "Saving model...\n",
            "{'edit_distance': 113.971, '_num_chars': 125.089, '_num_pred_chars': 48.912, 'nsentences': 1.0, '_world_size': 0.007, '_lm_score_sum': 0.0, '_kaldi_score_sum': 0.0, '_word_lm_sum': 0.0, '_num_words': 0.0, '_vocab_seen': [0.007, 0.007, 0.007, 0.007, 0.007, 0.007, 0.007, 0.0, 0.007, 0.001, 0.007, 0.003, 0.003, 0.003, 0.0, 0.007, 0.007, 0.007, 0.007, 0.007, 0.007, 0.0, 0.007, 0.007, 0.007, 0.007, 0.007, 0.007, 0.005, 0.007, 0.007, 0.002, 0.007, 0.007, 0.003, 0.006, 0.001, 0.007, 0.007, 0.001, 0.006, 0.007, 0.007, 0.007, 0.007, 0.007, 0.007, 0.0, 0.007, 0.002, 0.007, 0.007, 0.007, 0.007, 0.0, 0.007, 0.007, 0.007, 0.007, 0.0]}\n"
          ]
        },
        {
          "name": "stderr",
          "output_type": "stream",
          "text": [
            "Train: 100%|██████████| 82/82 [00:22<00:00,  3.63it/s]\n",
            "Epoch 6\n",
            "Train: 100%|██████████| 82/82 [00:20<00:00,  4.00it/s]\n",
            "Epoch 7\n",
            "Train: 100%|██████████| 82/82 [00:21<00:00,  3.76it/s]\n",
            "Epoch 8\n",
            "Train: 100%|██████████| 82/82 [00:19<00:00,  4.11it/s]\n",
            "Epoch 9\n",
            "Train: 100%|██████████| 82/82 [00:21<00:00,  3.84it/s]\n",
            "Eval : 100%|██████████| 7/7 [00:02<00:00,  3.32it/s]\n",
            "Epoch 10\n"
          ]
        },
        {
          "name": "stdout",
          "output_type": "stream",
          "text": [
            "Saving model...\n",
            "{'edit_distance': 115.719, '_num_chars': 125.089, '_num_pred_chars': 34.486, 'nsentences': 1.0, '_world_size': 0.007, '_lm_score_sum': 0.0, '_kaldi_score_sum': 0.0, '_word_lm_sum': 0.0, '_num_words': 0.0, '_vocab_seen': [0.007, 0.007, 0.007, 0.007, 0.007, 0.007, 0.007, 0.007, 0.007, 0.007, 0.007, 0.007, 0.0, 0.0, 0.0, 0.007, 0.003, 0.001, 0.007, 0.0, 0.007, 0.0, 0.007, 0.007, 0.007, 0.001, 0.0, 0.007, 0.005, 0.004, 0.007, 0.0, 0.007, 0.007, 0.004, 0.0, 0.0, 0.007, 0.002, 0.0, 0.0, 0.007, 0.007, 0.007, 0.007, 0.001, 0.007, 0.007, 0.007, 0.002, 0.0, 0.0, 0.006, 0.007, 0.007, 0.0, 0.001, 0.0, 0.0, 0.0]}\n"
          ]
        },
        {
          "name": "stderr",
          "output_type": "stream",
          "text": [
            "Train: 100%|██████████| 82/82 [00:19<00:00,  4.11it/s]\n",
            "Epoch 11\n",
            "Train: 100%|██████████| 82/82 [00:21<00:00,  3.82it/s]\n",
            "Epoch 12\n",
            "Train: 100%|██████████| 82/82 [00:19<00:00,  4.13it/s]\n",
            "Epoch 13\n",
            "Train: 100%|██████████| 82/82 [00:21<00:00,  3.85it/s]\n",
            "Epoch 14\n",
            "Train: 100%|██████████| 82/82 [00:19<00:00,  4.15it/s]\n",
            "Eval : 100%|██████████| 7/7 [00:02<00:00,  3.23it/s]\n",
            "Epoch 15\n"
          ]
        },
        {
          "name": "stdout",
          "output_type": "stream",
          "text": [
            "Saving model...\n",
            "{'edit_distance': 111.545, '_num_chars': 125.089, '_num_pred_chars': 39.082, 'nsentences': 1.0, '_world_size': 0.007, '_lm_score_sum': 0.0, '_kaldi_score_sum': 0.0, '_word_lm_sum': 0.0, '_num_words': 0.0, '_vocab_seen': [0.007, 0.007, 0.007, 0.007, 0.007, 0.007, 0.007, 0.007, 0.007, 0.007, 0.007, 0.007, 0.007, 0.007, 0.007, 0.007, 0.007, 0.007, 0.007, 0.007, 0.007, 0.007, 0.007, 0.007, 0.007, 0.007, 0.007, 0.007, 0.007, 0.007, 0.007, 0.0, 0.007, 0.007, 0.007, 0.007, 0.002, 0.007, 0.007, 0.0, 0.001, 0.007, 0.007, 0.007, 0.007, 0.006, 0.007, 0.007, 0.007, 0.004, 0.0, 0.0, 0.0, 0.007, 0.0, 0.007, 0.0, 0.0, 0.005, 0.0]}\n"
          ]
        },
        {
          "name": "stderr",
          "output_type": "stream",
          "text": [
            "Train: 100%|██████████| 82/82 [00:21<00:00,  3.81it/s]\n",
            "Epoch 16\n",
            "Train: 100%|██████████| 82/82 [00:19<00:00,  4.15it/s]\n",
            "Epoch 17\n",
            "Train: 100%|██████████| 82/82 [00:21<00:00,  3.82it/s]\n",
            "Epoch 18\n",
            "Train: 100%|██████████| 82/82 [00:19<00:00,  4.12it/s]\n",
            "Epoch 19\n",
            "Train: 100%|██████████| 82/82 [00:21<00:00,  3.85it/s]\n",
            "Eval : 100%|██████████| 7/7 [00:02<00:00,  3.22it/s]\n",
            "Epoch 20\n"
          ]
        },
        {
          "name": "stdout",
          "output_type": "stream",
          "text": [
            "Saving model...\n",
            "{'edit_distance': 110.014, '_num_chars': 125.089, '_num_pred_chars': 40.031, 'nsentences': 1.0, '_world_size': 0.007, '_lm_score_sum': 0.0, '_kaldi_score_sum': 0.0, '_word_lm_sum': 0.0, '_num_words': 0.0, '_vocab_seen': [0.007, 0.007, 0.007, 0.007, 0.007, 0.007, 0.007, 0.007, 0.007, 0.007, 0.007, 0.007, 0.007, 0.007, 0.007, 0.007, 0.006, 0.007, 0.007, 0.007, 0.007, 0.007, 0.007, 0.007, 0.007, 0.007, 0.0, 0.007, 0.007, 0.007, 0.007, 0.006, 0.0, 0.007, 0.007, 0.0, 0.002, 0.007, 0.007, 0.0, 0.0, 0.007, 0.0, 0.0, 0.0, 0.007, 0.0, 0.0, 0.0, 0.0, 0.0, 0.0, 0.0, 0.007, 0.0, 0.001, 0.0, 0.0, 0.0, 0.0]}\n"
          ]
        },
        {
          "name": "stderr",
          "output_type": "stream",
          "text": [
            "Train: 100%|██████████| 82/82 [00:19<00:00,  4.16it/s]\n",
            "Epoch 21\n",
            "Train: 100%|██████████| 82/82 [00:21<00:00,  3.84it/s]\n",
            "Epoch 22\n",
            "Train: 100%|██████████| 82/82 [00:19<00:00,  4.13it/s]\n",
            "Epoch 23\n",
            "Train: 100%|██████████| 82/82 [00:21<00:00,  3.89it/s]\n",
            "Epoch 24\n",
            "Train: 100%|██████████| 82/82 [00:19<00:00,  4.16it/s]\n",
            "Eval : 100%|██████████| 7/7 [00:02<00:00,  3.23it/s]\n",
            "Epoch 25\n"
          ]
        },
        {
          "name": "stdout",
          "output_type": "stream",
          "text": [
            "Saving model...\n",
            "{'edit_distance': 109.392, '_num_chars': 125.089, '_num_pred_chars': 46.638, 'nsentences': 1.0, '_world_size': 0.007, '_lm_score_sum': 0.0, '_kaldi_score_sum': 0.0, '_word_lm_sum': 0.0, '_num_words': 0.0, '_vocab_seen': [0.007, 0.007, 0.007, 0.007, 0.007, 0.007, 0.007, 0.007, 0.007, 0.007, 0.007, 0.007, 0.007, 0.007, 0.007, 0.007, 0.007, 0.007, 0.007, 0.007, 0.007, 0.007, 0.007, 0.007, 0.007, 0.007, 0.007, 0.007, 0.0, 0.007, 0.007, 0.007, 0.0, 0.007, 0.007, 0.0, 0.007, 0.007, 0.007, 0.0, 0.007, 0.007, 0.0, 0.0, 0.0, 0.007, 0.0, 0.0, 0.0, 0.0, 0.0, 0.0, 0.0, 0.0, 0.0, 0.002, 0.0, 0.0, 0.0, 0.0]}\n"
          ]
        },
        {
          "name": "stderr",
          "output_type": "stream",
          "text": [
            "Train: 100%|██████████| 82/82 [00:21<00:00,  3.79it/s]\n",
            "Epoch 26\n",
            "Train: 100%|██████████| 82/82 [00:19<00:00,  4.13it/s]\n",
            "Epoch 27\n",
            "Train: 100%|██████████| 82/82 [00:21<00:00,  3.74it/s]\n",
            "Epoch 28\n",
            "Train: 100%|██████████| 82/82 [00:19<00:00,  4.13it/s]\n",
            "Epoch 29\n",
            "Train: 100%|██████████| 82/82 [00:22<00:00,  3.70it/s]\n",
            "Eval : 100%|██████████| 7/7 [00:02<00:00,  3.20it/s]\n",
            "Epoch 30\n"
          ]
        },
        {
          "name": "stdout",
          "output_type": "stream",
          "text": [
            "Saving model...\n",
            "{'edit_distance': 105.993, '_num_chars': 125.089, '_num_pred_chars': 71.489, 'nsentences': 1.0, '_world_size': 0.007, '_lm_score_sum': 0.0, '_kaldi_score_sum': 0.0, '_word_lm_sum': 0.0, '_num_words': 0.0, '_vocab_seen': [0.007, 0.007, 0.007, 0.007, 0.007, 0.007, 0.007, 0.007, 0.007, 0.007, 0.007, 0.007, 0.007, 0.007, 0.0, 0.007, 0.007, 0.007, 0.007, 0.007, 0.007, 0.007, 0.007, 0.007, 0.007, 0.007, 0.007, 0.007, 0.007, 0.007, 0.007, 0.007, 0.0, 0.007, 0.007, 0.0, 0.0, 0.007, 0.007, 0.0, 0.0, 0.007, 0.0, 0.0, 0.0, 0.007, 0.0, 0.0, 0.0, 0.0, 0.0, 0.0, 0.0, 0.0, 0.0, 0.0, 0.0, 0.0, 0.0, 0.0]}\n"
          ]
        },
        {
          "name": "stderr",
          "output_type": "stream",
          "text": [
            "Train: 100%|██████████| 82/82 [00:20<00:00,  4.09it/s]\n",
            "Epoch 31\n",
            "Train: 100%|██████████| 82/82 [00:22<00:00,  3.64it/s]\n",
            "Epoch 32\n",
            "Train: 100%|██████████| 82/82 [00:20<00:00,  4.10it/s]\n",
            "Epoch 33\n",
            "Train: 100%|██████████| 82/82 [00:22<00:00,  3.58it/s]\n",
            "Epoch 34\n",
            "Train: 100%|██████████| 82/82 [00:20<00:00,  4.01it/s]\n",
            "Eval : 100%|██████████| 7/7 [00:02<00:00,  3.02it/s]\n",
            "Epoch 35\n"
          ]
        },
        {
          "name": "stdout",
          "output_type": "stream",
          "text": [
            "Saving model...\n",
            "{'edit_distance': 115.754, '_num_chars': 125.089, '_num_pred_chars': 123.316, 'nsentences': 1.0, '_world_size': 0.007, '_lm_score_sum': 0.0, '_kaldi_score_sum': 0.0, '_word_lm_sum': 0.0, '_num_words': 0.0, '_vocab_seen': [0.007, 0.007, 0.007, 0.007, 0.007, 0.007, 0.007, 0.007, 0.007, 0.007, 0.007, 0.007, 0.007, 0.007, 0.001, 0.007, 0.007, 0.007, 0.007, 0.007, 0.007, 0.007, 0.007, 0.007, 0.007, 0.007, 0.007, 0.007, 0.007, 0.0, 0.007, 0.007, 0.0, 0.007, 0.007, 0.0, 0.0, 0.007, 0.007, 0.0, 0.007, 0.007, 0.006, 0.007, 0.007, 0.007, 0.0, 0.0, 0.0, 0.0, 0.0, 0.0, 0.0, 0.0, 0.007, 0.0, 0.0, 0.0, 0.0, 0.0]}\n"
          ]
        },
        {
          "name": "stderr",
          "output_type": "stream",
          "text": [
            "Train: 100%|██████████| 82/82 [00:24<00:00,  3.40it/s]\n",
            "Epoch 36\n",
            "Train: 100%|██████████| 82/82 [00:20<00:00,  4.00it/s]\n",
            "Epoch 37\n",
            "Train: 100%|██████████| 82/82 [00:24<00:00,  3.32it/s]\n",
            "Epoch 38\n",
            "Train: 100%|██████████| 82/82 [00:20<00:00,  4.00it/s]\n",
            "Epoch 39\n",
            "Train: 100%|██████████| 82/82 [00:24<00:00,  3.40it/s]\n",
            "Eval : 100%|██████████| 7/7 [00:02<00:00,  3.22it/s]\n",
            "Epoch 40\n"
          ]
        },
        {
          "name": "stdout",
          "output_type": "stream",
          "text": [
            "Saving model...\n",
            "{'edit_distance': 115.046, '_num_chars': 125.089, '_num_pred_chars': 124.932, 'nsentences': 1.0, '_world_size': 0.007, '_lm_score_sum': 0.0, '_kaldi_score_sum': 0.0, '_word_lm_sum': 0.0, '_num_words': 0.0, '_vocab_seen': [0.007, 0.007, 0.007, 0.007, 0.007, 0.007, 0.007, 0.007, 0.007, 0.007, 0.007, 0.007, 0.007, 0.007, 0.007, 0.007, 0.007, 0.007, 0.007, 0.007, 0.007, 0.007, 0.007, 0.007, 0.0, 0.0, 0.007, 0.007, 0.007, 0.007, 0.007, 0.007, 0.0, 0.007, 0.007, 0.007, 0.007, 0.007, 0.007, 0.0, 0.002, 0.007, 0.0, 0.005, 0.0, 0.007, 0.0, 0.0, 0.0, 0.0, 0.0, 0.0, 0.0, 0.0, 0.007, 0.0, 0.0, 0.0, 0.0, 0.0]}\n"
          ]
        },
        {
          "name": "stderr",
          "output_type": "stream",
          "text": [
            "Train: 100%|██████████| 82/82 [00:20<00:00,  3.96it/s]\n",
            "Epoch 41\n",
            "Train: 100%|██████████| 82/82 [00:24<00:00,  3.31it/s]\n",
            "Epoch 42\n",
            "Train: 100%|██████████| 82/82 [00:20<00:00,  3.94it/s]\n",
            "Epoch 43\n",
            "Train: 100%|██████████| 82/82 [00:24<00:00,  3.31it/s]\n",
            "Epoch 44\n",
            "Train: 100%|██████████| 82/82 [00:20<00:00,  3.98it/s]\n",
            "Eval : 100%|██████████| 7/7 [00:02<00:00,  3.13it/s]\n",
            "Epoch 45\n"
          ]
        },
        {
          "name": "stdout",
          "output_type": "stream",
          "text": [
            "Saving model...\n",
            "{'edit_distance': 119.087, '_num_chars': 125.089, '_num_pred_chars': 134.357, 'nsentences': 1.0, '_world_size': 0.007, '_lm_score_sum': 0.0, '_kaldi_score_sum': 0.0, '_word_lm_sum': 0.0, '_num_words': 0.0, '_vocab_seen': [0.007, 0.007, 0.007, 0.007, 0.007, 0.007, 0.007, 0.007, 0.007, 0.007, 0.007, 0.007, 0.007, 0.007, 0.007, 0.007, 0.007, 0.007, 0.007, 0.007, 0.007, 0.007, 0.007, 0.007, 0.001, 0.0, 0.007, 0.007, 0.007, 0.007, 0.007, 0.007, 0.0, 0.007, 0.007, 0.007, 0.0, 0.007, 0.007, 0.007, 0.0, 0.007, 0.0, 0.007, 0.0, 0.007, 0.007, 0.0, 0.0, 0.0, 0.0, 0.0, 0.0, 0.0, 0.006, 0.0, 0.0, 0.0, 0.0, 0.0]}\n"
          ]
        },
        {
          "name": "stderr",
          "output_type": "stream",
          "text": [
            "Train: 100%|██████████| 82/82 [00:24<00:00,  3.31it/s]\n",
            "Epoch 46\n",
            "Train: 100%|██████████| 82/82 [00:20<00:00,  3.97it/s]\n",
            "Epoch 47\n",
            "Train: 100%|██████████| 82/82 [00:24<00:00,  3.37it/s]\n",
            "Epoch 48\n",
            "Train: 100%|██████████| 82/82 [00:20<00:00,  3.97it/s]\n",
            "Epoch 49\n",
            "Train: 100%|██████████| 82/82 [00:24<00:00,  3.35it/s]\n",
            "Eval : 100%|██████████| 7/7 [00:02<00:00,  3.23it/s]\n",
            "Epoch 50\n"
          ]
        },
        {
          "name": "stdout",
          "output_type": "stream",
          "text": [
            "Saving model...\n",
            "{'edit_distance': 119.3, '_num_chars': 125.089, '_num_pred_chars': 133.842, 'nsentences': 1.0, '_world_size': 0.007, '_lm_score_sum': 0.0, '_kaldi_score_sum': 0.0, '_word_lm_sum': 0.0, '_num_words': 0.0, '_vocab_seen': [0.007, 0.007, 0.007, 0.007, 0.007, 0.007, 0.007, 0.007, 0.007, 0.007, 0.007, 0.007, 0.007, 0.007, 0.005, 0.007, 0.007, 0.007, 0.007, 0.007, 0.007, 0.007, 0.007, 0.007, 0.007, 0.007, 0.007, 0.007, 0.007, 0.0, 0.007, 0.0, 0.007, 0.007, 0.007, 0.007, 0.007, 0.007, 0.007, 0.0, 0.007, 0.0, 0.007, 0.0, 0.0, 0.0, 0.007, 0.0, 0.007, 0.0, 0.007, 0.0, 0.004, 0.0, 0.007, 0.0, 0.007, 0.0, 0.002, 0.0]}\n"
          ]
        },
        {
          "name": "stderr",
          "output_type": "stream",
          "text": [
            "Train: 100%|██████████| 82/82 [00:20<00:00,  3.94it/s]\n",
            "Epoch 51\n",
            "Train: 100%|██████████| 82/82 [00:24<00:00,  3.33it/s]\n",
            "Epoch 52\n",
            "Train: 100%|██████████| 82/82 [00:20<00:00,  4.00it/s]\n",
            "Epoch 53\n",
            "Train: 100%|██████████| 82/82 [00:24<00:00,  3.37it/s]\n",
            "Epoch 54\n",
            "Train: 100%|██████████| 82/82 [00:20<00:00,  3.97it/s]\n",
            "Eval : 100%|██████████| 7/7 [00:02<00:00,  3.21it/s]\n",
            "Epoch 55\n"
          ]
        },
        {
          "name": "stdout",
          "output_type": "stream",
          "text": [
            "Saving model...\n",
            "{'edit_distance': 119.943, '_num_chars': 125.089, '_num_pred_chars': 133.198, 'nsentences': 1.0, '_world_size': 0.007, '_lm_score_sum': 0.0, '_kaldi_score_sum': 0.0, '_word_lm_sum': 0.0, '_num_words': 0.0, '_vocab_seen': [0.007, 0.007, 0.007, 0.007, 0.007, 0.007, 0.007, 0.007, 0.007, 0.007, 0.007, 0.007, 0.007, 0.007, 0.0, 0.007, 0.007, 0.007, 0.007, 0.007, 0.007, 0.007, 0.007, 0.007, 0.001, 0.007, 0.007, 0.007, 0.007, 0.0, 0.007, 0.007, 0.007, 0.007, 0.007, 0.0, 0.007, 0.007, 0.007, 0.007, 0.0, 0.007, 0.007, 0.007, 0.0, 0.007, 0.0, 0.0, 0.0, 0.0, 0.007, 0.0, 0.005, 0.007, 0.007, 0.0, 0.007, 0.0, 0.0, 0.0]}\n"
          ]
        },
        {
          "name": "stderr",
          "output_type": "stream",
          "text": [
            "Train: 100%|██████████| 82/82 [00:24<00:00,  3.31it/s]\n",
            "Epoch 56\n",
            "Train: 100%|██████████| 82/82 [00:20<00:00,  3.98it/s]\n",
            "Epoch 57\n",
            "Train: 100%|██████████| 82/82 [00:24<00:00,  3.37it/s]\n",
            "Epoch 58\n",
            "Train: 100%|██████████| 82/82 [00:20<00:00,  4.01it/s]\n",
            "Epoch 59\n",
            "Train: 100%|██████████| 82/82 [00:24<00:00,  3.36it/s]\n",
            "Eval : 100%|██████████| 7/7 [00:02<00:00,  3.25it/s]\n",
            "Epoch 60\n"
          ]
        },
        {
          "name": "stdout",
          "output_type": "stream",
          "text": [
            "Saving model...\n",
            "{'edit_distance': 116.508, '_num_chars': 125.089, '_num_pred_chars': 130.555, 'nsentences': 1.0, '_world_size': 0.007, '_lm_score_sum': 0.0, '_kaldi_score_sum': 0.0, '_word_lm_sum': 0.0, '_num_words': 0.0, '_vocab_seen': [0.007, 0.007, 0.007, 0.007, 0.007, 0.007, 0.007, 0.007, 0.007, 0.007, 0.007, 0.007, 0.007, 0.007, 0.004, 0.007, 0.007, 0.007, 0.007, 0.007, 0.007, 0.007, 0.007, 0.007, 0.0, 0.007, 0.007, 0.007, 0.007, 0.007, 0.007, 0.007, 0.007, 0.007, 0.007, 0.007, 0.0, 0.007, 0.007, 0.0, 0.007, 0.0, 0.007, 0.0, 0.007, 0.007, 0.007, 0.0, 0.007, 0.0, 0.0, 0.0, 0.001, 0.0, 0.0, 0.0, 0.007, 0.0, 0.0, 0.0]}\n"
          ]
        },
        {
          "name": "stderr",
          "output_type": "stream",
          "text": [
            "Train: 100%|██████████| 82/82 [00:20<00:00,  4.00it/s]\n",
            "Epoch 61\n",
            "Train: 100%|██████████| 82/82 [00:23<00:00,  3.43it/s]\n",
            "Epoch 62\n",
            "Train: 100%|██████████| 82/82 [00:20<00:00,  3.97it/s]\n",
            "Epoch 63\n",
            "Train: 100%|██████████| 82/82 [00:24<00:00,  3.36it/s]\n",
            "Epoch 64\n",
            "Train: 100%|██████████| 82/82 [00:20<00:00,  3.99it/s]\n",
            "Eval : 100%|██████████| 7/7 [00:02<00:00,  3.19it/s]\n",
            "Epoch 65\n"
          ]
        },
        {
          "name": "stdout",
          "output_type": "stream",
          "text": [
            "Saving model...\n",
            "{'edit_distance': 116.415, '_num_chars': 125.089, '_num_pred_chars': 129.308, 'nsentences': 1.0, '_world_size': 0.007, '_lm_score_sum': 0.0, '_kaldi_score_sum': 0.0, '_word_lm_sum': 0.0, '_num_words': 0.0, '_vocab_seen': [0.007, 0.007, 0.007, 0.007, 0.007, 0.007, 0.007, 0.007, 0.007, 0.007, 0.007, 0.007, 0.007, 0.007, 0.0, 0.007, 0.007, 0.007, 0.007, 0.007, 0.007, 0.007, 0.007, 0.007, 0.0, 0.007, 0.007, 0.007, 0.007, 0.0, 0.0, 0.0, 0.003, 0.007, 0.007, 0.0, 0.007, 0.007, 0.007, 0.007, 0.0, 0.0, 0.007, 0.007, 0.0, 0.007, 0.0, 0.007, 0.0, 0.001, 0.007, 0.007, 0.0, 0.0, 0.0, 0.0, 0.007, 0.0, 0.0, 0.0]}\n"
          ]
        },
        {
          "name": "stderr",
          "output_type": "stream",
          "text": [
            "Train: 100%|██████████| 82/82 [00:24<00:00,  3.37it/s]\n",
            "Epoch 66\n",
            "Train: 100%|██████████| 82/82 [00:20<00:00,  4.01it/s]\n",
            "Epoch 67\n",
            "Train: 100%|██████████| 82/82 [00:24<00:00,  3.40it/s]\n",
            "Epoch 68\n",
            "Train: 100%|██████████| 82/82 [00:20<00:00,  3.99it/s]\n",
            "Epoch 69\n",
            "Train: 100%|██████████| 82/82 [00:24<00:00,  3.35it/s]\n",
            "Eval : 100%|██████████| 7/7 [00:02<00:00,  3.19it/s]\n",
            "Epoch 70\n"
          ]
        },
        {
          "name": "stdout",
          "output_type": "stream",
          "text": [
            "Saving model...\n",
            "{'edit_distance': 120.531, '_num_chars': 125.089, '_num_pred_chars': 134.506, 'nsentences': 1.0, '_world_size': 0.007, '_lm_score_sum': 0.0, '_kaldi_score_sum': 0.0, '_word_lm_sum': 0.0, '_num_words': 0.0, '_vocab_seen': [0.007, 0.007, 0.007, 0.007, 0.007, 0.007, 0.007, 0.007, 0.007, 0.007, 0.007, 0.007, 0.007, 0.007, 0.007, 0.007, 0.007, 0.007, 0.007, 0.007, 0.007, 0.007, 0.007, 0.007, 0.007, 0.007, 0.007, 0.007, 0.007, 0.007, 0.007, 0.007, 0.007, 0.007, 0.007, 0.0, 0.0, 0.007, 0.007, 0.0, 0.007, 0.007, 0.0, 0.0, 0.007, 0.007, 0.0, 0.007, 0.0, 0.007, 0.0, 0.0, 0.006, 0.0, 0.007, 0.004, 0.007, 0.007, 0.004, 0.0]}\n"
          ]
        },
        {
          "name": "stderr",
          "output_type": "stream",
          "text": [
            "Train: 100%|██████████| 82/82 [00:20<00:00,  3.96it/s]\n",
            "Epoch 71\n",
            "Train: 100%|██████████| 82/82 [00:24<00:00,  3.30it/s]\n",
            "Epoch 72\n",
            "Train: 100%|██████████| 82/82 [00:20<00:00,  4.02it/s]\n",
            "Epoch 73\n",
            "Train: 100%|██████████| 82/82 [00:24<00:00,  3.37it/s]\n",
            "Epoch 74\n",
            "Train: 100%|██████████| 82/82 [00:20<00:00,  3.95it/s]\n",
            "Eval : 100%|██████████| 7/7 [00:02<00:00,  3.16it/s]\n",
            "Epoch 75\n"
          ]
        },
        {
          "name": "stdout",
          "output_type": "stream",
          "text": [
            "Saving model...\n",
            "{'edit_distance': 118.759, '_num_chars': 125.089, '_num_pred_chars': 132.722, 'nsentences': 1.0, '_world_size': 0.007, '_lm_score_sum': 0.0, '_kaldi_score_sum': 0.0, '_word_lm_sum': 0.0, '_num_words': 0.0, '_vocab_seen': [0.007, 0.007, 0.007, 0.007, 0.007, 0.007, 0.007, 0.007, 0.007, 0.007, 0.007, 0.007, 0.007, 0.007, 0.007, 0.007, 0.007, 0.007, 0.007, 0.007, 0.007, 0.007, 0.007, 0.007, 0.007, 0.007, 0.007, 0.007, 0.007, 0.0, 0.007, 0.007, 0.007, 0.007, 0.007, 0.007, 0.007, 0.007, 0.007, 0.0, 0.007, 0.007, 0.007, 0.007, 0.007, 0.007, 0.007, 0.0, 0.007, 0.0, 0.002, 0.0, 0.0, 0.007, 0.0, 0.0, 0.0, 0.007, 0.0, 0.0]}\n"
          ]
        },
        {
          "name": "stderr",
          "output_type": "stream",
          "text": [
            "Train: 100%|██████████| 82/82 [00:24<00:00,  3.32it/s]\n",
            "Epoch 76\n",
            "Train: 100%|██████████| 82/82 [00:20<00:00,  3.99it/s]\n",
            "Epoch 77\n",
            "Train: 100%|██████████| 82/82 [00:24<00:00,  3.41it/s]\n",
            "Epoch 78\n",
            "Train: 100%|██████████| 82/82 [00:20<00:00,  3.97it/s]\n",
            "Epoch 79\n",
            "Train: 100%|██████████| 82/82 [00:24<00:00,  3.31it/s]\n",
            "Eval : 100%|██████████| 7/7 [00:02<00:00,  3.19it/s]\n",
            "Epoch 80\n"
          ]
        },
        {
          "name": "stdout",
          "output_type": "stream",
          "text": [
            "Saving model...\n",
            "{'edit_distance': 123.265, '_num_chars': 125.089, '_num_pred_chars': 139.501, 'nsentences': 1.0, '_world_size': 0.007, '_lm_score_sum': 0.0, '_kaldi_score_sum': 0.0, '_word_lm_sum': 0.0, '_num_words': 0.0, '_vocab_seen': [0.007, 0.007, 0.007, 0.007, 0.007, 0.007, 0.007, 0.007, 0.007, 0.007, 0.007, 0.007, 0.007, 0.007, 0.007, 0.007, 0.007, 0.007, 0.007, 0.007, 0.007, 0.007, 0.007, 0.007, 0.007, 0.007, 0.007, 0.007, 0.007, 0.007, 0.007, 0.007, 0.0, 0.0, 0.007, 0.007, 0.0, 0.007, 0.007, 0.007, 0.0, 0.007, 0.007, 0.007, 0.007, 0.007, 0.007, 0.007, 0.0, 0.002, 0.007, 0.0, 0.0, 0.005, 0.007, 0.005, 0.003, 0.005, 0.002, 0.0]}\n"
          ]
        },
        {
          "name": "stderr",
          "output_type": "stream",
          "text": [
            "Train: 100%|██████████| 82/82 [00:20<00:00,  4.00it/s]\n",
            "Epoch 81\n",
            "Train: 100%|██████████| 82/82 [00:24<00:00,  3.35it/s]\n",
            "Epoch 82\n",
            "Train: 100%|██████████| 82/82 [00:20<00:00,  3.97it/s]\n",
            "Epoch 83\n",
            "Train: 100%|██████████| 82/82 [00:24<00:00,  3.35it/s]\n",
            "Epoch 84\n",
            "Train: 100%|██████████| 82/82 [00:20<00:00,  4.01it/s]\n",
            "Eval : 100%|██████████| 7/7 [00:02<00:00,  3.26it/s]\n",
            "Epoch 85\n"
          ]
        },
        {
          "name": "stdout",
          "output_type": "stream",
          "text": [
            "Saving model...\n",
            "{'edit_distance': 115.211, '_num_chars': 125.089, '_num_pred_chars': 125.914, 'nsentences': 1.0, '_world_size': 0.007, '_lm_score_sum': 0.0, '_kaldi_score_sum': 0.0, '_word_lm_sum': 0.0, '_num_words': 0.0, '_vocab_seen': [0.007, 0.007, 0.007, 0.007, 0.007, 0.007, 0.007, 0.007, 0.007, 0.007, 0.007, 0.007, 0.007, 0.007, 0.007, 0.007, 0.007, 0.007, 0.007, 0.007, 0.007, 0.007, 0.007, 0.007, 0.007, 0.007, 0.007, 0.007, 0.007, 0.0, 0.0, 0.007, 0.0, 0.007, 0.007, 0.0, 0.007, 0.007, 0.007, 0.0, 0.007, 0.007, 0.0, 0.0, 0.007, 0.007, 0.007, 0.007, 0.007, 0.0, 0.0, 0.0, 0.0, 0.007, 0.0, 0.0, 0.0, 0.0, 0.0, 0.0]}\n"
          ]
        },
        {
          "name": "stderr",
          "output_type": "stream",
          "text": [
            "Train: 100%|██████████| 82/82 [00:24<00:00,  3.37it/s]\n",
            "Epoch 86\n",
            "Train: 100%|██████████| 82/82 [00:20<00:00,  4.00it/s]\n",
            "Epoch 87\n",
            "Train: 100%|██████████| 82/82 [00:24<00:00,  3.33it/s]\n",
            "Epoch 88\n",
            "Train: 100%|██████████| 82/82 [00:20<00:00,  3.94it/s]\n",
            "Epoch 89\n",
            "Train: 100%|██████████| 82/82 [00:24<00:00,  3.33it/s]\n",
            "Eval : 100%|██████████| 7/7 [00:02<00:00,  3.20it/s]\n",
            "Epoch 90\n"
          ]
        },
        {
          "name": "stdout",
          "output_type": "stream",
          "text": [
            "Saving model...\n",
            "{'edit_distance': 115.983, '_num_chars': 125.089, '_num_pred_chars': 129.355, 'nsentences': 1.0, '_world_size': 0.007, '_lm_score_sum': 0.0, '_kaldi_score_sum': 0.0, '_word_lm_sum': 0.0, '_num_words': 0.0, '_vocab_seen': [0.007, 0.007, 0.007, 0.007, 0.007, 0.007, 0.007, 0.007, 0.007, 0.007, 0.007, 0.007, 0.007, 0.007, 0.007, 0.007, 0.007, 0.007, 0.007, 0.007, 0.007, 0.007, 0.007, 0.007, 0.007, 0.003, 0.007, 0.007, 0.007, 0.007, 0.007, 0.0, 0.007, 0.007, 0.007, 0.0, 0.007, 0.007, 0.007, 0.006, 0.0, 0.007, 0.007, 0.007, 0.0, 0.0, 0.0, 0.006, 0.0, 0.0, 0.007, 0.0, 0.0, 0.007, 0.0, 0.007, 0.001, 0.007, 0.0, 0.0]}\n"
          ]
        },
        {
          "name": "stderr",
          "output_type": "stream",
          "text": [
            "Train: 100%|██████████| 82/82 [00:20<00:00,  3.97it/s]\n",
            "Epoch 91\n",
            "Train: 100%|██████████| 82/82 [00:24<00:00,  3.36it/s]\n",
            "Epoch 92\n",
            "Train: 100%|██████████| 82/82 [00:20<00:00,  4.01it/s]\n",
            "Epoch 93\n",
            "Train: 100%|██████████| 82/82 [00:24<00:00,  3.36it/s]\n",
            "Epoch 94\n",
            "Train: 100%|██████████| 82/82 [00:20<00:00,  3.98it/s]\n",
            "Eval : 100%|██████████| 7/7 [00:02<00:00,  3.16it/s]\n",
            "Epoch 95\n"
          ]
        },
        {
          "name": "stdout",
          "output_type": "stream",
          "text": [
            "Saving model...\n",
            "{'edit_distance': 117.792, '_num_chars': 125.089, '_num_pred_chars': 132.011, 'nsentences': 1.0, '_world_size': 0.007, '_lm_score_sum': 0.0, '_kaldi_score_sum': 0.0, '_word_lm_sum': 0.0, '_num_words': 0.0, '_vocab_seen': [0.007, 0.007, 0.007, 0.007, 0.007, 0.007, 0.007, 0.007, 0.007, 0.007, 0.007, 0.007, 0.007, 0.006, 0.007, 0.007, 0.007, 0.007, 0.007, 0.007, 0.007, 0.007, 0.007, 0.007, 0.007, 0.0, 0.007, 0.007, 0.007, 0.007, 0.007, 0.007, 0.0, 0.007, 0.0, 0.0, 0.007, 0.007, 0.007, 0.0, 0.007, 0.007, 0.0, 0.007, 0.007, 0.007, 0.0, 0.0, 0.0, 0.0, 0.0, 0.0, 0.0, 0.0, 0.0, 0.0, 0.0, 0.0, 0.0, 0.0]}\n"
          ]
        },
        {
          "name": "stderr",
          "output_type": "stream",
          "text": [
            "Train: 100%|██████████| 82/82 [00:24<00:00,  3.31it/s]\n",
            "Epoch 96\n",
            "Train: 100%|██████████| 82/82 [00:20<00:00,  3.97it/s]\n",
            "Epoch 97\n",
            "Train: 100%|██████████| 82/82 [00:24<00:00,  3.34it/s]\n",
            "Epoch 98\n",
            "Train: 100%|██████████| 82/82 [00:20<00:00,  3.98it/s]\n",
            "Epoch 99\n",
            "Train: 100%|██████████| 82/82 [00:24<00:00,  3.31it/s]\n",
            "Eval : 100%|██████████| 7/7 [00:02<00:00,  3.24it/s]\n",
            "Epoch 100\n"
          ]
        },
        {
          "name": "stdout",
          "output_type": "stream",
          "text": [
            "Saving model...\n",
            "{'edit_distance': 117.554, '_num_chars': 125.089, '_num_pred_chars': 131.192, 'nsentences': 1.0, '_world_size': 0.007, '_lm_score_sum': 0.0, '_kaldi_score_sum': 0.0, '_word_lm_sum': 0.0, '_num_words': 0.0, '_vocab_seen': [0.007, 0.007, 0.007, 0.007, 0.007, 0.007, 0.007, 0.007, 0.007, 0.007, 0.007, 0.007, 0.007, 0.007, 0.007, 0.007, 0.007, 0.007, 0.007, 0.007, 0.007, 0.007, 0.007, 0.007, 0.007, 0.0, 0.007, 0.007, 0.007, 0.007, 0.007, 0.007, 0.0, 0.007, 0.007, 0.007, 0.007, 0.007, 0.007, 0.002, 0.0, 0.007, 0.007, 0.0, 0.007, 0.0, 0.007, 0.0, 0.007, 0.0, 0.007, 0.0, 0.0, 0.007, 0.0, 0.007, 0.0, 0.007, 0.007, 0.0]}\n"
          ]
        },
        {
          "name": "stderr",
          "output_type": "stream",
          "text": [
            "Train: 100%|██████████| 82/82 [00:20<00:00,  3.95it/s]\n",
            "Epoch 101\n",
            "Train: 100%|██████████| 82/82 [00:24<00:00,  3.33it/s]\n",
            "Epoch 102\n",
            "Train: 100%|██████████| 82/82 [00:20<00:00,  3.99it/s]\n",
            "Epoch 103\n",
            "Train: 100%|██████████| 82/82 [00:24<00:00,  3.32it/s]\n",
            "Epoch 104\n",
            "Train: 100%|██████████| 82/82 [00:20<00:00,  3.99it/s]\n",
            "Eval : 100%|██████████| 7/7 [00:02<00:00,  3.10it/s]\n",
            "Epoch 105\n"
          ]
        },
        {
          "name": "stdout",
          "output_type": "stream",
          "text": [
            "Saving model...\n",
            "{'edit_distance': 118.382, '_num_chars': 125.089, '_num_pred_chars': 128.816, 'nsentences': 1.0, '_world_size': 0.007, '_lm_score_sum': 0.0, '_kaldi_score_sum': 0.0, '_word_lm_sum': 0.0, '_num_words': 0.0, '_vocab_seen': [0.007, 0.007, 0.007, 0.007, 0.007, 0.007, 0.007, 0.007, 0.007, 0.007, 0.007, 0.007, 0.007, 0.007, 0.007, 0.007, 0.007, 0.0, 0.007, 0.007, 0.007, 0.0, 0.007, 0.007, 0.007, 0.0, 0.007, 0.007, 0.007, 0.007, 0.007, 0.0, 0.007, 0.007, 0.007, 0.007, 0.007, 0.007, 0.007, 0.007, 0.007, 0.007, 0.0, 0.0, 0.0, 0.007, 0.007, 0.0, 0.007, 0.0, 0.007, 0.0, 0.0, 0.0, 0.0, 0.0, 0.0, 0.0, 0.0, 0.0]}\n"
          ]
        },
        {
          "name": "stderr",
          "output_type": "stream",
          "text": [
            "Train: 100%|██████████| 82/82 [00:24<00:00,  3.33it/s]\n",
            "Epoch 106\n",
            "Train: 100%|██████████| 82/82 [00:20<00:00,  3.94it/s]\n",
            "Epoch 107\n",
            "Train: 100%|██████████| 82/82 [00:24<00:00,  3.36it/s]\n",
            "Epoch 108\n",
            "Train: 100%|██████████| 82/82 [00:20<00:00,  3.96it/s]\n",
            "Epoch 109\n",
            "Train: 100%|██████████| 82/82 [00:24<00:00,  3.35it/s]\n",
            "Eval : 100%|██████████| 7/7 [00:02<00:00,  3.17it/s]\n",
            "Epoch 110\n"
          ]
        },
        {
          "name": "stdout",
          "output_type": "stream",
          "text": [
            "Saving model...\n",
            "{'edit_distance': 119.421, '_num_chars': 125.089, '_num_pred_chars': 132.972, 'nsentences': 1.0, '_world_size': 0.007, '_lm_score_sum': 0.0, '_kaldi_score_sum': 0.0, '_word_lm_sum': 0.0, '_num_words': 0.0, '_vocab_seen': [0.007, 0.007, 0.007, 0.007, 0.007, 0.007, 0.007, 0.007, 0.007, 0.007, 0.007, 0.007, 0.007, 0.007, 0.007, 0.007, 0.007, 0.007, 0.007, 0.007, 0.007, 0.001, 0.007, 0.007, 0.007, 0.007, 0.007, 0.007, 0.007, 0.007, 0.007, 0.007, 0.007, 0.007, 0.007, 0.007, 0.0, 0.007, 0.007, 0.0, 0.007, 0.007, 0.0, 0.0, 0.007, 0.007, 0.0, 0.0, 0.0, 0.0, 0.0, 0.0, 0.0, 0.0, 0.007, 0.0, 0.0, 0.0, 0.0, 0.0]}\n"
          ]
        },
        {
          "name": "stderr",
          "output_type": "stream",
          "text": [
            "Train: 100%|██████████| 82/82 [00:20<00:00,  3.92it/s]\n",
            "Epoch 111\n",
            "Train: 100%|██████████| 82/82 [00:24<00:00,  3.33it/s]\n",
            "Epoch 112\n",
            "Train: 100%|██████████| 82/82 [00:20<00:00,  3.95it/s]\n",
            "Epoch 113\n",
            "Train: 100%|██████████| 82/82 [00:24<00:00,  3.30it/s]\n",
            "Epoch 114\n",
            "Train: 100%|██████████| 82/82 [00:20<00:00,  3.93it/s]\n",
            "Eval : 100%|██████████| 7/7 [00:02<00:00,  3.17it/s]\n",
            "Epoch 115\n"
          ]
        },
        {
          "name": "stdout",
          "output_type": "stream",
          "text": [
            "Saving model...\n",
            "{'edit_distance': 118.656, '_num_chars': 125.089, '_num_pred_chars': 131.651, 'nsentences': 1.0, '_world_size': 0.007, '_lm_score_sum': 0.0, '_kaldi_score_sum': 0.0, '_word_lm_sum': 0.0, '_num_words': 0.0, '_vocab_seen': [0.007, 0.007, 0.007, 0.007, 0.007, 0.007, 0.007, 0.007, 0.007, 0.007, 0.007, 0.007, 0.007, 0.007, 0.007, 0.007, 0.007, 0.007, 0.007, 0.007, 0.007, 0.007, 0.007, 0.007, 0.007, 0.007, 0.007, 0.007, 0.007, 0.007, 0.007, 0.007, 0.0, 0.007, 0.007, 0.007, 0.007, 0.007, 0.007, 0.0, 0.007, 0.0, 0.007, 0.007, 0.0, 0.0, 0.007, 0.007, 0.0, 0.0, 0.007, 0.0, 0.0, 0.0, 0.0, 0.007, 0.0, 0.003, 0.002, 0.0]}\n"
          ]
        },
        {
          "name": "stderr",
          "output_type": "stream",
          "text": [
            "Train: 100%|██████████| 82/82 [00:25<00:00,  3.23it/s]\n",
            "Epoch 116\n",
            "Train: 100%|██████████| 82/82 [00:20<00:00,  3.92it/s]\n",
            "Epoch 117\n",
            "Train: 100%|██████████| 82/82 [00:24<00:00,  3.33it/s]\n",
            "Epoch 118\n",
            "Train: 100%|██████████| 82/82 [00:20<00:00,  3.93it/s]\n",
            "Epoch 119\n",
            "Train: 100%|██████████| 82/82 [00:24<00:00,  3.29it/s]\n",
            "Eval : 100%|██████████| 7/7 [00:02<00:00,  3.13it/s]\n",
            "Epoch 120\n"
          ]
        },
        {
          "name": "stdout",
          "output_type": "stream",
          "text": [
            "Saving model...\n",
            "{'edit_distance': 119.721, '_num_chars': 125.089, '_num_pred_chars': 137.535, 'nsentences': 1.0, '_world_size': 0.007, '_lm_score_sum': 0.0, '_kaldi_score_sum': 0.0, '_word_lm_sum': 0.0, '_num_words': 0.0, '_vocab_seen': [0.007, 0.007, 0.007, 0.007, 0.007, 0.007, 0.007, 0.007, 0.007, 0.007, 0.007, 0.007, 0.007, 0.007, 0.007, 0.007, 0.007, 0.007, 0.007, 0.007, 0.007, 0.007, 0.007, 0.007, 0.007, 0.007, 0.007, 0.007, 0.007, 0.007, 0.007, 0.007, 0.007, 0.007, 0.007, 0.001, 0.007, 0.007, 0.007, 0.007, 0.007, 0.007, 0.0, 0.0, 0.007, 0.007, 0.0, 0.007, 0.0, 0.0, 0.007, 0.0, 0.0, 0.0, 0.0, 0.0, 0.0, 0.0, 0.0, 0.0]}\n"
          ]
        },
        {
          "name": "stderr",
          "output_type": "stream",
          "text": [
            "Train: 100%|██████████| 82/82 [00:20<00:00,  3.93it/s]\n",
            "Epoch 121\n",
            "Train: 100%|██████████| 82/82 [00:24<00:00,  3.32it/s]\n",
            "Epoch 122\n",
            "Train: 100%|██████████| 82/82 [00:20<00:00,  3.95it/s]\n",
            "Epoch 123\n",
            "Train: 100%|██████████| 82/82 [00:24<00:00,  3.31it/s]\n",
            "Epoch 124\n",
            "Train: 100%|██████████| 82/82 [00:20<00:00,  3.95it/s]\n",
            "Eval : 100%|██████████| 7/7 [00:02<00:00,  3.20it/s]\n",
            "Epoch 125\n"
          ]
        },
        {
          "name": "stdout",
          "output_type": "stream",
          "text": [
            "Saving model...\n",
            "{'edit_distance': 117.713, '_num_chars': 125.089, '_num_pred_chars': 131.764, 'nsentences': 1.0, '_world_size': 0.007, '_lm_score_sum': 0.0, '_kaldi_score_sum': 0.0, '_word_lm_sum': 0.0, '_num_words': 0.0, '_vocab_seen': [0.007, 0.007, 0.007, 0.007, 0.007, 0.007, 0.007, 0.0, 0.007, 0.007, 0.007, 0.007, 0.007, 0.007, 0.007, 0.007, 0.007, 0.007, 0.007, 0.007, 0.007, 0.007, 0.007, 0.007, 0.007, 0.007, 0.007, 0.007, 0.007, 0.007, 0.007, 0.007, 0.0, 0.007, 0.007, 0.0, 0.0, 0.007, 0.007, 0.0, 0.006, 0.007, 0.007, 0.007, 0.0, 0.007, 0.007, 0.0, 0.007, 0.0, 0.007, 0.0, 0.0, 0.0, 0.0, 0.0, 0.0, 0.0, 0.0, 0.0]}\n"
          ]
        },
        {
          "name": "stderr",
          "output_type": "stream",
          "text": [
            "Train: 100%|██████████| 82/82 [00:24<00:00,  3.30it/s]\n",
            "Epoch 126\n",
            "Train: 100%|██████████| 82/82 [00:20<00:00,  3.93it/s]\n",
            "Epoch 127\n",
            "Train: 100%|██████████| 82/82 [00:24<00:00,  3.28it/s]\n",
            "Epoch 128\n",
            "Train: 100%|██████████| 82/82 [00:20<00:00,  3.96it/s]\n",
            "Epoch 129\n",
            "Train: 100%|██████████| 82/82 [00:24<00:00,  3.30it/s]\n",
            "Eval : 100%|██████████| 7/7 [00:02<00:00,  3.19it/s]\n",
            "Epoch 130\n"
          ]
        },
        {
          "name": "stdout",
          "output_type": "stream",
          "text": [
            "Saving model...\n",
            "{'edit_distance': 119.874, '_num_chars': 125.089, '_num_pred_chars': 135.063, 'nsentences': 1.0, '_world_size': 0.007, '_lm_score_sum': 0.0, '_kaldi_score_sum': 0.0, '_word_lm_sum': 0.0, '_num_words': 0.0, '_vocab_seen': [0.007, 0.007, 0.007, 0.007, 0.007, 0.007, 0.004, 0.007, 0.007, 0.007, 0.007, 0.007, 0.007, 0.0, 0.007, 0.007, 0.007, 0.0, 0.007, 0.007, 0.007, 0.007, 0.007, 0.007, 0.007, 0.007, 0.007, 0.007, 0.007, 0.007, 0.007, 0.007, 0.006, 0.007, 0.007, 0.007, 0.007, 0.007, 0.007, 0.007, 0.007, 0.007, 0.0, 0.007, 0.0, 0.0, 0.007, 0.007, 0.007, 0.0, 0.007, 0.002, 0.0, 0.0, 0.0, 0.007, 0.0, 0.007, 0.007, 0.0]}\n"
          ]
        },
        {
          "name": "stderr",
          "output_type": "stream",
          "text": [
            "Train: 100%|██████████| 82/82 [00:21<00:00,  3.89it/s]\n",
            "Epoch 131\n",
            "Train: 100%|██████████| 82/82 [00:24<00:00,  3.30it/s]\n",
            "Epoch 132\n",
            "Train: 100%|██████████| 82/82 [00:20<00:00,  3.94it/s]\n",
            "Epoch 133\n",
            "Train: 100%|██████████| 82/82 [00:24<00:00,  3.30it/s]\n",
            "Epoch 134\n",
            "Train: 100%|██████████| 82/82 [00:20<00:00,  3.91it/s]\n",
            "Eval : 100%|██████████| 7/7 [00:02<00:00,  3.21it/s]\n",
            "Epoch 135\n"
          ]
        },
        {
          "name": "stdout",
          "output_type": "stream",
          "text": [
            "Saving model...\n",
            "{'edit_distance': 118.881, '_num_chars': 125.089, '_num_pred_chars': 132.242, 'nsentences': 1.0, '_world_size': 0.007, '_lm_score_sum': 0.0, '_kaldi_score_sum': 0.0, '_word_lm_sum': 0.0, '_num_words': 0.0, '_vocab_seen': [0.007, 0.007, 0.007, 0.007, 0.007, 0.007, 0.007, 0.007, 0.007, 0.007, 0.007, 0.007, 0.007, 0.007, 0.007, 0.007, 0.007, 0.007, 0.007, 0.007, 0.007, 0.007, 0.007, 0.007, 0.007, 0.007, 0.007, 0.007, 0.007, 0.007, 0.007, 0.007, 0.0, 0.007, 0.007, 0.007, 0.007, 0.007, 0.007, 0.0, 0.007, 0.0, 0.0, 0.0, 0.007, 0.007, 0.007, 0.0, 0.007, 0.0, 0.0, 0.0, 0.0, 0.0, 0.0, 0.007, 0.0, 0.0, 0.0, 0.0]}\n"
          ]
        },
        {
          "name": "stderr",
          "output_type": "stream",
          "text": [
            "Train: 100%|██████████| 82/82 [00:24<00:00,  3.34it/s]\n",
            "Epoch 136\n",
            "Train: 100%|██████████| 82/82 [00:20<00:00,  3.95it/s]\n",
            "Epoch 137\n",
            "Train: 100%|██████████| 82/82 [00:24<00:00,  3.34it/s]\n",
            "Epoch 138\n",
            "Train: 100%|██████████| 82/82 [00:20<00:00,  3.91it/s]\n",
            "Epoch 139\n",
            "Train: 100%|██████████| 82/82 [00:24<00:00,  3.32it/s]\n",
            "Eval : 100%|██████████| 7/7 [00:02<00:00,  3.17it/s]\n",
            "Epoch 140\n"
          ]
        },
        {
          "name": "stdout",
          "output_type": "stream",
          "text": [
            "Saving model...\n",
            "{'edit_distance': 116.89, '_num_chars': 125.089, '_num_pred_chars': 129.398, 'nsentences': 1.0, '_world_size': 0.007, '_lm_score_sum': 0.0, '_kaldi_score_sum': 0.0, '_word_lm_sum': 0.0, '_num_words': 0.0, '_vocab_seen': [0.007, 0.007, 0.007, 0.007, 0.007, 0.007, 0.007, 0.007, 0.007, 0.007, 0.007, 0.007, 0.007, 0.007, 0.007, 0.007, 0.007, 0.001, 0.007, 0.007, 0.007, 0.007, 0.007, 0.007, 0.007, 0.007, 0.007, 0.007, 0.007, 0.007, 0.007, 0.007, 0.007, 0.007, 0.007, 0.007, 0.0, 0.007, 0.007, 0.0, 0.007, 0.007, 0.0, 0.0, 0.0, 0.0, 0.0, 0.001, 0.007, 0.0, 0.0, 0.0, 0.0, 0.0, 0.0, 0.0, 0.0, 0.0, 0.0, 0.0]}\n"
          ]
        },
        {
          "name": "stderr",
          "output_type": "stream",
          "text": [
            "Train: 100%|██████████| 82/82 [00:20<00:00,  3.95it/s]\n",
            "Epoch 141\n",
            "Train: 100%|██████████| 82/82 [00:24<00:00,  3.32it/s]\n",
            "Epoch 142\n",
            "Train: 100%|██████████| 82/82 [00:20<00:00,  3.97it/s]\n",
            "Epoch 143\n",
            "Train: 100%|██████████| 82/82 [00:24<00:00,  3.31it/s]\n",
            "Epoch 144\n",
            "Train: 100%|██████████| 82/82 [00:20<00:00,  3.98it/s]\n",
            "Eval : 100%|██████████| 7/7 [00:02<00:00,  3.21it/s]\n",
            "Epoch 145\n"
          ]
        },
        {
          "name": "stdout",
          "output_type": "stream",
          "text": [
            "Saving model...\n",
            "{'edit_distance': 118.642, '_num_chars': 125.089, '_num_pred_chars': 135.535, 'nsentences': 1.0, '_world_size': 0.007, '_lm_score_sum': 0.0, '_kaldi_score_sum': 0.0, '_word_lm_sum': 0.0, '_num_words': 0.0, '_vocab_seen': [0.007, 0.007, 0.007, 0.007, 0.007, 0.007, 0.007, 0.0, 0.007, 0.007, 0.007, 0.007, 0.007, 0.007, 0.007, 0.007, 0.007, 0.007, 0.007, 0.007, 0.007, 0.007, 0.007, 0.007, 0.0, 0.003, 0.007, 0.007, 0.007, 0.007, 0.007, 0.007, 0.007, 0.007, 0.007, 0.0, 0.007, 0.007, 0.007, 0.007, 0.007, 0.0, 0.0, 0.007, 0.007, 0.007, 0.0, 0.0, 0.0, 0.0, 0.0, 0.0, 0.0, 0.0, 0.0, 0.0, 0.0, 0.0, 0.0, 0.0]}\n"
          ]
        },
        {
          "name": "stderr",
          "output_type": "stream",
          "text": [
            "Train: 100%|██████████| 82/82 [00:24<00:00,  3.30it/s]\n",
            "Epoch 146\n",
            "Train: 100%|██████████| 82/82 [00:20<00:00,  3.94it/s]\n",
            "Epoch 147\n",
            "Train: 100%|██████████| 82/82 [00:24<00:00,  3.36it/s]\n",
            "Epoch 148\n",
            "Train: 100%|██████████| 82/82 [00:20<00:00,  3.97it/s]\n",
            "Epoch 149\n",
            "Train: 100%|██████████| 82/82 [00:24<00:00,  3.36it/s]\n",
            "Eval : 100%|██████████| 7/7 [00:02<00:00,  3.16it/s]\n",
            "Epoch 150\n"
          ]
        },
        {
          "name": "stdout",
          "output_type": "stream",
          "text": [
            "Saving model...\n",
            "{'edit_distance': 114.44, '_num_chars': 125.089, '_num_pred_chars': 126.002, 'nsentences': 1.0, '_world_size': 0.007, '_lm_score_sum': 0.0, '_kaldi_score_sum': 0.0, '_word_lm_sum': 0.0, '_num_words': 0.0, '_vocab_seen': [0.007, 0.007, 0.007, 0.007, 0.007, 0.007, 0.007, 0.007, 0.007, 0.007, 0.007, 0.007, 0.007, 0.007, 0.0, 0.007, 0.007, 0.007, 0.007, 0.007, 0.007, 0.007, 0.007, 0.007, 0.007, 0.007, 0.007, 0.007, 0.007, 0.007, 0.007, 0.007, 0.0, 0.007, 0.007, 0.007, 0.0, 0.007, 0.007, 0.0, 0.007, 0.007, 0.0, 0.0, 0.0, 0.0, 0.007, 0.0, 0.0, 0.0, 0.0, 0.0, 0.0, 0.0, 0.0, 0.0, 0.0, 0.0, 0.0, 0.0]}\n"
          ]
        },
        {
          "name": "stderr",
          "output_type": "stream",
          "text": [
            "Train: 100%|██████████| 82/82 [00:20<00:00,  3.95it/s]\n",
            "Epoch 151\n",
            "Train: 100%|██████████| 82/82 [00:24<00:00,  3.34it/s]\n",
            "Epoch 152\n",
            "Train: 100%|██████████| 82/82 [00:20<00:00,  3.95it/s]\n",
            "Epoch 153\n",
            "Train: 100%|██████████| 82/82 [00:24<00:00,  3.35it/s]\n",
            "Epoch 154\n",
            "Train: 100%|██████████| 82/82 [00:20<00:00,  3.96it/s]\n",
            "Eval : 100%|██████████| 7/7 [00:02<00:00,  3.17it/s]\n",
            "Epoch 155\n"
          ]
        },
        {
          "name": "stdout",
          "output_type": "stream",
          "text": [
            "Saving model...\n",
            "{'edit_distance': 118.707, '_num_chars': 125.089, '_num_pred_chars': 131.186, 'nsentences': 1.0, '_world_size': 0.007, '_lm_score_sum': 0.0, '_kaldi_score_sum': 0.0, '_word_lm_sum': 0.0, '_num_words': 0.0, '_vocab_seen': [0.007, 0.007, 0.007, 0.007, 0.007, 0.007, 0.007, 0.007, 0.007, 0.007, 0.007, 0.007, 0.007, 0.007, 0.0, 0.007, 0.007, 0.007, 0.007, 0.007, 0.007, 0.007, 0.007, 0.007, 0.007, 0.007, 0.007, 0.007, 0.007, 0.007, 0.007, 0.006, 0.007, 0.007, 0.007, 0.0, 0.007, 0.007, 0.007, 0.007, 0.007, 0.007, 0.007, 0.007, 0.0, 0.007, 0.0, 0.0, 0.007, 0.0, 0.007, 0.006, 0.0, 0.0, 0.006, 0.0, 0.0, 0.0, 0.0, 0.0]}\n"
          ]
        },
        {
          "name": "stderr",
          "output_type": "stream",
          "text": [
            "Train: 100%|██████████| 82/82 [00:24<00:00,  3.34it/s]\n",
            "Epoch 156\n",
            "Train: 100%|██████████| 82/82 [00:20<00:00,  3.98it/s]\n",
            "Epoch 157\n",
            "Train: 100%|██████████| 82/82 [00:24<00:00,  3.35it/s]\n",
            "Epoch 158\n",
            "Train: 100%|██████████| 82/82 [00:20<00:00,  3.97it/s]\n",
            "Epoch 159\n",
            "Train: 100%|██████████| 82/82 [00:24<00:00,  3.33it/s]\n",
            "Eval : 100%|██████████| 7/7 [00:02<00:00,  3.13it/s]\n",
            "Epoch 160\n"
          ]
        },
        {
          "name": "stdout",
          "output_type": "stream",
          "text": [
            "Saving model...\n",
            "{'edit_distance': 120.601, '_num_chars': 125.089, '_num_pred_chars': 135.365, 'nsentences': 1.0, '_world_size': 0.007, '_lm_score_sum': 0.0, '_kaldi_score_sum': 0.0, '_word_lm_sum': 0.0, '_num_words': 0.0, '_vocab_seen': [0.007, 0.007, 0.007, 0.007, 0.007, 0.007, 0.007, 0.007, 0.007, 0.007, 0.007, 0.007, 0.007, 0.007, 0.007, 0.007, 0.006, 0.007, 0.007, 0.007, 0.0, 0.007, 0.007, 0.007, 0.007, 0.007, 0.007, 0.007, 0.007, 0.007, 0.007, 0.007, 0.0, 0.007, 0.007, 0.0, 0.0, 0.007, 0.007, 0.007, 0.0, 0.007, 0.007, 0.007, 0.007, 0.0, 0.007, 0.0, 0.007, 0.0, 0.007, 0.0, 0.0, 0.0, 0.007, 0.0, 0.0, 0.0, 0.0, 0.0]}\n"
          ]
        },
        {
          "name": "stderr",
          "output_type": "stream",
          "text": [
            "Train: 100%|██████████| 82/82 [00:20<00:00,  3.94it/s]\n",
            "Epoch 161\n",
            "Train: 100%|██████████| 82/82 [00:24<00:00,  3.34it/s]\n",
            "Epoch 162\n",
            "Train: 100%|██████████| 82/82 [00:20<00:00,  3.95it/s]\n",
            "Epoch 163\n",
            "Train: 100%|██████████| 82/82 [00:24<00:00,  3.31it/s]\n",
            "Epoch 164\n",
            "Train: 100%|██████████| 82/82 [00:20<00:00,  3.98it/s]\n",
            "Eval : 100%|██████████| 7/7 [00:02<00:00,  3.24it/s]\n",
            "Epoch 165\n"
          ]
        },
        {
          "name": "stdout",
          "output_type": "stream",
          "text": [
            "Saving model...\n",
            "{'edit_distance': 114.946, '_num_chars': 125.089, '_num_pred_chars': 126.489, 'nsentences': 1.0, '_world_size': 0.007, '_lm_score_sum': 0.0, '_kaldi_score_sum': 0.0, '_word_lm_sum': 0.0, '_num_words': 0.0, '_vocab_seen': [0.007, 0.007, 0.007, 0.007, 0.007, 0.007, 0.007, 0.007, 0.007, 0.007, 0.007, 0.007, 0.007, 0.007, 0.007, 0.007, 0.007, 0.007, 0.007, 0.007, 0.007, 0.007, 0.007, 0.007, 0.007, 0.0, 0.007, 0.007, 0.007, 0.0, 0.004, 0.007, 0.007, 0.007, 0.007, 0.0, 0.003, 0.007, 0.007, 0.0, 0.007, 0.007, 0.0, 0.007, 0.007, 0.0, 0.007, 0.0, 0.0, 0.0, 0.0, 0.0, 0.0, 0.0, 0.0, 0.0, 0.0, 0.0, 0.0, 0.0]}\n"
          ]
        },
        {
          "name": "stderr",
          "output_type": "stream",
          "text": [
            "Train: 100%|██████████| 82/82 [00:24<00:00,  3.33it/s]\n",
            "Epoch 166\n",
            "Train: 100%|██████████| 82/82 [00:20<00:00,  4.04it/s]\n",
            "Epoch 167\n",
            "Train: 100%|██████████| 82/82 [00:24<00:00,  3.36it/s]\n",
            "Epoch 168\n",
            "Train: 100%|██████████| 82/82 [00:20<00:00,  3.96it/s]\n",
            "Epoch 169\n",
            "Train: 100%|██████████| 82/82 [00:24<00:00,  3.33it/s]\n",
            "Eval : 100%|██████████| 7/7 [00:02<00:00,  3.15it/s]\n",
            "Epoch 170\n"
          ]
        },
        {
          "name": "stdout",
          "output_type": "stream",
          "text": [
            "Saving model...\n",
            "{'edit_distance': 121.141, '_num_chars': 125.089, '_num_pred_chars': 136.21, 'nsentences': 1.0, '_world_size': 0.007, '_lm_score_sum': 0.0, '_kaldi_score_sum': 0.0, '_word_lm_sum': 0.0, '_num_words': 0.0, '_vocab_seen': [0.007, 0.007, 0.007, 0.007, 0.007, 0.007, 0.007, 0.007, 0.007, 0.007, 0.007, 0.007, 0.007, 0.007, 0.007, 0.007, 0.007, 0.007, 0.007, 0.007, 0.007, 0.007, 0.007, 0.007, 0.007, 0.007, 0.007, 0.007, 0.007, 0.007, 0.007, 0.007, 0.0, 0.007, 0.007, 0.0, 0.0, 0.007, 0.007, 0.0, 0.007, 0.007, 0.0, 0.007, 0.007, 0.007, 0.007, 0.0, 0.0, 0.007, 0.0, 0.0, 0.0, 0.0, 0.0, 0.007, 0.0, 0.007, 0.007, 0.0]}\n"
          ]
        },
        {
          "name": "stderr",
          "output_type": "stream",
          "text": [
            "Train: 100%|██████████| 82/82 [00:20<00:00,  3.97it/s]\n",
            "Epoch 171\n",
            "Train: 100%|██████████| 82/82 [00:24<00:00,  3.35it/s]\n",
            "Epoch 172\n",
            "Train: 100%|██████████| 82/82 [00:20<00:00,  3.96it/s]\n",
            "Epoch 173\n",
            "Train: 100%|██████████| 82/82 [00:24<00:00,  3.32it/s]\n",
            "Epoch 174\n",
            "Train: 100%|██████████| 82/82 [00:20<00:00,  3.98it/s]\n",
            "Eval : 100%|██████████| 7/7 [00:02<00:00,  3.18it/s]\n",
            "Epoch 175\n"
          ]
        },
        {
          "name": "stdout",
          "output_type": "stream",
          "text": [
            "Saving model...\n",
            "{'edit_distance': 118.116, '_num_chars': 125.089, '_num_pred_chars': 130.022, 'nsentences': 1.0, '_world_size': 0.007, '_lm_score_sum': 0.0, '_kaldi_score_sum': 0.0, '_word_lm_sum': 0.0, '_num_words': 0.0, '_vocab_seen': [0.007, 0.007, 0.007, 0.007, 0.007, 0.007, 0.007, 0.007, 0.007, 0.007, 0.007, 0.007, 0.007, 0.007, 0.007, 0.007, 0.007, 0.007, 0.007, 0.007, 0.007, 0.007, 0.007, 0.007, 0.0, 0.0, 0.007, 0.007, 0.007, 0.007, 0.007, 0.007, 0.007, 0.007, 0.007, 0.007, 0.007, 0.007, 0.007, 0.007, 0.0, 0.007, 0.007, 0.0, 0.0, 0.0, 0.0, 0.0, 0.0, 0.0, 0.007, 0.007, 0.0, 0.0, 0.0, 0.0, 0.0, 0.007, 0.0, 0.0]}\n"
          ]
        },
        {
          "name": "stderr",
          "output_type": "stream",
          "text": [
            "Train: 100%|██████████| 82/82 [00:24<00:00,  3.39it/s]\n",
            "Epoch 176\n",
            "Train: 100%|██████████| 82/82 [00:20<00:00,  3.97it/s]\n",
            "Epoch 177\n",
            "Train: 100%|██████████| 82/82 [00:24<00:00,  3.35it/s]\n",
            "Epoch 178\n",
            "Train: 100%|██████████| 82/82 [00:20<00:00,  3.97it/s]\n",
            "Epoch 179\n",
            "Train: 100%|██████████| 82/82 [00:24<00:00,  3.34it/s]\n",
            "Eval : 100%|██████████| 7/7 [00:02<00:00,  3.29it/s]\n",
            "Epoch 180\n"
          ]
        },
        {
          "name": "stdout",
          "output_type": "stream",
          "text": [
            "Saving model...\n",
            "{'edit_distance': 120.297, '_num_chars': 125.089, '_num_pred_chars': 137.489, 'nsentences': 1.0, '_world_size': 0.007, '_lm_score_sum': 0.0, '_kaldi_score_sum': 0.0, '_word_lm_sum': 0.0, '_num_words': 0.0, '_vocab_seen': [0.007, 0.007, 0.007, 0.007, 0.007, 0.007, 0.007, 0.007, 0.007, 0.007, 0.007, 0.007, 0.007, 0.007, 0.0, 0.007, 0.007, 0.007, 0.0, 0.007, 0.007, 0.007, 0.007, 0.007, 0.007, 0.0, 0.007, 0.007, 0.007, 0.007, 0.007, 0.007, 0.0, 0.007, 0.007, 0.0, 0.0, 0.007, 0.007, 0.0, 0.007, 0.007, 0.007, 0.0, 0.007, 0.007, 0.0, 0.0, 0.0, 0.0, 0.006, 0.0, 0.0, 0.0, 0.0, 0.0, 0.0, 0.0, 0.0, 0.0]}\n"
          ]
        },
        {
          "name": "stderr",
          "output_type": "stream",
          "text": [
            "Train: 100%|██████████| 82/82 [00:20<00:00,  3.97it/s]\n",
            "Epoch 181\n",
            "Train: 100%|██████████| 82/82 [00:24<00:00,  3.40it/s]\n",
            "Epoch 182\n",
            "Train: 100%|██████████| 82/82 [00:20<00:00,  3.98it/s]\n",
            "Epoch 183\n",
            "Train: 100%|██████████| 82/82 [00:24<00:00,  3.35it/s]\n",
            "Epoch 184\n",
            "Train: 100%|██████████| 82/82 [00:20<00:00,  3.98it/s]\n",
            "Eval : 100%|██████████| 7/7 [00:02<00:00,  3.18it/s]\n",
            "Epoch 185\n"
          ]
        },
        {
          "name": "stdout",
          "output_type": "stream",
          "text": [
            "Saving model...\n",
            "{'edit_distance': 116.489, '_num_chars': 125.089, '_num_pred_chars': 126.352, 'nsentences': 1.0, '_world_size': 0.007, '_lm_score_sum': 0.0, '_kaldi_score_sum': 0.0, '_word_lm_sum': 0.0, '_num_words': 0.0, '_vocab_seen': [0.007, 0.007, 0.007, 0.007, 0.007, 0.007, 0.007, 0.007, 0.007, 0.007, 0.007, 0.007, 0.007, 0.007, 0.007, 0.007, 0.007, 0.007, 0.007, 0.007, 0.007, 0.007, 0.007, 0.007, 0.007, 0.001, 0.007, 0.007, 0.007, 0.007, 0.007, 0.007, 0.0, 0.007, 0.007, 0.0, 0.007, 0.007, 0.007, 0.007, 0.0, 0.007, 0.0, 0.0, 0.0, 0.007, 0.007, 0.0, 0.007, 0.0, 0.0, 0.0, 0.0, 0.0, 0.0, 0.0, 0.0, 0.0, 0.0, 0.0]}\n"
          ]
        },
        {
          "name": "stderr",
          "output_type": "stream",
          "text": [
            "Train: 100%|██████████| 82/82 [00:24<00:00,  3.39it/s]\n",
            "Epoch 186\n",
            "Train: 100%|██████████| 82/82 [00:20<00:00,  3.96it/s]\n",
            "Epoch 187\n",
            "Train: 100%|██████████| 82/82 [00:24<00:00,  3.34it/s]\n",
            "Epoch 188\n",
            "Train: 100%|██████████| 82/82 [00:20<00:00,  3.98it/s]\n",
            "Epoch 189\n",
            "Train: 100%|██████████| 82/82 [00:24<00:00,  3.35it/s]\n",
            "Eval : 100%|██████████| 7/7 [00:02<00:00,  3.21it/s]\n",
            "Epoch 190\n"
          ]
        },
        {
          "name": "stdout",
          "output_type": "stream",
          "text": [
            "Saving model...\n",
            "{'edit_distance': 119.073, '_num_chars': 125.089, '_num_pred_chars': 131.511, 'nsentences': 1.0, '_world_size': 0.007, '_lm_score_sum': 0.0, '_kaldi_score_sum': 0.0, '_word_lm_sum': 0.0, '_num_words': 0.0, '_vocab_seen': [0.007, 0.007, 0.0, 0.007, 0.007, 0.007, 0.007, 0.007, 0.007, 0.007, 0.007, 0.007, 0.007, 0.007, 0.007, 0.007, 0.007, 0.007, 0.007, 0.007, 0.007, 0.007, 0.007, 0.007, 0.0, 0.007, 0.007, 0.007, 0.007, 0.007, 0.007, 0.007, 0.007, 0.007, 0.007, 0.0, 0.007, 0.007, 0.007, 0.007, 0.007, 0.007, 0.0, 0.0, 0.0, 0.007, 0.007, 0.007, 0.001, 0.0, 0.0, 0.0, 0.0, 0.0, 0.0, 0.0, 0.0, 0.0, 0.0, 0.0]}\n"
          ]
        },
        {
          "name": "stderr",
          "output_type": "stream",
          "text": [
            "Train: 100%|██████████| 82/82 [00:20<00:00,  3.93it/s]\n",
            "Epoch 191\n",
            "Train: 100%|██████████| 82/82 [00:24<00:00,  3.33it/s]\n",
            "Epoch 192\n",
            "Train: 100%|██████████| 82/82 [00:20<00:00,  3.95it/s]\n",
            "Epoch 193\n",
            "Train: 100%|██████████| 82/82 [00:24<00:00,  3.37it/s]\n",
            "Epoch 194\n",
            "Train: 100%|██████████| 82/82 [00:20<00:00,  4.00it/s]\n",
            "Eval : 100%|██████████| 7/7 [00:02<00:00,  3.23it/s]\n",
            "Epoch 195\n"
          ]
        },
        {
          "name": "stdout",
          "output_type": "stream",
          "text": [
            "Saving model...\n",
            "{'edit_distance': 117.977, '_num_chars': 125.089, '_num_pred_chars': 132.832, 'nsentences': 1.0, '_world_size': 0.007, '_lm_score_sum': 0.0, '_kaldi_score_sum': 0.0, '_word_lm_sum': 0.0, '_num_words': 0.0, '_vocab_seen': [0.007, 0.007, 0.007, 0.007, 0.007, 0.007, 0.007, 0.007, 0.007, 0.004, 0.007, 0.007, 0.007, 0.007, 0.007, 0.007, 0.007, 0.007, 0.007, 0.007, 0.007, 0.007, 0.007, 0.007, 0.007, 0.007, 0.007, 0.007, 0.007, 0.007, 0.0, 0.007, 0.007, 0.007, 0.0, 0.007, 0.007, 0.007, 0.007, 0.0, 0.007, 0.007, 0.007, 0.0, 0.0, 0.0, 0.0, 0.0, 0.0, 0.0, 0.0, 0.0, 0.0, 0.0, 0.007, 0.0, 0.0, 0.0, 0.0, 0.0]}\n"
          ]
        },
        {
          "name": "stderr",
          "output_type": "stream",
          "text": [
            "Train: 100%|██████████| 82/82 [00:24<00:00,  3.33it/s]\n",
            "Epoch 196\n",
            "Train: 100%|██████████| 82/82 [00:20<00:00,  3.98it/s]\n",
            "Epoch 197\n",
            "Train: 100%|██████████| 82/82 [00:24<00:00,  3.36it/s]\n",
            "Epoch 198\n",
            "Train: 100%|██████████| 82/82 [00:20<00:00,  3.97it/s]\n",
            "Epoch 199\n",
            "Train: 100%|██████████| 82/82 [00:24<00:00,  3.39it/s]\n",
            "Eval : 100%|██████████| 7/7 [00:02<00:00,  3.19it/s]\n",
            "Epoch 200\n"
          ]
        },
        {
          "name": "stdout",
          "output_type": "stream",
          "text": [
            "Saving model...\n",
            "{'edit_distance': 114.483, '_num_chars': 125.089, '_num_pred_chars': 126.691, 'nsentences': 1.0, '_world_size': 0.007, '_lm_score_sum': 0.0, '_kaldi_score_sum': 0.0, '_word_lm_sum': 0.0, '_num_words': 0.0, '_vocab_seen': [0.007, 0.007, 0.007, 0.007, 0.007, 0.007, 0.007, 0.007, 0.007, 0.007, 0.007, 0.007, 0.007, 0.007, 0.007, 0.007, 0.007, 0.007, 0.007, 0.007, 0.0, 0.007, 0.007, 0.007, 0.007, 0.0, 0.007, 0.007, 0.007, 0.007, 0.007, 0.0, 0.007, 0.007, 0.007, 0.0, 0.0, 0.007, 0.007, 0.0, 0.007, 0.007, 0.0, 0.0, 0.0, 0.0, 0.007, 0.007, 0.007, 0.007, 0.0, 0.0, 0.0, 0.0, 0.0, 0.0, 0.0, 0.0, 0.0, 0.0]}\n"
          ]
        },
        {
          "name": "stderr",
          "output_type": "stream",
          "text": [
            "Train: 100%|██████████| 82/82 [00:20<00:00,  3.96it/s]\n",
            "Epoch 201\n",
            "Train: 100%|██████████| 82/82 [00:24<00:00,  3.36it/s]\n",
            "Epoch 202\n",
            "Train: 100%|██████████| 82/82 [00:20<00:00,  3.96it/s]\n",
            "Epoch 203\n",
            "Train: 100%|██████████| 82/82 [00:24<00:00,  3.32it/s]\n",
            "Epoch 204\n",
            "Train: 100%|██████████| 82/82 [00:20<00:00,  3.99it/s]\n",
            "Eval : 100%|██████████| 7/7 [00:02<00:00,  3.18it/s]\n",
            "Epoch 205\n"
          ]
        },
        {
          "name": "stdout",
          "output_type": "stream",
          "text": [
            "Saving model...\n",
            "{'edit_distance': 119.312, '_num_chars': 125.089, '_num_pred_chars': 132.35, 'nsentences': 1.0, '_world_size': 0.007, '_lm_score_sum': 0.0, '_kaldi_score_sum': 0.0, '_word_lm_sum': 0.0, '_num_words': 0.0, '_vocab_seen': [0.007, 0.007, 0.007, 0.007, 0.007, 0.007, 0.007, 0.007, 0.007, 0.007, 0.007, 0.007, 0.007, 0.007, 0.007, 0.007, 0.007, 0.007, 0.0, 0.007, 0.007, 0.007, 0.007, 0.007, 0.0, 0.007, 0.007, 0.007, 0.007, 0.007, 0.007, 0.007, 0.0, 0.007, 0.007, 0.0, 0.0, 0.007, 0.007, 0.007, 0.0, 0.007, 0.0, 0.0, 0.0, 0.0, 0.007, 0.0, 0.007, 0.0, 0.0, 0.0, 0.0, 0.0, 0.0, 0.0, 0.0, 0.0, 0.0, 0.0]}\n"
          ]
        },
        {
          "name": "stderr",
          "output_type": "stream",
          "text": [
            "Train: 100%|██████████| 82/82 [00:24<00:00,  3.35it/s]\n",
            "Epoch 206\n",
            "Train: 100%|██████████| 82/82 [00:20<00:00,  3.94it/s]\n",
            "Epoch 207\n",
            "Train: 100%|██████████| 82/82 [00:24<00:00,  3.33it/s]\n",
            "Epoch 208\n",
            "Train: 100%|██████████| 82/82 [00:20<00:00,  3.96it/s]\n",
            "Epoch 209\n",
            "Train: 100%|██████████| 82/82 [00:24<00:00,  3.34it/s]\n",
            "Eval : 100%|██████████| 7/7 [00:02<00:00,  3.20it/s]\n",
            "Epoch 210\n"
          ]
        },
        {
          "name": "stdout",
          "output_type": "stream",
          "text": [
            "Saving model...\n",
            "{'edit_distance': 117.812, '_num_chars': 125.089, '_num_pred_chars': 133.25, 'nsentences': 1.0, '_world_size': 0.007, '_lm_score_sum': 0.0, '_kaldi_score_sum': 0.0, '_word_lm_sum': 0.0, '_num_words': 0.0, '_vocab_seen': [0.007, 0.007, 0.007, 0.007, 0.007, 0.007, 0.007, 0.007, 0.007, 0.007, 0.007, 0.007, 0.007, 0.007, 0.007, 0.007, 0.007, 0.007, 0.007, 0.007, 0.0, 0.007, 0.007, 0.007, 0.0, 0.007, 0.007, 0.007, 0.007, 0.0, 0.007, 0.007, 0.0, 0.007, 0.007, 0.007, 0.0, 0.007, 0.007, 0.0, 0.0, 0.007, 0.003, 0.0, 0.0, 0.0, 0.0, 0.0, 0.0, 0.0, 0.0, 0.0, 0.0, 0.0, 0.0, 0.0, 0.0, 0.0, 0.0, 0.0]}\n"
          ]
        },
        {
          "name": "stderr",
          "output_type": "stream",
          "text": [
            "Train: 100%|██████████| 82/82 [00:20<00:00,  3.96it/s]\n",
            "Epoch 211\n",
            "Train: 100%|██████████| 82/82 [00:24<00:00,  3.34it/s]\n",
            "Epoch 212\n",
            "Train: 100%|██████████| 82/82 [00:20<00:00,  3.99it/s]\n",
            "Epoch 213\n",
            "Train: 100%|██████████| 82/82 [00:24<00:00,  3.32it/s]\n",
            "Epoch 214\n",
            "Train: 100%|██████████| 82/82 [00:20<00:00,  3.97it/s]\n",
            "Eval : 100%|██████████| 7/7 [00:02<00:00,  3.21it/s]\n",
            "Epoch 215\n"
          ]
        },
        {
          "name": "stdout",
          "output_type": "stream",
          "text": [
            "Saving model...\n",
            "{'edit_distance': 117.486, '_num_chars': 125.089, '_num_pred_chars': 132.02, 'nsentences': 1.0, '_world_size': 0.007, '_lm_score_sum': 0.0, '_kaldi_score_sum': 0.0, '_word_lm_sum': 0.0, '_num_words': 0.0, '_vocab_seen': [0.007, 0.007, 0.007, 0.007, 0.007, 0.007, 0.007, 0.007, 0.007, 0.002, 0.007, 0.007, 0.007, 0.0, 0.007, 0.007, 0.007, 0.007, 0.007, 0.007, 0.0, 0.007, 0.007, 0.007, 0.0, 0.007, 0.007, 0.007, 0.007, 0.007, 0.0, 0.0, 0.007, 0.007, 0.007, 0.0, 0.007, 0.007, 0.007, 0.007, 0.007, 0.007, 0.0, 0.0, 0.007, 0.007, 0.0, 0.0, 0.0, 0.0, 0.0, 0.007, 0.0, 0.0, 0.0, 0.0, 0.0, 0.0, 0.0, 0.0]}\n"
          ]
        },
        {
          "name": "stderr",
          "output_type": "stream",
          "text": [
            "Train: 100%|██████████| 82/82 [00:24<00:00,  3.36it/s]\n",
            "Epoch 216\n",
            "Train: 100%|██████████| 82/82 [00:20<00:00,  3.95it/s]\n",
            "Epoch 217\n",
            "Train: 100%|██████████| 82/82 [00:24<00:00,  3.32it/s]\n",
            "Epoch 218\n",
            "Train: 100%|██████████| 82/82 [00:20<00:00,  3.97it/s]\n",
            "Epoch 219\n",
            "Train: 100%|██████████| 82/82 [00:24<00:00,  3.35it/s]\n",
            "Eval : 100%|██████████| 7/7 [00:02<00:00,  3.17it/s]\n",
            "Epoch 220\n"
          ]
        },
        {
          "name": "stdout",
          "output_type": "stream",
          "text": [
            "Saving model...\n",
            "{'edit_distance': 117.428, '_num_chars': 125.089, '_num_pred_chars': 131.872, 'nsentences': 1.0, '_world_size': 0.007, '_lm_score_sum': 0.0, '_kaldi_score_sum': 0.0, '_word_lm_sum': 0.0, '_num_words': 0.0, '_vocab_seen': [0.007, 0.007, 0.007, 0.007, 0.007, 0.007, 0.007, 0.007, 0.007, 0.007, 0.007, 0.005, 0.007, 0.007, 0.001, 0.007, 0.002, 0.007, 0.007, 0.007, 0.0, 0.007, 0.007, 0.007, 0.007, 0.001, 0.007, 0.006, 0.007, 0.0, 0.007, 0.007, 0.0, 0.007, 0.007, 0.0, 0.007, 0.007, 0.007, 0.0, 0.0, 0.007, 0.007, 0.0, 0.0, 0.005, 0.0, 0.0, 0.0, 0.0, 0.0, 0.0, 0.0, 0.0, 0.0, 0.0, 0.0, 0.0, 0.0, 0.0]}\n"
          ]
        },
        {
          "name": "stderr",
          "output_type": "stream",
          "text": [
            "Train: 100%|██████████| 82/82 [00:20<00:00,  3.99it/s]\n",
            "Epoch 221\n",
            "Train: 100%|██████████| 82/82 [00:24<00:00,  3.35it/s]\n",
            "Epoch 222\n",
            "Train: 100%|██████████| 82/82 [00:20<00:00,  3.95it/s]\n",
            "Epoch 223\n",
            "Train: 100%|██████████| 82/82 [00:24<00:00,  3.33it/s]\n",
            "Epoch 224\n",
            "Train: 100%|██████████| 82/82 [00:21<00:00,  3.88it/s]\n",
            "Eval : 100%|██████████| 7/7 [00:02<00:00,  3.17it/s]\n",
            "Epoch 225\n"
          ]
        },
        {
          "name": "stdout",
          "output_type": "stream",
          "text": [
            "Saving model...\n",
            "{'edit_distance': 118.532, '_num_chars': 125.089, '_num_pred_chars': 132.434, 'nsentences': 1.0, '_world_size': 0.007, '_lm_score_sum': 0.0, '_kaldi_score_sum': 0.0, '_word_lm_sum': 0.0, '_num_words': 0.0, '_vocab_seen': [0.007, 0.007, 0.006, 0.007, 0.007, 0.007, 0.007, 0.007, 0.007, 0.007, 0.007, 0.007, 0.007, 0.007, 0.007, 0.007, 0.006, 0.0, 0.0, 0.007, 0.0, 0.007, 0.007, 0.007, 0.0, 0.007, 0.007, 0.007, 0.007, 0.007, 0.007, 0.001, 0.0, 0.007, 0.007, 0.007, 0.0, 0.007, 0.007, 0.007, 0.007, 0.007, 0.0, 0.007, 0.0, 0.007, 0.0, 0.007, 0.007, 0.0, 0.007, 0.0, 0.0, 0.0, 0.007, 0.0, 0.0, 0.0, 0.0, 0.0]}\n"
          ]
        },
        {
          "name": "stderr",
          "output_type": "stream",
          "text": [
            "Train: 100%|██████████| 82/82 [00:24<00:00,  3.34it/s]\n",
            "Epoch 226\n",
            "Train: 100%|██████████| 82/82 [00:20<00:00,  4.00it/s]\n",
            "Epoch 227\n",
            "Train: 100%|██████████| 82/82 [00:24<00:00,  3.36it/s]\n",
            "Epoch 228\n",
            "Train: 100%|██████████| 82/82 [00:20<00:00,  3.99it/s]\n",
            "Epoch 229\n",
            "Train: 100%|██████████| 82/82 [00:24<00:00,  3.37it/s]\n",
            "Eval : 100%|██████████| 7/7 [00:02<00:00,  3.17it/s]\n",
            "Epoch 230\n"
          ]
        },
        {
          "name": "stdout",
          "output_type": "stream",
          "text": [
            "Saving model...\n",
            "{'edit_distance': 117.14, '_num_chars': 125.089, '_num_pred_chars': 129.253, 'nsentences': 1.0, '_world_size': 0.007, '_lm_score_sum': 0.0, '_kaldi_score_sum': 0.0, '_word_lm_sum': 0.0, '_num_words': 0.0, '_vocab_seen': [0.007, 0.007, 0.007, 0.007, 0.007, 0.007, 0.007, 0.007, 0.007, 0.007, 0.007, 0.007, 0.007, 0.0, 0.007, 0.007, 0.007, 0.007, 0.007, 0.007, 0.007, 0.007, 0.007, 0.007, 0.0, 0.007, 0.007, 0.007, 0.007, 0.0, 0.007, 0.0, 0.007, 0.007, 0.007, 0.0, 0.0, 0.007, 0.007, 0.007, 0.0, 0.007, 0.0, 0.0, 0.0, 0.007, 0.0, 0.0, 0.007, 0.0, 0.0, 0.0, 0.0, 0.0, 0.0, 0.0, 0.0, 0.0, 0.0, 0.0]}\n"
          ]
        },
        {
          "name": "stderr",
          "output_type": "stream",
          "text": [
            "Train: 100%|██████████| 82/82 [00:20<00:00,  3.95it/s]\n",
            "Epoch 231\n",
            "Train: 100%|██████████| 82/82 [00:24<00:00,  3.35it/s]\n",
            "Epoch 232\n",
            "Train: 100%|██████████| 82/82 [00:20<00:00,  3.96it/s]\n",
            "Epoch 233\n",
            "Train: 100%|██████████| 82/82 [00:24<00:00,  3.34it/s]\n",
            "Epoch 234\n",
            "Train: 100%|██████████| 82/82 [00:20<00:00,  3.94it/s]\n",
            "Eval : 100%|██████████| 7/7 [00:02<00:00,  3.16it/s]\n",
            "Epoch 235\n"
          ]
        },
        {
          "name": "stdout",
          "output_type": "stream",
          "text": [
            "Saving model...\n",
            "{'edit_distance': 116.129, '_num_chars': 125.089, '_num_pred_chars': 130.72, 'nsentences': 1.0, '_world_size': 0.007, '_lm_score_sum': 0.0, '_kaldi_score_sum': 0.0, '_word_lm_sum': 0.0, '_num_words': 0.0, '_vocab_seen': [0.007, 0.007, 0.007, 0.007, 0.007, 0.007, 0.007, 0.007, 0.007, 0.0, 0.007, 0.007, 0.007, 0.0, 0.007, 0.007, 0.007, 0.0, 0.007, 0.007, 0.007, 0.007, 0.007, 0.007, 0.007, 0.007, 0.007, 0.0, 0.007, 0.0, 0.007, 0.0, 0.007, 0.007, 0.007, 0.0, 0.001, 0.007, 0.007, 0.007, 0.007, 0.007, 0.0, 0.007, 0.0, 0.007, 0.0, 0.0, 0.0, 0.0, 0.0, 0.007, 0.0, 0.0, 0.0, 0.0, 0.0, 0.0, 0.0, 0.0]}\n"
          ]
        },
        {
          "name": "stderr",
          "output_type": "stream",
          "text": [
            "Train: 100%|██████████| 82/82 [00:24<00:00,  3.32it/s]\n",
            "Epoch 236\n",
            "Train: 100%|██████████| 82/82 [00:20<00:00,  3.96it/s]\n",
            "Epoch 237\n",
            "Train: 100%|██████████| 82/82 [00:24<00:00,  3.35it/s]\n",
            "Epoch 238\n",
            "Train: 100%|██████████| 82/82 [00:20<00:00,  3.97it/s]\n",
            "Epoch 239\n",
            "Train: 100%|██████████| 82/82 [00:24<00:00,  3.35it/s]\n",
            "Eval : 100%|██████████| 7/7 [00:02<00:00,  3.17it/s]\n",
            "Epoch 240\n"
          ]
        },
        {
          "name": "stdout",
          "output_type": "stream",
          "text": [
            "Saving model...\n",
            "{'edit_distance': 113.401, '_num_chars': 125.089, '_num_pred_chars': 122.911, 'nsentences': 1.0, '_world_size': 0.007, '_lm_score_sum': 0.0, '_kaldi_score_sum': 0.0, '_word_lm_sum': 0.0, '_num_words': 0.0, '_vocab_seen': [0.007, 0.007, 0.007, 0.007, 0.007, 0.007, 0.007, 0.007, 0.007, 0.001, 0.007, 0.007, 0.007, 0.007, 0.007, 0.007, 0.007, 0.007, 0.007, 0.007, 0.007, 0.007, 0.007, 0.007, 0.007, 0.007, 0.007, 0.007, 0.007, 0.007, 0.007, 0.0, 0.001, 0.007, 0.007, 0.0, 0.007, 0.007, 0.007, 0.0, 0.007, 0.007, 0.0, 0.007, 0.007, 0.007, 0.0, 0.0, 0.0, 0.0, 0.0, 0.0, 0.0, 0.0, 0.007, 0.0, 0.0, 0.0, 0.0, 0.0]}\n"
          ]
        },
        {
          "name": "stderr",
          "output_type": "stream",
          "text": [
            "Train: 100%|██████████| 82/82 [00:20<00:00,  3.95it/s]\n",
            "Epoch 241\n",
            "Train: 100%|██████████| 82/82 [00:24<00:00,  3.35it/s]\n",
            "Epoch 242\n",
            "Train: 100%|██████████| 82/82 [00:20<00:00,  3.97it/s]\n",
            "Epoch 243\n",
            "Train: 100%|██████████| 82/82 [00:24<00:00,  3.32it/s]\n",
            "Epoch 244\n",
            "Train: 100%|██████████| 82/82 [00:20<00:00,  3.95it/s]\n",
            "Eval : 100%|██████████| 7/7 [00:02<00:00,  3.16it/s]\n",
            "Epoch 245\n"
          ]
        },
        {
          "name": "stdout",
          "output_type": "stream",
          "text": [
            "Saving model...\n",
            "{'edit_distance': 121.084, '_num_chars': 125.089, '_num_pred_chars': 136.637, 'nsentences': 1.0, '_world_size': 0.007, '_lm_score_sum': 0.0, '_kaldi_score_sum': 0.0, '_word_lm_sum': 0.0, '_num_words': 0.0, '_vocab_seen': [0.007, 0.007, 0.007, 0.007, 0.007, 0.007, 0.007, 0.007, 0.007, 0.007, 0.007, 0.007, 0.007, 0.007, 0.0, 0.007, 0.007, 0.007, 0.007, 0.007, 0.007, 0.007, 0.007, 0.007, 0.0, 0.007, 0.007, 0.007, 0.007, 0.007, 0.007, 0.007, 0.007, 0.007, 0.007, 0.0, 0.007, 0.007, 0.007, 0.007, 0.007, 0.007, 0.0, 0.0, 0.0, 0.007, 0.001, 0.007, 0.0, 0.0, 0.0, 0.0, 0.0, 0.0, 0.0, 0.0, 0.0, 0.0, 0.0, 0.0]}\n"
          ]
        },
        {
          "name": "stderr",
          "output_type": "stream",
          "text": [
            "Train: 100%|██████████| 82/82 [00:24<00:00,  3.30it/s]\n",
            "Epoch 246\n",
            "Train: 100%|██████████| 82/82 [00:20<00:00,  3.95it/s]\n",
            "Epoch 247\n",
            "Train: 100%|██████████| 82/82 [00:24<00:00,  3.35it/s]\n",
            "Epoch 248\n",
            "Train: 100%|██████████| 82/82 [00:20<00:00,  3.99it/s]\n",
            "Epoch 249\n",
            "Train: 100%|██████████| 82/82 [00:24<00:00,  3.34it/s]\n",
            "Eval : 100%|██████████| 7/7 [00:02<00:00,  3.17it/s]\n",
            "Epoch 250\n"
          ]
        },
        {
          "name": "stdout",
          "output_type": "stream",
          "text": [
            "Saving model...\n",
            "{'edit_distance': 121.197, '_num_chars': 125.089, '_num_pred_chars': 136.564, 'nsentences': 1.0, '_world_size': 0.007, '_lm_score_sum': 0.0, '_kaldi_score_sum': 0.0, '_word_lm_sum': 0.0, '_num_words': 0.0, '_vocab_seen': [0.007, 0.007, 0.007, 0.007, 0.007, 0.007, 0.007, 0.007, 0.007, 0.007, 0.007, 0.007, 0.007, 0.007, 0.007, 0.007, 0.007, 0.007, 0.007, 0.007, 0.007, 0.007, 0.007, 0.007, 0.007, 0.007, 0.007, 0.007, 0.007, 0.007, 0.007, 0.0, 0.0, 0.007, 0.007, 0.0, 0.007, 0.007, 0.007, 0.0, 0.0, 0.007, 0.0, 0.0, 0.0, 0.007, 0.0, 0.0, 0.0, 0.0, 0.0, 0.007, 0.0, 0.0, 0.0, 0.0, 0.0, 0.0, 0.0, 0.0]}\n"
          ]
        },
        {
          "name": "stderr",
          "output_type": "stream",
          "text": [
            "Train: 100%|██████████| 82/82 [00:20<00:00,  3.95it/s]\n",
            "Epoch 251\n",
            "Train: 100%|██████████| 82/82 [00:24<00:00,  3.31it/s]\n",
            "Epoch 252\n",
            "Train: 100%|██████████| 82/82 [00:20<00:00,  3.97it/s]\n",
            "Epoch 253\n",
            "Train: 100%|██████████| 82/82 [00:24<00:00,  3.32it/s]\n",
            "Epoch 254\n",
            "Train: 100%|██████████| 82/82 [00:20<00:00,  3.97it/s]\n",
            "Eval : 100%|██████████| 7/7 [00:02<00:00,  3.24it/s]\n",
            "Epoch 255\n"
          ]
        },
        {
          "name": "stdout",
          "output_type": "stream",
          "text": [
            "Saving model...\n",
            "{'edit_distance': 117.362, '_num_chars': 125.089, '_num_pred_chars': 131.249, 'nsentences': 1.0, '_world_size': 0.007, '_lm_score_sum': 0.0, '_kaldi_score_sum': 0.0, '_word_lm_sum': 0.0, '_num_words': 0.0, '_vocab_seen': [0.007, 0.007, 0.007, 0.007, 0.007, 0.007, 0.007, 0.007, 0.007, 0.006, 0.007, 0.007, 0.007, 0.007, 0.0, 0.007, 0.007, 0.007, 0.007, 0.007, 0.007, 0.007, 0.007, 0.007, 0.007, 0.007, 0.007, 0.007, 0.007, 0.007, 0.007, 0.007, 0.007, 0.007, 0.0, 0.006, 0.007, 0.007, 0.007, 0.0, 0.007, 0.007, 0.007, 0.007, 0.0, 0.0, 0.0, 0.0, 0.007, 0.0, 0.0, 0.0, 0.0, 0.0, 0.0, 0.0, 0.0, 0.0, 0.0, 0.0]}\n"
          ]
        },
        {
          "name": "stderr",
          "output_type": "stream",
          "text": [
            "Train: 100%|██████████| 82/82 [00:24<00:00,  3.33it/s]\n",
            "Epoch 256\n",
            "Train: 100%|██████████| 82/82 [00:20<00:00,  3.96it/s]\n",
            "Epoch 257\n",
            "Train: 100%|██████████| 82/82 [00:24<00:00,  3.35it/s]\n",
            "Epoch 258\n",
            "Train: 100%|██████████| 82/82 [00:20<00:00,  3.97it/s]\n",
            "Epoch 259\n",
            "Train: 100%|██████████| 82/82 [00:24<00:00,  3.38it/s]\n",
            "Eval : 100%|██████████| 7/7 [00:02<00:00,  3.20it/s]\n",
            "Epoch 260\n"
          ]
        },
        {
          "name": "stdout",
          "output_type": "stream",
          "text": [
            "Saving model...\n",
            "{'edit_distance': 115.255, '_num_chars': 125.089, '_num_pred_chars': 128.161, 'nsentences': 1.0, '_world_size': 0.007, '_lm_score_sum': 0.0, '_kaldi_score_sum': 0.0, '_word_lm_sum': 0.0, '_num_words': 0.0, '_vocab_seen': [0.007, 0.007, 0.007, 0.007, 0.007, 0.007, 0.007, 0.007, 0.007, 0.007, 0.007, 0.007, 0.007, 0.007, 0.007, 0.007, 0.007, 0.007, 0.007, 0.007, 0.006, 0.007, 0.007, 0.007, 0.007, 0.007, 0.007, 0.0, 0.007, 0.007, 0.0, 0.0, 0.007, 0.007, 0.007, 0.0, 0.007, 0.007, 0.007, 0.007, 0.0, 0.007, 0.007, 0.0, 0.007, 0.0, 0.0, 0.0, 0.007, 0.0, 0.0, 0.0, 0.0, 0.0, 0.0, 0.0, 0.0, 0.0, 0.0, 0.0]}\n"
          ]
        },
        {
          "name": "stderr",
          "output_type": "stream",
          "text": [
            "Train: 100%|██████████| 82/82 [00:20<00:00,  3.98it/s]\n",
            "Epoch 261\n",
            "Train: 100%|██████████| 82/82 [00:24<00:00,  3.35it/s]\n",
            "Epoch 262\n",
            "Train: 100%|██████████| 82/82 [00:20<00:00,  3.97it/s]\n",
            "Epoch 263\n",
            "Train: 100%|██████████| 82/82 [00:24<00:00,  3.34it/s]\n",
            "Epoch 264\n",
            "Train: 100%|██████████| 82/82 [00:20<00:00,  3.97it/s]\n",
            "Eval : 100%|██████████| 7/7 [00:02<00:00,  3.19it/s]\n",
            "Epoch 265\n"
          ]
        },
        {
          "name": "stdout",
          "output_type": "stream",
          "text": [
            "Saving model...\n",
            "{'edit_distance': 119.55, '_num_chars': 125.089, '_num_pred_chars': 134.664, 'nsentences': 1.0, '_world_size': 0.007, '_lm_score_sum': 0.0, '_kaldi_score_sum': 0.0, '_word_lm_sum': 0.0, '_num_words': 0.0, '_vocab_seen': [0.007, 0.007, 0.007, 0.007, 0.007, 0.007, 0.0, 0.007, 0.007, 0.007, 0.007, 0.007, 0.007, 0.007, 0.0, 0.007, 0.007, 0.007, 0.007, 0.007, 0.007, 0.007, 0.007, 0.007, 0.007, 0.0, 0.007, 0.006, 0.007, 0.007, 0.007, 0.007, 0.007, 0.007, 0.007, 0.0, 0.007, 0.007, 0.007, 0.007, 0.0, 0.007, 0.007, 0.0, 0.0, 0.007, 0.007, 0.0, 0.0, 0.0, 0.0, 0.0, 0.0, 0.0, 0.0, 0.0, 0.0, 0.0, 0.0, 0.0]}\n"
          ]
        },
        {
          "name": "stderr",
          "output_type": "stream",
          "text": [
            "Train: 100%|██████████| 82/82 [00:24<00:00,  3.35it/s]\n",
            "Epoch 266\n",
            "Train: 100%|██████████| 82/82 [00:20<00:00,  3.96it/s]\n",
            "Epoch 267\n",
            "Train: 100%|██████████| 82/82 [00:24<00:00,  3.33it/s]\n",
            "Epoch 268\n",
            "Train: 100%|██████████| 82/82 [00:20<00:00,  4.02it/s]\n",
            "Epoch 269\n",
            "Train: 100%|██████████| 82/82 [00:24<00:00,  3.34it/s]\n",
            "Eval : 100%|██████████| 7/7 [00:02<00:00,  3.21it/s]\n",
            "Epoch 270\n"
          ]
        },
        {
          "name": "stdout",
          "output_type": "stream",
          "text": [
            "Saving model...\n",
            "{'edit_distance': 118.172, '_num_chars': 125.089, '_num_pred_chars': 135.121, 'nsentences': 1.0, '_world_size': 0.007, '_lm_score_sum': 0.0, '_kaldi_score_sum': 0.0, '_word_lm_sum': 0.0, '_num_words': 0.0, '_vocab_seen': [0.007, 0.007, 0.007, 0.007, 0.007, 0.007, 0.007, 0.007, 0.007, 0.007, 0.007, 0.007, 0.007, 0.007, 0.0, 0.007, 0.0, 0.007, 0.007, 0.007, 0.007, 0.007, 0.007, 0.007, 0.007, 0.0, 0.007, 0.001, 0.007, 0.007, 0.007, 0.007, 0.007, 0.007, 0.007, 0.0, 0.0, 0.007, 0.007, 0.007, 0.0, 0.007, 0.007, 0.0, 0.0, 0.0, 0.0, 0.007, 0.0, 0.0, 0.007, 0.0, 0.0, 0.007, 0.0, 0.0, 0.0, 0.0, 0.0, 0.0]}\n"
          ]
        },
        {
          "name": "stderr",
          "output_type": "stream",
          "text": [
            "Train: 100%|██████████| 82/82 [00:20<00:00,  3.97it/s]\n",
            "Epoch 271\n",
            "Train: 100%|██████████| 82/82 [00:24<00:00,  3.33it/s]\n",
            "Epoch 272\n",
            "Train: 100%|██████████| 82/82 [00:20<00:00,  3.95it/s]\n",
            "Epoch 273\n",
            "Train: 100%|██████████| 82/82 [00:24<00:00,  3.38it/s]\n",
            "Epoch 274\n",
            "Train: 100%|██████████| 82/82 [00:20<00:00,  3.96it/s]\n",
            "Eval : 100%|██████████| 7/7 [00:02<00:00,  3.17it/s]\n",
            "Epoch 275\n"
          ]
        },
        {
          "name": "stdout",
          "output_type": "stream",
          "text": [
            "Saving model...\n",
            "{'edit_distance': 117.816, '_num_chars': 125.089, '_num_pred_chars': 132.874, 'nsentences': 1.0, '_world_size': 0.007, '_lm_score_sum': 0.0, '_kaldi_score_sum': 0.0, '_word_lm_sum': 0.0, '_num_words': 0.0, '_vocab_seen': [0.007, 0.007, 0.007, 0.007, 0.007, 0.007, 0.007, 0.007, 0.007, 0.007, 0.007, 0.007, 0.007, 0.007, 0.0, 0.007, 0.007, 0.007, 0.007, 0.007, 0.007, 0.007, 0.007, 0.007, 0.007, 0.007, 0.007, 0.007, 0.007, 0.007, 0.007, 0.0, 0.007, 0.007, 0.007, 0.001, 0.006, 0.007, 0.007, 0.0, 0.0, 0.007, 0.007, 0.0, 0.007, 0.007, 0.0, 0.007, 0.0, 0.0, 0.0, 0.0, 0.0, 0.0, 0.0, 0.0, 0.0, 0.0, 0.0, 0.0]}\n"
          ]
        },
        {
          "name": "stderr",
          "output_type": "stream",
          "text": [
            "Train: 100%|██████████| 82/82 [00:24<00:00,  3.33it/s]\n",
            "Epoch 276\n",
            "Train: 100%|██████████| 82/82 [00:20<00:00,  4.01it/s]\n",
            "Epoch 277\n",
            "Train: 100%|██████████| 82/82 [00:24<00:00,  3.36it/s]\n",
            "Epoch 278\n",
            "Train: 100%|██████████| 82/82 [00:20<00:00,  3.93it/s]\n",
            "Epoch 279\n",
            "Train: 100%|██████████| 82/82 [00:24<00:00,  3.35it/s]\n",
            "Eval : 100%|██████████| 7/7 [00:02<00:00,  3.22it/s]\n",
            "Epoch 280\n"
          ]
        },
        {
          "name": "stdout",
          "output_type": "stream",
          "text": [
            "Saving model...\n",
            "{'edit_distance': 120.048, '_num_chars': 125.089, '_num_pred_chars': 137.11, 'nsentences': 1.0, '_world_size': 0.007, '_lm_score_sum': 0.0, '_kaldi_score_sum': 0.0, '_word_lm_sum': 0.0, '_num_words': 0.0, '_vocab_seen': [0.007, 0.007, 0.007, 0.007, 0.007, 0.007, 0.007, 0.007, 0.007, 0.007, 0.007, 0.007, 0.007, 0.007, 0.007, 0.007, 0.007, 0.0, 0.007, 0.007, 0.007, 0.007, 0.007, 0.007, 0.007, 0.0, 0.007, 0.007, 0.007, 0.007, 0.007, 0.0, 0.007, 0.007, 0.007, 0.0, 0.0, 0.007, 0.007, 0.0, 0.0, 0.007, 0.007, 0.007, 0.007, 0.007, 0.0, 0.0, 0.0, 0.0, 0.007, 0.0, 0.0, 0.007, 0.0, 0.0, 0.0, 0.0, 0.0, 0.0]}\n"
          ]
        },
        {
          "name": "stderr",
          "output_type": "stream",
          "text": [
            "Train: 100%|██████████| 82/82 [00:20<00:00,  3.93it/s]\n",
            "Epoch 281\n",
            "Train: 100%|██████████| 82/82 [00:24<00:00,  3.36it/s]\n",
            "Epoch 282\n",
            "Train: 100%|██████████| 82/82 [00:20<00:00,  3.93it/s]\n",
            "Epoch 283\n",
            "Train: 100%|██████████| 82/82 [00:24<00:00,  3.34it/s]\n",
            "Epoch 284\n",
            "Train: 100%|██████████| 82/82 [00:20<00:00,  3.93it/s]\n",
            "Eval : 100%|██████████| 7/7 [00:02<00:00,  3.19it/s]\n",
            "Epoch 285\n"
          ]
        },
        {
          "name": "stdout",
          "output_type": "stream",
          "text": [
            "Saving model...\n",
            "{'edit_distance': 117.619, '_num_chars': 125.089, '_num_pred_chars': 131.19, 'nsentences': 1.0, '_world_size': 0.007, '_lm_score_sum': 0.0, '_kaldi_score_sum': 0.0, '_word_lm_sum': 0.0, '_num_words': 0.0, '_vocab_seen': [0.007, 0.007, 0.007, 0.007, 0.007, 0.007, 0.007, 0.007, 0.007, 0.007, 0.007, 0.007, 0.007, 0.007, 0.007, 0.007, 0.007, 0.007, 0.007, 0.007, 0.007, 0.007, 0.007, 0.007, 0.007, 0.007, 0.007, 0.007, 0.007, 0.007, 0.007, 0.0, 0.0, 0.007, 0.007, 0.007, 0.001, 0.007, 0.007, 0.0, 0.0, 0.007, 0.007, 0.0, 0.0, 0.007, 0.0, 0.0, 0.005, 0.0, 0.0, 0.0, 0.0, 0.007, 0.0, 0.007, 0.0, 0.0, 0.0, 0.0]}\n"
          ]
        },
        {
          "name": "stderr",
          "output_type": "stream",
          "text": [
            "Train: 100%|██████████| 82/82 [00:24<00:00,  3.34it/s]\n",
            "Epoch 286\n",
            "Train: 100%|██████████| 82/82 [00:20<00:00,  3.99it/s]\n",
            "Epoch 287\n",
            "Train: 100%|██████████| 82/82 [00:24<00:00,  3.36it/s]\n",
            "Epoch 288\n",
            "Train: 100%|██████████| 82/82 [00:20<00:00,  3.96it/s]\n",
            "Epoch 289\n",
            "Train: 100%|██████████| 82/82 [00:24<00:00,  3.29it/s]\n",
            "Eval : 100%|██████████| 7/7 [00:02<00:00,  3.19it/s]\n",
            "Epoch 290\n"
          ]
        },
        {
          "name": "stdout",
          "output_type": "stream",
          "text": [
            "Saving model...\n",
            "{'edit_distance': 117.872, '_num_chars': 125.089, '_num_pred_chars': 133.175, 'nsentences': 1.0, '_world_size': 0.007, '_lm_score_sum': 0.0, '_kaldi_score_sum': 0.0, '_word_lm_sum': 0.0, '_num_words': 0.0, '_vocab_seen': [0.007, 0.007, 0.007, 0.007, 0.007, 0.007, 0.0, 0.007, 0.007, 0.007, 0.007, 0.007, 0.007, 0.007, 0.007, 0.007, 0.007, 0.007, 0.007, 0.007, 0.007, 0.007, 0.007, 0.007, 0.007, 0.007, 0.007, 0.007, 0.007, 0.007, 0.007, 0.0, 0.007, 0.007, 0.007, 0.007, 0.0, 0.007, 0.007, 0.007, 0.0, 0.007, 0.007, 0.0, 0.0, 0.0, 0.0, 0.0, 0.0, 0.0, 0.0, 0.007, 0.0, 0.007, 0.0, 0.0, 0.0, 0.0, 0.007, 0.0]}\n"
          ]
        },
        {
          "name": "stderr",
          "output_type": "stream",
          "text": [
            "Train: 100%|██████████| 82/82 [00:20<00:00,  3.94it/s]\n",
            "Epoch 291\n",
            "Train: 100%|██████████| 82/82 [00:24<00:00,  3.35it/s]\n",
            "Epoch 292\n",
            "Train: 100%|██████████| 82/82 [00:20<00:00,  4.00it/s]\n",
            "Epoch 293\n",
            "Train: 100%|██████████| 82/82 [00:24<00:00,  3.36it/s]\n",
            "Epoch 294\n",
            "Train: 100%|██████████| 82/82 [00:20<00:00,  3.98it/s]\n",
            "Eval : 100%|██████████| 7/7 [00:02<00:00,  3.20it/s]\n",
            "Epoch 295\n"
          ]
        },
        {
          "name": "stdout",
          "output_type": "stream",
          "text": [
            "Saving model...\n",
            "{'edit_distance': 117.347, '_num_chars': 125.089, '_num_pred_chars': 135.168, 'nsentences': 1.0, '_world_size': 0.007, '_lm_score_sum': 0.0, '_kaldi_score_sum': 0.0, '_word_lm_sum': 0.0, '_num_words': 0.0, '_vocab_seen': [0.007, 0.007, 0.007, 0.007, 0.007, 0.007, 0.007, 0.007, 0.007, 0.007, 0.007, 0.007, 0.007, 0.007, 0.007, 0.007, 0.007, 0.007, 0.007, 0.007, 0.007, 0.007, 0.007, 0.007, 0.007, 0.007, 0.007, 0.007, 0.007, 0.007, 0.0, 0.0, 0.0, 0.007, 0.007, 0.0, 0.007, 0.0, 0.007, 0.0, 0.007, 0.007, 0.0, 0.0, 0.0, 0.007, 0.0, 0.0, 0.0, 0.0, 0.0, 0.0, 0.0, 0.0, 0.0, 0.0, 0.0, 0.0, 0.0, 0.0]}\n"
          ]
        },
        {
          "name": "stderr",
          "output_type": "stream",
          "text": [
            "Train: 100%|██████████| 82/82 [00:24<00:00,  3.34it/s]\n",
            "Epoch 296\n",
            "Train: 100%|██████████| 82/82 [00:20<00:00,  3.98it/s]\n",
            "Epoch 297\n",
            "Train: 100%|██████████| 82/82 [00:24<00:00,  3.35it/s]\n",
            "Epoch 298\n",
            "Train: 100%|██████████| 82/82 [00:20<00:00,  3.97it/s]\n",
            "Epoch 299\n",
            "Train: 100%|██████████| 82/82 [00:24<00:00,  3.32it/s]\n",
            "Eval : 100%|██████████| 7/7 [00:02<00:00,  3.27it/s]\n",
            "Epoch 300\n"
          ]
        },
        {
          "name": "stdout",
          "output_type": "stream",
          "text": [
            "Saving model...\n",
            "{'edit_distance': 118.23, '_num_chars': 125.089, '_num_pred_chars': 133.754, 'nsentences': 1.0, '_world_size': 0.007, '_lm_score_sum': 0.0, '_kaldi_score_sum': 0.0, '_word_lm_sum': 0.0, '_num_words': 0.0, '_vocab_seen': [0.007, 0.007, 0.007, 0.007, 0.007, 0.007, 0.007, 0.007, 0.007, 0.007, 0.007, 0.007, 0.007, 0.007, 0.007, 0.007, 0.007, 0.007, 0.007, 0.007, 0.007, 0.007, 0.007, 0.007, 0.007, 0.007, 0.007, 0.001, 0.007, 0.007, 0.007, 0.001, 0.0, 0.007, 0.007, 0.0, 0.0, 0.0, 0.007, 0.0, 0.0, 0.0, 0.007, 0.0, 0.0, 0.0, 0.0, 0.0, 0.0, 0.0, 0.007, 0.0, 0.0, 0.0, 0.007, 0.0, 0.0, 0.0, 0.0, 0.0]}\n"
          ]
        },
        {
          "name": "stderr",
          "output_type": "stream",
          "text": [
            "Train: 100%|██████████| 82/82 [00:20<00:00,  3.97it/s]\n",
            "Epoch 301\n",
            "Train: 100%|██████████| 82/82 [00:24<00:00,  3.34it/s]\n",
            "Epoch 302\n",
            "Train: 100%|██████████| 82/82 [00:20<00:00,  3.98it/s]\n",
            "Epoch 303\n",
            "Train: 100%|██████████| 82/82 [00:24<00:00,  3.35it/s]\n",
            "Epoch 304\n",
            "Train: 100%|██████████| 82/82 [00:20<00:00,  3.97it/s]\n",
            "Eval : 100%|██████████| 7/7 [00:02<00:00,  3.17it/s]\n",
            "Epoch 305\n"
          ]
        },
        {
          "name": "stdout",
          "output_type": "stream",
          "text": [
            "Saving model...\n",
            "{'edit_distance': 116.377, '_num_chars': 125.089, '_num_pred_chars': 131.765, 'nsentences': 1.0, '_world_size': 0.007, '_lm_score_sum': 0.0, '_kaldi_score_sum': 0.0, '_word_lm_sum': 0.0, '_num_words': 0.0, '_vocab_seen': [0.007, 0.007, 0.007, 0.007, 0.007, 0.007, 0.007, 0.007, 0.007, 0.002, 0.007, 0.007, 0.007, 0.007, 0.007, 0.007, 0.007, 0.007, 0.007, 0.007, 0.007, 0.007, 0.007, 0.007, 0.007, 0.007, 0.007, 0.007, 0.007, 0.0, 0.0, 0.0, 0.007, 0.007, 0.007, 0.0, 0.0, 0.007, 0.007, 0.0, 0.0, 0.007, 0.0, 0.0, 0.0, 0.007, 0.0, 0.007, 0.0, 0.0, 0.0, 0.0, 0.0, 0.0, 0.0, 0.0, 0.0, 0.0, 0.0, 0.0]}\n"
          ]
        },
        {
          "name": "stderr",
          "output_type": "stream",
          "text": [
            "Train: 100%|██████████| 82/82 [00:24<00:00,  3.34it/s]\n",
            "Epoch 306\n",
            "Train: 100%|██████████| 82/82 [00:20<00:00,  4.01it/s]\n",
            "Epoch 307\n",
            "Train: 100%|██████████| 82/82 [00:24<00:00,  3.39it/s]\n",
            "Epoch 308\n",
            "Train: 100%|██████████| 82/82 [00:20<00:00,  3.93it/s]\n",
            "Epoch 309\n",
            "Train: 100%|██████████| 82/82 [00:24<00:00,  3.30it/s]\n",
            "Eval : 100%|██████████| 7/7 [00:02<00:00,  3.16it/s]\n",
            "Epoch 310\n"
          ]
        },
        {
          "name": "stdout",
          "output_type": "stream",
          "text": [
            "Saving model...\n",
            "{'edit_distance': 117.114, '_num_chars': 125.089, '_num_pred_chars': 133.552, 'nsentences': 1.0, '_world_size': 0.007, '_lm_score_sum': 0.0, '_kaldi_score_sum': 0.0, '_word_lm_sum': 0.0, '_num_words': 0.0, '_vocab_seen': [0.007, 0.007, 0.007, 0.001, 0.007, 0.007, 0.007, 0.007, 0.007, 0.001, 0.007, 0.007, 0.007, 0.007, 0.007, 0.007, 0.007, 0.007, 0.007, 0.007, 0.007, 0.007, 0.007, 0.007, 0.007, 0.007, 0.007, 0.007, 0.007, 0.0, 0.0, 0.0, 0.0, 0.007, 0.007, 0.0, 0.007, 0.007, 0.007, 0.0, 0.0, 0.007, 0.007, 0.0, 0.0, 0.0, 0.0, 0.007, 0.007, 0.0, 0.0, 0.0, 0.0, 0.0, 0.0, 0.0, 0.0, 0.0, 0.0, 0.0]}\n"
          ]
        },
        {
          "name": "stderr",
          "output_type": "stream",
          "text": [
            "Train: 100%|██████████| 82/82 [00:20<00:00,  4.00it/s]\n",
            "Epoch 311\n",
            "Train: 100%|██████████| 82/82 [00:24<00:00,  3.38it/s]\n",
            "Epoch 312\n",
            "Train: 100%|██████████| 82/82 [00:20<00:00,  4.00it/s]\n",
            "Epoch 313\n",
            "Train: 100%|██████████| 82/82 [00:24<00:00,  3.34it/s]\n",
            "Epoch 314\n",
            "Train: 100%|██████████| 82/82 [00:20<00:00,  3.93it/s]\n",
            "Eval : 100%|██████████| 7/7 [00:02<00:00,  3.17it/s]\n",
            "Epoch 315\n"
          ]
        },
        {
          "name": "stdout",
          "output_type": "stream",
          "text": [
            "Saving model...\n",
            "{'edit_distance': 114.757, '_num_chars': 125.089, '_num_pred_chars': 130.299, 'nsentences': 1.0, '_world_size': 0.007, '_lm_score_sum': 0.0, '_kaldi_score_sum': 0.0, '_word_lm_sum': 0.0, '_num_words': 0.0, '_vocab_seen': [0.007, 0.007, 0.007, 0.007, 0.007, 0.007, 0.007, 0.007, 0.007, 0.007, 0.007, 0.007, 0.007, 0.007, 0.0, 0.007, 0.0, 0.007, 0.007, 0.007, 0.007, 0.007, 0.007, 0.007, 0.007, 0.007, 0.007, 0.007, 0.007, 0.007, 0.007, 0.001, 0.0, 0.007, 0.007, 0.0, 0.0, 0.0, 0.007, 0.0, 0.004, 0.007, 0.0, 0.0, 0.0, 0.0, 0.0, 0.0, 0.007, 0.0, 0.0, 0.0, 0.0, 0.0, 0.0, 0.0, 0.0, 0.0, 0.0, 0.0]}\n"
          ]
        },
        {
          "name": "stderr",
          "output_type": "stream",
          "text": [
            "Train: 100%|██████████| 82/82 [00:24<00:00,  3.39it/s]\n",
            "Epoch 316\n",
            "Train: 100%|██████████| 82/82 [00:20<00:00,  3.97it/s]\n",
            "Epoch 317\n",
            "Train: 100%|██████████| 82/82 [00:24<00:00,  3.36it/s]\n",
            "Epoch 318\n",
            "Train: 100%|██████████| 82/82 [00:20<00:00,  3.91it/s]\n",
            "Epoch 319\n",
            "Train: 100%|██████████| 82/82 [00:24<00:00,  3.32it/s]\n",
            "Eval : 100%|██████████| 7/7 [00:02<00:00,  3.10it/s]\n",
            "Epoch 320\n"
          ]
        },
        {
          "name": "stdout",
          "output_type": "stream",
          "text": [
            "Saving model...\n",
            "{'edit_distance': 119.583, '_num_chars': 125.089, '_num_pred_chars': 134.578, 'nsentences': 1.0, '_world_size': 0.007, '_lm_score_sum': 0.0, '_kaldi_score_sum': 0.0, '_word_lm_sum': 0.0, '_num_words': 0.0, '_vocab_seen': [0.007, 0.007, 0.007, 0.007, 0.007, 0.007, 0.007, 0.007, 0.007, 0.007, 0.007, 0.007, 0.007, 0.007, 0.007, 0.007, 0.007, 0.007, 0.007, 0.007, 0.007, 0.007, 0.007, 0.007, 0.007, 0.0, 0.007, 0.007, 0.007, 0.007, 0.007, 0.0, 0.0, 0.007, 0.007, 0.007, 0.007, 0.007, 0.007, 0.007, 0.007, 0.007, 0.007, 0.0, 0.0, 0.0, 0.0, 0.0, 0.007, 0.007, 0.0, 0.007, 0.0, 0.0, 0.0, 0.0, 0.0, 0.0, 0.0, 0.0]}\n"
          ]
        },
        {
          "name": "stderr",
          "output_type": "stream",
          "text": [
            "Train: 100%|██████████| 82/82 [00:20<00:00,  3.91it/s]\n",
            "Epoch 321\n",
            "Train: 100%|██████████| 82/82 [00:24<00:00,  3.29it/s]\n",
            "Epoch 322\n",
            "Train: 100%|██████████| 82/82 [00:20<00:00,  3.97it/s]\n",
            "Epoch 323\n",
            "Train: 100%|██████████| 82/82 [00:24<00:00,  3.37it/s]\n",
            "Epoch 324\n",
            "Train: 100%|██████████| 82/82 [00:20<00:00,  3.95it/s]\n",
            "Eval : 100%|██████████| 7/7 [00:02<00:00,  3.16it/s]\n",
            "Epoch 325\n"
          ]
        },
        {
          "name": "stdout",
          "output_type": "stream",
          "text": [
            "Saving model...\n",
            "{'edit_distance': 115.164, '_num_chars': 125.089, '_num_pred_chars': 128.996, 'nsentences': 1.0, '_world_size': 0.007, '_lm_score_sum': 0.0, '_kaldi_score_sum': 0.0, '_word_lm_sum': 0.0, '_num_words': 0.0, '_vocab_seen': [0.007, 0.007, 0.007, 0.007, 0.007, 0.007, 0.007, 0.007, 0.007, 0.007, 0.007, 0.007, 0.007, 0.007, 0.0, 0.007, 0.0, 0.007, 0.007, 0.007, 0.007, 0.007, 0.007, 0.007, 0.007, 0.0, 0.007, 0.007, 0.007, 0.007, 0.007, 0.0, 0.0, 0.007, 0.007, 0.0, 0.0, 0.005, 0.007, 0.0, 0.007, 0.0, 0.007, 0.0, 0.007, 0.007, 0.0, 0.0, 0.0, 0.001, 0.0, 0.0, 0.0, 0.0, 0.0, 0.0, 0.0, 0.0, 0.0, 0.0]}\n"
          ]
        },
        {
          "name": "stderr",
          "output_type": "stream",
          "text": [
            "Train: 100%|██████████| 82/82 [00:24<00:00,  3.33it/s]\n",
            "Epoch 326\n",
            "Train: 100%|██████████| 82/82 [00:20<00:00,  3.98it/s]\n",
            "Epoch 327\n",
            "Train: 100%|██████████| 82/82 [00:24<00:00,  3.30it/s]\n",
            "Epoch 328\n",
            "Train: 100%|██████████| 82/82 [00:20<00:00,  3.97it/s]\n",
            "Epoch 329\n",
            "Train: 100%|██████████| 82/82 [00:24<00:00,  3.33it/s]\n",
            "Eval : 100%|██████████| 7/7 [00:02<00:00,  3.16it/s]\n",
            "Epoch 330\n"
          ]
        },
        {
          "name": "stdout",
          "output_type": "stream",
          "text": [
            "Saving model...\n",
            "{'edit_distance': 116.113, '_num_chars': 125.089, '_num_pred_chars': 129.668, 'nsentences': 1.0, '_world_size': 0.007, '_lm_score_sum': 0.0, '_kaldi_score_sum': 0.0, '_word_lm_sum': 0.0, '_num_words': 0.0, '_vocab_seen': [0.007, 0.007, 0.007, 0.007, 0.007, 0.007, 0.007, 0.007, 0.007, 0.007, 0.007, 0.007, 0.007, 0.007, 0.007, 0.007, 0.007, 0.007, 0.007, 0.007, 0.007, 0.007, 0.007, 0.0, 0.007, 0.0, 0.007, 0.007, 0.007, 0.007, 0.007, 0.0, 0.007, 0.007, 0.007, 0.0, 0.007, 0.0, 0.007, 0.0, 0.007, 0.0, 0.007, 0.0, 0.0, 0.0, 0.007, 0.0, 0.0, 0.0, 0.0, 0.007, 0.0, 0.0, 0.0, 0.0, 0.0, 0.0, 0.0, 0.0]}\n"
          ]
        },
        {
          "name": "stderr",
          "output_type": "stream",
          "text": [
            "Train: 100%|██████████| 82/82 [00:20<00:00,  3.97it/s]\n",
            "Epoch 331\n",
            "Train: 100%|██████████| 82/82 [00:24<00:00,  3.37it/s]\n",
            "Epoch 332\n",
            "Train: 100%|██████████| 82/82 [00:20<00:00,  3.97it/s]\n",
            "Epoch 333\n",
            "Train: 100%|██████████| 82/82 [00:24<00:00,  3.33it/s]\n",
            "Epoch 334\n",
            "Train: 100%|██████████| 82/82 [00:21<00:00,  3.89it/s]\n",
            "Eval : 100%|██████████| 7/7 [00:02<00:00,  3.13it/s]\n",
            "Epoch 335\n"
          ]
        },
        {
          "name": "stdout",
          "output_type": "stream",
          "text": [
            "Saving model...\n",
            "{'edit_distance': 115.657, '_num_chars': 125.089, '_num_pred_chars': 132.201, 'nsentences': 1.0, '_world_size': 0.007, '_lm_score_sum': 0.0, '_kaldi_score_sum': 0.0, '_word_lm_sum': 0.0, '_num_words': 0.0, '_vocab_seen': [0.007, 0.007, 0.007, 0.007, 0.007, 0.007, 0.007, 0.007, 0.007, 0.007, 0.007, 0.007, 0.007, 0.007, 0.007, 0.007, 0.007, 0.007, 0.0, 0.007, 0.007, 0.007, 0.007, 0.0, 0.007, 0.007, 0.007, 0.007, 0.007, 0.007, 0.007, 0.0, 0.007, 0.0, 0.007, 0.0, 0.007, 0.0, 0.007, 0.0, 0.007, 0.0, 0.007, 0.007, 0.0, 0.007, 0.007, 0.0, 0.0, 0.0, 0.0, 0.0, 0.0, 0.0, 0.0, 0.0, 0.0, 0.0, 0.0, 0.0]}\n"
          ]
        },
        {
          "name": "stderr",
          "output_type": "stream",
          "text": [
            "Train: 100%|██████████| 82/82 [00:24<00:00,  3.36it/s]\n",
            "Epoch 336\n",
            "Train: 100%|██████████| 82/82 [00:20<00:00,  3.99it/s]\n",
            "Epoch 337\n",
            "Train: 100%|██████████| 82/82 [00:24<00:00,  3.37it/s]\n",
            "Epoch 338\n",
            "Train: 100%|██████████| 82/82 [00:20<00:00,  3.97it/s]\n",
            "Epoch 339\n",
            "Train: 100%|██████████| 82/82 [00:24<00:00,  3.37it/s]\n",
            "Eval : 100%|██████████| 7/7 [00:02<00:00,  3.20it/s]\n",
            "Epoch 340\n"
          ]
        },
        {
          "name": "stdout",
          "output_type": "stream",
          "text": [
            "Saving model...\n",
            "{'edit_distance': 113.983, '_num_chars': 125.089, '_num_pred_chars': 127.513, 'nsentences': 1.0, '_world_size': 0.007, '_lm_score_sum': 0.0, '_kaldi_score_sum': 0.0, '_word_lm_sum': 0.0, '_num_words': 0.0, '_vocab_seen': [0.007, 0.007, 0.007, 0.007, 0.007, 0.007, 0.006, 0.007, 0.007, 0.007, 0.007, 0.007, 0.007, 0.007, 0.007, 0.007, 0.007, 0.007, 0.0, 0.007, 0.007, 0.007, 0.007, 0.007, 0.007, 0.001, 0.007, 0.007, 0.007, 0.007, 0.007, 0.0, 0.006, 0.007, 0.007, 0.0, 0.007, 0.0, 0.007, 0.0, 0.0, 0.007, 0.007, 0.007, 0.0, 0.007, 0.007, 0.0, 0.0, 0.0, 0.0, 0.0, 0.0, 0.0, 0.0, 0.0, 0.0, 0.0, 0.0, 0.0]}\n"
          ]
        },
        {
          "name": "stderr",
          "output_type": "stream",
          "text": [
            "Train: 100%|██████████| 82/82 [00:20<00:00,  3.97it/s]\n",
            "Epoch 341\n",
            "Train: 100%|██████████| 82/82 [00:24<00:00,  3.32it/s]\n",
            "Epoch 342\n",
            "Train: 100%|██████████| 82/82 [00:20<00:00,  3.98it/s]\n",
            "Epoch 343\n",
            "Train: 100%|██████████| 82/82 [00:24<00:00,  3.39it/s]\n",
            "Epoch 344\n",
            "Train: 100%|██████████| 82/82 [00:20<00:00,  3.92it/s]\n",
            "Eval : 100%|██████████| 7/7 [00:02<00:00,  3.14it/s]\n",
            "Epoch 345\n"
          ]
        },
        {
          "name": "stdout",
          "output_type": "stream",
          "text": [
            "Saving model...\n",
            "{'edit_distance': 119.719, '_num_chars': 125.089, '_num_pred_chars': 134.631, 'nsentences': 1.0, '_world_size': 0.007, '_lm_score_sum': 0.0, '_kaldi_score_sum': 0.0, '_word_lm_sum': 0.0, '_num_words': 0.0, '_vocab_seen': [0.007, 0.007, 0.007, 0.007, 0.007, 0.007, 0.007, 0.007, 0.007, 0.007, 0.007, 0.007, 0.007, 0.007, 0.007, 0.007, 0.007, 0.007, 0.007, 0.007, 0.007, 0.007, 0.007, 0.001, 0.007, 0.007, 0.007, 0.007, 0.007, 0.007, 0.007, 0.007, 0.0, 0.0, 0.007, 0.002, 0.007, 0.007, 0.007, 0.007, 0.007, 0.007, 0.007, 0.0, 0.007, 0.007, 0.0, 0.0, 0.007, 0.0, 0.0, 0.0, 0.0, 0.0, 0.0, 0.0, 0.0, 0.0, 0.0, 0.0]}\n"
          ]
        },
        {
          "name": "stderr",
          "output_type": "stream",
          "text": [
            "Train: 100%|██████████| 82/82 [00:24<00:00,  3.33it/s]\n",
            "Epoch 346\n",
            "Train: 100%|██████████| 82/82 [00:20<00:00,  3.97it/s]\n",
            "Epoch 347\n",
            "Train: 100%|██████████| 82/82 [00:24<00:00,  3.32it/s]\n",
            "Epoch 348\n",
            "Train: 100%|██████████| 82/82 [00:20<00:00,  3.96it/s]\n",
            "Epoch 349\n",
            "Train: 100%|██████████| 82/82 [00:24<00:00,  3.33it/s]\n",
            "Eval : 100%|██████████| 7/7 [00:02<00:00,  3.15it/s]\n",
            "Epoch 350\n"
          ]
        },
        {
          "name": "stdout",
          "output_type": "stream",
          "text": [
            "Saving model...\n",
            "{'edit_distance': 115.782, '_num_chars': 125.089, '_num_pred_chars': 128.305, 'nsentences': 1.0, '_world_size': 0.007, '_lm_score_sum': 0.0, '_kaldi_score_sum': 0.0, '_word_lm_sum': 0.0, '_num_words': 0.0, '_vocab_seen': [0.007, 0.007, 0.007, 0.007, 0.007, 0.007, 0.002, 0.007, 0.007, 0.007, 0.007, 0.007, 0.007, 0.001, 0.007, 0.007, 0.007, 0.007, 0.007, 0.007, 0.007, 0.007, 0.007, 0.007, 0.007, 0.007, 0.007, 0.007, 0.007, 0.007, 0.0, 0.0, 0.007, 0.0, 0.007, 0.0, 0.007, 0.007, 0.007, 0.007, 0.0, 0.007, 0.007, 0.0, 0.0, 0.0, 0.0, 0.0, 0.0, 0.0, 0.0, 0.0, 0.0, 0.0, 0.0, 0.0, 0.0, 0.0, 0.0, 0.0]}\n"
          ]
        },
        {
          "name": "stderr",
          "output_type": "stream",
          "text": [
            "Train: 100%|██████████| 82/82 [00:20<00:00,  3.96it/s]\n",
            "Epoch 351\n",
            "Train: 100%|██████████| 82/82 [00:24<00:00,  3.32it/s]\n",
            "Epoch 352\n",
            "Train: 100%|██████████| 82/82 [00:20<00:00,  3.98it/s]\n",
            "Epoch 353\n",
            "Train: 100%|██████████| 82/82 [00:24<00:00,  3.34it/s]\n",
            "Epoch 354\n",
            "Train: 100%|██████████| 82/82 [00:20<00:00,  4.00it/s]\n",
            "Eval : 100%|██████████| 7/7 [00:02<00:00,  3.17it/s]\n",
            "Epoch 355\n"
          ]
        },
        {
          "name": "stdout",
          "output_type": "stream",
          "text": [
            "Saving model...\n",
            "{'edit_distance': 117.95, '_num_chars': 125.089, '_num_pred_chars': 132.404, 'nsentences': 1.0, '_world_size': 0.007, '_lm_score_sum': 0.0, '_kaldi_score_sum': 0.0, '_word_lm_sum': 0.0, '_num_words': 0.0, '_vocab_seen': [0.007, 0.007, 0.007, 0.007, 0.007, 0.007, 0.002, 0.007, 0.007, 0.007, 0.007, 0.007, 0.007, 0.007, 0.007, 0.007, 0.007, 0.001, 0.007, 0.007, 0.007, 0.007, 0.007, 0.007, 0.007, 0.007, 0.007, 0.007, 0.007, 0.007, 0.007, 0.0, 0.0, 0.0, 0.007, 0.007, 0.0, 0.007, 0.007, 0.007, 0.0, 0.0, 0.007, 0.0, 0.0, 0.0, 0.0, 0.0, 0.007, 0.0, 0.0, 0.0, 0.0, 0.0, 0.0, 0.0, 0.0, 0.0, 0.0, 0.0]}\n"
          ]
        },
        {
          "name": "stderr",
          "output_type": "stream",
          "text": [
            "Train: 100%|██████████| 82/82 [00:24<00:00,  3.31it/s]\n",
            "Epoch 356\n",
            "Train: 100%|██████████| 82/82 [00:20<00:00,  4.00it/s]\n",
            "Epoch 357\n",
            "Train: 100%|██████████| 82/82 [00:24<00:00,  3.34it/s]\n",
            "Epoch 358\n",
            "Train: 100%|██████████| 82/82 [00:20<00:00,  3.97it/s]\n",
            "Epoch 359\n",
            "Train: 100%|██████████| 82/82 [00:24<00:00,  3.37it/s]\n",
            "Eval : 100%|██████████| 7/7 [00:02<00:00,  3.17it/s]\n",
            "Epoch 360\n"
          ]
        },
        {
          "name": "stdout",
          "output_type": "stream",
          "text": [
            "Saving model...\n",
            "{'edit_distance': 117.51, '_num_chars': 125.089, '_num_pred_chars': 128.677, 'nsentences': 1.0, '_world_size': 0.007, '_lm_score_sum': 0.0, '_kaldi_score_sum': 0.0, '_word_lm_sum': 0.0, '_num_words': 0.0, '_vocab_seen': [0.007, 0.007, 0.007, 0.007, 0.007, 0.007, 0.0, 0.007, 0.007, 0.007, 0.007, 0.007, 0.007, 0.007, 0.007, 0.007, 0.007, 0.007, 0.007, 0.007, 0.007, 0.007, 0.007, 0.007, 0.007, 0.0, 0.007, 0.007, 0.007, 0.007, 0.007, 0.0, 0.0, 0.007, 0.007, 0.0, 0.007, 0.0, 0.007, 0.007, 0.007, 0.0, 0.007, 0.0, 0.0, 0.0, 0.007, 0.004, 0.0, 0.0, 0.0, 0.0, 0.0, 0.0, 0.0, 0.0, 0.0, 0.0, 0.0, 0.0]}\n"
          ]
        },
        {
          "name": "stderr",
          "output_type": "stream",
          "text": [
            "Train: 100%|██████████| 82/82 [00:20<00:00,  4.00it/s]\n",
            "Epoch 361\n",
            "Train: 100%|██████████| 82/82 [00:24<00:00,  3.37it/s]\n",
            "Epoch 362\n",
            "Train: 100%|██████████| 82/82 [00:20<00:00,  3.98it/s]\n",
            "Epoch 363\n",
            "Train: 100%|██████████| 82/82 [00:24<00:00,  3.34it/s]\n",
            "Epoch 364\n",
            "Train: 100%|██████████| 82/82 [00:20<00:00,  3.98it/s]\n",
            "Eval : 100%|██████████| 7/7 [00:02<00:00,  3.08it/s]\n",
            "Epoch 365\n"
          ]
        },
        {
          "name": "stdout",
          "output_type": "stream",
          "text": [
            "Saving model...\n",
            "{'edit_distance': 118.129, '_num_chars': 125.089, '_num_pred_chars': 132.885, 'nsentences': 1.0, '_world_size': 0.007, '_lm_score_sum': 0.0, '_kaldi_score_sum': 0.0, '_word_lm_sum': 0.0, '_num_words': 0.0, '_vocab_seen': [0.007, 0.007, 0.007, 0.007, 0.007, 0.007, 0.0, 0.007, 0.007, 0.0, 0.007, 0.007, 0.007, 0.007, 0.007, 0.007, 0.007, 0.007, 0.0, 0.007, 0.007, 0.007, 0.007, 0.007, 0.007, 0.007, 0.007, 0.007, 0.007, 0.007, 0.007, 0.007, 0.0, 0.007, 0.007, 0.0, 0.0, 0.007, 0.007, 0.007, 0.0, 0.007, 0.007, 0.0, 0.007, 0.007, 0.0, 0.0, 0.0, 0.0, 0.0, 0.0, 0.0, 0.0, 0.0, 0.0, 0.0, 0.0, 0.0, 0.0]}\n"
          ]
        },
        {
          "name": "stderr",
          "output_type": "stream",
          "text": [
            "Train: 100%|██████████| 82/82 [00:24<00:00,  3.32it/s]\n",
            "Epoch 366\n",
            "Train: 100%|██████████| 82/82 [00:20<00:00,  3.96it/s]\n",
            "Epoch 367\n",
            "Train: 100%|██████████| 82/82 [00:24<00:00,  3.32it/s]\n",
            "Epoch 368\n",
            "Train: 100%|██████████| 82/82 [00:20<00:00,  3.94it/s]\n",
            "Epoch 369\n",
            "Train: 100%|██████████| 82/82 [00:24<00:00,  3.32it/s]\n",
            "Eval : 100%|██████████| 7/7 [00:02<00:00,  3.17it/s]\n",
            "Epoch 370\n"
          ]
        },
        {
          "name": "stdout",
          "output_type": "stream",
          "text": [
            "Saving model...\n",
            "{'edit_distance': 120.668, '_num_chars': 125.089, '_num_pred_chars': 137.402, 'nsentences': 1.0, '_world_size': 0.007, '_lm_score_sum': 0.0, '_kaldi_score_sum': 0.0, '_word_lm_sum': 0.0, '_num_words': 0.0, '_vocab_seen': [0.007, 0.007, 0.007, 0.007, 0.007, 0.007, 0.007, 0.007, 0.007, 0.0, 0.007, 0.0, 0.007, 0.007, 0.007, 0.007, 0.007, 0.007, 0.0, 0.007, 0.007, 0.007, 0.007, 0.007, 0.003, 0.0, 0.007, 0.0, 0.007, 0.007, 0.007, 0.007, 0.0, 0.007, 0.007, 0.0, 0.007, 0.007, 0.007, 0.007, 0.0, 0.0, 0.007, 0.0, 0.0, 0.0, 0.0, 0.0, 0.007, 0.0, 0.0, 0.0, 0.0, 0.0, 0.0, 0.0, 0.0, 0.0, 0.0, 0.0]}\n"
          ]
        },
        {
          "name": "stderr",
          "output_type": "stream",
          "text": [
            "Train: 100%|██████████| 82/82 [00:20<00:00,  3.99it/s]\n",
            "Epoch 371\n",
            "Train: 100%|██████████| 82/82 [00:24<00:00,  3.33it/s]\n",
            "Epoch 372\n",
            "Train: 100%|██████████| 82/82 [00:20<00:00,  3.95it/s]\n",
            "Epoch 373\n",
            "Train: 100%|██████████| 82/82 [00:24<00:00,  3.37it/s]\n",
            "Epoch 374\n",
            "Train: 100%|██████████| 82/82 [00:20<00:00,  3.98it/s]\n",
            "Eval : 100%|██████████| 7/7 [00:02<00:00,  3.15it/s]\n",
            "Epoch 375\n"
          ]
        },
        {
          "name": "stdout",
          "output_type": "stream",
          "text": [
            "Saving model...\n",
            "{'edit_distance': 114.957, '_num_chars': 125.089, '_num_pred_chars': 127.017, 'nsentences': 1.0, '_world_size': 0.007, '_lm_score_sum': 0.0, '_kaldi_score_sum': 0.0, '_word_lm_sum': 0.0, '_num_words': 0.0, '_vocab_seen': [0.007, 0.007, 0.007, 0.007, 0.007, 0.007, 0.0, 0.007, 0.007, 0.007, 0.007, 0.007, 0.007, 0.007, 0.007, 0.007, 0.007, 0.007, 0.0, 0.007, 0.007, 0.007, 0.007, 0.007, 0.007, 0.0, 0.007, 0.007, 0.007, 0.007, 0.0, 0.007, 0.0, 0.0, 0.007, 0.0, 0.007, 0.007, 0.007, 0.007, 0.007, 0.0, 0.007, 0.0, 0.0, 0.0, 0.007, 0.0, 0.0, 0.007, 0.0, 0.0, 0.0, 0.0, 0.0, 0.0, 0.0, 0.0, 0.0, 0.0]}\n"
          ]
        },
        {
          "name": "stderr",
          "output_type": "stream",
          "text": [
            "Train: 100%|██████████| 82/82 [00:24<00:00,  3.35it/s]\n",
            "Epoch 376\n",
            "Train: 100%|██████████| 82/82 [00:20<00:00,  3.96it/s]\n",
            "Epoch 377\n",
            "Train: 100%|██████████| 82/82 [00:24<00:00,  3.34it/s]\n",
            "Epoch 378\n",
            "Train: 100%|██████████| 82/82 [00:20<00:00,  3.96it/s]\n",
            "Epoch 379\n",
            "Train: 100%|██████████| 82/82 [00:24<00:00,  3.36it/s]\n",
            "Eval : 100%|██████████| 7/7 [00:02<00:00,  3.12it/s]\n",
            "Epoch 380\n"
          ]
        },
        {
          "name": "stdout",
          "output_type": "stream",
          "text": [
            "Saving model...\n",
            "{'edit_distance': 115.661, '_num_chars': 125.089, '_num_pred_chars': 125.872, 'nsentences': 1.0, '_world_size': 0.007, '_lm_score_sum': 0.0, '_kaldi_score_sum': 0.0, '_word_lm_sum': 0.0, '_num_words': 0.0, '_vocab_seen': [0.007, 0.007, 0.007, 0.007, 0.007, 0.007, 0.007, 0.007, 0.007, 0.007, 0.007, 0.007, 0.007, 0.007, 0.007, 0.007, 0.007, 0.0, 0.0, 0.007, 0.007, 0.007, 0.007, 0.007, 0.0, 0.001, 0.007, 0.007, 0.007, 0.007, 0.0, 0.007, 0.0, 0.007, 0.007, 0.002, 0.007, 0.007, 0.007, 0.007, 0.0, 0.007, 0.007, 0.007, 0.007, 0.0, 0.007, 0.0, 0.0, 0.0, 0.0, 0.0, 0.0, 0.0, 0.0, 0.0, 0.0, 0.0, 0.0, 0.0]}\n"
          ]
        },
        {
          "name": "stderr",
          "output_type": "stream",
          "text": [
            "Train: 100%|██████████| 82/82 [00:20<00:00,  4.00it/s]\n",
            "Epoch 381\n",
            "Train: 100%|██████████| 82/82 [00:24<00:00,  3.36it/s]\n",
            "Epoch 382\n",
            "Train: 100%|██████████| 82/82 [00:20<00:00,  3.97it/s]\n",
            "Epoch 383\n",
            "Train: 100%|██████████| 82/82 [00:24<00:00,  3.35it/s]\n",
            "Epoch 384\n",
            "Train: 100%|██████████| 82/82 [00:20<00:00,  3.97it/s]\n",
            "Eval : 100%|██████████| 7/7 [00:02<00:00,  3.22it/s]\n",
            "Epoch 385\n"
          ]
        },
        {
          "name": "stdout",
          "output_type": "stream",
          "text": [
            "Saving model...\n",
            "{'edit_distance': 117.765, '_num_chars': 125.089, '_num_pred_chars': 134.893, 'nsentences': 1.0, '_world_size': 0.007, '_lm_score_sum': 0.0, '_kaldi_score_sum': 0.0, '_word_lm_sum': 0.0, '_num_words': 0.0, '_vocab_seen': [0.007, 0.007, 0.007, 0.007, 0.007, 0.007, 0.0, 0.007, 0.007, 0.007, 0.007, 0.0, 0.007, 0.007, 0.007, 0.007, 0.007, 0.0, 0.007, 0.007, 0.007, 0.007, 0.007, 0.007, 0.007, 0.0, 0.007, 0.007, 0.007, 0.007, 0.006, 0.0, 0.0, 0.0, 0.007, 0.0, 0.007, 0.007, 0.007, 0.007, 0.007, 0.0, 0.007, 0.0, 0.007, 0.007, 0.0, 0.0, 0.0, 0.0, 0.0, 0.0, 0.0, 0.0, 0.0, 0.0, 0.0, 0.0, 0.0, 0.0]}\n"
          ]
        },
        {
          "name": "stderr",
          "output_type": "stream",
          "text": [
            "Train: 100%|██████████| 82/82 [00:24<00:00,  3.31it/s]\n",
            "Epoch 386\n",
            "Train: 100%|██████████| 82/82 [00:20<00:00,  3.99it/s]\n",
            "Epoch 387\n",
            "Train: 100%|██████████| 82/82 [00:24<00:00,  3.37it/s]\n",
            "Epoch 388\n",
            "Train: 100%|██████████| 82/82 [00:20<00:00,  3.95it/s]\n",
            "Epoch 389\n",
            "Train: 100%|██████████| 82/82 [00:24<00:00,  3.30it/s]\n",
            "Eval : 100%|██████████| 7/7 [00:02<00:00,  3.12it/s]\n",
            "Epoch 390\n"
          ]
        },
        {
          "name": "stdout",
          "output_type": "stream",
          "text": [
            "Saving model...\n",
            "{'edit_distance': 119.24, '_num_chars': 125.089, '_num_pred_chars': 136.659, 'nsentences': 1.0, '_world_size': 0.007, '_lm_score_sum': 0.0, '_kaldi_score_sum': 0.0, '_word_lm_sum': 0.0, '_num_words': 0.0, '_vocab_seen': [0.007, 0.007, 0.007, 0.007, 0.007, 0.007, 0.001, 0.007, 0.007, 0.007, 0.007, 0.0, 0.007, 0.007, 0.007, 0.007, 0.007, 0.0, 0.007, 0.007, 0.007, 0.007, 0.007, 0.007, 0.007, 0.007, 0.007, 0.007, 0.007, 0.007, 0.007, 0.0, 0.0, 0.0, 0.007, 0.0, 0.007, 0.007, 0.007, 0.007, 0.007, 0.0, 0.007, 0.0, 0.007, 0.0, 0.007, 0.0, 0.0, 0.0, 0.0, 0.0, 0.0, 0.0, 0.0, 0.007, 0.0, 0.0, 0.0, 0.0]}\n"
          ]
        },
        {
          "name": "stderr",
          "output_type": "stream",
          "text": [
            "Train: 100%|██████████| 82/82 [00:20<00:00,  3.92it/s]\n",
            "Epoch 391\n",
            "Train: 100%|██████████| 82/82 [00:24<00:00,  3.34it/s]\n",
            "Epoch 392\n",
            "Train: 100%|██████████| 82/82 [00:20<00:00,  3.98it/s]\n",
            "Epoch 393\n",
            "Train: 100%|██████████| 82/82 [00:24<00:00,  3.34it/s]\n",
            "Epoch 394\n",
            "Train: 100%|██████████| 82/82 [00:20<00:00,  3.97it/s]\n",
            "Eval : 100%|██████████| 7/7 [00:02<00:00,  3.18it/s]\n",
            "Epoch 395\n"
          ]
        },
        {
          "name": "stdout",
          "output_type": "stream",
          "text": [
            "Saving model...\n",
            "{'edit_distance': 115.441, '_num_chars': 125.089, '_num_pred_chars': 125.541, 'nsentences': 1.0, '_world_size': 0.007, '_lm_score_sum': 0.0, '_kaldi_score_sum': 0.0, '_word_lm_sum': 0.0, '_num_words': 0.0, '_vocab_seen': [0.007, 0.007, 0.007, 0.007, 0.007, 0.007, 0.0, 0.007, 0.007, 0.007, 0.007, 0.007, 0.007, 0.007, 0.007, 0.007, 0.007, 0.0, 0.007, 0.007, 0.007, 0.007, 0.007, 0.007, 0.007, 0.0, 0.007, 0.007, 0.007, 0.007, 0.007, 0.0, 0.0, 0.007, 0.007, 0.0, 0.007, 0.007, 0.007, 0.007, 0.007, 0.0, 0.007, 0.0, 0.0, 0.0, 0.0, 0.007, 0.007, 0.0, 0.0, 0.0, 0.0, 0.0, 0.0, 0.007, 0.0, 0.0, 0.0, 0.0]}\n"
          ]
        },
        {
          "name": "stderr",
          "output_type": "stream",
          "text": [
            "Train: 100%|██████████| 82/82 [00:24<00:00,  3.34it/s]\n",
            "Epoch 396\n",
            "Train: 100%|██████████| 82/82 [00:20<00:00,  3.95it/s]\n",
            "Epoch 397\n",
            "Train: 100%|██████████| 82/82 [00:24<00:00,  3.30it/s]\n",
            "Epoch 398\n",
            "Train: 100%|██████████| 82/82 [00:20<00:00,  3.92it/s]\n",
            "Epoch 399\n",
            "Train: 100%|██████████| 82/82 [00:24<00:00,  3.33it/s]\n",
            "Eval : 100%|██████████| 7/7 [00:02<00:00,  3.15it/s]\n",
            "Epoch 400\n"
          ]
        },
        {
          "name": "stdout",
          "output_type": "stream",
          "text": [
            "Saving model...\n",
            "{'edit_distance': 119.977, '_num_chars': 125.089, '_num_pred_chars': 134.144, 'nsentences': 1.0, '_world_size': 0.007, '_lm_score_sum': 0.0, '_kaldi_score_sum': 0.0, '_word_lm_sum': 0.0, '_num_words': 0.0, '_vocab_seen': [0.007, 0.007, 0.004, 0.007, 0.007, 0.007, 0.007, 0.007, 0.007, 0.007, 0.007, 0.007, 0.007, 0.007, 0.007, 0.007, 0.007, 0.0, 0.007, 0.007, 0.007, 0.007, 0.007, 0.007, 0.001, 0.007, 0.007, 0.007, 0.007, 0.007, 0.0, 0.007, 0.0, 0.007, 0.007, 0.0, 0.007, 0.007, 0.007, 0.007, 0.007, 0.0, 0.007, 0.0, 0.0, 0.0, 0.0, 0.0, 0.007, 0.0, 0.007, 0.0, 0.0, 0.0, 0.0, 0.007, 0.0, 0.0, 0.0, 0.0]}\n"
          ]
        },
        {
          "name": "stderr",
          "output_type": "stream",
          "text": [
            "Train: 100%|██████████| 82/82 [00:20<00:00,  3.95it/s]\n",
            "Epoch 401\n",
            "Train: 100%|██████████| 82/82 [00:24<00:00,  3.34it/s]\n",
            "Epoch 402\n",
            "Train: 100%|██████████| 82/82 [00:20<00:00,  3.93it/s]\n",
            "Epoch 403\n",
            "Train: 100%|██████████| 82/82 [00:24<00:00,  3.34it/s]\n",
            "Epoch 404\n",
            "Train: 100%|██████████| 82/82 [00:20<00:00,  3.94it/s]\n",
            "Eval : 100%|██████████| 7/7 [00:02<00:00,  3.16it/s]\n",
            "Epoch 405\n"
          ]
        },
        {
          "name": "stdout",
          "output_type": "stream",
          "text": [
            "Saving model...\n",
            "{'edit_distance': 119.73, '_num_chars': 125.089, '_num_pred_chars': 134.496, 'nsentences': 1.0, '_world_size': 0.007, '_lm_score_sum': 0.0, '_kaldi_score_sum': 0.0, '_word_lm_sum': 0.0, '_num_words': 0.0, '_vocab_seen': [0.007, 0.007, 0.007, 0.007, 0.007, 0.007, 0.0, 0.007, 0.007, 0.007, 0.007, 0.007, 0.007, 0.007, 0.007, 0.007, 0.007, 0.0, 0.007, 0.007, 0.007, 0.007, 0.007, 0.007, 0.007, 0.007, 0.007, 0.007, 0.007, 0.007, 0.0, 0.007, 0.007, 0.007, 0.007, 0.007, 0.0, 0.007, 0.007, 0.0, 0.0, 0.007, 0.007, 0.007, 0.0, 0.007, 0.0, 0.0, 0.0, 0.0, 0.0, 0.0, 0.0, 0.0, 0.0, 0.0, 0.0, 0.0, 0.0, 0.0]}\n"
          ]
        },
        {
          "name": "stderr",
          "output_type": "stream",
          "text": [
            "Train: 100%|██████████| 82/82 [00:24<00:00,  3.31it/s]\n",
            "Epoch 406\n",
            "Train: 100%|██████████| 82/82 [00:20<00:00,  3.97it/s]\n",
            "Epoch 407\n",
            "Train: 100%|██████████| 82/82 [00:24<00:00,  3.38it/s]\n",
            "Epoch 408\n",
            "Train: 100%|██████████| 82/82 [00:20<00:00,  3.95it/s]\n",
            "Epoch 409\n",
            "Train: 100%|██████████| 82/82 [00:24<00:00,  3.36it/s]\n",
            "Eval : 100%|██████████| 7/7 [00:02<00:00,  3.19it/s]\n",
            "Epoch 410\n"
          ]
        },
        {
          "name": "stdout",
          "output_type": "stream",
          "text": [
            "Saving model...\n",
            "{'edit_distance': 118.017, '_num_chars': 125.089, '_num_pred_chars': 130.889, 'nsentences': 1.0, '_world_size': 0.007, '_lm_score_sum': 0.0, '_kaldi_score_sum': 0.0, '_word_lm_sum': 0.0, '_num_words': 0.0, '_vocab_seen': [0.007, 0.007, 0.007, 0.007, 0.007, 0.007, 0.0, 0.007, 0.007, 0.007, 0.007, 0.0, 0.007, 0.007, 0.007, 0.007, 0.007, 0.007, 0.007, 0.007, 0.007, 0.007, 0.007, 0.007, 0.007, 0.0, 0.007, 0.007, 0.007, 0.007, 0.007, 0.007, 0.0, 0.007, 0.007, 0.007, 0.0, 0.0, 0.007, 0.0, 0.0, 0.007, 0.007, 0.0, 0.007, 0.007, 0.007, 0.0, 0.0, 0.0, 0.0, 0.0, 0.0, 0.0, 0.0, 0.0, 0.0, 0.0, 0.0, 0.0]}\n"
          ]
        },
        {
          "name": "stderr",
          "output_type": "stream",
          "text": [
            "Train: 100%|██████████| 82/82 [00:20<00:00,  3.95it/s]\n",
            "Epoch 411\n",
            "Train: 100%|██████████| 82/82 [00:24<00:00,  3.33it/s]\n",
            "Epoch 412\n",
            "Train: 100%|██████████| 82/82 [00:20<00:00,  3.94it/s]\n",
            "Epoch 413\n",
            "Train: 100%|██████████| 82/82 [00:24<00:00,  3.36it/s]\n",
            "Epoch 414\n",
            "Train: 100%|██████████| 82/82 [00:20<00:00,  3.95it/s]\n",
            "Eval : 100%|██████████| 7/7 [00:02<00:00,  3.17it/s]\n",
            "Epoch 415\n"
          ]
        },
        {
          "name": "stdout",
          "output_type": "stream",
          "text": [
            "Saving model...\n",
            "{'edit_distance': 118.467, '_num_chars': 125.089, '_num_pred_chars': 134.045, 'nsentences': 1.0, '_world_size': 0.007, '_lm_score_sum': 0.0, '_kaldi_score_sum': 0.0, '_word_lm_sum': 0.0, '_num_words': 0.0, '_vocab_seen': [0.007, 0.007, 0.006, 0.007, 0.007, 0.007, 0.0, 0.007, 0.007, 0.007, 0.007, 0.007, 0.007, 0.007, 0.0, 0.007, 0.007, 0.007, 0.007, 0.007, 0.007, 0.007, 0.007, 0.007, 0.007, 0.007, 0.007, 0.007, 0.007, 0.007, 0.0, 0.007, 0.007, 0.007, 0.007, 0.007, 0.007, 0.0, 0.007, 0.0, 0.0, 0.0, 0.007, 0.0, 0.007, 0.0, 0.007, 0.0, 0.007, 0.007, 0.0, 0.0, 0.0, 0.0, 0.0, 0.0, 0.0, 0.0, 0.0, 0.0]}\n"
          ]
        },
        {
          "name": "stderr",
          "output_type": "stream",
          "text": [
            "Train: 100%|██████████| 82/82 [00:24<00:00,  3.31it/s]\n",
            "Epoch 416\n",
            "Train: 100%|██████████| 82/82 [00:20<00:00,  3.98it/s]\n",
            "Epoch 417\n",
            "Train: 100%|██████████| 82/82 [00:24<00:00,  3.37it/s]\n",
            "Epoch 418\n",
            "Train: 100%|██████████| 82/82 [00:20<00:00,  3.94it/s]\n",
            "Epoch 419\n",
            "Train: 100%|██████████| 82/82 [00:24<00:00,  3.32it/s]\n",
            "Eval : 100%|██████████| 7/7 [00:02<00:00,  3.12it/s]\n",
            "Epoch 420\n"
          ]
        },
        {
          "name": "stdout",
          "output_type": "stream",
          "text": [
            "Saving model...\n",
            "{'edit_distance': 120.857, '_num_chars': 125.089, '_num_pred_chars': 136.093, 'nsentences': 1.0, '_world_size': 0.007, '_lm_score_sum': 0.0, '_kaldi_score_sum': 0.0, '_word_lm_sum': 0.0, '_num_words': 0.0, '_vocab_seen': [0.007, 0.007, 0.007, 0.007, 0.007, 0.007, 0.007, 0.007, 0.007, 0.007, 0.007, 0.0, 0.007, 0.007, 0.0, 0.007, 0.007, 0.007, 0.007, 0.007, 0.007, 0.007, 0.007, 0.007, 0.007, 0.007, 0.007, 0.007, 0.007, 0.007, 0.007, 0.007, 0.0, 0.007, 0.007, 0.007, 0.007, 0.007, 0.007, 0.007, 0.007, 0.007, 0.007, 0.0, 0.007, 0.0, 0.0, 0.0, 0.007, 0.007, 0.0, 0.0, 0.0, 0.0, 0.0, 0.0, 0.0, 0.0, 0.0, 0.0]}\n"
          ]
        },
        {
          "name": "stderr",
          "output_type": "stream",
          "text": [
            "Train: 100%|██████████| 82/82 [00:20<00:00,  3.94it/s]\n",
            "Epoch 421\n",
            "Train: 100%|██████████| 82/82 [00:24<00:00,  3.34it/s]\n",
            "Epoch 422\n",
            "Train: 100%|██████████| 82/82 [00:20<00:00,  3.95it/s]\n",
            "Epoch 423\n",
            "Train: 100%|██████████| 82/82 [00:24<00:00,  3.32it/s]\n",
            "Epoch 424\n",
            "Train: 100%|██████████| 82/82 [00:20<00:00,  3.95it/s]\n",
            "Eval : 100%|██████████| 7/7 [00:02<00:00,  3.21it/s]\n",
            "Epoch 425\n"
          ]
        },
        {
          "name": "stdout",
          "output_type": "stream",
          "text": [
            "Saving model...\n",
            "{'edit_distance': 117.828, '_num_chars': 125.089, '_num_pred_chars': 132.44, 'nsentences': 1.0, '_world_size': 0.007, '_lm_score_sum': 0.0, '_kaldi_score_sum': 0.0, '_word_lm_sum': 0.0, '_num_words': 0.0, '_vocab_seen': [0.007, 0.007, 0.007, 0.007, 0.007, 0.007, 0.007, 0.007, 0.007, 0.007, 0.007, 0.005, 0.007, 0.007, 0.0, 0.007, 0.007, 0.0, 0.007, 0.007, 0.007, 0.007, 0.007, 0.007, 0.007, 0.0, 0.007, 0.007, 0.007, 0.007, 0.0, 0.007, 0.0, 0.007, 0.007, 0.007, 0.0, 0.007, 0.007, 0.007, 0.004, 0.0, 0.0, 0.007, 0.0, 0.0, 0.0, 0.0, 0.007, 0.007, 0.0, 0.007, 0.0, 0.0, 0.0, 0.0, 0.0, 0.0, 0.0, 0.0]}\n"
          ]
        },
        {
          "name": "stderr",
          "output_type": "stream",
          "text": [
            "Train: 100%|██████████| 82/82 [00:24<00:00,  3.33it/s]\n",
            "Epoch 426\n",
            "Train: 100%|██████████| 82/82 [00:20<00:00,  3.98it/s]\n",
            "Epoch 427\n",
            "Train: 100%|██████████| 82/82 [00:24<00:00,  3.33it/s]\n",
            "Epoch 428\n",
            "Train: 100%|██████████| 82/82 [00:20<00:00,  3.93it/s]\n",
            "Epoch 429\n",
            "Train: 100%|██████████| 82/82 [00:24<00:00,  3.31it/s]\n",
            "Eval : 100%|██████████| 7/7 [00:02<00:00,  3.20it/s]\n",
            "Epoch 430\n"
          ]
        },
        {
          "name": "stdout",
          "output_type": "stream",
          "text": [
            "Saving model...\n",
            "{'edit_distance': 117.649, '_num_chars': 125.089, '_num_pred_chars': 134.065, 'nsentences': 1.0, '_world_size': 0.007, '_lm_score_sum': 0.0, '_kaldi_score_sum': 0.0, '_word_lm_sum': 0.0, '_num_words': 0.0, '_vocab_seen': [0.007, 0.007, 0.007, 0.007, 0.007, 0.007, 0.007, 0.007, 0.007, 0.007, 0.007, 0.007, 0.007, 0.007, 0.0, 0.007, 0.007, 0.007, 0.007, 0.007, 0.007, 0.007, 0.007, 0.006, 0.007, 0.0, 0.007, 0.007, 0.007, 0.007, 0.0, 0.001, 0.0, 0.007, 0.007, 0.007, 0.0, 0.007, 0.007, 0.007, 0.004, 0.007, 0.0, 0.007, 0.0, 0.0, 0.0, 0.0, 0.007, 0.007, 0.0, 0.0, 0.0, 0.007, 0.0, 0.0, 0.0, 0.0, 0.0, 0.0]}\n"
          ]
        },
        {
          "name": "stderr",
          "output_type": "stream",
          "text": [
            "Train: 100%|██████████| 82/82 [00:20<00:00,  3.92it/s]\n",
            "Epoch 431\n",
            "Train: 100%|██████████| 82/82 [00:24<00:00,  3.33it/s]\n",
            "Epoch 432\n",
            "Train: 100%|██████████| 82/82 [00:20<00:00,  3.94it/s]\n",
            "Epoch 433\n",
            "Train: 100%|██████████| 82/82 [00:24<00:00,  3.35it/s]\n",
            "Epoch 434\n",
            "Train: 100%|██████████| 82/82 [00:20<00:00,  3.96it/s]\n",
            "Eval : 100%|██████████| 7/7 [00:02<00:00,  3.11it/s]\n",
            "Epoch 435\n"
          ]
        },
        {
          "name": "stdout",
          "output_type": "stream",
          "text": [
            "Saving model...\n",
            "{'edit_distance': 118.949, '_num_chars': 125.089, '_num_pred_chars': 134.247, 'nsentences': 1.0, '_world_size': 0.007, '_lm_score_sum': 0.0, '_kaldi_score_sum': 0.0, '_word_lm_sum': 0.0, '_num_words': 0.0, '_vocab_seen': [0.007, 0.007, 0.007, 0.007, 0.007, 0.007, 0.007, 0.007, 0.007, 0.007, 0.007, 0.007, 0.007, 0.007, 0.007, 0.007, 0.007, 0.007, 0.007, 0.007, 0.007, 0.007, 0.007, 0.007, 0.007, 0.007, 0.0, 0.007, 0.007, 0.007, 0.007, 0.0, 0.007, 0.0, 0.007, 0.007, 0.007, 0.007, 0.007, 0.0, 0.0, 0.007, 0.007, 0.007, 0.007, 0.0, 0.0, 0.0, 0.007, 0.0, 0.007, 0.0, 0.0, 0.0, 0.0, 0.0, 0.0, 0.0, 0.0, 0.0]}\n"
          ]
        },
        {
          "name": "stderr",
          "output_type": "stream",
          "text": [
            "Train: 100%|██████████| 82/82 [00:24<00:00,  3.29it/s]\n",
            "Epoch 436\n",
            "Train: 100%|██████████| 82/82 [00:20<00:00,  3.99it/s]\n",
            "Epoch 437\n",
            "Train: 100%|██████████| 82/82 [00:24<00:00,  3.33it/s]\n",
            "Epoch 438\n",
            "Train: 100%|██████████| 82/82 [00:20<00:00,  3.94it/s]\n",
            "Epoch 439\n",
            "Train: 100%|██████████| 82/82 [00:24<00:00,  3.34it/s]\n",
            "Eval : 100%|██████████| 7/7 [00:02<00:00,  3.16it/s]\n",
            "Epoch 440\n"
          ]
        },
        {
          "name": "stdout",
          "output_type": "stream",
          "text": [
            "Saving model...\n",
            "{'edit_distance': 118.059, '_num_chars': 125.089, '_num_pred_chars': 129.547, 'nsentences': 1.0, '_world_size': 0.007, '_lm_score_sum': 0.0, '_kaldi_score_sum': 0.0, '_word_lm_sum': 0.0, '_num_words': 0.0, '_vocab_seen': [0.007, 0.007, 0.007, 0.007, 0.007, 0.007, 0.007, 0.007, 0.007, 0.007, 0.007, 0.007, 0.007, 0.007, 0.007, 0.007, 0.007, 0.007, 0.007, 0.007, 0.007, 0.007, 0.003, 0.007, 0.007, 0.007, 0.007, 0.007, 0.007, 0.007, 0.007, 0.0, 0.007, 0.007, 0.007, 0.007, 0.007, 0.007, 0.007, 0.0, 0.0, 0.007, 0.0, 0.007, 0.001, 0.007, 0.007, 0.0, 0.0, 0.0, 0.007, 0.0, 0.0, 0.0, 0.0, 0.0, 0.0, 0.0, 0.0, 0.0]}\n"
          ]
        },
        {
          "name": "stderr",
          "output_type": "stream",
          "text": [
            "Train: 100%|██████████| 82/82 [00:20<00:00,  3.95it/s]\n",
            "Epoch 441\n",
            "Train: 100%|██████████| 82/82 [00:24<00:00,  3.35it/s]\n",
            "Epoch 442\n",
            "Train: 100%|██████████| 82/82 [00:20<00:00,  3.95it/s]\n",
            "Epoch 443\n",
            "Train: 100%|██████████| 82/82 [00:24<00:00,  3.33it/s]\n",
            "Epoch 444\n",
            "Train: 100%|██████████| 82/82 [00:20<00:00,  3.95it/s]\n",
            "Eval : 100%|██████████| 7/7 [00:02<00:00,  3.13it/s]\n",
            "Epoch 445\n"
          ]
        },
        {
          "name": "stdout",
          "output_type": "stream",
          "text": [
            "Saving model...\n",
            "{'edit_distance': 116.196, '_num_chars': 125.089, '_num_pred_chars': 131.907, 'nsentences': 1.0, '_world_size': 0.007, '_lm_score_sum': 0.0, '_kaldi_score_sum': 0.0, '_word_lm_sum': 0.0, '_num_words': 0.0, '_vocab_seen': [0.007, 0.007, 0.007, 0.007, 0.007, 0.007, 0.007, 0.007, 0.007, 0.007, 0.007, 0.007, 0.007, 0.007, 0.007, 0.007, 0.0, 0.007, 0.0, 0.007, 0.007, 0.007, 0.007, 0.002, 0.007, 0.007, 0.007, 0.007, 0.007, 0.007, 0.007, 0.007, 0.0, 0.0, 0.007, 0.0, 0.0, 0.007, 0.007, 0.0, 0.007, 0.007, 0.007, 0.007, 0.0, 0.0, 0.007, 0.007, 0.0, 0.0, 0.0, 0.0, 0.0, 0.0, 0.0, 0.0, 0.0, 0.0, 0.0, 0.0]}\n"
          ]
        },
        {
          "name": "stderr",
          "output_type": "stream",
          "text": [
            "Train: 100%|██████████| 82/82 [00:25<00:00,  3.25it/s]\n",
            "Epoch 446\n",
            "Train: 100%|██████████| 82/82 [00:20<00:00,  3.93it/s]\n",
            "Epoch 447\n",
            "Train: 100%|██████████| 82/82 [00:24<00:00,  3.33it/s]\n",
            "Epoch 448\n",
            "Train: 100%|██████████| 82/82 [00:20<00:00,  3.97it/s]\n",
            "Epoch 449\n",
            "Train: 100%|██████████| 82/82 [00:24<00:00,  3.33it/s]\n",
            "Eval : 100%|██████████| 7/7 [00:02<00:00,  3.18it/s]\n",
            "Epoch 450\n"
          ]
        },
        {
          "name": "stdout",
          "output_type": "stream",
          "text": [
            "Saving model...\n",
            "{'edit_distance': 116.743, '_num_chars': 125.089, '_num_pred_chars': 130.964, 'nsentences': 1.0, '_world_size': 0.007, '_lm_score_sum': 0.0, '_kaldi_score_sum': 0.0, '_word_lm_sum': 0.0, '_num_words': 0.0, '_vocab_seen': [0.007, 0.007, 0.007, 0.007, 0.007, 0.007, 0.007, 0.007, 0.007, 0.007, 0.007, 0.007, 0.007, 0.007, 0.007, 0.007, 0.007, 0.007, 0.0, 0.007, 0.007, 0.007, 0.007, 0.007, 0.007, 0.007, 0.007, 0.007, 0.007, 0.0, 0.001, 0.0, 0.0, 0.0, 0.007, 0.0, 0.0, 0.007, 0.007, 0.0, 0.007, 0.007, 0.007, 0.007, 0.0, 0.0, 0.007, 0.007, 0.0, 0.0, 0.0, 0.0, 0.0, 0.0, 0.007, 0.0, 0.0, 0.0, 0.0, 0.0]}\n"
          ]
        },
        {
          "name": "stderr",
          "output_type": "stream",
          "text": [
            "Train: 100%|██████████| 82/82 [00:20<00:00,  3.94it/s]\n",
            "Epoch 451\n",
            "Train: 100%|██████████| 82/82 [00:24<00:00,  3.35it/s]\n",
            "Epoch 452\n",
            "Train: 100%|██████████| 82/82 [00:20<00:00,  3.97it/s]\n",
            "Epoch 453\n",
            "Train: 100%|██████████| 82/82 [00:24<00:00,  3.35it/s]\n",
            "Epoch 454\n",
            "Train: 100%|██████████| 82/82 [00:20<00:00,  3.96it/s]\n",
            "Eval : 100%|██████████| 7/7 [00:02<00:00,  3.17it/s]\n",
            "Epoch 455\n"
          ]
        },
        {
          "name": "stdout",
          "output_type": "stream",
          "text": [
            "Saving model...\n",
            "{'edit_distance': 116.966, '_num_chars': 125.089, '_num_pred_chars': 128.732, 'nsentences': 1.0, '_world_size': 0.007, '_lm_score_sum': 0.0, '_kaldi_score_sum': 0.0, '_word_lm_sum': 0.0, '_num_words': 0.0, '_vocab_seen': [0.007, 0.007, 0.007, 0.007, 0.007, 0.007, 0.007, 0.007, 0.007, 0.007, 0.007, 0.007, 0.007, 0.007, 0.0, 0.007, 0.007, 0.003, 0.007, 0.007, 0.007, 0.007, 0.007, 0.007, 0.007, 0.007, 0.007, 0.007, 0.007, 0.0, 0.0, 0.0, 0.007, 0.007, 0.007, 0.0, 0.0, 0.007, 0.007, 0.0, 0.007, 0.0, 0.007, 0.007, 0.007, 0.001, 0.0, 0.0, 0.007, 0.0, 0.0, 0.0, 0.0, 0.0, 0.0, 0.0, 0.0, 0.0, 0.0, 0.0]}\n"
          ]
        },
        {
          "name": "stderr",
          "output_type": "stream",
          "text": [
            "Train: 100%|██████████| 82/82 [00:24<00:00,  3.34it/s]\n",
            "Epoch 456\n",
            "Train: 100%|██████████| 82/82 [00:20<00:00,  3.97it/s]\n",
            "Epoch 457\n",
            "Train: 100%|██████████| 82/82 [00:24<00:00,  3.38it/s]\n",
            "Epoch 458\n",
            "Train: 100%|██████████| 82/82 [00:20<00:00,  4.01it/s]\n",
            "Epoch 459\n",
            "Train: 100%|██████████| 82/82 [00:24<00:00,  3.38it/s]\n",
            "Eval : 100%|██████████| 7/7 [00:02<00:00,  3.18it/s]\n",
            "Epoch 460\n"
          ]
        },
        {
          "name": "stdout",
          "output_type": "stream",
          "text": [
            "Saving model...\n",
            "{'edit_distance': 114.291, '_num_chars': 125.089, '_num_pred_chars': 121.178, 'nsentences': 1.0, '_world_size': 0.007, '_lm_score_sum': 0.0, '_kaldi_score_sum': 0.0, '_word_lm_sum': 0.0, '_num_words': 0.0, '_vocab_seen': [0.007, 0.007, 0.007, 0.007, 0.007, 0.007, 0.007, 0.007, 0.0, 0.007, 0.007, 0.007, 0.007, 0.007, 0.0, 0.005, 0.007, 0.0, 0.007, 0.007, 0.007, 0.007, 0.007, 0.007, 0.007, 0.007, 0.007, 0.007, 0.007, 0.0, 0.0, 0.0, 0.007, 0.007, 0.007, 0.007, 0.007, 0.007, 0.007, 0.0, 0.0, 0.007, 0.0, 0.007, 0.007, 0.0, 0.0, 0.0, 0.0, 0.0, 0.0, 0.0, 0.0, 0.0, 0.0, 0.0, 0.0, 0.0, 0.0, 0.0]}\n"
          ]
        },
        {
          "name": "stderr",
          "output_type": "stream",
          "text": [
            "Train: 100%|██████████| 82/82 [00:20<00:00,  3.95it/s]\n",
            "Epoch 461\n",
            "Train: 100%|██████████| 82/82 [00:24<00:00,  3.35it/s]\n",
            "Epoch 462\n",
            "Train: 100%|██████████| 82/82 [00:20<00:00,  3.98it/s]\n",
            "Epoch 463\n",
            "Train: 100%|██████████| 82/82 [00:24<00:00,  3.35it/s]\n",
            "Epoch 464\n",
            "Train: 100%|██████████| 82/82 [00:20<00:00,  3.95it/s]\n",
            "Eval : 100%|██████████| 7/7 [00:02<00:00,  3.18it/s]\n",
            "Epoch 465\n"
          ]
        },
        {
          "name": "stdout",
          "output_type": "stream",
          "text": [
            "Saving model...\n",
            "{'edit_distance': 120.188, '_num_chars': 125.089, '_num_pred_chars': 133.817, 'nsentences': 1.0, '_world_size': 0.007, '_lm_score_sum': 0.0, '_kaldi_score_sum': 0.0, '_word_lm_sum': 0.0, '_num_words': 0.0, '_vocab_seen': [0.007, 0.007, 0.007, 0.007, 0.007, 0.007, 0.007, 0.007, 0.007, 0.007, 0.007, 0.0, 0.007, 0.007, 0.0, 0.007, 0.007, 0.007, 0.007, 0.007, 0.007, 0.007, 0.0, 0.0, 0.007, 0.0, 0.007, 0.007, 0.007, 0.007, 0.007, 0.007, 0.007, 0.007, 0.007, 0.0, 0.0, 0.007, 0.007, 0.0, 0.0, 0.0, 0.007, 0.007, 0.0, 0.007, 0.007, 0.0, 0.0, 0.007, 0.007, 0.0, 0.0, 0.0, 0.0, 0.0, 0.0, 0.0, 0.0, 0.0]}\n"
          ]
        },
        {
          "name": "stderr",
          "output_type": "stream",
          "text": [
            "Train: 100%|██████████| 82/82 [00:24<00:00,  3.33it/s]\n",
            "Epoch 466\n",
            "Train: 100%|██████████| 82/82 [00:20<00:00,  3.98it/s]\n",
            "Epoch 467\n",
            "Train: 100%|██████████| 82/82 [00:24<00:00,  3.37it/s]\n",
            "Epoch 468\n",
            "Train: 100%|██████████| 82/82 [00:20<00:00,  3.97it/s]\n",
            "Epoch 469\n",
            "Train: 100%|██████████| 82/82 [00:24<00:00,  3.35it/s]\n",
            "Eval : 100%|██████████| 7/7 [00:02<00:00,  3.21it/s]\n",
            "Epoch 470\n"
          ]
        },
        {
          "name": "stdout",
          "output_type": "stream",
          "text": [
            "Saving model...\n",
            "{'edit_distance': 116.161, '_num_chars': 125.089, '_num_pred_chars': 128.46, 'nsentences': 1.0, '_world_size': 0.007, '_lm_score_sum': 0.0, '_kaldi_score_sum': 0.0, '_word_lm_sum': 0.0, '_num_words': 0.0, '_vocab_seen': [0.007, 0.007, 0.007, 0.007, 0.007, 0.007, 0.007, 0.007, 0.007, 0.007, 0.007, 0.007, 0.007, 0.007, 0.0, 0.007, 0.007, 0.007, 0.007, 0.007, 0.007, 0.007, 0.007, 0.007, 0.007, 0.007, 0.007, 0.007, 0.007, 0.002, 0.0, 0.007, 0.0, 0.007, 0.007, 0.0, 0.002, 0.0, 0.007, 0.0, 0.001, 0.0, 0.0, 0.007, 0.0, 0.007, 0.007, 0.0, 0.0, 0.0, 0.0, 0.0, 0.0, 0.0, 0.0, 0.0, 0.0, 0.0, 0.0, 0.0]}\n"
          ]
        },
        {
          "name": "stderr",
          "output_type": "stream",
          "text": [
            "Train: 100%|██████████| 82/82 [00:20<00:00,  3.91it/s]\n",
            "Epoch 471\n",
            "Train: 100%|██████████| 82/82 [00:24<00:00,  3.32it/s]\n",
            "Epoch 472\n",
            "Train: 100%|██████████| 82/82 [00:20<00:00,  3.95it/s]\n",
            "Epoch 473\n",
            "Train: 100%|██████████| 82/82 [00:24<00:00,  3.37it/s]\n",
            "Epoch 474\n",
            "Train: 100%|██████████| 82/82 [00:20<00:00,  3.97it/s]\n",
            "Eval : 100%|██████████| 7/7 [00:02<00:00,  3.14it/s]\n",
            "Epoch 475\n"
          ]
        },
        {
          "name": "stdout",
          "output_type": "stream",
          "text": [
            "Saving model...\n",
            "{'edit_distance': 115.33, '_num_chars': 125.089, '_num_pred_chars': 129.546, 'nsentences': 1.0, '_world_size': 0.007, '_lm_score_sum': 0.0, '_kaldi_score_sum': 0.0, '_word_lm_sum': 0.0, '_num_words': 0.0, '_vocab_seen': [0.007, 0.007, 0.004, 0.007, 0.007, 0.007, 0.007, 0.007, 0.007, 0.007, 0.007, 0.007, 0.007, 0.007, 0.007, 0.007, 0.007, 0.007, 0.007, 0.007, 0.007, 0.007, 0.007, 0.007, 0.007, 0.007, 0.007, 0.007, 0.007, 0.0, 0.0, 0.007, 0.0, 0.007, 0.007, 0.0, 0.007, 0.007, 0.007, 0.0, 0.0, 0.0, 0.0, 0.0, 0.0, 0.007, 0.0, 0.007, 0.0, 0.0, 0.0, 0.0, 0.0, 0.0, 0.0, 0.0, 0.0, 0.0, 0.0, 0.0]}\n"
          ]
        },
        {
          "name": "stderr",
          "output_type": "stream",
          "text": [
            "Train: 100%|██████████| 82/82 [00:24<00:00,  3.32it/s]\n",
            "Epoch 476\n",
            "Train: 100%|██████████| 82/82 [00:20<00:00,  3.97it/s]\n",
            "Epoch 477\n",
            "Train: 100%|██████████| 82/82 [00:24<00:00,  3.34it/s]\n",
            "Epoch 478\n",
            "Train: 100%|██████████| 82/82 [00:20<00:00,  3.99it/s]\n",
            "Epoch 479\n",
            "Train: 100%|██████████| 82/82 [00:24<00:00,  3.40it/s]\n",
            "Eval : 100%|██████████| 7/7 [00:02<00:00,  3.16it/s]\n",
            "Epoch 480\n"
          ]
        },
        {
          "name": "stdout",
          "output_type": "stream",
          "text": [
            "Saving model...\n",
            "{'edit_distance': 112.764, '_num_chars': 125.089, '_num_pred_chars': 122.879, 'nsentences': 1.0, '_world_size': 0.007, '_lm_score_sum': 0.0, '_kaldi_score_sum': 0.0, '_word_lm_sum': 0.0, '_num_words': 0.0, '_vocab_seen': [0.007, 0.007, 0.007, 0.007, 0.007, 0.007, 0.007, 0.007, 0.007, 0.007, 0.007, 0.007, 0.007, 0.007, 0.007, 0.007, 0.007, 0.007, 0.007, 0.007, 0.007, 0.007, 0.007, 0.007, 0.007, 0.007, 0.007, 0.007, 0.0, 0.007, 0.0, 0.007, 0.007, 0.007, 0.007, 0.003, 0.007, 0.001, 0.007, 0.007, 0.007, 0.0, 0.0, 0.0, 0.0, 0.0, 0.0, 0.0, 0.0, 0.0, 0.0, 0.0, 0.0, 0.0, 0.0, 0.0, 0.0, 0.0, 0.0, 0.0]}\n"
          ]
        },
        {
          "name": "stderr",
          "output_type": "stream",
          "text": [
            "Train: 100%|██████████| 82/82 [00:20<00:00,  3.95it/s]\n",
            "Epoch 481\n",
            "Train: 100%|██████████| 82/82 [00:24<00:00,  3.35it/s]\n",
            "Epoch 482\n",
            "Train: 100%|██████████| 82/82 [00:20<00:00,  3.98it/s]\n",
            "Epoch 483\n",
            "Train: 100%|██████████| 82/82 [00:24<00:00,  3.36it/s]\n",
            "Epoch 484\n",
            "Train: 100%|██████████| 82/82 [00:20<00:00,  3.93it/s]\n",
            "Eval : 100%|██████████| 7/7 [00:02<00:00,  3.13it/s]\n",
            "Epoch 485\n"
          ]
        },
        {
          "name": "stdout",
          "output_type": "stream",
          "text": [
            "Saving model...\n",
            "{'edit_distance': 118.708, '_num_chars': 125.089, '_num_pred_chars': 134.25, 'nsentences': 1.0, '_world_size': 0.007, '_lm_score_sum': 0.0, '_kaldi_score_sum': 0.0, '_word_lm_sum': 0.0, '_num_words': 0.0, '_vocab_seen': [0.007, 0.007, 0.007, 0.007, 0.007, 0.007, 0.007, 0.007, 0.007, 0.007, 0.007, 0.007, 0.007, 0.007, 0.007, 0.007, 0.006, 0.007, 0.007, 0.007, 0.007, 0.007, 0.007, 0.007, 0.007, 0.007, 0.007, 0.007, 0.007, 0.0, 0.0, 0.0, 0.007, 0.007, 0.007, 0.0, 0.007, 0.0, 0.007, 0.0, 0.0, 0.0, 0.007, 0.0, 0.0, 0.0, 0.0, 0.0, 0.0, 0.007, 0.0, 0.0, 0.0, 0.0, 0.007, 0.0, 0.0, 0.0, 0.0, 0.0]}\n"
          ]
        },
        {
          "name": "stderr",
          "output_type": "stream",
          "text": [
            "Train: 100%|██████████| 82/82 [00:24<00:00,  3.30it/s]\n",
            "Epoch 486\n",
            "Train: 100%|██████████| 82/82 [00:20<00:00,  3.95it/s]\n",
            "Epoch 487\n",
            "Train: 100%|██████████| 82/82 [00:24<00:00,  3.36it/s]\n",
            "Epoch 488\n",
            "Train: 100%|██████████| 82/82 [00:20<00:00,  3.92it/s]\n",
            "Epoch 489\n",
            "Train: 100%|██████████| 82/82 [00:24<00:00,  3.30it/s]\n",
            "Eval : 100%|██████████| 7/7 [00:02<00:00,  3.14it/s]\n",
            "Epoch 490\n"
          ]
        },
        {
          "name": "stdout",
          "output_type": "stream",
          "text": [
            "Saving model...\n",
            "{'edit_distance': 118.973, '_num_chars': 125.089, '_num_pred_chars': 135.471, 'nsentences': 1.0, '_world_size': 0.007, '_lm_score_sum': 0.0, '_kaldi_score_sum': 0.0, '_word_lm_sum': 0.0, '_num_words': 0.0, '_vocab_seen': [0.007, 0.007, 0.007, 0.007, 0.007, 0.007, 0.007, 0.007, 0.007, 0.007, 0.007, 0.007, 0.007, 0.007, 0.007, 0.007, 0.0, 0.007, 0.007, 0.007, 0.007, 0.007, 0.007, 0.007, 0.007, 0.0, 0.007, 0.007, 0.007, 0.0, 0.0, 0.007, 0.007, 0.007, 0.007, 0.0, 0.007, 0.0, 0.007, 0.0, 0.007, 0.0, 0.0, 0.007, 0.003, 0.0, 0.0, 0.0, 0.0, 0.0, 0.007, 0.0, 0.0, 0.0, 0.0, 0.0, 0.0, 0.0, 0.0, 0.0]}\n"
          ]
        },
        {
          "name": "stderr",
          "output_type": "stream",
          "text": [
            "Train: 100%|██████████| 82/82 [00:20<00:00,  3.91it/s]\n",
            "Epoch 491\n",
            "Train: 100%|██████████| 82/82 [00:24<00:00,  3.33it/s]\n",
            "Epoch 492\n",
            "Train: 100%|██████████| 82/82 [00:20<00:00,  3.96it/s]\n",
            "Epoch 493\n",
            "Train: 100%|██████████| 82/82 [00:24<00:00,  3.33it/s]\n",
            "Epoch 494\n",
            "Train: 100%|██████████| 82/82 [00:20<00:00,  3.95it/s]\n",
            "Eval : 100%|██████████| 7/7 [00:02<00:00,  3.06it/s]\n",
            "Epoch 495\n"
          ]
        },
        {
          "name": "stdout",
          "output_type": "stream",
          "text": [
            "Saving model...\n",
            "{'edit_distance': 116.247, '_num_chars': 125.089, '_num_pred_chars': 128.51, 'nsentences': 1.0, '_world_size': 0.007, '_lm_score_sum': 0.0, '_kaldi_score_sum': 0.0, '_word_lm_sum': 0.0, '_num_words': 0.0, '_vocab_seen': [0.007, 0.007, 0.007, 0.007, 0.0, 0.007, 0.007, 0.007, 0.007, 0.007, 0.007, 0.0, 0.007, 0.007, 0.007, 0.007, 0.0, 0.007, 0.0, 0.007, 0.007, 0.007, 0.007, 0.007, 0.007, 0.007, 0.007, 0.007, 0.002, 0.0, 0.0, 0.0, 0.007, 0.007, 0.007, 0.007, 0.007, 0.007, 0.007, 0.007, 0.0, 0.007, 0.0, 0.0, 0.0, 0.007, 0.0, 0.0, 0.007, 0.0, 0.0, 0.0, 0.0, 0.0, 0.0, 0.0, 0.0, 0.0, 0.0, 0.0]}\n"
          ]
        },
        {
          "name": "stderr",
          "output_type": "stream",
          "text": [
            "Train: 100%|██████████| 82/82 [00:24<00:00,  3.33it/s]\n",
            "Epoch 496\n",
            "Train: 100%|██████████| 82/82 [00:20<00:00,  3.97it/s]\n",
            "Epoch 497\n",
            "Train: 100%|██████████| 82/82 [00:24<00:00,  3.37it/s]\n",
            "Epoch 498\n",
            "Train: 100%|██████████| 82/82 [00:20<00:00,  3.94it/s]\n",
            "Epoch 499\n",
            "Train: 100%|██████████| 82/82 [00:25<00:00,  3.24it/s]\n",
            "Eval : 100%|██████████| 7/7 [00:02<00:00,  3.12it/s]\n",
            "Epoch 500\n"
          ]
        },
        {
          "name": "stdout",
          "output_type": "stream",
          "text": [
            "Saving model...\n",
            "{'edit_distance': 116.383, '_num_chars': 125.089, '_num_pred_chars': 132.535, 'nsentences': 1.0, '_world_size': 0.007, '_lm_score_sum': 0.0, '_kaldi_score_sum': 0.0, '_word_lm_sum': 0.0, '_num_words': 0.0, '_vocab_seen': [0.007, 0.007, 0.007, 0.007, 0.007, 0.007, 0.007, 0.007, 0.007, 0.007, 0.007, 0.007, 0.007, 0.007, 0.007, 0.007, 0.003, 0.007, 0.007, 0.007, 0.007, 0.007, 0.007, 0.007, 0.007, 0.0, 0.007, 0.007, 0.0, 0.0, 0.0, 0.007, 0.0, 0.007, 0.007, 0.0, 0.007, 0.0, 0.007, 0.0, 0.0, 0.007, 0.007, 0.0, 0.007, 0.007, 0.0, 0.0, 0.006, 0.0, 0.0, 0.0, 0.0, 0.0, 0.0, 0.0, 0.0, 0.0, 0.0, 0.0]}\n"
          ]
        },
        {
          "name": "stderr",
          "output_type": "stream",
          "text": [
            "Train: 100%|██████████| 82/82 [00:20<00:00,  3.91it/s]\n",
            "Epoch 501\n",
            "Train: 100%|██████████| 82/82 [00:24<00:00,  3.34it/s]\n",
            "Epoch 502\n",
            "Train: 100%|██████████| 82/82 [00:21<00:00,  3.90it/s]\n",
            "Epoch 503\n",
            "Train: 100%|██████████| 82/82 [00:25<00:00,  3.28it/s]\n",
            "Epoch 504\n",
            "Train: 100%|██████████| 82/82 [00:20<00:00,  3.93it/s]\n",
            "Eval : 100%|██████████| 7/7 [00:02<00:00,  3.16it/s]\n",
            "Epoch 505\n"
          ]
        },
        {
          "name": "stdout",
          "output_type": "stream",
          "text": [
            "Saving model...\n",
            "{'edit_distance': 115.537, '_num_chars': 125.089, '_num_pred_chars': 126.355, 'nsentences': 1.0, '_world_size': 0.007, '_lm_score_sum': 0.0, '_kaldi_score_sum': 0.0, '_word_lm_sum': 0.0, '_num_words': 0.0, '_vocab_seen': [0.007, 0.007, 0.006, 0.007, 0.007, 0.007, 0.007, 0.007, 0.007, 0.007, 0.007, 0.007, 0.007, 0.007, 0.007, 0.007, 0.0, 0.007, 0.007, 0.007, 0.007, 0.007, 0.007, 0.007, 0.0, 0.007, 0.007, 0.007, 0.007, 0.006, 0.007, 0.0, 0.007, 0.007, 0.007, 0.0, 0.0, 0.0, 0.007, 0.0, 0.0, 0.007, 0.0, 0.007, 0.0, 0.0, 0.0, 0.0, 0.007, 0.0, 0.0, 0.0, 0.0, 0.0, 0.0, 0.0, 0.0, 0.0, 0.0, 0.0]}\n"
          ]
        },
        {
          "name": "stderr",
          "output_type": "stream",
          "text": [
            "Train: 100%|██████████| 82/82 [00:24<00:00,  3.32it/s]\n",
            "Epoch 506\n",
            "Train: 100%|██████████| 82/82 [00:20<00:00,  3.93it/s]\n",
            "Epoch 507\n",
            "Train: 100%|██████████| 82/82 [00:24<00:00,  3.35it/s]\n",
            "Epoch 508\n",
            "Train: 100%|██████████| 82/82 [00:21<00:00,  3.90it/s]\n",
            "Epoch 509\n",
            "Train: 100%|██████████| 82/82 [00:24<00:00,  3.34it/s]\n",
            "Eval : 100%|██████████| 7/7 [00:02<00:00,  3.14it/s]\n",
            "Epoch 510\n"
          ]
        },
        {
          "name": "stdout",
          "output_type": "stream",
          "text": [
            "Saving model...\n",
            "{'edit_distance': 117.634, '_num_chars': 125.089, '_num_pred_chars': 130.341, 'nsentences': 1.0, '_world_size': 0.007, '_lm_score_sum': 0.0, '_kaldi_score_sum': 0.0, '_word_lm_sum': 0.0, '_num_words': 0.0, '_vocab_seen': [0.007, 0.007, 0.007, 0.007, 0.007, 0.007, 0.007, 0.007, 0.007, 0.007, 0.007, 0.007, 0.007, 0.007, 0.007, 0.007, 0.007, 0.007, 0.0, 0.007, 0.007, 0.007, 0.007, 0.007, 0.007, 0.007, 0.007, 0.007, 0.0, 0.0, 0.007, 0.0, 0.0, 0.007, 0.007, 0.0, 0.0, 0.007, 0.007, 0.007, 0.0, 0.007, 0.0, 0.0, 0.0, 0.0, 0.0, 0.0, 0.0, 0.0, 0.0, 0.0, 0.0, 0.0, 0.0, 0.0, 0.0, 0.0, 0.0, 0.0]}\n"
          ]
        },
        {
          "name": "stderr",
          "output_type": "stream",
          "text": [
            "Train: 100%|██████████| 82/82 [00:20<00:00,  3.91it/s]\n",
            "Epoch 511\n",
            "Train: 100%|██████████| 82/82 [00:24<00:00,  3.29it/s]\n",
            "Epoch 512\n",
            "Train: 100%|██████████| 82/82 [00:20<00:00,  3.91it/s]\n",
            "Epoch 513\n",
            "Train: 100%|██████████| 82/82 [00:24<00:00,  3.32it/s]\n",
            "Epoch 514\n",
            "Train: 100%|██████████| 82/82 [00:20<00:00,  3.94it/s]\n",
            "Eval : 100%|██████████| 7/7 [00:02<00:00,  3.10it/s]\n",
            "Epoch 515\n"
          ]
        },
        {
          "name": "stdout",
          "output_type": "stream",
          "text": [
            "Saving model...\n",
            "{'edit_distance': 119.374, '_num_chars': 125.089, '_num_pred_chars': 133.629, 'nsentences': 1.0, '_world_size': 0.007, '_lm_score_sum': 0.0, '_kaldi_score_sum': 0.0, '_word_lm_sum': 0.0, '_num_words': 0.0, '_vocab_seen': [0.007, 0.007, 0.007, 0.007, 0.007, 0.007, 0.007, 0.003, 0.007, 0.007, 0.007, 0.007, 0.007, 0.007, 0.0, 0.007, 0.007, 0.007, 0.007, 0.007, 0.007, 0.007, 0.007, 0.007, 0.007, 0.007, 0.007, 0.007, 0.007, 0.007, 0.007, 0.007, 0.007, 0.007, 0.007, 0.0, 0.0, 0.0, 0.007, 0.0, 0.0, 0.007, 0.0, 0.0, 0.0, 0.007, 0.007, 0.0, 0.0, 0.0, 0.0, 0.0, 0.0, 0.0, 0.0, 0.0, 0.0, 0.0, 0.0, 0.0]}\n"
          ]
        },
        {
          "name": "stderr",
          "output_type": "stream",
          "text": [
            "Train: 100%|██████████| 82/82 [00:25<00:00,  3.26it/s]\n",
            "Epoch 516\n",
            "Train: 100%|██████████| 82/82 [00:21<00:00,  3.87it/s]\n",
            "Epoch 517\n",
            "Train: 100%|██████████| 82/82 [00:24<00:00,  3.30it/s]\n",
            "Epoch 518\n",
            "Train: 100%|██████████| 82/82 [00:20<00:00,  3.93it/s]\n",
            "Epoch 519\n",
            "Train: 100%|██████████| 82/82 [00:24<00:00,  3.31it/s]\n",
            "Eval : 100%|██████████| 7/7 [00:02<00:00,  3.09it/s]\n",
            "Epoch 520\n"
          ]
        },
        {
          "name": "stdout",
          "output_type": "stream",
          "text": [
            "Saving model...\n",
            "{'edit_distance': 118.283, '_num_chars': 125.089, '_num_pred_chars': 132.516, 'nsentences': 1.0, '_world_size': 0.007, '_lm_score_sum': 0.0, '_kaldi_score_sum': 0.0, '_word_lm_sum': 0.0, '_num_words': 0.0, '_vocab_seen': [0.007, 0.007, 0.007, 0.007, 0.007, 0.007, 0.007, 0.007, 0.007, 0.007, 0.007, 0.007, 0.007, 0.007, 0.007, 0.007, 0.007, 0.007, 0.0, 0.007, 0.007, 0.007, 0.007, 0.007, 0.007, 0.007, 0.007, 0.007, 0.007, 0.0, 0.007, 0.0, 0.007, 0.007, 0.007, 0.0, 0.0, 0.0, 0.007, 0.0, 0.007, 0.007, 0.0, 0.007, 0.0, 0.007, 0.0, 0.0, 0.0, 0.0, 0.007, 0.0, 0.0, 0.0, 0.0, 0.0, 0.0, 0.0, 0.0, 0.0]}\n"
          ]
        },
        {
          "name": "stderr",
          "output_type": "stream",
          "text": [
            "Train: 100%|██████████| 82/82 [00:20<00:00,  3.96it/s]\n",
            "Epoch 521\n",
            "Train: 100%|██████████| 82/82 [00:24<00:00,  3.31it/s]\n",
            "Epoch 522\n",
            "Train: 100%|██████████| 82/82 [00:20<00:00,  3.91it/s]\n",
            "Epoch 523\n",
            "Train: 100%|██████████| 82/82 [00:24<00:00,  3.31it/s]\n",
            "Epoch 524\n",
            "Train: 100%|██████████| 82/82 [00:20<00:00,  3.97it/s]\n",
            "Eval : 100%|██████████| 7/7 [00:02<00:00,  3.16it/s]\n",
            "Epoch 525\n"
          ]
        },
        {
          "name": "stdout",
          "output_type": "stream",
          "text": [
            "Saving model...\n",
            "{'edit_distance': 112.652, '_num_chars': 125.089, '_num_pred_chars': 122.226, 'nsentences': 1.0, '_world_size': 0.007, '_lm_score_sum': 0.0, '_kaldi_score_sum': 0.0, '_word_lm_sum': 0.0, '_num_words': 0.0, '_vocab_seen': [0.007, 0.007, 0.007, 0.007, 0.007, 0.007, 0.007, 0.007, 0.007, 0.007, 0.007, 0.007, 0.007, 0.007, 0.007, 0.007, 0.007, 0.007, 0.007, 0.007, 0.007, 0.007, 0.007, 0.007, 0.0, 0.007, 0.007, 0.007, 0.007, 0.007, 0.007, 0.0, 0.006, 0.007, 0.007, 0.0, 0.007, 0.007, 0.007, 0.0, 0.007, 0.007, 0.0, 0.0, 0.0, 0.007, 0.0, 0.007, 0.007, 0.0, 0.0, 0.0, 0.0, 0.0, 0.0, 0.0, 0.0, 0.0, 0.0, 0.0]}\n"
          ]
        },
        {
          "name": "stderr",
          "output_type": "stream",
          "text": [
            "Train: 100%|██████████| 82/82 [00:24<00:00,  3.29it/s]\n",
            "Epoch 526\n",
            "Train: 100%|██████████| 82/82 [00:21<00:00,  3.79it/s]\n",
            "Epoch 527\n",
            "Train: 100%|██████████| 82/82 [00:25<00:00,  3.23it/s]\n",
            "Epoch 528\n",
            "Train: 100%|██████████| 82/82 [00:21<00:00,  3.85it/s]\n",
            "Epoch 529\n",
            "Train: 100%|██████████| 82/82 [00:24<00:00,  3.30it/s]\n",
            "Eval : 100%|██████████| 7/7 [00:02<00:00,  3.10it/s]\n",
            "Epoch 530\n"
          ]
        },
        {
          "name": "stdout",
          "output_type": "stream",
          "text": [
            "Saving model...\n",
            "{'edit_distance': 113.211, '_num_chars': 125.089, '_num_pred_chars': 118.944, 'nsentences': 1.0, '_world_size': 0.007, '_lm_score_sum': 0.0, '_kaldi_score_sum': 0.0, '_word_lm_sum': 0.0, '_num_words': 0.0, '_vocab_seen': [0.007, 0.007, 0.007, 0.007, 0.007, 0.007, 0.007, 0.007, 0.007, 0.007, 0.007, 0.007, 0.007, 0.007, 0.007, 0.007, 0.007, 0.007, 0.007, 0.007, 0.005, 0.007, 0.007, 0.007, 0.007, 0.007, 0.007, 0.007, 0.007, 0.007, 0.007, 0.0, 0.0, 0.007, 0.007, 0.007, 0.007, 0.007, 0.007, 0.007, 0.007, 0.007, 0.007, 0.0, 0.007, 0.0, 0.0, 0.0, 0.0, 0.0, 0.0, 0.0, 0.0, 0.0, 0.0, 0.0, 0.0, 0.0, 0.0, 0.0]}\n"
          ]
        },
        {
          "name": "stderr",
          "output_type": "stream",
          "text": [
            "Train: 100%|██████████| 82/82 [00:21<00:00,  3.84it/s]\n",
            "Epoch 531\n",
            "Train: 100%|██████████| 82/82 [00:25<00:00,  3.23it/s]\n",
            "Epoch 532\n",
            "Train: 100%|██████████| 82/82 [00:21<00:00,  3.85it/s]\n",
            "Epoch 533\n",
            "Train: 100%|██████████| 82/82 [00:25<00:00,  3.25it/s]\n",
            "Epoch 534\n",
            "Train: 100%|██████████| 82/82 [00:21<00:00,  3.87it/s]\n",
            "Eval : 100%|██████████| 7/7 [00:02<00:00,  3.13it/s]\n",
            "Epoch 535\n"
          ]
        },
        {
          "name": "stdout",
          "output_type": "stream",
          "text": [
            "Saving model...\n",
            "{'edit_distance': 113.723, '_num_chars': 125.089, '_num_pred_chars': 126.503, 'nsentences': 1.0, '_world_size': 0.007, '_lm_score_sum': 0.0, '_kaldi_score_sum': 0.0, '_word_lm_sum': 0.0, '_num_words': 0.0, '_vocab_seen': [0.007, 0.007, 0.007, 0.007, 0.007, 0.007, 0.007, 0.007, 0.007, 0.007, 0.007, 0.007, 0.007, 0.007, 0.0, 0.007, 0.005, 0.007, 0.002, 0.007, 0.007, 0.007, 0.0, 0.007, 0.0, 0.0, 0.007, 0.007, 0.007, 0.007, 0.007, 0.007, 0.007, 0.002, 0.007, 0.0, 0.007, 0.007, 0.007, 0.007, 0.0, 0.007, 0.007, 0.007, 0.0, 0.0, 0.007, 0.0, 0.0, 0.0, 0.007, 0.0, 0.007, 0.0, 0.0, 0.0, 0.0, 0.0, 0.0, 0.0]}\n"
          ]
        },
        {
          "name": "stderr",
          "output_type": "stream",
          "text": [
            "Train: 100%|██████████| 82/82 [00:24<00:00,  3.34it/s]\n",
            "Epoch 536\n",
            "Train: 100%|██████████| 82/82 [00:20<00:00,  3.92it/s]\n",
            "Epoch 537\n",
            "Train: 100%|██████████| 82/82 [00:24<00:00,  3.33it/s]\n",
            "Epoch 538\n",
            "Train: 100%|██████████| 82/82 [00:21<00:00,  3.90it/s]\n",
            "Epoch 539\n",
            "Train: 100%|██████████| 82/82 [00:24<00:00,  3.29it/s]\n",
            "Eval : 100%|██████████| 7/7 [00:02<00:00,  3.20it/s]\n",
            "Epoch 540\n"
          ]
        },
        {
          "name": "stdout",
          "output_type": "stream",
          "text": [
            "Saving model...\n",
            "{'edit_distance': 114.887, '_num_chars': 125.089, '_num_pred_chars': 130.78, 'nsentences': 1.0, '_world_size': 0.007, '_lm_score_sum': 0.0, '_kaldi_score_sum': 0.0, '_word_lm_sum': 0.0, '_num_words': 0.0, '_vocab_seen': [0.007, 0.007, 0.007, 0.007, 0.007, 0.007, 0.007, 0.007, 0.007, 0.007, 0.007, 0.007, 0.007, 0.0, 0.0, 0.007, 0.0, 0.007, 0.007, 0.007, 0.007, 0.007, 0.007, 0.007, 0.0, 0.007, 0.007, 0.007, 0.007, 0.007, 0.007, 0.007, 0.007, 0.0, 0.007, 0.0, 0.002, 0.0, 0.007, 0.007, 0.0, 0.0, 0.007, 0.007, 0.0, 0.0, 0.0, 0.0, 0.0, 0.0, 0.0, 0.0, 0.007, 0.0, 0.0, 0.0, 0.0, 0.0, 0.0, 0.0]}\n"
          ]
        },
        {
          "name": "stderr",
          "output_type": "stream",
          "text": [
            "Train: 100%|██████████| 82/82 [00:20<00:00,  3.92it/s]\n",
            "Epoch 541\n",
            "Train: 100%|██████████| 82/82 [00:24<00:00,  3.33it/s]\n",
            "Epoch 542\n",
            "Train: 100%|██████████| 82/82 [00:21<00:00,  3.90it/s]\n",
            "Epoch 543\n",
            "Train: 100%|██████████| 82/82 [00:25<00:00,  3.28it/s]\n",
            "Epoch 544\n",
            "Train: 100%|██████████| 82/82 [00:20<00:00,  3.93it/s]\n",
            "Eval : 100%|██████████| 7/7 [00:02<00:00,  3.16it/s]\n",
            "Epoch 545\n"
          ]
        },
        {
          "name": "stdout",
          "output_type": "stream",
          "text": [
            "Saving model...\n",
            "{'edit_distance': 115.942, '_num_chars': 125.089, '_num_pred_chars': 131.128, 'nsentences': 1.0, '_world_size': 0.007, '_lm_score_sum': 0.0, '_kaldi_score_sum': 0.0, '_word_lm_sum': 0.0, '_num_words': 0.0, '_vocab_seen': [0.007, 0.007, 0.007, 0.007, 0.007, 0.007, 0.007, 0.007, 0.007, 0.007, 0.007, 0.0, 0.007, 0.007, 0.0, 0.007, 0.002, 0.007, 0.007, 0.007, 0.007, 0.007, 0.007, 0.007, 0.007, 0.007, 0.007, 0.007, 0.007, 0.007, 0.0, 0.007, 0.007, 0.007, 0.007, 0.007, 0.0, 0.007, 0.007, 0.007, 0.007, 0.0, 0.0, 0.0, 0.0, 0.0, 0.0, 0.0, 0.0, 0.0, 0.0, 0.0, 0.0, 0.0, 0.0, 0.0, 0.0, 0.0, 0.0, 0.0]}\n"
          ]
        },
        {
          "name": "stderr",
          "output_type": "stream",
          "text": [
            "Train: 100%|██████████| 82/82 [00:24<00:00,  3.31it/s]\n",
            "Epoch 546\n",
            "Train: 100%|██████████| 82/82 [00:20<00:00,  3.91it/s]\n",
            "Epoch 547\n",
            "Train: 100%|██████████| 82/82 [00:24<00:00,  3.34it/s]\n",
            "Epoch 548\n",
            "Train: 100%|██████████| 82/82 [00:20<00:00,  3.94it/s]\n",
            "Epoch 549\n",
            "Train: 100%|██████████| 82/82 [00:24<00:00,  3.30it/s]\n",
            "Eval : 100%|██████████| 7/7 [00:02<00:00,  3.12it/s]\n",
            "Epoch 550\n"
          ]
        },
        {
          "name": "stdout",
          "output_type": "stream",
          "text": [
            "Saving model...\n",
            "{'edit_distance': 115.819, '_num_chars': 125.089, '_num_pred_chars': 130.006, 'nsentences': 1.0, '_world_size': 0.007, '_lm_score_sum': 0.0, '_kaldi_score_sum': 0.0, '_word_lm_sum': 0.0, '_num_words': 0.0, '_vocab_seen': [0.007, 0.007, 0.006, 0.007, 0.007, 0.007, 0.0, 0.007, 0.007, 0.007, 0.007, 0.007, 0.007, 0.0, 0.007, 0.007, 0.0, 0.007, 0.007, 0.007, 0.007, 0.007, 0.007, 0.007, 0.007, 0.007, 0.007, 0.007, 0.007, 0.007, 0.007, 0.007, 0.007, 0.0, 0.007, 0.007, 0.0, 0.0, 0.007, 0.0, 0.007, 0.007, 0.0, 0.0, 0.0, 0.007, 0.007, 0.0, 0.0, 0.0, 0.0, 0.0, 0.0, 0.007, 0.0, 0.007, 0.0, 0.0, 0.0, 0.0]}\n"
          ]
        },
        {
          "name": "stderr",
          "output_type": "stream",
          "text": [
            "Train: 100%|██████████| 82/82 [00:20<00:00,  3.92it/s]\n",
            "Epoch 551\n",
            "Train: 100%|██████████| 82/82 [00:24<00:00,  3.33it/s]\n",
            "Epoch 552\n",
            "Train: 100%|██████████| 82/82 [00:20<00:00,  3.91it/s]\n",
            "Epoch 553\n",
            "Train: 100%|██████████| 82/82 [00:24<00:00,  3.32it/s]\n",
            "Epoch 554\n",
            "Train: 100%|██████████| 82/82 [00:20<00:00,  3.92it/s]\n",
            "Eval : 100%|██████████| 7/7 [00:02<00:00,  3.17it/s]\n",
            "Epoch 555\n"
          ]
        },
        {
          "name": "stdout",
          "output_type": "stream",
          "text": [
            "Saving model...\n",
            "{'edit_distance': 116.698, '_num_chars': 125.089, '_num_pred_chars': 132.979, 'nsentences': 1.0, '_world_size': 0.007, '_lm_score_sum': 0.0, '_kaldi_score_sum': 0.0, '_word_lm_sum': 0.0, '_num_words': 0.0, '_vocab_seen': [0.007, 0.007, 0.007, 0.007, 0.007, 0.007, 0.007, 0.007, 0.007, 0.007, 0.007, 0.007, 0.007, 0.007, 0.0, 0.007, 0.0, 0.007, 0.007, 0.007, 0.007, 0.007, 0.007, 0.007, 0.007, 0.007, 0.007, 0.007, 0.0, 0.0, 0.007, 0.007, 0.0, 0.007, 0.007, 0.007, 0.007, 0.0, 0.007, 0.0, 0.0, 0.0, 0.0, 0.0, 0.007, 0.007, 0.0, 0.0, 0.007, 0.0, 0.0, 0.0, 0.0, 0.0, 0.0, 0.0, 0.0, 0.0, 0.0, 0.0]}\n"
          ]
        },
        {
          "name": "stderr",
          "output_type": "stream",
          "text": [
            "Train: 100%|██████████| 82/82 [00:24<00:00,  3.34it/s]\n",
            "Epoch 556\n",
            "Train: 100%|██████████| 82/82 [00:20<00:00,  3.96it/s]\n",
            "Epoch 557\n",
            "Train: 100%|██████████| 82/82 [00:24<00:00,  3.31it/s]\n",
            "Epoch 558\n",
            "Train: 100%|██████████| 82/82 [00:21<00:00,  3.79it/s]\n",
            "Epoch 559\n",
            "Train: 100%|██████████| 82/82 [00:24<00:00,  3.35it/s]\n",
            "Eval : 100%|██████████| 7/7 [00:02<00:00,  3.12it/s]\n",
            "Epoch 560\n"
          ]
        },
        {
          "name": "stdout",
          "output_type": "stream",
          "text": [
            "Saving model...\n",
            "{'edit_distance': 113.152, '_num_chars': 125.089, '_num_pred_chars': 124.187, 'nsentences': 1.0, '_world_size': 0.007, '_lm_score_sum': 0.0, '_kaldi_score_sum': 0.0, '_word_lm_sum': 0.0, '_num_words': 0.0, '_vocab_seen': [0.007, 0.007, 0.007, 0.007, 0.007, 0.007, 0.007, 0.007, 0.007, 0.007, 0.007, 0.007, 0.007, 0.007, 0.0, 0.007, 0.0, 0.007, 0.007, 0.007, 0.007, 0.007, 0.007, 0.007, 0.007, 0.007, 0.007, 0.007, 0.007, 0.007, 0.007, 0.007, 0.0, 0.007, 0.007, 0.007, 0.003, 0.0, 0.007, 0.0, 0.0, 0.0, 0.007, 0.007, 0.007, 0.007, 0.0, 0.0, 0.0, 0.0, 0.0, 0.0, 0.0, 0.0, 0.007, 0.0, 0.0, 0.0, 0.0, 0.0]}\n"
          ]
        },
        {
          "name": "stderr",
          "output_type": "stream",
          "text": [
            "Train: 100%|██████████| 82/82 [00:20<00:00,  3.94it/s]\n",
            "Epoch 561\n",
            "Train: 100%|██████████| 82/82 [00:24<00:00,  3.30it/s]\n",
            "Epoch 562\n",
            "Train: 100%|██████████| 82/82 [00:20<00:00,  3.95it/s]\n",
            "Epoch 563\n",
            "Train: 100%|██████████| 82/82 [00:24<00:00,  3.32it/s]\n",
            "Epoch 564\n",
            "Train: 100%|██████████| 82/82 [00:21<00:00,  3.89it/s]\n",
            "Eval : 100%|██████████| 7/7 [00:02<00:00,  3.06it/s]\n",
            "Epoch 565\n"
          ]
        },
        {
          "name": "stdout",
          "output_type": "stream",
          "text": [
            "Saving model...\n",
            "{'edit_distance': 119.165, '_num_chars': 125.089, '_num_pred_chars': 132.48, 'nsentences': 1.0, '_world_size': 0.007, '_lm_score_sum': 0.0, '_kaldi_score_sum': 0.0, '_word_lm_sum': 0.0, '_num_words': 0.0, '_vocab_seen': [0.007, 0.007, 0.007, 0.007, 0.007, 0.007, 0.007, 0.007, 0.007, 0.007, 0.007, 0.007, 0.007, 0.007, 0.007, 0.0, 0.0, 0.007, 0.007, 0.007, 0.007, 0.007, 0.007, 0.007, 0.007, 0.007, 0.007, 0.007, 0.007, 0.007, 0.0, 0.007, 0.007, 0.007, 0.007, 0.007, 0.007, 0.0, 0.007, 0.007, 0.007, 0.007, 0.007, 0.007, 0.007, 0.0, 0.0, 0.0, 0.0, 0.0, 0.0, 0.0, 0.0, 0.0, 0.006, 0.0, 0.0, 0.0, 0.0, 0.0]}\n"
          ]
        },
        {
          "name": "stderr",
          "output_type": "stream",
          "text": [
            "Train: 100%|██████████| 82/82 [00:25<00:00,  3.27it/s]\n",
            "Epoch 566\n",
            "Train: 100%|██████████| 82/82 [00:20<00:00,  3.95it/s]\n",
            "Epoch 567\n",
            "Train: 100%|██████████| 82/82 [00:24<00:00,  3.30it/s]\n",
            "Epoch 568\n",
            "Train: 100%|██████████| 82/82 [00:20<00:00,  3.94it/s]\n",
            "Epoch 569\n",
            "Train: 100%|██████████| 82/82 [00:24<00:00,  3.29it/s]\n",
            "Eval : 100%|██████████| 7/7 [00:02<00:00,  3.12it/s]\n",
            "Epoch 570\n"
          ]
        },
        {
          "name": "stdout",
          "output_type": "stream",
          "text": [
            "Saving model...\n",
            "{'edit_distance': 118.219, '_num_chars': 125.089, '_num_pred_chars': 134.356, 'nsentences': 1.0, '_world_size': 0.007, '_lm_score_sum': 0.0, '_kaldi_score_sum': 0.0, '_word_lm_sum': 0.0, '_num_words': 0.0, '_vocab_seen': [0.007, 0.007, 0.007, 0.007, 0.007, 0.007, 0.0, 0.007, 0.007, 0.007, 0.007, 0.007, 0.007, 0.007, 0.0, 0.001, 0.007, 0.007, 0.001, 0.007, 0.007, 0.007, 0.007, 0.007, 0.007, 0.007, 0.007, 0.007, 0.007, 0.007, 0.0, 0.007, 0.007, 0.0, 0.007, 0.007, 0.007, 0.007, 0.007, 0.0, 0.0, 0.0, 0.0, 0.0, 0.007, 0.0, 0.007, 0.007, 0.0, 0.0, 0.007, 0.0, 0.0, 0.0, 0.0, 0.0, 0.0, 0.0, 0.0, 0.0]}\n"
          ]
        },
        {
          "name": "stderr",
          "output_type": "stream",
          "text": [
            "Train: 100%|██████████| 82/82 [00:20<00:00,  3.93it/s]\n",
            "Epoch 571\n",
            "Train: 100%|██████████| 82/82 [00:24<00:00,  3.37it/s]\n",
            "Epoch 572\n",
            "Train: 100%|██████████| 82/82 [00:20<00:00,  3.94it/s]\n",
            "Epoch 573\n",
            "Train: 100%|██████████| 82/82 [00:24<00:00,  3.31it/s]\n",
            "Epoch 574\n",
            "Train: 100%|██████████| 82/82 [00:21<00:00,  3.89it/s]\n",
            "Eval : 100%|██████████| 7/7 [00:02<00:00,  3.08it/s]\n",
            "Epoch 575\n"
          ]
        },
        {
          "name": "stdout",
          "output_type": "stream",
          "text": [
            "Saving model...\n",
            "{'edit_distance': 114.58, '_num_chars': 125.089, '_num_pred_chars': 125.616, 'nsentences': 1.0, '_world_size': 0.007, '_lm_score_sum': 0.0, '_kaldi_score_sum': 0.0, '_word_lm_sum': 0.0, '_num_words': 0.0, '_vocab_seen': [0.007, 0.007, 0.007, 0.007, 0.007, 0.007, 0.007, 0.007, 0.007, 0.007, 0.007, 0.007, 0.007, 0.007, 0.007, 0.007, 0.0, 0.007, 0.007, 0.007, 0.0, 0.007, 0.007, 0.007, 0.007, 0.007, 0.007, 0.007, 0.007, 0.007, 0.0, 0.007, 0.0, 0.0, 0.007, 0.007, 0.007, 0.007, 0.007, 0.0, 0.007, 0.0, 0.0, 0.0, 0.0, 0.0, 0.0, 0.0, 0.0, 0.0, 0.0, 0.0, 0.0, 0.0, 0.0, 0.0, 0.0, 0.0, 0.0, 0.0]}\n"
          ]
        },
        {
          "name": "stderr",
          "output_type": "stream",
          "text": [
            "Train: 100%|██████████| 82/82 [00:24<00:00,  3.34it/s]\n",
            "Epoch 576\n",
            "Train: 100%|██████████| 82/82 [00:21<00:00,  3.90it/s]\n",
            "Epoch 577\n",
            "Train: 100%|██████████| 82/82 [00:24<00:00,  3.28it/s]\n",
            "Epoch 578\n",
            "Train: 100%|██████████| 82/82 [00:20<00:00,  3.91it/s]\n",
            "Epoch 579\n",
            "Train: 100%|██████████| 82/82 [00:24<00:00,  3.32it/s]\n",
            "Eval : 100%|██████████| 7/7 [00:02<00:00,  3.09it/s]\n",
            "Epoch 580\n"
          ]
        },
        {
          "name": "stdout",
          "output_type": "stream",
          "text": [
            "Saving model...\n",
            "{'edit_distance': 116.299, '_num_chars': 125.089, '_num_pred_chars': 130.414, 'nsentences': 1.0, '_world_size': 0.007, '_lm_score_sum': 0.0, '_kaldi_score_sum': 0.0, '_word_lm_sum': 0.0, '_num_words': 0.0, '_vocab_seen': [0.007, 0.007, 0.007, 0.007, 0.007, 0.007, 0.007, 0.007, 0.007, 0.007, 0.007, 0.007, 0.007, 0.007, 0.0, 0.007, 0.0, 0.007, 0.007, 0.007, 0.007, 0.007, 0.007, 0.007, 0.007, 0.0, 0.007, 0.007, 0.007, 0.007, 0.0, 0.007, 0.0, 0.007, 0.007, 0.007, 0.007, 0.007, 0.007, 0.0, 0.007, 0.0, 0.0, 0.0, 0.0, 0.0, 0.0, 0.0, 0.007, 0.0, 0.0, 0.007, 0.0, 0.0, 0.0, 0.0, 0.0, 0.0, 0.0, 0.0]}\n"
          ]
        },
        {
          "name": "stderr",
          "output_type": "stream",
          "text": [
            "Train: 100%|██████████| 82/82 [00:20<00:00,  3.93it/s]\n",
            "Epoch 581\n",
            "Train: 100%|██████████| 82/82 [00:24<00:00,  3.34it/s]\n",
            "Epoch 582\n",
            "Train: 100%|██████████| 82/82 [00:21<00:00,  3.90it/s]\n",
            "Epoch 583\n",
            "Train: 100%|██████████| 82/82 [00:24<00:00,  3.33it/s]\n",
            "Epoch 584\n",
            "Train: 100%|██████████| 82/82 [00:21<00:00,  3.88it/s]\n",
            "Eval : 100%|██████████| 7/7 [00:02<00:00,  3.08it/s]\n",
            "Epoch 585\n"
          ]
        },
        {
          "name": "stdout",
          "output_type": "stream",
          "text": [
            "Saving model...\n",
            "{'edit_distance': 119.064, '_num_chars': 125.089, '_num_pred_chars': 132.557, 'nsentences': 1.0, '_world_size': 0.007, '_lm_score_sum': 0.0, '_kaldi_score_sum': 0.0, '_word_lm_sum': 0.0, '_num_words': 0.0, '_vocab_seen': [0.007, 0.007, 0.007, 0.007, 0.0, 0.007, 0.007, 0.007, 0.007, 0.007, 0.007, 0.007, 0.007, 0.007, 0.007, 0.0, 0.0, 0.007, 0.007, 0.007, 0.0, 0.007, 0.007, 0.007, 0.007, 0.007, 0.007, 0.007, 0.007, 0.001, 0.0, 0.0, 0.007, 0.007, 0.007, 0.007, 0.007, 0.007, 0.007, 0.0, 0.0, 0.0, 0.007, 0.0, 0.007, 0.0, 0.0, 0.0, 0.007, 0.0, 0.0, 0.0, 0.0, 0.0, 0.0, 0.0, 0.0, 0.0, 0.0, 0.0]}\n"
          ]
        },
        {
          "name": "stderr",
          "output_type": "stream",
          "text": [
            "Train: 100%|██████████| 82/82 [00:24<00:00,  3.30it/s]\n",
            "Epoch 586\n",
            "Train: 100%|██████████| 82/82 [00:20<00:00,  3.93it/s]\n",
            "Epoch 587\n",
            "Train: 100%|██████████| 82/82 [00:24<00:00,  3.36it/s]\n",
            "Epoch 588\n",
            "Train: 100%|██████████| 82/82 [00:20<00:00,  3.92it/s]\n",
            "Epoch 589\n",
            "Train: 100%|██████████| 82/82 [00:24<00:00,  3.35it/s]\n",
            "Eval : 100%|██████████| 7/7 [00:02<00:00,  3.08it/s]\n",
            "Epoch 590\n"
          ]
        },
        {
          "name": "stdout",
          "output_type": "stream",
          "text": [
            "Saving model...\n",
            "{'edit_distance': 116.441, '_num_chars': 125.089, '_num_pred_chars': 126.526, 'nsentences': 1.0, '_world_size': 0.007, '_lm_score_sum': 0.0, '_kaldi_score_sum': 0.0, '_word_lm_sum': 0.0, '_num_words': 0.0, '_vocab_seen': [0.007, 0.007, 0.007, 0.007, 0.007, 0.007, 0.007, 0.007, 0.007, 0.007, 0.007, 0.007, 0.007, 0.007, 0.007, 0.007, 0.0, 0.007, 0.007, 0.007, 0.0, 0.007, 0.007, 0.007, 0.007, 0.001, 0.0, 0.007, 0.007, 0.0, 0.0, 0.007, 0.007, 0.007, 0.007, 0.007, 0.007, 0.007, 0.007, 0.0, 0.0, 0.007, 0.0, 0.001, 0.0, 0.007, 0.0, 0.0, 0.0, 0.0, 0.0, 0.0, 0.0, 0.0, 0.0, 0.0, 0.0, 0.0, 0.0, 0.0]}\n"
          ]
        },
        {
          "name": "stderr",
          "output_type": "stream",
          "text": [
            "Train: 100%|██████████| 82/82 [00:20<00:00,  3.91it/s]\n",
            "Epoch 591\n",
            "Train: 100%|██████████| 82/82 [00:24<00:00,  3.30it/s]\n",
            "Epoch 592\n",
            "Train: 100%|██████████| 82/82 [00:20<00:00,  3.92it/s]\n",
            "Epoch 593\n",
            "Train: 100%|██████████| 82/82 [00:24<00:00,  3.31it/s]\n",
            "Epoch 594\n",
            "Train: 100%|██████████| 82/82 [00:20<00:00,  3.94it/s]\n",
            "Eval : 100%|██████████| 7/7 [00:02<00:00,  3.10it/s]\n",
            "Epoch 595\n"
          ]
        },
        {
          "name": "stdout",
          "output_type": "stream",
          "text": [
            "Saving model...\n",
            "{'edit_distance': 115.834, '_num_chars': 125.089, '_num_pred_chars': 130.693, 'nsentences': 1.0, '_world_size': 0.007, '_lm_score_sum': 0.0, '_kaldi_score_sum': 0.0, '_word_lm_sum': 0.0, '_num_words': 0.0, '_vocab_seen': [0.007, 0.007, 0.007, 0.007, 0.007, 0.007, 0.007, 0.007, 0.007, 0.007, 0.007, 0.007, 0.007, 0.007, 0.0, 0.007, 0.0, 0.007, 0.007, 0.007, 0.007, 0.007, 0.007, 0.007, 0.007, 0.0, 0.007, 0.007, 0.007, 0.005, 0.007, 0.007, 0.0, 0.007, 0.007, 0.007, 0.007, 0.007, 0.007, 0.0, 0.0, 0.0, 0.0, 0.006, 0.0, 0.0, 0.0, 0.007, 0.0, 0.0, 0.0, 0.0, 0.0, 0.0, 0.0, 0.0, 0.0, 0.0, 0.0, 0.0]}\n"
          ]
        },
        {
          "name": "stderr",
          "output_type": "stream",
          "text": [
            "Train: 100%|██████████| 82/82 [00:24<00:00,  3.32it/s]\n",
            "Epoch 596\n",
            "Train: 100%|██████████| 82/82 [00:20<00:00,  3.93it/s]\n",
            "Epoch 597\n",
            "Train: 100%|██████████| 82/82 [00:24<00:00,  3.32it/s]\n",
            "Epoch 598\n",
            "Train: 100%|██████████| 82/82 [00:20<00:00,  3.93it/s]\n",
            "Epoch 599\n",
            "Train: 100%|██████████| 82/82 [00:24<00:00,  3.33it/s]\n",
            "Eval : 100%|██████████| 7/7 [00:02<00:00,  3.10it/s]\n",
            "Epoch 600\n"
          ]
        },
        {
          "name": "stdout",
          "output_type": "stream",
          "text": [
            "Saving model...\n",
            "{'edit_distance': 115.683, '_num_chars': 125.089, '_num_pred_chars': 124.387, 'nsentences': 1.0, '_world_size': 0.007, '_lm_score_sum': 0.0, '_kaldi_score_sum': 0.0, '_word_lm_sum': 0.0, '_num_words': 0.0, '_vocab_seen': [0.007, 0.007, 0.0, 0.007, 0.007, 0.007, 0.0, 0.007, 0.007, 0.007, 0.007, 0.007, 0.007, 0.007, 0.0, 0.007, 0.007, 0.005, 0.007, 0.007, 0.007, 0.007, 0.007, 0.007, 0.007, 0.0, 0.007, 0.007, 0.007, 0.0, 0.0, 0.007, 0.0, 0.007, 0.007, 0.007, 0.007, 0.007, 0.007, 0.0, 0.007, 0.007, 0.007, 0.007, 0.007, 0.0, 0.0, 0.0, 0.0, 0.0, 0.0, 0.0, 0.0, 0.0, 0.0, 0.0, 0.0, 0.0, 0.0, 0.0]}\n"
          ]
        },
        {
          "name": "stderr",
          "output_type": "stream",
          "text": [
            "Train: 100%|██████████| 82/82 [00:21<00:00,  3.90it/s]\n",
            "Epoch 601\n",
            "Train: 100%|██████████| 82/82 [00:24<00:00,  3.36it/s]\n",
            "Epoch 602\n",
            "Train: 100%|██████████| 82/82 [00:20<00:00,  3.93it/s]\n",
            "Epoch 603\n",
            "Train: 100%|██████████| 82/82 [00:24<00:00,  3.34it/s]\n",
            "Epoch 604\n",
            "Train: 100%|██████████| 82/82 [00:20<00:00,  3.95it/s]\n",
            "Eval : 100%|██████████| 7/7 [00:02<00:00,  3.09it/s]\n",
            "Epoch 605\n"
          ]
        },
        {
          "name": "stdout",
          "output_type": "stream",
          "text": [
            "Saving model...\n",
            "{'edit_distance': 115.402, '_num_chars': 125.089, '_num_pred_chars': 124.913, 'nsentences': 1.0, '_world_size': 0.007, '_lm_score_sum': 0.0, '_kaldi_score_sum': 0.0, '_word_lm_sum': 0.0, '_num_words': 0.0, '_vocab_seen': [0.007, 0.007, 0.001, 0.007, 0.007, 0.007, 0.007, 0.007, 0.007, 0.007, 0.007, 0.0, 0.007, 0.007, 0.007, 0.007, 0.007, 0.007, 0.007, 0.007, 0.007, 0.007, 0.007, 0.007, 0.007, 0.0, 0.007, 0.007, 0.007, 0.0, 0.0, 0.0, 0.005, 0.007, 0.007, 0.007, 0.007, 0.0, 0.007, 0.007, 0.0, 0.0, 0.007, 0.0, 0.0, 0.0, 0.0, 0.0, 0.007, 0.0, 0.0, 0.0, 0.0, 0.0, 0.0, 0.007, 0.0, 0.0, 0.0, 0.0]}\n"
          ]
        },
        {
          "name": "stderr",
          "output_type": "stream",
          "text": [
            "Train: 100%|██████████| 82/82 [00:24<00:00,  3.33it/s]\n",
            "Epoch 606\n",
            "Train: 100%|██████████| 82/82 [00:21<00:00,  3.90it/s]\n",
            "Epoch 607\n",
            "Train: 100%|██████████| 82/82 [00:24<00:00,  3.32it/s]\n",
            "Epoch 608\n",
            "Train: 100%|██████████| 82/82 [00:20<00:00,  3.94it/s]\n",
            "Epoch 609\n",
            "Train: 100%|██████████| 82/82 [00:24<00:00,  3.34it/s]\n",
            "Eval : 100%|██████████| 7/7 [00:02<00:00,  3.09it/s]\n",
            "Epoch 610\n"
          ]
        },
        {
          "name": "stdout",
          "output_type": "stream",
          "text": [
            "Saving model...\n",
            "{'edit_distance': 114.967, '_num_chars': 125.089, '_num_pred_chars': 124.194, 'nsentences': 1.0, '_world_size': 0.007, '_lm_score_sum': 0.0, '_kaldi_score_sum': 0.0, '_word_lm_sum': 0.0, '_num_words': 0.0, '_vocab_seen': [0.007, 0.007, 0.007, 0.007, 0.007, 0.007, 0.007, 0.007, 0.007, 0.007, 0.007, 0.007, 0.007, 0.007, 0.0, 0.007, 0.0, 0.006, 0.007, 0.007, 0.007, 0.007, 0.007, 0.007, 0.007, 0.007, 0.006, 0.007, 0.007, 0.0, 0.007, 0.0, 0.0, 0.007, 0.007, 0.007, 0.007, 0.0, 0.007, 0.007, 0.0, 0.0, 0.007, 0.0, 0.0, 0.0, 0.007, 0.0, 0.0, 0.0, 0.0, 0.0, 0.0, 0.0, 0.0, 0.0, 0.0, 0.0, 0.0, 0.0]}\n"
          ]
        },
        {
          "name": "stderr",
          "output_type": "stream",
          "text": [
            "Train: 100%|██████████| 82/82 [00:20<00:00,  3.92it/s]\n",
            "Epoch 611\n",
            "Train: 100%|██████████| 82/82 [00:24<00:00,  3.33it/s]\n",
            "Epoch 612\n",
            "Train: 100%|██████████| 82/82 [00:20<00:00,  3.93it/s]\n",
            "Epoch 613\n",
            "Train: 100%|██████████| 82/82 [00:24<00:00,  3.32it/s]\n",
            "Epoch 614\n",
            "Train: 100%|██████████| 82/82 [00:20<00:00,  3.94it/s]\n",
            "Eval : 100%|██████████| 7/7 [00:02<00:00,  3.12it/s]\n",
            "Epoch 615\n"
          ]
        },
        {
          "name": "stdout",
          "output_type": "stream",
          "text": [
            "Saving model...\n",
            "{'edit_distance': 110.749, '_num_chars': 125.089, '_num_pred_chars': 114.003, 'nsentences': 1.0, '_world_size': 0.007, '_lm_score_sum': 0.0, '_kaldi_score_sum': 0.0, '_word_lm_sum': 0.0, '_num_words': 0.0, '_vocab_seen': [0.007, 0.007, 0.007, 0.007, 0.007, 0.007, 0.007, 0.007, 0.007, 0.007, 0.007, 0.007, 0.007, 0.007, 0.007, 0.007, 0.0, 0.0, 0.007, 0.007, 0.007, 0.007, 0.007, 0.007, 0.007, 0.0, 0.007, 0.007, 0.007, 0.0, 0.007, 0.0, 0.0, 0.007, 0.007, 0.007, 0.007, 0.004, 0.007, 0.0, 0.007, 0.0, 0.007, 0.0, 0.0, 0.001, 0.007, 0.007, 0.0, 0.0, 0.0, 0.0, 0.0, 0.0, 0.0, 0.0, 0.0, 0.0, 0.0, 0.0]}\n"
          ]
        },
        {
          "name": "stderr",
          "output_type": "stream",
          "text": [
            "Train: 100%|██████████| 82/82 [00:24<00:00,  3.39it/s]\n",
            "Epoch 616\n",
            "Train: 100%|██████████| 82/82 [00:20<00:00,  3.93it/s]\n",
            "Epoch 617\n",
            "Train: 100%|██████████| 82/82 [00:24<00:00,  3.35it/s]\n",
            "Epoch 618\n",
            "Train: 100%|██████████| 82/82 [00:20<00:00,  3.93it/s]\n",
            "Epoch 619\n",
            "Train: 100%|██████████| 82/82 [00:24<00:00,  3.29it/s]\n",
            "Eval : 100%|██████████| 7/7 [00:02<00:00,  3.04it/s]\n",
            "Epoch 620\n"
          ]
        },
        {
          "name": "stdout",
          "output_type": "stream",
          "text": [
            "Saving model...\n",
            "{'edit_distance': 118.181, '_num_chars': 125.089, '_num_pred_chars': 130.809, 'nsentences': 1.0, '_world_size': 0.007, '_lm_score_sum': 0.0, '_kaldi_score_sum': 0.0, '_word_lm_sum': 0.0, '_num_words': 0.0, '_vocab_seen': [0.007, 0.007, 0.003, 0.007, 0.007, 0.007, 0.007, 0.007, 0.007, 0.007, 0.007, 0.007, 0.007, 0.007, 0.007, 0.007, 0.0, 0.007, 0.007, 0.007, 0.007, 0.007, 0.007, 0.007, 0.007, 0.007, 0.007, 0.007, 0.007, 0.0, 0.007, 0.007, 0.007, 0.007, 0.007, 0.007, 0.007, 0.0, 0.007, 0.0, 0.007, 0.007, 0.005, 0.0, 0.0, 0.0, 0.0, 0.007, 0.0, 0.0, 0.0, 0.0, 0.0, 0.0, 0.0, 0.0, 0.0, 0.0, 0.0, 0.0]}\n"
          ]
        },
        {
          "name": "stderr",
          "output_type": "stream",
          "text": [
            "Train: 100%|██████████| 82/82 [00:21<00:00,  3.89it/s]\n",
            "Epoch 621\n",
            "Train: 100%|██████████| 82/82 [00:24<00:00,  3.30it/s]\n",
            "Epoch 622\n",
            "Train: 100%|██████████| 82/82 [00:20<00:00,  3.91it/s]\n",
            "Epoch 623\n",
            "Train: 100%|██████████| 82/82 [00:24<00:00,  3.31it/s]\n",
            "Epoch 624\n",
            "Train: 100%|██████████| 82/82 [00:21<00:00,  3.90it/s]\n",
            "Eval : 100%|██████████| 7/7 [00:02<00:00,  3.09it/s]\n",
            "Epoch 625\n"
          ]
        },
        {
          "name": "stdout",
          "output_type": "stream",
          "text": [
            "Saving model...\n",
            "{'edit_distance': 118.842, '_num_chars': 125.089, '_num_pred_chars': 132.482, 'nsentences': 1.0, '_world_size': 0.007, '_lm_score_sum': 0.0, '_kaldi_score_sum': 0.0, '_word_lm_sum': 0.0, '_num_words': 0.0, '_vocab_seen': [0.007, 0.007, 0.007, 0.007, 0.007, 0.007, 0.0, 0.007, 0.007, 0.007, 0.007, 0.007, 0.007, 0.007, 0.0, 0.007, 0.006, 0.0, 0.007, 0.007, 0.007, 0.007, 0.007, 0.007, 0.007, 0.0, 0.007, 0.007, 0.007, 0.007, 0.007, 0.0, 0.007, 0.007, 0.007, 0.007, 0.007, 0.007, 0.007, 0.007, 0.004, 0.007, 0.0, 0.007, 0.0, 0.001, 0.0, 0.0, 0.007, 0.007, 0.007, 0.0, 0.0, 0.0, 0.007, 0.0, 0.0, 0.0, 0.0, 0.0]}\n"
          ]
        },
        {
          "name": "stderr",
          "output_type": "stream",
          "text": [
            "Train: 100%|██████████| 82/82 [00:25<00:00,  3.28it/s]\n",
            "Epoch 626\n",
            "Train: 100%|██████████| 82/82 [00:20<00:00,  3.92it/s]\n",
            "Epoch 627\n",
            "Train: 100%|██████████| 82/82 [00:24<00:00,  3.35it/s]\n",
            "Epoch 628\n",
            "Train: 100%|██████████| 82/82 [00:20<00:00,  3.94it/s]\n",
            "Epoch 629\n",
            "Train: 100%|██████████| 82/82 [00:24<00:00,  3.30it/s]\n",
            "Eval : 100%|██████████| 7/7 [00:02<00:00,  3.18it/s]\n",
            "Epoch 630\n"
          ]
        },
        {
          "name": "stdout",
          "output_type": "stream",
          "text": [
            "Saving model...\n",
            "{'edit_distance': 117.328, '_num_chars': 125.089, '_num_pred_chars': 127.583, 'nsentences': 1.0, '_world_size': 0.007, '_lm_score_sum': 0.0, '_kaldi_score_sum': 0.0, '_word_lm_sum': 0.0, '_num_words': 0.0, '_vocab_seen': [0.007, 0.007, 0.0, 0.007, 0.007, 0.007, 0.007, 0.007, 0.007, 0.007, 0.007, 0.007, 0.007, 0.007, 0.002, 0.007, 0.0, 0.006, 0.007, 0.007, 0.007, 0.007, 0.007, 0.007, 0.007, 0.0, 0.007, 0.007, 0.007, 0.007, 0.007, 0.007, 0.007, 0.007, 0.007, 0.007, 0.007, 0.007, 0.007, 0.007, 0.0, 0.007, 0.0, 0.0, 0.0, 0.0, 0.0, 0.0, 0.0, 0.0, 0.0, 0.0, 0.0, 0.0, 0.007, 0.0, 0.0, 0.0, 0.0, 0.0]}\n"
          ]
        },
        {
          "name": "stderr",
          "output_type": "stream",
          "text": [
            "Train: 100%|██████████| 82/82 [00:21<00:00,  3.90it/s]\n",
            "Epoch 631\n",
            "Train: 100%|██████████| 82/82 [00:24<00:00,  3.32it/s]\n",
            "Epoch 632\n",
            "Train: 100%|██████████| 82/82 [00:21<00:00,  3.90it/s]\n",
            "Epoch 633\n",
            "Train: 100%|██████████| 82/82 [00:24<00:00,  3.35it/s]\n",
            "Epoch 634\n",
            "Train: 100%|██████████| 82/82 [00:20<00:00,  3.94it/s]\n",
            "Eval : 100%|██████████| 7/7 [00:02<00:00,  3.08it/s]\n",
            "Epoch 635\n"
          ]
        },
        {
          "name": "stdout",
          "output_type": "stream",
          "text": [
            "Saving model...\n",
            "{'edit_distance': 117.736, '_num_chars': 125.089, '_num_pred_chars': 131.219, 'nsentences': 1.0, '_world_size': 0.007, '_lm_score_sum': 0.0, '_kaldi_score_sum': 0.0, '_word_lm_sum': 0.0, '_num_words': 0.0, '_vocab_seen': [0.007, 0.007, 0.007, 0.007, 0.007, 0.006, 0.007, 0.007, 0.007, 0.007, 0.007, 0.007, 0.007, 0.007, 0.0, 0.007, 0.007, 0.0, 0.007, 0.007, 0.007, 0.007, 0.007, 0.007, 0.007, 0.0, 0.007, 0.007, 0.007, 0.0, 0.007, 0.0, 0.007, 0.007, 0.007, 0.007, 0.007, 0.007, 0.007, 0.006, 0.0, 0.007, 0.007, 0.0, 0.0, 0.0, 0.0, 0.0, 0.001, 0.0, 0.0, 0.0, 0.0, 0.0, 0.007, 0.0, 0.0, 0.0, 0.0, 0.0]}\n"
          ]
        },
        {
          "name": "stderr",
          "output_type": "stream",
          "text": [
            "Train: 100%|██████████| 82/82 [00:24<00:00,  3.30it/s]\n",
            "Epoch 636\n",
            "Train: 100%|██████████| 82/82 [00:20<00:00,  3.92it/s]\n",
            "Epoch 637\n",
            "Train: 100%|██████████| 82/82 [00:24<00:00,  3.34it/s]\n",
            "Epoch 638\n",
            "Train: 100%|██████████| 82/82 [00:20<00:00,  3.93it/s]\n",
            "Epoch 639\n",
            "Train: 100%|██████████| 82/82 [00:24<00:00,  3.29it/s]\n",
            "Eval : 100%|██████████| 7/7 [00:02<00:00,  3.13it/s]\n",
            "Epoch 640\n"
          ]
        },
        {
          "name": "stdout",
          "output_type": "stream",
          "text": [
            "Saving model...\n",
            "{'edit_distance': 117.041, '_num_chars': 125.089, '_num_pred_chars': 127.592, 'nsentences': 1.0, '_world_size': 0.007, '_lm_score_sum': 0.0, '_kaldi_score_sum': 0.0, '_word_lm_sum': 0.0, '_num_words': 0.0, '_vocab_seen': [0.007, 0.007, 0.001, 0.007, 0.007, 0.007, 0.007, 0.0, 0.007, 0.007, 0.007, 0.007, 0.007, 0.007, 0.007, 0.007, 0.0, 0.007, 0.007, 0.007, 0.007, 0.007, 0.007, 0.006, 0.007, 0.007, 0.007, 0.007, 0.007, 0.007, 0.007, 0.0, 0.007, 0.007, 0.007, 0.007, 0.007, 0.0, 0.007, 0.0, 0.007, 0.007, 0.007, 0.007, 0.0, 0.0, 0.0, 0.0, 0.0, 0.0, 0.0, 0.007, 0.0, 0.0, 0.007, 0.0, 0.0, 0.0, 0.0, 0.0]}\n"
          ]
        },
        {
          "name": "stderr",
          "output_type": "stream",
          "text": [
            "Train: 100%|██████████| 82/82 [00:20<00:00,  3.92it/s]\n",
            "Epoch 641\n",
            "Train: 100%|██████████| 82/82 [00:24<00:00,  3.35it/s]\n",
            "Epoch 642\n",
            "Train: 100%|██████████| 82/82 [00:20<00:00,  3.97it/s]\n",
            "Epoch 643\n",
            "Train: 100%|██████████| 82/82 [00:24<00:00,  3.37it/s]\n",
            "Epoch 644\n",
            "Train: 100%|██████████| 82/82 [00:20<00:00,  3.91it/s]\n",
            "Eval : 100%|██████████| 7/7 [00:02<00:00,  3.06it/s]\n",
            "Epoch 645\n"
          ]
        },
        {
          "name": "stdout",
          "output_type": "stream",
          "text": [
            "Saving model...\n",
            "{'edit_distance': 116.897, '_num_chars': 125.089, '_num_pred_chars': 126.176, 'nsentences': 1.0, '_world_size': 0.007, '_lm_score_sum': 0.0, '_kaldi_score_sum': 0.0, '_word_lm_sum': 0.0, '_num_words': 0.0, '_vocab_seen': [0.007, 0.007, 0.006, 0.007, 0.007, 0.0, 0.007, 0.007, 0.007, 0.007, 0.007, 0.007, 0.007, 0.006, 0.0, 0.007, 0.007, 0.007, 0.007, 0.007, 0.007, 0.007, 0.007, 0.007, 0.007, 0.007, 0.007, 0.007, 0.007, 0.007, 0.0, 0.007, 0.0, 0.007, 0.007, 0.007, 0.007, 0.0, 0.007, 0.0, 0.007, 0.007, 0.007, 0.0, 0.0, 0.007, 0.0, 0.0, 0.0, 0.0, 0.0, 0.007, 0.0, 0.0, 0.007, 0.0, 0.0, 0.0, 0.0, 0.0]}\n"
          ]
        },
        {
          "name": "stderr",
          "output_type": "stream",
          "text": [
            "Train: 100%|██████████| 82/82 [00:24<00:00,  3.32it/s]\n",
            "Epoch 646\n",
            "Train: 100%|██████████| 82/82 [00:20<00:00,  3.94it/s]\n",
            "Epoch 647\n",
            "Train: 100%|██████████| 82/82 [00:24<00:00,  3.34it/s]\n",
            "Epoch 648\n",
            "Train: 100%|██████████| 82/82 [00:20<00:00,  3.96it/s]\n",
            "Epoch 649\n",
            "Train: 100%|██████████| 82/82 [00:24<00:00,  3.41it/s]\n",
            "Eval : 100%|██████████| 7/7 [00:02<00:00,  3.10it/s]\n",
            "Epoch 650\n"
          ]
        },
        {
          "name": "stdout",
          "output_type": "stream",
          "text": [
            "Saving model...\n",
            "{'edit_distance': 112.187, '_num_chars': 125.089, '_num_pred_chars': 119.374, 'nsentences': 1.0, '_world_size': 0.007, '_lm_score_sum': 0.0, '_kaldi_score_sum': 0.0, '_word_lm_sum': 0.0, '_num_words': 0.0, '_vocab_seen': [0.007, 0.007, 0.007, 0.007, 0.007, 0.007, 0.0, 0.001, 0.007, 0.007, 0.007, 0.007, 0.007, 0.007, 0.0, 0.007, 0.0, 0.007, 0.007, 0.007, 0.007, 0.007, 0.007, 0.007, 0.007, 0.007, 0.007, 0.007, 0.007, 0.007, 0.0, 0.007, 0.0, 0.007, 0.007, 0.007, 0.007, 0.0, 0.007, 0.0, 0.007, 0.007, 0.007, 0.0, 0.0, 0.0, 0.0, 0.0, 0.007, 0.0, 0.0, 0.007, 0.0, 0.0, 0.007, 0.0, 0.0, 0.0, 0.0, 0.0]}\n"
          ]
        },
        {
          "name": "stderr",
          "output_type": "stream",
          "text": [
            "Train: 100%|██████████| 82/82 [00:20<00:00,  3.91it/s]\n",
            "Epoch 651\n",
            "Train: 100%|██████████| 82/82 [00:24<00:00,  3.32it/s]\n",
            "Epoch 652\n",
            "Train: 100%|██████████| 82/82 [00:20<00:00,  3.95it/s]\n",
            "Epoch 653\n",
            "Train: 100%|██████████| 82/82 [00:24<00:00,  3.39it/s]\n",
            "Epoch 654\n",
            "Train: 100%|██████████| 82/82 [00:20<00:00,  3.93it/s]\n",
            "Eval : 100%|██████████| 7/7 [00:02<00:00,  3.06it/s]\n",
            "Epoch 655\n"
          ]
        },
        {
          "name": "stdout",
          "output_type": "stream",
          "text": [
            "Saving model...\n",
            "{'edit_distance': 117.493, '_num_chars': 125.089, '_num_pred_chars': 130.793, 'nsentences': 1.0, '_world_size': 0.007, '_lm_score_sum': 0.0, '_kaldi_score_sum': 0.0, '_word_lm_sum': 0.0, '_num_words': 0.0, '_vocab_seen': [0.007, 0.007, 0.004, 0.007, 0.007, 0.007, 0.0, 0.007, 0.007, 0.007, 0.007, 0.007, 0.007, 0.0, 0.003, 0.007, 0.007, 0.007, 0.007, 0.007, 0.007, 0.007, 0.007, 0.007, 0.007, 0.007, 0.007, 0.007, 0.007, 0.007, 0.0, 0.007, 0.007, 0.007, 0.007, 0.007, 0.007, 0.007, 0.007, 0.0, 0.007, 0.007, 0.0, 0.0, 0.0, 0.0, 0.007, 0.0, 0.0, 0.007, 0.0, 0.0, 0.0, 0.007, 0.007, 0.0, 0.0, 0.0, 0.0, 0.0]}\n"
          ]
        },
        {
          "name": "stderr",
          "output_type": "stream",
          "text": [
            "Train: 100%|██████████| 82/82 [00:24<00:00,  3.32it/s]\n",
            "Epoch 656\n",
            "Train: 100%|██████████| 82/82 [00:20<00:00,  3.97it/s]\n",
            "Epoch 657\n",
            "Train: 100%|██████████| 82/82 [00:24<00:00,  3.36it/s]\n",
            "Epoch 658\n",
            "Train: 100%|██████████| 82/82 [00:20<00:00,  3.92it/s]\n",
            "Epoch 659\n",
            "Train: 100%|██████████| 82/82 [00:24<00:00,  3.28it/s]\n",
            "Eval : 100%|██████████| 7/7 [00:02<00:00,  3.16it/s]\n",
            "Epoch 660\n"
          ]
        },
        {
          "name": "stdout",
          "output_type": "stream",
          "text": [
            "Saving model...\n",
            "{'edit_distance': 118.796, '_num_chars': 125.089, '_num_pred_chars': 133.139, 'nsentences': 1.0, '_world_size': 0.007, '_lm_score_sum': 0.0, '_kaldi_score_sum': 0.0, '_word_lm_sum': 0.0, '_num_words': 0.0, '_vocab_seen': [0.007, 0.007, 0.006, 0.007, 0.007, 0.007, 0.003, 0.0, 0.007, 0.007, 0.007, 0.007, 0.007, 0.0, 0.0, 0.007, 0.007, 0.007, 0.007, 0.007, 0.007, 0.007, 0.007, 0.007, 0.007, 0.007, 0.007, 0.007, 0.007, 0.007, 0.0, 0.007, 0.004, 0.007, 0.007, 0.007, 0.007, 0.0, 0.007, 0.007, 0.007, 0.007, 0.0, 0.007, 0.007, 0.0, 0.0, 0.0, 0.0, 0.007, 0.007, 0.0, 0.0, 0.001, 0.0, 0.0, 0.0, 0.0, 0.0, 0.0]}\n"
          ]
        },
        {
          "name": "stderr",
          "output_type": "stream",
          "text": [
            "Train: 100%|██████████| 82/82 [00:20<00:00,  3.93it/s]\n",
            "Epoch 661\n",
            "Train: 100%|██████████| 82/82 [00:24<00:00,  3.38it/s]\n",
            "Epoch 662\n",
            "Train: 100%|██████████| 82/82 [00:20<00:00,  3.95it/s]\n",
            "Epoch 663\n",
            "Train: 100%|██████████| 82/82 [00:24<00:00,  3.34it/s]\n",
            "Epoch 664\n",
            "Train: 100%|██████████| 82/82 [00:20<00:00,  3.92it/s]\n",
            "Eval : 100%|██████████| 7/7 [00:02<00:00,  3.07it/s]\n",
            "Epoch 665\n"
          ]
        },
        {
          "name": "stdout",
          "output_type": "stream",
          "text": [
            "Saving model...\n",
            "{'edit_distance': 117.427, '_num_chars': 125.089, '_num_pred_chars': 128.112, 'nsentences': 1.0, '_world_size': 0.007, '_lm_score_sum': 0.0, '_kaldi_score_sum': 0.0, '_word_lm_sum': 0.0, '_num_words': 0.0, '_vocab_seen': [0.007, 0.007, 0.007, 0.007, 0.007, 0.007, 0.0, 0.007, 0.007, 0.007, 0.007, 0.007, 0.007, 0.0, 0.007, 0.007, 0.007, 0.007, 0.007, 0.007, 0.007, 0.007, 0.007, 0.002, 0.007, 0.007, 0.007, 0.007, 0.007, 0.007, 0.007, 0.007, 0.007, 0.007, 0.007, 0.007, 0.0, 0.0, 0.007, 0.0, 0.005, 0.007, 0.0, 0.007, 0.0, 0.0, 0.0, 0.0, 0.007, 0.007, 0.007, 0.0, 0.0, 0.0, 0.0, 0.0, 0.0, 0.0, 0.0, 0.0]}\n"
          ]
        },
        {
          "name": "stderr",
          "output_type": "stream",
          "text": [
            "Train: 100%|██████████| 82/82 [00:24<00:00,  3.31it/s]\n",
            "Epoch 666\n",
            "Train: 100%|██████████| 82/82 [00:20<00:00,  3.91it/s]\n",
            "Epoch 667\n",
            "Train: 100%|██████████| 82/82 [00:24<00:00,  3.35it/s]\n",
            "Epoch 668\n",
            "Train: 100%|██████████| 82/82 [00:20<00:00,  3.94it/s]\n",
            "Epoch 669\n",
            "Train: 100%|██████████| 82/82 [00:24<00:00,  3.37it/s]\n",
            "Eval : 100%|██████████| 7/7 [00:02<00:00,  3.11it/s]\n",
            "Epoch 670\n"
          ]
        },
        {
          "name": "stdout",
          "output_type": "stream",
          "text": [
            "Saving model...\n",
            "{'edit_distance': 114.773, '_num_chars': 125.089, '_num_pred_chars': 123.094, 'nsentences': 1.0, '_world_size': 0.007, '_lm_score_sum': 0.0, '_kaldi_score_sum': 0.0, '_word_lm_sum': 0.0, '_num_words': 0.0, '_vocab_seen': [0.007, 0.007, 0.007, 0.007, 0.007, 0.007, 0.002, 0.007, 0.007, 0.007, 0.007, 0.007, 0.007, 0.007, 0.0, 0.007, 0.007, 0.0, 0.007, 0.007, 0.007, 0.007, 0.007, 0.0, 0.006, 0.007, 0.007, 0.007, 0.007, 0.0, 0.007, 0.001, 0.007, 0.007, 0.007, 0.007, 0.0, 0.0, 0.007, 0.0, 0.0, 0.007, 0.007, 0.007, 0.0, 0.001, 0.0, 0.0, 0.0, 0.007, 0.007, 0.0, 0.0, 0.0, 0.0, 0.0, 0.0, 0.0, 0.0, 0.0]}\n"
          ]
        },
        {
          "name": "stderr",
          "output_type": "stream",
          "text": [
            "Train: 100%|██████████| 82/82 [00:20<00:00,  3.94it/s]\n",
            "Epoch 671\n",
            "Train: 100%|██████████| 82/82 [00:24<00:00,  3.35it/s]\n",
            "Epoch 672\n",
            "Train: 100%|██████████| 82/82 [00:20<00:00,  3.91it/s]\n",
            "Epoch 673\n",
            "Train: 100%|██████████| 82/82 [00:25<00:00,  3.26it/s]\n",
            "Epoch 674\n",
            "Train: 100%|██████████| 82/82 [00:20<00:00,  3.91it/s]\n",
            "Eval : 100%|██████████| 7/7 [00:02<00:00,  3.14it/s]\n",
            "Epoch 675\n"
          ]
        },
        {
          "name": "stdout",
          "output_type": "stream",
          "text": [
            "Saving model...\n",
            "{'edit_distance': 115.14, '_num_chars': 125.089, '_num_pred_chars': 126.151, 'nsentences': 1.0, '_world_size': 0.007, '_lm_score_sum': 0.0, '_kaldi_score_sum': 0.0, '_word_lm_sum': 0.0, '_num_words': 0.0, '_vocab_seen': [0.007, 0.007, 0.007, 0.007, 0.007, 0.007, 0.007, 0.007, 0.007, 0.007, 0.007, 0.007, 0.007, 0.007, 0.0, 0.007, 0.007, 0.007, 0.007, 0.007, 0.007, 0.007, 0.007, 0.0, 0.007, 0.006, 0.007, 0.007, 0.007, 0.0, 0.005, 0.0, 0.007, 0.007, 0.007, 0.007, 0.0, 0.007, 0.007, 0.006, 0.007, 0.007, 0.0, 0.0, 0.007, 0.0, 0.0, 0.0, 0.0, 0.007, 0.007, 0.0, 0.0, 0.0, 0.0, 0.0, 0.0, 0.0, 0.0, 0.0]}\n"
          ]
        },
        {
          "name": "stderr",
          "output_type": "stream",
          "text": [
            "Train: 100%|██████████| 82/82 [00:24<00:00,  3.31it/s]\n",
            "Epoch 676\n",
            "Train: 100%|██████████| 82/82 [00:20<00:00,  3.93it/s]\n",
            "Epoch 677\n",
            "Train: 100%|██████████| 82/82 [00:24<00:00,  3.32it/s]\n",
            "Epoch 678\n",
            "Train: 100%|██████████| 82/82 [00:20<00:00,  3.95it/s]\n",
            "Epoch 679\n",
            "Train: 100%|██████████| 82/82 [00:24<00:00,  3.34it/s]\n",
            "Eval : 100%|██████████| 7/7 [00:02<00:00,  3.14it/s]\n",
            "Epoch 680\n"
          ]
        },
        {
          "name": "stdout",
          "output_type": "stream",
          "text": [
            "Saving model...\n",
            "{'edit_distance': 110.966, '_num_chars': 125.089, '_num_pred_chars': 117.514, 'nsentences': 1.0, '_world_size': 0.007, '_lm_score_sum': 0.0, '_kaldi_score_sum': 0.0, '_word_lm_sum': 0.0, '_num_words': 0.0, '_vocab_seen': [0.007, 0.007, 0.007, 0.007, 0.007, 0.007, 0.0, 0.007, 0.007, 0.007, 0.007, 0.007, 0.007, 0.007, 0.007, 0.007, 0.007, 0.007, 0.006, 0.007, 0.007, 0.007, 0.007, 0.004, 0.001, 0.007, 0.007, 0.007, 0.007, 0.0, 0.0, 0.0, 0.007, 0.007, 0.007, 0.007, 0.007, 0.0, 0.007, 0.0, 0.007, 0.007, 0.0, 0.0, 0.007, 0.0, 0.007, 0.007, 0.007, 0.0, 0.007, 0.0, 0.0, 0.0, 0.0, 0.0, 0.0, 0.0, 0.0, 0.0]}\n"
          ]
        },
        {
          "name": "stderr",
          "output_type": "stream",
          "text": [
            "Train: 100%|██████████| 82/82 [00:20<00:00,  3.95it/s]\n",
            "Epoch 681\n",
            "Train: 100%|██████████| 82/82 [00:24<00:00,  3.36it/s]\n",
            "Epoch 682\n",
            "Train: 100%|██████████| 82/82 [00:20<00:00,  3.91it/s]\n",
            "Epoch 683\n",
            "Train: 100%|██████████| 82/82 [00:24<00:00,  3.34it/s]\n",
            "Epoch 684\n",
            "Train: 100%|██████████| 82/82 [00:20<00:00,  3.96it/s]\n",
            "Eval : 100%|██████████| 7/7 [00:02<00:00,  3.15it/s]\n",
            "Epoch 685\n"
          ]
        },
        {
          "name": "stdout",
          "output_type": "stream",
          "text": [
            "Saving model...\n",
            "{'edit_distance': 113.384, '_num_chars': 125.089, '_num_pred_chars': 118.366, 'nsentences': 1.0, '_world_size': 0.007, '_lm_score_sum': 0.0, '_kaldi_score_sum': 0.0, '_word_lm_sum': 0.0, '_num_words': 0.0, '_vocab_seen': [0.007, 0.007, 0.007, 0.007, 0.007, 0.007, 0.007, 0.007, 0.007, 0.007, 0.007, 0.006, 0.007, 0.007, 0.0, 0.007, 0.007, 0.007, 0.007, 0.007, 0.007, 0.007, 0.007, 0.007, 0.0, 0.007, 0.007, 0.007, 0.007, 0.007, 0.007, 0.0, 0.007, 0.007, 0.007, 0.007, 0.007, 0.0, 0.007, 0.0, 0.007, 0.007, 0.007, 0.0, 0.007, 0.007, 0.0, 0.007, 0.007, 0.0, 0.0, 0.0, 0.0, 0.0, 0.0, 0.0, 0.0, 0.0, 0.0, 0.0]}\n"
          ]
        },
        {
          "name": "stderr",
          "output_type": "stream",
          "text": [
            "Train: 100%|██████████| 82/82 [00:24<00:00,  3.35it/s]\n",
            "Epoch 686\n",
            "Train: 100%|██████████| 82/82 [00:21<00:00,  3.87it/s]\n",
            "Epoch 687\n",
            "Train: 100%|██████████| 82/82 [00:25<00:00,  3.27it/s]\n",
            "Epoch 688\n",
            "Train: 100%|██████████| 82/82 [00:20<00:00,  3.93it/s]\n",
            "Epoch 689\n",
            "Train: 100%|██████████| 82/82 [00:24<00:00,  3.33it/s]\n",
            "Eval : 100%|██████████| 7/7 [00:02<00:00,  3.09it/s]\n",
            "Epoch 690\n"
          ]
        },
        {
          "name": "stdout",
          "output_type": "stream",
          "text": [
            "Saving model...\n",
            "{'edit_distance': 117.782, '_num_chars': 125.089, '_num_pred_chars': 126.748, 'nsentences': 1.0, '_world_size': 0.007, '_lm_score_sum': 0.0, '_kaldi_score_sum': 0.0, '_word_lm_sum': 0.0, '_num_words': 0.0, '_vocab_seen': [0.007, 0.007, 0.007, 0.007, 0.007, 0.007, 0.0, 0.005, 0.007, 0.007, 0.007, 0.007, 0.007, 0.007, 0.0, 0.007, 0.007, 0.007, 0.007, 0.007, 0.007, 0.007, 0.007, 0.007, 0.007, 0.007, 0.007, 0.007, 0.007, 0.0, 0.007, 0.007, 0.007, 0.007, 0.007, 0.007, 0.007, 0.007, 0.007, 0.007, 0.0, 0.007, 0.007, 0.0, 0.007, 0.007, 0.007, 0.007, 0.007, 0.0, 0.0, 0.0, 0.0, 0.0, 0.0, 0.0, 0.0, 0.0, 0.0, 0.0]}\n"
          ]
        },
        {
          "name": "stderr",
          "output_type": "stream",
          "text": [
            "Train: 100%|██████████| 82/82 [00:21<00:00,  3.90it/s]\n",
            "Epoch 691\n",
            "Train: 100%|██████████| 82/82 [00:24<00:00,  3.32it/s]\n",
            "Epoch 692\n",
            "Train: 100%|██████████| 82/82 [00:20<00:00,  3.93it/s]\n",
            "Epoch 693\n",
            "Train: 100%|██████████| 82/82 [00:24<00:00,  3.33it/s]\n",
            "Epoch 694\n",
            "Train: 100%|██████████| 82/82 [00:20<00:00,  3.92it/s]\n",
            "Eval : 100%|██████████| 7/7 [00:02<00:00,  3.12it/s]\n",
            "Epoch 695\n"
          ]
        },
        {
          "name": "stdout",
          "output_type": "stream",
          "text": [
            "Saving model...\n",
            "{'edit_distance': 116.079, '_num_chars': 125.089, '_num_pred_chars': 129.947, 'nsentences': 1.0, '_world_size': 0.007, '_lm_score_sum': 0.0, '_kaldi_score_sum': 0.0, '_word_lm_sum': 0.0, '_num_words': 0.0, '_vocab_seen': [0.007, 0.007, 0.007, 0.007, 0.007, 0.007, 0.007, 0.007, 0.007, 0.005, 0.007, 0.007, 0.007, 0.007, 0.0, 0.007, 0.007, 0.007, 0.007, 0.007, 0.007, 0.007, 0.007, 0.006, 0.007, 0.007, 0.001, 0.007, 0.007, 0.007, 0.007, 0.007, 0.007, 0.007, 0.007, 0.007, 0.007, 0.007, 0.007, 0.004, 0.0, 0.0, 0.0, 0.0, 0.007, 0.007, 0.007, 0.0, 0.007, 0.0, 0.0, 0.0, 0.0, 0.0, 0.0, 0.0, 0.0, 0.0, 0.0, 0.0]}\n"
          ]
        },
        {
          "name": "stderr",
          "output_type": "stream",
          "text": [
            "Train: 100%|██████████| 82/82 [00:24<00:00,  3.30it/s]\n",
            "Epoch 696\n",
            "Train: 100%|██████████| 82/82 [00:20<00:00,  3.93it/s]\n",
            "Epoch 697\n",
            "Train: 100%|██████████| 82/82 [00:24<00:00,  3.31it/s]\n",
            "Epoch 698\n",
            "Train: 100%|██████████| 82/82 [00:20<00:00,  3.93it/s]\n",
            "Epoch 699\n",
            "Train: 100%|██████████| 82/82 [00:24<00:00,  3.30it/s]\n",
            "Eval : 100%|██████████| 7/7 [00:02<00:00,  3.11it/s]\n",
            "Epoch 700\n"
          ]
        },
        {
          "name": "stdout",
          "output_type": "stream",
          "text": [
            "Saving model...\n",
            "{'edit_distance': 117.477, '_num_chars': 125.089, '_num_pred_chars': 132.792, 'nsentences': 1.0, '_world_size': 0.007, '_lm_score_sum': 0.0, '_kaldi_score_sum': 0.0, '_word_lm_sum': 0.0, '_num_words': 0.0, '_vocab_seen': [0.007, 0.007, 0.007, 0.007, 0.007, 0.007, 0.007, 0.007, 0.007, 0.007, 0.007, 0.007, 0.007, 0.007, 0.0, 0.007, 0.007, 0.007, 0.007, 0.007, 0.007, 0.007, 0.007, 0.007, 0.004, 0.007, 0.007, 0.007, 0.007, 0.0, 0.007, 0.007, 0.0, 0.0, 0.007, 0.007, 0.007, 0.007, 0.007, 0.0, 0.0, 0.007, 0.0, 0.0, 0.0, 0.007, 0.007, 0.0, 0.007, 0.0, 0.0, 0.0, 0.0, 0.007, 0.0, 0.0, 0.0, 0.0, 0.0, 0.0]}\n"
          ]
        },
        {
          "name": "stderr",
          "output_type": "stream",
          "text": [
            "Train: 100%|██████████| 82/82 [00:20<00:00,  3.94it/s]\n",
            "Epoch 701\n",
            "Train: 100%|██████████| 82/82 [00:24<00:00,  3.32it/s]\n",
            "Epoch 702\n",
            "Train: 100%|██████████| 82/82 [00:20<00:00,  3.93it/s]\n",
            "Epoch 703\n",
            "Train: 100%|██████████| 82/82 [00:24<00:00,  3.28it/s]\n",
            "Epoch 704\n",
            "Train: 100%|██████████| 82/82 [00:20<00:00,  3.91it/s]\n",
            "Eval : 100%|██████████| 7/7 [00:02<00:00,  3.10it/s]\n",
            "Epoch 705\n"
          ]
        },
        {
          "name": "stdout",
          "output_type": "stream",
          "text": [
            "Saving model...\n",
            "{'edit_distance': 113.872, '_num_chars': 125.089, '_num_pred_chars': 121.248, 'nsentences': 1.0, '_world_size': 0.007, '_lm_score_sum': 0.0, '_kaldi_score_sum': 0.0, '_word_lm_sum': 0.0, '_num_words': 0.0, '_vocab_seen': [0.007, 0.007, 0.007, 0.007, 0.007, 0.007, 0.0, 0.007, 0.007, 0.007, 0.007, 0.006, 0.007, 0.007, 0.007, 0.007, 0.007, 0.007, 0.007, 0.007, 0.007, 0.007, 0.007, 0.007, 0.0, 0.007, 0.007, 0.007, 0.007, 0.0, 0.0, 0.007, 0.007, 0.0, 0.007, 0.007, 0.004, 0.0, 0.007, 0.0, 0.007, 0.0, 0.007, 0.0, 0.0, 0.007, 0.007, 0.0, 0.0, 0.0, 0.0, 0.0, 0.0, 0.0, 0.0, 0.007, 0.0, 0.0, 0.0, 0.0]}\n"
          ]
        },
        {
          "name": "stderr",
          "output_type": "stream",
          "text": [
            "Train: 100%|██████████| 82/82 [00:24<00:00,  3.34it/s]\n",
            "Epoch 706\n",
            "Train: 100%|██████████| 82/82 [00:20<00:00,  3.92it/s]\n",
            "Epoch 707\n",
            "Train: 100%|██████████| 82/82 [00:25<00:00,  3.28it/s]\n",
            "Epoch 708\n",
            "Train: 100%|██████████| 82/82 [00:20<00:00,  3.94it/s]\n",
            "Epoch 709\n",
            "Train: 100%|██████████| 82/82 [00:24<00:00,  3.33it/s]\n",
            "Eval : 100%|██████████| 7/7 [00:02<00:00,  3.13it/s]\n",
            "Epoch 710\n"
          ]
        },
        {
          "name": "stdout",
          "output_type": "stream",
          "text": [
            "Saving model...\n",
            "{'edit_distance': 113.957, '_num_chars': 125.089, '_num_pred_chars': 122.568, 'nsentences': 1.0, '_world_size': 0.007, '_lm_score_sum': 0.0, '_kaldi_score_sum': 0.0, '_word_lm_sum': 0.0, '_num_words': 0.0, '_vocab_seen': [0.007, 0.007, 0.007, 0.007, 0.007, 0.007, 0.0, 0.007, 0.007, 0.007, 0.007, 0.007, 0.007, 0.007, 0.0, 0.007, 0.003, 0.007, 0.007, 0.007, 0.007, 0.007, 0.007, 0.007, 0.0, 0.007, 0.007, 0.007, 0.007, 0.0, 0.0, 0.007, 0.007, 0.007, 0.007, 0.007, 0.0, 0.0, 0.007, 0.0, 0.006, 0.007, 0.007, 0.0, 0.0, 0.004, 0.0, 0.0, 0.0, 0.0, 0.0, 0.0, 0.0, 0.0, 0.0, 0.0, 0.0, 0.007, 0.0, 0.0]}\n"
          ]
        },
        {
          "name": "stderr",
          "output_type": "stream",
          "text": [
            "Train: 100%|██████████| 82/82 [00:20<00:00,  3.93it/s]\n",
            "Epoch 711\n",
            "Train: 100%|██████████| 82/82 [00:24<00:00,  3.34it/s]\n",
            "Epoch 712\n",
            "Train: 100%|██████████| 82/82 [00:20<00:00,  3.92it/s]\n",
            "Epoch 713\n",
            "Train: 100%|██████████| 82/82 [00:24<00:00,  3.34it/s]\n",
            "Epoch 714\n",
            "Train: 100%|██████████| 82/82 [00:20<00:00,  3.95it/s]\n",
            "Eval : 100%|██████████| 7/7 [00:02<00:00,  3.09it/s]\n",
            "Epoch 715\n"
          ]
        },
        {
          "name": "stdout",
          "output_type": "stream",
          "text": [
            "Saving model...\n",
            "{'edit_distance': 115.716, '_num_chars': 125.089, '_num_pred_chars': 129.954, 'nsentences': 1.0, '_world_size': 0.007, '_lm_score_sum': 0.0, '_kaldi_score_sum': 0.0, '_word_lm_sum': 0.0, '_num_words': 0.0, '_vocab_seen': [0.007, 0.007, 0.007, 0.007, 0.007, 0.007, 0.0, 0.007, 0.007, 0.007, 0.007, 0.007, 0.007, 0.0, 0.0, 0.007, 0.007, 0.007, 0.007, 0.007, 0.007, 0.007, 0.007, 0.007, 0.007, 0.0, 0.007, 0.007, 0.007, 0.007, 0.0, 0.007, 0.007, 0.007, 0.007, 0.007, 0.007, 0.0, 0.007, 0.007, 0.007, 0.007, 0.0, 0.0, 0.0, 0.0, 0.0, 0.0, 0.0, 0.0, 0.0, 0.007, 0.0, 0.0, 0.0, 0.0, 0.0, 0.0, 0.0, 0.0]}\n"
          ]
        },
        {
          "name": "stderr",
          "output_type": "stream",
          "text": [
            "Train: 100%|██████████| 82/82 [00:24<00:00,  3.34it/s]\n",
            "Epoch 716\n",
            "Train: 100%|██████████| 82/82 [00:20<00:00,  3.92it/s]\n",
            "Epoch 717\n",
            "Train: 100%|██████████| 82/82 [00:24<00:00,  3.33it/s]\n",
            "Epoch 718\n",
            "Train: 100%|██████████| 82/82 [00:21<00:00,  3.90it/s]\n",
            "Epoch 719\n",
            "Train: 100%|██████████| 82/82 [00:25<00:00,  3.28it/s]\n",
            "Eval : 100%|██████████| 7/7 [00:02<00:00,  3.15it/s]\n",
            "Epoch 720\n"
          ]
        },
        {
          "name": "stdout",
          "output_type": "stream",
          "text": [
            "Saving model...\n",
            "{'edit_distance': 114.681, '_num_chars': 125.089, '_num_pred_chars': 128.35, 'nsentences': 1.0, '_world_size': 0.007, '_lm_score_sum': 0.0, '_kaldi_score_sum': 0.0, '_word_lm_sum': 0.0, '_num_words': 0.0, '_vocab_seen': [0.007, 0.007, 0.007, 0.007, 0.007, 0.007, 0.0, 0.007, 0.007, 0.0, 0.007, 0.007, 0.007, 0.0, 0.007, 0.007, 0.0, 0.007, 0.007, 0.007, 0.007, 0.007, 0.007, 0.007, 0.007, 0.0, 0.007, 0.007, 0.007, 0.007, 0.007, 0.007, 0.007, 0.007, 0.007, 0.007, 0.007, 0.0, 0.007, 0.0, 0.007, 0.007, 0.0, 0.0, 0.0, 0.0, 0.0, 0.0, 0.007, 0.0, 0.0, 0.007, 0.0, 0.0, 0.0, 0.0, 0.0, 0.0, 0.0, 0.0]}\n"
          ]
        },
        {
          "name": "stderr",
          "output_type": "stream",
          "text": [
            "Train: 100%|██████████| 82/82 [00:20<00:00,  3.93it/s]\n",
            "Epoch 721\n",
            "Train: 100%|██████████| 82/82 [00:24<00:00,  3.30it/s]\n",
            "Epoch 722\n",
            "Train: 100%|██████████| 82/82 [00:20<00:00,  3.92it/s]\n",
            "Epoch 723\n",
            "Train: 100%|██████████| 82/82 [00:24<00:00,  3.33it/s]\n",
            "Epoch 724\n",
            "Train: 100%|██████████| 82/82 [00:20<00:00,  3.96it/s]\n",
            "Eval : 100%|██████████| 7/7 [00:02<00:00,  3.17it/s]\n",
            "Epoch 725\n"
          ]
        },
        {
          "name": "stdout",
          "output_type": "stream",
          "text": [
            "Saving model...\n",
            "{'edit_distance': 114.256, '_num_chars': 125.089, '_num_pred_chars': 123.253, 'nsentences': 1.0, '_world_size': 0.007, '_lm_score_sum': 0.0, '_kaldi_score_sum': 0.0, '_word_lm_sum': 0.0, '_num_words': 0.0, '_vocab_seen': [0.007, 0.007, 0.007, 0.007, 0.007, 0.007, 0.007, 0.007, 0.007, 0.007, 0.007, 0.007, 0.007, 0.0, 0.0, 0.007, 0.0, 0.007, 0.007, 0.007, 0.007, 0.007, 0.007, 0.0, 0.007, 0.001, 0.007, 0.007, 0.007, 0.0, 0.007, 0.007, 0.0, 0.007, 0.007, 0.007, 0.007, 0.0, 0.007, 0.0, 0.007, 0.007, 0.0, 0.001, 0.007, 0.0, 0.0, 0.0, 0.0, 0.0, 0.0, 0.0, 0.0, 0.0, 0.0, 0.0, 0.0, 0.0, 0.0, 0.0]}\n"
          ]
        },
        {
          "name": "stderr",
          "output_type": "stream",
          "text": [
            "Train: 100%|██████████| 82/82 [00:24<00:00,  3.34it/s]\n",
            "Epoch 726\n",
            "Train: 100%|██████████| 82/82 [00:20<00:00,  3.92it/s]\n",
            "Epoch 727\n",
            "Train: 100%|██████████| 82/82 [00:24<00:00,  3.33it/s]\n",
            "Epoch 728\n",
            "Train: 100%|██████████| 82/82 [00:20<00:00,  3.98it/s]\n",
            "Epoch 729\n",
            "Train: 100%|██████████| 82/82 [00:24<00:00,  3.40it/s]\n",
            "Eval : 100%|██████████| 7/7 [00:02<00:00,  3.16it/s]\n",
            "Epoch 730\n"
          ]
        },
        {
          "name": "stdout",
          "output_type": "stream",
          "text": [
            "Saving model...\n",
            "{'edit_distance': 112.289, '_num_chars': 125.089, '_num_pred_chars': 118.163, 'nsentences': 1.0, '_world_size': 0.007, '_lm_score_sum': 0.0, '_kaldi_score_sum': 0.0, '_word_lm_sum': 0.0, '_num_words': 0.0, '_vocab_seen': [0.007, 0.007, 0.007, 0.007, 0.007, 0.007, 0.007, 0.006, 0.007, 0.0, 0.007, 0.007, 0.007, 0.007, 0.007, 0.007, 0.0, 0.007, 0.007, 0.007, 0.007, 0.007, 0.007, 0.0, 0.007, 0.0, 0.007, 0.007, 0.007, 0.007, 0.007, 0.007, 0.0, 0.007, 0.007, 0.007, 0.007, 0.007, 0.007, 0.0, 0.003, 0.007, 0.0, 0.0, 0.007, 0.0, 0.0, 0.0, 0.0, 0.0, 0.007, 0.0, 0.0, 0.0, 0.0, 0.0, 0.007, 0.0, 0.0, 0.0]}\n"
          ]
        },
        {
          "name": "stderr",
          "output_type": "stream",
          "text": [
            "Train: 100%|██████████| 82/82 [00:21<00:00,  3.90it/s]\n",
            "Epoch 731\n",
            "Train: 100%|██████████| 82/82 [00:24<00:00,  3.32it/s]\n",
            "Epoch 732\n",
            "Train: 100%|██████████| 82/82 [00:20<00:00,  3.99it/s]\n",
            "Epoch 733\n",
            "Train: 100%|██████████| 82/82 [00:24<00:00,  3.34it/s]\n",
            "Epoch 734\n",
            "Train: 100%|██████████| 82/82 [00:20<00:00,  3.93it/s]\n",
            "Eval : 100%|██████████| 7/7 [00:02<00:00,  3.20it/s]\n",
            "Epoch 735\n"
          ]
        },
        {
          "name": "stdout",
          "output_type": "stream",
          "text": [
            "Saving model...\n",
            "{'edit_distance': 115.226, '_num_chars': 125.089, '_num_pred_chars': 125.558, 'nsentences': 1.0, '_world_size': 0.007, '_lm_score_sum': 0.0, '_kaldi_score_sum': 0.0, '_word_lm_sum': 0.0, '_num_words': 0.0, '_vocab_seen': [0.007, 0.007, 0.007, 0.007, 0.007, 0.007, 0.007, 0.007, 0.007, 0.0, 0.007, 0.007, 0.007, 0.0, 0.0, 0.007, 0.0, 0.007, 0.007, 0.007, 0.007, 0.007, 0.007, 0.007, 0.007, 0.007, 0.007, 0.007, 0.007, 0.007, 0.007, 0.007, 0.007, 0.007, 0.007, 0.007, 0.007, 0.007, 0.007, 0.0, 0.0, 0.007, 0.0, 0.0, 0.007, 0.007, 0.0, 0.0, 0.007, 0.0, 0.0, 0.0, 0.0, 0.0, 0.0, 0.0, 0.0, 0.0, 0.0, 0.0]}\n"
          ]
        },
        {
          "name": "stderr",
          "output_type": "stream",
          "text": [
            "Train: 100%|██████████| 82/82 [00:24<00:00,  3.35it/s]\n",
            "Epoch 736\n",
            "Train: 100%|██████████| 82/82 [00:20<00:00,  3.95it/s]\n",
            "Epoch 737\n",
            "Train: 100%|██████████| 82/82 [00:24<00:00,  3.36it/s]\n",
            "Epoch 738\n",
            "Train: 100%|██████████| 82/82 [00:20<00:00,  3.93it/s]\n",
            "Epoch 739\n",
            "Train: 100%|██████████| 82/82 [00:24<00:00,  3.30it/s]\n",
            "Eval : 100%|██████████| 7/7 [00:02<00:00,  3.12it/s]\n",
            "Epoch 740\n"
          ]
        },
        {
          "name": "stdout",
          "output_type": "stream",
          "text": [
            "Saving model...\n",
            "{'edit_distance': 116.645, '_num_chars': 125.089, '_num_pred_chars': 127.659, 'nsentences': 1.0, '_world_size': 0.007, '_lm_score_sum': 0.0, '_kaldi_score_sum': 0.0, '_word_lm_sum': 0.0, '_num_words': 0.0, '_vocab_seen': [0.007, 0.007, 0.007, 0.007, 0.007, 0.007, 0.007, 0.007, 0.007, 0.0, 0.007, 0.007, 0.007, 0.0, 0.007, 0.007, 0.007, 0.007, 0.007, 0.007, 0.007, 0.007, 0.007, 0.007, 0.007, 0.0, 0.007, 0.007, 0.007, 0.007, 0.007, 0.007, 0.007, 0.007, 0.007, 0.007, 0.007, 0.007, 0.007, 0.0, 0.007, 0.007, 0.0, 0.0, 0.007, 0.0, 0.0, 0.0, 0.007, 0.0, 0.0, 0.0, 0.0, 0.0, 0.0, 0.0, 0.0, 0.0, 0.0, 0.0]}\n"
          ]
        },
        {
          "name": "stderr",
          "output_type": "stream",
          "text": [
            "Train: 100%|██████████| 82/82 [00:20<00:00,  3.91it/s]\n",
            "Epoch 741\n",
            "Train: 100%|██████████| 82/82 [00:24<00:00,  3.38it/s]\n",
            "Epoch 742\n",
            "Train: 100%|██████████| 82/82 [00:20<00:00,  3.94it/s]\n",
            "Epoch 743\n",
            "Train: 100%|██████████| 82/82 [00:25<00:00,  3.27it/s]\n",
            "Epoch 744\n",
            "Train: 100%|██████████| 82/82 [00:20<00:00,  3.96it/s]\n",
            "Eval : 100%|██████████| 7/7 [00:02<00:00,  3.11it/s]\n",
            "Epoch 745\n"
          ]
        },
        {
          "name": "stdout",
          "output_type": "stream",
          "text": [
            "Saving model...\n",
            "{'edit_distance': 113.977, '_num_chars': 125.089, '_num_pred_chars': 121.752, 'nsentences': 1.0, '_world_size': 0.007, '_lm_score_sum': 0.0, '_kaldi_score_sum': 0.0, '_word_lm_sum': 0.0, '_num_words': 0.0, '_vocab_seen': [0.007, 0.007, 0.007, 0.007, 0.007, 0.007, 0.0, 0.007, 0.007, 0.003, 0.007, 0.007, 0.007, 0.007, 0.0, 0.007, 0.007, 0.007, 0.007, 0.007, 0.0, 0.007, 0.007, 0.004, 0.007, 0.0, 0.007, 0.007, 0.007, 0.007, 0.007, 0.007, 0.007, 0.007, 0.007, 0.007, 0.007, 0.007, 0.007, 0.0, 0.0, 0.007, 0.0, 0.0, 0.007, 0.0, 0.007, 0.0, 0.007, 0.0, 0.0, 0.0, 0.0, 0.0, 0.0, 0.0, 0.0, 0.0, 0.0, 0.0]}\n"
          ]
        },
        {
          "name": "stderr",
          "output_type": "stream",
          "text": [
            "Train: 100%|██████████| 82/82 [00:24<00:00,  3.33it/s]\n",
            "Epoch 746\n",
            "Train: 100%|██████████| 82/82 [00:20<00:00,  3.99it/s]\n",
            "Epoch 747\n",
            "Train: 100%|██████████| 82/82 [00:24<00:00,  3.36it/s]\n",
            "Epoch 748\n",
            "Train: 100%|██████████| 82/82 [00:20<00:00,  3.97it/s]\n",
            "Epoch 749\n",
            "Train: 100%|██████████| 82/82 [00:24<00:00,  3.32it/s]\n",
            "Eval : 100%|██████████| 7/7 [00:02<00:00,  3.12it/s]\n",
            "Epoch 750\n"
          ]
        },
        {
          "name": "stdout",
          "output_type": "stream",
          "text": [
            "Saving model...\n",
            "{'edit_distance': 116.753, '_num_chars': 125.089, '_num_pred_chars': 127.062, 'nsentences': 1.0, '_world_size': 0.007, '_lm_score_sum': 0.0, '_kaldi_score_sum': 0.0, '_word_lm_sum': 0.0, '_num_words': 0.0, '_vocab_seen': [0.007, 0.007, 0.007, 0.007, 0.007, 0.007, 0.007, 0.007, 0.007, 0.0, 0.007, 0.0, 0.007, 0.007, 0.0, 0.007, 0.007, 0.007, 0.007, 0.007, 0.0, 0.007, 0.007, 0.0, 0.003, 0.002, 0.007, 0.007, 0.007, 0.007, 0.007, 0.007, 0.007, 0.007, 0.007, 0.007, 0.007, 0.0, 0.007, 0.0, 0.007, 0.007, 0.0, 0.0, 0.007, 0.007, 0.0, 0.0, 0.007, 0.0, 0.0, 0.005, 0.0, 0.0, 0.0, 0.0, 0.0, 0.0, 0.0, 0.0]}\n"
          ]
        },
        {
          "name": "stderr",
          "output_type": "stream",
          "text": [
            "Train: 100%|██████████| 82/82 [00:20<00:00,  3.91it/s]\n",
            "Epoch 751\n",
            "Train: 100%|██████████| 82/82 [00:24<00:00,  3.30it/s]\n",
            "Epoch 752\n",
            "Train: 100%|██████████| 82/82 [00:20<00:00,  3.93it/s]\n",
            "Epoch 753\n",
            "Train: 100%|██████████| 82/82 [00:24<00:00,  3.37it/s]\n",
            "Epoch 754\n",
            "Train: 100%|██████████| 82/82 [00:20<00:00,  3.94it/s]\n",
            "Eval : 100%|██████████| 7/7 [00:02<00:00,  3.06it/s]\n",
            "Epoch 755\n"
          ]
        },
        {
          "name": "stdout",
          "output_type": "stream",
          "text": [
            "Saving model...\n",
            "{'edit_distance': 111.844, '_num_chars': 125.089, '_num_pred_chars': 118.885, 'nsentences': 1.0, '_world_size': 0.007, '_lm_score_sum': 0.0, '_kaldi_score_sum': 0.0, '_word_lm_sum': 0.0, '_num_words': 0.0, '_vocab_seen': [0.007, 0.007, 0.0, 0.007, 0.007, 0.007, 0.0, 0.007, 0.007, 0.007, 0.007, 0.007, 0.007, 0.007, 0.0, 0.007, 0.007, 0.007, 0.007, 0.007, 0.007, 0.007, 0.007, 0.0, 0.007, 0.006, 0.007, 0.007, 0.007, 0.007, 0.007, 0.007, 0.0, 0.007, 0.007, 0.0, 0.007, 0.0, 0.007, 0.007, 0.0, 0.007, 0.0, 0.007, 0.007, 0.007, 0.0, 0.007, 0.007, 0.0, 0.0, 0.0, 0.0, 0.0, 0.0, 0.0, 0.0, 0.0, 0.0, 0.0]}\n"
          ]
        },
        {
          "name": "stderr",
          "output_type": "stream",
          "text": [
            "Train: 100%|██████████| 82/82 [00:24<00:00,  3.37it/s]\n",
            "Epoch 756\n",
            "Train: 100%|██████████| 82/82 [00:20<00:00,  3.93it/s]\n",
            "Epoch 757\n",
            "Train: 100%|██████████| 82/82 [00:24<00:00,  3.33it/s]\n",
            "Epoch 758\n",
            "Train: 100%|██████████| 82/82 [00:20<00:00,  3.94it/s]\n",
            "Epoch 759\n",
            "Train: 100%|██████████| 82/82 [00:24<00:00,  3.37it/s]\n",
            "Eval : 100%|██████████| 7/7 [00:02<00:00,  3.10it/s]\n",
            "Epoch 760\n"
          ]
        },
        {
          "name": "stdout",
          "output_type": "stream",
          "text": [
            "Saving model...\n",
            "{'edit_distance': 112.368, '_num_chars': 125.089, '_num_pred_chars': 119.376, 'nsentences': 1.0, '_world_size': 0.007, '_lm_score_sum': 0.0, '_kaldi_score_sum': 0.0, '_word_lm_sum': 0.0, '_num_words': 0.0, '_vocab_seen': [0.007, 0.007, 0.007, 0.007, 0.007, 0.007, 0.0, 0.007, 0.007, 0.007, 0.007, 0.0, 0.007, 0.007, 0.007, 0.007, 0.007, 0.007, 0.007, 0.007, 0.007, 0.007, 0.007, 0.0, 0.007, 0.007, 0.007, 0.007, 0.007, 0.007, 0.007, 0.007, 0.0, 0.007, 0.007, 0.0, 0.007, 0.0, 0.007, 0.007, 0.0, 0.007, 0.007, 0.007, 0.0, 0.0, 0.0, 0.007, 0.007, 0.007, 0.0, 0.0, 0.0, 0.0, 0.0, 0.0, 0.0, 0.0, 0.0, 0.0]}\n"
          ]
        },
        {
          "name": "stderr",
          "output_type": "stream",
          "text": [
            "Train: 100%|██████████| 82/82 [00:20<00:00,  3.94it/s]\n",
            "Epoch 761\n",
            "Train: 100%|██████████| 82/82 [00:24<00:00,  3.33it/s]\n",
            "Epoch 762\n",
            "Train: 100%|██████████| 82/82 [00:20<00:00,  3.95it/s]\n",
            "Epoch 763\n",
            "Train: 100%|██████████| 82/82 [00:24<00:00,  3.30it/s]\n",
            "Epoch 764\n",
            "Train: 100%|██████████| 82/82 [00:20<00:00,  3.93it/s]\n",
            "Eval : 100%|██████████| 7/7 [00:02<00:00,  3.09it/s]\n",
            "Epoch 765\n"
          ]
        },
        {
          "name": "stdout",
          "output_type": "stream",
          "text": [
            "Saving model...\n",
            "{'edit_distance': 112.461, '_num_chars': 125.089, '_num_pred_chars': 119.352, 'nsentences': 1.0, '_world_size': 0.007, '_lm_score_sum': 0.0, '_kaldi_score_sum': 0.0, '_word_lm_sum': 0.0, '_num_words': 0.0, '_vocab_seen': [0.007, 0.007, 0.007, 0.007, 0.007, 0.007, 0.006, 0.007, 0.007, 0.007, 0.007, 0.007, 0.007, 0.007, 0.001, 0.007, 0.007, 0.007, 0.007, 0.007, 0.007, 0.007, 0.007, 0.007, 0.0, 0.007, 0.007, 0.007, 0.007, 0.007, 0.007, 0.007, 0.0, 0.007, 0.007, 0.0, 0.007, 0.007, 0.007, 0.007, 0.007, 0.007, 0.0, 0.007, 0.0, 0.0, 0.0, 0.007, 0.007, 0.0, 0.007, 0.0, 0.0, 0.0, 0.0, 0.0, 0.0, 0.0, 0.0, 0.0]}\n"
          ]
        },
        {
          "name": "stderr",
          "output_type": "stream",
          "text": [
            "Train: 100%|██████████| 82/82 [00:24<00:00,  3.35it/s]\n",
            "Epoch 766\n",
            "Train: 100%|██████████| 82/82 [00:20<00:00,  3.95it/s]\n",
            "Epoch 767\n",
            "Train: 100%|██████████| 82/82 [00:24<00:00,  3.36it/s]\n",
            "Epoch 768\n",
            "Train: 100%|██████████| 82/82 [00:20<00:00,  3.94it/s]\n",
            "Epoch 769\n",
            "Train: 100%|██████████| 82/82 [00:24<00:00,  3.32it/s]\n",
            "Eval : 100%|██████████| 7/7 [00:02<00:00,  3.09it/s]\n",
            "Epoch 770\n"
          ]
        },
        {
          "name": "stdout",
          "output_type": "stream",
          "text": [
            "Saving model...\n",
            "{'edit_distance': 114.338, '_num_chars': 125.089, '_num_pred_chars': 125.16, 'nsentences': 1.0, '_world_size': 0.007, '_lm_score_sum': 0.0, '_kaldi_score_sum': 0.0, '_word_lm_sum': 0.0, '_num_words': 0.0, '_vocab_seen': [0.007, 0.007, 0.007, 0.007, 0.007, 0.007, 0.0, 0.007, 0.007, 0.007, 0.007, 0.007, 0.007, 0.007, 0.0, 0.007, 0.0, 0.007, 0.007, 0.007, 0.007, 0.007, 0.007, 0.0, 0.0, 0.007, 0.007, 0.007, 0.007, 0.007, 0.007, 0.007, 0.007, 0.007, 0.007, 0.007, 0.0, 0.007, 0.007, 0.0, 0.007, 0.007, 0.0, 0.007, 0.0, 0.007, 0.007, 0.007, 0.007, 0.0, 0.007, 0.0, 0.0, 0.0, 0.0, 0.0, 0.0, 0.0, 0.0, 0.0]}\n"
          ]
        },
        {
          "name": "stderr",
          "output_type": "stream",
          "text": [
            "Train: 100%|██████████| 82/82 [00:20<00:00,  3.91it/s]\n",
            "Epoch 771\n",
            "Train: 100%|██████████| 82/82 [00:24<00:00,  3.34it/s]\n",
            "Epoch 772\n",
            "Train: 100%|██████████| 82/82 [00:20<00:00,  3.92it/s]\n",
            "Epoch 773\n",
            "Train: 100%|██████████| 82/82 [00:24<00:00,  3.30it/s]\n",
            "Epoch 774\n",
            "Train: 100%|██████████| 82/82 [00:21<00:00,  3.90it/s]\n",
            "Eval : 100%|██████████| 7/7 [00:02<00:00,  3.07it/s]\n",
            "Epoch 775\n"
          ]
        },
        {
          "name": "stdout",
          "output_type": "stream",
          "text": [
            "Saving model...\n",
            "{'edit_distance': 116.319, '_num_chars': 125.089, '_num_pred_chars': 125.123, 'nsentences': 1.0, '_world_size': 0.007, '_lm_score_sum': 0.0, '_kaldi_score_sum': 0.0, '_word_lm_sum': 0.0, '_num_words': 0.0, '_vocab_seen': [0.007, 0.007, 0.0, 0.007, 0.007, 0.007, 0.007, 0.007, 0.007, 0.007, 0.007, 0.007, 0.007, 0.005, 0.007, 0.007, 0.0, 0.007, 0.007, 0.007, 0.007, 0.007, 0.007, 0.007, 0.007, 0.007, 0.007, 0.0, 0.007, 0.007, 0.007, 0.007, 0.007, 0.007, 0.007, 0.007, 0.007, 0.007, 0.007, 0.0, 0.007, 0.007, 0.0, 0.003, 0.007, 0.0, 0.007, 0.0, 0.007, 0.0, 0.0, 0.0, 0.0, 0.0, 0.007, 0.0, 0.0, 0.0, 0.0, 0.0]}\n"
          ]
        },
        {
          "name": "stderr",
          "output_type": "stream",
          "text": [
            "Train: 100%|██████████| 82/82 [00:24<00:00,  3.35it/s]\n",
            "Epoch 776\n",
            "Train: 100%|██████████| 82/82 [00:20<00:00,  3.93it/s]\n",
            "Epoch 777\n",
            "Train: 100%|██████████| 82/82 [00:24<00:00,  3.31it/s]\n",
            "Epoch 778\n",
            "Train: 100%|██████████| 82/82 [00:20<00:00,  3.97it/s]\n",
            "Epoch 779\n",
            "Train: 100%|██████████| 82/82 [00:24<00:00,  3.36it/s]\n",
            "Eval : 100%|██████████| 7/7 [00:02<00:00,  3.13it/s]\n",
            "Epoch 780\n"
          ]
        },
        {
          "name": "stdout",
          "output_type": "stream",
          "text": [
            "Saving model...\n",
            "{'edit_distance': 112.988, '_num_chars': 125.089, '_num_pred_chars': 122.406, 'nsentences': 1.0, '_world_size': 0.007, '_lm_score_sum': 0.0, '_kaldi_score_sum': 0.0, '_word_lm_sum': 0.0, '_num_words': 0.0, '_vocab_seen': [0.007, 0.007, 0.001, 0.007, 0.007, 0.007, 0.007, 0.007, 0.007, 0.007, 0.007, 0.007, 0.007, 0.007, 0.007, 0.007, 0.0, 0.007, 0.007, 0.007, 0.007, 0.007, 0.007, 0.007, 0.007, 0.007, 0.007, 0.007, 0.007, 0.007, 0.007, 0.007, 0.007, 0.007, 0.007, 0.0, 0.007, 0.0, 0.007, 0.0, 0.007, 0.007, 0.0, 0.0, 0.0, 0.0, 0.007, 0.0, 0.006, 0.0, 0.0, 0.0, 0.0, 0.0, 0.0, 0.0, 0.0, 0.0, 0.0, 0.0]}\n"
          ]
        },
        {
          "name": "stderr",
          "output_type": "stream",
          "text": [
            "Train: 100%|██████████| 82/82 [00:20<00:00,  3.95it/s]\n",
            "Epoch 781\n",
            "Train: 100%|██████████| 82/82 [00:24<00:00,  3.39it/s]\n",
            "Epoch 782\n",
            "Train: 100%|██████████| 82/82 [00:20<00:00,  3.96it/s]\n",
            "Epoch 783\n",
            "Train: 100%|██████████| 82/82 [00:24<00:00,  3.33it/s]\n",
            "Epoch 784\n",
            "Train: 100%|██████████| 82/82 [00:20<00:00,  3.94it/s]\n",
            "Eval : 100%|██████████| 7/7 [00:02<00:00,  3.09it/s]\n",
            "Epoch 785\n"
          ]
        },
        {
          "name": "stdout",
          "output_type": "stream",
          "text": [
            "Saving model...\n",
            "{'edit_distance': 111.21, '_num_chars': 125.089, '_num_pred_chars': 122.419, 'nsentences': 1.0, '_world_size': 0.007, '_lm_score_sum': 0.0, '_kaldi_score_sum': 0.0, '_word_lm_sum': 0.0, '_num_words': 0.0, '_vocab_seen': [0.007, 0.007, 0.005, 0.007, 0.007, 0.007, 0.007, 0.007, 0.007, 0.007, 0.007, 0.007, 0.007, 0.007, 0.0, 0.0, 0.0, 0.007, 0.007, 0.007, 0.007, 0.007, 0.007, 0.001, 0.007, 0.007, 0.007, 0.007, 0.007, 0.007, 0.007, 0.007, 0.007, 0.007, 0.007, 0.0, 0.0, 0.0, 0.007, 0.007, 0.0, 0.007, 0.007, 0.0, 0.0, 0.007, 0.0, 0.0, 0.007, 0.0, 0.0, 0.0, 0.0, 0.0, 0.0, 0.0, 0.0, 0.0, 0.0, 0.0]}\n"
          ]
        },
        {
          "name": "stderr",
          "output_type": "stream",
          "text": [
            "Train: 100%|██████████| 82/82 [00:24<00:00,  3.35it/s]\n",
            "Epoch 786\n",
            "Train: 100%|██████████| 82/82 [00:20<00:00,  3.93it/s]\n",
            "Epoch 787\n",
            "Train: 100%|██████████| 82/82 [00:24<00:00,  3.35it/s]\n",
            "Epoch 788\n",
            "Train: 100%|██████████| 82/82 [00:20<00:00,  3.94it/s]\n",
            "Epoch 789\n",
            "Train: 100%|██████████| 82/82 [00:25<00:00,  3.25it/s]\n",
            "Eval : 100%|██████████| 7/7 [00:02<00:00,  3.12it/s]\n",
            "Epoch 790\n"
          ]
        },
        {
          "name": "stdout",
          "output_type": "stream",
          "text": [
            "Saving model...\n",
            "{'edit_distance': 114.698, '_num_chars': 125.089, '_num_pred_chars': 125.502, 'nsentences': 1.0, '_world_size': 0.007, '_lm_score_sum': 0.0, '_kaldi_score_sum': 0.0, '_word_lm_sum': 0.0, '_num_words': 0.0, '_vocab_seen': [0.007, 0.007, 0.007, 0.007, 0.007, 0.007, 0.007, 0.0, 0.007, 0.007, 0.007, 0.007, 0.007, 0.007, 0.007, 0.0, 0.0, 0.007, 0.007, 0.007, 0.007, 0.007, 0.007, 0.007, 0.0, 0.007, 0.007, 0.007, 0.007, 0.007, 0.007, 0.007, 0.0, 0.007, 0.007, 0.0, 0.007, 0.007, 0.007, 0.0, 0.0, 0.007, 0.007, 0.0, 0.007, 0.0, 0.0, 0.0, 0.007, 0.0, 0.0, 0.0, 0.007, 0.0, 0.0, 0.0, 0.0, 0.0, 0.0, 0.0]}\n"
          ]
        },
        {
          "name": "stderr",
          "output_type": "stream",
          "text": [
            "Train: 100%|██████████| 82/82 [00:20<00:00,  3.92it/s]\n",
            "Epoch 791\n",
            "Train: 100%|██████████| 82/82 [00:24<00:00,  3.32it/s]\n",
            "Epoch 792\n",
            "Train: 100%|██████████| 82/82 [00:20<00:00,  3.97it/s]\n",
            "Epoch 793\n",
            "Train: 100%|██████████| 82/82 [00:24<00:00,  3.39it/s]\n",
            "Epoch 794\n",
            "Train: 100%|██████████| 82/82 [00:20<00:00,  3.94it/s]\n",
            "Eval : 100%|██████████| 7/7 [00:02<00:00,  3.16it/s]\n",
            "Epoch 795\n"
          ]
        },
        {
          "name": "stdout",
          "output_type": "stream",
          "text": [
            "Saving model...\n",
            "{'edit_distance': 113.098, '_num_chars': 125.089, '_num_pred_chars': 121.478, 'nsentences': 1.0, '_world_size': 0.007, '_lm_score_sum': 0.0, '_kaldi_score_sum': 0.0, '_word_lm_sum': 0.0, '_num_words': 0.0, '_vocab_seen': [0.007, 0.007, 0.007, 0.007, 0.007, 0.007, 0.007, 0.002, 0.007, 0.0, 0.007, 0.007, 0.007, 0.007, 0.0, 0.007, 0.007, 0.007, 0.007, 0.007, 0.007, 0.007, 0.007, 0.0, 0.007, 0.007, 0.007, 0.007, 0.007, 0.007, 0.007, 0.007, 0.007, 0.007, 0.007, 0.0, 0.0, 0.007, 0.007, 0.0, 0.006, 0.007, 0.007, 0.0, 0.0, 0.0, 0.0, 0.0, 0.006, 0.0, 0.0, 0.0, 0.0, 0.0, 0.0, 0.0, 0.0, 0.0, 0.0, 0.0]}\n"
          ]
        },
        {
          "name": "stderr",
          "output_type": "stream",
          "text": [
            "Train: 100%|██████████| 82/82 [00:24<00:00,  3.36it/s]\n",
            "Epoch 796\n",
            "Train: 100%|██████████| 82/82 [00:20<00:00,  3.94it/s]\n",
            "Epoch 797\n",
            "Train: 100%|██████████| 82/82 [00:24<00:00,  3.33it/s]\n",
            "Epoch 798\n",
            "Train: 100%|██████████| 82/82 [00:20<00:00,  3.95it/s]\n",
            "Epoch 799\n",
            "Train: 100%|██████████| 82/82 [00:23<00:00,  3.43it/s]\n",
            "Eval : 100%|██████████| 7/7 [00:02<00:00,  3.09it/s]\n",
            "Epoch 800\n"
          ]
        },
        {
          "name": "stdout",
          "output_type": "stream",
          "text": [
            "Saving model...\n",
            "{'edit_distance': 110.75, '_num_chars': 125.089, '_num_pred_chars': 113.722, 'nsentences': 1.0, '_world_size': 0.007, '_lm_score_sum': 0.0, '_kaldi_score_sum': 0.0, '_word_lm_sum': 0.0, '_num_words': 0.0, '_vocab_seen': [0.007, 0.007, 0.007, 0.007, 0.007, 0.007, 0.0, 0.007, 0.007, 0.007, 0.007, 0.007, 0.007, 0.007, 0.0, 0.007, 0.0, 0.007, 0.007, 0.007, 0.007, 0.007, 0.007, 0.007, 0.0, 0.007, 0.007, 0.007, 0.007, 0.007, 0.007, 0.007, 0.007, 0.007, 0.007, 0.007, 0.0, 0.007, 0.007, 0.007, 0.007, 0.007, 0.0, 0.0, 0.0, 0.0, 0.0, 0.0, 0.007, 0.007, 0.0, 0.0, 0.0, 0.007, 0.0, 0.0, 0.0, 0.0, 0.0, 0.0]}\n"
          ]
        },
        {
          "name": "stderr",
          "output_type": "stream",
          "text": [
            "Train: 100%|██████████| 82/82 [00:21<00:00,  3.88it/s]\n",
            "Epoch 801\n",
            "Train: 100%|██████████| 82/82 [00:24<00:00,  3.29it/s]\n",
            "Epoch 802\n",
            "Train: 100%|██████████| 82/82 [00:21<00:00,  3.89it/s]\n",
            "Epoch 803\n",
            "Train: 100%|██████████| 82/82 [00:24<00:00,  3.35it/s]\n",
            "Epoch 804\n",
            "Train: 100%|██████████| 82/82 [00:20<00:00,  3.94it/s]\n",
            "Eval : 100%|██████████| 7/7 [00:02<00:00,  3.01it/s]\n",
            "Epoch 805\n"
          ]
        },
        {
          "name": "stdout",
          "output_type": "stream",
          "text": [
            "Saving model...\n",
            "{'edit_distance': 109.196, '_num_chars': 125.089, '_num_pred_chars': 112.622, 'nsentences': 1.0, '_world_size': 0.007, '_lm_score_sum': 0.0, '_kaldi_score_sum': 0.0, '_word_lm_sum': 0.0, '_num_words': 0.0, '_vocab_seen': [0.007, 0.007, 0.0, 0.007, 0.007, 0.007, 0.0, 0.0, 0.007, 0.001, 0.007, 0.007, 0.007, 0.007, 0.007, 0.007, 0.007, 0.007, 0.007, 0.007, 0.007, 0.007, 0.007, 0.007, 0.0, 0.007, 0.007, 0.007, 0.007, 0.007, 0.007, 0.007, 0.0, 0.007, 0.007, 0.0, 0.007, 0.007, 0.007, 0.0, 0.007, 0.007, 0.007, 0.0, 0.007, 0.007, 0.0, 0.0, 0.007, 0.0, 0.0, 0.0, 0.0, 0.007, 0.0, 0.0, 0.0, 0.0, 0.0, 0.0]}\n"
          ]
        },
        {
          "name": "stderr",
          "output_type": "stream",
          "text": [
            "Train: 100%|██████████| 82/82 [00:24<00:00,  3.38it/s]\n",
            "Epoch 806\n",
            "Train: 100%|██████████| 82/82 [00:21<00:00,  3.90it/s]\n",
            "Epoch 807\n",
            "Train: 100%|██████████| 82/82 [00:24<00:00,  3.32it/s]\n",
            "Epoch 808\n",
            "Train: 100%|██████████| 82/82 [00:20<00:00,  3.91it/s]\n",
            "Epoch 809\n",
            "Train: 100%|██████████| 82/82 [00:24<00:00,  3.32it/s]\n",
            "Eval : 100%|██████████| 7/7 [00:02<00:00,  3.10it/s]\n",
            "Epoch 810\n"
          ]
        },
        {
          "name": "stdout",
          "output_type": "stream",
          "text": [
            "Saving model...\n",
            "{'edit_distance': 111.047, '_num_chars': 125.089, '_num_pred_chars': 119.809, 'nsentences': 1.0, '_world_size': 0.007, '_lm_score_sum': 0.0, '_kaldi_score_sum': 0.0, '_word_lm_sum': 0.0, '_num_words': 0.0, '_vocab_seen': [0.007, 0.007, 0.007, 0.007, 0.007, 0.007, 0.0, 0.007, 0.007, 0.0, 0.007, 0.007, 0.007, 0.003, 0.0, 0.007, 0.0, 0.007, 0.007, 0.007, 0.007, 0.007, 0.007, 0.007, 0.007, 0.007, 0.007, 0.006, 0.007, 0.007, 0.007, 0.007, 0.001, 0.007, 0.007, 0.0, 0.007, 0.007, 0.007, 0.0, 0.007, 0.007, 0.0, 0.007, 0.007, 0.0, 0.0, 0.0, 0.0, 0.0, 0.0, 0.0, 0.0, 0.007, 0.0, 0.007, 0.0, 0.007, 0.0, 0.0]}\n"
          ]
        },
        {
          "name": "stderr",
          "output_type": "stream",
          "text": [
            "Train: 100%|██████████| 82/82 [00:21<00:00,  3.90it/s]\n",
            "Epoch 811\n",
            "Train: 100%|██████████| 82/82 [00:24<00:00,  3.37it/s]\n",
            "Epoch 812\n",
            "Train: 100%|██████████| 82/82 [00:20<00:00,  3.93it/s]\n",
            "Epoch 813\n",
            "Train: 100%|██████████| 82/82 [00:24<00:00,  3.37it/s]\n",
            "Epoch 814\n",
            "Train: 100%|██████████| 82/82 [00:20<00:00,  3.95it/s]\n",
            "Eval : 100%|██████████| 7/7 [00:02<00:00,  3.11it/s]\n",
            "Epoch 815\n"
          ]
        },
        {
          "name": "stdout",
          "output_type": "stream",
          "text": [
            "Saving model...\n",
            "{'edit_distance': 110.747, '_num_chars': 125.089, '_num_pred_chars': 110.484, 'nsentences': 1.0, '_world_size': 0.007, '_lm_score_sum': 0.0, '_kaldi_score_sum': 0.0, '_word_lm_sum': 0.0, '_num_words': 0.0, '_vocab_seen': [0.007, 0.007, 0.0, 0.007, 0.007, 0.005, 0.007, 0.007, 0.007, 0.007, 0.007, 0.007, 0.007, 0.0, 0.007, 0.007, 0.007, 0.007, 0.007, 0.007, 0.007, 0.007, 0.007, 0.007, 0.007, 0.007, 0.007, 0.0, 0.007, 0.007, 0.007, 0.007, 0.007, 0.007, 0.007, 0.0, 0.0, 0.007, 0.007, 0.0, 0.007, 0.007, 0.0, 0.007, 0.007, 0.0, 0.0, 0.0, 0.0, 0.0, 0.0, 0.0, 0.0, 0.007, 0.0, 0.007, 0.0, 0.0, 0.0, 0.0]}\n"
          ]
        },
        {
          "name": "stderr",
          "output_type": "stream",
          "text": [
            "Train: 100%|██████████| 82/82 [00:24<00:00,  3.38it/s]\n",
            "Epoch 816\n",
            "Train: 100%|██████████| 82/82 [00:20<00:00,  3.93it/s]\n",
            "Epoch 817\n",
            "Train: 100%|██████████| 82/82 [00:24<00:00,  3.33it/s]\n",
            "Epoch 818\n",
            "Train: 100%|██████████| 82/82 [00:20<00:00,  3.92it/s]\n",
            "Epoch 819\n",
            "Train: 100%|██████████| 82/82 [00:24<00:00,  3.38it/s]\n",
            "Eval : 100%|██████████| 7/7 [00:02<00:00,  3.13it/s]\n",
            "Epoch 820\n"
          ]
        },
        {
          "name": "stdout",
          "output_type": "stream",
          "text": [
            "Saving model...\n",
            "{'edit_distance': 112.655, '_num_chars': 125.089, '_num_pred_chars': 118.417, 'nsentences': 1.0, '_world_size': 0.007, '_lm_score_sum': 0.0, '_kaldi_score_sum': 0.0, '_word_lm_sum': 0.0, '_num_words': 0.0, '_vocab_seen': [0.007, 0.007, 0.007, 0.007, 0.007, 0.007, 0.007, 0.007, 0.007, 0.007, 0.007, 0.007, 0.007, 0.007, 0.0, 0.007, 0.0, 0.007, 0.007, 0.007, 0.007, 0.007, 0.007, 0.004, 0.007, 0.007, 0.007, 0.007, 0.007, 0.007, 0.007, 0.007, 0.007, 0.007, 0.007, 0.0, 0.0, 0.007, 0.007, 0.0, 0.007, 0.007, 0.0, 0.007, 0.0, 0.0, 0.0, 0.0, 0.0, 0.0, 0.007, 0.0, 0.0, 0.007, 0.0, 0.006, 0.0, 0.0, 0.0, 0.0]}\n"
          ]
        },
        {
          "name": "stderr",
          "output_type": "stream",
          "text": [
            "Train: 100%|██████████| 82/82 [00:20<00:00,  3.91it/s]\n",
            "Epoch 821\n",
            "Train: 100%|██████████| 82/82 [00:24<00:00,  3.33it/s]\n",
            "Epoch 822\n",
            "Train: 100%|██████████| 82/82 [00:20<00:00,  3.95it/s]\n",
            "Epoch 823\n",
            "Train: 100%|██████████| 82/82 [00:24<00:00,  3.39it/s]\n",
            "Epoch 824\n",
            "Train: 100%|██████████| 82/82 [00:20<00:00,  3.99it/s]\n",
            "Eval : 100%|██████████| 7/7 [00:02<00:00,  3.08it/s]\n",
            "Epoch 825\n"
          ]
        },
        {
          "name": "stdout",
          "output_type": "stream",
          "text": [
            "Saving model...\n",
            "{'edit_distance': 110.423, '_num_chars': 125.089, '_num_pred_chars': 118.746, 'nsentences': 1.0, '_world_size': 0.007, '_lm_score_sum': 0.0, '_kaldi_score_sum': 0.0, '_word_lm_sum': 0.0, '_num_words': 0.0, '_vocab_seen': [0.007, 0.007, 0.007, 0.007, 0.007, 0.007, 0.007, 0.007, 0.007, 0.003, 0.007, 0.007, 0.007, 0.007, 0.0, 0.007, 0.007, 0.007, 0.007, 0.007, 0.007, 0.007, 0.007, 0.0, 0.007, 0.007, 0.007, 0.0, 0.007, 0.007, 0.007, 0.0, 0.007, 0.007, 0.007, 0.007, 0.007, 0.007, 0.007, 0.0, 0.0, 0.007, 0.001, 0.007, 0.0, 0.0, 0.007, 0.0, 0.0, 0.0, 0.0, 0.0, 0.0, 0.0, 0.0, 0.0, 0.0, 0.0, 0.0, 0.0]}\n"
          ]
        },
        {
          "name": "stderr",
          "output_type": "stream",
          "text": [
            "Train: 100%|██████████| 82/82 [00:24<00:00,  3.36it/s]\n",
            "Epoch 826\n",
            "Train: 100%|██████████| 82/82 [00:20<00:00,  3.95it/s]\n",
            "Epoch 827\n",
            "Train: 100%|██████████| 82/82 [00:24<00:00,  3.35it/s]\n",
            "Epoch 828\n",
            "Train: 100%|██████████| 82/82 [00:20<00:00,  3.95it/s]\n",
            "Epoch 829\n",
            "Train: 100%|██████████| 82/82 [00:24<00:00,  3.33it/s]\n",
            "Eval : 100%|██████████| 7/7 [00:02<00:00,  3.04it/s]\n",
            "Epoch 830\n"
          ]
        },
        {
          "name": "stdout",
          "output_type": "stream",
          "text": [
            "Saving model...\n",
            "{'edit_distance': 111.387, '_num_chars': 125.089, '_num_pred_chars': 122.978, 'nsentences': 1.0, '_world_size': 0.007, '_lm_score_sum': 0.0, '_kaldi_score_sum': 0.0, '_word_lm_sum': 0.0, '_num_words': 0.0, '_vocab_seen': [0.007, 0.007, 0.007, 0.007, 0.007, 0.007, 0.007, 0.007, 0.007, 0.0, 0.007, 0.007, 0.007, 0.007, 0.007, 0.007, 0.0, 0.007, 0.007, 0.007, 0.007, 0.007, 0.007, 0.0, 0.007, 0.006, 0.007, 0.0, 0.007, 0.007, 0.007, 0.007, 0.007, 0.007, 0.007, 0.007, 0.007, 0.007, 0.007, 0.0, 0.007, 0.007, 0.007, 0.007, 0.0, 0.0, 0.0, 0.0, 0.0, 0.0, 0.0, 0.0, 0.0, 0.0, 0.0, 0.0, 0.0, 0.0, 0.0, 0.0]}\n"
          ]
        },
        {
          "name": "stderr",
          "output_type": "stream",
          "text": [
            "Train: 100%|██████████| 82/82 [00:20<00:00,  3.96it/s]\n",
            "Epoch 831\n",
            "Train: 100%|██████████| 82/82 [00:24<00:00,  3.36it/s]\n",
            "Epoch 832\n",
            "Train: 100%|██████████| 82/82 [00:20<00:00,  3.95it/s]\n",
            "Epoch 833\n",
            "Train: 100%|██████████| 82/82 [00:24<00:00,  3.37it/s]\n",
            "Epoch 834\n",
            "Train: 100%|██████████| 82/82 [00:20<00:00,  3.95it/s]\n",
            "Eval : 100%|██████████| 7/7 [00:02<00:00,  3.16it/s]\n",
            "Epoch 835\n"
          ]
        },
        {
          "name": "stdout",
          "output_type": "stream",
          "text": [
            "Saving model...\n",
            "{'edit_distance': 112.374, '_num_chars': 125.089, '_num_pred_chars': 120.095, 'nsentences': 1.0, '_world_size': 0.007, '_lm_score_sum': 0.0, '_kaldi_score_sum': 0.0, '_word_lm_sum': 0.0, '_num_words': 0.0, '_vocab_seen': [0.007, 0.007, 0.007, 0.007, 0.007, 0.007, 0.0, 0.007, 0.007, 0.007, 0.007, 0.007, 0.007, 0.007, 0.0, 0.007, 0.007, 0.007, 0.007, 0.007, 0.007, 0.007, 0.007, 0.007, 0.0, 0.0, 0.007, 0.007, 0.007, 0.0, 0.007, 0.0, 0.007, 0.007, 0.007, 0.0, 0.007, 0.007, 0.007, 0.0, 0.007, 0.007, 0.007, 0.006, 0.0, 0.007, 0.0, 0.0, 0.0, 0.0, 0.0, 0.0, 0.0, 0.0, 0.0, 0.0, 0.0, 0.0, 0.0, 0.0]}\n"
          ]
        },
        {
          "name": "stderr",
          "output_type": "stream",
          "text": [
            "Train: 100%|██████████| 82/82 [00:24<00:00,  3.37it/s]\n",
            "Epoch 836\n",
            "Train: 100%|██████████| 82/82 [00:20<00:00,  3.96it/s]\n",
            "Epoch 837\n",
            "Train: 100%|██████████| 82/82 [00:24<00:00,  3.37it/s]\n",
            "Epoch 838\n",
            "Train: 100%|██████████| 82/82 [00:20<00:00,  3.97it/s]\n",
            "Epoch 839\n",
            "Train: 100%|██████████| 82/82 [00:24<00:00,  3.39it/s]\n",
            "Eval : 100%|██████████| 7/7 [00:02<00:00,  3.07it/s]\n",
            "Epoch 840\n"
          ]
        },
        {
          "name": "stdout",
          "output_type": "stream",
          "text": [
            "Saving model...\n",
            "{'edit_distance': 113.076, '_num_chars': 125.089, '_num_pred_chars': 119.039, 'nsentences': 1.0, '_world_size': 0.007, '_lm_score_sum': 0.0, '_kaldi_score_sum': 0.0, '_word_lm_sum': 0.0, '_num_words': 0.0, '_vocab_seen': [0.007, 0.007, 0.007, 0.007, 0.007, 0.007, 0.007, 0.007, 0.007, 0.007, 0.007, 0.007, 0.007, 0.007, 0.0, 0.007, 0.007, 0.007, 0.007, 0.007, 0.007, 0.007, 0.007, 0.007, 0.0, 0.0, 0.007, 0.007, 0.007, 0.0, 0.007, 0.0, 0.007, 0.007, 0.007, 0.0, 0.007, 0.0, 0.007, 0.007, 0.007, 0.007, 0.007, 0.0, 0.0, 0.007, 0.0, 0.0, 0.004, 0.0, 0.0, 0.0, 0.0, 0.0, 0.0, 0.0, 0.0, 0.0, 0.0, 0.0]}\n"
          ]
        },
        {
          "name": "stderr",
          "output_type": "stream",
          "text": [
            "Train: 100%|██████████| 82/82 [00:20<00:00,  3.92it/s]\n",
            "Epoch 841\n",
            "Train: 100%|██████████| 82/82 [00:24<00:00,  3.33it/s]\n",
            "Epoch 842\n",
            "Train: 100%|██████████| 82/82 [00:20<00:00,  3.95it/s]\n",
            "Epoch 843\n",
            "Train: 100%|██████████| 82/82 [00:24<00:00,  3.32it/s]\n",
            "Epoch 844\n",
            "Train: 100%|██████████| 82/82 [00:20<00:00,  3.94it/s]\n",
            "Eval : 100%|██████████| 7/7 [00:02<00:00,  3.06it/s]\n",
            "Epoch 845\n"
          ]
        },
        {
          "name": "stdout",
          "output_type": "stream",
          "text": [
            "Saving model...\n",
            "{'edit_distance': 107.347, '_num_chars': 125.089, '_num_pred_chars': 115.066, 'nsentences': 1.0, '_world_size': 0.007, '_lm_score_sum': 0.0, '_kaldi_score_sum': 0.0, '_word_lm_sum': 0.0, '_num_words': 0.0, '_vocab_seen': [0.007, 0.007, 0.007, 0.007, 0.007, 0.007, 0.0, 0.007, 0.007, 0.002, 0.007, 0.007, 0.007, 0.0, 0.007, 0.007, 0.006, 0.007, 0.007, 0.007, 0.007, 0.007, 0.007, 0.007, 0.007, 0.007, 0.007, 0.007, 0.007, 0.0, 0.007, 0.001, 0.007, 0.007, 0.007, 0.0, 0.007, 0.0, 0.007, 0.007, 0.0, 0.007, 0.007, 0.0, 0.0, 0.0, 0.0, 0.0, 0.0, 0.0, 0.0, 0.0, 0.0, 0.0, 0.0, 0.0, 0.0, 0.0, 0.0, 0.0]}\n"
          ]
        },
        {
          "name": "stderr",
          "output_type": "stream",
          "text": [
            "Train: 100%|██████████| 82/82 [00:24<00:00,  3.35it/s]\n",
            "Epoch 846\n",
            "Train: 100%|██████████| 82/82 [00:20<00:00,  3.95it/s]\n",
            "Epoch 847\n",
            "Train: 100%|██████████| 82/82 [00:24<00:00,  3.39it/s]\n",
            "Epoch 848\n",
            "Train: 100%|██████████| 82/82 [00:20<00:00,  3.98it/s]\n",
            "Epoch 849\n",
            "Train: 100%|██████████| 82/82 [00:24<00:00,  3.36it/s]\n",
            "Eval : 100%|██████████| 7/7 [00:02<00:00,  3.07it/s]\n",
            "Epoch 850\n"
          ]
        },
        {
          "name": "stdout",
          "output_type": "stream",
          "text": [
            "Saving model...\n",
            "{'edit_distance': 109.838, '_num_chars': 125.089, '_num_pred_chars': 121.113, 'nsentences': 1.0, '_world_size': 0.007, '_lm_score_sum': 0.0, '_kaldi_score_sum': 0.0, '_word_lm_sum': 0.0, '_num_words': 0.0, '_vocab_seen': [0.007, 0.007, 0.007, 0.007, 0.007, 0.007, 0.007, 0.007, 0.007, 0.007, 0.007, 0.007, 0.007, 0.007, 0.007, 0.007, 0.007, 0.007, 0.007, 0.007, 0.007, 0.007, 0.007, 0.007, 0.0, 0.007, 0.007, 0.0, 0.007, 0.0, 0.007, 0.0, 0.007, 0.007, 0.007, 0.0, 0.007, 0.007, 0.007, 0.007, 0.007, 0.007, 0.007, 0.0, 0.0, 0.0, 0.0, 0.0, 0.0, 0.0, 0.0, 0.0, 0.0, 0.0, 0.0, 0.0, 0.0, 0.0, 0.0, 0.0]}\n"
          ]
        },
        {
          "name": "stderr",
          "output_type": "stream",
          "text": [
            "Train: 100%|██████████| 82/82 [00:20<00:00,  3.95it/s]\n",
            "Epoch 851\n",
            "Train: 100%|██████████| 82/82 [00:24<00:00,  3.38it/s]\n",
            "Epoch 852\n",
            "Train: 100%|██████████| 82/82 [00:20<00:00,  3.93it/s]\n",
            "Epoch 853\n",
            "Train: 100%|██████████| 82/82 [00:24<00:00,  3.33it/s]\n",
            "Epoch 854\n",
            "Train: 100%|██████████| 82/82 [00:20<00:00,  3.96it/s]\n",
            "Eval : 100%|██████████| 7/7 [00:02<00:00,  3.13it/s]\n",
            "Epoch 855\n"
          ]
        },
        {
          "name": "stdout",
          "output_type": "stream",
          "text": [
            "Saving model...\n",
            "{'edit_distance': 112.177, '_num_chars': 125.089, '_num_pred_chars': 119.626, 'nsentences': 1.0, '_world_size': 0.007, '_lm_score_sum': 0.0, '_kaldi_score_sum': 0.0, '_word_lm_sum': 0.0, '_num_words': 0.0, '_vocab_seen': [0.007, 0.007, 0.007, 0.007, 0.007, 0.007, 0.007, 0.007, 0.007, 0.007, 0.007, 0.007, 0.007, 0.007, 0.007, 0.007, 0.0, 0.007, 0.007, 0.007, 0.007, 0.007, 0.007, 0.0, 0.0, 0.0, 0.007, 0.0, 0.007, 0.007, 0.007, 0.0, 0.007, 0.007, 0.007, 0.0, 0.007, 0.007, 0.007, 0.002, 0.0, 0.007, 0.007, 0.007, 0.007, 0.0, 0.0, 0.0, 0.0, 0.0, 0.007, 0.0, 0.0, 0.0, 0.0, 0.0, 0.0, 0.0, 0.0, 0.0]}\n"
          ]
        },
        {
          "name": "stderr",
          "output_type": "stream",
          "text": [
            "Train: 100%|██████████| 82/82 [00:24<00:00,  3.35it/s]\n",
            "Epoch 856\n",
            "Train: 100%|██████████| 82/82 [00:20<00:00,  3.95it/s]\n",
            "Epoch 857\n",
            "Train: 100%|██████████| 82/82 [00:24<00:00,  3.35it/s]\n",
            "Epoch 858\n",
            "Train: 100%|██████████| 82/82 [00:20<00:00,  3.94it/s]\n",
            "Epoch 859\n",
            "Train: 100%|██████████| 82/82 [00:24<00:00,  3.37it/s]\n",
            "Eval : 100%|██████████| 7/7 [00:02<00:00,  3.08it/s]\n",
            "Epoch 860\n"
          ]
        },
        {
          "name": "stdout",
          "output_type": "stream",
          "text": [
            "Saving model...\n",
            "{'edit_distance': 110.996, '_num_chars': 125.089, '_num_pred_chars': 116.376, 'nsentences': 1.0, '_world_size': 0.007, '_lm_score_sum': 0.0, '_kaldi_score_sum': 0.0, '_word_lm_sum': 0.0, '_num_words': 0.0, '_vocab_seen': [0.007, 0.007, 0.007, 0.007, 0.007, 0.007, 0.0, 0.007, 0.007, 0.007, 0.007, 0.007, 0.007, 0.007, 0.0, 0.007, 0.007, 0.007, 0.007, 0.007, 0.007, 0.007, 0.007, 0.0, 0.0, 0.0, 0.007, 0.0, 0.007, 0.007, 0.007, 0.0, 0.007, 0.007, 0.007, 0.0, 0.007, 0.007, 0.007, 0.0, 0.007, 0.007, 0.007, 0.007, 0.007, 0.0, 0.0, 0.0, 0.0, 0.0, 0.007, 0.007, 0.0, 0.0, 0.0, 0.0, 0.0, 0.0, 0.0, 0.0]}\n"
          ]
        },
        {
          "name": "stderr",
          "output_type": "stream",
          "text": [
            "Train: 100%|██████████| 82/82 [00:20<00:00,  3.91it/s]\n",
            "Epoch 861\n",
            "Train: 100%|██████████| 82/82 [00:24<00:00,  3.35it/s]\n",
            "Epoch 862\n",
            "Train: 100%|██████████| 82/82 [00:20<00:00,  3.95it/s]\n",
            "Epoch 863\n",
            "Train: 100%|██████████| 82/82 [00:24<00:00,  3.37it/s]\n",
            "Epoch 864\n",
            "Train: 100%|██████████| 82/82 [00:20<00:00,  3.94it/s]\n",
            "Eval : 100%|██████████| 7/7 [00:02<00:00,  3.12it/s]\n",
            "Epoch 865\n"
          ]
        },
        {
          "name": "stdout",
          "output_type": "stream",
          "text": [
            "Saving model...\n",
            "{'edit_distance': 113.552, '_num_chars': 125.089, '_num_pred_chars': 125.672, 'nsentences': 1.0, '_world_size': 0.007, '_lm_score_sum': 0.0, '_kaldi_score_sum': 0.0, '_word_lm_sum': 0.0, '_num_words': 0.0, '_vocab_seen': [0.007, 0.007, 0.007, 0.007, 0.007, 0.007, 0.0, 0.0, 0.007, 0.007, 0.007, 0.003, 0.007, 0.007, 0.0, 0.007, 0.007, 0.007, 0.007, 0.007, 0.007, 0.007, 0.007, 0.0, 0.0, 0.007, 0.007, 0.0, 0.007, 0.007, 0.0, 0.007, 0.006, 0.007, 0.007, 0.007, 0.007, 0.007, 0.007, 0.0, 0.007, 0.007, 0.007, 0.0, 0.0, 0.007, 0.007, 0.0, 0.007, 0.0, 0.0, 0.0, 0.0, 0.0, 0.0, 0.0, 0.0, 0.0, 0.0, 0.0]}\n"
          ]
        },
        {
          "name": "stderr",
          "output_type": "stream",
          "text": [
            "Train: 100%|██████████| 82/82 [00:24<00:00,  3.33it/s]\n",
            "Epoch 866\n",
            "Train: 100%|██████████| 82/82 [00:20<00:00,  3.97it/s]\n",
            "Epoch 867\n",
            "Train: 100%|██████████| 82/82 [00:24<00:00,  3.37it/s]\n",
            "Epoch 868\n",
            "Train: 100%|██████████| 82/82 [00:20<00:00,  3.94it/s]\n",
            "Epoch 869\n",
            "Train: 100%|██████████| 82/82 [00:24<00:00,  3.31it/s]\n",
            "Eval : 100%|██████████| 7/7 [00:02<00:00,  3.08it/s]\n",
            "Epoch 870\n"
          ]
        },
        {
          "name": "stdout",
          "output_type": "stream",
          "text": [
            "Saving model...\n",
            "{'edit_distance': 110.098, '_num_chars': 125.089, '_num_pred_chars': 118.104, 'nsentences': 1.0, '_world_size': 0.007, '_lm_score_sum': 0.0, '_kaldi_score_sum': 0.0, '_word_lm_sum': 0.0, '_num_words': 0.0, '_vocab_seen': [0.007, 0.007, 0.007, 0.007, 0.007, 0.007, 0.0, 0.007, 0.007, 0.007, 0.007, 0.007, 0.007, 0.007, 0.007, 0.007, 0.007, 0.007, 0.007, 0.007, 0.007, 0.007, 0.007, 0.0, 0.0, 0.006, 0.007, 0.006, 0.007, 0.0, 0.007, 0.0, 0.0, 0.007, 0.007, 0.0, 0.007, 0.007, 0.007, 0.0, 0.0, 0.007, 0.007, 0.0, 0.0, 0.0, 0.007, 0.0, 0.007, 0.0, 0.0, 0.0, 0.0, 0.0, 0.0, 0.0, 0.0, 0.0, 0.0, 0.0]}\n"
          ]
        },
        {
          "name": "stderr",
          "output_type": "stream",
          "text": [
            "Train: 100%|██████████| 82/82 [00:20<00:00,  3.92it/s]\n",
            "Epoch 871\n",
            "Train: 100%|██████████| 82/82 [00:24<00:00,  3.29it/s]\n",
            "Epoch 872\n",
            "Train: 100%|██████████| 82/82 [00:21<00:00,  3.89it/s]\n",
            "Epoch 873\n",
            "Train: 100%|██████████| 82/82 [00:25<00:00,  3.28it/s]\n",
            "Epoch 874\n",
            "Train: 100%|██████████| 82/82 [00:20<00:00,  3.91it/s]\n",
            "Eval : 100%|██████████| 7/7 [00:02<00:00,  3.10it/s]\n",
            "Epoch 875\n"
          ]
        },
        {
          "name": "stdout",
          "output_type": "stream",
          "text": [
            "Saving model...\n",
            "{'edit_distance': 116.03, '_num_chars': 125.089, '_num_pred_chars': 127.427, 'nsentences': 1.0, '_world_size': 0.007, '_lm_score_sum': 0.0, '_kaldi_score_sum': 0.0, '_word_lm_sum': 0.0, '_num_words': 0.0, '_vocab_seen': [0.007, 0.007, 0.007, 0.007, 0.007, 0.007, 0.0, 0.007, 0.007, 0.007, 0.007, 0.007, 0.007, 0.007, 0.0, 0.007, 0.007, 0.007, 0.007, 0.007, 0.007, 0.007, 0.007, 0.007, 0.0, 0.006, 0.007, 0.0, 0.007, 0.0, 0.007, 0.0, 0.007, 0.007, 0.007, 0.0, 0.007, 0.007, 0.007, 0.007, 0.007, 0.007, 0.007, 0.007, 0.0, 0.0, 0.0, 0.007, 0.007, 0.007, 0.0, 0.0, 0.0, 0.0, 0.0, 0.0, 0.0, 0.0, 0.0, 0.0]}\n"
          ]
        },
        {
          "name": "stderr",
          "output_type": "stream",
          "text": [
            "Train: 100%|██████████| 82/82 [00:24<00:00,  3.30it/s]\n",
            "Epoch 876\n",
            "Train: 100%|██████████| 82/82 [00:20<00:00,  3.92it/s]\n",
            "Epoch 877\n",
            "Train: 100%|██████████| 82/82 [00:24<00:00,  3.34it/s]\n",
            "Epoch 878\n",
            "Train: 100%|██████████| 82/82 [00:20<00:00,  3.91it/s]\n",
            "Epoch 879\n",
            "Train: 100%|██████████| 82/82 [00:24<00:00,  3.36it/s]\n",
            "Eval : 100%|██████████| 7/7 [00:02<00:00,  3.05it/s]\n",
            "Epoch 880\n"
          ]
        },
        {
          "name": "stdout",
          "output_type": "stream",
          "text": [
            "Saving model...\n",
            "{'edit_distance': 111.727, '_num_chars': 125.089, '_num_pred_chars': 120.729, 'nsentences': 1.0, '_world_size': 0.007, '_lm_score_sum': 0.0, '_kaldi_score_sum': 0.0, '_word_lm_sum': 0.0, '_num_words': 0.0, '_vocab_seen': [0.007, 0.007, 0.007, 0.007, 0.007, 0.007, 0.007, 0.007, 0.007, 0.0, 0.007, 0.007, 0.007, 0.007, 0.0, 0.007, 0.007, 0.007, 0.007, 0.007, 0.007, 0.007, 0.007, 0.007, 0.0, 0.007, 0.007, 0.001, 0.007, 0.0, 0.007, 0.0, 0.007, 0.007, 0.007, 0.0, 0.007, 0.007, 0.007, 0.0, 0.007, 0.007, 0.007, 0.007, 0.0, 0.0, 0.0, 0.0, 0.007, 0.007, 0.0, 0.0, 0.007, 0.0, 0.0, 0.0, 0.0, 0.0, 0.0, 0.0]}\n"
          ]
        },
        {
          "name": "stderr",
          "output_type": "stream",
          "text": [
            "Train: 100%|██████████| 82/82 [00:20<00:00,  3.93it/s]\n",
            "Epoch 881\n",
            "Train: 100%|██████████| 82/82 [00:24<00:00,  3.37it/s]\n",
            "Epoch 882\n",
            "Train: 100%|██████████| 82/82 [00:20<00:00,  3.93it/s]\n",
            "Epoch 883\n",
            "Train: 100%|██████████| 82/82 [00:24<00:00,  3.35it/s]\n",
            "Epoch 884\n",
            "Train: 100%|██████████| 82/82 [00:20<00:00,  3.95it/s]\n",
            "Eval : 100%|██████████| 7/7 [00:02<00:00,  3.14it/s]\n",
            "Epoch 885\n"
          ]
        },
        {
          "name": "stdout",
          "output_type": "stream",
          "text": [
            "Saving model...\n",
            "{'edit_distance': 111.802, '_num_chars': 125.089, '_num_pred_chars': 121.602, 'nsentences': 1.0, '_world_size': 0.007, '_lm_score_sum': 0.0, '_kaldi_score_sum': 0.0, '_word_lm_sum': 0.0, '_num_words': 0.0, '_vocab_seen': [0.007, 0.007, 0.007, 0.007, 0.007, 0.007, 0.0, 0.007, 0.007, 0.007, 0.007, 0.007, 0.007, 0.007, 0.0, 0.007, 0.007, 0.007, 0.007, 0.007, 0.007, 0.007, 0.007, 0.002, 0.0, 0.007, 0.007, 0.0, 0.007, 0.0, 0.007, 0.007, 0.007, 0.007, 0.007, 0.0, 0.007, 0.007, 0.007, 0.0, 0.0, 0.007, 0.007, 0.0, 0.006, 0.007, 0.0, 0.0, 0.007, 0.0, 0.0, 0.0, 0.0, 0.0, 0.0, 0.0, 0.0, 0.0, 0.0, 0.0]}\n"
          ]
        },
        {
          "name": "stderr",
          "output_type": "stream",
          "text": [
            "Train: 100%|██████████| 82/82 [00:24<00:00,  3.34it/s]\n",
            "Epoch 886\n",
            "Train: 100%|██████████| 82/82 [00:20<00:00,  3.97it/s]\n",
            "Epoch 887\n",
            "Train: 100%|██████████| 82/82 [00:24<00:00,  3.37it/s]\n",
            "Epoch 888\n",
            "Train: 100%|██████████| 82/82 [00:20<00:00,  3.92it/s]\n",
            "Epoch 889\n",
            "Train: 100%|██████████| 82/82 [00:24<00:00,  3.35it/s]\n",
            "Eval : 100%|██████████| 7/7 [00:02<00:00,  3.15it/s]\n",
            "Epoch 890\n"
          ]
        },
        {
          "name": "stdout",
          "output_type": "stream",
          "text": [
            "Saving model...\n",
            "{'edit_distance': 112.839, '_num_chars': 125.089, '_num_pred_chars': 121.939, 'nsentences': 1.0, '_world_size': 0.007, '_lm_score_sum': 0.0, '_kaldi_score_sum': 0.0, '_word_lm_sum': 0.0, '_num_words': 0.0, '_vocab_seen': [0.007, 0.007, 0.007, 0.007, 0.007, 0.007, 0.0, 0.007, 0.007, 0.0, 0.007, 0.007, 0.007, 0.007, 0.0, 0.007, 0.007, 0.007, 0.007, 0.007, 0.007, 0.007, 0.007, 0.0, 0.007, 0.007, 0.007, 0.007, 0.007, 0.0, 0.007, 0.007, 0.007, 0.007, 0.007, 0.0, 0.007, 0.007, 0.007, 0.0, 0.0, 0.007, 0.007, 0.0, 0.007, 0.007, 0.007, 0.0, 0.0, 0.0, 0.0, 0.0, 0.0, 0.0, 0.0, 0.0, 0.0, 0.0, 0.0, 0.0]}\n"
          ]
        },
        {
          "name": "stderr",
          "output_type": "stream",
          "text": [
            "Train: 100%|██████████| 82/82 [00:20<00:00,  3.95it/s]\n",
            "Epoch 891\n",
            "Train: 100%|██████████| 82/82 [00:24<00:00,  3.30it/s]\n",
            "Epoch 892\n",
            "Train: 100%|██████████| 82/82 [00:20<00:00,  3.94it/s]\n",
            "Epoch 893\n",
            "Train: 100%|██████████| 82/82 [00:24<00:00,  3.30it/s]\n",
            "Epoch 894\n",
            "Train: 100%|██████████| 82/82 [00:20<00:00,  3.92it/s]\n",
            "Eval : 100%|██████████| 7/7 [00:02<00:00,  3.10it/s]\n",
            "Epoch 895\n"
          ]
        },
        {
          "name": "stdout",
          "output_type": "stream",
          "text": [
            "Saving model...\n",
            "{'edit_distance': 110.291, '_num_chars': 125.089, '_num_pred_chars': 122.716, 'nsentences': 1.0, '_world_size': 0.007, '_lm_score_sum': 0.0, '_kaldi_score_sum': 0.0, '_word_lm_sum': 0.0, '_num_words': 0.0, '_vocab_seen': [0.007, 0.007, 0.007, 0.007, 0.007, 0.007, 0.0, 0.007, 0.007, 0.007, 0.007, 0.007, 0.007, 0.007, 0.0, 0.007, 0.007, 0.007, 0.007, 0.007, 0.007, 0.007, 0.007, 0.007, 0.0, 0.007, 0.007, 0.007, 0.007, 0.007, 0.0, 0.007, 0.007, 0.007, 0.007, 0.007, 0.007, 0.007, 0.007, 0.0, 0.007, 0.007, 0.007, 0.0, 0.007, 0.0, 0.007, 0.0, 0.0, 0.0, 0.0, 0.0, 0.0, 0.0, 0.0, 0.0, 0.0, 0.0, 0.0, 0.0]}\n"
          ]
        },
        {
          "name": "stderr",
          "output_type": "stream",
          "text": [
            "Train: 100%|██████████| 82/82 [00:24<00:00,  3.33it/s]\n",
            "Epoch 896\n",
            "Train: 100%|██████████| 82/82 [00:20<00:00,  3.92it/s]\n",
            "Epoch 897\n",
            "Train: 100%|██████████| 82/82 [00:24<00:00,  3.36it/s]\n",
            "Epoch 898\n",
            "Train: 100%|██████████| 82/82 [00:20<00:00,  3.95it/s]\n",
            "Epoch 899\n",
            "Train: 100%|██████████| 82/82 [00:24<00:00,  3.32it/s]\n",
            "Eval : 100%|██████████| 7/7 [00:02<00:00,  3.11it/s]\n",
            "Epoch 900\n"
          ]
        },
        {
          "name": "stdout",
          "output_type": "stream",
          "text": [
            "Saving model...\n",
            "{'edit_distance': 113.996, '_num_chars': 125.089, '_num_pred_chars': 126.349, 'nsentences': 1.0, '_world_size': 0.007, '_lm_score_sum': 0.0, '_kaldi_score_sum': 0.0, '_word_lm_sum': 0.0, '_num_words': 0.0, '_vocab_seen': [0.007, 0.007, 0.007, 0.007, 0.007, 0.007, 0.0, 0.007, 0.007, 0.007, 0.007, 0.007, 0.007, 0.007, 0.0, 0.007, 0.0, 0.007, 0.007, 0.007, 0.007, 0.007, 0.007, 0.001, 0.0, 0.007, 0.007, 0.007, 0.007, 0.0, 0.007, 0.007, 0.007, 0.007, 0.007, 0.007, 0.007, 0.007, 0.007, 0.0, 0.007, 0.007, 0.007, 0.007, 0.0, 0.0, 0.007, 0.007, 0.0, 0.0, 0.007, 0.0, 0.0, 0.0, 0.0, 0.0, 0.0, 0.0, 0.0, 0.0]}\n"
          ]
        },
        {
          "name": "stderr",
          "output_type": "stream",
          "text": [
            "Train: 100%|██████████| 82/82 [00:20<00:00,  3.93it/s]\n",
            "Epoch 901\n",
            "Train: 100%|██████████| 82/82 [00:24<00:00,  3.36it/s]\n",
            "Epoch 902\n",
            "Train: 100%|██████████| 82/82 [00:20<00:00,  3.95it/s]\n",
            "Epoch 903\n",
            "Train: 100%|██████████| 82/82 [00:24<00:00,  3.38it/s]\n",
            "Epoch 904\n",
            "Train: 100%|██████████| 82/82 [00:20<00:00,  3.95it/s]\n",
            "Eval : 100%|██████████| 7/7 [00:02<00:00,  3.11it/s]\n",
            "Epoch 905\n"
          ]
        },
        {
          "name": "stdout",
          "output_type": "stream",
          "text": [
            "Saving model...\n",
            "{'edit_distance': 113.468, '_num_chars': 125.089, '_num_pred_chars': 122.503, 'nsentences': 1.0, '_world_size': 0.007, '_lm_score_sum': 0.0, '_kaldi_score_sum': 0.0, '_word_lm_sum': 0.0, '_num_words': 0.0, '_vocab_seen': [0.007, 0.007, 0.007, 0.007, 0.007, 0.007, 0.002, 0.001, 0.007, 0.007, 0.007, 0.006, 0.007, 0.007, 0.0, 0.007, 0.007, 0.007, 0.007, 0.007, 0.007, 0.007, 0.007, 0.0, 0.0, 0.007, 0.007, 0.007, 0.007, 0.0, 0.007, 0.007, 0.0, 0.007, 0.007, 0.007, 0.0, 0.007, 0.007, 0.007, 0.0, 0.007, 0.007, 0.0, 0.0, 0.007, 0.0, 0.007, 0.007, 0.0, 0.007, 0.0, 0.0, 0.0, 0.0, 0.0, 0.0, 0.0, 0.0, 0.0]}\n"
          ]
        },
        {
          "name": "stderr",
          "output_type": "stream",
          "text": [
            "Train: 100%|██████████| 82/82 [00:25<00:00,  3.26it/s]\n",
            "Epoch 906\n",
            "Train: 100%|██████████| 82/82 [00:20<00:00,  3.94it/s]\n",
            "Epoch 907\n",
            "Train: 100%|██████████| 82/82 [00:24<00:00,  3.36it/s]\n",
            "Epoch 908\n",
            "Train: 100%|██████████| 82/82 [00:21<00:00,  3.90it/s]\n",
            "Epoch 909\n",
            "Train: 100%|██████████| 82/82 [00:24<00:00,  3.34it/s]\n",
            "Eval : 100%|██████████| 7/7 [00:02<00:00,  3.08it/s]\n",
            "Epoch 910\n"
          ]
        },
        {
          "name": "stdout",
          "output_type": "stream",
          "text": [
            "Saving model...\n",
            "{'edit_distance': 112.807, '_num_chars': 125.089, '_num_pred_chars': 125.616, 'nsentences': 1.0, '_world_size': 0.007, '_lm_score_sum': 0.0, '_kaldi_score_sum': 0.0, '_word_lm_sum': 0.0, '_num_words': 0.0, '_vocab_seen': [0.007, 0.007, 0.007, 0.007, 0.007, 0.007, 0.0, 0.007, 0.007, 0.007, 0.007, 0.007, 0.007, 0.007, 0.0, 0.007, 0.0, 0.007, 0.007, 0.007, 0.007, 0.007, 0.007, 0.007, 0.007, 0.007, 0.007, 0.0, 0.007, 0.007, 0.0, 0.007, 0.007, 0.007, 0.007, 0.007, 0.0, 0.007, 0.007, 0.007, 0.0, 0.007, 0.007, 0.0, 0.0, 0.007, 0.0, 0.0, 0.0, 0.0, 0.007, 0.0, 0.0, 0.0, 0.0, 0.0, 0.0, 0.0, 0.0, 0.0]}\n"
          ]
        },
        {
          "name": "stderr",
          "output_type": "stream",
          "text": [
            "Train: 100%|██████████| 82/82 [00:20<00:00,  3.92it/s]\n",
            "Epoch 911\n",
            "Train: 100%|██████████| 82/82 [00:24<00:00,  3.32it/s]\n",
            "Epoch 912\n",
            "Train: 100%|██████████| 82/82 [00:20<00:00,  3.93it/s]\n",
            "Epoch 913\n",
            "Train: 100%|██████████| 82/82 [00:24<00:00,  3.33it/s]\n",
            "Epoch 914\n",
            "Train: 100%|██████████| 82/82 [00:20<00:00,  3.91it/s]\n",
            "Eval : 100%|██████████| 7/7 [00:02<00:00,  3.05it/s]\n",
            "Epoch 915\n"
          ]
        },
        {
          "name": "stdout",
          "output_type": "stream",
          "text": [
            "Saving model...\n",
            "{'edit_distance': 112.738, '_num_chars': 125.089, '_num_pred_chars': 121.833, 'nsentences': 1.0, '_world_size': 0.007, '_lm_score_sum': 0.0, '_kaldi_score_sum': 0.0, '_word_lm_sum': 0.0, '_num_words': 0.0, '_vocab_seen': [0.007, 0.007, 0.007, 0.007, 0.007, 0.007, 0.007, 0.007, 0.007, 0.007, 0.007, 0.0, 0.007, 0.007, 0.0, 0.007, 0.0, 0.007, 0.007, 0.007, 0.007, 0.007, 0.007, 0.001, 0.007, 0.007, 0.007, 0.007, 0.007, 0.007, 0.007, 0.007, 0.001, 0.007, 0.007, 0.007, 0.007, 0.007, 0.007, 0.0, 0.007, 0.007, 0.007, 0.0, 0.0, 0.007, 0.0, 0.0, 0.0, 0.0, 0.007, 0.0, 0.0, 0.0, 0.0, 0.0, 0.0, 0.0, 0.0, 0.0]}\n"
          ]
        },
        {
          "name": "stderr",
          "output_type": "stream",
          "text": [
            "Train: 100%|██████████| 82/82 [00:24<00:00,  3.33it/s]\n",
            "Epoch 916\n",
            "Train: 100%|██████████| 82/82 [00:20<00:00,  3.94it/s]\n",
            "Epoch 917\n",
            "Train: 100%|██████████| 82/82 [00:24<00:00,  3.29it/s]\n",
            "Epoch 918\n",
            "Train: 100%|██████████| 82/82 [00:20<00:00,  3.96it/s]\n",
            "Epoch 919\n",
            "Train: 100%|██████████| 82/82 [00:24<00:00,  3.33it/s]\n",
            "Eval : 100%|██████████| 7/7 [00:02<00:00,  3.04it/s]\n",
            "Epoch 920\n"
          ]
        },
        {
          "name": "stdout",
          "output_type": "stream",
          "text": [
            "Saving model...\n",
            "{'edit_distance': 113.547, '_num_chars': 125.089, '_num_pred_chars': 124.321, 'nsentences': 1.0, '_world_size': 0.007, '_lm_score_sum': 0.0, '_kaldi_score_sum': 0.0, '_word_lm_sum': 0.0, '_num_words': 0.0, '_vocab_seen': [0.007, 0.007, 0.007, 0.007, 0.007, 0.007, 0.007, 0.007, 0.007, 0.007, 0.007, 0.007, 0.007, 0.007, 0.0, 0.007, 0.0, 0.007, 0.007, 0.007, 0.007, 0.007, 0.007, 0.0, 0.0, 0.0, 0.007, 0.007, 0.007, 0.007, 0.007, 0.007, 0.0, 0.007, 0.007, 0.0, 0.007, 0.007, 0.007, 0.0, 0.005, 0.007, 0.007, 0.0, 0.0, 0.007, 0.0, 0.007, 0.0, 0.0, 0.0, 0.0, 0.0, 0.0, 0.007, 0.0, 0.0, 0.0, 0.0, 0.0]}\n"
          ]
        },
        {
          "name": "stderr",
          "output_type": "stream",
          "text": [
            "Train: 100%|██████████| 82/82 [00:20<00:00,  3.92it/s]\n",
            "Epoch 921\n",
            "Train: 100%|██████████| 82/82 [00:24<00:00,  3.39it/s]\n",
            "Epoch 922\n",
            "Train: 100%|██████████| 82/82 [00:20<00:00,  3.95it/s]\n",
            "Epoch 923\n",
            "Train: 100%|██████████| 82/82 [00:24<00:00,  3.32it/s]\n",
            "Epoch 924\n",
            "Train: 100%|██████████| 82/82 [00:20<00:00,  3.94it/s]\n",
            "Eval : 100%|██████████| 7/7 [00:02<00:00,  3.12it/s]\n",
            "Epoch 925\n"
          ]
        },
        {
          "name": "stdout",
          "output_type": "stream",
          "text": [
            "Saving model...\n",
            "{'edit_distance': 112.099, '_num_chars': 125.089, '_num_pred_chars': 120.35, 'nsentences': 1.0, '_world_size': 0.007, '_lm_score_sum': 0.0, '_kaldi_score_sum': 0.0, '_word_lm_sum': 0.0, '_num_words': 0.0, '_vocab_seen': [0.007, 0.007, 0.007, 0.007, 0.007, 0.007, 0.007, 0.007, 0.007, 0.007, 0.007, 0.007, 0.007, 0.004, 0.0, 0.007, 0.007, 0.007, 0.007, 0.007, 0.007, 0.007, 0.007, 0.007, 0.0, 0.007, 0.007, 0.007, 0.007, 0.007, 0.007, 0.007, 0.0, 0.007, 0.007, 0.0, 0.007, 0.007, 0.007, 0.007, 0.0, 0.007, 0.007, 0.0, 0.0, 0.007, 0.0, 0.007, 0.0, 0.0, 0.0, 0.0, 0.0, 0.0, 0.007, 0.0, 0.0, 0.0, 0.0, 0.0]}\n"
          ]
        },
        {
          "name": "stderr",
          "output_type": "stream",
          "text": [
            "Train: 100%|██████████| 82/82 [00:24<00:00,  3.36it/s]\n",
            "Epoch 926\n",
            "Train: 100%|██████████| 82/82 [00:20<00:00,  3.97it/s]\n",
            "Epoch 927\n",
            "Train: 100%|██████████| 82/82 [00:24<00:00,  3.33it/s]\n",
            "Epoch 928\n",
            "Train: 100%|██████████| 82/82 [00:20<00:00,  3.92it/s]\n",
            "Epoch 929\n",
            "Train: 100%|██████████| 82/82 [00:24<00:00,  3.34it/s]\n",
            "Eval : 100%|██████████| 7/7 [00:02<00:00,  3.10it/s]\n",
            "Epoch 930\n"
          ]
        },
        {
          "name": "stdout",
          "output_type": "stream",
          "text": [
            "Saving model...\n",
            "{'edit_distance': 113.821, '_num_chars': 125.089, '_num_pred_chars': 122.95, 'nsentences': 1.0, '_world_size': 0.007, '_lm_score_sum': 0.0, '_kaldi_score_sum': 0.0, '_word_lm_sum': 0.0, '_num_words': 0.0, '_vocab_seen': [0.007, 0.007, 0.007, 0.007, 0.007, 0.007, 0.007, 0.007, 0.007, 0.007, 0.007, 0.001, 0.007, 0.0, 0.0, 0.007, 0.0, 0.007, 0.007, 0.007, 0.007, 0.007, 0.007, 0.007, 0.007, 0.007, 0.007, 0.007, 0.007, 0.007, 0.007, 0.007, 0.007, 0.007, 0.007, 0.0, 0.0, 0.007, 0.007, 0.0, 0.007, 0.007, 0.007, 0.007, 0.007, 0.007, 0.0, 0.007, 0.001, 0.0, 0.0, 0.0, 0.0, 0.0, 0.0, 0.0, 0.0, 0.0, 0.0, 0.0]}\n"
          ]
        },
        {
          "name": "stderr",
          "output_type": "stream",
          "text": [
            "Train: 100%|██████████| 82/82 [00:20<00:00,  3.95it/s]\n",
            "Epoch 931\n",
            "Train: 100%|██████████| 82/82 [00:24<00:00,  3.32it/s]\n",
            "Epoch 932\n",
            "Train: 100%|██████████| 82/82 [00:20<00:00,  3.95it/s]\n",
            "Epoch 933\n",
            "Train: 100%|██████████| 82/82 [00:24<00:00,  3.33it/s]\n",
            "Epoch 934\n",
            "Train: 100%|██████████| 82/82 [00:20<00:00,  3.96it/s]\n",
            "Eval : 100%|██████████| 7/7 [00:02<00:00,  3.12it/s]\n",
            "Epoch 935\n"
          ]
        },
        {
          "name": "stdout",
          "output_type": "stream",
          "text": [
            "Saving model...\n",
            "{'edit_distance': 113.407, '_num_chars': 125.089, '_num_pred_chars': 122.131, 'nsentences': 1.0, '_world_size': 0.007, '_lm_score_sum': 0.0, '_kaldi_score_sum': 0.0, '_word_lm_sum': 0.0, '_num_words': 0.0, '_vocab_seen': [0.007, 0.007, 0.0, 0.007, 0.007, 0.007, 0.007, 0.007, 0.007, 0.007, 0.007, 0.007, 0.007, 0.0, 0.0, 0.007, 0.005, 0.007, 0.007, 0.007, 0.007, 0.007, 0.007, 0.0, 0.0, 0.0, 0.007, 0.0, 0.007, 0.007, 0.0, 0.0, 0.007, 0.007, 0.007, 0.0, 0.0, 0.007, 0.007, 0.0, 0.007, 0.007, 0.007, 0.0, 0.0, 0.007, 0.0, 0.007, 0.007, 0.0, 0.0, 0.007, 0.0, 0.0, 0.0, 0.0, 0.0, 0.0, 0.0, 0.0]}\n"
          ]
        },
        {
          "name": "stderr",
          "output_type": "stream",
          "text": [
            "Train: 100%|██████████| 82/82 [00:24<00:00,  3.37it/s]\n",
            "Epoch 936\n",
            "Train: 100%|██████████| 82/82 [00:20<00:00,  3.93it/s]\n",
            "Epoch 937\n",
            "Train: 100%|██████████| 82/82 [00:24<00:00,  3.35it/s]\n",
            "Epoch 938\n",
            "Train: 100%|██████████| 82/82 [00:20<00:00,  3.93it/s]\n",
            "Epoch 939\n",
            "Train: 100%|██████████| 82/82 [00:24<00:00,  3.33it/s]\n",
            "Eval : 100%|██████████| 7/7 [00:02<00:00,  3.14it/s]\n",
            "Epoch 940\n"
          ]
        },
        {
          "name": "stdout",
          "output_type": "stream",
          "text": [
            "Saving model...\n",
            "{'edit_distance': 115.114, '_num_chars': 125.089, '_num_pred_chars': 124.024, 'nsentences': 1.0, '_world_size': 0.007, '_lm_score_sum': 0.0, '_kaldi_score_sum': 0.0, '_word_lm_sum': 0.0, '_num_words': 0.0, '_vocab_seen': [0.007, 0.007, 0.007, 0.007, 0.007, 0.007, 0.006, 0.007, 0.007, 0.007, 0.007, 0.0, 0.007, 0.007, 0.0, 0.007, 0.0, 0.007, 0.007, 0.007, 0.0, 0.007, 0.007, 0.007, 0.0, 0.0, 0.007, 0.0, 0.007, 0.0, 0.007, 0.0, 0.006, 0.007, 0.007, 0.007, 0.007, 0.007, 0.007, 0.0, 0.007, 0.007, 0.007, 0.007, 0.0, 0.007, 0.0, 0.0, 0.007, 0.007, 0.0, 0.007, 0.0, 0.0, 0.0, 0.0, 0.0, 0.0, 0.0, 0.0]}\n"
          ]
        },
        {
          "name": "stderr",
          "output_type": "stream",
          "text": [
            "Train: 100%|██████████| 82/82 [00:21<00:00,  3.87it/s]\n",
            "Epoch 941\n",
            "Train: 100%|██████████| 82/82 [00:24<00:00,  3.36it/s]\n",
            "Epoch 942\n",
            "Train: 100%|██████████| 82/82 [00:20<00:00,  3.91it/s]\n",
            "Epoch 943\n",
            "Train: 100%|██████████| 82/82 [00:24<00:00,  3.31it/s]\n",
            "Epoch 944\n",
            "Train: 100%|██████████| 82/82 [00:20<00:00,  3.96it/s]\n",
            "Eval : 100%|██████████| 7/7 [00:02<00:00,  3.01it/s]\n",
            "Epoch 945\n"
          ]
        },
        {
          "name": "stdout",
          "output_type": "stream",
          "text": [
            "Saving model...\n",
            "{'edit_distance': 108.363, '_num_chars': 125.089, '_num_pred_chars': 106.872, 'nsentences': 1.0, '_world_size': 0.007, '_lm_score_sum': 0.0, '_kaldi_score_sum': 0.0, '_word_lm_sum': 0.0, '_num_words': 0.0, '_vocab_seen': [0.007, 0.007, 0.0, 0.007, 0.007, 0.007, 0.0, 0.007, 0.007, 0.007, 0.007, 0.007, 0.007, 0.007, 0.0, 0.007, 0.007, 0.007, 0.007, 0.007, 0.007, 0.007, 0.007, 0.0, 0.0, 0.007, 0.007, 0.002, 0.007, 0.0, 0.007, 0.0, 0.0, 0.0, 0.007, 0.0, 0.007, 0.0, 0.007, 0.0, 0.007, 0.007, 0.0, 0.007, 0.0, 0.007, 0.007, 0.0, 0.007, 0.0, 0.0, 0.007, 0.0, 0.0, 0.0, 0.0, 0.0, 0.0, 0.0, 0.0]}\n"
          ]
        },
        {
          "name": "stderr",
          "output_type": "stream",
          "text": [
            "Train: 100%|██████████| 82/82 [00:23<00:00,  3.43it/s]\n",
            "Epoch 946\n",
            "Train: 100%|██████████| 82/82 [00:20<00:00,  3.93it/s]\n",
            "Epoch 947\n",
            "Train: 100%|██████████| 82/82 [00:24<00:00,  3.34it/s]\n",
            "Epoch 948\n",
            "Train: 100%|██████████| 82/82 [00:20<00:00,  3.91it/s]\n",
            "Epoch 949\n",
            "Train: 100%|██████████| 82/82 [00:24<00:00,  3.35it/s]\n",
            "Eval : 100%|██████████| 7/7 [00:02<00:00,  3.17it/s]\n",
            "Epoch 950\n"
          ]
        },
        {
          "name": "stdout",
          "output_type": "stream",
          "text": [
            "Saving model...\n",
            "{'edit_distance': 114.543, '_num_chars': 125.089, '_num_pred_chars': 123.004, 'nsentences': 1.0, '_world_size': 0.007, '_lm_score_sum': 0.0, '_kaldi_score_sum': 0.0, '_word_lm_sum': 0.0, '_num_words': 0.0, '_vocab_seen': [0.007, 0.007, 0.0, 0.007, 0.007, 0.007, 0.004, 0.007, 0.007, 0.007, 0.007, 0.007, 0.007, 0.007, 0.0, 0.007, 0.0, 0.007, 0.007, 0.007, 0.007, 0.007, 0.007, 0.0, 0.0, 0.007, 0.007, 0.0, 0.007, 0.007, 0.007, 0.007, 0.0, 0.0, 0.007, 0.0, 0.007, 0.0, 0.007, 0.007, 0.007, 0.007, 0.0, 0.007, 0.007, 0.007, 0.007, 0.0, 0.007, 0.0, 0.0, 0.002, 0.0, 0.0, 0.0, 0.007, 0.0, 0.0, 0.0, 0.0]}\n"
          ]
        },
        {
          "name": "stderr",
          "output_type": "stream",
          "text": [
            "Train: 100%|██████████| 82/82 [00:20<00:00,  3.92it/s]\n",
            "Epoch 951\n",
            "Train: 100%|██████████| 82/82 [00:24<00:00,  3.37it/s]\n",
            "Epoch 952\n",
            "Train: 100%|██████████| 82/82 [00:20<00:00,  3.98it/s]\n",
            "Epoch 953\n",
            "Train: 100%|██████████| 82/82 [00:24<00:00,  3.39it/s]\n",
            "Epoch 954\n",
            "Train: 100%|██████████| 82/82 [00:21<00:00,  3.86it/s]\n",
            "Eval : 100%|██████████| 7/7 [00:02<00:00,  3.10it/s]\n",
            "Epoch 955\n"
          ]
        },
        {
          "name": "stdout",
          "output_type": "stream",
          "text": [
            "Saving model...\n",
            "{'edit_distance': 115.721, '_num_chars': 125.089, '_num_pred_chars': 130.558, 'nsentences': 1.0, '_world_size': 0.007, '_lm_score_sum': 0.0, '_kaldi_score_sum': 0.0, '_word_lm_sum': 0.0, '_num_words': 0.0, '_vocab_seen': [0.007, 0.007, 0.007, 0.007, 0.007, 0.007, 0.0, 0.007, 0.007, 0.007, 0.007, 0.0, 0.007, 0.007, 0.007, 0.007, 0.0, 0.007, 0.007, 0.007, 0.007, 0.007, 0.007, 0.007, 0.007, 0.007, 0.007, 0.0, 0.007, 0.0, 0.007, 0.007, 0.007, 0.007, 0.007, 0.0, 0.007, 0.0, 0.007, 0.007, 0.0, 0.007, 0.0, 0.0, 0.007, 0.007, 0.004, 0.0, 0.007, 0.0, 0.0, 0.0, 0.0, 0.0, 0.0, 0.0, 0.0, 0.0, 0.0, 0.0]}\n"
          ]
        },
        {
          "name": "stderr",
          "output_type": "stream",
          "text": [
            "Train: 100%|██████████| 82/82 [00:24<00:00,  3.31it/s]\n",
            "Epoch 956\n",
            "Train: 100%|██████████| 82/82 [00:20<00:00,  3.93it/s]\n",
            "Epoch 957\n",
            "Train: 100%|██████████| 82/82 [00:24<00:00,  3.32it/s]\n",
            "Epoch 958\n",
            "Train: 100%|██████████| 82/82 [00:20<00:00,  3.93it/s]\n",
            "Epoch 959\n",
            "Train: 100%|██████████| 82/82 [00:24<00:00,  3.32it/s]\n",
            "Eval : 100%|██████████| 7/7 [00:02<00:00,  3.07it/s]\n",
            "Epoch 960\n"
          ]
        },
        {
          "name": "stdout",
          "output_type": "stream",
          "text": [
            "Saving model...\n",
            "{'edit_distance': 113.741, '_num_chars': 125.089, '_num_pred_chars': 123.908, 'nsentences': 1.0, '_world_size': 0.007, '_lm_score_sum': 0.0, '_kaldi_score_sum': 0.0, '_word_lm_sum': 0.0, '_num_words': 0.0, '_vocab_seen': [0.007, 0.007, 0.0, 0.007, 0.007, 0.007, 0.007, 0.007, 0.007, 0.007, 0.007, 0.0, 0.007, 0.007, 0.007, 0.007, 0.007, 0.007, 0.007, 0.007, 0.007, 0.007, 0.007, 0.007, 0.007, 0.007, 0.007, 0.0, 0.007, 0.0, 0.007, 0.007, 0.007, 0.007, 0.007, 0.0, 0.007, 0.007, 0.007, 0.007, 0.007, 0.007, 0.0, 0.0, 0.007, 0.007, 0.0, 0.0, 0.007, 0.0, 0.0, 0.0, 0.0, 0.0, 0.0, 0.0, 0.0, 0.0, 0.0, 0.0]}\n"
          ]
        },
        {
          "name": "stderr",
          "output_type": "stream",
          "text": [
            "Train: 100%|██████████| 82/82 [00:20<00:00,  3.95it/s]\n",
            "Epoch 961\n",
            "Train: 100%|██████████| 82/82 [00:24<00:00,  3.37it/s]\n",
            "Epoch 962\n",
            "Train: 100%|██████████| 82/82 [00:21<00:00,  3.88it/s]\n",
            "Epoch 963\n",
            "Train: 100%|██████████| 82/82 [00:24<00:00,  3.30it/s]\n",
            "Epoch 964\n",
            "Train: 100%|██████████| 82/82 [00:20<00:00,  3.91it/s]\n",
            "Eval : 100%|██████████| 7/7 [00:02<00:00,  3.07it/s]\n",
            "Epoch 965\n"
          ]
        },
        {
          "name": "stdout",
          "output_type": "stream",
          "text": [
            "Saving model...\n",
            "{'edit_distance': 114.179, '_num_chars': 125.089, '_num_pred_chars': 123.043, 'nsentences': 1.0, '_world_size': 0.007, '_lm_score_sum': 0.0, '_kaldi_score_sum': 0.0, '_word_lm_sum': 0.0, '_num_words': 0.0, '_vocab_seen': [0.007, 0.007, 0.007, 0.007, 0.007, 0.006, 0.0, 0.005, 0.007, 0.007, 0.007, 0.007, 0.007, 0.007, 0.0, 0.007, 0.0, 0.007, 0.007, 0.007, 0.007, 0.007, 0.007, 0.007, 0.007, 0.007, 0.007, 0.0, 0.007, 0.0, 0.007, 0.0, 0.007, 0.007, 0.007, 0.007, 0.007, 0.007, 0.007, 0.0, 0.007, 0.007, 0.007, 0.0, 0.007, 0.0, 0.0, 0.0, 0.007, 0.0, 0.0, 0.0, 0.0, 0.0, 0.0, 0.0, 0.0, 0.0, 0.0, 0.0]}\n"
          ]
        },
        {
          "name": "stderr",
          "output_type": "stream",
          "text": [
            "Train: 100%|██████████| 82/82 [00:24<00:00,  3.32it/s]\n",
            "Epoch 966\n",
            "Train: 100%|██████████| 82/82 [00:20<00:00,  3.94it/s]\n",
            "Epoch 967\n",
            "Train: 100%|██████████| 82/82 [00:24<00:00,  3.39it/s]\n",
            "Epoch 968\n",
            "Train: 100%|██████████| 82/82 [00:20<00:00,  3.99it/s]\n",
            "Epoch 969\n",
            "Train: 100%|██████████| 82/82 [00:24<00:00,  3.39it/s]\n",
            "Eval : 100%|██████████| 7/7 [00:02<00:00,  3.07it/s]\n",
            "Epoch 970\n"
          ]
        },
        {
          "name": "stdout",
          "output_type": "stream",
          "text": [
            "Saving model...\n",
            "{'edit_distance': 113.117, '_num_chars': 125.089, '_num_pred_chars': 116.83, 'nsentences': 1.0, '_world_size': 0.007, '_lm_score_sum': 0.0, '_kaldi_score_sum': 0.0, '_word_lm_sum': 0.0, '_num_words': 0.0, '_vocab_seen': [0.007, 0.007, 0.0, 0.007, 0.007, 0.0, 0.007, 0.007, 0.007, 0.007, 0.007, 0.007, 0.007, 0.007, 0.007, 0.007, 0.0, 0.007, 0.007, 0.007, 0.007, 0.007, 0.007, 0.007, 0.007, 0.0, 0.007, 0.007, 0.007, 0.0, 0.0, 0.0, 0.007, 0.007, 0.007, 0.0, 0.007, 0.007, 0.007, 0.0, 0.0, 0.007, 0.007, 0.0, 0.007, 0.0, 0.0, 0.0, 0.007, 0.0, 0.007, 0.0, 0.0, 0.0, 0.0, 0.007, 0.0, 0.0, 0.0, 0.0]}\n"
          ]
        },
        {
          "name": "stderr",
          "output_type": "stream",
          "text": [
            "Train: 100%|██████████| 82/82 [00:20<00:00,  3.93it/s]\n",
            "Epoch 971\n",
            "Train: 100%|██████████| 82/82 [00:24<00:00,  3.33it/s]\n",
            "Epoch 972\n",
            "Train: 100%|██████████| 82/82 [00:20<00:00,  3.95it/s]\n",
            "Epoch 973\n",
            "Train: 100%|██████████| 82/82 [00:24<00:00,  3.39it/s]\n",
            "Epoch 974\n",
            "Train: 100%|██████████| 82/82 [00:20<00:00,  3.96it/s]\n",
            "Eval : 100%|██████████| 7/7 [00:02<00:00,  3.11it/s]\n",
            "Epoch 975\n"
          ]
        },
        {
          "name": "stdout",
          "output_type": "stream",
          "text": [
            "Saving model...\n",
            "{'edit_distance': 114.815, '_num_chars': 125.089, '_num_pred_chars': 126.729, 'nsentences': 1.0, '_world_size': 0.007, '_lm_score_sum': 0.0, '_kaldi_score_sum': 0.0, '_word_lm_sum': 0.0, '_num_words': 0.0, '_vocab_seen': [0.007, 0.007, 0.007, 0.007, 0.007, 0.007, 0.0, 0.007, 0.007, 0.007, 0.007, 0.007, 0.007, 0.007, 0.0, 0.0, 0.007, 0.007, 0.007, 0.007, 0.007, 0.007, 0.007, 0.007, 0.007, 0.0, 0.007, 0.007, 0.007, 0.002, 0.007, 0.007, 0.007, 0.007, 0.007, 0.0, 0.0, 0.007, 0.007, 0.0, 0.0, 0.007, 0.007, 0.0, 0.007, 0.0, 0.007, 0.0, 0.007, 0.0, 0.0, 0.0, 0.0, 0.0, 0.0, 0.0, 0.0, 0.0, 0.0, 0.0]}\n"
          ]
        },
        {
          "name": "stderr",
          "output_type": "stream",
          "text": [
            "Train: 100%|██████████| 82/82 [00:24<00:00,  3.33it/s]\n",
            "Epoch 976\n",
            "Train: 100%|██████████| 82/82 [00:20<00:00,  3.96it/s]\n",
            "Epoch 977\n",
            "Train: 100%|██████████| 82/82 [00:24<00:00,  3.39it/s]\n",
            "Epoch 978\n",
            "Train: 100%|██████████| 82/82 [00:20<00:00,  3.93it/s]\n",
            "Epoch 979\n",
            "Train: 100%|██████████| 82/82 [00:24<00:00,  3.32it/s]\n",
            "Eval : 100%|██████████| 7/7 [00:02<00:00,  3.11it/s]\n",
            "Epoch 980\n"
          ]
        },
        {
          "name": "stdout",
          "output_type": "stream",
          "text": [
            "Saving model...\n",
            "{'edit_distance': 116.059, '_num_chars': 125.089, '_num_pred_chars': 130.134, 'nsentences': 1.0, '_world_size': 0.007, '_lm_score_sum': 0.0, '_kaldi_score_sum': 0.0, '_word_lm_sum': 0.0, '_num_words': 0.0, '_vocab_seen': [0.007, 0.007, 0.002, 0.007, 0.007, 0.007, 0.007, 0.007, 0.007, 0.007, 0.007, 0.007, 0.007, 0.007, 0.0, 0.0, 0.007, 0.007, 0.007, 0.007, 0.007, 0.007, 0.007, 0.007, 0.007, 0.007, 0.007, 0.007, 0.007, 0.0, 0.0, 0.007, 0.007, 0.007, 0.007, 0.0, 0.0, 0.007, 0.007, 0.0, 0.0, 0.007, 0.0, 0.007, 0.007, 0.0, 0.007, 0.0, 0.007, 0.007, 0.0, 0.0, 0.0, 0.0, 0.0, 0.0, 0.0, 0.0, 0.0, 0.0]}\n"
          ]
        },
        {
          "name": "stderr",
          "output_type": "stream",
          "text": [
            "Train: 100%|██████████| 82/82 [00:20<00:00,  3.95it/s]\n",
            "Epoch 981\n",
            "Train: 100%|██████████| 82/82 [00:24<00:00,  3.32it/s]\n",
            "Epoch 982\n",
            "Train: 100%|██████████| 82/82 [00:20<00:00,  3.96it/s]\n",
            "Epoch 983\n",
            "Train: 100%|██████████| 82/82 [00:24<00:00,  3.38it/s]\n",
            "Epoch 984\n",
            "Train: 100%|██████████| 82/82 [00:20<00:00,  3.94it/s]\n",
            "Eval : 100%|██████████| 7/7 [00:02<00:00,  3.11it/s]\n",
            "Epoch 985\n"
          ]
        },
        {
          "name": "stdout",
          "output_type": "stream",
          "text": [
            "Saving model...\n",
            "{'edit_distance': 114.888, '_num_chars': 125.089, '_num_pred_chars': 126.817, 'nsentences': 1.0, '_world_size': 0.007, '_lm_score_sum': 0.0, '_kaldi_score_sum': 0.0, '_word_lm_sum': 0.0, '_num_words': 0.0, '_vocab_seen': [0.007, 0.007, 0.007, 0.007, 0.007, 0.007, 0.0, 0.007, 0.007, 0.007, 0.007, 0.007, 0.007, 0.007, 0.0, 0.007, 0.007, 0.007, 0.007, 0.007, 0.007, 0.007, 0.007, 0.007, 0.007, 0.007, 0.007, 0.007, 0.007, 0.007, 0.007, 0.0, 0.007, 0.007, 0.007, 0.0, 0.007, 0.0, 0.007, 0.0, 0.007, 0.007, 0.0, 0.0, 0.007, 0.007, 0.0, 0.0, 0.0, 0.007, 0.0, 0.0, 0.0, 0.0, 0.0, 0.0, 0.0, 0.0, 0.0, 0.0]}\n"
          ]
        },
        {
          "name": "stderr",
          "output_type": "stream",
          "text": [
            "Train: 100%|██████████| 82/82 [00:24<00:00,  3.35it/s]\n",
            "Epoch 986\n",
            "Train: 100%|██████████| 82/82 [00:20<00:00,  3.92it/s]\n",
            "Epoch 987\n",
            "Train: 100%|██████████| 82/82 [00:24<00:00,  3.37it/s]\n",
            "Epoch 988\n",
            "Train: 100%|██████████| 82/82 [00:20<00:00,  3.95it/s]\n",
            "Epoch 989\n",
            "Train: 100%|██████████| 82/82 [00:24<00:00,  3.35it/s]\n",
            "Eval : 100%|██████████| 7/7 [00:02<00:00,  3.13it/s]\n",
            "Epoch 990\n"
          ]
        },
        {
          "name": "stdout",
          "output_type": "stream",
          "text": [
            "Saving model...\n",
            "{'edit_distance': 112.725, '_num_chars': 125.089, '_num_pred_chars': 123.105, 'nsentences': 1.0, '_world_size': 0.007, '_lm_score_sum': 0.0, '_kaldi_score_sum': 0.0, '_word_lm_sum': 0.0, '_num_words': 0.0, '_vocab_seen': [0.007, 0.007, 0.007, 0.007, 0.007, 0.007, 0.0, 0.007, 0.007, 0.007, 0.007, 0.007, 0.007, 0.007, 0.005, 0.007, 0.0, 0.007, 0.007, 0.007, 0.007, 0.007, 0.007, 0.007, 0.007, 0.0, 0.007, 0.0, 0.007, 0.007, 0.0, 0.007, 0.007, 0.0, 0.007, 0.0, 0.0, 0.007, 0.007, 0.0, 0.007, 0.007, 0.0, 0.0, 0.0, 0.0, 0.0, 0.0, 0.0, 0.0, 0.007, 0.0, 0.007, 0.007, 0.0, 0.0, 0.0, 0.0, 0.0, 0.0]}\n"
          ]
        },
        {
          "name": "stderr",
          "output_type": "stream",
          "text": [
            "Train: 100%|██████████| 82/82 [00:20<00:00,  3.93it/s]\n",
            "Epoch 991\n",
            "Train: 100%|██████████| 82/82 [00:24<00:00,  3.39it/s]\n",
            "Epoch 992\n",
            "Train: 100%|██████████| 82/82 [00:20<00:00,  3.93it/s]\n",
            "Epoch 993\n",
            "Train: 100%|██████████| 82/82 [00:24<00:00,  3.35it/s]\n",
            "Epoch 994\n",
            "Train: 100%|██████████| 82/82 [00:21<00:00,  3.90it/s]\n",
            "Eval : 100%|██████████| 7/7 [00:02<00:00,  3.14it/s]\n",
            "Epoch 995\n"
          ]
        },
        {
          "name": "stdout",
          "output_type": "stream",
          "text": [
            "Saving model...\n",
            "{'edit_distance': 112.351, '_num_chars': 125.089, '_num_pred_chars': 122.245, 'nsentences': 1.0, '_world_size': 0.007, '_lm_score_sum': 0.0, '_kaldi_score_sum': 0.0, '_word_lm_sum': 0.0, '_num_words': 0.0, '_vocab_seen': [0.007, 0.007, 0.007, 0.007, 0.007, 0.007, 0.007, 0.007, 0.007, 0.007, 0.007, 0.006, 0.007, 0.007, 0.0, 0.007, 0.0, 0.007, 0.007, 0.007, 0.007, 0.001, 0.007, 0.0, 0.0, 0.007, 0.007, 0.002, 0.007, 0.003, 0.007, 0.0, 0.007, 0.007, 0.007, 0.001, 0.0, 0.007, 0.007, 0.0, 0.0, 0.007, 0.0, 0.0, 0.0, 0.0, 0.0, 0.007, 0.0, 0.0, 0.007, 0.0, 0.007, 0.007, 0.0, 0.0, 0.0, 0.0, 0.0, 0.0]}\n"
          ]
        },
        {
          "name": "stderr",
          "output_type": "stream",
          "text": [
            "Train: 100%|██████████| 82/82 [00:24<00:00,  3.37it/s]\n",
            "Epoch 996\n",
            "Train: 100%|██████████| 82/82 [00:20<00:00,  3.95it/s]\n",
            "Epoch 997\n",
            "Train: 100%|██████████| 82/82 [00:24<00:00,  3.35it/s]\n",
            "Epoch 998\n",
            "Train: 100%|██████████| 82/82 [00:20<00:00,  3.96it/s]\n",
            "Epoch 999\n",
            "Train: 100%|██████████| 82/82 [00:24<00:00,  3.34it/s]\n",
            "Eval : 100%|██████████| 7/7 [00:02<00:00,  3.07it/s]\n",
            "Epoch 1000\n"
          ]
        },
        {
          "name": "stdout",
          "output_type": "stream",
          "text": [
            "Saving model...\n",
            "{'edit_distance': 114.244, '_num_chars': 125.089, '_num_pred_chars': 125.069, 'nsentences': 1.0, '_world_size': 0.007, '_lm_score_sum': 0.0, '_kaldi_score_sum': 0.0, '_word_lm_sum': 0.0, '_num_words': 0.0, '_vocab_seen': [0.007, 0.007, 0.007, 0.007, 0.005, 0.007, 0.007, 0.007, 0.007, 0.006, 0.007, 0.0, 0.007, 0.007, 0.0, 0.007, 0.0, 0.007, 0.007, 0.007, 0.007, 0.0, 0.007, 0.0, 0.0, 0.007, 0.007, 0.0, 0.007, 0.0, 0.007, 0.0, 0.007, 0.007, 0.007, 0.0, 0.007, 0.007, 0.007, 0.0, 0.007, 0.007, 0.0, 0.007, 0.0, 0.0, 0.0, 0.0, 0.0, 0.0, 0.0, 0.0, 0.0, 0.007, 0.0, 0.0, 0.0, 0.0, 0.0, 0.0]}\n"
          ]
        },
        {
          "name": "stderr",
          "output_type": "stream",
          "text": [
            "Train: 100%|██████████| 82/82 [00:20<00:00,  3.94it/s]\n",
            "Epoch 1001\n",
            "Train: 100%|██████████| 82/82 [00:24<00:00,  3.41it/s]\n",
            "Epoch 1002\n",
            "Train: 100%|██████████| 82/82 [00:20<00:00,  3.97it/s]\n",
            "Epoch 1003\n",
            "Train: 100%|██████████| 82/82 [00:24<00:00,  3.38it/s]\n",
            "Epoch 1004\n",
            "Train: 100%|██████████| 82/82 [00:20<00:00,  3.97it/s]\n",
            "Eval : 100%|██████████| 7/7 [00:02<00:00,  3.10it/s]\n",
            "Epoch 1005\n"
          ]
        },
        {
          "name": "stdout",
          "output_type": "stream",
          "text": [
            "Saving model...\n",
            "{'edit_distance': 112.324, '_num_chars': 125.089, '_num_pred_chars': 118.755, 'nsentences': 1.0, '_world_size': 0.007, '_lm_score_sum': 0.0, '_kaldi_score_sum': 0.0, '_word_lm_sum': 0.0, '_num_words': 0.0, '_vocab_seen': [0.007, 0.007, 0.007, 0.007, 0.007, 0.007, 0.007, 0.007, 0.007, 0.007, 0.007, 0.0, 0.007, 0.007, 0.0, 0.007, 0.0, 0.007, 0.007, 0.007, 0.007, 0.007, 0.007, 0.007, 0.007, 0.007, 0.007, 0.007, 0.007, 0.0, 0.007, 0.0, 0.007, 0.0, 0.007, 0.006, 0.007, 0.007, 0.007, 0.007, 0.007, 0.007, 0.007, 0.0, 0.0, 0.0, 0.0, 0.0, 0.0, 0.0, 0.0, 0.0, 0.0, 0.0, 0.0, 0.0, 0.0, 0.0, 0.0, 0.0]}\n"
          ]
        },
        {
          "name": "stderr",
          "output_type": "stream",
          "text": [
            "Train: 100%|██████████| 82/82 [00:24<00:00,  3.36it/s]\n",
            "Epoch 1006\n",
            "Train: 100%|██████████| 82/82 [00:20<00:00,  3.94it/s]\n",
            "Epoch 1007\n",
            "Train: 100%|██████████| 82/82 [00:24<00:00,  3.35it/s]\n",
            "Epoch 1008\n",
            "Train: 100%|██████████| 82/82 [00:20<00:00,  3.93it/s]\n",
            "Epoch 1009\n",
            "Train: 100%|██████████| 82/82 [00:24<00:00,  3.34it/s]\n",
            "Eval : 100%|██████████| 7/7 [00:02<00:00,  3.17it/s]\n",
            "Epoch 1010\n"
          ]
        },
        {
          "name": "stdout",
          "output_type": "stream",
          "text": [
            "Saving model...\n",
            "{'edit_distance': 113.828, '_num_chars': 125.089, '_num_pred_chars': 125.834, 'nsentences': 1.0, '_world_size': 0.007, '_lm_score_sum': 0.0, '_kaldi_score_sum': 0.0, '_word_lm_sum': 0.0, '_num_words': 0.0, '_vocab_seen': [0.007, 0.007, 0.007, 0.007, 0.007, 0.007, 0.007, 0.007, 0.007, 0.007, 0.007, 0.007, 0.007, 0.007, 0.0, 0.007, 0.007, 0.007, 0.007, 0.007, 0.007, 0.007, 0.007, 0.0, 0.0, 0.007, 0.007, 0.007, 0.007, 0.007, 0.007, 0.0, 0.0, 0.0, 0.007, 0.0, 0.0, 0.007, 0.007, 0.007, 0.0, 0.007, 0.007, 0.0, 0.0, 0.007, 0.0, 0.0, 0.0, 0.0, 0.0, 0.0, 0.0, 0.0, 0.0, 0.0, 0.0, 0.0, 0.0, 0.0]}\n"
          ]
        },
        {
          "name": "stderr",
          "output_type": "stream",
          "text": [
            "Train: 100%|██████████| 82/82 [00:20<00:00,  3.95it/s]\n",
            "Epoch 1011\n",
            "Train: 100%|██████████| 82/82 [00:24<00:00,  3.35it/s]\n",
            "Epoch 1012\n",
            "Train: 100%|██████████| 82/82 [00:20<00:00,  3.92it/s]\n",
            "Epoch 1013\n",
            "Train: 100%|██████████| 82/82 [00:24<00:00,  3.31it/s]\n",
            "Epoch 1014\n",
            "Train: 100%|██████████| 82/82 [00:20<00:00,  3.93it/s]\n",
            "Eval : 100%|██████████| 7/7 [00:02<00:00,  3.06it/s]\n",
            "Epoch 1015\n"
          ]
        },
        {
          "name": "stdout",
          "output_type": "stream",
          "text": [
            "Saving model...\n",
            "{'edit_distance': 113.292, '_num_chars': 125.089, '_num_pred_chars': 125.289, 'nsentences': 1.0, '_world_size': 0.007, '_lm_score_sum': 0.0, '_kaldi_score_sum': 0.0, '_word_lm_sum': 0.0, '_num_words': 0.0, '_vocab_seen': [0.007, 0.007, 0.007, 0.007, 0.007, 0.007, 0.007, 0.007, 0.007, 0.007, 0.007, 0.0, 0.007, 0.007, 0.0, 0.007, 0.0, 0.007, 0.007, 0.007, 0.007, 0.005, 0.007, 0.0, 0.0, 0.007, 0.007, 0.007, 0.007, 0.0, 0.007, 0.0, 0.0, 0.007, 0.007, 0.0, 0.007, 0.007, 0.007, 0.0, 0.007, 0.007, 0.0, 0.0, 0.0, 0.007, 0.0, 0.007, 0.007, 0.0, 0.0, 0.0, 0.0, 0.0, 0.007, 0.0, 0.0, 0.0, 0.0, 0.0]}\n"
          ]
        },
        {
          "name": "stderr",
          "output_type": "stream",
          "text": [
            "Train: 100%|██████████| 82/82 [00:24<00:00,  3.34it/s]\n",
            "Epoch 1016\n",
            "Train: 100%|██████████| 82/82 [00:20<00:00,  3.96it/s]\n",
            "Epoch 1017\n",
            "Train: 100%|██████████| 82/82 [00:24<00:00,  3.34it/s]\n",
            "Epoch 1018\n",
            "Train: 100%|██████████| 82/82 [00:20<00:00,  3.93it/s]\n",
            "Epoch 1019\n",
            "Train: 100%|██████████| 82/82 [00:24<00:00,  3.32it/s]\n",
            "Eval : 100%|██████████| 7/7 [00:02<00:00,  3.06it/s]\n",
            "Epoch 1020\n"
          ]
        },
        {
          "name": "stdout",
          "output_type": "stream",
          "text": [
            "Saving model...\n",
            "{'edit_distance': 112.727, '_num_chars': 125.089, '_num_pred_chars': 124.477, 'nsentences': 1.0, '_world_size': 0.007, '_lm_score_sum': 0.0, '_kaldi_score_sum': 0.0, '_word_lm_sum': 0.0, '_num_words': 0.0, '_vocab_seen': [0.007, 0.007, 0.007, 0.007, 0.007, 0.007, 0.0, 0.007, 0.007, 0.007, 0.007, 0.007, 0.007, 0.007, 0.0, 0.007, 0.007, 0.007, 0.007, 0.007, 0.007, 0.0, 0.007, 0.007, 0.0, 0.007, 0.007, 0.007, 0.007, 0.007, 0.007, 0.0, 0.007, 0.007, 0.007, 0.0, 0.007, 0.007, 0.007, 0.0, 0.0, 0.007, 0.0, 0.0, 0.0, 0.006, 0.0, 0.007, 0.007, 0.0, 0.0, 0.0, 0.0, 0.0, 0.0, 0.0, 0.0, 0.0, 0.0, 0.0]}\n"
          ]
        },
        {
          "name": "stderr",
          "output_type": "stream",
          "text": [
            "Train: 100%|██████████| 82/82 [00:20<00:00,  3.95it/s]\n",
            "Epoch 1021\n",
            "Train: 100%|██████████| 82/82 [00:24<00:00,  3.34it/s]\n",
            "Epoch 1022\n",
            "Train: 100%|██████████| 82/82 [00:20<00:00,  3.91it/s]\n",
            "Epoch 1023\n",
            "Train: 100%|██████████| 82/82 [00:24<00:00,  3.29it/s]\n",
            "Epoch 1024\n",
            "Train: 100%|██████████| 82/82 [00:20<00:00,  3.94it/s]\n",
            "Eval : 100%|██████████| 7/7 [00:02<00:00,  3.12it/s]\n",
            "Epoch 1025\n"
          ]
        },
        {
          "name": "stdout",
          "output_type": "stream",
          "text": [
            "Saving model...\n",
            "{'edit_distance': 112.209, '_num_chars': 125.089, '_num_pred_chars': 120.676, 'nsentences': 1.0, '_world_size': 0.007, '_lm_score_sum': 0.0, '_kaldi_score_sum': 0.0, '_word_lm_sum': 0.0, '_num_words': 0.0, '_vocab_seen': [0.007, 0.007, 0.0, 0.007, 0.007, 0.007, 0.0, 0.007, 0.007, 0.007, 0.007, 0.007, 0.007, 0.007, 0.007, 0.007, 0.0, 0.007, 0.007, 0.007, 0.007, 0.007, 0.007, 0.007, 0.002, 0.007, 0.007, 0.007, 0.007, 0.007, 0.007, 0.0, 0.007, 0.0, 0.007, 0.0, 0.007, 0.007, 0.007, 0.0, 0.0, 0.007, 0.0, 0.0, 0.0, 0.0, 0.007, 0.0, 0.0, 0.0, 0.0, 0.0, 0.0, 0.0, 0.0, 0.0, 0.0, 0.0, 0.0, 0.0]}\n"
          ]
        },
        {
          "name": "stderr",
          "output_type": "stream",
          "text": [
            "Train: 100%|██████████| 82/82 [00:24<00:00,  3.35it/s]\n",
            "Epoch 1026\n",
            "Train: 100%|██████████| 82/82 [00:20<00:00,  3.95it/s]\n",
            "Epoch 1027\n",
            "Train: 100%|██████████| 82/82 [00:24<00:00,  3.36it/s]\n",
            "Epoch 1028\n",
            "Train: 100%|██████████| 82/82 [00:20<00:00,  3.93it/s]\n",
            "Epoch 1029\n",
            "Train: 100%|██████████| 82/82 [00:24<00:00,  3.36it/s]\n",
            "Eval : 100%|██████████| 7/7 [00:02<00:00,  3.10it/s]\n",
            "Epoch 1030\n"
          ]
        },
        {
          "name": "stdout",
          "output_type": "stream",
          "text": [
            "Saving model...\n",
            "{'edit_distance': 111.728, '_num_chars': 125.089, '_num_pred_chars': 122.503, 'nsentences': 1.0, '_world_size': 0.007, '_lm_score_sum': 0.0, '_kaldi_score_sum': 0.0, '_word_lm_sum': 0.0, '_num_words': 0.0, '_vocab_seen': [0.007, 0.007, 0.007, 0.007, 0.007, 0.007, 0.006, 0.007, 0.007, 0.007, 0.007, 0.007, 0.007, 0.004, 0.007, 0.007, 0.007, 0.007, 0.007, 0.007, 0.007, 0.007, 0.007, 0.007, 0.0, 0.007, 0.007, 0.007, 0.007, 0.007, 0.007, 0.0, 0.007, 0.007, 0.007, 0.0, 0.007, 0.007, 0.007, 0.0, 0.0, 0.007, 0.0, 0.0, 0.0, 0.0, 0.007, 0.0, 0.0, 0.0, 0.0, 0.007, 0.0, 0.0, 0.0, 0.0, 0.0, 0.0, 0.0, 0.0]}\n"
          ]
        },
        {
          "name": "stderr",
          "output_type": "stream",
          "text": [
            "Train: 100%|██████████| 82/82 [00:20<00:00,  3.97it/s]\n",
            "Epoch 1031\n",
            "Train: 100%|██████████| 82/82 [00:24<00:00,  3.40it/s]\n",
            "Epoch 1032\n",
            "Train: 100%|██████████| 82/82 [00:20<00:00,  3.94it/s]\n",
            "Epoch 1033\n",
            "Train: 100%|██████████| 82/82 [00:24<00:00,  3.37it/s]\n",
            "Epoch 1034\n",
            "Train: 100%|██████████| 82/82 [00:20<00:00,  3.93it/s]\n",
            "Eval : 100%|██████████| 7/7 [00:02<00:00,  3.07it/s]\n",
            "Epoch 1035\n"
          ]
        },
        {
          "name": "stdout",
          "output_type": "stream",
          "text": [
            "Saving model...\n",
            "{'edit_distance': 114.631, '_num_chars': 125.089, '_num_pred_chars': 122.964, 'nsentences': 1.0, '_world_size': 0.007, '_lm_score_sum': 0.0, '_kaldi_score_sum': 0.0, '_word_lm_sum': 0.0, '_num_words': 0.0, '_vocab_seen': [0.007, 0.007, 0.007, 0.007, 0.007, 0.007, 0.0, 0.007, 0.007, 0.007, 0.007, 0.007, 0.007, 0.007, 0.0, 0.002, 0.0, 0.007, 0.007, 0.007, 0.007, 0.007, 0.007, 0.007, 0.007, 0.007, 0.007, 0.0, 0.007, 0.001, 0.007, 0.007, 0.007, 0.007, 0.007, 0.007, 0.0, 0.007, 0.007, 0.007, 0.007, 0.007, 0.0, 0.007, 0.0, 0.0, 0.0, 0.0, 0.0, 0.0, 0.0, 0.0, 0.0, 0.0, 0.0, 0.0, 0.0, 0.0, 0.0, 0.0]}\n"
          ]
        },
        {
          "name": "stderr",
          "output_type": "stream",
          "text": [
            "Train: 100%|██████████| 82/82 [00:24<00:00,  3.34it/s]\n",
            "Epoch 1036\n",
            "Train: 100%|██████████| 82/82 [00:20<00:00,  3.94it/s]\n",
            "Epoch 1037\n",
            "Train: 100%|██████████| 82/82 [00:24<00:00,  3.35it/s]\n",
            "Epoch 1038\n",
            "Train: 100%|██████████| 82/82 [00:20<00:00,  3.94it/s]\n",
            "Epoch 1039\n",
            "Train: 100%|██████████| 82/82 [00:24<00:00,  3.35it/s]\n",
            "Eval : 100%|██████████| 7/7 [00:02<00:00,  3.09it/s]\n",
            "Epoch 1040\n"
          ]
        },
        {
          "name": "stdout",
          "output_type": "stream",
          "text": [
            "Saving model...\n",
            "{'edit_distance': 113.696, '_num_chars': 125.089, '_num_pred_chars': 124.066, 'nsentences': 1.0, '_world_size': 0.007, '_lm_score_sum': 0.0, '_kaldi_score_sum': 0.0, '_word_lm_sum': 0.0, '_num_words': 0.0, '_vocab_seen': [0.007, 0.007, 0.007, 0.007, 0.007, 0.007, 0.007, 0.007, 0.007, 0.007, 0.007, 0.007, 0.007, 0.0, 0.0, 0.0, 0.0, 0.007, 0.007, 0.007, 0.007, 0.007, 0.007, 0.007, 0.007, 0.0, 0.007, 0.0, 0.007, 0.0, 0.007, 0.0, 0.007, 0.007, 0.007, 0.0, 0.007, 0.007, 0.007, 0.0, 0.0, 0.007, 0.007, 0.007, 0.0, 0.007, 0.0, 0.0, 0.0, 0.0, 0.0, 0.0, 0.0, 0.0, 0.0, 0.0, 0.0, 0.0, 0.0, 0.0]}\n"
          ]
        },
        {
          "name": "stderr",
          "output_type": "stream",
          "text": [
            "Train: 100%|██████████| 82/82 [00:20<00:00,  3.96it/s]\n",
            "Epoch 1041\n",
            "Train: 100%|██████████| 82/82 [00:24<00:00,  3.38it/s]\n",
            "Epoch 1042\n",
            "Train: 100%|██████████| 82/82 [00:20<00:00,  3.96it/s]\n",
            "Epoch 1043\n",
            "Train: 100%|██████████| 82/82 [00:24<00:00,  3.40it/s]\n",
            "Epoch 1044\n",
            "Train: 100%|██████████| 82/82 [00:20<00:00,  3.96it/s]\n",
            "Eval : 100%|██████████| 7/7 [00:02<00:00,  3.13it/s]\n",
            "Epoch 1045\n"
          ]
        },
        {
          "name": "stdout",
          "output_type": "stream",
          "text": [
            "Saving model...\n",
            "{'edit_distance': 113.237, '_num_chars': 125.089, '_num_pred_chars': 121.463, 'nsentences': 1.0, '_world_size': 0.007, '_lm_score_sum': 0.0, '_kaldi_score_sum': 0.0, '_word_lm_sum': 0.0, '_num_words': 0.0, '_vocab_seen': [0.007, 0.007, 0.007, 0.007, 0.007, 0.007, 0.0, 0.007, 0.007, 0.007, 0.007, 0.0, 0.007, 0.007, 0.0, 0.007, 0.007, 0.007, 0.007, 0.007, 0.007, 0.007, 0.007, 0.007, 0.0, 0.007, 0.007, 0.007, 0.007, 0.007, 0.007, 0.0, 0.007, 0.0, 0.007, 0.0, 0.007, 0.007, 0.007, 0.0, 0.007, 0.007, 0.007, 0.007, 0.007, 0.007, 0.0, 0.0, 0.0, 0.007, 0.0, 0.0, 0.0, 0.0, 0.0, 0.0, 0.0, 0.0, 0.0, 0.0]}\n"
          ]
        },
        {
          "name": "stderr",
          "output_type": "stream",
          "text": [
            "Train: 100%|██████████| 82/82 [00:24<00:00,  3.35it/s]\n",
            "Epoch 1046\n",
            "Train: 100%|██████████| 82/82 [00:20<00:00,  3.95it/s]\n",
            "Epoch 1047\n",
            "Train: 100%|██████████| 82/82 [00:24<00:00,  3.34it/s]\n",
            "Epoch 1048\n",
            "Train: 100%|██████████| 82/82 [00:20<00:00,  3.94it/s]\n",
            "Epoch 1049\n",
            "Train: 100%|██████████| 82/82 [00:24<00:00,  3.37it/s]\n",
            "Eval : 100%|██████████| 7/7 [00:02<00:00,  3.08it/s]\n",
            "Epoch 1050\n"
          ]
        },
        {
          "name": "stdout",
          "output_type": "stream",
          "text": [
            "Saving model...\n",
            "{'edit_distance': 110.605, '_num_chars': 125.089, '_num_pred_chars': 116.206, 'nsentences': 1.0, '_world_size': 0.007, '_lm_score_sum': 0.0, '_kaldi_score_sum': 0.0, '_word_lm_sum': 0.0, '_num_words': 0.0, '_vocab_seen': [0.007, 0.007, 0.007, 0.007, 0.007, 0.007, 0.007, 0.007, 0.007, 0.007, 0.007, 0.007, 0.007, 0.007, 0.0, 0.007, 0.007, 0.007, 0.007, 0.007, 0.007, 0.007, 0.007, 0.007, 0.0, 0.007, 0.007, 0.0, 0.007, 0.007, 0.007, 0.0, 0.0, 0.0, 0.007, 0.0, 0.007, 0.007, 0.007, 0.0, 0.007, 0.007, 0.007, 0.007, 0.0, 0.007, 0.0, 0.0, 0.0, 0.007, 0.0, 0.0, 0.0, 0.0, 0.0, 0.0, 0.0, 0.0, 0.0, 0.0]}\n"
          ]
        },
        {
          "name": "stderr",
          "output_type": "stream",
          "text": [
            "Train: 100%|██████████| 82/82 [00:20<00:00,  3.91it/s]\n",
            "Epoch 1051\n",
            "Train: 100%|██████████| 82/82 [00:24<00:00,  3.32it/s]\n",
            "Epoch 1052\n",
            "Train: 100%|██████████| 82/82 [00:20<00:00,  3.96it/s]\n",
            "Epoch 1053\n",
            "Train: 100%|██████████| 82/82 [00:24<00:00,  3.37it/s]\n",
            "Epoch 1054\n",
            "Train: 100%|██████████| 82/82 [00:20<00:00,  3.92it/s]\n",
            "Eval : 100%|██████████| 7/7 [00:02<00:00,  3.04it/s]\n",
            "Epoch 1055\n"
          ]
        },
        {
          "name": "stdout",
          "output_type": "stream",
          "text": [
            "Saving model...\n",
            "{'edit_distance': 115.961, '_num_chars': 125.089, '_num_pred_chars': 126.675, 'nsentences': 1.0, '_world_size': 0.007, '_lm_score_sum': 0.0, '_kaldi_score_sum': 0.0, '_word_lm_sum': 0.0, '_num_words': 0.0, '_vocab_seen': [0.007, 0.007, 0.007, 0.007, 0.007, 0.007, 0.0, 0.007, 0.007, 0.007, 0.007, 0.0, 0.007, 0.0, 0.0, 0.007, 0.007, 0.007, 0.007, 0.007, 0.007, 0.007, 0.007, 0.007, 0.007, 0.0, 0.007, 0.0, 0.007, 0.0, 0.007, 0.007, 0.0, 0.007, 0.007, 0.0, 0.007, 0.007, 0.007, 0.007, 0.001, 0.007, 0.0, 0.007, 0.0, 0.0, 0.0, 0.0, 0.007, 0.007, 0.0, 0.0, 0.0, 0.0, 0.0, 0.0, 0.0, 0.0, 0.0, 0.0]}\n"
          ]
        },
        {
          "name": "stderr",
          "output_type": "stream",
          "text": [
            "Train: 100%|██████████| 82/82 [00:24<00:00,  3.33it/s]\n",
            "Epoch 1056\n",
            "Train: 100%|██████████| 82/82 [00:20<00:00,  3.94it/s]\n",
            "Epoch 1057\n",
            "Train: 100%|██████████| 82/82 [00:24<00:00,  3.34it/s]\n",
            "Epoch 1058\n",
            "Train: 100%|██████████| 82/82 [00:20<00:00,  3.93it/s]\n",
            "Epoch 1059\n",
            "Train: 100%|██████████| 82/82 [00:24<00:00,  3.30it/s]\n",
            "Eval : 100%|██████████| 7/7 [00:02<00:00,  3.12it/s]\n",
            "Epoch 1060\n"
          ]
        },
        {
          "name": "stdout",
          "output_type": "stream",
          "text": [
            "Saving model...\n",
            "{'edit_distance': 114.238, '_num_chars': 125.089, '_num_pred_chars': 126.625, 'nsentences': 1.0, '_world_size': 0.007, '_lm_score_sum': 0.0, '_kaldi_score_sum': 0.0, '_word_lm_sum': 0.0, '_num_words': 0.0, '_vocab_seen': [0.007, 0.007, 0.007, 0.007, 0.007, 0.007, 0.0, 0.007, 0.007, 0.007, 0.007, 0.007, 0.007, 0.005, 0.0, 0.007, 0.007, 0.007, 0.007, 0.007, 0.007, 0.007, 0.007, 0.007, 0.0, 0.0, 0.007, 0.0, 0.007, 0.0, 0.007, 0.0, 0.0, 0.007, 0.007, 0.0, 0.007, 0.007, 0.007, 0.0, 0.0, 0.007, 0.0, 0.007, 0.0, 0.0, 0.0, 0.0, 0.007, 0.007, 0.0, 0.0, 0.0, 0.0, 0.0, 0.0, 0.0, 0.0, 0.0, 0.0]}\n"
          ]
        },
        {
          "name": "stderr",
          "output_type": "stream",
          "text": [
            "Train: 100%|██████████| 82/82 [00:20<00:00,  3.95it/s]\n",
            "Epoch 1061\n",
            "Train: 100%|██████████| 82/82 [00:24<00:00,  3.39it/s]\n",
            "Epoch 1062\n",
            "Train: 100%|██████████| 82/82 [00:21<00:00,  3.90it/s]\n",
            "Epoch 1063\n",
            "Train: 100%|██████████| 82/82 [00:24<00:00,  3.36it/s]\n",
            "Epoch 1064\n",
            "Train: 100%|██████████| 82/82 [00:20<00:00,  3.95it/s]\n",
            "Eval : 100%|██████████| 7/7 [00:02<00:00,  3.13it/s]\n",
            "Epoch 1065\n"
          ]
        },
        {
          "name": "stdout",
          "output_type": "stream",
          "text": [
            "Saving model...\n",
            "{'edit_distance': 114.717, '_num_chars': 125.089, '_num_pred_chars': 123.808, 'nsentences': 1.0, '_world_size': 0.007, '_lm_score_sum': 0.0, '_kaldi_score_sum': 0.0, '_word_lm_sum': 0.0, '_num_words': 0.0, '_vocab_seen': [0.007, 0.007, 0.007, 0.007, 0.007, 0.007, 0.001, 0.007, 0.007, 0.0, 0.007, 0.007, 0.007, 0.0, 0.0, 0.007, 0.0, 0.007, 0.007, 0.007, 0.007, 0.007, 0.007, 0.007, 0.0, 0.007, 0.007, 0.0, 0.007, 0.007, 0.007, 0.0, 0.007, 0.007, 0.007, 0.0, 0.007, 0.007, 0.007, 0.007, 0.007, 0.007, 0.0, 0.007, 0.007, 0.0, 0.007, 0.0, 0.007, 0.007, 0.007, 0.0, 0.0, 0.0, 0.0, 0.0, 0.0, 0.0, 0.0, 0.0]}\n"
          ]
        },
        {
          "name": "stderr",
          "output_type": "stream",
          "text": [
            "Train: 100%|██████████| 82/82 [00:24<00:00,  3.34it/s]\n",
            "Epoch 1066\n",
            "Train: 100%|██████████| 82/82 [00:20<00:00,  3.93it/s]\n",
            "Epoch 1067\n",
            "Train: 100%|██████████| 82/82 [00:24<00:00,  3.34it/s]\n",
            "Epoch 1068\n",
            "Train: 100%|██████████| 82/82 [00:20<00:00,  3.94it/s]\n",
            "Epoch 1069\n",
            "Train: 100%|██████████| 82/82 [00:24<00:00,  3.34it/s]\n",
            "Eval : 100%|██████████| 7/7 [00:02<00:00,  3.08it/s]\n",
            "Epoch 1070\n"
          ]
        },
        {
          "name": "stdout",
          "output_type": "stream",
          "text": [
            "Saving model...\n",
            "{'edit_distance': 113.662, '_num_chars': 125.089, '_num_pred_chars': 122.326, 'nsentences': 1.0, '_world_size': 0.007, '_lm_score_sum': 0.0, '_kaldi_score_sum': 0.0, '_word_lm_sum': 0.0, '_num_words': 0.0, '_vocab_seen': [0.007, 0.007, 0.007, 0.007, 0.007, 0.007, 0.007, 0.007, 0.007, 0.007, 0.007, 0.0, 0.007, 0.007, 0.0, 0.007, 0.0, 0.0, 0.007, 0.007, 0.007, 0.007, 0.007, 0.007, 0.007, 0.006, 0.007, 0.0, 0.007, 0.007, 0.007, 0.0, 0.007, 0.007, 0.0, 0.007, 0.007, 0.007, 0.007, 0.007, 0.007, 0.007, 0.0, 0.0, 0.007, 0.0, 0.007, 0.0, 0.0, 0.007, 0.0, 0.0, 0.0, 0.0, 0.0, 0.0, 0.0, 0.0, 0.0, 0.0]}\n"
          ]
        },
        {
          "name": "stderr",
          "output_type": "stream",
          "text": [
            "Train: 100%|██████████| 82/82 [00:20<00:00,  3.92it/s]\n",
            "Epoch 1071\n",
            "Train: 100%|██████████| 82/82 [00:24<00:00,  3.40it/s]\n",
            "Epoch 1072\n",
            "Train: 100%|██████████| 82/82 [00:20<00:00,  3.93it/s]\n",
            "Epoch 1073\n",
            "Train: 100%|██████████| 82/82 [00:24<00:00,  3.35it/s]\n",
            "Epoch 1074\n",
            "Train: 100%|██████████| 82/82 [00:20<00:00,  3.97it/s]\n",
            "Eval : 100%|██████████| 7/7 [00:02<00:00,  3.12it/s]\n",
            "Epoch 1075\n"
          ]
        },
        {
          "name": "stdout",
          "output_type": "stream",
          "text": [
            "Saving model...\n",
            "{'edit_distance': 114.883, '_num_chars': 125.089, '_num_pred_chars': 126.585, 'nsentences': 1.0, '_world_size': 0.007, '_lm_score_sum': 0.0, '_kaldi_score_sum': 0.0, '_word_lm_sum': 0.0, '_num_words': 0.0, '_vocab_seen': [0.007, 0.007, 0.007, 0.007, 0.007, 0.007, 0.0, 0.007, 0.007, 0.0, 0.007, 0.007, 0.007, 0.007, 0.0, 0.007, 0.007, 0.007, 0.007, 0.007, 0.007, 0.007, 0.007, 0.001, 0.0, 0.007, 0.0, 0.0, 0.007, 0.007, 0.007, 0.0, 0.002, 0.007, 0.007, 0.007, 0.007, 0.007, 0.007, 0.0, 0.007, 0.007, 0.0, 0.0, 0.007, 0.007, 0.007, 0.0, 0.0, 0.007, 0.0, 0.0, 0.0, 0.0, 0.0, 0.0, 0.0, 0.0, 0.0, 0.0]}\n"
          ]
        },
        {
          "name": "stderr",
          "output_type": "stream",
          "text": [
            "Train: 100%|██████████| 82/82 [00:24<00:00,  3.33it/s]\n",
            "Epoch 1076\n",
            "Train: 100%|██████████| 82/82 [00:20<00:00,  3.93it/s]\n",
            "Epoch 1077\n",
            "Train: 100%|██████████| 82/82 [00:24<00:00,  3.36it/s]\n",
            "Epoch 1078\n",
            "Train: 100%|██████████| 82/82 [00:20<00:00,  3.91it/s]\n",
            "Epoch 1079\n",
            "Train: 100%|██████████| 82/82 [00:24<00:00,  3.29it/s]\n",
            "Eval : 100%|██████████| 7/7 [00:02<00:00,  3.13it/s]\n",
            "Epoch 1080\n"
          ]
        },
        {
          "name": "stdout",
          "output_type": "stream",
          "text": [
            "Saving model...\n",
            "{'edit_distance': 113.464, '_num_chars': 125.089, '_num_pred_chars': 124.932, 'nsentences': 1.0, '_world_size': 0.007, '_lm_score_sum': 0.0, '_kaldi_score_sum': 0.0, '_word_lm_sum': 0.0, '_num_words': 0.0, '_vocab_seen': [0.007, 0.007, 0.007, 0.007, 0.004, 0.007, 0.0, 0.007, 0.007, 0.007, 0.007, 0.0, 0.007, 0.007, 0.0, 0.007, 0.0, 0.007, 0.007, 0.007, 0.007, 0.007, 0.007, 0.0, 0.0, 0.0, 0.007, 0.0, 0.007, 0.007, 0.007, 0.007, 0.007, 0.0, 0.007, 0.007, 0.007, 0.007, 0.007, 0.0, 0.007, 0.007, 0.007, 0.0, 0.007, 0.0, 0.007, 0.007, 0.007, 0.007, 0.0, 0.0, 0.0, 0.0, 0.0, 0.0, 0.0, 0.0, 0.0, 0.0]}\n"
          ]
        },
        {
          "name": "stderr",
          "output_type": "stream",
          "text": [
            "Train: 100%|██████████| 82/82 [00:20<00:00,  3.95it/s]\n",
            "Epoch 1081\n",
            "Train: 100%|██████████| 82/82 [00:24<00:00,  3.39it/s]\n",
            "Epoch 1082\n",
            "Train: 100%|██████████| 82/82 [00:20<00:00,  3.95it/s]\n",
            "Epoch 1083\n",
            "Train: 100%|██████████| 82/82 [00:24<00:00,  3.32it/s]\n",
            "Epoch 1084\n",
            "Train: 100%|██████████| 82/82 [00:20<00:00,  3.96it/s]\n",
            "Eval : 100%|██████████| 7/7 [00:02<00:00,  3.11it/s]\n",
            "Epoch 1085\n"
          ]
        },
        {
          "name": "stdout",
          "output_type": "stream",
          "text": [
            "Saving model...\n",
            "{'edit_distance': 111.449, '_num_chars': 125.089, '_num_pred_chars': 119.523, 'nsentences': 1.0, '_world_size': 0.007, '_lm_score_sum': 0.0, '_kaldi_score_sum': 0.0, '_word_lm_sum': 0.0, '_num_words': 0.0, '_vocab_seen': [0.007, 0.007, 0.007, 0.007, 0.007, 0.007, 0.0, 0.007, 0.007, 0.0, 0.007, 0.007, 0.007, 0.007, 0.0, 0.007, 0.007, 0.007, 0.007, 0.007, 0.007, 0.007, 0.007, 0.0, 0.007, 0.007, 0.007, 0.003, 0.007, 0.007, 0.007, 0.007, 0.007, 0.0, 0.007, 0.007, 0.007, 0.007, 0.007, 0.0, 0.007, 0.007, 0.0, 0.0, 0.007, 0.007, 0.007, 0.007, 0.0, 0.007, 0.0, 0.0, 0.0, 0.0, 0.0, 0.0, 0.0, 0.0, 0.0, 0.0]}\n"
          ]
        },
        {
          "name": "stderr",
          "output_type": "stream",
          "text": [
            "Train: 100%|██████████| 82/82 [00:24<00:00,  3.36it/s]\n",
            "Epoch 1086\n",
            "Train: 100%|██████████| 82/82 [00:20<00:00,  3.95it/s]\n",
            "Epoch 1087\n",
            "Train: 100%|██████████| 82/82 [00:24<00:00,  3.38it/s]\n",
            "Epoch 1088\n",
            "Train: 100%|██████████| 82/82 [00:20<00:00,  3.93it/s]\n",
            "Epoch 1089\n",
            "Train: 100%|██████████| 82/82 [00:23<00:00,  3.42it/s]\n",
            "Eval : 100%|██████████| 7/7 [00:02<00:00,  3.07it/s]\n",
            "Epoch 1090\n"
          ]
        },
        {
          "name": "stdout",
          "output_type": "stream",
          "text": [
            "Saving model...\n",
            "{'edit_distance': 110.516, '_num_chars': 125.089, '_num_pred_chars': 115.098, 'nsentences': 1.0, '_world_size': 0.007, '_lm_score_sum': 0.0, '_kaldi_score_sum': 0.0, '_word_lm_sum': 0.0, '_num_words': 0.0, '_vocab_seen': [0.007, 0.007, 0.007, 0.007, 0.007, 0.007, 0.0, 0.007, 0.007, 0.007, 0.007, 0.007, 0.007, 0.007, 0.007, 0.007, 0.0, 0.007, 0.007, 0.007, 0.007, 0.007, 0.007, 0.007, 0.007, 0.007, 0.007, 0.0, 0.007, 0.007, 0.007, 0.007, 0.007, 0.0, 0.007, 0.007, 0.002, 0.007, 0.007, 0.0, 0.007, 0.007, 0.007, 0.0, 0.007, 0.007, 0.007, 0.007, 0.0, 0.007, 0.0, 0.0, 0.0, 0.0, 0.0, 0.0, 0.0, 0.0, 0.0, 0.0]}\n"
          ]
        },
        {
          "name": "stderr",
          "output_type": "stream",
          "text": [
            "Train: 100%|██████████| 82/82 [00:20<00:00,  3.92it/s]\n",
            "Epoch 1091\n",
            "Train: 100%|██████████| 82/82 [00:24<00:00,  3.33it/s]\n",
            "Epoch 1092\n",
            "Train: 100%|██████████| 82/82 [00:20<00:00,  3.96it/s]\n",
            "Epoch 1093\n",
            "Train: 100%|██████████| 82/82 [00:24<00:00,  3.37it/s]\n",
            "Epoch 1094\n",
            "Train: 100%|██████████| 82/82 [00:20<00:00,  3.92it/s]\n",
            "Eval : 100%|██████████| 7/7 [00:02<00:00,  3.03it/s]\n",
            "Epoch 1095\n"
          ]
        },
        {
          "name": "stdout",
          "output_type": "stream",
          "text": [
            "Saving model...\n",
            "{'edit_distance': 112.916, '_num_chars': 125.089, '_num_pred_chars': 125.158, 'nsentences': 1.0, '_world_size': 0.007, '_lm_score_sum': 0.0, '_kaldi_score_sum': 0.0, '_word_lm_sum': 0.0, '_num_words': 0.0, '_vocab_seen': [0.007, 0.007, 0.007, 0.007, 0.007, 0.007, 0.002, 0.007, 0.007, 0.0, 0.007, 0.001, 0.007, 0.007, 0.0, 0.007, 0.0, 0.007, 0.007, 0.007, 0.007, 0.007, 0.007, 0.007, 0.007, 0.007, 0.007, 0.007, 0.007, 0.007, 0.007, 0.007, 0.0, 0.007, 0.007, 0.007, 0.0, 0.007, 0.007, 0.0, 0.0, 0.007, 0.007, 0.0, 0.007, 0.007, 0.0, 0.001, 0.0, 0.0, 0.0, 0.0, 0.0, 0.0, 0.0, 0.0, 0.0, 0.0, 0.0, 0.0]}\n"
          ]
        },
        {
          "name": "stderr",
          "output_type": "stream",
          "text": [
            "Train: 100%|██████████| 82/82 [00:24<00:00,  3.35it/s]\n",
            "Epoch 1096\n",
            "Train: 100%|██████████| 82/82 [00:20<00:00,  3.95it/s]\n",
            "Epoch 1097\n",
            "Train: 100%|██████████| 82/82 [00:23<00:00,  3.43it/s]\n",
            "Epoch 1098\n",
            "Train: 100%|██████████| 82/82 [00:20<00:00,  3.94it/s]\n",
            "Epoch 1099\n",
            "Train: 100%|██████████| 82/82 [00:24<00:00,  3.34it/s]\n",
            "Eval : 100%|██████████| 7/7 [00:02<00:00,  3.13it/s]\n",
            "Epoch 1100\n"
          ]
        },
        {
          "name": "stdout",
          "output_type": "stream",
          "text": [
            "Saving model...\n",
            "{'edit_distance': 113.585, '_num_chars': 125.089, '_num_pred_chars': 128.334, 'nsentences': 1.0, '_world_size': 0.007, '_lm_score_sum': 0.0, '_kaldi_score_sum': 0.0, '_word_lm_sum': 0.0, '_num_words': 0.0, '_vocab_seen': [0.007, 0.007, 0.007, 0.007, 0.007, 0.007, 0.0, 0.007, 0.007, 0.0, 0.007, 0.0, 0.007, 0.007, 0.0, 0.007, 0.002, 0.007, 0.007, 0.007, 0.007, 0.007, 0.007, 0.007, 0.0, 0.0, 0.003, 0.0, 0.007, 0.007, 0.007, 0.007, 0.007, 0.007, 0.007, 0.0, 0.007, 0.007, 0.007, 0.0, 0.007, 0.007, 0.0, 0.007, 0.007, 0.007, 0.0, 0.0, 0.007, 0.0, 0.0, 0.0, 0.0, 0.0, 0.0, 0.0, 0.0, 0.0, 0.0, 0.0]}\n"
          ]
        },
        {
          "name": "stderr",
          "output_type": "stream",
          "text": [
            "Train: 100%|██████████| 82/82 [00:20<00:00,  3.94it/s]\n",
            "Epoch 1101\n",
            "Train: 100%|██████████| 82/82 [00:24<00:00,  3.34it/s]\n",
            "Epoch 1102\n",
            "Train: 100%|██████████| 82/82 [00:20<00:00,  3.93it/s]\n",
            "Epoch 1103\n",
            "Train: 100%|██████████| 82/82 [00:24<00:00,  3.36it/s]\n",
            "Epoch 1104\n",
            "Train: 100%|██████████| 82/82 [00:20<00:00,  3.95it/s]\n",
            "Eval : 100%|██████████| 7/7 [00:02<00:00,  3.05it/s]\n",
            "Epoch 1105\n"
          ]
        },
        {
          "name": "stdout",
          "output_type": "stream",
          "text": [
            "Saving model...\n",
            "{'edit_distance': 111.462, '_num_chars': 125.089, '_num_pred_chars': 118.268, 'nsentences': 1.0, '_world_size': 0.007, '_lm_score_sum': 0.0, '_kaldi_score_sum': 0.0, '_word_lm_sum': 0.0, '_num_words': 0.0, '_vocab_seen': [0.007, 0.007, 0.007, 0.007, 0.007, 0.007, 0.0, 0.007, 0.007, 0.007, 0.007, 0.006, 0.007, 0.0, 0.007, 0.007, 0.0, 0.007, 0.007, 0.007, 0.007, 0.007, 0.007, 0.007, 0.007, 0.0, 0.007, 0.007, 0.007, 0.007, 0.007, 0.007, 0.007, 0.007, 0.007, 0.0, 0.007, 0.007, 0.007, 0.007, 0.007, 0.007, 0.0, 0.007, 0.007, 0.0, 0.0, 0.0, 0.007, 0.0, 0.0, 0.0, 0.0, 0.0, 0.0, 0.0, 0.0, 0.0, 0.0, 0.0]}\n"
          ]
        },
        {
          "name": "stderr",
          "output_type": "stream",
          "text": [
            "Train: 100%|██████████| 82/82 [00:24<00:00,  3.40it/s]\n",
            "Epoch 1106\n",
            "Train: 100%|██████████| 82/82 [00:20<00:00,  3.93it/s]\n",
            "Epoch 1107\n",
            "Train: 100%|██████████| 82/82 [00:24<00:00,  3.38it/s]\n",
            "Epoch 1108\n",
            "Train: 100%|██████████| 82/82 [00:20<00:00,  3.98it/s]\n",
            "Epoch 1109\n",
            "Train: 100%|██████████| 82/82 [00:24<00:00,  3.35it/s]\n",
            "Eval : 100%|██████████| 7/7 [00:02<00:00,  3.07it/s]\n",
            "Epoch 1110\n"
          ]
        },
        {
          "name": "stdout",
          "output_type": "stream",
          "text": [
            "Saving model...\n",
            "{'edit_distance': 113.45, '_num_chars': 125.089, '_num_pred_chars': 118.653, 'nsentences': 1.0, '_world_size': 0.007, '_lm_score_sum': 0.0, '_kaldi_score_sum': 0.0, '_word_lm_sum': 0.0, '_num_words': 0.0, '_vocab_seen': [0.007, 0.007, 0.007, 0.007, 0.007, 0.007, 0.007, 0.007, 0.007, 0.007, 0.007, 0.007, 0.007, 0.007, 0.0, 0.007, 0.007, 0.007, 0.007, 0.007, 0.007, 0.007, 0.007, 0.007, 0.0, 0.0, 0.007, 0.0, 0.007, 0.007, 0.007, 0.006, 0.007, 0.007, 0.007, 0.0, 0.007, 0.007, 0.007, 0.007, 0.007, 0.007, 0.004, 0.007, 0.007, 0.0, 0.0, 0.0, 0.007, 0.0, 0.0, 0.007, 0.0, 0.0, 0.0, 0.0, 0.0, 0.0, 0.0, 0.0]}\n"
          ]
        },
        {
          "name": "stderr",
          "output_type": "stream",
          "text": [
            "Train: 100%|██████████| 82/82 [00:20<00:00,  3.95it/s]\n",
            "Epoch 1111\n",
            "Train: 100%|██████████| 82/82 [00:24<00:00,  3.38it/s]\n",
            "Epoch 1112\n",
            "Train: 100%|██████████| 82/82 [00:20<00:00,  3.94it/s]\n",
            "Epoch 1113\n",
            "Train: 100%|██████████| 82/82 [00:24<00:00,  3.34it/s]\n",
            "Epoch 1114\n",
            "Train: 100%|██████████| 82/82 [00:20<00:00,  3.95it/s]\n",
            "Eval : 100%|██████████| 7/7 [00:02<00:00,  3.07it/s]\n",
            "Epoch 1115\n"
          ]
        },
        {
          "name": "stdout",
          "output_type": "stream",
          "text": [
            "Saving model...\n",
            "{'edit_distance': 113.009, '_num_chars': 125.089, '_num_pred_chars': 122.659, 'nsentences': 1.0, '_world_size': 0.007, '_lm_score_sum': 0.0, '_kaldi_score_sum': 0.0, '_word_lm_sum': 0.0, '_num_words': 0.0, '_vocab_seen': [0.007, 0.007, 0.007, 0.007, 0.007, 0.007, 0.0, 0.007, 0.007, 0.007, 0.007, 0.007, 0.007, 0.007, 0.0, 0.006, 0.0, 0.007, 0.007, 0.007, 0.007, 0.007, 0.007, 0.007, 0.007, 0.001, 0.007, 0.0, 0.007, 0.004, 0.007, 0.007, 0.0, 0.007, 0.007, 0.0, 0.007, 0.007, 0.007, 0.007, 0.0, 0.007, 0.007, 0.0, 0.007, 0.0, 0.0, 0.0, 0.0, 0.0, 0.0, 0.007, 0.0, 0.0, 0.0, 0.0, 0.0, 0.0, 0.0, 0.0]}\n"
          ]
        },
        {
          "name": "stderr",
          "output_type": "stream",
          "text": [
            "Train: 100%|██████████| 82/82 [00:24<00:00,  3.34it/s]\n",
            "Epoch 1116\n",
            "Train: 100%|██████████| 82/82 [00:20<00:00,  3.94it/s]\n",
            "Epoch 1117\n",
            "Train: 100%|██████████| 82/82 [00:24<00:00,  3.34it/s]\n",
            "Epoch 1118\n",
            "Train: 100%|██████████| 82/82 [00:20<00:00,  3.96it/s]\n",
            "Epoch 1119\n",
            "Train: 100%|██████████| 82/82 [00:24<00:00,  3.38it/s]\n",
            "Eval : 100%|██████████| 7/7 [00:02<00:00,  3.11it/s]\n",
            "Epoch 1120\n"
          ]
        },
        {
          "name": "stdout",
          "output_type": "stream",
          "text": [
            "Saving model...\n",
            "{'edit_distance': 111.138, '_num_chars': 125.089, '_num_pred_chars': 118.762, 'nsentences': 1.0, '_world_size': 0.007, '_lm_score_sum': 0.0, '_kaldi_score_sum': 0.0, '_word_lm_sum': 0.0, '_num_words': 0.0, '_vocab_seen': [0.007, 0.007, 0.007, 0.007, 0.0, 0.007, 0.0, 0.007, 0.007, 0.007, 0.007, 0.007, 0.007, 0.007, 0.0, 0.007, 0.001, 0.007, 0.002, 0.007, 0.007, 0.007, 0.007, 0.007, 0.0, 0.0, 0.007, 0.0, 0.007, 0.0, 0.0, 0.0, 0.0, 0.0, 0.007, 0.0, 0.0, 0.007, 0.007, 0.0, 0.0, 0.007, 0.007, 0.0, 0.007, 0.0, 0.007, 0.0, 0.0, 0.0, 0.007, 0.0, 0.0, 0.0, 0.007, 0.0, 0.0, 0.0, 0.0, 0.0]}\n"
          ]
        },
        {
          "name": "stderr",
          "output_type": "stream",
          "text": [
            "Train: 100%|██████████| 82/82 [00:20<00:00,  3.96it/s]\n",
            "Epoch 1121\n",
            "Train: 100%|██████████| 82/82 [00:23<00:00,  3.42it/s]\n",
            "Epoch 1122\n",
            "Train: 100%|██████████| 82/82 [00:20<00:00,  3.94it/s]\n",
            "Epoch 1123\n",
            "Train: 100%|██████████| 82/82 [00:24<00:00,  3.36it/s]\n",
            "Epoch 1124\n",
            "Train: 100%|██████████| 82/82 [00:20<00:00,  3.94it/s]\n",
            "Eval : 100%|██████████| 7/7 [00:02<00:00,  3.08it/s]\n",
            "Epoch 1125\n"
          ]
        },
        {
          "name": "stdout",
          "output_type": "stream",
          "text": [
            "Saving model...\n",
            "{'edit_distance': 109.969, '_num_chars': 125.089, '_num_pred_chars': 112.304, 'nsentences': 1.0, '_world_size': 0.007, '_lm_score_sum': 0.0, '_kaldi_score_sum': 0.0, '_word_lm_sum': 0.0, '_num_words': 0.0, '_vocab_seen': [0.007, 0.007, 0.007, 0.007, 0.007, 0.007, 0.001, 0.007, 0.007, 0.007, 0.007, 0.007, 0.007, 0.007, 0.0, 0.007, 0.0, 0.007, 0.007, 0.007, 0.007, 0.007, 0.007, 0.007, 0.0, 0.0, 0.0, 0.0, 0.007, 0.007, 0.0, 0.0, 0.007, 0.0, 0.007, 0.0, 0.0, 0.007, 0.0, 0.0, 0.007, 0.007, 0.007, 0.0, 0.0, 0.0, 0.007, 0.0, 0.0, 0.0, 0.0, 0.0, 0.007, 0.0, 0.007, 0.0, 0.0, 0.0, 0.0, 0.0]}\n"
          ]
        },
        {
          "name": "stderr",
          "output_type": "stream",
          "text": [
            "Train: 100%|██████████| 82/82 [00:24<00:00,  3.36it/s]\n",
            "Epoch 1126\n",
            "Train: 100%|██████████| 82/82 [00:20<00:00,  3.92it/s]\n",
            "Epoch 1127\n",
            "Train: 100%|██████████| 82/82 [00:24<00:00,  3.40it/s]\n",
            "Epoch 1128\n",
            "Train: 100%|██████████| 82/82 [00:20<00:00,  3.93it/s]\n",
            "Epoch 1129\n",
            "Train: 100%|██████████| 82/82 [00:24<00:00,  3.37it/s]\n",
            "Eval : 100%|██████████| 7/7 [00:02<00:00,  3.08it/s]\n",
            "Epoch 1130\n"
          ]
        },
        {
          "name": "stdout",
          "output_type": "stream",
          "text": [
            "Saving model...\n",
            "{'edit_distance': 112.449, '_num_chars': 125.089, '_num_pred_chars': 120.842, 'nsentences': 1.0, '_world_size': 0.007, '_lm_score_sum': 0.0, '_kaldi_score_sum': 0.0, '_word_lm_sum': 0.0, '_num_words': 0.0, '_vocab_seen': [0.007, 0.007, 0.007, 0.007, 0.0, 0.007, 0.0, 0.007, 0.007, 0.007, 0.007, 0.007, 0.007, 0.007, 0.0, 0.007, 0.004, 0.007, 0.007, 0.007, 0.007, 0.007, 0.007, 0.007, 0.003, 0.007, 0.0, 0.007, 0.007, 0.001, 0.007, 0.0, 0.007, 0.007, 0.007, 0.0, 0.0, 0.007, 0.0, 0.0, 0.007, 0.007, 0.007, 0.0, 0.0, 0.0, 0.007, 0.0, 0.0, 0.0, 0.0, 0.0, 0.007, 0.0, 0.007, 0.0, 0.0, 0.0, 0.0, 0.0]}\n"
          ]
        },
        {
          "name": "stderr",
          "output_type": "stream",
          "text": [
            "Train: 100%|██████████| 82/82 [00:20<00:00,  3.95it/s]\n",
            "Epoch 1131\n",
            "Train: 100%|██████████| 82/82 [00:23<00:00,  3.43it/s]\n",
            "Epoch 1132\n",
            "Train: 100%|██████████| 82/82 [00:20<00:00,  3.93it/s]\n",
            "Epoch 1133\n",
            "Train: 100%|██████████| 82/82 [00:24<00:00,  3.37it/s]\n",
            "Epoch 1134\n",
            "Train: 100%|██████████| 82/82 [00:20<00:00,  3.96it/s]\n",
            "Eval : 100%|██████████| 7/7 [00:02<00:00,  3.04it/s]\n",
            "Epoch 1135\n"
          ]
        },
        {
          "name": "stdout",
          "output_type": "stream",
          "text": [
            "Saving model...\n",
            "{'edit_distance': 110.574, '_num_chars': 125.089, '_num_pred_chars': 117.532, 'nsentences': 1.0, '_world_size': 0.007, '_lm_score_sum': 0.0, '_kaldi_score_sum': 0.0, '_word_lm_sum': 0.0, '_num_words': 0.0, '_vocab_seen': [0.007, 0.007, 0.007, 0.007, 0.007, 0.007, 0.007, 0.007, 0.007, 0.0, 0.007, 0.007, 0.007, 0.007, 0.004, 0.007, 0.0, 0.007, 0.007, 0.007, 0.007, 0.007, 0.007, 0.007, 0.001, 0.0, 0.007, 0.007, 0.007, 0.0, 0.007, 0.0, 0.007, 0.007, 0.007, 0.0, 0.007, 0.007, 0.007, 0.0, 0.007, 0.007, 0.0, 0.007, 0.0, 0.0, 0.007, 0.0, 0.0, 0.0, 0.0, 0.0, 0.0, 0.0, 0.007, 0.007, 0.0, 0.0, 0.0, 0.0]}\n"
          ]
        },
        {
          "name": "stderr",
          "output_type": "stream",
          "text": [
            "Train: 100%|██████████| 82/82 [00:24<00:00,  3.36it/s]\n",
            "Epoch 1136\n",
            "Train: 100%|██████████| 82/82 [00:20<00:00,  3.94it/s]\n",
            "Epoch 1137\n",
            "Train: 100%|██████████| 82/82 [00:24<00:00,  3.36it/s]\n",
            "Epoch 1138\n",
            "Train: 100%|██████████| 82/82 [00:20<00:00,  3.96it/s]\n",
            "Epoch 1139\n",
            "Train: 100%|██████████| 82/82 [00:24<00:00,  3.36it/s]\n",
            "Eval : 100%|██████████| 7/7 [00:02<00:00,  3.15it/s]\n",
            "Epoch 1140\n"
          ]
        },
        {
          "name": "stdout",
          "output_type": "stream",
          "text": [
            "Saving model...\n",
            "{'edit_distance': 113.152, '_num_chars': 125.089, '_num_pred_chars': 118.902, 'nsentences': 1.0, '_world_size': 0.007, '_lm_score_sum': 0.0, '_kaldi_score_sum': 0.0, '_word_lm_sum': 0.0, '_num_words': 0.0, '_vocab_seen': [0.007, 0.007, 0.007, 0.007, 0.0, 0.007, 0.0, 0.007, 0.007, 0.007, 0.007, 0.0, 0.007, 0.007, 0.0, 0.007, 0.0, 0.007, 0.007, 0.007, 0.007, 0.007, 0.007, 0.007, 0.0, 0.007, 0.007, 0.007, 0.007, 0.0, 0.007, 0.007, 0.006, 0.007, 0.007, 0.007, 0.0, 0.007, 0.007, 0.0, 0.001, 0.007, 0.0, 0.0, 0.0, 0.007, 0.007, 0.0, 0.0, 0.0, 0.0, 0.0, 0.0, 0.0, 0.007, 0.0, 0.0, 0.0, 0.0, 0.0]}\n"
          ]
        },
        {
          "name": "stderr",
          "output_type": "stream",
          "text": [
            "Train: 100%|██████████| 82/82 [00:20<00:00,  3.91it/s]\n",
            "Epoch 1141\n",
            "Train: 100%|██████████| 82/82 [00:24<00:00,  3.28it/s]\n",
            "Epoch 1142\n",
            "Train: 100%|██████████| 82/82 [00:20<00:00,  3.97it/s]\n",
            "Epoch 1143\n",
            "Train: 100%|██████████| 82/82 [00:24<00:00,  3.38it/s]\n",
            "Epoch 1144\n",
            "Train: 100%|██████████| 82/82 [00:20<00:00,  3.94it/s]\n",
            "Eval : 100%|██████████| 7/7 [00:02<00:00,  3.09it/s]\n",
            "Epoch 1145\n"
          ]
        },
        {
          "name": "stdout",
          "output_type": "stream",
          "text": [
            "Saving model...\n",
            "{'edit_distance': 111.041, '_num_chars': 125.089, '_num_pred_chars': 118.587, 'nsentences': 1.0, '_world_size': 0.007, '_lm_score_sum': 0.0, '_kaldi_score_sum': 0.0, '_word_lm_sum': 0.0, '_num_words': 0.0, '_vocab_seen': [0.007, 0.007, 0.007, 0.007, 0.005, 0.007, 0.003, 0.007, 0.007, 0.0, 0.007, 0.007, 0.007, 0.007, 0.0, 0.007, 0.0, 0.007, 0.007, 0.007, 0.007, 0.007, 0.007, 0.007, 0.0, 0.007, 0.007, 0.007, 0.007, 0.007, 0.007, 0.0, 0.007, 0.0, 0.007, 0.007, 0.007, 0.007, 0.007, 0.0, 0.0, 0.007, 0.0, 0.0, 0.007, 0.007, 0.0, 0.0, 0.0, 0.0, 0.0, 0.0, 0.0, 0.0, 0.0, 0.0, 0.0, 0.0, 0.0, 0.0]}\n"
          ]
        },
        {
          "name": "stderr",
          "output_type": "stream",
          "text": [
            "Train: 100%|██████████| 82/82 [00:24<00:00,  3.36it/s]\n",
            "Epoch 1146\n",
            "Train: 100%|██████████| 82/82 [00:20<00:00,  3.96it/s]\n",
            "Epoch 1147\n",
            "Train: 100%|██████████| 82/82 [00:24<00:00,  3.37it/s]\n",
            "Epoch 1148\n",
            "Train: 100%|██████████| 82/82 [00:21<00:00,  3.90it/s]\n",
            "Epoch 1149\n",
            "Train: 100%|██████████| 82/82 [00:24<00:00,  3.37it/s]\n",
            "Eval : 100%|██████████| 7/7 [00:02<00:00,  3.01it/s]\n",
            "Epoch 1150\n"
          ]
        },
        {
          "name": "stdout",
          "output_type": "stream",
          "text": [
            "Saving model...\n",
            "{'edit_distance': 111.075, '_num_chars': 125.089, '_num_pred_chars': 118.133, 'nsentences': 1.0, '_world_size': 0.007, '_lm_score_sum': 0.0, '_kaldi_score_sum': 0.0, '_word_lm_sum': 0.0, '_num_words': 0.0, '_vocab_seen': [0.007, 0.007, 0.007, 0.007, 0.007, 0.007, 0.0, 0.007, 0.007, 0.007, 0.007, 0.0, 0.007, 0.007, 0.0, 0.007, 0.0, 0.007, 0.007, 0.007, 0.007, 0.007, 0.007, 0.002, 0.007, 0.007, 0.007, 0.007, 0.007, 0.006, 0.007, 0.0, 0.0, 0.0, 0.007, 0.007, 0.007, 0.0, 0.005, 0.007, 0.007, 0.007, 0.0, 0.0, 0.0, 0.007, 0.0, 0.0, 0.006, 0.0, 0.0, 0.0, 0.0, 0.0, 0.0, 0.0, 0.0, 0.0, 0.0, 0.0]}\n"
          ]
        },
        {
          "name": "stderr",
          "output_type": "stream",
          "text": [
            "Train: 100%|██████████| 82/82 [00:20<00:00,  3.95it/s]\n",
            "Epoch 1151\n",
            "Train: 100%|██████████| 82/82 [00:24<00:00,  3.37it/s]\n",
            "Epoch 1152\n",
            "Train: 100%|██████████| 82/82 [00:20<00:00,  3.97it/s]\n",
            "Epoch 1153\n",
            "Train: 100%|██████████| 82/82 [00:24<00:00,  3.36it/s]\n",
            "Epoch 1154\n",
            "Train: 100%|██████████| 82/82 [00:20<00:00,  3.93it/s]\n",
            "Eval : 100%|██████████| 7/7 [00:02<00:00,  3.11it/s]\n",
            "Epoch 1155\n"
          ]
        },
        {
          "name": "stdout",
          "output_type": "stream",
          "text": [
            "Saving model...\n",
            "{'edit_distance': 111.195, '_num_chars': 125.089, '_num_pred_chars': 117.135, 'nsentences': 1.0, '_world_size': 0.007, '_lm_score_sum': 0.0, '_kaldi_score_sum': 0.0, '_word_lm_sum': 0.0, '_num_words': 0.0, '_vocab_seen': [0.007, 0.007, 0.007, 0.007, 0.0, 0.007, 0.0, 0.007, 0.007, 0.0, 0.007, 0.007, 0.007, 0.007, 0.004, 0.007, 0.007, 0.007, 0.007, 0.007, 0.007, 0.007, 0.007, 0.007, 0.0, 0.007, 0.007, 0.007, 0.007, 0.0, 0.007, 0.0, 0.0, 0.007, 0.007, 0.007, 0.007, 0.0, 0.007, 0.007, 0.007, 0.007, 0.0, 0.0, 0.0, 0.007, 0.0, 0.0, 0.006, 0.0, 0.0, 0.007, 0.0, 0.0, 0.0, 0.0, 0.0, 0.0, 0.0, 0.0]}\n"
          ]
        },
        {
          "name": "stderr",
          "output_type": "stream",
          "text": [
            "Train: 100%|██████████| 82/82 [00:24<00:00,  3.36it/s]\n",
            "Epoch 1156\n",
            "Train: 100%|██████████| 82/82 [00:20<00:00,  3.94it/s]\n",
            "Epoch 1157\n",
            "Train: 100%|██████████| 82/82 [00:24<00:00,  3.37it/s]\n",
            "Epoch 1158\n",
            "Train: 100%|██████████| 82/82 [00:20<00:00,  3.95it/s]\n",
            "Epoch 1159\n",
            "Train: 100%|██████████| 82/82 [00:24<00:00,  3.37it/s]\n",
            "Eval : 100%|██████████| 7/7 [00:02<00:00,  3.05it/s]\n",
            "Epoch 1160\n"
          ]
        },
        {
          "name": "stdout",
          "output_type": "stream",
          "text": [
            "Saving model...\n",
            "{'edit_distance': 108.935, '_num_chars': 125.089, '_num_pred_chars': 113.693, 'nsentences': 1.0, '_world_size': 0.007, '_lm_score_sum': 0.0, '_kaldi_score_sum': 0.0, '_word_lm_sum': 0.0, '_num_words': 0.0, '_vocab_seen': [0.007, 0.007, 0.007, 0.007, 0.007, 0.007, 0.0, 0.007, 0.007, 0.007, 0.007, 0.003, 0.007, 0.007, 0.0, 0.007, 0.0, 0.007, 0.007, 0.007, 0.007, 0.007, 0.007, 0.0, 0.007, 0.007, 0.007, 0.007, 0.007, 0.0, 0.007, 0.007, 0.0, 0.0, 0.007, 0.007, 0.003, 0.007, 0.007, 0.007, 0.007, 0.007, 0.007, 0.0, 0.0, 0.007, 0.0, 0.0, 0.006, 0.0, 0.0, 0.007, 0.0, 0.0, 0.0, 0.0, 0.0, 0.0, 0.0, 0.0]}\n"
          ]
        },
        {
          "name": "stderr",
          "output_type": "stream",
          "text": [
            "Train: 100%|██████████| 82/82 [00:20<00:00,  3.94it/s]\n",
            "Epoch 1161\n",
            "Train: 100%|██████████| 82/82 [00:24<00:00,  3.38it/s]\n",
            "Epoch 1162\n",
            "Train: 100%|██████████| 82/82 [00:20<00:00,  3.96it/s]\n",
            "Epoch 1163\n",
            "Train: 100%|██████████| 82/82 [00:24<00:00,  3.36it/s]\n",
            "Epoch 1164\n",
            "Train: 100%|██████████| 82/82 [00:20<00:00,  3.96it/s]\n",
            "Eval : 100%|██████████| 7/7 [00:02<00:00,  3.03it/s]\n",
            "Epoch 1165\n"
          ]
        },
        {
          "name": "stdout",
          "output_type": "stream",
          "text": [
            "Saving model...\n",
            "{'edit_distance': 109.726, '_num_chars': 125.089, '_num_pred_chars': 114.047, 'nsentences': 1.0, '_world_size': 0.007, '_lm_score_sum': 0.0, '_kaldi_score_sum': 0.0, '_word_lm_sum': 0.0, '_num_words': 0.0, '_vocab_seen': [0.007, 0.007, 0.007, 0.007, 0.007, 0.007, 0.0, 0.007, 0.007, 0.007, 0.007, 0.0, 0.007, 0.007, 0.0, 0.007, 0.007, 0.007, 0.007, 0.007, 0.007, 0.007, 0.007, 0.007, 0.0, 0.007, 0.007, 0.007, 0.007, 0.003, 0.007, 0.0, 0.007, 0.0, 0.007, 0.007, 0.0, 0.007, 0.007, 0.0, 0.007, 0.007, 0.0, 0.004, 0.0, 0.006, 0.0, 0.0, 0.007, 0.0, 0.0, 0.007, 0.0, 0.0, 0.0, 0.0, 0.0, 0.0, 0.0, 0.0]}\n"
          ]
        },
        {
          "name": "stderr",
          "output_type": "stream",
          "text": [
            "Train: 100%|██████████| 82/82 [00:24<00:00,  3.38it/s]\n",
            "Epoch 1166\n",
            "Train: 100%|██████████| 82/82 [00:20<00:00,  3.96it/s]\n",
            "Epoch 1167\n",
            "Train: 100%|██████████| 82/82 [00:23<00:00,  3.43it/s]\n",
            "Epoch 1168\n",
            "Train: 100%|██████████| 82/82 [00:20<00:00,  3.95it/s]\n",
            "Epoch 1169\n",
            "Train: 100%|██████████| 82/82 [00:24<00:00,  3.38it/s]\n",
            "Eval : 100%|██████████| 7/7 [00:02<00:00,  3.06it/s]\n",
            "Epoch 1170\n"
          ]
        },
        {
          "name": "stdout",
          "output_type": "stream",
          "text": [
            "Saving model...\n",
            "{'edit_distance': 111.603, '_num_chars': 125.089, '_num_pred_chars': 119.538, 'nsentences': 1.0, '_world_size': 0.007, '_lm_score_sum': 0.0, '_kaldi_score_sum': 0.0, '_word_lm_sum': 0.0, '_num_words': 0.0, '_vocab_seen': [0.007, 0.007, 0.007, 0.007, 0.007, 0.007, 0.007, 0.007, 0.007, 0.007, 0.007, 0.005, 0.007, 0.007, 0.0, 0.007, 0.0, 0.007, 0.007, 0.007, 0.007, 0.007, 0.007, 0.007, 0.0, 0.007, 0.007, 0.007, 0.007, 0.0, 0.007, 0.0, 0.007, 0.0, 0.007, 0.007, 0.007, 0.007, 0.007, 0.0, 0.001, 0.007, 0.0, 0.0, 0.0, 0.0, 0.0, 0.0, 0.007, 0.0, 0.0, 0.0, 0.0, 0.0, 0.0, 0.007, 0.0, 0.0, 0.0, 0.0]}\n"
          ]
        },
        {
          "name": "stderr",
          "output_type": "stream",
          "text": [
            "Train: 100%|██████████| 82/82 [00:20<00:00,  3.93it/s]\n",
            "Epoch 1171\n",
            "Train: 100%|██████████| 82/82 [00:24<00:00,  3.38it/s]\n",
            "Epoch 1172\n",
            "Train: 100%|██████████| 82/82 [00:20<00:00,  3.92it/s]\n",
            "Epoch 1173\n",
            "Train: 100%|██████████| 82/82 [00:24<00:00,  3.37it/s]\n",
            "Epoch 1174\n",
            "Train: 100%|██████████| 82/82 [00:20<00:00,  3.96it/s]\n",
            "Eval : 100%|██████████| 7/7 [00:02<00:00,  3.14it/s]\n",
            "Epoch 1175\n"
          ]
        },
        {
          "name": "stdout",
          "output_type": "stream",
          "text": [
            "Saving model...\n",
            "{'edit_distance': 108.404, '_num_chars': 125.089, '_num_pred_chars': 110.569, 'nsentences': 1.0, '_world_size': 0.007, '_lm_score_sum': 0.0, '_kaldi_score_sum': 0.0, '_word_lm_sum': 0.0, '_num_words': 0.0, '_vocab_seen': [0.007, 0.007, 0.007, 0.007, 0.007, 0.007, 0.0, 0.006, 0.007, 0.003, 0.007, 0.007, 0.007, 0.002, 0.007, 0.007, 0.007, 0.007, 0.0, 0.007, 0.007, 0.007, 0.007, 0.007, 0.007, 0.007, 0.007, 0.0, 0.007, 0.0, 0.007, 0.007, 0.007, 0.007, 0.007, 0.007, 0.007, 0.007, 0.007, 0.0, 0.0, 0.007, 0.0, 0.007, 0.0, 0.007, 0.0, 0.0, 0.0, 0.0, 0.0, 0.0, 0.0, 0.0, 0.0, 0.006, 0.0, 0.0, 0.0, 0.0]}\n"
          ]
        },
        {
          "name": "stderr",
          "output_type": "stream",
          "text": [
            "Train: 100%|██████████| 82/82 [00:24<00:00,  3.42it/s]\n",
            "Epoch 1176\n",
            "Train: 100%|██████████| 82/82 [00:20<00:00,  3.95it/s]\n",
            "Epoch 1177\n",
            "Train: 100%|██████████| 82/82 [00:24<00:00,  3.34it/s]\n",
            "Epoch 1178\n",
            "Train: 100%|██████████| 82/82 [00:20<00:00,  3.94it/s]\n",
            "Epoch 1179\n",
            "Train: 100%|██████████| 82/82 [00:24<00:00,  3.39it/s]\n",
            "Eval : 100%|██████████| 7/7 [00:02<00:00,  3.06it/s]\n",
            "Epoch 1180\n"
          ]
        },
        {
          "name": "stdout",
          "output_type": "stream",
          "text": [
            "Saving model...\n",
            "{'edit_distance': 110.353, '_num_chars': 125.089, '_num_pred_chars': 118.07, 'nsentences': 1.0, '_world_size': 0.007, '_lm_score_sum': 0.0, '_kaldi_score_sum': 0.0, '_word_lm_sum': 0.0, '_num_words': 0.0, '_vocab_seen': [0.007, 0.007, 0.007, 0.007, 0.007, 0.007, 0.0, 0.007, 0.007, 0.007, 0.007, 0.004, 0.007, 0.0, 0.0, 0.007, 0.0, 0.007, 0.0, 0.007, 0.007, 0.007, 0.007, 0.007, 0.0, 0.007, 0.007, 0.0, 0.007, 0.007, 0.007, 0.0, 0.007, 0.007, 0.007, 0.0, 0.001, 0.007, 0.007, 0.0, 0.007, 0.007, 0.0, 0.007, 0.0, 0.0, 0.0, 0.0, 0.0, 0.0, 0.0, 0.0, 0.0, 0.0, 0.0, 0.007, 0.0, 0.0, 0.0, 0.0]}\n"
          ]
        },
        {
          "name": "stderr",
          "output_type": "stream",
          "text": [
            "Train: 100%|██████████| 82/82 [00:20<00:00,  3.97it/s]\n",
            "Epoch 1181\n",
            "Train: 100%|██████████| 82/82 [00:24<00:00,  3.41it/s]\n",
            "Epoch 1182\n",
            "Train: 100%|██████████| 82/82 [00:20<00:00,  3.95it/s]\n",
            "Epoch 1183\n",
            "Train: 100%|██████████| 82/82 [00:24<00:00,  3.36it/s]\n",
            "Epoch 1184\n",
            "Train: 100%|██████████| 82/82 [00:20<00:00,  3.97it/s]\n",
            "Eval : 100%|██████████| 7/7 [00:02<00:00,  3.13it/s]\n",
            "Epoch 1185\n"
          ]
        },
        {
          "name": "stdout",
          "output_type": "stream",
          "text": [
            "Saving model...\n",
            "{'edit_distance': 109.403, '_num_chars': 125.089, '_num_pred_chars': 113.25, 'nsentences': 1.0, '_world_size': 0.007, '_lm_score_sum': 0.0, '_kaldi_score_sum': 0.0, '_word_lm_sum': 0.0, '_num_words': 0.0, '_vocab_seen': [0.007, 0.007, 0.007, 0.007, 0.002, 0.007, 0.007, 0.007, 0.007, 0.007, 0.007, 0.0, 0.007, 0.007, 0.0, 0.007, 0.0, 0.007, 0.007, 0.007, 0.007, 0.007, 0.007, 0.007, 0.0, 0.0, 0.007, 0.006, 0.007, 0.0, 0.007, 0.0, 0.0, 0.0, 0.007, 0.0, 0.007, 0.007, 0.007, 0.0, 0.007, 0.007, 0.007, 0.007, 0.001, 0.0, 0.0, 0.0, 0.0, 0.0, 0.007, 0.0, 0.0, 0.0, 0.0, 0.0, 0.0, 0.0, 0.0, 0.0]}\n"
          ]
        },
        {
          "name": "stderr",
          "output_type": "stream",
          "text": [
            "Train: 100%|██████████| 82/82 [00:24<00:00,  3.36it/s]\n",
            "Epoch 1186\n",
            "Train: 100%|██████████| 82/82 [00:20<00:00,  3.95it/s]\n",
            "Epoch 1187\n",
            "Train: 100%|██████████| 82/82 [00:24<00:00,  3.32it/s]\n",
            "Epoch 1188\n",
            "Train: 100%|██████████| 82/82 [00:20<00:00,  4.00it/s]\n",
            "Epoch 1189\n",
            "Train: 100%|██████████| 82/82 [00:24<00:00,  3.38it/s]\n",
            "Eval : 100%|██████████| 7/7 [00:02<00:00,  3.13it/s]\n",
            "Epoch 1190\n"
          ]
        },
        {
          "name": "stdout",
          "output_type": "stream",
          "text": [
            "Saving model...\n",
            "{'edit_distance': 109.72, '_num_chars': 125.089, '_num_pred_chars': 110.992, 'nsentences': 1.0, '_world_size': 0.007, '_lm_score_sum': 0.0, '_kaldi_score_sum': 0.0, '_word_lm_sum': 0.0, '_num_words': 0.0, '_vocab_seen': [0.007, 0.007, 0.007, 0.007, 0.007, 0.007, 0.003, 0.007, 0.007, 0.007, 0.007, 0.007, 0.007, 0.0, 0.0, 0.007, 0.007, 0.007, 0.007, 0.007, 0.007, 0.007, 0.007, 0.007, 0.0, 0.0, 0.007, 0.0, 0.007, 0.0, 0.007, 0.0, 0.0, 0.0, 0.007, 0.0, 0.007, 0.007, 0.007, 0.0, 0.007, 0.007, 0.007, 0.0, 0.0, 0.007, 0.0, 0.007, 0.0, 0.0, 0.007, 0.0, 0.0, 0.007, 0.0, 0.0, 0.0, 0.0, 0.0, 0.0]}\n"
          ]
        },
        {
          "name": "stderr",
          "output_type": "stream",
          "text": [
            "Train: 100%|██████████| 82/82 [00:20<00:00,  3.96it/s]\n",
            "Epoch 1191\n",
            "Train: 100%|██████████| 82/82 [00:24<00:00,  3.41it/s]\n",
            "Epoch 1192\n",
            "Train: 100%|██████████| 82/82 [00:20<00:00,  3.94it/s]\n",
            "Epoch 1193\n",
            "Train: 100%|██████████| 82/82 [00:24<00:00,  3.40it/s]\n",
            "Epoch 1194\n",
            "Train: 100%|██████████| 82/82 [00:20<00:00,  3.94it/s]\n",
            "Eval : 100%|██████████| 7/7 [00:02<00:00,  3.06it/s]\n",
            "Epoch 1195\n"
          ]
        },
        {
          "name": "stdout",
          "output_type": "stream",
          "text": [
            "Saving model...\n",
            "{'edit_distance': 112.076, '_num_chars': 125.089, '_num_pred_chars': 120.483, 'nsentences': 1.0, '_world_size': 0.007, '_lm_score_sum': 0.0, '_kaldi_score_sum': 0.0, '_word_lm_sum': 0.0, '_num_words': 0.0, '_vocab_seen': [0.007, 0.007, 0.007, 0.007, 0.007, 0.007, 0.0, 0.007, 0.007, 0.002, 0.007, 0.007, 0.007, 0.0, 0.0, 0.007, 0.007, 0.007, 0.007, 0.007, 0.007, 0.007, 0.007, 0.007, 0.007, 0.007, 0.007, 0.007, 0.007, 0.0, 0.007, 0.0, 0.007, 0.0, 0.007, 0.0, 0.007, 0.007, 0.007, 0.007, 0.0, 0.0, 0.007, 0.0, 0.007, 0.007, 0.007, 0.007, 0.0, 0.0, 0.0, 0.0, 0.0, 0.0, 0.0, 0.0, 0.0, 0.0, 0.0, 0.0]}\n"
          ]
        },
        {
          "name": "stderr",
          "output_type": "stream",
          "text": [
            "Train: 100%|██████████| 82/82 [00:24<00:00,  3.36it/s]\n",
            "Epoch 1196\n",
            "Train: 100%|██████████| 82/82 [00:20<00:00,  3.94it/s]\n",
            "Epoch 1197\n",
            "Train: 100%|██████████| 82/82 [00:24<00:00,  3.39it/s]\n",
            "Epoch 1198\n",
            "Train: 100%|██████████| 82/82 [00:20<00:00,  3.95it/s]\n",
            "Epoch 1199\n",
            "Train: 100%|██████████| 82/82 [00:23<00:00,  3.42it/s]\n",
            "Eval : 100%|██████████| 7/7 [00:02<00:00,  3.10it/s]\n",
            "Epoch 1200\n"
          ]
        },
        {
          "name": "stdout",
          "output_type": "stream",
          "text": [
            "Saving model...\n",
            "{'edit_distance': 110.394, '_num_chars': 125.089, '_num_pred_chars': 114.491, 'nsentences': 1.0, '_world_size': 0.007, '_lm_score_sum': 0.0, '_kaldi_score_sum': 0.0, '_word_lm_sum': 0.0, '_num_words': 0.0, '_vocab_seen': [0.007, 0.007, 0.007, 0.007, 0.007, 0.007, 0.007, 0.007, 0.007, 0.007, 0.007, 0.007, 0.007, 0.001, 0.007, 0.007, 0.007, 0.007, 0.007, 0.007, 0.007, 0.007, 0.007, 0.007, 0.007, 0.0, 0.007, 0.007, 0.007, 0.0, 0.007, 0.0, 0.007, 0.007, 0.007, 0.0, 0.007, 0.007, 0.007, 0.0, 0.0, 0.007, 0.007, 0.0, 0.007, 0.007, 0.007, 0.007, 0.007, 0.0, 0.0, 0.0, 0.0, 0.0, 0.0, 0.0, 0.0, 0.0, 0.0, 0.0]}\n"
          ]
        },
        {
          "name": "stderr",
          "output_type": "stream",
          "text": [
            "Train: 100%|██████████| 82/82 [00:20<00:00,  3.93it/s]\n",
            "Epoch 1201\n",
            "Train: 100%|██████████| 82/82 [00:24<00:00,  3.32it/s]\n",
            "Epoch 1202\n",
            "Train: 100%|██████████| 82/82 [00:20<00:00,  3.94it/s]\n",
            "Epoch 1203\n",
            "Train: 100%|██████████| 82/82 [00:24<00:00,  3.31it/s]\n",
            "Epoch 1204\n",
            "Train: 100%|██████████| 82/82 [00:20<00:00,  3.94it/s]\n",
            "Eval : 100%|██████████| 7/7 [00:02<00:00,  3.13it/s]\n",
            "Epoch 1205\n"
          ]
        },
        {
          "name": "stdout",
          "output_type": "stream",
          "text": [
            "Saving model...\n",
            "{'edit_distance': 110.879, '_num_chars': 125.089, '_num_pred_chars': 117.974, 'nsentences': 1.0, '_world_size': 0.007, '_lm_score_sum': 0.0, '_kaldi_score_sum': 0.0, '_word_lm_sum': 0.0, '_num_words': 0.0, '_vocab_seen': [0.007, 0.007, 0.007, 0.007, 0.007, 0.007, 0.007, 0.007, 0.007, 0.007, 0.007, 0.007, 0.007, 0.0, 0.0, 0.007, 0.007, 0.007, 0.007, 0.007, 0.007, 0.007, 0.007, 0.0, 0.0, 0.0, 0.007, 0.0, 0.007, 0.0, 0.007, 0.0, 0.0, 0.007, 0.007, 0.0, 0.007, 0.007, 0.007, 0.007, 0.007, 0.0, 0.007, 0.0, 0.0, 0.007, 0.0, 0.0, 0.007, 0.0, 0.0, 0.0, 0.0, 0.0, 0.0, 0.0, 0.0, 0.0, 0.0, 0.0]}\n"
          ]
        },
        {
          "name": "stderr",
          "output_type": "stream",
          "text": [
            "Train: 100%|██████████| 82/82 [00:24<00:00,  3.37it/s]\n",
            "Epoch 1206\n",
            "Train: 100%|██████████| 82/82 [00:20<00:00,  3.95it/s]\n",
            "Epoch 1207\n",
            "Train: 100%|██████████| 82/82 [00:24<00:00,  3.33it/s]\n",
            "Epoch 1208\n",
            "Train: 100%|██████████| 82/82 [00:20<00:00,  3.95it/s]\n",
            "Epoch 1209\n",
            "Train: 100%|██████████| 82/82 [00:24<00:00,  3.35it/s]\n",
            "Eval : 100%|██████████| 7/7 [00:02<00:00,  3.06it/s]\n",
            "Epoch 1210\n"
          ]
        },
        {
          "name": "stdout",
          "output_type": "stream",
          "text": [
            "Saving model...\n",
            "{'edit_distance': 111.678, '_num_chars': 125.089, '_num_pred_chars': 120.217, 'nsentences': 1.0, '_world_size': 0.007, '_lm_score_sum': 0.0, '_kaldi_score_sum': 0.0, '_word_lm_sum': 0.0, '_num_words': 0.0, '_vocab_seen': [0.007, 0.007, 0.007, 0.007, 0.006, 0.007, 0.007, 0.007, 0.007, 0.007, 0.007, 0.007, 0.007, 0.006, 0.0, 0.007, 0.007, 0.007, 0.007, 0.007, 0.007, 0.007, 0.007, 0.007, 0.007, 0.0, 0.007, 0.0, 0.007, 0.0, 0.007, 0.0, 0.0, 0.007, 0.007, 0.007, 0.007, 0.007, 0.007, 0.007, 0.007, 0.007, 0.007, 0.007, 0.0, 0.0, 0.0, 0.0, 0.0, 0.0, 0.0, 0.0, 0.0, 0.0, 0.0, 0.0, 0.0, 0.0, 0.0, 0.0]}\n"
          ]
        },
        {
          "name": "stderr",
          "output_type": "stream",
          "text": [
            "Train: 100%|██████████| 82/82 [00:20<00:00,  3.94it/s]\n",
            "Epoch 1211\n",
            "Train: 100%|██████████| 82/82 [00:24<00:00,  3.36it/s]\n",
            "Epoch 1212\n",
            "Train: 100%|██████████| 82/82 [00:20<00:00,  3.94it/s]\n",
            "Epoch 1213\n",
            "Train: 100%|██████████| 82/82 [00:24<00:00,  3.35it/s]\n",
            "Epoch 1214\n",
            "Train: 100%|██████████| 82/82 [00:20<00:00,  3.91it/s]\n",
            "Eval : 100%|██████████| 7/7 [00:02<00:00,  3.09it/s]\n",
            "Epoch 1215\n"
          ]
        },
        {
          "name": "stdout",
          "output_type": "stream",
          "text": [
            "Saving model...\n",
            "{'edit_distance': 111.248, '_num_chars': 125.089, '_num_pred_chars': 124.112, 'nsentences': 1.0, '_world_size': 0.007, '_lm_score_sum': 0.0, '_kaldi_score_sum': 0.0, '_word_lm_sum': 0.0, '_num_words': 0.0, '_vocab_seen': [0.007, 0.007, 0.007, 0.007, 0.0, 0.007, 0.0, 0.007, 0.007, 0.007, 0.007, 0.007, 0.007, 0.007, 0.007, 0.007, 0.0, 0.007, 0.007, 0.007, 0.007, 0.007, 0.007, 0.007, 0.0, 0.0, 0.007, 0.007, 0.007, 0.0, 0.007, 0.0, 0.007, 0.007, 0.007, 0.007, 0.0, 0.007, 0.007, 0.0, 0.0, 0.007, 0.007, 0.007, 0.007, 0.0, 0.0, 0.0, 0.0, 0.0, 0.0, 0.0, 0.0, 0.0, 0.0, 0.0, 0.0, 0.003, 0.0, 0.0]}\n"
          ]
        },
        {
          "name": "stderr",
          "output_type": "stream",
          "text": [
            "Train: 100%|██████████| 82/82 [00:24<00:00,  3.36it/s]\n",
            "Epoch 1216\n",
            "Train: 100%|██████████| 82/82 [00:21<00:00,  3.90it/s]\n",
            "Epoch 1217\n",
            "Train: 100%|██████████| 82/82 [00:24<00:00,  3.33it/s]\n",
            "Epoch 1218\n",
            "Train: 100%|██████████| 82/82 [00:20<00:00,  3.96it/s]\n",
            "Epoch 1219\n",
            "Train: 100%|██████████| 82/82 [00:24<00:00,  3.37it/s]\n",
            "Eval : 100%|██████████| 7/7 [00:02<00:00,  3.07it/s]\n",
            "Epoch 1220\n"
          ]
        },
        {
          "name": "stdout",
          "output_type": "stream",
          "text": [
            "Saving model...\n",
            "{'edit_distance': 111.265, '_num_chars': 125.089, '_num_pred_chars': 119.538, 'nsentences': 1.0, '_world_size': 0.007, '_lm_score_sum': 0.0, '_kaldi_score_sum': 0.0, '_word_lm_sum': 0.0, '_num_words': 0.0, '_vocab_seen': [0.007, 0.007, 0.007, 0.007, 0.0, 0.007, 0.0, 0.007, 0.007, 0.007, 0.007, 0.007, 0.007, 0.007, 0.001, 0.007, 0.0, 0.007, 0.007, 0.007, 0.007, 0.007, 0.007, 0.007, 0.0, 0.007, 0.007, 0.001, 0.007, 0.0, 0.007, 0.007, 0.007, 0.007, 0.007, 0.007, 0.0, 0.007, 0.007, 0.0, 0.0, 0.0, 0.007, 0.007, 0.007, 0.0, 0.007, 0.0, 0.0, 0.0, 0.0, 0.0, 0.0, 0.0, 0.0, 0.0, 0.0, 0.0, 0.0, 0.0]}\n"
          ]
        },
        {
          "name": "stderr",
          "output_type": "stream",
          "text": [
            "Train: 100%|██████████| 82/82 [00:20<00:00,  3.92it/s]\n",
            "Epoch 1221\n",
            "Train: 100%|██████████| 82/82 [00:24<00:00,  3.38it/s]\n",
            "Epoch 1222\n",
            "Train: 100%|██████████| 82/82 [00:21<00:00,  3.89it/s]\n",
            "Epoch 1223\n",
            "Train: 100%|██████████| 82/82 [00:24<00:00,  3.32it/s]\n",
            "Epoch 1224\n",
            "Train: 100%|██████████| 82/82 [00:20<00:00,  3.91it/s]\n",
            "Eval : 100%|██████████| 7/7 [00:02<00:00,  3.05it/s]\n",
            "Epoch 1225\n"
          ]
        },
        {
          "name": "stdout",
          "output_type": "stream",
          "text": [
            "Saving model...\n",
            "{'edit_distance': 113.795, '_num_chars': 125.089, '_num_pred_chars': 124.192, 'nsentences': 1.0, '_world_size': 0.007, '_lm_score_sum': 0.0, '_kaldi_score_sum': 0.0, '_word_lm_sum': 0.0, '_num_words': 0.0, '_vocab_seen': [0.007, 0.007, 0.007, 0.007, 0.007, 0.007, 0.007, 0.007, 0.007, 0.006, 0.007, 0.007, 0.007, 0.007, 0.0, 0.007, 0.007, 0.007, 0.007, 0.007, 0.007, 0.007, 0.007, 0.0, 0.0, 0.007, 0.007, 0.0, 0.007, 0.0, 0.007, 0.0, 0.0, 0.0, 0.007, 0.007, 0.001, 0.007, 0.007, 0.0, 0.007, 0.007, 0.007, 0.007, 0.0, 0.007, 0.0, 0.0, 0.007, 0.007, 0.007, 0.0, 0.0, 0.007, 0.007, 0.0, 0.0, 0.0, 0.0, 0.0]}\n"
          ]
        },
        {
          "name": "stderr",
          "output_type": "stream",
          "text": [
            "Train: 100%|██████████| 82/82 [00:24<00:00,  3.32it/s]\n",
            "Epoch 1226\n",
            "Train: 100%|██████████| 82/82 [00:20<00:00,  3.96it/s]\n",
            "Epoch 1227\n",
            "Train: 100%|██████████| 82/82 [00:24<00:00,  3.36it/s]\n",
            "Epoch 1228\n",
            "Train: 100%|██████████| 82/82 [00:20<00:00,  3.93it/s]\n",
            "Epoch 1229\n",
            "Train: 100%|██████████| 82/82 [00:24<00:00,  3.33it/s]\n",
            "Eval : 100%|██████████| 7/7 [00:02<00:00,  3.14it/s]\n",
            "Epoch 1230\n"
          ]
        },
        {
          "name": "stdout",
          "output_type": "stream",
          "text": [
            "Saving model...\n",
            "{'edit_distance': 114.669, '_num_chars': 125.089, '_num_pred_chars': 123.866, 'nsentences': 1.0, '_world_size': 0.007, '_lm_score_sum': 0.0, '_kaldi_score_sum': 0.0, '_word_lm_sum': 0.0, '_num_words': 0.0, '_vocab_seen': [0.007, 0.007, 0.007, 0.007, 0.007, 0.007, 0.0, 0.007, 0.007, 0.007, 0.007, 0.007, 0.007, 0.007, 0.0, 0.007, 0.007, 0.007, 0.007, 0.007, 0.007, 0.007, 0.007, 0.0, 0.0, 0.007, 0.007, 0.007, 0.007, 0.0, 0.007, 0.0, 0.0, 0.007, 0.007, 0.007, 0.0, 0.007, 0.007, 0.0, 0.001, 0.007, 0.007, 0.007, 0.0, 0.007, 0.0, 0.0, 0.007, 0.007, 0.0, 0.0, 0.0, 0.0, 0.007, 0.0, 0.0, 0.0, 0.0, 0.0]}\n"
          ]
        },
        {
          "name": "stderr",
          "output_type": "stream",
          "text": [
            "Train: 100%|██████████| 82/82 [00:20<00:00,  3.91it/s]\n",
            "Epoch 1231\n",
            "Train: 100%|██████████| 82/82 [00:24<00:00,  3.32it/s]\n",
            "Epoch 1232\n",
            "Train: 100%|██████████| 82/82 [00:20<00:00,  3.91it/s]\n",
            "Epoch 1233\n",
            "Train: 100%|██████████| 82/82 [00:24<00:00,  3.34it/s]\n",
            "Epoch 1234\n",
            "Train: 100%|██████████| 82/82 [00:21<00:00,  3.89it/s]\n",
            "Eval : 100%|██████████| 7/7 [00:02<00:00,  3.10it/s]\n",
            "Epoch 1235\n"
          ]
        },
        {
          "name": "stdout",
          "output_type": "stream",
          "text": [
            "Saving model...\n",
            "{'edit_distance': 115.477, '_num_chars': 125.089, '_num_pred_chars': 128.668, 'nsentences': 1.0, '_world_size': 0.007, '_lm_score_sum': 0.0, '_kaldi_score_sum': 0.0, '_word_lm_sum': 0.0, '_num_words': 0.0, '_vocab_seen': [0.007, 0.007, 0.007, 0.007, 0.007, 0.007, 0.0, 0.007, 0.007, 0.007, 0.007, 0.007, 0.007, 0.0, 0.0, 0.007, 0.007, 0.007, 0.007, 0.007, 0.007, 0.007, 0.0, 0.007, 0.007, 0.007, 0.007, 0.007, 0.007, 0.0, 0.007, 0.0, 0.007, 0.007, 0.007, 0.0, 0.0, 0.007, 0.007, 0.0, 0.007, 0.007, 0.007, 0.007, 0.0, 0.007, 0.0, 0.0, 0.007, 0.0, 0.0, 0.0, 0.0, 0.0, 0.007, 0.0, 0.0, 0.0, 0.0, 0.0]}\n"
          ]
        },
        {
          "name": "stderr",
          "output_type": "stream",
          "text": [
            "Train: 100%|██████████| 82/82 [00:24<00:00,  3.31it/s]\n",
            "Epoch 1236\n",
            "Train: 100%|██████████| 82/82 [00:20<00:00,  3.96it/s]\n",
            "Epoch 1237\n",
            "Train: 100%|██████████| 82/82 [00:23<00:00,  3.42it/s]\n",
            "Epoch 1238\n",
            "Train: 100%|██████████| 82/82 [00:20<00:00,  3.93it/s]\n",
            "Epoch 1239\n",
            "Train: 100%|██████████| 82/82 [00:24<00:00,  3.33it/s]\n",
            "Eval : 100%|██████████| 7/7 [00:02<00:00,  3.07it/s]\n",
            "Epoch 1240\n"
          ]
        },
        {
          "name": "stdout",
          "output_type": "stream",
          "text": [
            "Saving model...\n",
            "{'edit_distance': 111.871, '_num_chars': 125.089, '_num_pred_chars': 125.046, 'nsentences': 1.0, '_world_size': 0.007, '_lm_score_sum': 0.0, '_kaldi_score_sum': 0.0, '_word_lm_sum': 0.0, '_num_words': 0.0, '_vocab_seen': [0.007, 0.007, 0.007, 0.007, 0.0, 0.007, 0.007, 0.005, 0.007, 0.007, 0.007, 0.007, 0.007, 0.0, 0.0, 0.007, 0.007, 0.007, 0.007, 0.007, 0.007, 0.007, 0.007, 0.007, 0.0, 0.0, 0.007, 0.007, 0.007, 0.007, 0.007, 0.0, 0.007, 0.007, 0.007, 0.0, 0.007, 0.007, 0.007, 0.007, 0.007, 0.007, 0.007, 0.007, 0.007, 0.007, 0.0, 0.0, 0.007, 0.0, 0.007, 0.0, 0.0, 0.0, 0.0, 0.0, 0.0, 0.0, 0.0, 0.0]}\n"
          ]
        },
        {
          "name": "stderr",
          "output_type": "stream",
          "text": [
            "Train: 100%|██████████| 82/82 [00:21<00:00,  3.90it/s]\n",
            "Epoch 1241\n",
            "Train: 100%|██████████| 82/82 [00:24<00:00,  3.38it/s]\n",
            "Epoch 1242\n",
            "Train: 100%|██████████| 82/82 [00:20<00:00,  3.97it/s]\n",
            "Epoch 1243\n",
            "Train: 100%|██████████| 82/82 [00:24<00:00,  3.30it/s]\n",
            "Epoch 1244\n",
            "Train: 100%|██████████| 82/82 [00:20<00:00,  3.95it/s]\n",
            "Eval : 100%|██████████| 7/7 [00:02<00:00,  3.03it/s]\n",
            "Epoch 1245\n"
          ]
        },
        {
          "name": "stdout",
          "output_type": "stream",
          "text": [
            "Saving model...\n",
            "{'edit_distance': 113.742, '_num_chars': 125.089, '_num_pred_chars': 120.041, 'nsentences': 1.0, '_world_size': 0.007, '_lm_score_sum': 0.0, '_kaldi_score_sum': 0.0, '_word_lm_sum': 0.0, '_num_words': 0.0, '_vocab_seen': [0.007, 0.007, 0.007, 0.007, 0.004, 0.007, 0.007, 0.007, 0.007, 0.007, 0.007, 0.0, 0.007, 0.007, 0.001, 0.007, 0.007, 0.007, 0.007, 0.007, 0.007, 0.007, 0.007, 0.007, 0.0, 0.0, 0.007, 0.007, 0.007, 0.0, 0.007, 0.0, 0.0, 0.007, 0.007, 0.0, 0.007, 0.007, 0.007, 0.007, 0.0, 0.007, 0.007, 0.007, 0.007, 0.0, 0.0, 0.007, 0.007, 0.0, 0.007, 0.0, 0.0, 0.0, 0.0, 0.0, 0.0, 0.0, 0.0, 0.0]}\n"
          ]
        },
        {
          "name": "stderr",
          "output_type": "stream",
          "text": [
            "Train: 100%|██████████| 82/82 [00:24<00:00,  3.36it/s]\n",
            "Epoch 1246\n",
            "Train: 100%|██████████| 82/82 [00:20<00:00,  3.96it/s]\n",
            "Epoch 1247\n",
            "Train: 100%|██████████| 82/82 [00:24<00:00,  3.33it/s]\n",
            "Epoch 1248\n",
            "Train: 100%|██████████| 82/82 [00:20<00:00,  3.91it/s]\n",
            "Epoch 1249\n",
            "Train: 100%|██████████| 82/82 [00:24<00:00,  3.34it/s]\n",
            "Eval : 100%|██████████| 7/7 [00:02<00:00,  3.07it/s]\n",
            "Epoch 1250\n"
          ]
        },
        {
          "name": "stdout",
          "output_type": "stream",
          "text": [
            "Saving model...\n",
            "{'edit_distance': 114.815, '_num_chars': 125.089, '_num_pred_chars': 123.646, 'nsentences': 1.0, '_world_size': 0.007, '_lm_score_sum': 0.0, '_kaldi_score_sum': 0.0, '_word_lm_sum': 0.0, '_num_words': 0.0, '_vocab_seen': [0.007, 0.007, 0.006, 0.007, 0.007, 0.007, 0.007, 0.007, 0.007, 0.002, 0.007, 0.0, 0.007, 0.001, 0.0, 0.007, 0.007, 0.007, 0.007, 0.007, 0.007, 0.007, 0.007, 0.007, 0.007, 0.007, 0.007, 0.007, 0.007, 0.0, 0.007, 0.007, 0.007, 0.007, 0.007, 0.007, 0.007, 0.007, 0.007, 0.007, 0.0, 0.007, 0.007, 0.007, 0.007, 0.002, 0.0, 0.007, 0.0, 0.0, 0.0, 0.0, 0.0, 0.0, 0.0, 0.0, 0.0, 0.0, 0.0, 0.0]}\n"
          ]
        },
        {
          "name": "stderr",
          "output_type": "stream",
          "text": [
            "Train: 100%|██████████| 82/82 [00:20<00:00,  3.94it/s]\n",
            "Epoch 1251\n",
            "Train: 100%|██████████| 82/82 [00:24<00:00,  3.35it/s]\n",
            "Epoch 1252\n",
            "Train: 100%|██████████| 82/82 [00:20<00:00,  3.92it/s]\n",
            "Epoch 1253\n",
            "Train: 100%|██████████| 82/82 [00:24<00:00,  3.38it/s]\n",
            "Epoch 1254\n",
            "Train: 100%|██████████| 82/82 [00:20<00:00,  3.95it/s]\n",
            "Eval : 100%|██████████| 7/7 [00:02<00:00,  3.04it/s]\n",
            "Epoch 1255\n"
          ]
        },
        {
          "name": "stdout",
          "output_type": "stream",
          "text": [
            "Saving model...\n",
            "{'edit_distance': 109.177, '_num_chars': 125.089, '_num_pred_chars': 117.511, 'nsentences': 1.0, '_world_size': 0.007, '_lm_score_sum': 0.0, '_kaldi_score_sum': 0.0, '_word_lm_sum': 0.0, '_num_words': 0.0, '_vocab_seen': [0.007, 0.007, 0.001, 0.007, 0.007, 0.007, 0.007, 0.007, 0.007, 0.007, 0.007, 0.0, 0.007, 0.0, 0.0, 0.007, 0.007, 0.007, 0.007, 0.007, 0.007, 0.007, 0.007, 0.0, 0.007, 0.007, 0.0, 0.006, 0.007, 0.0, 0.007, 0.0, 0.007, 0.007, 0.007, 0.007, 0.007, 0.007, 0.007, 0.007, 0.007, 0.007, 0.007, 0.007, 0.007, 0.0, 0.007, 0.007, 0.0, 0.0, 0.0, 0.0, 0.0, 0.0, 0.0, 0.0, 0.0, 0.0, 0.0, 0.0]}\n"
          ]
        },
        {
          "name": "stderr",
          "output_type": "stream",
          "text": [
            "Train: 100%|██████████| 82/82 [00:24<00:00,  3.36it/s]\n",
            "Epoch 1256\n",
            "Train: 100%|██████████| 82/82 [00:20<00:00,  3.98it/s]\n",
            "Epoch 1257\n",
            "Train: 100%|██████████| 82/82 [00:24<00:00,  3.37it/s]\n",
            "Epoch 1258\n",
            "Train: 100%|██████████| 82/82 [00:20<00:00,  3.95it/s]\n",
            "Epoch 1259\n",
            "Train: 100%|██████████| 82/82 [00:24<00:00,  3.32it/s]\n",
            "Eval : 100%|██████████| 7/7 [00:02<00:00,  3.12it/s]\n",
            "Epoch 1260\n"
          ]
        },
        {
          "name": "stdout",
          "output_type": "stream",
          "text": [
            "Saving model...\n",
            "{'edit_distance': 113.994, '_num_chars': 125.089, '_num_pred_chars': 124.519, 'nsentences': 1.0, '_world_size': 0.007, '_lm_score_sum': 0.0, '_kaldi_score_sum': 0.0, '_word_lm_sum': 0.0, '_num_words': 0.0, '_vocab_seen': [0.007, 0.007, 0.0, 0.007, 0.007, 0.007, 0.007, 0.007, 0.007, 0.001, 0.007, 0.0, 0.007, 0.005, 0.0, 0.007, 0.007, 0.007, 0.007, 0.007, 0.007, 0.007, 0.007, 0.001, 0.0, 0.0, 0.007, 0.007, 0.007, 0.007, 0.007, 0.0, 0.007, 0.007, 0.007, 0.007, 0.007, 0.007, 0.007, 0.0, 0.0, 0.007, 0.007, 0.007, 0.0, 0.007, 0.007, 0.0, 0.0, 0.0, 0.007, 0.0, 0.0, 0.0, 0.0, 0.0, 0.0, 0.0, 0.0, 0.0]}\n"
          ]
        },
        {
          "name": "stderr",
          "output_type": "stream",
          "text": [
            "Train: 100%|██████████| 82/82 [00:21<00:00,  3.82it/s]\n",
            "Epoch 1261\n",
            "Train: 100%|██████████| 82/82 [00:24<00:00,  3.33it/s]\n",
            "Epoch 1262\n",
            "Train: 100%|██████████| 82/82 [00:20<00:00,  3.95it/s]\n",
            "Epoch 1263\n",
            "Train: 100%|██████████| 82/82 [00:24<00:00,  3.31it/s]\n",
            "Epoch 1264\n",
            "Train: 100%|██████████| 82/82 [00:20<00:00,  3.94it/s]\n",
            "Eval : 100%|██████████| 7/7 [00:02<00:00,  3.03it/s]\n",
            "Epoch 1265\n"
          ]
        },
        {
          "name": "stdout",
          "output_type": "stream",
          "text": [
            "Saving model...\n",
            "{'edit_distance': 111.681, '_num_chars': 125.089, '_num_pred_chars': 118.541, 'nsentences': 1.0, '_world_size': 0.007, '_lm_score_sum': 0.0, '_kaldi_score_sum': 0.0, '_word_lm_sum': 0.0, '_num_words': 0.0, '_vocab_seen': [0.007, 0.007, 0.002, 0.007, 0.007, 0.007, 0.007, 0.007, 0.007, 0.007, 0.007, 0.0, 0.007, 0.0, 0.0, 0.007, 0.007, 0.007, 0.007, 0.007, 0.007, 0.007, 0.007, 0.004, 0.007, 0.0, 0.0, 0.007, 0.007, 0.0, 0.007, 0.0, 0.007, 0.0, 0.007, 0.007, 0.0, 0.007, 0.007, 0.0, 0.0, 0.007, 0.007, 0.007, 0.0, 0.007, 0.0, 0.0, 0.0, 0.0, 0.0, 0.0, 0.0, 0.0, 0.0, 0.0, 0.0, 0.0, 0.0, 0.0]}\n"
          ]
        },
        {
          "name": "stderr",
          "output_type": "stream",
          "text": [
            "Train: 100%|██████████| 82/82 [00:24<00:00,  3.39it/s]\n",
            "Epoch 1266\n",
            "Train: 100%|██████████| 82/82 [00:20<00:00,  3.92it/s]\n",
            "Epoch 1267\n",
            "Train: 100%|██████████| 82/82 [00:24<00:00,  3.35it/s]\n",
            "Epoch 1268\n",
            "Train: 100%|██████████| 82/82 [00:20<00:00,  3.94it/s]\n",
            "Epoch 1269\n",
            "Train: 100%|██████████| 82/82 [00:24<00:00,  3.36it/s]\n",
            "Eval : 100%|██████████| 7/7 [00:02<00:00,  3.01it/s]\n",
            "Epoch 1270\n"
          ]
        },
        {
          "name": "stdout",
          "output_type": "stream",
          "text": [
            "Saving model...\n",
            "{'edit_distance': 111.035, '_num_chars': 125.089, '_num_pred_chars': 117.06, 'nsentences': 1.0, '_world_size': 0.007, '_lm_score_sum': 0.0, '_kaldi_score_sum': 0.0, '_word_lm_sum': 0.0, '_num_words': 0.0, '_vocab_seen': [0.007, 0.007, 0.0, 0.007, 0.007, 0.007, 0.007, 0.007, 0.007, 0.0, 0.007, 0.007, 0.007, 0.007, 0.0, 0.007, 0.007, 0.007, 0.007, 0.007, 0.007, 0.007, 0.007, 0.007, 0.0, 0.0, 0.007, 0.007, 0.007, 0.007, 0.007, 0.0, 0.007, 0.0, 0.007, 0.007, 0.0, 0.007, 0.007, 0.007, 0.007, 0.007, 0.007, 0.007, 0.0, 0.007, 0.0, 0.0, 0.007, 0.0, 0.0, 0.0, 0.007, 0.0, 0.0, 0.0, 0.0, 0.0, 0.0, 0.0]}\n"
          ]
        },
        {
          "name": "stderr",
          "output_type": "stream",
          "text": [
            "Train: 100%|██████████| 82/82 [00:20<00:00,  3.92it/s]\n",
            "Epoch 1271\n",
            "Train: 100%|██████████| 82/82 [00:24<00:00,  3.39it/s]\n",
            "Epoch 1272\n",
            "Train: 100%|██████████| 82/82 [00:20<00:00,  3.92it/s]\n",
            "Epoch 1273\n",
            "Train: 100%|██████████| 82/82 [00:24<00:00,  3.31it/s]\n",
            "Epoch 1274\n",
            "Train: 100%|██████████| 82/82 [00:20<00:00,  3.97it/s]\n",
            "Eval : 100%|██████████| 7/7 [00:02<00:00,  3.09it/s]\n",
            "Epoch 1275\n"
          ]
        },
        {
          "name": "stdout",
          "output_type": "stream",
          "text": [
            "Saving model...\n",
            "{'edit_distance': 110.467, '_num_chars': 125.089, '_num_pred_chars': 117.141, 'nsentences': 1.0, '_world_size': 0.007, '_lm_score_sum': 0.0, '_kaldi_score_sum': 0.0, '_word_lm_sum': 0.0, '_num_words': 0.0, '_vocab_seen': [0.007, 0.007, 0.0, 0.007, 0.007, 0.007, 0.007, 0.007, 0.007, 0.0, 0.007, 0.007, 0.007, 0.007, 0.007, 0.007, 0.007, 0.007, 0.007, 0.007, 0.007, 0.007, 0.007, 0.0, 0.0, 0.0, 0.007, 0.007, 0.007, 0.0, 0.007, 0.0, 0.0, 0.0, 0.007, 0.007, 0.0, 0.007, 0.007, 0.0, 0.007, 0.007, 0.007, 0.007, 0.0, 0.007, 0.0, 0.0, 0.007, 0.0, 0.0, 0.0, 0.007, 0.0, 0.0, 0.0, 0.0, 0.0, 0.0, 0.0]}\n"
          ]
        },
        {
          "name": "stderr",
          "output_type": "stream",
          "text": [
            "Train: 100%|██████████| 82/82 [00:24<00:00,  3.39it/s]\n",
            "Epoch 1276\n",
            "Train: 100%|██████████| 82/82 [00:21<00:00,  3.90it/s]\n",
            "Epoch 1277\n",
            "Train: 100%|██████████| 82/82 [00:24<00:00,  3.34it/s]\n",
            "Epoch 1278\n",
            "Train: 100%|██████████| 82/82 [00:20<00:00,  3.92it/s]\n",
            "Epoch 1279\n",
            "Train: 100%|██████████| 82/82 [00:24<00:00,  3.33it/s]\n",
            "Eval : 100%|██████████| 7/7 [00:02<00:00,  3.09it/s]\n",
            "Epoch 1280\n"
          ]
        },
        {
          "name": "stdout",
          "output_type": "stream",
          "text": [
            "Saving model...\n",
            "{'edit_distance': 112.093, '_num_chars': 125.089, '_num_pred_chars': 122.543, 'nsentences': 1.0, '_world_size': 0.007, '_lm_score_sum': 0.0, '_kaldi_score_sum': 0.0, '_word_lm_sum': 0.0, '_num_words': 0.0, '_vocab_seen': [0.007, 0.007, 0.0, 0.007, 0.007, 0.007, 0.0, 0.007, 0.007, 0.0, 0.007, 0.007, 0.007, 0.007, 0.0, 0.007, 0.007, 0.007, 0.007, 0.007, 0.007, 0.007, 0.007, 0.0, 0.007, 0.0, 0.007, 0.007, 0.007, 0.0, 0.007, 0.003, 0.007, 0.007, 0.007, 0.0, 0.007, 0.007, 0.007, 0.0, 0.007, 0.007, 0.007, 0.007, 0.0, 0.007, 0.0, 0.0, 0.007, 0.0, 0.0, 0.0, 0.0, 0.0, 0.0, 0.0, 0.0, 0.0, 0.0, 0.0]}\n"
          ]
        },
        {
          "name": "stderr",
          "output_type": "stream",
          "text": [
            "Train: 100%|██████████| 82/82 [00:20<00:00,  3.94it/s]\n",
            "Epoch 1281\n",
            "Train: 100%|██████████| 82/82 [00:24<00:00,  3.41it/s]\n",
            "Epoch 1282\n",
            "Train: 100%|██████████| 82/82 [00:20<00:00,  3.95it/s]\n",
            "Epoch 1283\n",
            "Train: 100%|██████████| 82/82 [00:24<00:00,  3.35it/s]\n",
            "Epoch 1284\n",
            "Train: 100%|██████████| 82/82 [00:20<00:00,  3.94it/s]\n",
            "Eval : 100%|██████████| 7/7 [00:02<00:00,  3.05it/s]\n",
            "Epoch 1285\n"
          ]
        },
        {
          "name": "stdout",
          "output_type": "stream",
          "text": [
            "Saving model...\n",
            "{'edit_distance': 111.305, '_num_chars': 125.089, '_num_pred_chars': 115.987, 'nsentences': 1.0, '_world_size': 0.007, '_lm_score_sum': 0.0, '_kaldi_score_sum': 0.0, '_word_lm_sum': 0.0, '_num_words': 0.0, '_vocab_seen': [0.007, 0.007, 0.007, 0.007, 0.007, 0.007, 0.007, 0.007, 0.007, 0.001, 0.007, 0.0, 0.007, 0.006, 0.0, 0.007, 0.007, 0.007, 0.007, 0.007, 0.007, 0.007, 0.007, 0.007, 0.0, 0.007, 0.007, 0.007, 0.007, 0.0, 0.007, 0.0, 0.0, 0.007, 0.007, 0.0, 0.007, 0.007, 0.007, 0.0, 0.0, 0.007, 0.007, 0.007, 0.0, 0.007, 0.0, 0.0, 0.0, 0.0, 0.0, 0.0, 0.0, 0.0, 0.0, 0.0, 0.0, 0.0, 0.0, 0.0]}\n"
          ]
        },
        {
          "name": "stderr",
          "output_type": "stream",
          "text": [
            "Train: 100%|██████████| 82/82 [00:24<00:00,  3.37it/s]\n",
            "Epoch 1286\n",
            "Train: 100%|██████████| 82/82 [00:20<00:00,  3.96it/s]\n",
            "Epoch 1287\n",
            "Train: 100%|██████████| 82/82 [00:24<00:00,  3.39it/s]\n",
            "Epoch 1288\n",
            "Train: 100%|██████████| 82/82 [00:20<00:00,  3.96it/s]\n",
            "Epoch 1289\n",
            "Train: 100%|██████████| 82/82 [00:23<00:00,  3.42it/s]\n",
            "Eval : 100%|██████████| 7/7 [00:02<00:00,  3.12it/s]\n",
            "Epoch 1290\n"
          ]
        },
        {
          "name": "stdout",
          "output_type": "stream",
          "text": [
            "Saving model...\n",
            "{'edit_distance': 109.736, '_num_chars': 125.089, '_num_pred_chars': 106.691, 'nsentences': 1.0, '_world_size': 0.007, '_lm_score_sum': 0.0, '_kaldi_score_sum': 0.0, '_word_lm_sum': 0.0, '_num_words': 0.0, '_vocab_seen': [0.007, 0.007, 0.007, 0.007, 0.007, 0.007, 0.007, 0.001, 0.007, 0.007, 0.007, 0.007, 0.007, 0.007, 0.007, 0.007, 0.005, 0.007, 0.007, 0.007, 0.007, 0.007, 0.007, 0.007, 0.0, 0.007, 0.0, 0.007, 0.007, 0.0, 0.007, 0.0, 0.007, 0.007, 0.007, 0.0, 0.007, 0.007, 0.007, 0.0, 0.0, 0.007, 0.007, 0.007, 0.007, 0.0, 0.0, 0.0, 0.0, 0.0, 0.0, 0.0, 0.0, 0.0, 0.0, 0.0, 0.0, 0.0, 0.0, 0.0]}\n"
          ]
        },
        {
          "name": "stderr",
          "output_type": "stream",
          "text": [
            "Train: 100%|██████████| 82/82 [00:20<00:00,  3.96it/s]\n",
            "Epoch 1291\n",
            "Train: 100%|██████████| 82/82 [00:23<00:00,  3.42it/s]\n",
            "Epoch 1292\n",
            "Train: 100%|██████████| 82/82 [00:20<00:00,  3.96it/s]\n",
            "Epoch 1293\n",
            "Train: 100%|██████████| 82/82 [00:24<00:00,  3.37it/s]\n",
            "Epoch 1294\n",
            "Train: 100%|██████████| 82/82 [00:20<00:00,  3.99it/s]\n",
            "Eval : 100%|██████████| 7/7 [00:02<00:00,  3.05it/s]\n",
            "Epoch 1295\n"
          ]
        },
        {
          "name": "stdout",
          "output_type": "stream",
          "text": [
            "Saving model...\n",
            "{'edit_distance': 108.84, '_num_chars': 125.089, '_num_pred_chars': 112.657, 'nsentences': 1.0, '_world_size': 0.007, '_lm_score_sum': 0.0, '_kaldi_score_sum': 0.0, '_word_lm_sum': 0.0, '_num_words': 0.0, '_vocab_seen': [0.007, 0.007, 0.007, 0.007, 0.007, 0.007, 0.0, 0.007, 0.007, 0.007, 0.007, 0.0, 0.007, 0.007, 0.0, 0.007, 0.007, 0.007, 0.007, 0.007, 0.007, 0.007, 0.007, 0.007, 0.0, 0.007, 0.004, 0.007, 0.007, 0.007, 0.007, 0.0, 0.0, 0.0, 0.007, 0.0, 0.0, 0.007, 0.007, 0.0, 0.007, 0.007, 0.007, 0.0, 0.007, 0.0, 0.0, 0.0, 0.0, 0.0, 0.0, 0.0, 0.0, 0.0, 0.0, 0.0, 0.0, 0.0, 0.0, 0.0]}\n"
          ]
        },
        {
          "name": "stderr",
          "output_type": "stream",
          "text": [
            "Train: 100%|██████████| 82/82 [00:24<00:00,  3.37it/s]\n",
            "Epoch 1296\n",
            "Train: 100%|██████████| 82/82 [00:20<00:00,  3.96it/s]\n",
            "Epoch 1297\n",
            "Train: 100%|██████████| 82/82 [00:24<00:00,  3.37it/s]\n",
            "Epoch 1298\n",
            "Train: 100%|██████████| 82/82 [00:20<00:00,  3.96it/s]\n",
            "Epoch 1299\n",
            "Train: 100%|██████████| 82/82 [00:24<00:00,  3.34it/s]\n",
            "Eval : 100%|██████████| 7/7 [00:02<00:00,  3.07it/s]\n",
            "Epoch 1300\n"
          ]
        },
        {
          "name": "stdout",
          "output_type": "stream",
          "text": [
            "Saving model...\n",
            "{'edit_distance': 108.989, '_num_chars': 125.089, '_num_pred_chars': 117.496, 'nsentences': 1.0, '_world_size': 0.007, '_lm_score_sum': 0.0, '_kaldi_score_sum': 0.0, '_word_lm_sum': 0.0, '_num_words': 0.0, '_vocab_seen': [0.007, 0.007, 0.007, 0.007, 0.007, 0.007, 0.007, 0.007, 0.007, 0.007, 0.007, 0.0, 0.007, 0.007, 0.0, 0.007, 0.0, 0.007, 0.007, 0.007, 0.007, 0.007, 0.007, 0.007, 0.007, 0.007, 0.007, 0.007, 0.007, 0.0, 0.007, 0.0, 0.0, 0.0, 0.007, 0.001, 0.007, 0.007, 0.007, 0.004, 0.007, 0.007, 0.007, 0.0, 0.007, 0.0, 0.0, 0.0, 0.007, 0.0, 0.0, 0.0, 0.0, 0.0, 0.0, 0.0, 0.0, 0.0, 0.0, 0.0]}\n"
          ]
        },
        {
          "name": "stderr",
          "output_type": "stream",
          "text": [
            "Train: 100%|██████████| 82/82 [00:20<00:00,  3.92it/s]\n",
            "Epoch 1301\n",
            "Train: 100%|██████████| 82/82 [00:25<00:00,  3.27it/s]\n",
            "Epoch 1302\n",
            "Train: 100%|██████████| 82/82 [00:20<00:00,  3.95it/s]\n",
            "Epoch 1303\n",
            "Train: 100%|██████████| 82/82 [00:24<00:00,  3.35it/s]\n",
            "Epoch 1304\n",
            "Train: 100%|██████████| 82/82 [00:20<00:00,  3.91it/s]\n",
            "Eval : 100%|██████████| 7/7 [00:02<00:00,  3.10it/s]\n",
            "Epoch 1305\n"
          ]
        },
        {
          "name": "stdout",
          "output_type": "stream",
          "text": [
            "Saving model...\n",
            "{'edit_distance': 110.754, '_num_chars': 125.089, '_num_pred_chars': 122.352, 'nsentences': 1.0, '_world_size': 0.007, '_lm_score_sum': 0.0, '_kaldi_score_sum': 0.0, '_word_lm_sum': 0.0, '_num_words': 0.0, '_vocab_seen': [0.007, 0.007, 0.007, 0.007, 0.007, 0.007, 0.0, 0.0, 0.007, 0.007, 0.007, 0.0, 0.007, 0.007, 0.0, 0.007, 0.007, 0.007, 0.0, 0.007, 0.007, 0.007, 0.007, 0.007, 0.0, 0.007, 0.0, 0.007, 0.007, 0.0, 0.007, 0.0, 0.007, 0.0, 0.007, 0.0, 0.005, 0.007, 0.007, 0.007, 0.007, 0.007, 0.007, 0.0, 0.007, 0.0, 0.007, 0.0, 0.0, 0.0, 0.0, 0.0, 0.0, 0.0, 0.0, 0.0, 0.0, 0.0, 0.0, 0.0]}\n"
          ]
        },
        {
          "name": "stderr",
          "output_type": "stream",
          "text": [
            "Train: 100%|██████████| 82/82 [00:24<00:00,  3.35it/s]\n",
            "Epoch 1306\n",
            "Train: 100%|██████████| 82/82 [00:20<00:00,  3.99it/s]\n",
            "Epoch 1307\n",
            "Train: 100%|██████████| 82/82 [00:23<00:00,  3.42it/s]\n",
            "Epoch 1308\n",
            "Train: 100%|██████████| 82/82 [00:20<00:00,  3.97it/s]\n",
            "Epoch 1309\n",
            "Train: 100%|██████████| 82/82 [00:24<00:00,  3.36it/s]\n",
            "Eval : 100%|██████████| 7/7 [00:02<00:00,  3.09it/s]\n",
            "Epoch 1310\n"
          ]
        },
        {
          "name": "stdout",
          "output_type": "stream",
          "text": [
            "Saving model...\n",
            "{'edit_distance': 113.514, '_num_chars': 125.089, '_num_pred_chars': 125.254, 'nsentences': 1.0, '_world_size': 0.007, '_lm_score_sum': 0.0, '_kaldi_score_sum': 0.0, '_word_lm_sum': 0.0, '_num_words': 0.0, '_vocab_seen': [0.007, 0.007, 0.007, 0.007, 0.007, 0.007, 0.004, 0.007, 0.007, 0.007, 0.007, 0.0, 0.007, 0.007, 0.0, 0.007, 0.007, 0.007, 0.007, 0.007, 0.007, 0.007, 0.007, 0.003, 0.0, 0.007, 0.007, 0.007, 0.007, 0.0, 0.007, 0.0, 0.007, 0.007, 0.007, 0.0, 0.007, 0.007, 0.007, 0.007, 0.007, 0.007, 0.007, 0.0, 0.007, 0.0, 0.007, 0.0, 0.0, 0.0, 0.0, 0.0, 0.0, 0.0, 0.0, 0.0, 0.0, 0.0, 0.0, 0.0]}\n"
          ]
        },
        {
          "name": "stderr",
          "output_type": "stream",
          "text": [
            "Train: 100%|██████████| 82/82 [00:20<00:00,  3.96it/s]\n",
            "Epoch 1311\n",
            "Train: 100%|██████████| 82/82 [00:24<00:00,  3.41it/s]\n",
            "Epoch 1312\n",
            "Train: 100%|██████████| 82/82 [00:20<00:00,  4.00it/s]\n",
            "Epoch 1313\n",
            "Train: 100%|██████████| 82/82 [00:24<00:00,  3.40it/s]\n",
            "Epoch 1314\n",
            "Train: 100%|██████████| 82/82 [00:20<00:00,  3.98it/s]\n",
            "Eval : 100%|██████████| 7/7 [00:02<00:00,  3.09it/s]\n",
            "Epoch 1315\n"
          ]
        },
        {
          "name": "stdout",
          "output_type": "stream",
          "text": [
            "Saving model...\n",
            "{'edit_distance': 112.516, '_num_chars': 125.089, '_num_pred_chars': 121.315, 'nsentences': 1.0, '_world_size': 0.007, '_lm_score_sum': 0.0, '_kaldi_score_sum': 0.0, '_word_lm_sum': 0.0, '_num_words': 0.0, '_vocab_seen': [0.007, 0.007, 0.003, 0.007, 0.007, 0.006, 0.0, 0.007, 0.007, 0.007, 0.007, 0.007, 0.007, 0.007, 0.0, 0.007, 0.0, 0.007, 0.0, 0.007, 0.007, 0.007, 0.007, 0.007, 0.007, 0.007, 0.007, 0.007, 0.007, 0.0, 0.007, 0.0, 0.007, 0.007, 0.007, 0.007, 0.0, 0.007, 0.007, 0.007, 0.0, 0.007, 0.007, 0.0, 0.007, 0.0, 0.005, 0.0, 0.0, 0.0, 0.007, 0.0, 0.0, 0.0, 0.0, 0.0, 0.0, 0.0, 0.0, 0.0]}\n"
          ]
        },
        {
          "name": "stderr",
          "output_type": "stream",
          "text": [
            "Train: 100%|██████████| 82/82 [00:24<00:00,  3.39it/s]\n",
            "Epoch 1316\n",
            "Train: 100%|██████████| 82/82 [00:20<00:00,  3.93it/s]\n",
            "Epoch 1317\n",
            "Train: 100%|██████████| 82/82 [00:24<00:00,  3.35it/s]\n",
            "Epoch 1318\n",
            "Train: 100%|██████████| 82/82 [00:20<00:00,  3.95it/s]\n",
            "Epoch 1319\n",
            "Train: 100%|██████████| 82/82 [00:24<00:00,  3.40it/s]\n",
            "Eval : 100%|██████████| 7/7 [00:02<00:00,  3.08it/s]\n",
            "Epoch 1320\n"
          ]
        },
        {
          "name": "stdout",
          "output_type": "stream",
          "text": [
            "Saving model...\n",
            "{'edit_distance': 108.998, '_num_chars': 125.089, '_num_pred_chars': 115.692, 'nsentences': 1.0, '_world_size': 0.007, '_lm_score_sum': 0.0, '_kaldi_score_sum': 0.0, '_word_lm_sum': 0.0, '_num_words': 0.0, '_vocab_seen': [0.007, 0.007, 0.007, 0.007, 0.007, 0.007, 0.0, 0.0, 0.007, 0.007, 0.007, 0.007, 0.007, 0.007, 0.0, 0.007, 0.0, 0.007, 0.007, 0.007, 0.007, 0.007, 0.007, 0.007, 0.007, 0.007, 0.007, 0.007, 0.007, 0.0, 0.007, 0.007, 0.007, 0.007, 0.007, 0.007, 0.007, 0.007, 0.007, 0.0, 0.0, 0.007, 0.007, 0.0, 0.0, 0.0, 0.0, 0.0, 0.0, 0.0, 0.0, 0.0, 0.0, 0.0, 0.0, 0.0, 0.0, 0.0, 0.0, 0.0]}\n"
          ]
        },
        {
          "name": "stderr",
          "output_type": "stream",
          "text": [
            "Train: 100%|██████████| 82/82 [00:20<00:00,  3.99it/s]\n",
            "Epoch 1321\n",
            "Train: 100%|██████████| 82/82 [00:24<00:00,  3.35it/s]\n",
            "Epoch 1322\n",
            "Train: 100%|██████████| 82/82 [00:20<00:00,  3.93it/s]\n",
            "Epoch 1323\n",
            "Train: 100%|██████████| 82/82 [00:24<00:00,  3.37it/s]\n",
            "Epoch 1324\n",
            "Train: 100%|██████████| 82/82 [00:20<00:00,  3.96it/s]\n",
            "Eval : 100%|██████████| 7/7 [00:02<00:00,  3.12it/s]\n",
            "Epoch 1325\n"
          ]
        },
        {
          "name": "stdout",
          "output_type": "stream",
          "text": [
            "Saving model...\n",
            "{'edit_distance': 110.762, '_num_chars': 125.089, '_num_pred_chars': 117.833, 'nsentences': 1.0, '_world_size': 0.007, '_lm_score_sum': 0.0, '_kaldi_score_sum': 0.0, '_word_lm_sum': 0.0, '_num_words': 0.0, '_vocab_seen': [0.007, 0.007, 0.007, 0.007, 0.007, 0.007, 0.0, 0.0, 0.007, 0.005, 0.007, 0.007, 0.007, 0.007, 0.0, 0.007, 0.007, 0.007, 0.007, 0.007, 0.007, 0.007, 0.007, 0.007, 0.007, 0.007, 0.007, 0.007, 0.007, 0.0, 0.007, 0.0, 0.007, 0.007, 0.007, 0.0, 0.007, 0.007, 0.007, 0.0, 0.0, 0.007, 0.007, 0.0, 0.0, 0.0, 0.0, 0.0, 0.007, 0.0, 0.0, 0.007, 0.0, 0.0, 0.0, 0.0, 0.0, 0.0, 0.0, 0.0]}\n"
          ]
        },
        {
          "name": "stderr",
          "output_type": "stream",
          "text": [
            "Train: 100%|██████████| 82/82 [00:24<00:00,  3.37it/s]\n",
            "Epoch 1326\n",
            "Train: 100%|██████████| 82/82 [00:20<00:00,  3.97it/s]\n",
            "Epoch 1327\n",
            "Train: 100%|██████████| 82/82 [00:24<00:00,  3.39it/s]\n",
            "Epoch 1328\n",
            "Train: 100%|██████████| 82/82 [00:20<00:00,  3.97it/s]\n",
            "Epoch 1329\n",
            "Train: 100%|██████████| 82/82 [00:24<00:00,  3.41it/s]\n",
            "Eval : 100%|██████████| 7/7 [00:02<00:00,  3.06it/s]\n",
            "Epoch 1330\n"
          ]
        },
        {
          "name": "stdout",
          "output_type": "stream",
          "text": [
            "Saving model...\n",
            "{'edit_distance': 110.575, '_num_chars': 125.089, '_num_pred_chars': 116.917, 'nsentences': 1.0, '_world_size': 0.007, '_lm_score_sum': 0.0, '_kaldi_score_sum': 0.0, '_word_lm_sum': 0.0, '_num_words': 0.0, '_vocab_seen': [0.007, 0.007, 0.0, 0.007, 0.0, 0.007, 0.007, 0.007, 0.007, 0.007, 0.007, 0.007, 0.007, 0.007, 0.0, 0.007, 0.007, 0.007, 0.007, 0.007, 0.007, 0.007, 0.007, 0.007, 0.0, 0.007, 0.007, 0.007, 0.007, 0.007, 0.007, 0.0, 0.007, 0.007, 0.007, 0.0, 0.007, 0.007, 0.007, 0.0, 0.0, 0.007, 0.007, 0.0, 0.0, 0.007, 0.0, 0.0, 0.0, 0.0, 0.0, 0.007, 0.0, 0.0, 0.0, 0.0, 0.0, 0.0, 0.0, 0.0]}\n"
          ]
        },
        {
          "name": "stderr",
          "output_type": "stream",
          "text": [
            "Train: 100%|██████████| 82/82 [00:20<00:00,  3.93it/s]\n",
            "Epoch 1331\n",
            "Train: 100%|██████████| 82/82 [00:24<00:00,  3.35it/s]\n",
            "Epoch 1332\n",
            "Train: 100%|██████████| 82/82 [00:20<00:00,  3.94it/s]\n",
            "Epoch 1333\n",
            "Train: 100%|██████████| 82/82 [00:24<00:00,  3.38it/s]\n",
            "Epoch 1334\n",
            "Train: 100%|██████████| 82/82 [00:20<00:00,  3.93it/s]\n",
            "Eval : 100%|██████████| 7/7 [00:02<00:00,  3.12it/s]\n",
            "Epoch 1335\n"
          ]
        },
        {
          "name": "stdout",
          "output_type": "stream",
          "text": [
            "Saving model...\n",
            "{'edit_distance': 115.807, '_num_chars': 125.089, '_num_pred_chars': 118.957, 'nsentences': 1.0, '_world_size': 0.007, '_lm_score_sum': 0.0, '_kaldi_score_sum': 0.0, '_word_lm_sum': 0.0, '_num_words': 0.0, '_vocab_seen': [0.007, 0.007, 0.0, 0.007, 0.007, 0.007, 0.007, 0.007, 0.007, 0.007, 0.007, 0.007, 0.007, 0.007, 0.007, 0.007, 0.007, 0.007, 0.007, 0.007, 0.007, 0.007, 0.007, 0.007, 0.007, 0.007, 0.007, 0.007, 0.007, 0.0, 0.007, 0.007, 0.007, 0.007, 0.007, 0.007, 0.007, 0.007, 0.007, 0.0, 0.007, 0.007, 0.007, 0.007, 0.0, 0.007, 0.0, 0.0, 0.0, 0.0, 0.0, 0.007, 0.0, 0.0, 0.0, 0.0, 0.0, 0.0, 0.0, 0.0]}\n"
          ]
        },
        {
          "name": "stderr",
          "output_type": "stream",
          "text": [
            "Train: 100%|██████████| 82/82 [00:24<00:00,  3.38it/s]\n",
            "Epoch 1336\n",
            "Train: 100%|██████████| 82/82 [00:20<00:00,  3.94it/s]\n",
            "Epoch 1337\n",
            "Train: 100%|██████████| 82/82 [00:24<00:00,  3.34it/s]\n",
            "Epoch 1338\n",
            "Train: 100%|██████████| 82/82 [00:20<00:00,  3.93it/s]\n",
            "Epoch 1339\n",
            "Train: 100%|██████████| 82/82 [00:24<00:00,  3.34it/s]\n",
            "Eval : 100%|██████████| 7/7 [00:02<00:00,  3.04it/s]\n",
            "Epoch 1340\n"
          ]
        },
        {
          "name": "stdout",
          "output_type": "stream",
          "text": [
            "Saving model...\n",
            "{'edit_distance': 112.146, '_num_chars': 125.089, '_num_pred_chars': 118.703, 'nsentences': 1.0, '_world_size': 0.007, '_lm_score_sum': 0.0, '_kaldi_score_sum': 0.0, '_word_lm_sum': 0.0, '_num_words': 0.0, '_vocab_seen': [0.007, 0.007, 0.002, 0.007, 0.007, 0.007, 0.007, 0.007, 0.007, 0.007, 0.007, 0.007, 0.007, 0.007, 0.0, 0.007, 0.0, 0.007, 0.007, 0.007, 0.007, 0.007, 0.007, 0.007, 0.0, 0.007, 0.007, 0.007, 0.007, 0.0, 0.007, 0.0, 0.0, 0.007, 0.007, 0.007, 0.007, 0.007, 0.007, 0.0, 0.007, 0.007, 0.007, 0.007, 0.0, 0.0, 0.007, 0.0, 0.0, 0.0, 0.0, 0.007, 0.0, 0.0, 0.0, 0.0, 0.0, 0.0, 0.0, 0.0]}\n"
          ]
        },
        {
          "name": "stderr",
          "output_type": "stream",
          "text": [
            "Train: 100%|██████████| 82/82 [00:21<00:00,  3.90it/s]\n",
            "Epoch 1341\n",
            "Train: 100%|██████████| 82/82 [00:24<00:00,  3.34it/s]\n",
            "Epoch 1342\n",
            "Train: 100%|██████████| 82/82 [00:20<00:00,  3.97it/s]\n",
            "Epoch 1343\n",
            "Train: 100%|██████████| 82/82 [00:24<00:00,  3.41it/s]\n",
            "Epoch 1344\n",
            "Train: 100%|██████████| 82/82 [00:20<00:00,  3.99it/s]\n",
            "Eval : 100%|██████████| 7/7 [00:02<00:00,  3.01it/s]\n",
            "Epoch 1345\n"
          ]
        },
        {
          "name": "stdout",
          "output_type": "stream",
          "text": [
            "Saving model...\n",
            "{'edit_distance': 111.82, '_num_chars': 125.089, '_num_pred_chars': 117.756, 'nsentences': 1.0, '_world_size': 0.007, '_lm_score_sum': 0.0, '_kaldi_score_sum': 0.0, '_word_lm_sum': 0.0, '_num_words': 0.0, '_vocab_seen': [0.007, 0.007, 0.007, 0.007, 0.007, 0.007, 0.007, 0.0, 0.007, 0.0, 0.007, 0.007, 0.007, 0.007, 0.0, 0.007, 0.0, 0.007, 0.007, 0.007, 0.007, 0.007, 0.007, 0.0, 0.007, 0.007, 0.007, 0.007, 0.007, 0.0, 0.007, 0.0, 0.007, 0.007, 0.007, 0.0, 0.007, 0.007, 0.007, 0.007, 0.007, 0.007, 0.007, 0.007, 0.0, 0.0, 0.0, 0.0, 0.0, 0.0, 0.0, 0.0, 0.0, 0.0, 0.0, 0.0, 0.0, 0.0, 0.0, 0.0]}\n"
          ]
        },
        {
          "name": "stderr",
          "output_type": "stream",
          "text": [
            "Train: 100%|██████████| 82/82 [00:24<00:00,  3.37it/s]\n",
            "Epoch 1346\n",
            "Train: 100%|██████████| 82/82 [00:20<00:00,  3.97it/s]\n",
            "Epoch 1347\n",
            "Train: 100%|██████████| 82/82 [00:24<00:00,  3.41it/s]\n",
            "Epoch 1348\n",
            "Train: 100%|██████████| 82/82 [00:20<00:00,  3.97it/s]\n",
            "Epoch 1349\n",
            "Train: 100%|██████████| 82/82 [00:24<00:00,  3.40it/s]\n",
            "Eval : 100%|██████████| 7/7 [00:02<00:00,  3.05it/s]\n",
            "Epoch 1350\n"
          ]
        },
        {
          "name": "stdout",
          "output_type": "stream",
          "text": [
            "Saving model...\n",
            "{'edit_distance': 109.669, '_num_chars': 125.089, '_num_pred_chars': 108.651, 'nsentences': 1.0, '_world_size': 0.007, '_lm_score_sum': 0.0, '_kaldi_score_sum': 0.0, '_word_lm_sum': 0.0, '_num_words': 0.0, '_vocab_seen': [0.007, 0.007, 0.002, 0.007, 0.007, 0.007, 0.007, 0.007, 0.007, 0.007, 0.007, 0.007, 0.007, 0.007, 0.0, 0.007, 0.0, 0.007, 0.007, 0.007, 0.007, 0.007, 0.007, 0.0, 0.0, 0.007, 0.007, 0.007, 0.007, 0.007, 0.007, 0.0, 0.007, 0.007, 0.007, 0.0, 0.007, 0.007, 0.007, 0.0, 0.007, 0.007, 0.007, 0.007, 0.0, 0.0, 0.0, 0.0, 0.0, 0.007, 0.0, 0.0, 0.0, 0.0, 0.0, 0.0, 0.0, 0.0, 0.0, 0.0]}\n"
          ]
        },
        {
          "name": "stderr",
          "output_type": "stream",
          "text": [
            "Train: 100%|██████████| 82/82 [00:20<00:00,  3.91it/s]\n",
            "Epoch 1351\n",
            "Train: 100%|██████████| 82/82 [00:24<00:00,  3.33it/s]\n",
            "Epoch 1352\n",
            "Train: 100%|██████████| 82/82 [00:20<00:00,  3.96it/s]\n",
            "Epoch 1353\n",
            "Train: 100%|██████████| 82/82 [00:24<00:00,  3.35it/s]\n",
            "Epoch 1354\n",
            "Train: 100%|██████████| 82/82 [00:20<00:00,  3.98it/s]\n",
            "Eval : 100%|██████████| 7/7 [00:02<00:00,  3.04it/s]\n",
            "Epoch 1355\n"
          ]
        },
        {
          "name": "stdout",
          "output_type": "stream",
          "text": [
            "Saving model...\n",
            "{'edit_distance': 109.143, '_num_chars': 125.089, '_num_pred_chars': 112.138, 'nsentences': 1.0, '_world_size': 0.007, '_lm_score_sum': 0.0, '_kaldi_score_sum': 0.0, '_word_lm_sum': 0.0, '_num_words': 0.0, '_vocab_seen': [0.007, 0.007, 0.007, 0.007, 0.007, 0.007, 0.007, 0.0, 0.007, 0.001, 0.007, 0.007, 0.007, 0.007, 0.007, 0.007, 0.007, 0.007, 0.007, 0.007, 0.007, 0.007, 0.007, 0.002, 0.0, 0.007, 0.007, 0.007, 0.007, 0.0, 0.007, 0.0, 0.007, 0.007, 0.007, 0.007, 0.007, 0.007, 0.007, 0.0, 0.0, 0.007, 0.0, 0.0, 0.0, 0.001, 0.007, 0.007, 0.0, 0.007, 0.007, 0.0, 0.0, 0.0, 0.0, 0.0, 0.0, 0.0, 0.0, 0.0]}\n"
          ]
        },
        {
          "name": "stderr",
          "output_type": "stream",
          "text": [
            "Train: 100%|██████████| 82/82 [00:24<00:00,  3.41it/s]\n",
            "Epoch 1356\n",
            "Train: 100%|██████████| 82/82 [00:20<00:00,  3.95it/s]\n",
            "Epoch 1357\n",
            "Train: 100%|██████████| 82/82 [00:24<00:00,  3.35it/s]\n",
            "Epoch 1358\n",
            "Train: 100%|██████████| 82/82 [00:20<00:00,  3.95it/s]\n",
            "Epoch 1359\n",
            "Train: 100%|██████████| 82/82 [00:24<00:00,  3.36it/s]\n",
            "Eval : 100%|██████████| 7/7 [00:02<00:00,  3.10it/s]\n",
            "Epoch 1360\n"
          ]
        },
        {
          "name": "stdout",
          "output_type": "stream",
          "text": [
            "Saving model...\n",
            "{'edit_distance': 111.882, '_num_chars': 125.089, '_num_pred_chars': 120.258, 'nsentences': 1.0, '_world_size': 0.007, '_lm_score_sum': 0.0, '_kaldi_score_sum': 0.0, '_word_lm_sum': 0.0, '_num_words': 0.0, '_vocab_seen': [0.007, 0.007, 0.007, 0.007, 0.007, 0.007, 0.007, 0.007, 0.007, 0.0, 0.007, 0.007, 0.007, 0.007, 0.0, 0.007, 0.002, 0.007, 0.007, 0.007, 0.007, 0.007, 0.007, 0.007, 0.0, 0.007, 0.006, 0.007, 0.007, 0.0, 0.007, 0.0, 0.0, 0.007, 0.007, 0.007, 0.007, 0.007, 0.007, 0.0, 0.0, 0.007, 0.0, 0.0, 0.007, 0.0, 0.007, 0.007, 0.0, 0.007, 0.007, 0.007, 0.0, 0.0, 0.0, 0.0, 0.0, 0.0, 0.0, 0.0]}\n"
          ]
        },
        {
          "name": "stderr",
          "output_type": "stream",
          "text": [
            "Train: 100%|██████████| 82/82 [00:20<00:00,  3.96it/s]\n",
            "Epoch 1361\n",
            "Train: 100%|██████████| 82/82 [00:24<00:00,  3.35it/s]\n",
            "Epoch 1362\n",
            "Train: 100%|██████████| 82/82 [00:20<00:00,  3.96it/s]\n",
            "Epoch 1363\n",
            "Train: 100%|██████████| 82/82 [00:24<00:00,  3.36it/s]\n",
            "Epoch 1364\n",
            "Train: 100%|██████████| 82/82 [00:20<00:00,  3.95it/s]\n",
            "Eval : 100%|██████████| 7/7 [00:02<00:00,  3.10it/s]\n",
            "Epoch 1365\n"
          ]
        },
        {
          "name": "stdout",
          "output_type": "stream",
          "text": [
            "Saving model...\n",
            "{'edit_distance': 113.932, '_num_chars': 125.089, '_num_pred_chars': 123.893, 'nsentences': 1.0, '_world_size': 0.007, '_lm_score_sum': 0.0, '_kaldi_score_sum': 0.0, '_word_lm_sum': 0.0, '_num_words': 0.0, '_vocab_seen': [0.007, 0.007, 0.007, 0.007, 0.007, 0.007, 0.007, 0.0, 0.007, 0.0, 0.007, 0.007, 0.007, 0.007, 0.0, 0.007, 0.007, 0.007, 0.007, 0.007, 0.007, 0.007, 0.007, 0.007, 0.0, 0.007, 0.007, 0.007, 0.007, 0.0, 0.007, 0.0, 0.007, 0.007, 0.007, 0.0, 0.007, 0.007, 0.007, 0.007, 0.0, 0.007, 0.0, 0.0, 0.0, 0.003, 0.007, 0.007, 0.007, 0.007, 0.007, 0.0, 0.0, 0.0, 0.0, 0.0, 0.0, 0.0, 0.0, 0.0]}\n"
          ]
        },
        {
          "name": "stderr",
          "output_type": "stream",
          "text": [
            "Train: 100%|██████████| 82/82 [00:24<00:00,  3.33it/s]\n",
            "Epoch 1366\n",
            "Train: 100%|██████████| 82/82 [00:20<00:00,  3.96it/s]\n",
            "Epoch 1367\n",
            "Train: 100%|██████████| 82/82 [00:24<00:00,  3.38it/s]\n",
            "Epoch 1368\n",
            "Train: 100%|██████████| 82/82 [00:20<00:00,  3.96it/s]\n",
            "Epoch 1369\n",
            "Train: 100%|██████████| 82/82 [00:24<00:00,  3.37it/s]\n",
            "Eval : 100%|██████████| 7/7 [00:02<00:00,  3.05it/s]\n",
            "Epoch 1370\n"
          ]
        },
        {
          "name": "stdout",
          "output_type": "stream",
          "text": [
            "Saving model...\n",
            "{'edit_distance': 111.671, '_num_chars': 125.089, '_num_pred_chars': 117.95, 'nsentences': 1.0, '_world_size': 0.007, '_lm_score_sum': 0.0, '_kaldi_score_sum': 0.0, '_word_lm_sum': 0.0, '_num_words': 0.0, '_vocab_seen': [0.007, 0.007, 0.007, 0.007, 0.007, 0.007, 0.0, 0.0, 0.007, 0.0, 0.007, 0.007, 0.007, 0.007, 0.007, 0.007, 0.0, 0.007, 0.007, 0.007, 0.007, 0.007, 0.007, 0.007, 0.007, 0.007, 0.007, 0.007, 0.007, 0.007, 0.007, 0.0, 0.007, 0.007, 0.007, 0.0, 0.007, 0.007, 0.007, 0.0, 0.0, 0.007, 0.0, 0.0, 0.0, 0.0, 0.0, 0.007, 0.0, 0.0, 0.0, 0.0, 0.0, 0.0, 0.0, 0.0, 0.0, 0.0, 0.0, 0.0]}\n"
          ]
        },
        {
          "name": "stderr",
          "output_type": "stream",
          "text": [
            "Train: 100%|██████████| 82/82 [00:20<00:00,  3.95it/s]\n",
            "Epoch 1371\n",
            "Train: 100%|██████████| 82/82 [00:24<00:00,  3.36it/s]\n",
            "Epoch 1372\n",
            "Train: 100%|██████████| 82/82 [00:20<00:00,  3.95it/s]\n",
            "Epoch 1373\n",
            "Train: 100%|██████████| 82/82 [00:24<00:00,  3.38it/s]\n",
            "Epoch 1374\n",
            "Train: 100%|██████████| 82/82 [00:20<00:00,  3.95it/s]\n",
            "Eval : 100%|██████████| 7/7 [00:02<00:00,  3.07it/s]\n",
            "Epoch 1375\n"
          ]
        },
        {
          "name": "stdout",
          "output_type": "stream",
          "text": [
            "Saving model...\n",
            "{'edit_distance': 109.9, '_num_chars': 125.089, '_num_pred_chars': 118.33, 'nsentences': 1.0, '_world_size': 0.007, '_lm_score_sum': 0.0, '_kaldi_score_sum': 0.0, '_word_lm_sum': 0.0, '_num_words': 0.0, '_vocab_seen': [0.007, 0.007, 0.007, 0.007, 0.007, 0.007, 0.007, 0.001, 0.007, 0.0, 0.007, 0.007, 0.007, 0.007, 0.0, 0.007, 0.0, 0.007, 0.007, 0.007, 0.007, 0.007, 0.007, 0.007, 0.0, 0.004, 0.007, 0.007, 0.007, 0.0, 0.007, 0.0, 0.007, 0.007, 0.007, 0.0, 0.007, 0.007, 0.007, 0.007, 0.007, 0.007, 0.0, 0.0, 0.004, 0.0, 0.0, 0.007, 0.0, 0.0, 0.0, 0.0, 0.0, 0.0, 0.0, 0.0, 0.0, 0.0, 0.0, 0.0]}\n"
          ]
        },
        {
          "name": "stderr",
          "output_type": "stream",
          "text": [
            "Train: 100%|██████████| 82/82 [00:24<00:00,  3.38it/s]\n",
            "Epoch 1376\n",
            "Train: 100%|██████████| 82/82 [00:20<00:00,  3.95it/s]\n",
            "Epoch 1377\n",
            "Train: 100%|██████████| 82/82 [00:23<00:00,  3.42it/s]\n",
            "Epoch 1378\n",
            "Train: 100%|██████████| 82/82 [00:20<00:00,  3.97it/s]\n",
            "Epoch 1379\n",
            "Train: 100%|██████████| 82/82 [00:24<00:00,  3.39it/s]\n",
            "Eval : 100%|██████████| 7/7 [00:02<00:00,  3.10it/s]\n",
            "Epoch 1380\n"
          ]
        },
        {
          "name": "stdout",
          "output_type": "stream",
          "text": [
            "Saving model...\n",
            "{'edit_distance': 111.475, '_num_chars': 125.089, '_num_pred_chars': 119.299, 'nsentences': 1.0, '_world_size': 0.007, '_lm_score_sum': 0.0, '_kaldi_score_sum': 0.0, '_word_lm_sum': 0.0, '_num_words': 0.0, '_vocab_seen': [0.007, 0.007, 0.007, 0.007, 0.007, 0.007, 0.0, 0.0, 0.007, 0.002, 0.007, 0.007, 0.007, 0.007, 0.0, 0.007, 0.007, 0.007, 0.007, 0.007, 0.007, 0.007, 0.007, 0.0, 0.0, 0.0, 0.007, 0.006, 0.007, 0.0, 0.007, 0.007, 0.007, 0.007, 0.007, 0.007, 0.007, 0.007, 0.007, 0.007, 0.007, 0.0, 0.0, 0.007, 0.0, 0.0, 0.0, 0.0, 0.0, 0.0, 0.0, 0.0, 0.0, 0.0, 0.007, 0.0, 0.0, 0.0, 0.0, 0.0]}\n"
          ]
        },
        {
          "name": "stderr",
          "output_type": "stream",
          "text": [
            "Train: 100%|██████████| 82/82 [00:20<00:00,  3.92it/s]\n",
            "Epoch 1381\n",
            "Train: 100%|██████████| 82/82 [00:24<00:00,  3.37it/s]\n",
            "Epoch 1382\n",
            "Train: 100%|██████████| 82/82 [00:21<00:00,  3.81it/s]\n",
            "Epoch 1383\n",
            "Train: 100%|██████████| 82/82 [00:24<00:00,  3.34it/s]\n",
            "Epoch 1384\n",
            "Train: 100%|██████████| 82/82 [00:20<00:00,  3.94it/s]\n",
            "Eval : 100%|██████████| 7/7 [00:02<00:00,  3.06it/s]\n",
            "Epoch 1385\n"
          ]
        },
        {
          "name": "stdout",
          "output_type": "stream",
          "text": [
            "Saving model...\n",
            "{'edit_distance': 113.56, '_num_chars': 125.089, '_num_pred_chars': 121.783, 'nsentences': 1.0, '_world_size': 0.007, '_lm_score_sum': 0.0, '_kaldi_score_sum': 0.0, '_word_lm_sum': 0.0, '_num_words': 0.0, '_vocab_seen': [0.007, 0.007, 0.007, 0.007, 0.007, 0.007, 0.0, 0.006, 0.007, 0.0, 0.007, 0.007, 0.007, 0.007, 0.0, 0.007, 0.007, 0.007, 0.007, 0.007, 0.007, 0.007, 0.007, 0.007, 0.0, 0.007, 0.007, 0.007, 0.007, 0.0, 0.007, 0.0, 0.007, 0.007, 0.007, 0.0, 0.007, 0.007, 0.007, 0.0, 0.007, 0.007, 0.007, 0.0, 0.0, 0.003, 0.0, 0.0, 0.0, 0.0, 0.0, 0.0, 0.0, 0.007, 0.0, 0.007, 0.0, 0.0, 0.0, 0.0]}\n"
          ]
        },
        {
          "name": "stderr",
          "output_type": "stream",
          "text": [
            "Train: 100%|██████████| 82/82 [00:24<00:00,  3.37it/s]\n",
            "Epoch 1386\n",
            "Train: 100%|██████████| 82/82 [00:20<00:00,  3.94it/s]\n",
            "Epoch 1387\n",
            "Train: 100%|██████████| 82/82 [00:24<00:00,  3.35it/s]\n",
            "Epoch 1388\n",
            "Train: 100%|██████████| 82/82 [00:20<00:00,  3.97it/s]\n",
            "Epoch 1389\n",
            "Train: 100%|██████████| 82/82 [00:24<00:00,  3.36it/s]\n",
            "Eval : 100%|██████████| 7/7 [00:02<00:00,  3.04it/s]\n",
            "Epoch 1390\n"
          ]
        },
        {
          "name": "stdout",
          "output_type": "stream",
          "text": [
            "Saving model...\n",
            "{'edit_distance': 112.112, '_num_chars': 125.089, '_num_pred_chars': 118.734, 'nsentences': 1.0, '_world_size': 0.007, '_lm_score_sum': 0.0, '_kaldi_score_sum': 0.0, '_word_lm_sum': 0.0, '_num_words': 0.0, '_vocab_seen': [0.007, 0.007, 0.007, 0.007, 0.007, 0.007, 0.0, 0.007, 0.007, 0.007, 0.007, 0.007, 0.007, 0.007, 0.007, 0.007, 0.007, 0.007, 0.005, 0.007, 0.007, 0.007, 0.007, 0.007, 0.0, 0.001, 0.0, 0.007, 0.007, 0.0, 0.007, 0.0, 0.007, 0.007, 0.007, 0.0, 0.007, 0.007, 0.007, 0.0, 0.007, 0.007, 0.007, 0.0, 0.0, 0.007, 0.0, 0.0, 0.007, 0.0, 0.0, 0.0, 0.0, 0.007, 0.0, 0.007, 0.0, 0.0, 0.0, 0.0]}\n"
          ]
        },
        {
          "name": "stderr",
          "output_type": "stream",
          "text": [
            "Train: 100%|██████████| 82/82 [00:20<00:00,  3.93it/s]\n",
            "Epoch 1391\n",
            "Train: 100%|██████████| 82/82 [00:24<00:00,  3.34it/s]\n",
            "Epoch 1392\n",
            "Train: 100%|██████████| 82/82 [00:20<00:00,  3.98it/s]\n",
            "Epoch 1393\n",
            "Train: 100%|██████████| 82/82 [00:24<00:00,  3.39it/s]\n",
            "Epoch 1394\n",
            "Train: 100%|██████████| 82/82 [00:20<00:00,  3.93it/s]\n",
            "Eval : 100%|██████████| 7/7 [00:02<00:00,  3.10it/s]\n",
            "Epoch 1395\n"
          ]
        },
        {
          "name": "stdout",
          "output_type": "stream",
          "text": [
            "Saving model...\n",
            "{'edit_distance': 110.871, '_num_chars': 125.089, '_num_pred_chars': 119.1, 'nsentences': 1.0, '_world_size': 0.007, '_lm_score_sum': 0.0, '_kaldi_score_sum': 0.0, '_word_lm_sum': 0.0, '_num_words': 0.0, '_vocab_seen': [0.007, 0.007, 0.007, 0.007, 0.007, 0.007, 0.007, 0.007, 0.007, 0.007, 0.007, 0.007, 0.007, 0.0, 0.0, 0.007, 0.007, 0.007, 0.007, 0.007, 0.007, 0.007, 0.007, 0.0, 0.007, 0.0, 0.0, 0.007, 0.007, 0.007, 0.007, 0.0, 0.007, 0.007, 0.007, 0.0, 0.007, 0.007, 0.007, 0.0, 0.0, 0.007, 0.007, 0.0, 0.0, 0.007, 0.0, 0.0, 0.007, 0.0, 0.0, 0.0, 0.0, 0.006, 0.0, 0.007, 0.0, 0.0, 0.0, 0.0]}\n"
          ]
        },
        {
          "name": "stderr",
          "output_type": "stream",
          "text": [
            "Train: 100%|██████████| 82/82 [00:24<00:00,  3.34it/s]\n",
            "Epoch 1396\n",
            "Train: 100%|██████████| 82/82 [00:20<00:00,  3.96it/s]\n",
            "Epoch 1397\n",
            "Train: 100%|██████████| 82/82 [00:24<00:00,  3.34it/s]\n",
            "Epoch 1398\n",
            "Train: 100%|██████████| 82/82 [00:20<00:00,  3.93it/s]\n",
            "Epoch 1399\n",
            "Train: 100%|██████████| 82/82 [00:23<00:00,  3.43it/s]\n",
            "Eval : 100%|██████████| 7/7 [00:02<00:00,  3.09it/s]\n",
            "Epoch 1400\n"
          ]
        },
        {
          "name": "stdout",
          "output_type": "stream",
          "text": [
            "Saving model...\n",
            "{'edit_distance': 110.041, '_num_chars': 125.089, '_num_pred_chars': 114.394, 'nsentences': 1.0, '_world_size': 0.007, '_lm_score_sum': 0.0, '_kaldi_score_sum': 0.0, '_word_lm_sum': 0.0, '_num_words': 0.0, '_vocab_seen': [0.007, 0.007, 0.006, 0.007, 0.007, 0.007, 0.0, 0.007, 0.007, 0.007, 0.007, 0.007, 0.007, 0.007, 0.0, 0.007, 0.007, 0.007, 0.007, 0.007, 0.007, 0.007, 0.007, 0.0, 0.007, 0.007, 0.007, 0.007, 0.007, 0.007, 0.007, 0.0, 0.006, 0.007, 0.007, 0.0, 0.007, 0.007, 0.007, 0.0, 0.0, 0.007, 0.0, 0.0, 0.0, 0.0, 0.007, 0.0, 0.0, 0.0, 0.0, 0.0, 0.0, 0.006, 0.0, 0.007, 0.0, 0.0, 0.0, 0.0]}\n"
          ]
        },
        {
          "name": "stderr",
          "output_type": "stream",
          "text": [
            "Train: 100%|██████████| 82/82 [00:20<00:00,  3.94it/s]\n",
            "Epoch 1401\n",
            "Train: 100%|██████████| 82/82 [00:24<00:00,  3.37it/s]\n",
            "Epoch 1402\n",
            "Train: 100%|██████████| 82/82 [00:20<00:00,  3.94it/s]\n",
            "Epoch 1403\n",
            "Train: 100%|██████████| 82/82 [00:24<00:00,  3.35it/s]\n",
            "Epoch 1404\n",
            "Train: 100%|██████████| 82/82 [00:20<00:00,  3.96it/s]\n",
            "Eval : 100%|██████████| 7/7 [00:02<00:00,  3.09it/s]\n",
            "Epoch 1405\n"
          ]
        },
        {
          "name": "stdout",
          "output_type": "stream",
          "text": [
            "Saving model...\n",
            "{'edit_distance': 112.946, '_num_chars': 125.089, '_num_pred_chars': 118.962, 'nsentences': 1.0, '_world_size': 0.007, '_lm_score_sum': 0.0, '_kaldi_score_sum': 0.0, '_word_lm_sum': 0.0, '_num_words': 0.0, '_vocab_seen': [0.007, 0.007, 0.007, 0.007, 0.007, 0.007, 0.007, 0.007, 0.007, 0.007, 0.007, 0.0, 0.007, 0.007, 0.001, 0.007, 0.007, 0.007, 0.007, 0.007, 0.007, 0.007, 0.007, 0.0, 0.007, 0.0, 0.007, 0.007, 0.007, 0.007, 0.007, 0.0, 0.0, 0.007, 0.007, 0.006, 0.007, 0.007, 0.007, 0.007, 0.006, 0.007, 0.0, 0.0, 0.007, 0.0, 0.007, 0.0, 0.0, 0.0, 0.0, 0.0, 0.0, 0.0, 0.0, 0.007, 0.0, 0.0, 0.0, 0.0]}\n"
          ]
        },
        {
          "name": "stderr",
          "output_type": "stream",
          "text": [
            "Train: 100%|██████████| 82/82 [00:24<00:00,  3.35it/s]\n",
            "Epoch 1406\n",
            "Train: 100%|██████████| 82/82 [00:20<00:00,  3.98it/s]\n",
            "Epoch 1407\n",
            "Train: 100%|██████████| 82/82 [00:24<00:00,  3.37it/s]\n",
            "Epoch 1408\n",
            "Train: 100%|██████████| 82/82 [00:20<00:00,  3.96it/s]\n",
            "Epoch 1409\n",
            "Train: 100%|██████████| 82/82 [00:24<00:00,  3.30it/s]\n",
            "Eval : 100%|██████████| 7/7 [00:02<00:00,  3.10it/s]\n",
            "Epoch 1410\n"
          ]
        },
        {
          "name": "stdout",
          "output_type": "stream",
          "text": [
            "Saving model...\n",
            "{'edit_distance': 117.019, '_num_chars': 125.089, '_num_pred_chars': 128.892, 'nsentences': 1.0, '_world_size': 0.007, '_lm_score_sum': 0.0, '_kaldi_score_sum': 0.0, '_word_lm_sum': 0.0, '_num_words': 0.0, '_vocab_seen': [0.007, 0.007, 0.007, 0.007, 0.002, 0.007, 0.0, 0.007, 0.007, 0.007, 0.007, 0.007, 0.007, 0.007, 0.0, 0.007, 0.007, 0.007, 0.007, 0.007, 0.007, 0.007, 0.007, 0.0, 0.007, 0.0, 0.007, 0.007, 0.007, 0.002, 0.007, 0.0, 0.007, 0.007, 0.007, 0.007, 0.0, 0.007, 0.007, 0.007, 0.007, 0.0, 0.0, 0.007, 0.007, 0.0, 0.0, 0.0, 0.0, 0.0, 0.0, 0.0, 0.0, 0.0, 0.0, 0.0, 0.0, 0.0, 0.0, 0.0]}\n"
          ]
        },
        {
          "name": "stderr",
          "output_type": "stream",
          "text": [
            "Train: 100%|██████████| 82/82 [00:20<00:00,  3.93it/s]\n",
            "Epoch 1411\n",
            "Train: 100%|██████████| 82/82 [00:24<00:00,  3.37it/s]\n",
            "Epoch 1412\n",
            "Train: 100%|██████████| 82/82 [00:20<00:00,  3.97it/s]\n",
            "Epoch 1413\n",
            "Train: 100%|██████████| 82/82 [00:24<00:00,  3.40it/s]\n",
            "Epoch 1414\n",
            "Train: 100%|██████████| 82/82 [00:20<00:00,  3.96it/s]\n",
            "Eval : 100%|██████████| 7/7 [00:02<00:00,  3.13it/s]\n",
            "Epoch 1415\n"
          ]
        },
        {
          "name": "stdout",
          "output_type": "stream",
          "text": [
            "Saving model...\n",
            "{'edit_distance': 111.523, '_num_chars': 125.089, '_num_pred_chars': 115.485, 'nsentences': 1.0, '_world_size': 0.007, '_lm_score_sum': 0.0, '_kaldi_score_sum': 0.0, '_word_lm_sum': 0.0, '_num_words': 0.0, '_vocab_seen': [0.007, 0.007, 0.0, 0.007, 0.007, 0.007, 0.0, 0.007, 0.007, 0.007, 0.007, 0.005, 0.007, 0.007, 0.0, 0.007, 0.007, 0.007, 0.007, 0.007, 0.007, 0.007, 0.007, 0.007, 0.001, 0.007, 0.007, 0.007, 0.007, 0.0, 0.007, 0.007, 0.007, 0.007, 0.007, 0.002, 0.007, 0.007, 0.007, 0.007, 0.007, 0.007, 0.0, 0.007, 0.007, 0.007, 0.0, 0.0, 0.0, 0.0, 0.007, 0.0, 0.0, 0.0, 0.0, 0.0, 0.0, 0.0, 0.0, 0.0]}\n"
          ]
        },
        {
          "name": "stderr",
          "output_type": "stream",
          "text": [
            "Train: 100%|██████████| 82/82 [00:24<00:00,  3.42it/s]\n",
            "Epoch 1416\n",
            "Train: 100%|██████████| 82/82 [00:20<00:00,  3.95it/s]\n",
            "Epoch 1417\n",
            "Train: 100%|██████████| 82/82 [00:24<00:00,  3.38it/s]\n",
            "Epoch 1418\n",
            "Train: 100%|██████████| 82/82 [00:20<00:00,  3.98it/s]\n",
            "Epoch 1419\n",
            "Train: 100%|██████████| 82/82 [00:24<00:00,  3.40it/s]\n",
            "Eval : 100%|██████████| 7/7 [00:02<00:00,  3.05it/s]\n",
            "Epoch 1420\n"
          ]
        },
        {
          "name": "stdout",
          "output_type": "stream",
          "text": [
            "Saving model...\n",
            "{'edit_distance': 111.036, '_num_chars': 125.089, '_num_pred_chars': 118.689, 'nsentences': 1.0, '_world_size': 0.007, '_lm_score_sum': 0.0, '_kaldi_score_sum': 0.0, '_word_lm_sum': 0.0, '_num_words': 0.0, '_vocab_seen': [0.007, 0.007, 0.007, 0.007, 0.007, 0.007, 0.0, 0.007, 0.007, 0.002, 0.007, 0.0, 0.007, 0.007, 0.0, 0.007, 0.0, 0.007, 0.007, 0.007, 0.007, 0.007, 0.007, 0.0, 0.0, 0.007, 0.007, 0.007, 0.007, 0.007, 0.007, 0.007, 0.007, 0.007, 0.007, 0.0, 0.007, 0.007, 0.007, 0.007, 0.007, 0.0, 0.0, 0.0, 0.007, 0.0, 0.0, 0.0, 0.007, 0.0, 0.007, 0.0, 0.0, 0.0, 0.0, 0.0, 0.0, 0.0, 0.0, 0.0]}\n"
          ]
        },
        {
          "name": "stderr",
          "output_type": "stream",
          "text": [
            "Train: 100%|██████████| 82/82 [00:20<00:00,  3.95it/s]\n",
            "Epoch 1421\n",
            "Train: 100%|██████████| 82/82 [00:24<00:00,  3.36it/s]\n",
            "Epoch 1422\n",
            "Train: 100%|██████████| 82/82 [00:20<00:00,  3.98it/s]\n",
            "Epoch 1423\n",
            "Train: 100%|██████████| 82/82 [00:24<00:00,  3.39it/s]\n",
            "Epoch 1424\n",
            "Train: 100%|██████████| 82/82 [00:20<00:00,  3.93it/s]\n",
            "Eval : 100%|██████████| 7/7 [00:02<00:00,  3.02it/s]\n",
            "Epoch 1425\n"
          ]
        },
        {
          "name": "stdout",
          "output_type": "stream",
          "text": [
            "Saving model...\n",
            "{'edit_distance': 112.096, '_num_chars': 125.089, '_num_pred_chars': 115.201, 'nsentences': 1.0, '_world_size': 0.007, '_lm_score_sum': 0.0, '_kaldi_score_sum': 0.0, '_word_lm_sum': 0.0, '_num_words': 0.0, '_vocab_seen': [0.007, 0.007, 0.0, 0.007, 0.0, 0.007, 0.005, 0.007, 0.007, 0.0, 0.007, 0.0, 0.007, 0.0, 0.007, 0.007, 0.007, 0.007, 0.0, 0.007, 0.007, 0.007, 0.007, 0.0, 0.0, 0.007, 0.007, 0.007, 0.007, 0.0, 0.007, 0.007, 0.007, 0.007, 0.007, 0.0, 0.007, 0.007, 0.0, 0.001, 0.0, 0.0, 0.007, 0.0, 0.007, 0.0, 0.0, 0.0, 0.0, 0.0, 0.007, 0.0, 0.0, 0.0, 0.0, 0.0, 0.0, 0.0, 0.0, 0.0]}\n"
          ]
        },
        {
          "name": "stderr",
          "output_type": "stream",
          "text": [
            "Train: 100%|██████████| 82/82 [00:24<00:00,  3.36it/s]\n",
            "Epoch 1426\n",
            "Train: 100%|██████████| 82/82 [00:20<00:00,  3.97it/s]\n",
            "Epoch 1427\n",
            "Train: 100%|██████████| 82/82 [00:24<00:00,  3.41it/s]\n",
            "Epoch 1428\n",
            "Train: 100%|██████████| 82/82 [00:20<00:00,  3.97it/s]\n",
            "Epoch 1429\n",
            "Train: 100%|██████████| 82/82 [00:24<00:00,  3.39it/s]\n",
            "Eval : 100%|██████████| 7/7 [00:02<00:00,  3.15it/s]\n",
            "Epoch 1430\n"
          ]
        },
        {
          "name": "stdout",
          "output_type": "stream",
          "text": [
            "Saving model...\n",
            "{'edit_distance': 109.473, '_num_chars': 125.089, '_num_pred_chars': 109.977, 'nsentences': 1.0, '_world_size': 0.007, '_lm_score_sum': 0.0, '_kaldi_score_sum': 0.0, '_word_lm_sum': 0.0, '_num_words': 0.0, '_vocab_seen': [0.007, 0.007, 0.007, 0.007, 0.007, 0.007, 0.007, 0.0, 0.007, 0.007, 0.007, 0.004, 0.007, 0.0, 0.007, 0.007, 0.0, 0.007, 0.007, 0.007, 0.007, 0.007, 0.007, 0.007, 0.0, 0.007, 0.007, 0.007, 0.007, 0.0, 0.007, 0.007, 0.0, 0.007, 0.007, 0.0, 0.007, 0.007, 0.0, 0.0, 0.0, 0.007, 0.007, 0.0, 0.007, 0.0, 0.0, 0.0, 0.0, 0.0, 0.007, 0.0, 0.0, 0.0, 0.0, 0.0, 0.0, 0.0, 0.0, 0.0]}\n"
          ]
        },
        {
          "name": "stderr",
          "output_type": "stream",
          "text": [
            "Train: 100%|██████████| 82/82 [00:20<00:00,  3.95it/s]\n",
            "Epoch 1431\n",
            "Train: 100%|██████████| 82/82 [00:24<00:00,  3.35it/s]\n",
            "Epoch 1432\n",
            "Train: 100%|██████████| 82/82 [00:20<00:00,  3.97it/s]\n",
            "Epoch 1433\n",
            "Train: 100%|██████████| 82/82 [00:24<00:00,  3.38it/s]\n",
            "Epoch 1434\n",
            "Train: 100%|██████████| 82/82 [00:20<00:00,  3.98it/s]\n",
            "Eval : 100%|██████████| 7/7 [00:02<00:00,  3.20it/s]\n",
            "Epoch 1435\n"
          ]
        },
        {
          "name": "stdout",
          "output_type": "stream",
          "text": [
            "Saving model...\n",
            "{'edit_distance': 112.999, '_num_chars': 125.089, '_num_pred_chars': 119.704, 'nsentences': 1.0, '_world_size': 0.007, '_lm_score_sum': 0.0, '_kaldi_score_sum': 0.0, '_word_lm_sum': 0.0, '_num_words': 0.0, '_vocab_seen': [0.007, 0.007, 0.007, 0.007, 0.007, 0.007, 0.0, 0.007, 0.007, 0.0, 0.007, 0.0, 0.007, 0.004, 0.0, 0.007, 0.0, 0.007, 0.007, 0.007, 0.007, 0.007, 0.007, 0.007, 0.007, 0.007, 0.007, 0.0, 0.007, 0.0, 0.007, 0.007, 0.007, 0.007, 0.007, 0.0, 0.007, 0.007, 0.007, 0.0, 0.007, 0.007, 0.0, 0.007, 0.007, 0.0, 0.0, 0.0, 0.0, 0.0, 0.0, 0.0, 0.0, 0.0, 0.007, 0.0, 0.0, 0.0, 0.0, 0.0]}\n"
          ]
        },
        {
          "name": "stderr",
          "output_type": "stream",
          "text": [
            "Train: 100%|██████████| 82/82 [00:24<00:00,  3.37it/s]\n",
            "Epoch 1436\n",
            "Train: 100%|██████████| 82/82 [00:20<00:00,  3.97it/s]\n",
            "Epoch 1437\n",
            "Train: 100%|██████████| 82/82 [00:23<00:00,  3.42it/s]\n",
            "Epoch 1438\n",
            "Train: 100%|██████████| 82/82 [00:20<00:00,  3.96it/s]\n",
            "Epoch 1439\n",
            "Train: 100%|██████████| 82/82 [00:24<00:00,  3.39it/s]\n",
            "Eval : 100%|██████████| 7/7 [00:02<00:00,  3.05it/s]\n",
            "Epoch 1440\n"
          ]
        },
        {
          "name": "stdout",
          "output_type": "stream",
          "text": [
            "Saving model...\n",
            "{'edit_distance': 111.019, '_num_chars': 125.089, '_num_pred_chars': 113.209, 'nsentences': 1.0, '_world_size': 0.007, '_lm_score_sum': 0.0, '_kaldi_score_sum': 0.0, '_word_lm_sum': 0.0, '_num_words': 0.0, '_vocab_seen': [0.007, 0.007, 0.005, 0.007, 0.007, 0.007, 0.0, 0.007, 0.007, 0.0, 0.007, 0.007, 0.007, 0.0, 0.0, 0.007, 0.007, 0.007, 0.007, 0.007, 0.007, 0.007, 0.007, 0.007, 0.007, 0.007, 0.007, 0.0, 0.007, 0.0, 0.007, 0.007, 0.0, 0.007, 0.007, 0.0, 0.007, 0.007, 0.007, 0.0, 0.007, 0.0, 0.0, 0.0, 0.007, 0.007, 0.007, 0.0, 0.0, 0.0, 0.0, 0.0, 0.0, 0.0, 0.007, 0.0, 0.0, 0.0, 0.0, 0.0]}\n"
          ]
        },
        {
          "name": "stderr",
          "output_type": "stream",
          "text": [
            "Train: 100%|██████████| 82/82 [00:20<00:00,  3.94it/s]\n",
            "Epoch 1441\n",
            "Train: 100%|██████████| 82/82 [00:24<00:00,  3.37it/s]\n",
            "Epoch 1442\n",
            "Train: 100%|██████████| 82/82 [00:20<00:00,  3.97it/s]\n",
            "Epoch 1443\n",
            "Train: 100%|██████████| 82/82 [00:24<00:00,  3.37it/s]\n",
            "Epoch 1444\n",
            "Train: 100%|██████████| 82/82 [00:20<00:00,  3.91it/s]\n",
            "Eval : 100%|██████████| 7/7 [00:02<00:00,  3.08it/s]\n",
            "Epoch 1445\n"
          ]
        },
        {
          "name": "stdout",
          "output_type": "stream",
          "text": [
            "Saving model...\n",
            "{'edit_distance': 115.0, '_num_chars': 125.089, '_num_pred_chars': 123.054, 'nsentences': 1.0, '_world_size': 0.007, '_lm_score_sum': 0.0, '_kaldi_score_sum': 0.0, '_word_lm_sum': 0.0, '_num_words': 0.0, '_vocab_seen': [0.007, 0.007, 0.0, 0.007, 0.005, 0.007, 0.002, 0.0, 0.007, 0.007, 0.007, 0.007, 0.007, 0.0, 0.007, 0.007, 0.007, 0.007, 0.007, 0.007, 0.007, 0.007, 0.007, 0.007, 0.0, 0.007, 0.007, 0.007, 0.007, 0.007, 0.007, 0.007, 0.007, 0.007, 0.007, 0.0, 0.007, 0.007, 0.007, 0.0, 0.005, 0.007, 0.0, 0.0, 0.007, 0.007, 0.007, 0.0, 0.0, 0.0, 0.0, 0.0, 0.0, 0.0, 0.007, 0.0, 0.0, 0.0, 0.0, 0.0]}\n"
          ]
        },
        {
          "name": "stderr",
          "output_type": "stream",
          "text": [
            "Train: 100%|██████████| 82/82 [00:24<00:00,  3.34it/s]\n",
            "Epoch 1446\n",
            "Train: 100%|██████████| 82/82 [00:20<00:00,  3.97it/s]\n",
            "Epoch 1447\n",
            "Train: 100%|██████████| 82/82 [00:23<00:00,  3.45it/s]\n",
            "Epoch 1448\n",
            "Train: 100%|██████████| 82/82 [00:20<00:00,  3.95it/s]\n",
            "Epoch 1449\n",
            "Train: 100%|██████████| 82/82 [00:24<00:00,  3.35it/s]\n",
            "Eval : 100%|██████████| 7/7 [00:02<00:00,  3.07it/s]\n",
            "Epoch 1450\n"
          ]
        },
        {
          "name": "stdout",
          "output_type": "stream",
          "text": [
            "Saving model...\n",
            "{'edit_distance': 112.666, '_num_chars': 125.089, '_num_pred_chars': 119.835, 'nsentences': 1.0, '_world_size': 0.007, '_lm_score_sum': 0.0, '_kaldi_score_sum': 0.0, '_word_lm_sum': 0.0, '_num_words': 0.0, '_vocab_seen': [0.007, 0.007, 0.007, 0.007, 0.0, 0.007, 0.007, 0.0, 0.007, 0.007, 0.007, 0.007, 0.007, 0.0, 0.0, 0.007, 0.007, 0.007, 0.007, 0.007, 0.007, 0.007, 0.007, 0.007, 0.0, 0.007, 0.007, 0.0, 0.007, 0.0, 0.007, 0.0, 0.0, 0.0, 0.007, 0.0, 0.0, 0.007, 0.007, 0.007, 0.0, 0.007, 0.0, 0.0, 0.007, 0.007, 0.0, 0.0, 0.007, 0.0, 0.0, 0.0, 0.0, 0.0, 0.007, 0.0, 0.0, 0.0, 0.0, 0.0]}\n"
          ]
        },
        {
          "name": "stderr",
          "output_type": "stream",
          "text": [
            "Train: 100%|██████████| 82/82 [00:20<00:00,  3.97it/s]\n",
            "Epoch 1451\n",
            "Train: 100%|██████████| 82/82 [00:24<00:00,  3.39it/s]\n",
            "Epoch 1452\n",
            "Train: 100%|██████████| 82/82 [00:20<00:00,  3.91it/s]\n",
            "Epoch 1453\n",
            "Train: 100%|██████████| 82/82 [00:24<00:00,  3.33it/s]\n",
            "Epoch 1454\n",
            "Train: 100%|██████████| 82/82 [00:20<00:00,  3.94it/s]\n",
            "Eval : 100%|██████████| 7/7 [00:02<00:00,  3.04it/s]\n",
            "Epoch 1455\n"
          ]
        },
        {
          "name": "stdout",
          "output_type": "stream",
          "text": [
            "Saving model...\n",
            "{'edit_distance': 113.354, '_num_chars': 125.089, '_num_pred_chars': 121.508, 'nsentences': 1.0, '_world_size': 0.007, '_lm_score_sum': 0.0, '_kaldi_score_sum': 0.0, '_word_lm_sum': 0.0, '_num_words': 0.0, '_vocab_seen': [0.007, 0.007, 0.007, 0.007, 0.0, 0.007, 0.0, 0.007, 0.007, 0.007, 0.007, 0.007, 0.007, 0.0, 0.0, 0.007, 0.007, 0.007, 0.007, 0.007, 0.007, 0.007, 0.007, 0.007, 0.0, 0.007, 0.007, 0.0, 0.007, 0.007, 0.007, 0.0, 0.007, 0.007, 0.007, 0.007, 0.0, 0.007, 0.007, 0.0, 0.0, 0.0, 0.0, 0.0, 0.007, 0.0, 0.0, 0.0, 0.0, 0.0, 0.0, 0.007, 0.0, 0.0, 0.0, 0.0, 0.0, 0.0, 0.0, 0.0]}\n"
          ]
        },
        {
          "name": "stderr",
          "output_type": "stream",
          "text": [
            "Train: 100%|██████████| 82/82 [00:24<00:00,  3.31it/s]\n",
            "Epoch 1456\n",
            "Train: 100%|██████████| 82/82 [00:20<00:00,  3.94it/s]\n",
            "Epoch 1457\n",
            "Train: 100%|██████████| 82/82 [00:24<00:00,  3.37it/s]\n",
            "Epoch 1458\n",
            "Train: 100%|██████████| 82/82 [00:20<00:00,  3.96it/s]\n",
            "Epoch 1459\n",
            "Train: 100%|██████████| 82/82 [00:24<00:00,  3.39it/s]\n",
            "Eval : 100%|██████████| 7/7 [00:02<00:00,  3.09it/s]\n",
            "Epoch 1460\n"
          ]
        },
        {
          "name": "stdout",
          "output_type": "stream",
          "text": [
            "Saving model...\n",
            "{'edit_distance': 112.003, '_num_chars': 125.089, '_num_pred_chars': 117.844, 'nsentences': 1.0, '_world_size': 0.007, '_lm_score_sum': 0.0, '_kaldi_score_sum': 0.0, '_word_lm_sum': 0.0, '_num_words': 0.0, '_vocab_seen': [0.007, 0.007, 0.007, 0.007, 0.007, 0.007, 0.0, 0.0, 0.007, 0.007, 0.007, 0.007, 0.007, 0.0, 0.0, 0.007, 0.007, 0.007, 0.007, 0.007, 0.007, 0.007, 0.007, 0.007, 0.0, 0.0, 0.007, 0.007, 0.007, 0.007, 0.007, 0.0, 0.007, 0.007, 0.007, 0.007, 0.007, 0.007, 0.007, 0.0, 0.0, 0.0, 0.0, 0.007, 0.007, 0.0, 0.0, 0.0, 0.0, 0.0, 0.0, 0.0, 0.0, 0.0, 0.0, 0.0, 0.0, 0.0, 0.0, 0.0]}\n"
          ]
        },
        {
          "name": "stderr",
          "output_type": "stream",
          "text": [
            "Train: 100%|██████████| 82/82 [00:20<00:00,  3.96it/s]\n",
            "Epoch 1461\n",
            "Train: 100%|██████████| 82/82 [00:24<00:00,  3.39it/s]\n",
            "Epoch 1462\n",
            "Train: 100%|██████████| 82/82 [00:20<00:00,  3.95it/s]\n",
            "Epoch 1463\n",
            "Train: 100%|██████████| 82/82 [00:24<00:00,  3.38it/s]\n",
            "Epoch 1464\n",
            "Train: 100%|██████████| 82/82 [00:20<00:00,  3.97it/s]\n",
            "Eval : 100%|██████████| 7/7 [00:02<00:00,  3.12it/s]\n",
            "Epoch 1465\n"
          ]
        },
        {
          "name": "stdout",
          "output_type": "stream",
          "text": [
            "Saving model...\n",
            "{'edit_distance': 112.135, '_num_chars': 125.089, '_num_pred_chars': 119.347, 'nsentences': 1.0, '_world_size': 0.007, '_lm_score_sum': 0.0, '_kaldi_score_sum': 0.0, '_word_lm_sum': 0.0, '_num_words': 0.0, '_vocab_seen': [0.007, 0.007, 0.007, 0.007, 0.007, 0.007, 0.004, 0.007, 0.007, 0.004, 0.007, 0.007, 0.007, 0.0, 0.0, 0.007, 0.007, 0.007, 0.007, 0.007, 0.007, 0.007, 0.007, 0.007, 0.007, 0.007, 0.007, 0.007, 0.007, 0.0, 0.007, 0.0, 0.007, 0.007, 0.007, 0.007, 0.007, 0.007, 0.007, 0.0, 0.0, 0.007, 0.007, 0.0, 0.007, 0.007, 0.0, 0.0, 0.0, 0.0, 0.0, 0.0, 0.0, 0.0, 0.0, 0.0, 0.0, 0.0, 0.0, 0.0]}\n"
          ]
        },
        {
          "name": "stderr",
          "output_type": "stream",
          "text": [
            "Train: 100%|██████████| 82/82 [00:24<00:00,  3.35it/s]\n",
            "Epoch 1466\n",
            "Train: 100%|██████████| 82/82 [00:20<00:00,  3.95it/s]\n",
            "Epoch 1467\n",
            "Train: 100%|██████████| 82/82 [00:24<00:00,  3.41it/s]\n",
            "Epoch 1468\n",
            "Train: 100%|██████████| 82/82 [00:20<00:00,  3.94it/s]\n",
            "Epoch 1469\n",
            "Train: 100%|██████████| 82/82 [00:24<00:00,  3.32it/s]\n",
            "Eval : 100%|██████████| 7/7 [00:02<00:00,  3.13it/s]\n",
            "Epoch 1470\n"
          ]
        },
        {
          "name": "stdout",
          "output_type": "stream",
          "text": [
            "Saving model...\n",
            "{'edit_distance': 113.022, '_num_chars': 125.089, '_num_pred_chars': 122.901, 'nsentences': 1.0, '_world_size': 0.007, '_lm_score_sum': 0.0, '_kaldi_score_sum': 0.0, '_word_lm_sum': 0.0, '_num_words': 0.0, '_vocab_seen': [0.007, 0.007, 0.007, 0.007, 0.007, 0.007, 0.0, 0.007, 0.007, 0.007, 0.007, 0.007, 0.007, 0.007, 0.007, 0.007, 0.0, 0.007, 0.007, 0.007, 0.007, 0.007, 0.007, 0.007, 0.002, 0.0, 0.007, 0.007, 0.007, 0.0, 0.007, 0.006, 0.0, 0.007, 0.007, 0.0, 0.0, 0.007, 0.007, 0.0, 0.0, 0.007, 0.007, 0.0, 0.007, 0.007, 0.0, 0.0, 0.0, 0.0, 0.007, 0.0, 0.0, 0.0, 0.0, 0.0, 0.0, 0.0, 0.0, 0.0]}\n"
          ]
        },
        {
          "name": "stderr",
          "output_type": "stream",
          "text": [
            "Train: 100%|██████████| 82/82 [00:20<00:00,  3.97it/s]\n",
            "Epoch 1471\n",
            "Train: 100%|██████████| 82/82 [00:24<00:00,  3.39it/s]\n",
            "Epoch 1472\n",
            "Train: 100%|██████████| 82/82 [00:20<00:00,  3.98it/s]\n",
            "Epoch 1473\n",
            "Train: 100%|██████████| 82/82 [00:24<00:00,  3.38it/s]\n",
            "Epoch 1474\n",
            "Train: 100%|██████████| 82/82 [00:20<00:00,  3.96it/s]\n",
            "Eval : 100%|██████████| 7/7 [00:02<00:00,  3.13it/s]\n",
            "Epoch 1475\n"
          ]
        },
        {
          "name": "stdout",
          "output_type": "stream",
          "text": [
            "Saving model...\n",
            "{'edit_distance': 114.169, '_num_chars': 125.089, '_num_pred_chars': 121.94, 'nsentences': 1.0, '_world_size': 0.007, '_lm_score_sum': 0.0, '_kaldi_score_sum': 0.0, '_word_lm_sum': 0.0, '_num_words': 0.0, '_vocab_seen': [0.007, 0.007, 0.004, 0.007, 0.007, 0.007, 0.007, 0.0, 0.007, 0.007, 0.007, 0.0, 0.007, 0.0, 0.007, 0.007, 0.007, 0.007, 0.007, 0.007, 0.007, 0.007, 0.007, 0.006, 0.0, 0.007, 0.007, 0.007, 0.007, 0.0, 0.007, 0.007, 0.0, 0.007, 0.007, 0.0, 0.0, 0.007, 0.007, 0.0, 0.007, 0.007, 0.0, 0.0, 0.007, 0.007, 0.0, 0.0, 0.007, 0.0, 0.007, 0.0, 0.0, 0.0, 0.0, 0.0, 0.0, 0.0, 0.0, 0.0]}\n"
          ]
        },
        {
          "name": "stderr",
          "output_type": "stream",
          "text": [
            "Train: 100%|██████████| 82/82 [00:24<00:00,  3.31it/s]\n",
            "Epoch 1476\n",
            "Train: 100%|██████████| 82/82 [00:20<00:00,  3.97it/s]\n",
            "Epoch 1477\n",
            "Train: 100%|██████████| 82/82 [00:24<00:00,  3.40it/s]\n",
            "Epoch 1478\n",
            "Train: 100%|██████████| 82/82 [00:20<00:00,  3.93it/s]\n",
            "Epoch 1479\n",
            "Train: 100%|██████████| 82/82 [00:24<00:00,  3.33it/s]\n",
            "Eval : 100%|██████████| 7/7 [00:02<00:00,  3.11it/s]\n",
            "Epoch 1480\n"
          ]
        },
        {
          "name": "stdout",
          "output_type": "stream",
          "text": [
            "Saving model...\n",
            "{'edit_distance': 112.543, '_num_chars': 125.089, '_num_pred_chars': 120.078, 'nsentences': 1.0, '_world_size': 0.007, '_lm_score_sum': 0.0, '_kaldi_score_sum': 0.0, '_word_lm_sum': 0.0, '_num_words': 0.0, '_vocab_seen': [0.007, 0.007, 0.007, 0.007, 0.007, 0.007, 0.001, 0.0, 0.007, 0.007, 0.007, 0.001, 0.007, 0.007, 0.0, 0.007, 0.0, 0.007, 0.007, 0.007, 0.007, 0.007, 0.007, 0.001, 0.007, 0.0, 0.007, 0.007, 0.007, 0.0, 0.007, 0.007, 0.0, 0.007, 0.007, 0.0, 0.0, 0.007, 0.007, 0.0, 0.007, 0.007, 0.0, 0.007, 0.007, 0.007, 0.0, 0.0, 0.007, 0.0, 0.0, 0.0, 0.0, 0.0, 0.0, 0.0, 0.0, 0.0, 0.0, 0.0]}\n"
          ]
        },
        {
          "name": "stderr",
          "output_type": "stream",
          "text": [
            "Train: 100%|██████████| 82/82 [00:20<00:00,  3.96it/s]\n",
            "Epoch 1481\n",
            "Train: 100%|██████████| 82/82 [00:24<00:00,  3.34it/s]\n",
            "Epoch 1482\n",
            "Train: 100%|██████████| 82/82 [00:20<00:00,  3.93it/s]\n",
            "Epoch 1483\n",
            "Train: 100%|██████████| 82/82 [00:24<00:00,  3.39it/s]\n",
            "Epoch 1484\n",
            "Train: 100%|██████████| 82/82 [00:20<00:00,  3.92it/s]\n",
            "Eval : 100%|██████████| 7/7 [00:02<00:00,  3.10it/s]\n",
            "Epoch 1485\n"
          ]
        },
        {
          "name": "stdout",
          "output_type": "stream",
          "text": [
            "Saving model...\n",
            "{'edit_distance': 112.251, '_num_chars': 125.089, '_num_pred_chars': 118.06, 'nsentences': 1.0, '_world_size': 0.007, '_lm_score_sum': 0.0, '_kaldi_score_sum': 0.0, '_word_lm_sum': 0.0, '_num_words': 0.0, '_vocab_seen': [0.007, 0.007, 0.006, 0.007, 0.007, 0.007, 0.007, 0.007, 0.007, 0.007, 0.007, 0.0, 0.007, 0.007, 0.007, 0.007, 0.0, 0.007, 0.007, 0.007, 0.007, 0.007, 0.007, 0.0, 0.0, 0.0, 0.007, 0.007, 0.007, 0.007, 0.007, 0.006, 0.007, 0.007, 0.007, 0.0, 0.007, 0.007, 0.007, 0.007, 0.007, 0.007, 0.0, 0.007, 0.007, 0.007, 0.0, 0.0, 0.0, 0.0, 0.0, 0.0, 0.0, 0.0, 0.0, 0.0, 0.0, 0.0, 0.0, 0.0]}\n"
          ]
        },
        {
          "name": "stderr",
          "output_type": "stream",
          "text": [
            "Train: 100%|██████████| 82/82 [00:24<00:00,  3.37it/s]\n",
            "Epoch 1486\n",
            "Train: 100%|██████████| 82/82 [00:20<00:00,  3.94it/s]\n",
            "Epoch 1487\n",
            "Train: 100%|██████████| 82/82 [00:24<00:00,  3.32it/s]\n",
            "Epoch 1488\n",
            "Train: 100%|██████████| 82/82 [00:20<00:00,  3.95it/s]\n",
            "Epoch 1489\n",
            "Train: 100%|██████████| 82/82 [00:24<00:00,  3.34it/s]\n",
            "Eval : 100%|██████████| 7/7 [00:02<00:00,  3.09it/s]\n",
            "Epoch 1490\n"
          ]
        },
        {
          "name": "stdout",
          "output_type": "stream",
          "text": [
            "Saving model...\n",
            "{'edit_distance': 111.519, '_num_chars': 125.089, '_num_pred_chars': 118.501, 'nsentences': 1.0, '_world_size': 0.007, '_lm_score_sum': 0.0, '_kaldi_score_sum': 0.0, '_word_lm_sum': 0.0, '_num_words': 0.0, '_vocab_seen': [0.007, 0.007, 0.007, 0.007, 0.007, 0.007, 0.0, 0.007, 0.007, 0.007, 0.007, 0.007, 0.007, 0.007, 0.0, 0.007, 0.007, 0.007, 0.007, 0.007, 0.007, 0.007, 0.007, 0.007, 0.0, 0.007, 0.007, 0.007, 0.007, 0.0, 0.007, 0.006, 0.0, 0.007, 0.007, 0.0, 0.007, 0.007, 0.007, 0.007, 0.007, 0.007, 0.0, 0.007, 0.007, 0.0, 0.0, 0.0, 0.0, 0.0, 0.0, 0.0, 0.0, 0.0, 0.0, 0.0, 0.0, 0.0, 0.0, 0.0]}\n"
          ]
        },
        {
          "name": "stderr",
          "output_type": "stream",
          "text": [
            "Train: 100%|██████████| 82/82 [00:20<00:00,  3.92it/s]\n",
            "Epoch 1491\n",
            "Train: 100%|██████████| 82/82 [00:24<00:00,  3.33it/s]\n",
            "Epoch 1492\n",
            "Train: 100%|██████████| 82/82 [00:20<00:00,  3.92it/s]\n",
            "Epoch 1493\n",
            "Train: 100%|██████████| 82/82 [00:24<00:00,  3.34it/s]\n",
            "Epoch 1494\n",
            "Train: 100%|██████████| 82/82 [00:20<00:00,  3.91it/s]\n",
            "Eval : 100%|██████████| 7/7 [00:02<00:00,  3.11it/s]\n",
            "Epoch 1495\n"
          ]
        },
        {
          "name": "stdout",
          "output_type": "stream",
          "text": [
            "Saving model...\n",
            "{'edit_distance': 113.933, '_num_chars': 125.089, '_num_pred_chars': 121.263, 'nsentences': 1.0, '_world_size': 0.007, '_lm_score_sum': 0.0, '_kaldi_score_sum': 0.0, '_word_lm_sum': 0.0, '_num_words': 0.0, '_vocab_seen': [0.007, 0.007, 0.007, 0.007, 0.007, 0.007, 0.0, 0.006, 0.007, 0.007, 0.007, 0.0, 0.007, 0.007, 0.0, 0.007, 0.0, 0.007, 0.007, 0.007, 0.007, 0.007, 0.007, 0.0, 0.0, 0.007, 0.007, 0.004, 0.007, 0.0, 0.007, 0.007, 0.007, 0.007, 0.007, 0.007, 0.007, 0.007, 0.007, 0.007, 0.007, 0.007, 0.007, 0.007, 0.007, 0.0, 0.007, 0.0, 0.0, 0.0, 0.0, 0.0, 0.0, 0.0, 0.0, 0.0, 0.0, 0.0, 0.0, 0.0]}\n"
          ]
        },
        {
          "name": "stderr",
          "output_type": "stream",
          "text": [
            "Train: 100%|██████████| 82/82 [00:24<00:00,  3.34it/s]\n",
            "Epoch 1496\n",
            "Train: 100%|██████████| 82/82 [00:21<00:00,  3.89it/s]\n",
            "Epoch 1497\n",
            "Train: 100%|██████████| 82/82 [00:24<00:00,  3.30it/s]\n",
            "Epoch 1498\n",
            "Train: 100%|██████████| 82/82 [00:20<00:00,  3.90it/s]\n",
            "Epoch 1499\n",
            "Train: 100%|██████████| 82/82 [00:24<00:00,  3.37it/s]\n",
            "Eval : 100%|██████████| 7/7 [00:02<00:00,  3.04it/s]\n",
            "Epoch 1500\n"
          ]
        },
        {
          "name": "stdout",
          "output_type": "stream",
          "text": [
            "Saving model...\n",
            "{'edit_distance': 111.52, '_num_chars': 125.089, '_num_pred_chars': 115.331, 'nsentences': 1.0, '_world_size': 0.007, '_lm_score_sum': 0.0, '_kaldi_score_sum': 0.0, '_word_lm_sum': 0.0, '_num_words': 0.0, '_vocab_seen': [0.007, 0.007, 0.006, 0.007, 0.007, 0.007, 0.0, 0.0, 0.007, 0.007, 0.007, 0.007, 0.007, 0.005, 0.0, 0.007, 0.0, 0.007, 0.007, 0.007, 0.007, 0.007, 0.007, 0.0, 0.0, 0.0, 0.007, 0.0, 0.007, 0.0, 0.007, 0.005, 0.007, 0.005, 0.007, 0.0, 0.007, 0.007, 0.007, 0.007, 0.007, 0.007, 0.007, 0.007, 0.007, 0.0, 0.007, 0.007, 0.0, 0.0, 0.007, 0.0, 0.0, 0.0, 0.0, 0.007, 0.0, 0.0, 0.0, 0.0]}\n"
          ]
        },
        {
          "name": "stderr",
          "output_type": "stream",
          "text": [
            "Train: 100%|██████████| 82/82 [00:21<00:00,  3.89it/s]\n",
            "Epoch 1501\n",
            "Train: 100%|██████████| 82/82 [00:24<00:00,  3.33it/s]\n",
            "Epoch 1502\n",
            "Train: 100%|██████████| 82/82 [00:20<00:00,  3.91it/s]\n",
            "Epoch 1503\n",
            "Train: 100%|██████████| 82/82 [00:24<00:00,  3.38it/s]\n",
            "Epoch 1504\n",
            "Train: 100%|██████████| 82/82 [00:20<00:00,  3.93it/s]\n",
            "Eval : 100%|██████████| 7/7 [00:02<00:00,  3.04it/s]\n",
            "Epoch 1505\n"
          ]
        },
        {
          "name": "stdout",
          "output_type": "stream",
          "text": [
            "Saving model...\n",
            "{'edit_distance': 112.907, '_num_chars': 125.089, '_num_pred_chars': 119.792, 'nsentences': 1.0, '_world_size': 0.007, '_lm_score_sum': 0.0, '_kaldi_score_sum': 0.0, '_word_lm_sum': 0.0, '_num_words': 0.0, '_vocab_seen': [0.007, 0.007, 0.007, 0.007, 0.007, 0.007, 0.007, 0.0, 0.007, 0.007, 0.007, 0.0, 0.007, 0.007, 0.0, 0.007, 0.0, 0.007, 0.007, 0.007, 0.007, 0.007, 0.007, 0.0, 0.0, 0.0, 0.007, 0.007, 0.007, 0.007, 0.007, 0.0, 0.007, 0.0, 0.007, 0.0, 0.007, 0.007, 0.007, 0.0, 0.007, 0.007, 0.007, 0.007, 0.007, 0.0, 0.0, 0.007, 0.0, 0.007, 0.007, 0.0, 0.0, 0.0, 0.0, 0.007, 0.0, 0.0, 0.0, 0.0]}\n"
          ]
        },
        {
          "name": "stderr",
          "output_type": "stream",
          "text": [
            "Train: 100%|██████████| 82/82 [00:24<00:00,  3.32it/s]\n",
            "Epoch 1506\n",
            "Train: 100%|██████████| 82/82 [00:21<00:00,  3.81it/s]\n",
            "Epoch 1507\n",
            "Train: 100%|██████████| 82/82 [00:24<00:00,  3.34it/s]\n",
            "Epoch 1508\n",
            "Train: 100%|██████████| 82/82 [00:20<00:00,  3.93it/s]\n",
            "Epoch 1509\n",
            "Train: 100%|██████████| 82/82 [00:24<00:00,  3.34it/s]\n",
            "Eval : 100%|██████████| 7/7 [00:02<00:00,  3.05it/s]\n",
            "Epoch 1510\n"
          ]
        },
        {
          "name": "stdout",
          "output_type": "stream",
          "text": [
            "Saving model...\n",
            "{'edit_distance': 113.328, '_num_chars': 125.089, '_num_pred_chars': 121.684, 'nsentences': 1.0, '_world_size': 0.007, '_lm_score_sum': 0.0, '_kaldi_score_sum': 0.0, '_word_lm_sum': 0.0, '_num_words': 0.0, '_vocab_seen': [0.007, 0.007, 0.007, 0.007, 0.007, 0.007, 0.0, 0.0, 0.007, 0.007, 0.007, 0.0, 0.007, 0.007, 0.007, 0.007, 0.0, 0.007, 0.0, 0.007, 0.007, 0.007, 0.007, 0.007, 0.007, 0.0, 0.001, 0.004, 0.007, 0.007, 0.001, 0.0, 0.007, 0.0, 0.007, 0.0, 0.007, 0.007, 0.007, 0.0, 0.0, 0.007, 0.007, 0.007, 0.007, 0.0, 0.0, 0.007, 0.0, 0.007, 0.0, 0.0, 0.0, 0.0, 0.0, 0.002, 0.0, 0.0, 0.0, 0.0]}\n"
          ]
        },
        {
          "name": "stderr",
          "output_type": "stream",
          "text": [
            "Train: 100%|██████████| 82/82 [00:20<00:00,  3.92it/s]\n",
            "Epoch 1511\n",
            "Train: 100%|██████████| 82/82 [00:24<00:00,  3.37it/s]\n",
            "Epoch 1512\n",
            "Train: 100%|██████████| 82/82 [00:20<00:00,  3.92it/s]\n",
            "Epoch 1513\n",
            "Train: 100%|██████████| 82/82 [00:24<00:00,  3.37it/s]\n",
            "Epoch 1514\n",
            "Train: 100%|██████████| 82/82 [00:20<00:00,  3.97it/s]\n",
            "Eval : 100%|██████████| 7/7 [00:02<00:00,  3.03it/s]\n",
            "Epoch 1515\n"
          ]
        },
        {
          "name": "stdout",
          "output_type": "stream",
          "text": [
            "Saving model...\n",
            "{'edit_distance': 110.79, '_num_chars': 125.089, '_num_pred_chars': 111.961, 'nsentences': 1.0, '_world_size': 0.007, '_lm_score_sum': 0.0, '_kaldi_score_sum': 0.0, '_word_lm_sum': 0.0, '_num_words': 0.0, '_vocab_seen': [0.007, 0.007, 0.007, 0.007, 0.007, 0.007, 0.007, 0.0, 0.007, 0.007, 0.007, 0.0, 0.007, 0.0, 0.0, 0.007, 0.007, 0.007, 0.0, 0.007, 0.007, 0.007, 0.007, 0.007, 0.0, 0.007, 0.007, 0.0, 0.007, 0.001, 0.007, 0.0, 0.007, 0.007, 0.007, 0.0, 0.007, 0.007, 0.007, 0.0, 0.0, 0.0, 0.007, 0.007, 0.007, 0.0, 0.0, 0.0, 0.0, 0.0, 0.006, 0.0, 0.0, 0.0, 0.0, 0.0, 0.0, 0.0, 0.0, 0.0]}\n"
          ]
        },
        {
          "name": "stderr",
          "output_type": "stream",
          "text": [
            "Train: 100%|██████████| 82/82 [00:24<00:00,  3.39it/s]\n",
            "Epoch 1516\n",
            "Train: 100%|██████████| 82/82 [00:20<00:00,  3.98it/s]\n",
            "Epoch 1517\n",
            "Train: 100%|██████████| 82/82 [00:24<00:00,  3.32it/s]\n",
            "Epoch 1518\n",
            "Train: 100%|██████████| 82/82 [00:20<00:00,  3.96it/s]\n",
            "Epoch 1519\n",
            "Train: 100%|██████████| 82/82 [00:24<00:00,  3.36it/s]\n",
            "Eval : 100%|██████████| 7/7 [00:02<00:00,  3.18it/s]\n",
            "Epoch 1520\n"
          ]
        },
        {
          "name": "stdout",
          "output_type": "stream",
          "text": [
            "Saving model...\n",
            "{'edit_distance': 113.68, '_num_chars': 125.089, '_num_pred_chars': 120.416, 'nsentences': 1.0, '_world_size': 0.007, '_lm_score_sum': 0.0, '_kaldi_score_sum': 0.0, '_word_lm_sum': 0.0, '_num_words': 0.0, '_vocab_seen': [0.007, 0.007, 0.007, 0.007, 0.005, 0.007, 0.007, 0.007, 0.0, 0.007, 0.007, 0.0, 0.007, 0.0, 0.0, 0.007, 0.007, 0.007, 0.007, 0.007, 0.0, 0.007, 0.007, 0.007, 0.0, 0.007, 0.007, 0.007, 0.007, 0.0, 0.007, 0.0, 0.007, 0.007, 0.007, 0.0, 0.007, 0.007, 0.0, 0.0, 0.0, 0.0, 0.007, 0.007, 0.007, 0.0, 0.007, 0.0, 0.007, 0.0, 0.0, 0.0, 0.0, 0.0, 0.0, 0.0, 0.0, 0.0, 0.0, 0.0]}\n"
          ]
        },
        {
          "name": "stderr",
          "output_type": "stream",
          "text": [
            "Train: 100%|██████████| 82/82 [00:20<00:00,  3.94it/s]\n",
            "Epoch 1521\n",
            "Train: 100%|██████████| 82/82 [00:24<00:00,  3.37it/s]\n",
            "Epoch 1522\n",
            "Train: 100%|██████████| 82/82 [00:20<00:00,  3.96it/s]\n",
            "Epoch 1523\n",
            "Train: 100%|██████████| 82/82 [00:23<00:00,  3.42it/s]\n",
            "Epoch 1524\n",
            "Train: 100%|██████████| 82/82 [00:20<00:00,  3.95it/s]\n",
            "Eval : 100%|██████████| 7/7 [00:02<00:00,  3.04it/s]\n",
            "Epoch 1525\n"
          ]
        },
        {
          "name": "stdout",
          "output_type": "stream",
          "text": [
            "Saving model...\n",
            "{'edit_distance': 111.093, '_num_chars': 125.089, '_num_pred_chars': 118.332, 'nsentences': 1.0, '_world_size': 0.007, '_lm_score_sum': 0.0, '_kaldi_score_sum': 0.0, '_word_lm_sum': 0.0, '_num_words': 0.0, '_vocab_seen': [0.007, 0.007, 0.007, 0.007, 0.007, 0.007, 0.0, 0.007, 0.007, 0.007, 0.007, 0.001, 0.007, 0.0, 0.0, 0.007, 0.007, 0.007, 0.0, 0.007, 0.0, 0.007, 0.007, 0.007, 0.0, 0.007, 0.007, 0.007, 0.007, 0.0, 0.0, 0.002, 0.0, 0.007, 0.007, 0.007, 0.002, 0.007, 0.007, 0.0, 0.007, 0.0, 0.007, 0.007, 0.007, 0.007, 0.0, 0.0, 0.0, 0.0, 0.0, 0.0, 0.0, 0.0, 0.0, 0.0, 0.0, 0.0, 0.0, 0.0]}\n"
          ]
        },
        {
          "name": "stderr",
          "output_type": "stream",
          "text": [
            "Train: 100%|██████████| 82/82 [00:24<00:00,  3.36it/s]\n",
            "Epoch 1526\n",
            "Train: 100%|██████████| 82/82 [00:20<00:00,  3.92it/s]\n",
            "Epoch 1527\n",
            "Train: 100%|██████████| 82/82 [00:24<00:00,  3.39it/s]\n",
            "Epoch 1528\n",
            "Train: 100%|██████████| 82/82 [00:20<00:00,  3.94it/s]\n",
            "Epoch 1529\n",
            "Train: 100%|██████████| 82/82 [00:24<00:00,  3.38it/s]\n",
            "Eval : 100%|██████████| 7/7 [00:02<00:00,  3.08it/s]\n",
            "Epoch 1530\n"
          ]
        },
        {
          "name": "stdout",
          "output_type": "stream",
          "text": [
            "Saving model...\n",
            "{'edit_distance': 111.77, '_num_chars': 125.089, '_num_pred_chars': 117.272, 'nsentences': 1.0, '_world_size': 0.007, '_lm_score_sum': 0.0, '_kaldi_score_sum': 0.0, '_word_lm_sum': 0.0, '_num_words': 0.0, '_vocab_seen': [0.007, 0.007, 0.007, 0.007, 0.0, 0.007, 0.0, 0.007, 0.0, 0.007, 0.007, 0.0, 0.007, 0.0, 0.0, 0.007, 0.007, 0.007, 0.0, 0.007, 0.007, 0.007, 0.007, 0.007, 0.007, 0.007, 0.007, 0.007, 0.007, 0.007, 0.007, 0.0, 0.0, 0.0, 0.007, 0.007, 0.007, 0.007, 0.007, 0.0, 0.007, 0.007, 0.0, 0.007, 0.007, 0.0, 0.0, 0.0, 0.0, 0.0, 0.0, 0.0, 0.0, 0.0, 0.0, 0.0, 0.0, 0.007, 0.0, 0.0]}\n"
          ]
        },
        {
          "name": "stderr",
          "output_type": "stream",
          "text": [
            "Train: 100%|██████████| 82/82 [00:20<00:00,  3.92it/s]\n",
            "Epoch 1531\n",
            "Train: 100%|██████████| 82/82 [00:24<00:00,  3.34it/s]\n",
            "Epoch 1532\n",
            "Train: 100%|██████████| 82/82 [00:20<00:00,  3.94it/s]\n",
            "Epoch 1533\n",
            "Train: 100%|██████████| 82/82 [00:24<00:00,  3.40it/s]\n",
            "Epoch 1534\n",
            "Train: 100%|██████████| 82/82 [00:20<00:00,  3.92it/s]\n",
            "Eval : 100%|██████████| 7/7 [00:02<00:00,  3.02it/s]\n",
            "Epoch 1535\n"
          ]
        },
        {
          "name": "stdout",
          "output_type": "stream",
          "text": [
            "Saving model...\n",
            "{'edit_distance': 110.223, '_num_chars': 125.089, '_num_pred_chars': 115.631, 'nsentences': 1.0, '_world_size': 0.007, '_lm_score_sum': 0.0, '_kaldi_score_sum': 0.0, '_word_lm_sum': 0.0, '_num_words': 0.0, '_vocab_seen': [0.007, 0.007, 0.007, 0.007, 0.001, 0.007, 0.0, 0.007, 0.007, 0.007, 0.007, 0.002, 0.007, 0.007, 0.007, 0.007, 0.0, 0.007, 0.007, 0.007, 0.007, 0.007, 0.007, 0.007, 0.0, 0.007, 0.007, 0.007, 0.007, 0.005, 0.007, 0.0, 0.007, 0.0, 0.007, 0.007, 0.007, 0.007, 0.007, 0.007, 0.0, 0.007, 0.0, 0.007, 0.007, 0.0, 0.0, 0.0, 0.007, 0.0, 0.0, 0.0, 0.007, 0.0, 0.0, 0.0, 0.0, 0.0, 0.0, 0.0]}\n"
          ]
        },
        {
          "name": "stderr",
          "output_type": "stream",
          "text": [
            "Train: 100%|██████████| 82/82 [00:24<00:00,  3.36it/s]\n",
            "Epoch 1536\n",
            "Train: 100%|██████████| 82/82 [00:20<00:00,  3.91it/s]\n",
            "Epoch 1537\n",
            "Train: 100%|██████████| 82/82 [00:24<00:00,  3.35it/s]\n",
            "Epoch 1538\n",
            "Train: 100%|██████████| 82/82 [00:20<00:00,  3.95it/s]\n",
            "Epoch 1539\n",
            "Train: 100%|██████████| 82/82 [00:24<00:00,  3.32it/s]\n",
            "Eval : 100%|██████████| 7/7 [00:02<00:00,  3.03it/s]\n",
            "Epoch 1540\n"
          ]
        },
        {
          "name": "stdout",
          "output_type": "stream",
          "text": [
            "Saving model...\n",
            "{'edit_distance': 110.953, '_num_chars': 125.089, '_num_pred_chars': 119.617, 'nsentences': 1.0, '_world_size': 0.007, '_lm_score_sum': 0.0, '_kaldi_score_sum': 0.0, '_word_lm_sum': 0.0, '_num_words': 0.0, '_vocab_seen': [0.007, 0.007, 0.007, 0.007, 0.007, 0.007, 0.002, 0.007, 0.007, 0.007, 0.007, 0.0, 0.007, 0.007, 0.0, 0.007, 0.0, 0.007, 0.0, 0.007, 0.007, 0.007, 0.007, 0.007, 0.0, 0.007, 0.007, 0.006, 0.007, 0.007, 0.007, 0.0, 0.007, 0.007, 0.007, 0.007, 0.007, 0.007, 0.007, 0.007, 0.0, 0.007, 0.0, 0.007, 0.007, 0.007, 0.0, 0.0, 0.007, 0.0, 0.0, 0.0, 0.007, 0.0, 0.0, 0.0, 0.0, 0.0, 0.0, 0.0]}\n"
          ]
        },
        {
          "name": "stderr",
          "output_type": "stream",
          "text": [
            "Train: 100%|██████████| 82/82 [00:20<00:00,  3.94it/s]\n",
            "Epoch 1541\n",
            "Train: 100%|██████████| 82/82 [00:24<00:00,  3.35it/s]\n",
            "Epoch 1542\n",
            "Train: 100%|██████████| 82/82 [00:20<00:00,  3.97it/s]\n",
            "Epoch 1543\n",
            "Train: 100%|██████████| 82/82 [00:24<00:00,  3.36it/s]\n",
            "Epoch 1544\n",
            "Train: 100%|██████████| 82/82 [00:20<00:00,  3.96it/s]\n",
            "Eval : 100%|██████████| 7/7 [00:02<00:00,  3.08it/s]\n",
            "Epoch 1545\n"
          ]
        },
        {
          "name": "stdout",
          "output_type": "stream",
          "text": [
            "Saving model...\n",
            "{'edit_distance': 110.921, '_num_chars': 125.089, '_num_pred_chars': 115.293, 'nsentences': 1.0, '_world_size': 0.007, '_lm_score_sum': 0.0, '_kaldi_score_sum': 0.0, '_word_lm_sum': 0.0, '_num_words': 0.0, '_vocab_seen': [0.007, 0.007, 0.007, 0.007, 0.0, 0.007, 0.007, 0.007, 0.007, 0.007, 0.007, 0.001, 0.007, 0.007, 0.0, 0.007, 0.0, 0.007, 0.007, 0.007, 0.007, 0.007, 0.007, 0.0, 0.0, 0.007, 0.007, 0.007, 0.007, 0.006, 0.0, 0.007, 0.007, 0.007, 0.007, 0.007, 0.007, 0.007, 0.007, 0.007, 0.006, 0.007, 0.0, 0.007, 0.007, 0.0, 0.0, 0.0, 0.007, 0.0, 0.0, 0.0, 0.0, 0.0, 0.0, 0.0, 0.0, 0.0, 0.0, 0.0]}\n"
          ]
        },
        {
          "name": "stderr",
          "output_type": "stream",
          "text": [
            "Train: 100%|██████████| 82/82 [00:24<00:00,  3.39it/s]\n",
            "Epoch 1546\n",
            "Train: 100%|██████████| 82/82 [00:20<00:00,  3.97it/s]\n",
            "Epoch 1547\n",
            "Train: 100%|██████████| 82/82 [00:24<00:00,  3.41it/s]\n",
            "Epoch 1548\n",
            "Train: 100%|██████████| 82/82 [00:20<00:00,  3.99it/s]\n",
            "Epoch 1549\n",
            "Train: 100%|██████████| 82/82 [00:24<00:00,  3.39it/s]\n",
            "Eval : 100%|██████████| 7/7 [00:02<00:00,  3.08it/s]\n",
            "Epoch 1550\n"
          ]
        },
        {
          "name": "stdout",
          "output_type": "stream",
          "text": [
            "Saving model...\n",
            "{'edit_distance': 108.995, '_num_chars': 125.089, '_num_pred_chars': 111.462, 'nsentences': 1.0, '_world_size': 0.007, '_lm_score_sum': 0.0, '_kaldi_score_sum': 0.0, '_word_lm_sum': 0.0, '_num_words': 0.0, '_vocab_seen': [0.007, 0.007, 0.007, 0.007, 0.007, 0.007, 0.0, 0.007, 0.007, 0.007, 0.007, 0.0, 0.007, 0.007, 0.0, 0.007, 0.0, 0.007, 0.0, 0.007, 0.007, 0.007, 0.007, 0.007, 0.007, 0.0, 0.005, 0.007, 0.007, 0.0, 0.0, 0.0, 0.007, 0.007, 0.007, 0.0, 0.007, 0.007, 0.007, 0.007, 0.0, 0.007, 0.0, 0.007, 0.007, 0.0, 0.0, 0.0, 0.007, 0.0, 0.0, 0.0, 0.0, 0.0, 0.0, 0.007, 0.0, 0.0, 0.0, 0.0]}\n"
          ]
        },
        {
          "name": "stderr",
          "output_type": "stream",
          "text": [
            "Train: 100%|██████████| 82/82 [00:20<00:00,  3.94it/s]\n",
            "Epoch 1551\n",
            "Train: 100%|██████████| 82/82 [00:24<00:00,  3.33it/s]\n",
            "Epoch 1552\n",
            "Train: 100%|██████████| 82/82 [00:20<00:00,  4.00it/s]\n",
            "Epoch 1553\n",
            "Train: 100%|██████████| 82/82 [00:24<00:00,  3.40it/s]\n",
            "Epoch 1554\n",
            "Train: 100%|██████████| 82/82 [00:20<00:00,  3.96it/s]\n",
            "Eval : 100%|██████████| 7/7 [00:02<00:00,  3.02it/s]\n",
            "Epoch 1555\n"
          ]
        },
        {
          "name": "stdout",
          "output_type": "stream",
          "text": [
            "Saving model...\n",
            "{'edit_distance': 112.842, '_num_chars': 125.089, '_num_pred_chars': 120.893, 'nsentences': 1.0, '_world_size': 0.007, '_lm_score_sum': 0.0, '_kaldi_score_sum': 0.0, '_word_lm_sum': 0.0, '_num_words': 0.0, '_vocab_seen': [0.007, 0.007, 0.007, 0.007, 0.007, 0.007, 0.0, 0.007, 0.007, 0.007, 0.007, 0.007, 0.007, 0.007, 0.007, 0.007, 0.006, 0.007, 0.0, 0.007, 0.007, 0.007, 0.007, 0.005, 0.007, 0.007, 0.007, 0.0, 0.007, 0.0, 0.0, 0.0, 0.007, 0.007, 0.007, 0.0, 0.007, 0.007, 0.007, 0.007, 0.007, 0.007, 0.007, 0.007, 0.007, 0.007, 0.0, 0.0, 0.007, 0.0, 0.0, 0.0, 0.0, 0.0, 0.0, 0.0, 0.0, 0.0, 0.0, 0.0]}\n"
          ]
        },
        {
          "name": "stderr",
          "output_type": "stream",
          "text": [
            "Train: 100%|██████████| 82/82 [00:24<00:00,  3.36it/s]\n",
            "Epoch 1556\n",
            "Train: 100%|██████████| 82/82 [00:20<00:00,  3.95it/s]\n",
            "Epoch 1557\n",
            "Train: 100%|██████████| 82/82 [00:24<00:00,  3.36it/s]\n",
            "Epoch 1558\n",
            "Train: 100%|██████████| 82/82 [00:20<00:00,  3.98it/s]\n",
            "Epoch 1559\n",
            "Train: 100%|██████████| 82/82 [00:23<00:00,  3.42it/s]\n",
            "Eval : 100%|██████████| 7/7 [00:02<00:00,  3.09it/s]\n",
            "Epoch 1560\n"
          ]
        },
        {
          "name": "stdout",
          "output_type": "stream",
          "text": [
            "Saving model...\n",
            "{'edit_distance': 110.835, '_num_chars': 125.089, '_num_pred_chars': 108.284, 'nsentences': 1.0, '_world_size': 0.007, '_lm_score_sum': 0.0, '_kaldi_score_sum': 0.0, '_word_lm_sum': 0.0, '_num_words': 0.0, '_vocab_seen': [0.007, 0.007, 0.007, 0.007, 0.007, 0.007, 0.007, 0.0, 0.007, 0.007, 0.007, 0.0, 0.007, 0.007, 0.0, 0.007, 0.0, 0.007, 0.0, 0.007, 0.007, 0.007, 0.007, 0.007, 0.0, 0.0, 0.007, 0.007, 0.007, 0.007, 0.007, 0.007, 0.007, 0.007, 0.007, 0.0, 0.007, 0.007, 0.002, 0.0, 0.007, 0.007, 0.0, 0.007, 0.007, 0.0, 0.007, 0.0, 0.007, 0.007, 0.007, 0.0, 0.0, 0.0, 0.0, 0.0, 0.0, 0.0, 0.0, 0.0]}\n"
          ]
        },
        {
          "name": "stderr",
          "output_type": "stream",
          "text": [
            "Train: 100%|██████████| 82/82 [00:20<00:00,  3.93it/s]\n",
            "Epoch 1561\n",
            "Train: 100%|██████████| 82/82 [00:24<00:00,  3.34it/s]\n",
            "Epoch 1562\n",
            "Train: 100%|██████████| 82/82 [00:20<00:00,  4.00it/s]\n",
            "Epoch 1563\n",
            "Train: 100%|██████████| 82/82 [00:24<00:00,  3.38it/s]\n",
            "Epoch 1564\n",
            "Train: 100%|██████████| 82/82 [00:20<00:00,  3.96it/s]\n",
            "Eval : 100%|██████████| 7/7 [00:02<00:00,  3.08it/s]\n",
            "Epoch 1565\n"
          ]
        },
        {
          "name": "stdout",
          "output_type": "stream",
          "text": [
            "Saving model...\n",
            "{'edit_distance': 112.015, '_num_chars': 125.089, '_num_pred_chars': 120.083, 'nsentences': 1.0, '_world_size': 0.007, '_lm_score_sum': 0.0, '_kaldi_score_sum': 0.0, '_word_lm_sum': 0.0, '_num_words': 0.0, '_vocab_seen': [0.007, 0.007, 0.007, 0.007, 0.007, 0.007, 0.007, 0.0, 0.007, 0.002, 0.007, 0.007, 0.007, 0.007, 0.0, 0.007, 0.007, 0.007, 0.007, 0.007, 0.007, 0.007, 0.007, 0.007, 0.0, 0.0, 0.007, 0.0, 0.007, 0.0, 0.007, 0.007, 0.007, 0.0, 0.007, 0.0, 0.0, 0.007, 0.007, 0.0, 0.0, 0.007, 0.0, 0.007, 0.007, 0.0, 0.007, 0.0, 0.007, 0.0, 0.007, 0.0, 0.0, 0.0, 0.0, 0.0, 0.0, 0.0, 0.0, 0.0]}\n"
          ]
        },
        {
          "name": "stderr",
          "output_type": "stream",
          "text": [
            "Train: 100%|██████████| 82/82 [00:24<00:00,  3.37it/s]\n",
            "Epoch 1566\n",
            "Train: 100%|██████████| 82/82 [00:20<00:00,  3.96it/s]\n",
            "Epoch 1567\n",
            "Train: 100%|██████████| 82/82 [00:23<00:00,  3.42it/s]\n",
            "Epoch 1568\n",
            "Train: 100%|██████████| 82/82 [00:20<00:00,  3.93it/s]\n",
            "Epoch 1569\n",
            "Train: 100%|██████████| 82/82 [00:24<00:00,  3.37it/s]\n",
            "Eval : 100%|██████████| 7/7 [00:02<00:00,  3.07it/s]\n",
            "Epoch 1570\n"
          ]
        },
        {
          "name": "stdout",
          "output_type": "stream",
          "text": [
            "Saving model...\n",
            "{'edit_distance': 112.245, '_num_chars': 125.089, '_num_pred_chars': 121.967, 'nsentences': 1.0, '_world_size': 0.007, '_lm_score_sum': 0.0, '_kaldi_score_sum': 0.0, '_word_lm_sum': 0.0, '_num_words': 0.0, '_vocab_seen': [0.007, 0.007, 0.007, 0.007, 0.007, 0.007, 0.007, 0.007, 0.007, 0.0, 0.007, 0.0, 0.007, 0.007, 0.0, 0.007, 0.007, 0.007, 0.007, 0.007, 0.0, 0.007, 0.007, 0.007, 0.0, 0.0, 0.007, 0.006, 0.007, 0.0, 0.007, 0.007, 0.0, 0.0, 0.007, 0.0, 0.007, 0.007, 0.007, 0.0, 0.0, 0.007, 0.0, 0.007, 0.007, 0.0, 0.007, 0.0, 0.0, 0.0, 0.007, 0.0, 0.0, 0.0, 0.0, 0.0, 0.0, 0.0, 0.0, 0.0]}\n"
          ]
        },
        {
          "name": "stderr",
          "output_type": "stream",
          "text": [
            "Train: 100%|██████████| 82/82 [00:20<00:00,  3.96it/s]\n",
            "Epoch 1571\n",
            "Train: 100%|██████████| 82/82 [00:24<00:00,  3.36it/s]\n",
            "Epoch 1572\n",
            "Train: 100%|██████████| 82/82 [00:20<00:00,  3.93it/s]\n",
            "Epoch 1573\n",
            "Train: 100%|██████████| 82/82 [00:24<00:00,  3.41it/s]\n",
            "Epoch 1574\n",
            "Train: 100%|██████████| 82/82 [00:20<00:00,  4.00it/s]\n",
            "Eval : 100%|██████████| 7/7 [00:02<00:00,  3.12it/s]\n",
            "Epoch 1575\n"
          ]
        },
        {
          "name": "stdout",
          "output_type": "stream",
          "text": [
            "Saving model...\n",
            "{'edit_distance': 110.779, '_num_chars': 125.089, '_num_pred_chars': 110.672, 'nsentences': 1.0, '_world_size': 0.007, '_lm_score_sum': 0.0, '_kaldi_score_sum': 0.0, '_word_lm_sum': 0.0, '_num_words': 0.0, '_vocab_seen': [0.007, 0.007, 0.007, 0.007, 0.007, 0.007, 0.007, 0.0, 0.007, 0.007, 0.007, 0.0, 0.007, 0.007, 0.007, 0.007, 0.0, 0.007, 0.007, 0.007, 0.007, 0.007, 0.007, 0.0, 0.0, 0.0, 0.007, 0.0, 0.007, 0.007, 0.007, 0.007, 0.0, 0.0, 0.007, 0.0, 0.007, 0.007, 0.007, 0.007, 0.0, 0.007, 0.007, 0.007, 0.007, 0.0, 0.0, 0.0, 0.0, 0.0, 0.0, 0.0, 0.0, 0.0, 0.0, 0.0, 0.0, 0.0, 0.0, 0.0]}\n"
          ]
        },
        {
          "name": "stderr",
          "output_type": "stream",
          "text": [
            "Train: 100%|██████████| 82/82 [00:24<00:00,  3.41it/s]\n",
            "Epoch 1576\n",
            "Train: 100%|██████████| 82/82 [00:20<00:00,  3.94it/s]\n",
            "Epoch 1577\n",
            "Train: 100%|██████████| 82/82 [00:24<00:00,  3.38it/s]\n",
            "Epoch 1578\n",
            "Train: 100%|██████████| 82/82 [00:20<00:00,  3.96it/s]\n",
            "Epoch 1579\n",
            "Train: 100%|██████████| 82/82 [00:23<00:00,  3.43it/s]\n",
            "Eval : 100%|██████████| 7/7 [00:02<00:00,  3.11it/s]\n",
            "Epoch 1580\n"
          ]
        },
        {
          "name": "stdout",
          "output_type": "stream",
          "text": [
            "Saving model...\n",
            "{'edit_distance': 110.453, '_num_chars': 125.089, '_num_pred_chars': 108.688, 'nsentences': 1.0, '_world_size': 0.007, '_lm_score_sum': 0.0, '_kaldi_score_sum': 0.0, '_word_lm_sum': 0.0, '_num_words': 0.0, '_vocab_seen': [0.007, 0.007, 0.007, 0.007, 0.007, 0.007, 0.007, 0.0, 0.007, 0.0, 0.007, 0.007, 0.007, 0.007, 0.0, 0.007, 0.0, 0.007, 0.007, 0.007, 0.007, 0.007, 0.007, 0.007, 0.007, 0.0, 0.007, 0.007, 0.007, 0.0, 0.007, 0.007, 0.0, 0.007, 0.007, 0.007, 0.007, 0.007, 0.007, 0.0, 0.0, 0.007, 0.007, 0.007, 0.007, 0.0, 0.0, 0.0, 0.0, 0.0, 0.0, 0.0, 0.0, 0.0, 0.0, 0.0, 0.0, 0.0, 0.0, 0.0]}\n"
          ]
        },
        {
          "name": "stderr",
          "output_type": "stream",
          "text": [
            "Train: 100%|██████████| 82/82 [00:20<00:00,  3.94it/s]\n",
            "Epoch 1581\n",
            "Train: 100%|██████████| 82/82 [00:24<00:00,  3.36it/s]\n",
            "Epoch 1582\n",
            "Train: 100%|██████████| 82/82 [00:20<00:00,  3.96it/s]\n",
            "Epoch 1583\n",
            "Train: 100%|██████████| 82/82 [00:24<00:00,  3.41it/s]\n",
            "Epoch 1584\n",
            "Train: 100%|██████████| 82/82 [00:20<00:00,  3.94it/s]\n",
            "Eval : 100%|██████████| 7/7 [00:02<00:00,  3.04it/s]\n",
            "Epoch 1585\n"
          ]
        },
        {
          "name": "stdout",
          "output_type": "stream",
          "text": [
            "Saving model...\n",
            "{'edit_distance': 110.531, '_num_chars': 125.089, '_num_pred_chars': 115.154, 'nsentences': 1.0, '_world_size': 0.007, '_lm_score_sum': 0.0, '_kaldi_score_sum': 0.0, '_word_lm_sum': 0.0, '_num_words': 0.0, '_vocab_seen': [0.007, 0.007, 0.007, 0.007, 0.007, 0.007, 0.007, 0.0, 0.007, 0.0, 0.007, 0.007, 0.007, 0.007, 0.0, 0.007, 0.002, 0.007, 0.007, 0.007, 0.007, 0.007, 0.007, 0.0, 0.007, 0.006, 0.0, 0.0, 0.007, 0.0, 0.007, 0.006, 0.007, 0.007, 0.007, 0.007, 0.007, 0.007, 0.007, 0.0, 0.007, 0.0, 0.007, 0.007, 0.007, 0.0, 0.0, 0.0, 0.0, 0.0, 0.0, 0.0, 0.0, 0.0, 0.0, 0.0, 0.0, 0.0, 0.0, 0.0]}\n"
          ]
        },
        {
          "name": "stderr",
          "output_type": "stream",
          "text": [
            "Train: 100%|██████████| 82/82 [00:24<00:00,  3.40it/s]\n",
            "Epoch 1586\n",
            "Train: 100%|██████████| 82/82 [00:20<00:00,  3.96it/s]\n",
            "Epoch 1587\n",
            "Train: 100%|██████████| 82/82 [00:23<00:00,  3.43it/s]\n",
            "Epoch 1588\n",
            "Train: 100%|██████████| 82/82 [00:20<00:00,  3.97it/s]\n",
            "Epoch 1589\n",
            "Train: 100%|██████████| 82/82 [00:24<00:00,  3.38it/s]\n",
            "Eval : 100%|██████████| 7/7 [00:02<00:00,  3.05it/s]\n",
            "Epoch 1590\n"
          ]
        },
        {
          "name": "stdout",
          "output_type": "stream",
          "text": [
            "Saving model...\n",
            "{'edit_distance': 109.431, '_num_chars': 125.089, '_num_pred_chars': 110.922, 'nsentences': 1.0, '_world_size': 0.007, '_lm_score_sum': 0.0, '_kaldi_score_sum': 0.0, '_word_lm_sum': 0.0, '_num_words': 0.0, '_vocab_seen': [0.007, 0.007, 0.007, 0.007, 0.007, 0.007, 0.007, 0.0, 0.007, 0.0, 0.007, 0.007, 0.007, 0.007, 0.007, 0.007, 0.0, 0.007, 0.007, 0.007, 0.007, 0.007, 0.007, 0.0, 0.0, 0.0, 0.007, 0.007, 0.007, 0.0, 0.007, 0.007, 0.0, 0.007, 0.007, 0.0, 0.007, 0.007, 0.007, 0.0, 0.0, 0.0, 0.007, 0.007, 0.007, 0.0, 0.0, 0.0, 0.0, 0.0, 0.0, 0.0, 0.0, 0.0, 0.0, 0.0, 0.0, 0.0, 0.0, 0.0]}\n"
          ]
        },
        {
          "name": "stderr",
          "output_type": "stream",
          "text": [
            "Train: 100%|██████████| 82/82 [00:20<00:00,  3.95it/s]\n",
            "Epoch 1591\n",
            "Train: 100%|██████████| 82/82 [00:24<00:00,  3.37it/s]\n",
            "Epoch 1592\n",
            "Train: 100%|██████████| 82/82 [00:20<00:00,  3.92it/s]\n",
            "Epoch 1593\n",
            "Train: 100%|██████████| 82/82 [00:24<00:00,  3.35it/s]\n",
            "Epoch 1594\n",
            "Train: 100%|██████████| 82/82 [00:20<00:00,  3.95it/s]\n",
            "Eval : 100%|██████████| 7/7 [00:02<00:00,  3.11it/s]\n",
            "Epoch 1595\n"
          ]
        },
        {
          "name": "stdout",
          "output_type": "stream",
          "text": [
            "Saving model...\n",
            "{'edit_distance': 110.311, '_num_chars': 125.089, '_num_pred_chars': 113.676, 'nsentences': 1.0, '_world_size': 0.007, '_lm_score_sum': 0.0, '_kaldi_score_sum': 0.0, '_word_lm_sum': 0.0, '_num_words': 0.0, '_vocab_seen': [0.007, 0.007, 0.005, 0.007, 0.007, 0.007, 0.007, 0.007, 0.007, 0.007, 0.007, 0.007, 0.007, 0.007, 0.0, 0.007, 0.007, 0.007, 0.007, 0.007, 0.007, 0.007, 0.007, 0.007, 0.0, 0.0, 0.007, 0.0, 0.007, 0.0, 0.007, 0.007, 0.0, 0.007, 0.007, 0.0, 0.007, 0.007, 0.007, 0.0, 0.0, 0.0, 0.007, 0.007, 0.007, 0.007, 0.0, 0.0, 0.001, 0.0, 0.0, 0.0, 0.0, 0.0, 0.0, 0.0, 0.0, 0.0, 0.0, 0.0]}\n"
          ]
        },
        {
          "name": "stderr",
          "output_type": "stream",
          "text": [
            "Train: 100%|██████████| 82/82 [00:24<00:00,  3.37it/s]\n",
            "Epoch 1596\n",
            "Train: 100%|██████████| 82/82 [00:20<00:00,  3.93it/s]\n",
            "Epoch 1597\n",
            "Train: 100%|██████████| 82/82 [00:24<00:00,  3.37it/s]\n",
            "Epoch 1598\n",
            "Train: 100%|██████████| 82/82 [00:20<00:00,  3.98it/s]\n",
            "Epoch 1599\n",
            "Train: 100%|██████████| 82/82 [00:24<00:00,  3.37it/s]\n",
            "Eval : 100%|██████████| 7/7 [00:02<00:00,  3.07it/s]\n",
            "Epoch 1600\n"
          ]
        },
        {
          "name": "stdout",
          "output_type": "stream",
          "text": [
            "Saving model...\n",
            "{'edit_distance': 110.205, '_num_chars': 125.089, '_num_pred_chars': 115.128, 'nsentences': 1.0, '_world_size': 0.007, '_lm_score_sum': 0.0, '_kaldi_score_sum': 0.0, '_word_lm_sum': 0.0, '_num_words': 0.0, '_vocab_seen': [0.007, 0.007, 0.007, 0.007, 0.007, 0.007, 0.0, 0.0, 0.007, 0.007, 0.007, 0.007, 0.007, 0.007, 0.0, 0.007, 0.007, 0.007, 0.007, 0.007, 0.007, 0.007, 0.007, 0.007, 0.0, 0.0, 0.007, 0.0, 0.007, 0.007, 0.007, 0.007, 0.0, 0.007, 0.007, 0.0, 0.007, 0.007, 0.007, 0.0, 0.0, 0.007, 0.007, 0.007, 0.007, 0.0, 0.0, 0.0, 0.0, 0.0, 0.0, 0.0, 0.0, 0.0, 0.0, 0.0, 0.0, 0.0, 0.0, 0.0]}\n"
          ]
        },
        {
          "name": "stderr",
          "output_type": "stream",
          "text": [
            "Train: 100%|██████████| 82/82 [00:20<00:00,  3.94it/s]\n",
            "Epoch 1601\n",
            "Train: 100%|██████████| 82/82 [00:24<00:00,  3.41it/s]\n",
            "Epoch 1602\n",
            "Train: 100%|██████████| 82/82 [00:20<00:00,  3.96it/s]\n",
            "Epoch 1603\n",
            "Train: 100%|██████████| 82/82 [00:24<00:00,  3.37it/s]\n",
            "Epoch 1604\n",
            "Train: 100%|██████████| 82/82 [00:20<00:00,  3.98it/s]\n",
            "Eval : 100%|██████████| 7/7 [00:02<00:00,  3.08it/s]\n",
            "Epoch 1605\n"
          ]
        },
        {
          "name": "stdout",
          "output_type": "stream",
          "text": [
            "Saving model...\n",
            "{'edit_distance': 111.013, '_num_chars': 125.089, '_num_pred_chars': 113.131, 'nsentences': 1.0, '_world_size': 0.007, '_lm_score_sum': 0.0, '_kaldi_score_sum': 0.0, '_word_lm_sum': 0.0, '_num_words': 0.0, '_vocab_seen': [0.007, 0.007, 0.007, 0.007, 0.007, 0.007, 0.003, 0.0, 0.007, 0.007, 0.007, 0.007, 0.007, 0.007, 0.007, 0.007, 0.007, 0.007, 0.007, 0.007, 0.007, 0.007, 0.007, 0.007, 0.007, 0.0, 0.007, 0.007, 0.007, 0.007, 0.007, 0.0, 0.007, 0.007, 0.007, 0.0, 0.007, 0.007, 0.007, 0.0, 0.007, 0.007, 0.007, 0.007, 0.007, 0.0, 0.0, 0.0, 0.0, 0.0, 0.0, 0.0, 0.0, 0.0, 0.0, 0.0, 0.0, 0.0, 0.0, 0.0]}\n"
          ]
        },
        {
          "name": "stderr",
          "output_type": "stream",
          "text": [
            "Train: 100%|██████████| 82/82 [00:24<00:00,  3.41it/s]\n",
            "Epoch 1606\n",
            "Train: 100%|██████████| 82/82 [00:20<00:00,  3.96it/s]\n",
            "Epoch 1607\n",
            "Train: 100%|██████████| 82/82 [00:24<00:00,  3.34it/s]\n",
            "Epoch 1608\n",
            "Train: 100%|██████████| 82/82 [00:20<00:00,  3.96it/s]\n",
            "Epoch 1609\n",
            "Train: 100%|██████████| 82/82 [00:24<00:00,  3.38it/s]\n",
            "Eval : 100%|██████████| 7/7 [00:02<00:00,  3.06it/s]\n",
            "Epoch 1610\n"
          ]
        },
        {
          "name": "stdout",
          "output_type": "stream",
          "text": [
            "Saving model...\n",
            "{'edit_distance': 112.355, '_num_chars': 125.089, '_num_pred_chars': 119.801, 'nsentences': 1.0, '_world_size': 0.007, '_lm_score_sum': 0.0, '_kaldi_score_sum': 0.0, '_word_lm_sum': 0.0, '_num_words': 0.0, '_vocab_seen': [0.007, 0.007, 0.007, 0.007, 0.007, 0.007, 0.007, 0.007, 0.007, 0.007, 0.007, 0.007, 0.007, 0.007, 0.007, 0.007, 0.007, 0.007, 0.007, 0.007, 0.007, 0.007, 0.007, 0.007, 0.0, 0.0, 0.007, 0.007, 0.007, 0.007, 0.007, 0.0, 0.007, 0.007, 0.007, 0.0, 0.0, 0.007, 0.007, 0.0, 0.007, 0.0, 0.007, 0.007, 0.007, 0.0, 0.007, 0.0, 0.0, 0.0, 0.0, 0.0, 0.0, 0.0, 0.0, 0.0, 0.0, 0.0, 0.0, 0.0]}\n"
          ]
        },
        {
          "name": "stderr",
          "output_type": "stream",
          "text": [
            "Train: 100%|██████████| 82/82 [00:20<00:00,  3.91it/s]\n",
            "Epoch 1611\n",
            "Train: 100%|██████████| 82/82 [00:24<00:00,  3.36it/s]\n",
            "Epoch 1612\n",
            "Train: 100%|██████████| 82/82 [00:20<00:00,  3.94it/s]\n",
            "Epoch 1613\n",
            "Train: 100%|██████████| 82/82 [00:24<00:00,  3.36it/s]\n",
            "Epoch 1614\n",
            "Train: 100%|██████████| 82/82 [00:20<00:00,  3.93it/s]\n",
            "Eval : 100%|██████████| 7/7 [00:02<00:00,  3.11it/s]\n",
            "Epoch 1615\n"
          ]
        },
        {
          "name": "stdout",
          "output_type": "stream",
          "text": [
            "Saving model...\n",
            "{'edit_distance': 112.408, '_num_chars': 125.089, '_num_pred_chars': 120.922, 'nsentences': 1.0, '_world_size': 0.007, '_lm_score_sum': 0.0, '_kaldi_score_sum': 0.0, '_word_lm_sum': 0.0, '_num_words': 0.0, '_vocab_seen': [0.007, 0.007, 0.007, 0.007, 0.004, 0.007, 0.0, 0.0, 0.007, 0.007, 0.007, 0.007, 0.007, 0.007, 0.007, 0.007, 0.007, 0.007, 0.007, 0.007, 0.007, 0.007, 0.007, 0.007, 0.0, 0.001, 0.0, 0.007, 0.007, 0.007, 0.007, 0.0, 0.007, 0.007, 0.007, 0.0, 0.007, 0.007, 0.007, 0.007, 0.007, 0.007, 0.0, 0.007, 0.007, 0.007, 0.0, 0.0, 0.0, 0.0, 0.0, 0.0, 0.0, 0.0, 0.0, 0.0, 0.0, 0.0, 0.0, 0.0]}\n"
          ]
        },
        {
          "name": "stderr",
          "output_type": "stream",
          "text": [
            "Train: 100%|██████████| 82/82 [00:24<00:00,  3.36it/s]\n",
            "Epoch 1616\n",
            "Train: 100%|██████████| 82/82 [00:20<00:00,  3.92it/s]\n",
            "Epoch 1617\n",
            "Train: 100%|██████████| 82/82 [00:24<00:00,  3.37it/s]\n",
            "Epoch 1618\n",
            "Train: 100%|██████████| 82/82 [00:20<00:00,  3.96it/s]\n",
            "Epoch 1619\n",
            "Train: 100%|██████████| 82/82 [00:24<00:00,  3.39it/s]\n",
            "Eval : 100%|██████████| 7/7 [00:02<00:00,  3.10it/s]\n",
            "Epoch 1620\n"
          ]
        },
        {
          "name": "stdout",
          "output_type": "stream",
          "text": [
            "Saving model...\n",
            "{'edit_distance': 110.46, '_num_chars': 125.089, '_num_pred_chars': 118.122, 'nsentences': 1.0, '_world_size': 0.007, '_lm_score_sum': 0.0, '_kaldi_score_sum': 0.0, '_word_lm_sum': 0.0, '_num_words': 0.0, '_vocab_seen': [0.007, 0.007, 0.007, 0.007, 0.007, 0.007, 0.0, 0.007, 0.007, 0.007, 0.007, 0.007, 0.007, 0.007, 0.007, 0.007, 0.007, 0.007, 0.007, 0.007, 0.007, 0.007, 0.007, 0.007, 0.007, 0.0, 0.007, 0.007, 0.007, 0.0, 0.007, 0.0, 0.007, 0.0, 0.007, 0.0, 0.007, 0.007, 0.007, 0.007, 0.0, 0.007, 0.007, 0.007, 0.007, 0.007, 0.0, 0.0, 0.0, 0.0, 0.0, 0.0, 0.0, 0.0, 0.007, 0.0, 0.0, 0.0, 0.0, 0.0]}\n"
          ]
        },
        {
          "name": "stderr",
          "output_type": "stream",
          "text": [
            "Train: 100%|██████████| 82/82 [00:21<00:00,  3.90it/s]\n",
            "Epoch 1621\n",
            "Train: 100%|██████████| 82/82 [00:24<00:00,  3.35it/s]\n",
            "Epoch 1622\n",
            "Train: 100%|██████████| 82/82 [00:20<00:00,  3.94it/s]\n",
            "Epoch 1623\n",
            "Train: 100%|██████████| 82/82 [00:24<00:00,  3.38it/s]\n",
            "Epoch 1624\n",
            "Train: 100%|██████████| 82/82 [00:20<00:00,  3.97it/s]\n",
            "Eval : 100%|██████████| 7/7 [00:02<00:00,  3.04it/s]\n",
            "Epoch 1625\n"
          ]
        },
        {
          "name": "stdout",
          "output_type": "stream",
          "text": [
            "Saving model...\n",
            "{'edit_distance': 110.691, '_num_chars': 125.089, '_num_pred_chars': 114.769, 'nsentences': 1.0, '_world_size': 0.007, '_lm_score_sum': 0.0, '_kaldi_score_sum': 0.0, '_word_lm_sum': 0.0, '_num_words': 0.0, '_vocab_seen': [0.007, 0.007, 0.006, 0.007, 0.007, 0.007, 0.0, 0.0, 0.007, 0.007, 0.007, 0.007, 0.007, 0.007, 0.007, 0.007, 0.007, 0.007, 0.007, 0.007, 0.007, 0.007, 0.007, 0.007, 0.007, 0.0, 0.007, 0.007, 0.007, 0.0, 0.007, 0.007, 0.0, 0.0, 0.007, 0.007, 0.007, 0.007, 0.007, 0.007, 0.007, 0.007, 0.0, 0.007, 0.007, 0.007, 0.0, 0.007, 0.0, 0.0, 0.0, 0.0, 0.0, 0.0, 0.0, 0.0, 0.0, 0.0, 0.0, 0.0]}\n"
          ]
        },
        {
          "name": "stderr",
          "output_type": "stream",
          "text": [
            "Train: 100%|██████████| 82/82 [00:24<00:00,  3.40it/s]\n",
            "Epoch 1626\n",
            "Train: 100%|██████████| 82/82 [00:20<00:00,  3.97it/s]\n",
            "Epoch 1627\n",
            "Train: 100%|██████████| 82/82 [00:24<00:00,  3.35it/s]\n",
            "Epoch 1628\n",
            "Train: 100%|██████████| 82/82 [00:20<00:00,  3.97it/s]\n",
            "Epoch 1629\n",
            "Train: 100%|██████████| 82/82 [00:24<00:00,  3.34it/s]\n",
            "Eval : 100%|██████████| 7/7 [00:02<00:00,  3.06it/s]\n",
            "Epoch 1630\n"
          ]
        },
        {
          "name": "stdout",
          "output_type": "stream",
          "text": [
            "Saving model...\n",
            "{'edit_distance': 110.061, '_num_chars': 125.089, '_num_pred_chars': 119.047, 'nsentences': 1.0, '_world_size': 0.007, '_lm_score_sum': 0.0, '_kaldi_score_sum': 0.0, '_word_lm_sum': 0.0, '_num_words': 0.0, '_vocab_seen': [0.007, 0.007, 0.007, 0.007, 0.007, 0.007, 0.007, 0.007, 0.007, 0.007, 0.007, 0.001, 0.007, 0.007, 0.007, 0.007, 0.003, 0.007, 0.007, 0.007, 0.007, 0.007, 0.007, 0.007, 0.0, 0.0, 0.007, 0.007, 0.007, 0.001, 0.007, 0.0, 0.0, 0.007, 0.007, 0.0, 0.007, 0.007, 0.007, 0.007, 0.007, 0.0, 0.0, 0.007, 0.007, 0.007, 0.0, 0.007, 0.0, 0.0, 0.0, 0.0, 0.0, 0.0, 0.0, 0.0, 0.0, 0.0, 0.0, 0.0]}\n"
          ]
        },
        {
          "name": "stderr",
          "output_type": "stream",
          "text": [
            "Train: 100%|██████████| 82/82 [00:20<00:00,  3.93it/s]\n",
            "Epoch 1631\n",
            "Train: 100%|██████████| 82/82 [00:24<00:00,  3.38it/s]\n",
            "Epoch 1632\n",
            "Train: 100%|██████████| 82/82 [00:21<00:00,  3.82it/s]\n",
            "Epoch 1633\n",
            "Train: 100%|██████████| 82/82 [00:24<00:00,  3.32it/s]\n",
            "Epoch 1634\n",
            "Train: 100%|██████████| 82/82 [00:20<00:00,  3.97it/s]\n",
            "Eval : 100%|██████████| 7/7 [00:02<00:00,  3.03it/s]\n",
            "Epoch 1635\n"
          ]
        },
        {
          "name": "stdout",
          "output_type": "stream",
          "text": [
            "Saving model...\n",
            "{'edit_distance': 110.264, '_num_chars': 125.089, '_num_pred_chars': 115.653, 'nsentences': 1.0, '_world_size': 0.007, '_lm_score_sum': 0.0, '_kaldi_score_sum': 0.0, '_word_lm_sum': 0.0, '_num_words': 0.0, '_vocab_seen': [0.007, 0.007, 0.007, 0.007, 0.007, 0.007, 0.007, 0.007, 0.007, 0.007, 0.007, 0.007, 0.007, 0.007, 0.007, 0.007, 0.0, 0.007, 0.007, 0.007, 0.007, 0.007, 0.007, 0.007, 0.0, 0.0, 0.0, 0.007, 0.007, 0.0, 0.004, 0.0, 0.007, 0.007, 0.007, 0.0, 0.0, 0.007, 0.007, 0.0, 0.0, 0.007, 0.0, 0.007, 0.007, 0.0, 0.0, 0.0, 0.007, 0.0, 0.0, 0.0, 0.0, 0.0, 0.0, 0.0, 0.0, 0.0, 0.0, 0.0]}\n"
          ]
        },
        {
          "name": "stderr",
          "output_type": "stream",
          "text": [
            "Train: 100%|██████████| 82/82 [00:24<00:00,  3.39it/s]\n",
            "Epoch 1636\n",
            "Train: 100%|██████████| 82/82 [00:20<00:00,  3.98it/s]\n",
            "Epoch 1637\n",
            "Train: 100%|██████████| 82/82 [00:24<00:00,  3.35it/s]\n",
            "Epoch 1638\n",
            "Train: 100%|██████████| 82/82 [00:20<00:00,  3.97it/s]\n",
            "Epoch 1639\n",
            "Train: 100%|██████████| 82/82 [00:24<00:00,  3.37it/s]\n",
            "Eval : 100%|██████████| 7/7 [00:02<00:00,  3.10it/s]\n",
            "Epoch 1640\n"
          ]
        },
        {
          "name": "stdout",
          "output_type": "stream",
          "text": [
            "Saving model...\n",
            "{'edit_distance': 111.15, '_num_chars': 125.089, '_num_pred_chars': 117.737, 'nsentences': 1.0, '_world_size': 0.007, '_lm_score_sum': 0.0, '_kaldi_score_sum': 0.0, '_word_lm_sum': 0.0, '_num_words': 0.0, '_vocab_seen': [0.007, 0.007, 0.007, 0.007, 0.007, 0.007, 0.0, 0.007, 0.007, 0.007, 0.007, 0.007, 0.007, 0.007, 0.007, 0.004, 0.007, 0.007, 0.007, 0.007, 0.007, 0.007, 0.007, 0.007, 0.0, 0.0, 0.0, 0.006, 0.007, 0.0, 0.007, 0.007, 0.001, 0.007, 0.007, 0.007, 0.0, 0.007, 0.007, 0.0, 0.007, 0.007, 0.007, 0.007, 0.007, 0.0, 0.0, 0.0, 0.007, 0.0, 0.0, 0.007, 0.0, 0.0, 0.0, 0.0, 0.0, 0.0, 0.0, 0.0]}\n"
          ]
        },
        {
          "name": "stderr",
          "output_type": "stream",
          "text": [
            "Train: 100%|██████████| 82/82 [00:20<00:00,  3.93it/s]\n",
            "Epoch 1641\n",
            "Train: 100%|██████████| 82/82 [00:24<00:00,  3.33it/s]\n",
            "Epoch 1642\n",
            "Train: 100%|██████████| 82/82 [00:20<00:00,  3.95it/s]\n",
            "Epoch 1643\n",
            "Train: 100%|██████████| 82/82 [00:24<00:00,  3.38it/s]\n",
            "Epoch 1644\n",
            "Train: 100%|██████████| 82/82 [00:20<00:00,  3.96it/s]\n",
            "Eval : 100%|██████████| 7/7 [00:02<00:00,  3.03it/s]\n",
            "Epoch 1645\n"
          ]
        },
        {
          "name": "stdout",
          "output_type": "stream",
          "text": [
            "Saving model...\n",
            "{'edit_distance': 112.46, '_num_chars': 125.089, '_num_pred_chars': 119.615, 'nsentences': 1.0, '_world_size': 0.007, '_lm_score_sum': 0.0, '_kaldi_score_sum': 0.0, '_word_lm_sum': 0.0, '_num_words': 0.0, '_vocab_seen': [0.007, 0.007, 0.007, 0.007, 0.007, 0.007, 0.0, 0.007, 0.007, 0.007, 0.007, 0.0, 0.007, 0.007, 0.007, 0.007, 0.007, 0.007, 0.007, 0.007, 0.007, 0.007, 0.007, 0.007, 0.007, 0.007, 0.007, 0.007, 0.007, 0.0, 0.007, 0.006, 0.0, 0.007, 0.007, 0.0, 0.007, 0.007, 0.007, 0.0, 0.007, 0.007, 0.007, 0.007, 0.007, 0.0, 0.0, 0.0, 0.0, 0.0, 0.0, 0.0, 0.0, 0.0, 0.0, 0.0, 0.0, 0.0, 0.0, 0.0]}\n"
          ]
        },
        {
          "name": "stderr",
          "output_type": "stream",
          "text": [
            "Train: 100%|██████████| 82/82 [00:24<00:00,  3.38it/s]\n",
            "Epoch 1646\n",
            "Train: 100%|██████████| 82/82 [00:20<00:00,  3.97it/s]\n",
            "Epoch 1647\n",
            "Train: 100%|██████████| 82/82 [00:24<00:00,  3.35it/s]\n",
            "Epoch 1648\n",
            "Train: 100%|██████████| 82/82 [00:20<00:00,  3.95it/s]\n",
            "Epoch 1649\n",
            "Train: 100%|██████████| 82/82 [00:24<00:00,  3.33it/s]\n",
            "Eval : 100%|██████████| 7/7 [00:02<00:00,  3.08it/s]\n",
            "Epoch 1650\n"
          ]
        },
        {
          "name": "stdout",
          "output_type": "stream",
          "text": [
            "Saving model...\n",
            "{'edit_distance': 114.935, '_num_chars': 125.089, '_num_pred_chars': 127.226, 'nsentences': 1.0, '_world_size': 0.007, '_lm_score_sum': 0.0, '_kaldi_score_sum': 0.0, '_word_lm_sum': 0.0, '_num_words': 0.0, '_vocab_seen': [0.007, 0.007, 0.007, 0.007, 0.004, 0.007, 0.0, 0.007, 0.007, 0.007, 0.007, 0.007, 0.007, 0.007, 0.007, 0.0, 0.0, 0.007, 0.007, 0.007, 0.007, 0.007, 0.007, 0.007, 0.0, 0.0, 0.007, 0.007, 0.007, 0.0, 0.007, 0.0, 0.007, 0.007, 0.007, 0.0, 0.0, 0.007, 0.007, 0.0, 0.007, 0.0, 0.007, 0.007, 0.007, 0.0, 0.007, 0.0, 0.0, 0.0, 0.0, 0.0, 0.0, 0.0, 0.0, 0.0, 0.0, 0.0, 0.0, 0.0]}\n"
          ]
        },
        {
          "name": "stderr",
          "output_type": "stream",
          "text": [
            "Train: 100%|██████████| 82/82 [00:20<00:00,  3.95it/s]\n",
            "Epoch 1651\n",
            "Train: 100%|██████████| 82/82 [00:24<00:00,  3.38it/s]\n",
            "Epoch 1652\n",
            "Train: 100%|██████████| 82/82 [00:20<00:00,  3.99it/s]\n",
            "Epoch 1653\n",
            "Train: 100%|██████████| 82/82 [00:24<00:00,  3.35it/s]\n",
            "Epoch 1654\n",
            "Train: 100%|██████████| 82/82 [00:20<00:00,  3.94it/s]\n",
            "Eval : 100%|██████████| 7/7 [00:02<00:00,  3.02it/s]\n",
            "Epoch 1655\n"
          ]
        },
        {
          "name": "stdout",
          "output_type": "stream",
          "text": [
            "Saving model...\n",
            "{'edit_distance': 112.034, '_num_chars': 125.089, '_num_pred_chars': 117.469, 'nsentences': 1.0, '_world_size': 0.007, '_lm_score_sum': 0.0, '_kaldi_score_sum': 0.0, '_word_lm_sum': 0.0, '_num_words': 0.0, '_vocab_seen': [0.007, 0.007, 0.007, 0.007, 0.001, 0.007, 0.0, 0.007, 0.007, 0.007, 0.007, 0.0, 0.007, 0.007, 0.007, 0.007, 0.0, 0.007, 0.007, 0.007, 0.007, 0.007, 0.007, 0.007, 0.0, 0.0, 0.0, 0.005, 0.007, 0.007, 0.007, 0.0, 0.007, 0.0, 0.007, 0.0, 0.0, 0.007, 0.007, 0.0, 0.007, 0.0, 0.0, 0.007, 0.007, 0.0, 0.007, 0.0, 0.0, 0.0, 0.007, 0.0, 0.0, 0.0, 0.0, 0.0, 0.0, 0.0, 0.0, 0.0]}\n"
          ]
        },
        {
          "name": "stderr",
          "output_type": "stream",
          "text": [
            "Train: 100%|██████████| 82/82 [00:24<00:00,  3.34it/s]\n",
            "Epoch 1656\n",
            "Train: 100%|██████████| 82/82 [00:20<00:00,  3.98it/s]\n",
            "Epoch 1657\n",
            "Train: 100%|██████████| 82/82 [00:24<00:00,  3.36it/s]\n",
            "Epoch 1658\n",
            "Train: 100%|██████████| 82/82 [00:20<00:00,  3.97it/s]\n",
            "Epoch 1659\n",
            "Train: 100%|██████████| 82/82 [00:24<00:00,  3.34it/s]\n",
            "Eval : 100%|██████████| 7/7 [00:02<00:00,  3.09it/s]\n",
            "Epoch 1660\n"
          ]
        },
        {
          "name": "stdout",
          "output_type": "stream",
          "text": [
            "Saving model...\n",
            "{'edit_distance': 113.214, '_num_chars': 125.089, '_num_pred_chars': 120.384, 'nsentences': 1.0, '_world_size': 0.007, '_lm_score_sum': 0.0, '_kaldi_score_sum': 0.0, '_word_lm_sum': 0.0, '_num_words': 0.0, '_vocab_seen': [0.007, 0.007, 0.007, 0.007, 0.0, 0.007, 0.0, 0.007, 0.007, 0.007, 0.007, 0.007, 0.007, 0.0, 0.007, 0.002, 0.004, 0.007, 0.007, 0.007, 0.007, 0.007, 0.007, 0.007, 0.005, 0.0, 0.0, 0.007, 0.007, 0.007, 0.007, 0.007, 0.007, 0.0, 0.007, 0.007, 0.007, 0.007, 0.007, 0.0, 0.007, 0.007, 0.0, 0.007, 0.007, 0.0, 0.0, 0.0, 0.007, 0.0, 0.007, 0.0, 0.0, 0.0, 0.0, 0.0, 0.0, 0.0, 0.0, 0.0]}\n"
          ]
        },
        {
          "name": "stderr",
          "output_type": "stream",
          "text": [
            "Train: 100%|██████████| 82/82 [00:20<00:00,  3.98it/s]\n",
            "Epoch 1661\n",
            "Train: 100%|██████████| 82/82 [00:24<00:00,  3.29it/s]\n",
            "Epoch 1662\n",
            "Train: 100%|██████████| 82/82 [00:20<00:00,  3.99it/s]\n",
            "Epoch 1663\n",
            "Train: 100%|██████████| 82/82 [00:24<00:00,  3.41it/s]\n",
            "Epoch 1664\n",
            "Train: 100%|██████████| 82/82 [00:20<00:00,  3.96it/s]\n",
            "Eval : 100%|██████████| 7/7 [00:02<00:00,  3.11it/s]\n",
            "Epoch 1665\n"
          ]
        },
        {
          "name": "stdout",
          "output_type": "stream",
          "text": [
            "Saving model...\n",
            "{'edit_distance': 112.594, '_num_chars': 125.089, '_num_pred_chars': 120.862, 'nsentences': 1.0, '_world_size': 0.007, '_lm_score_sum': 0.0, '_kaldi_score_sum': 0.0, '_word_lm_sum': 0.0, '_num_words': 0.0, '_vocab_seen': [0.007, 0.007, 0.007, 0.007, 0.004, 0.007, 0.0, 0.007, 0.007, 0.007, 0.007, 0.0, 0.007, 0.007, 0.007, 0.0, 0.0, 0.007, 0.007, 0.007, 0.007, 0.007, 0.007, 0.007, 0.0, 0.0, 0.007, 0.007, 0.007, 0.0, 0.007, 0.001, 0.007, 0.0, 0.007, 0.007, 0.007, 0.007, 0.007, 0.0, 0.0, 0.0, 0.0, 0.007, 0.007, 0.0, 0.0, 0.0, 0.007, 0.0, 0.007, 0.0, 0.0, 0.0, 0.0, 0.0, 0.0, 0.0, 0.0, 0.0]}\n"
          ]
        },
        {
          "name": "stderr",
          "output_type": "stream",
          "text": [
            "Train: 100%|██████████| 82/82 [00:24<00:00,  3.33it/s]\n",
            "Epoch 1666\n",
            "Train: 100%|██████████| 82/82 [00:20<00:00,  3.98it/s]\n",
            "Epoch 1667\n",
            "Train: 100%|██████████| 82/82 [00:24<00:00,  3.40it/s]\n",
            "Epoch 1668\n",
            "Train: 100%|██████████| 82/82 [00:20<00:00,  3.95it/s]\n",
            "Epoch 1669\n",
            "Train: 100%|██████████| 82/82 [00:24<00:00,  3.36it/s]\n",
            "Eval : 100%|██████████| 7/7 [00:02<00:00,  3.07it/s]\n",
            "Epoch 1670\n"
          ]
        },
        {
          "name": "stdout",
          "output_type": "stream",
          "text": [
            "Saving model...\n",
            "{'edit_distance': 112.184, '_num_chars': 125.089, '_num_pred_chars': 119.044, 'nsentences': 1.0, '_world_size': 0.007, '_lm_score_sum': 0.0, '_kaldi_score_sum': 0.0, '_word_lm_sum': 0.0, '_num_words': 0.0, '_vocab_seen': [0.007, 0.007, 0.007, 0.007, 0.0, 0.007, 0.0, 0.007, 0.007, 0.007, 0.007, 0.007, 0.007, 0.0, 0.007, 0.007, 0.007, 0.007, 0.007, 0.007, 0.007, 0.007, 0.007, 0.0, 0.0, 0.0, 0.007, 0.007, 0.007, 0.0, 0.007, 0.0, 0.007, 0.007, 0.007, 0.007, 0.007, 0.0, 0.007, 0.007, 0.0, 0.0, 0.0, 0.007, 0.007, 0.007, 0.0, 0.0, 0.0, 0.0, 0.007, 0.0, 0.0, 0.0, 0.0, 0.0, 0.0, 0.0, 0.0, 0.0]}\n"
          ]
        },
        {
          "name": "stderr",
          "output_type": "stream",
          "text": [
            "Train: 100%|██████████| 82/82 [00:20<00:00,  3.96it/s]\n",
            "Epoch 1671\n",
            "Train: 100%|██████████| 82/82 [00:24<00:00,  3.40it/s]\n",
            "Epoch 1672\n",
            "Train: 100%|██████████| 82/82 [00:20<00:00,  3.97it/s]\n",
            "Epoch 1673\n",
            "Train: 100%|██████████| 82/82 [00:24<00:00,  3.37it/s]\n",
            "Epoch 1674\n",
            "Train: 100%|██████████| 82/82 [00:20<00:00,  3.96it/s]\n",
            "Eval : 100%|██████████| 7/7 [00:02<00:00,  3.08it/s]\n",
            "Epoch 1675\n"
          ]
        },
        {
          "name": "stdout",
          "output_type": "stream",
          "text": [
            "Saving model...\n",
            "{'edit_distance': 112.699, '_num_chars': 125.089, '_num_pred_chars': 120.497, 'nsentences': 1.0, '_world_size': 0.007, '_lm_score_sum': 0.0, '_kaldi_score_sum': 0.0, '_word_lm_sum': 0.0, '_num_words': 0.0, '_vocab_seen': [0.007, 0.007, 0.007, 0.007, 0.007, 0.007, 0.001, 0.007, 0.007, 0.0, 0.007, 0.007, 0.007, 0.005, 0.007, 0.007, 0.0, 0.007, 0.007, 0.007, 0.007, 0.007, 0.007, 0.007, 0.007, 0.0, 0.007, 0.0, 0.0, 0.007, 0.007, 0.0, 0.007, 0.007, 0.007, 0.0, 0.007, 0.007, 0.007, 0.007, 0.006, 0.007, 0.0, 0.007, 0.007, 0.007, 0.0, 0.0, 0.0, 0.0, 0.0, 0.0, 0.0, 0.0, 0.0, 0.0, 0.0, 0.0, 0.0, 0.0]}\n"
          ]
        },
        {
          "name": "stderr",
          "output_type": "stream",
          "text": [
            "Train: 100%|██████████| 82/82 [00:24<00:00,  3.35it/s]\n",
            "Epoch 1676\n",
            "Train: 100%|██████████| 82/82 [00:20<00:00,  3.96it/s]\n",
            "Epoch 1677\n",
            "Train: 100%|██████████| 82/82 [00:24<00:00,  3.35it/s]\n",
            "Epoch 1678\n",
            "Train: 100%|██████████| 82/82 [00:20<00:00,  3.92it/s]\n",
            "Epoch 1679\n",
            "Train: 100%|██████████| 82/82 [00:24<00:00,  3.36it/s]\n",
            "Eval : 100%|██████████| 7/7 [00:02<00:00,  3.09it/s]\n",
            "Epoch 1680\n"
          ]
        },
        {
          "name": "stdout",
          "output_type": "stream",
          "text": [
            "Saving model...\n",
            "{'edit_distance': 112.855, '_num_chars': 125.089, '_num_pred_chars': 119.496, 'nsentences': 1.0, '_world_size': 0.007, '_lm_score_sum': 0.0, '_kaldi_score_sum': 0.0, '_word_lm_sum': 0.0, '_num_words': 0.0, '_vocab_seen': [0.007, 0.007, 0.007, 0.007, 0.007, 0.007, 0.0, 0.007, 0.007, 0.0, 0.007, 0.004, 0.007, 0.007, 0.007, 0.007, 0.0, 0.007, 0.007, 0.007, 0.007, 0.007, 0.007, 0.007, 0.007, 0.0, 0.007, 0.007, 0.0, 0.0, 0.003, 0.0, 0.006, 0.007, 0.007, 0.0, 0.0, 0.007, 0.007, 0.007, 0.007, 0.007, 0.0, 0.007, 0.007, 0.0, 0.0, 0.0, 0.007, 0.0, 0.0, 0.0, 0.0, 0.0, 0.0, 0.0, 0.0, 0.0, 0.0, 0.0]}\n"
          ]
        },
        {
          "name": "stderr",
          "output_type": "stream",
          "text": [
            "Train: 100%|██████████| 82/82 [00:20<00:00,  3.95it/s]\n",
            "Epoch 1681\n",
            "Train: 100%|██████████| 82/82 [00:24<00:00,  3.39it/s]\n",
            "Epoch 1682\n",
            "Train: 100%|██████████| 82/82 [00:20<00:00,  3.95it/s]\n",
            "Epoch 1683\n",
            "Train: 100%|██████████| 82/82 [00:24<00:00,  3.33it/s]\n",
            "Epoch 1684\n",
            "Train: 100%|██████████| 82/82 [00:20<00:00,  3.93it/s]\n",
            "Eval : 100%|██████████| 7/7 [00:02<00:00,  3.04it/s]\n",
            "Epoch 1685\n"
          ]
        },
        {
          "name": "stdout",
          "output_type": "stream",
          "text": [
            "Saving model...\n",
            "{'edit_distance': 109.474, '_num_chars': 125.089, '_num_pred_chars': 109.136, 'nsentences': 1.0, '_world_size': 0.007, '_lm_score_sum': 0.0, '_kaldi_score_sum': 0.0, '_word_lm_sum': 0.0, '_num_words': 0.0, '_vocab_seen': [0.007, 0.007, 0.001, 0.007, 0.007, 0.007, 0.0, 0.005, 0.007, 0.0, 0.007, 0.007, 0.007, 0.0, 0.007, 0.0, 0.0, 0.007, 0.007, 0.007, 0.007, 0.007, 0.007, 0.007, 0.0, 0.0, 0.007, 0.007, 0.007, 0.0, 0.0, 0.006, 0.007, 0.007, 0.007, 0.0, 0.007, 0.007, 0.007, 0.007, 0.007, 0.007, 0.0, 0.007, 0.007, 0.0, 0.0, 0.0, 0.0, 0.0, 0.0, 0.0, 0.0, 0.0, 0.0, 0.0, 0.0, 0.0, 0.0, 0.0]}\n"
          ]
        },
        {
          "name": "stderr",
          "output_type": "stream",
          "text": [
            "Train: 100%|██████████| 82/82 [00:23<00:00,  3.45it/s]\n",
            "Epoch 1686\n",
            "Train: 100%|██████████| 82/82 [00:20<00:00,  3.93it/s]\n",
            "Epoch 1687\n",
            "Train: 100%|██████████| 82/82 [00:24<00:00,  3.38it/s]\n",
            "Epoch 1688\n",
            "Train: 100%|██████████| 82/82 [00:20<00:00,  3.98it/s]\n",
            "Epoch 1689\n",
            "Train: 100%|██████████| 82/82 [00:24<00:00,  3.40it/s]\n",
            "Eval : 100%|██████████| 7/7 [00:02<00:00,  3.09it/s]\n",
            "Epoch 1690\n"
          ]
        },
        {
          "name": "stdout",
          "output_type": "stream",
          "text": [
            "Saving model...\n",
            "{'edit_distance': 111.268, '_num_chars': 125.089, '_num_pred_chars': 112.462, 'nsentences': 1.0, '_world_size': 0.007, '_lm_score_sum': 0.0, '_kaldi_score_sum': 0.0, '_word_lm_sum': 0.0, '_num_words': 0.0, '_vocab_seen': [0.007, 0.007, 0.0, 0.007, 0.0, 0.007, 0.0, 0.004, 0.007, 0.0, 0.007, 0.007, 0.007, 0.007, 0.007, 0.007, 0.0, 0.007, 0.007, 0.007, 0.007, 0.007, 0.007, 0.0, 0.007, 0.0, 0.007, 0.007, 0.007, 0.0, 0.007, 0.007, 0.0, 0.007, 0.007, 0.007, 0.0, 0.0, 0.007, 0.007, 0.007, 0.007, 0.0, 0.007, 0.007, 0.0, 0.0, 0.0, 0.0, 0.0, 0.0, 0.007, 0.0, 0.0, 0.0, 0.0, 0.0, 0.0, 0.0, 0.0]}\n"
          ]
        },
        {
          "name": "stderr",
          "output_type": "stream",
          "text": [
            "Train: 100%|██████████| 82/82 [00:20<00:00,  3.94it/s]\n",
            "Epoch 1691\n",
            "Train: 100%|██████████| 82/82 [00:24<00:00,  3.36it/s]\n",
            "Epoch 1692\n",
            "Train: 100%|██████████| 82/82 [00:20<00:00,  3.97it/s]\n",
            "Epoch 1693\n",
            "Train: 100%|██████████| 82/82 [00:24<00:00,  3.39it/s]\n",
            "Epoch 1694\n",
            "Train: 100%|██████████| 82/82 [00:20<00:00,  3.95it/s]\n",
            "Eval : 100%|██████████| 7/7 [00:02<00:00,  3.04it/s]\n",
            "Epoch 1695\n"
          ]
        },
        {
          "name": "stdout",
          "output_type": "stream",
          "text": [
            "Saving model...\n",
            "{'edit_distance': 110.295, '_num_chars': 125.089, '_num_pred_chars': 117.021, 'nsentences': 1.0, '_world_size': 0.007, '_lm_score_sum': 0.0, '_kaldi_score_sum': 0.0, '_word_lm_sum': 0.0, '_num_words': 0.0, '_vocab_seen': [0.007, 0.007, 0.007, 0.007, 0.0, 0.007, 0.007, 0.007, 0.007, 0.007, 0.007, 0.007, 0.007, 0.0, 0.007, 0.007, 0.007, 0.007, 0.007, 0.007, 0.007, 0.007, 0.007, 0.0, 0.0, 0.0, 0.007, 0.007, 0.007, 0.0, 0.007, 0.0, 0.0, 0.007, 0.007, 0.0, 0.006, 0.0, 0.007, 0.0, 0.007, 0.007, 0.0, 0.007, 0.007, 0.0, 0.0, 0.0, 0.0, 0.0, 0.0, 0.007, 0.0, 0.0, 0.0, 0.0, 0.0, 0.0, 0.0, 0.0]}\n"
          ]
        },
        {
          "name": "stderr",
          "output_type": "stream",
          "text": [
            "Train: 100%|██████████| 82/82 [00:24<00:00,  3.37it/s]\n",
            "Epoch 1696\n",
            "Train: 100%|██████████| 82/82 [00:20<00:00,  3.96it/s]\n",
            "Epoch 1697\n",
            "Train: 100%|██████████| 82/82 [00:24<00:00,  3.37it/s]\n",
            "Epoch 1698\n",
            "Train: 100%|██████████| 82/82 [00:20<00:00,  3.95it/s]\n",
            "Epoch 1699\n",
            "Train: 100%|██████████| 82/82 [00:24<00:00,  3.38it/s]\n",
            "Eval : 100%|██████████| 7/7 [00:02<00:00,  3.06it/s]\n",
            "Epoch 1700\n"
          ]
        },
        {
          "name": "stdout",
          "output_type": "stream",
          "text": [
            "Saving model...\n",
            "{'edit_distance': 111.823, '_num_chars': 125.089, '_num_pred_chars': 118.237, 'nsentences': 1.0, '_world_size': 0.007, '_lm_score_sum': 0.0, '_kaldi_score_sum': 0.0, '_word_lm_sum': 0.0, '_num_words': 0.0, '_vocab_seen': [0.007, 0.007, 0.005, 0.007, 0.007, 0.007, 0.0, 0.007, 0.007, 0.0, 0.007, 0.007, 0.007, 0.0, 0.007, 0.007, 0.007, 0.007, 0.007, 0.007, 0.007, 0.007, 0.007, 0.007, 0.007, 0.007, 0.007, 0.007, 0.007, 0.004, 0.007, 0.0, 0.007, 0.007, 0.007, 0.0, 0.007, 0.007, 0.007, 0.0, 0.007, 0.007, 0.007, 0.007, 0.007, 0.0, 0.007, 0.0, 0.0, 0.0, 0.0, 0.007, 0.0, 0.0, 0.0, 0.0, 0.0, 0.0, 0.0, 0.0]}\n"
          ]
        },
        {
          "name": "stderr",
          "output_type": "stream",
          "text": [
            "Train: 100%|██████████| 82/82 [00:20<00:00,  3.92it/s]\n",
            "Epoch 1701\n",
            "Train: 100%|██████████| 82/82 [00:24<00:00,  3.38it/s]\n",
            "Epoch 1702\n",
            "Train: 100%|██████████| 82/82 [00:20<00:00,  3.94it/s]\n",
            "Epoch 1703\n",
            "Train: 100%|██████████| 82/82 [00:24<00:00,  3.40it/s]\n",
            "Epoch 1704\n",
            "Train: 100%|██████████| 82/82 [00:20<00:00,  3.93it/s]\n",
            "Eval : 100%|██████████| 7/7 [00:02<00:00,  2.99it/s]\n",
            "Epoch 1705\n"
          ]
        },
        {
          "name": "stdout",
          "output_type": "stream",
          "text": [
            "Saving model...\n",
            "{'edit_distance': 112.166, '_num_chars': 125.089, '_num_pred_chars': 117.939, 'nsentences': 1.0, '_world_size': 0.007, '_lm_score_sum': 0.0, '_kaldi_score_sum': 0.0, '_word_lm_sum': 0.0, '_num_words': 0.0, '_vocab_seen': [0.007, 0.007, 0.007, 0.007, 0.0, 0.007, 0.0, 0.007, 0.007, 0.007, 0.007, 0.007, 0.007, 0.001, 0.0, 0.007, 0.007, 0.007, 0.007, 0.007, 0.007, 0.007, 0.007, 0.007, 0.0, 0.0, 0.007, 0.007, 0.007, 0.0, 0.007, 0.0, 0.007, 0.007, 0.007, 0.0, 0.007, 0.007, 0.007, 0.007, 0.0, 0.007, 0.007, 0.007, 0.007, 0.007, 0.007, 0.0, 0.0, 0.007, 0.0, 0.0, 0.0, 0.0, 0.0, 0.0, 0.0, 0.0, 0.0, 0.0]}\n"
          ]
        },
        {
          "name": "stderr",
          "output_type": "stream",
          "text": [
            "Train: 100%|██████████| 82/82 [00:24<00:00,  3.37it/s]\n",
            "Epoch 1706\n",
            "Train: 100%|██████████| 82/82 [00:21<00:00,  3.89it/s]\n",
            "Epoch 1707\n",
            "Train: 100%|██████████| 82/82 [00:24<00:00,  3.39it/s]\n",
            "Epoch 1708\n",
            "Train: 100%|██████████| 82/82 [00:20<00:00,  3.95it/s]\n",
            "Epoch 1709\n",
            "Train: 100%|██████████| 82/82 [00:24<00:00,  3.41it/s]\n",
            "Eval : 100%|██████████| 7/7 [00:02<00:00,  3.09it/s]\n",
            "Epoch 1710\n"
          ]
        },
        {
          "name": "stdout",
          "output_type": "stream",
          "text": [
            "Saving model...\n",
            "{'edit_distance': 108.522, '_num_chars': 125.089, '_num_pred_chars': 105.608, 'nsentences': 1.0, '_world_size': 0.007, '_lm_score_sum': 0.0, '_kaldi_score_sum': 0.0, '_word_lm_sum': 0.0, '_num_words': 0.0, '_vocab_seen': [0.007, 0.007, 0.003, 0.007, 0.007, 0.007, 0.0, 0.007, 0.007, 0.0, 0.007, 0.007, 0.007, 0.0, 0.0, 0.007, 0.0, 0.007, 0.007, 0.007, 0.007, 0.007, 0.007, 0.007, 0.007, 0.0, 0.007, 0.006, 0.007, 0.0, 0.007, 0.0, 0.007, 0.006, 0.007, 0.0, 0.007, 0.007, 0.007, 0.0, 0.007, 0.007, 0.007, 0.007, 0.007, 0.0, 0.0, 0.0, 0.0, 0.007, 0.0, 0.0, 0.0, 0.0, 0.0, 0.0, 0.0, 0.0, 0.0, 0.0]}\n"
          ]
        },
        {
          "name": "stderr",
          "output_type": "stream",
          "text": [
            "Train: 100%|██████████| 82/82 [00:20<00:00,  3.97it/s]\n",
            "Epoch 1711\n",
            "Train: 100%|██████████| 82/82 [00:24<00:00,  3.40it/s]\n",
            "Epoch 1712\n",
            "Train: 100%|██████████| 82/82 [00:20<00:00,  3.94it/s]\n",
            "Epoch 1713\n",
            "Train: 100%|██████████| 82/82 [00:24<00:00,  3.40it/s]\n",
            "Epoch 1714\n",
            "Train: 100%|██████████| 82/82 [00:20<00:00,  3.96it/s]\n",
            "Eval : 100%|██████████| 7/7 [00:02<00:00,  3.12it/s]\n",
            "Epoch 1715\n"
          ]
        },
        {
          "name": "stdout",
          "output_type": "stream",
          "text": [
            "Saving model...\n",
            "{'edit_distance': 108.658, '_num_chars': 125.089, '_num_pred_chars': 114.424, 'nsentences': 1.0, '_world_size': 0.007, '_lm_score_sum': 0.0, '_kaldi_score_sum': 0.0, '_word_lm_sum': 0.0, '_num_words': 0.0, '_vocab_seen': [0.007, 0.007, 0.007, 0.007, 0.007, 0.007, 0.007, 0.007, 0.007, 0.0, 0.007, 0.007, 0.007, 0.007, 0.0, 0.007, 0.0, 0.007, 0.007, 0.007, 0.007, 0.007, 0.007, 0.007, 0.0, 0.0, 0.007, 0.0, 0.007, 0.0, 0.007, 0.0, 0.0, 0.007, 0.007, 0.0, 0.007, 0.007, 0.007, 0.0, 0.007, 0.007, 0.007, 0.007, 0.007, 0.0, 0.0, 0.0, 0.007, 0.0, 0.0, 0.0, 0.0, 0.0, 0.0, 0.0, 0.0, 0.0, 0.0, 0.0]}\n"
          ]
        },
        {
          "name": "stderr",
          "output_type": "stream",
          "text": [
            "Train: 100%|██████████| 82/82 [00:24<00:00,  3.35it/s]\n",
            "Epoch 1716\n",
            "Train: 100%|██████████| 82/82 [00:20<00:00,  3.95it/s]\n",
            "Epoch 1717\n",
            "Train: 100%|██████████| 82/82 [00:23<00:00,  3.42it/s]\n",
            "Epoch 1718\n",
            "Train: 100%|██████████| 82/82 [00:20<00:00,  3.91it/s]\n",
            "Epoch 1719\n",
            "Train: 100%|██████████| 82/82 [00:24<00:00,  3.32it/s]\n",
            "Eval : 100%|██████████| 7/7 [00:02<00:00,  3.09it/s]\n",
            "Epoch 1720\n"
          ]
        },
        {
          "name": "stdout",
          "output_type": "stream",
          "text": [
            "Saving model...\n",
            "{'edit_distance': 113.491, '_num_chars': 125.089, '_num_pred_chars': 124.779, 'nsentences': 1.0, '_world_size': 0.007, '_lm_score_sum': 0.0, '_kaldi_score_sum': 0.0, '_word_lm_sum': 0.0, '_num_words': 0.0, '_vocab_seen': [0.007, 0.007, 0.007, 0.007, 0.007, 0.007, 0.007, 0.007, 0.007, 0.007, 0.007, 0.007, 0.007, 0.007, 0.007, 0.007, 0.007, 0.007, 0.007, 0.007, 0.007, 0.007, 0.007, 0.007, 0.0, 0.0, 0.007, 0.007, 0.007, 0.007, 0.007, 0.0, 0.0, 0.007, 0.007, 0.0, 0.007, 0.007, 0.007, 0.007, 0.0, 0.007, 0.007, 0.007, 0.007, 0.007, 0.0, 0.0, 0.0, 0.0, 0.0, 0.0, 0.0, 0.0, 0.0, 0.0, 0.0, 0.0, 0.0, 0.0]}\n"
          ]
        },
        {
          "name": "stderr",
          "output_type": "stream",
          "text": [
            "Train: 100%|██████████| 82/82 [00:20<00:00,  3.93it/s]\n",
            "Epoch 1721\n",
            "Train: 100%|██████████| 82/82 [00:24<00:00,  3.32it/s]\n",
            "Epoch 1722\n",
            "Train: 100%|██████████| 82/82 [00:20<00:00,  3.93it/s]\n",
            "Epoch 1723\n",
            "Train: 100%|██████████| 82/82 [00:24<00:00,  3.37it/s]\n",
            "Epoch 1724\n",
            "Train: 100%|██████████| 82/82 [00:20<00:00,  3.95it/s]\n",
            "Eval : 100%|██████████| 7/7 [00:02<00:00,  3.12it/s]\n",
            "Epoch 1725\n"
          ]
        },
        {
          "name": "stdout",
          "output_type": "stream",
          "text": [
            "Saving model...\n",
            "{'edit_distance': 111.191, '_num_chars': 125.089, '_num_pred_chars': 116.819, 'nsentences': 1.0, '_world_size': 0.007, '_lm_score_sum': 0.0, '_kaldi_score_sum': 0.0, '_word_lm_sum': 0.0, '_num_words': 0.0, '_vocab_seen': [0.007, 0.007, 0.007, 0.007, 0.007, 0.007, 0.007, 0.007, 0.007, 0.007, 0.007, 0.005, 0.007, 0.007, 0.007, 0.007, 0.007, 0.007, 0.007, 0.007, 0.007, 0.007, 0.007, 0.0, 0.0, 0.0, 0.007, 0.007, 0.007, 0.0, 0.007, 0.007, 0.0, 0.0, 0.007, 0.0, 0.007, 0.007, 0.007, 0.0, 0.0, 0.007, 0.007, 0.007, 0.007, 0.0, 0.0, 0.0, 0.007, 0.0, 0.0, 0.0, 0.0, 0.0, 0.007, 0.0, 0.0, 0.0, 0.0, 0.0]}\n"
          ]
        },
        {
          "name": "stderr",
          "output_type": "stream",
          "text": [
            "Train: 100%|██████████| 82/82 [00:24<00:00,  3.38it/s]\n",
            "Epoch 1726\n",
            "Train: 100%|██████████| 82/82 [00:20<00:00,  3.92it/s]\n",
            "Epoch 1727\n",
            "Train: 100%|██████████| 82/82 [00:24<00:00,  3.37it/s]\n",
            "Epoch 1728\n",
            "Train: 100%|██████████| 82/82 [00:20<00:00,  3.99it/s]\n",
            "Epoch 1729\n",
            "Train: 100%|██████████| 82/82 [00:24<00:00,  3.39it/s]\n",
            "Eval : 100%|██████████| 7/7 [00:02<00:00,  3.04it/s]\n",
            "Epoch 1730\n"
          ]
        },
        {
          "name": "stdout",
          "output_type": "stream",
          "text": [
            "Saving model...\n",
            "{'edit_distance': 109.986, '_num_chars': 125.089, '_num_pred_chars': 113.599, 'nsentences': 1.0, '_world_size': 0.007, '_lm_score_sum': 0.0, '_kaldi_score_sum': 0.0, '_word_lm_sum': 0.0, '_num_words': 0.0, '_vocab_seen': [0.007, 0.007, 0.007, 0.007, 0.007, 0.007, 0.007, 0.007, 0.007, 0.007, 0.007, 0.007, 0.007, 0.007, 0.007, 0.007, 0.007, 0.007, 0.007, 0.007, 0.007, 0.007, 0.007, 0.0, 0.007, 0.0, 0.007, 0.007, 0.007, 0.0, 0.007, 0.007, 0.007, 0.0, 0.007, 0.0, 0.0, 0.007, 0.007, 0.007, 0.0, 0.007, 0.007, 0.007, 0.007, 0.0, 0.0, 0.0, 0.007, 0.0, 0.0, 0.0, 0.0, 0.0, 0.007, 0.0, 0.0, 0.0, 0.0, 0.0]}\n"
          ]
        },
        {
          "name": "stderr",
          "output_type": "stream",
          "text": [
            "Train: 100%|██████████| 82/82 [00:20<00:00,  3.95it/s]\n",
            "Epoch 1731\n",
            "Train: 100%|██████████| 82/82 [00:24<00:00,  3.33it/s]\n",
            "Epoch 1732\n",
            "Train: 100%|██████████| 82/82 [00:20<00:00,  3.98it/s]\n",
            "Epoch 1733\n",
            "Train: 100%|██████████| 82/82 [00:24<00:00,  3.39it/s]\n",
            "Epoch 1734\n",
            "Train: 100%|██████████| 82/82 [00:20<00:00,  3.94it/s]\n",
            "Eval : 100%|██████████| 7/7 [00:02<00:00,  3.11it/s]\n",
            "Epoch 1735\n"
          ]
        },
        {
          "name": "stdout",
          "output_type": "stream",
          "text": [
            "Saving model...\n",
            "{'edit_distance': 111.988, '_num_chars': 125.089, '_num_pred_chars': 120.55, 'nsentences': 1.0, '_world_size': 0.007, '_lm_score_sum': 0.0, '_kaldi_score_sum': 0.0, '_word_lm_sum': 0.0, '_num_words': 0.0, '_vocab_seen': [0.007, 0.007, 0.007, 0.007, 0.007, 0.007, 0.007, 0.007, 0.007, 0.007, 0.007, 0.0, 0.007, 0.007, 0.007, 0.007, 0.007, 0.007, 0.007, 0.007, 0.007, 0.007, 0.007, 0.007, 0.0, 0.0, 0.007, 0.007, 0.007, 0.001, 0.0, 0.007, 0.007, 0.0, 0.007, 0.007, 0.007, 0.007, 0.007, 0.0, 0.0, 0.007, 0.007, 0.007, 0.007, 0.0, 0.007, 0.0, 0.007, 0.0, 0.0, 0.0, 0.0, 0.0, 0.0, 0.0, 0.0, 0.0, 0.0, 0.0]}\n"
          ]
        },
        {
          "name": "stderr",
          "output_type": "stream",
          "text": [
            "Train: 100%|██████████| 82/82 [00:24<00:00,  3.37it/s]\n",
            "Epoch 1736\n",
            "Train: 100%|██████████| 82/82 [00:20<00:00,  3.98it/s]\n",
            "Epoch 1737\n",
            "Train: 100%|██████████| 82/82 [00:24<00:00,  3.38it/s]\n",
            "Epoch 1738\n",
            "Train: 100%|██████████| 82/82 [00:20<00:00,  3.95it/s]\n",
            "Epoch 1739\n",
            "Train: 100%|██████████| 82/82 [00:24<00:00,  3.34it/s]\n",
            "Eval : 100%|██████████| 7/7 [00:02<00:00,  3.08it/s]\n",
            "Epoch 1740\n"
          ]
        },
        {
          "name": "stdout",
          "output_type": "stream",
          "text": [
            "Saving model...\n",
            "{'edit_distance': 114.517, '_num_chars': 125.089, '_num_pred_chars': 125.603, 'nsentences': 1.0, '_world_size': 0.007, '_lm_score_sum': 0.0, '_kaldi_score_sum': 0.0, '_word_lm_sum': 0.0, '_num_words': 0.0, '_vocab_seen': [0.007, 0.007, 0.007, 0.007, 0.007, 0.007, 0.007, 0.0, 0.007, 0.007, 0.007, 0.007, 0.007, 0.007, 0.007, 0.007, 0.0, 0.007, 0.007, 0.007, 0.007, 0.007, 0.007, 0.007, 0.0, 0.0, 0.007, 0.007, 0.007, 0.0, 0.007, 0.007, 0.0, 0.0, 0.007, 0.007, 0.007, 0.007, 0.007, 0.0, 0.0, 0.007, 0.0, 0.007, 0.007, 0.0, 0.007, 0.0, 0.0, 0.0, 0.007, 0.0, 0.0, 0.0, 0.0, 0.0, 0.0, 0.0, 0.0, 0.0]}\n"
          ]
        },
        {
          "name": "stderr",
          "output_type": "stream",
          "text": [
            "Train: 100%|██████████| 82/82 [00:20<00:00,  3.92it/s]\n",
            "Epoch 1741\n",
            "Train: 100%|██████████| 82/82 [00:24<00:00,  3.39it/s]\n",
            "Epoch 1742\n",
            "Train: 100%|██████████| 82/82 [00:20<00:00,  3.94it/s]\n",
            "Epoch 1743\n",
            "Train: 100%|██████████| 82/82 [00:24<00:00,  3.41it/s]\n",
            "Epoch 1744\n",
            "Train: 100%|██████████| 82/82 [00:20<00:00,  3.92it/s]\n",
            "Eval : 100%|██████████| 7/7 [00:02<00:00,  3.04it/s]\n",
            "Epoch 1745\n"
          ]
        },
        {
          "name": "stdout",
          "output_type": "stream",
          "text": [
            "Saving model...\n",
            "{'edit_distance': 115.654, '_num_chars': 125.089, '_num_pred_chars': 125.49, 'nsentences': 1.0, '_world_size': 0.007, '_lm_score_sum': 0.0, '_kaldi_score_sum': 0.0, '_word_lm_sum': 0.0, '_num_words': 0.0, '_vocab_seen': [0.007, 0.007, 0.007, 0.007, 0.007, 0.007, 0.007, 0.007, 0.007, 0.007, 0.007, 0.0, 0.007, 0.007, 0.007, 0.007, 0.0, 0.007, 0.007, 0.007, 0.007, 0.007, 0.007, 0.007, 0.0, 0.007, 0.007, 0.007, 0.007, 0.0, 0.007, 0.007, 0.0, 0.007, 0.007, 0.007, 0.007, 0.007, 0.007, 0.0, 0.007, 0.007, 0.0, 0.007, 0.007, 0.0, 0.007, 0.0, 0.007, 0.0, 0.0, 0.0, 0.0, 0.007, 0.0, 0.0, 0.0, 0.0, 0.0, 0.0]}\n"
          ]
        },
        {
          "name": "stderr",
          "output_type": "stream",
          "text": [
            "Train: 100%|██████████| 82/82 [00:24<00:00,  3.34it/s]\n",
            "Epoch 1746\n",
            "Train: 100%|██████████| 82/82 [00:20<00:00,  3.97it/s]\n",
            "Epoch 1747\n",
            "Train: 100%|██████████| 82/82 [00:24<00:00,  3.39it/s]\n",
            "Epoch 1748\n",
            "Train: 100%|██████████| 82/82 [00:20<00:00,  3.94it/s]\n",
            "Epoch 1749\n",
            "Train: 100%|██████████| 82/82 [00:24<00:00,  3.36it/s]\n",
            "Eval : 100%|██████████| 7/7 [00:02<00:00,  3.06it/s]\n",
            "Epoch 1750\n"
          ]
        },
        {
          "name": "stdout",
          "output_type": "stream",
          "text": [
            "Saving model...\n",
            "{'edit_distance': 111.992, '_num_chars': 125.089, '_num_pred_chars': 121.094, 'nsentences': 1.0, '_world_size': 0.007, '_lm_score_sum': 0.0, '_kaldi_score_sum': 0.0, '_word_lm_sum': 0.0, '_num_words': 0.0, '_vocab_seen': [0.007, 0.007, 0.007, 0.007, 0.007, 0.007, 0.007, 0.0, 0.007, 0.007, 0.007, 0.007, 0.007, 0.007, 0.007, 0.007, 0.0, 0.007, 0.007, 0.007, 0.007, 0.007, 0.007, 0.007, 0.0, 0.001, 0.0, 0.007, 0.007, 0.007, 0.007, 0.007, 0.0, 0.0, 0.007, 0.007, 0.007, 0.006, 0.007, 0.0, 0.006, 0.007, 0.0, 0.007, 0.007, 0.0, 0.0, 0.007, 0.0, 0.0, 0.0, 0.0, 0.0, 0.005, 0.0, 0.0, 0.0, 0.0, 0.0, 0.0]}\n"
          ]
        },
        {
          "name": "stderr",
          "output_type": "stream",
          "text": [
            "Train: 100%|██████████| 82/82 [00:20<00:00,  3.95it/s]\n",
            "Epoch 1751\n",
            "Train: 100%|██████████| 82/82 [00:24<00:00,  3.37it/s]\n",
            "Epoch 1752\n",
            "Train: 100%|██████████| 82/82 [00:20<00:00,  3.97it/s]\n",
            "Epoch 1753\n",
            "Train: 100%|██████████| 82/82 [00:24<00:00,  3.41it/s]\n",
            "Epoch 1754\n",
            "Train: 100%|██████████| 82/82 [00:20<00:00,  3.96it/s]\n",
            "Eval : 100%|██████████| 7/7 [00:02<00:00,  3.06it/s]\n",
            "Epoch 1755\n"
          ]
        },
        {
          "name": "stdout",
          "output_type": "stream",
          "text": [
            "Saving model...\n",
            "{'edit_distance': 111.521, '_num_chars': 125.089, '_num_pred_chars': 118.064, 'nsentences': 1.0, '_world_size': 0.007, '_lm_score_sum': 0.0, '_kaldi_score_sum': 0.0, '_word_lm_sum': 0.0, '_num_words': 0.0, '_vocab_seen': [0.007, 0.007, 0.0, 0.007, 0.007, 0.007, 0.007, 0.007, 0.007, 0.007, 0.007, 0.001, 0.007, 0.007, 0.007, 0.007, 0.007, 0.007, 0.007, 0.007, 0.007, 0.007, 0.007, 0.0, 0.0, 0.0, 0.0, 0.007, 0.007, 0.0, 0.007, 0.0, 0.007, 0.0, 0.007, 0.007, 0.007, 0.007, 0.007, 0.0, 0.0, 0.007, 0.007, 0.007, 0.007, 0.0, 0.0, 0.007, 0.0, 0.0, 0.0, 0.0, 0.0, 0.0, 0.0, 0.0, 0.0, 0.0, 0.0, 0.0]}\n"
          ]
        },
        {
          "name": "stderr",
          "output_type": "stream",
          "text": [
            "Train: 100%|██████████| 82/82 [00:24<00:00,  3.37it/s]\n",
            "Epoch 1756\n",
            "Train: 100%|██████████| 82/82 [00:20<00:00,  3.96it/s]\n",
            "Epoch 1757\n",
            "Train: 100%|██████████| 82/82 [00:24<00:00,  3.32it/s]\n",
            "Epoch 1758\n",
            "Train: 100%|██████████| 82/82 [00:20<00:00,  3.95it/s]\n",
            "Epoch 1759\n",
            "Train: 100%|██████████| 82/82 [00:24<00:00,  3.35it/s]\n",
            "Eval : 100%|██████████| 7/7 [00:02<00:00,  3.09it/s]\n",
            "Epoch 1760\n"
          ]
        },
        {
          "name": "stdout",
          "output_type": "stream",
          "text": [
            "Saving model...\n",
            "{'edit_distance': 111.75, '_num_chars': 125.089, '_num_pred_chars': 119.39, 'nsentences': 1.0, '_world_size': 0.007, '_lm_score_sum': 0.0, '_kaldi_score_sum': 0.0, '_word_lm_sum': 0.0, '_num_words': 0.0, '_vocab_seen': [0.007, 0.007, 0.007, 0.007, 0.007, 0.007, 0.007, 0.0, 0.007, 0.007, 0.007, 0.0, 0.007, 0.0, 0.007, 0.007, 0.0, 0.007, 0.007, 0.007, 0.007, 0.007, 0.007, 0.0, 0.0, 0.0, 0.0, 0.007, 0.007, 0.0, 0.007, 0.0, 0.007, 0.007, 0.007, 0.007, 0.007, 0.007, 0.007, 0.001, 0.007, 0.007, 0.0, 0.007, 0.007, 0.0, 0.0, 0.007, 0.0, 0.0, 0.0, 0.0, 0.0, 0.0, 0.0, 0.0, 0.0, 0.0, 0.0, 0.0]}\n"
          ]
        },
        {
          "name": "stderr",
          "output_type": "stream",
          "text": [
            "Train: 100%|██████████| 82/82 [00:20<00:00,  3.93it/s]\n",
            "Epoch 1761\n",
            "Train: 100%|██████████| 82/82 [00:24<00:00,  3.39it/s]\n",
            "Epoch 1762\n",
            "Train: 100%|██████████| 82/82 [00:20<00:00,  3.97it/s]\n",
            "Epoch 1763\n",
            "Train: 100%|██████████| 82/82 [00:24<00:00,  3.36it/s]\n",
            "Epoch 1764\n",
            "Train: 100%|██████████| 82/82 [00:20<00:00,  3.96it/s]\n",
            "Eval : 100%|██████████| 7/7 [00:02<00:00,  3.05it/s]\n",
            "Epoch 1765\n"
          ]
        },
        {
          "name": "stdout",
          "output_type": "stream",
          "text": [
            "Saving model...\n",
            "{'edit_distance': 114.001, '_num_chars': 125.089, '_num_pred_chars': 118.542, 'nsentences': 1.0, '_world_size': 0.007, '_lm_score_sum': 0.0, '_kaldi_score_sum': 0.0, '_word_lm_sum': 0.0, '_num_words': 0.0, '_vocab_seen': [0.007, 0.007, 0.001, 0.007, 0.007, 0.007, 0.007, 0.007, 0.007, 0.007, 0.007, 0.007, 0.007, 0.0, 0.007, 0.007, 0.007, 0.007, 0.007, 0.007, 0.007, 0.007, 0.007, 0.007, 0.007, 0.0, 0.007, 0.007, 0.007, 0.007, 0.0, 0.007, 0.007, 0.007, 0.007, 0.007, 0.007, 0.007, 0.007, 0.007, 0.007, 0.007, 0.0, 0.0, 0.007, 0.0, 0.0, 0.0, 0.0, 0.0, 0.0, 0.0, 0.0, 0.0, 0.0, 0.0, 0.0, 0.0, 0.0, 0.0]}\n"
          ]
        },
        {
          "name": "stderr",
          "output_type": "stream",
          "text": [
            "Train: 100%|██████████| 82/82 [00:24<00:00,  3.35it/s]\n",
            "Epoch 1766\n",
            "Train: 100%|██████████| 82/82 [00:20<00:00,  3.94it/s]\n",
            "Epoch 1767\n",
            "Train: 100%|██████████| 82/82 [00:24<00:00,  3.36it/s]\n",
            "Epoch 1768\n",
            "Train: 100%|██████████| 82/82 [00:20<00:00,  3.96it/s]\n",
            "Epoch 1769\n",
            "Train: 100%|██████████| 82/82 [00:23<00:00,  3.45it/s]\n",
            "Eval : 100%|██████████| 7/7 [00:02<00:00,  3.05it/s]\n",
            "Epoch 1770\n"
          ]
        },
        {
          "name": "stdout",
          "output_type": "stream",
          "text": [
            "Saving model...\n",
            "{'edit_distance': 112.523, '_num_chars': 125.089, '_num_pred_chars': 113.232, 'nsentences': 1.0, '_world_size': 0.007, '_lm_score_sum': 0.0, '_kaldi_score_sum': 0.0, '_word_lm_sum': 0.0, '_num_words': 0.0, '_vocab_seen': [0.007, 0.007, 0.0, 0.007, 0.007, 0.007, 0.007, 0.0, 0.007, 0.007, 0.007, 0.007, 0.007, 0.007, 0.006, 0.007, 0.007, 0.007, 0.007, 0.007, 0.007, 0.007, 0.007, 0.007, 0.0, 0.007, 0.007, 0.001, 0.007, 0.0, 0.0, 0.0, 0.0, 0.0, 0.007, 0.007, 0.0, 0.007, 0.007, 0.007, 0.0, 0.007, 0.0, 0.0, 0.007, 0.007, 0.0, 0.0, 0.0, 0.0, 0.0, 0.0, 0.0, 0.0, 0.0, 0.0, 0.0, 0.0, 0.0, 0.0]}\n"
          ]
        },
        {
          "name": "stderr",
          "output_type": "stream",
          "text": [
            "Train: 100%|██████████| 82/82 [00:20<00:00,  3.95it/s]\n",
            "Epoch 1771\n",
            "Train: 100%|██████████| 82/82 [00:24<00:00,  3.40it/s]\n",
            "Epoch 1772\n",
            "Train: 100%|██████████| 82/82 [00:20<00:00,  3.97it/s]\n",
            "Epoch 1773\n",
            "Train: 100%|██████████| 82/82 [00:23<00:00,  3.44it/s]\n",
            "Epoch 1774\n",
            "Train: 100%|██████████| 82/82 [00:20<00:00,  3.92it/s]\n",
            "Eval : 100%|██████████| 7/7 [00:02<00:00,  3.08it/s]\n",
            "Epoch 1775\n"
          ]
        },
        {
          "name": "stdout",
          "output_type": "stream",
          "text": [
            "Saving model...\n",
            "{'edit_distance': 115.746, '_num_chars': 125.089, '_num_pred_chars': 129.432, 'nsentences': 1.0, '_world_size': 0.007, '_lm_score_sum': 0.0, '_kaldi_score_sum': 0.0, '_word_lm_sum': 0.0, '_num_words': 0.0, '_vocab_seen': [0.007, 0.007, 0.0, 0.007, 0.007, 0.007, 0.007, 0.007, 0.007, 0.007, 0.007, 0.007, 0.007, 0.007, 0.0, 0.007, 0.0, 0.007, 0.007, 0.007, 0.007, 0.007, 0.007, 0.001, 0.0, 0.0, 0.007, 0.007, 0.007, 0.0, 0.007, 0.0, 0.007, 0.0, 0.007, 0.007, 0.007, 0.007, 0.007, 0.007, 0.0, 0.007, 0.007, 0.0, 0.007, 0.0, 0.0, 0.0, 0.0, 0.0, 0.007, 0.0, 0.0, 0.0, 0.0, 0.0, 0.0, 0.0, 0.0, 0.0]}\n"
          ]
        },
        {
          "name": "stderr",
          "output_type": "stream",
          "text": [
            "Train: 100%|██████████| 82/82 [00:24<00:00,  3.30it/s]\n",
            "Epoch 1776\n",
            "Train: 100%|██████████| 82/82 [00:20<00:00,  3.97it/s]\n",
            "Epoch 1777\n",
            "Train: 100%|██████████| 82/82 [00:24<00:00,  3.41it/s]\n",
            "Epoch 1778\n",
            "Train: 100%|██████████| 82/82 [00:20<00:00,  3.97it/s]\n",
            "Epoch 1779\n",
            "Train: 100%|██████████| 82/82 [00:23<00:00,  3.42it/s]\n",
            "Eval : 100%|██████████| 7/7 [00:02<00:00,  3.05it/s]\n",
            "Epoch 1780\n"
          ]
        },
        {
          "name": "stdout",
          "output_type": "stream",
          "text": [
            "Saving model...\n",
            "{'edit_distance': 111.518, '_num_chars': 125.089, '_num_pred_chars': 113.936, 'nsentences': 1.0, '_world_size': 0.007, '_lm_score_sum': 0.0, '_kaldi_score_sum': 0.0, '_word_lm_sum': 0.0, '_num_words': 0.0, '_vocab_seen': [0.007, 0.007, 0.0, 0.007, 0.006, 0.007, 0.007, 0.007, 0.007, 0.001, 0.007, 0.007, 0.007, 0.007, 0.0, 0.007, 0.007, 0.007, 0.007, 0.007, 0.007, 0.007, 0.007, 0.0, 0.0, 0.0, 0.007, 0.007, 0.007, 0.0, 0.0, 0.0, 0.007, 0.0, 0.007, 0.007, 0.007, 0.007, 0.007, 0.007, 0.0, 0.007, 0.007, 0.0, 0.007, 0.007, 0.0, 0.0, 0.0, 0.0, 0.0, 0.0, 0.0, 0.0, 0.0, 0.0, 0.0, 0.0, 0.0, 0.0]}\n"
          ]
        },
        {
          "name": "stderr",
          "output_type": "stream",
          "text": [
            "Train: 100%|██████████| 82/82 [00:20<00:00,  3.97it/s]\n",
            "Epoch 1781\n",
            "Train: 100%|██████████| 82/82 [00:24<00:00,  3.40it/s]\n",
            "Epoch 1782\n",
            "Train: 100%|██████████| 82/82 [00:20<00:00,  3.97it/s]\n",
            "Epoch 1783\n",
            "Train: 100%|██████████| 82/82 [00:24<00:00,  3.40it/s]\n",
            "Epoch 1784\n",
            "Train: 100%|██████████| 82/82 [00:20<00:00,  3.97it/s]\n",
            "Eval : 100%|██████████| 7/7 [00:02<00:00,  3.08it/s]\n",
            "Epoch 1785\n"
          ]
        },
        {
          "name": "stdout",
          "output_type": "stream",
          "text": [
            "Saving model...\n",
            "{'edit_distance': 112.944, '_num_chars': 125.089, '_num_pred_chars': 119.483, 'nsentences': 1.0, '_world_size': 0.007, '_lm_score_sum': 0.0, '_kaldi_score_sum': 0.0, '_word_lm_sum': 0.0, '_num_words': 0.0, '_vocab_seen': [0.007, 0.007, 0.007, 0.007, 0.007, 0.007, 0.007, 0.007, 0.007, 0.0, 0.007, 0.007, 0.007, 0.007, 0.007, 0.007, 0.0, 0.007, 0.007, 0.007, 0.007, 0.007, 0.007, 0.0, 0.007, 0.0, 0.007, 0.007, 0.007, 0.0, 0.007, 0.0, 0.0, 0.007, 0.007, 0.007, 0.007, 0.007, 0.007, 0.007, 0.0, 0.007, 0.007, 0.0, 0.007, 0.0, 0.0, 0.0, 0.0, 0.0, 0.0, 0.0, 0.0, 0.0, 0.0, 0.0, 0.0, 0.0, 0.0, 0.0]}\n"
          ]
        },
        {
          "name": "stderr",
          "output_type": "stream",
          "text": [
            "Train: 100%|██████████| 82/82 [00:24<00:00,  3.39it/s]\n",
            "Epoch 1786\n",
            "Train: 100%|██████████| 82/82 [00:20<00:00,  3.94it/s]\n",
            "Epoch 1787\n",
            "Train: 100%|██████████| 82/82 [00:23<00:00,  3.42it/s]\n",
            "Epoch 1788\n",
            "Train: 100%|██████████| 82/82 [00:20<00:00,  3.95it/s]\n",
            "Epoch 1789\n",
            "Train: 100%|██████████| 82/82 [00:24<00:00,  3.35it/s]\n",
            "Eval : 100%|██████████| 7/7 [00:02<00:00,  3.08it/s]\n",
            "Epoch 1790\n"
          ]
        },
        {
          "name": "stdout",
          "output_type": "stream",
          "text": [
            "Saving model...\n",
            "{'edit_distance': 110.808, '_num_chars': 125.089, '_num_pred_chars': 116.786, 'nsentences': 1.0, '_world_size': 0.007, '_lm_score_sum': 0.0, '_kaldi_score_sum': 0.0, '_word_lm_sum': 0.0, '_num_words': 0.0, '_vocab_seen': [0.007, 0.007, 0.007, 0.007, 0.007, 0.007, 0.007, 0.007, 0.007, 0.007, 0.007, 0.007, 0.007, 0.007, 0.0, 0.007, 0.0, 0.007, 0.007, 0.007, 0.007, 0.007, 0.007, 0.0, 0.001, 0.0, 0.007, 0.007, 0.007, 0.0, 0.007, 0.0, 0.007, 0.007, 0.007, 0.001, 0.0, 0.007, 0.007, 0.007, 0.007, 0.007, 0.007, 0.007, 0.007, 0.0, 0.0, 0.0, 0.0, 0.0, 0.0, 0.0, 0.0, 0.0, 0.0, 0.0, 0.0, 0.0, 0.0, 0.0]}\n"
          ]
        },
        {
          "name": "stderr",
          "output_type": "stream",
          "text": [
            "Train: 100%|██████████| 82/82 [00:20<00:00,  3.95it/s]\n",
            "Epoch 1791\n",
            "Train: 100%|██████████| 82/82 [00:23<00:00,  3.42it/s]\n",
            "Epoch 1792\n",
            "Train: 100%|██████████| 82/82 [00:20<00:00,  3.95it/s]\n",
            "Epoch 1793\n",
            "Train: 100%|██████████| 82/82 [00:24<00:00,  3.36it/s]\n",
            "Epoch 1794\n",
            "Train: 100%|██████████| 82/82 [00:20<00:00,  4.01it/s]\n",
            "Eval : 100%|██████████| 7/7 [00:02<00:00,  3.10it/s]\n",
            "Epoch 1795\n"
          ]
        },
        {
          "name": "stdout",
          "output_type": "stream",
          "text": [
            "Saving model...\n",
            "{'edit_distance': 109.93, '_num_chars': 125.089, '_num_pred_chars': 117.795, 'nsentences': 1.0, '_world_size': 0.007, '_lm_score_sum': 0.0, '_kaldi_score_sum': 0.0, '_word_lm_sum': 0.0, '_num_words': 0.0, '_vocab_seen': [0.007, 0.007, 0.007, 0.007, 0.007, 0.007, 0.007, 0.007, 0.007, 0.0, 0.007, 0.007, 0.007, 0.007, 0.0, 0.007, 0.007, 0.007, 0.007, 0.007, 0.007, 0.007, 0.007, 0.0, 0.0, 0.0, 0.003, 0.007, 0.007, 0.0, 0.007, 0.007, 0.0, 0.007, 0.007, 0.0, 0.007, 0.007, 0.007, 0.0, 0.006, 0.007, 0.007, 0.0, 0.007, 0.0, 0.0, 0.0, 0.0, 0.0, 0.0, 0.0, 0.0, 0.0, 0.0, 0.0, 0.0, 0.0, 0.0, 0.0]}\n"
          ]
        },
        {
          "name": "stderr",
          "output_type": "stream",
          "text": [
            "Train: 100%|██████████| 82/82 [00:24<00:00,  3.36it/s]\n",
            "Epoch 1796\n",
            "Train: 100%|██████████| 82/82 [00:20<00:00,  3.97it/s]\n",
            "Epoch 1797\n",
            "Train: 100%|██████████| 82/82 [00:24<00:00,  3.38it/s]\n",
            "Epoch 1798\n",
            "Train: 100%|██████████| 82/82 [00:20<00:00,  3.96it/s]\n",
            "Epoch 1799\n",
            "Train: 100%|██████████| 82/82 [00:24<00:00,  3.40it/s]\n",
            "Eval : 100%|██████████| 7/7 [00:02<00:00,  3.10it/s]\n",
            "Epoch 1800\n"
          ]
        },
        {
          "name": "stdout",
          "output_type": "stream",
          "text": [
            "Saving model...\n",
            "{'edit_distance': 109.32, '_num_chars': 125.089, '_num_pred_chars': 111.882, 'nsentences': 1.0, '_world_size': 0.007, '_lm_score_sum': 0.0, '_kaldi_score_sum': 0.0, '_word_lm_sum': 0.0, '_num_words': 0.0, '_vocab_seen': [0.007, 0.007, 0.007, 0.007, 0.007, 0.007, 0.007, 0.007, 0.007, 0.0, 0.007, 0.007, 0.007, 0.007, 0.007, 0.007, 0.007, 0.007, 0.007, 0.007, 0.007, 0.007, 0.007, 0.0, 0.0, 0.0, 0.0, 0.007, 0.0, 0.0, 0.007, 0.004, 0.007, 0.0, 0.007, 0.0, 0.007, 0.007, 0.007, 0.007, 0.006, 0.007, 0.007, 0.0, 0.007, 0.007, 0.007, 0.0, 0.0, 0.0, 0.0, 0.0, 0.0, 0.0, 0.0, 0.0, 0.0, 0.0, 0.0, 0.0]}\n"
          ]
        },
        {
          "name": "stderr",
          "output_type": "stream",
          "text": [
            "Train: 100%|██████████| 82/82 [00:20<00:00,  3.95it/s]\n",
            "Epoch 1801\n",
            "Train: 100%|██████████| 82/82 [00:23<00:00,  3.42it/s]\n",
            "Epoch 1802\n",
            "Train: 100%|██████████| 82/82 [00:20<00:00,  3.97it/s]\n",
            "Epoch 1803\n",
            "Train: 100%|██████████| 82/82 [00:24<00:00,  3.35it/s]\n",
            "Epoch 1804\n",
            "Train: 100%|██████████| 82/82 [00:20<00:00,  3.98it/s]\n",
            "Eval : 100%|██████████| 7/7 [00:02<00:00,  3.04it/s]\n",
            "Epoch 1805\n"
          ]
        },
        {
          "name": "stdout",
          "output_type": "stream",
          "text": [
            "Saving model...\n",
            "{'edit_distance': 111.692, '_num_chars': 125.089, '_num_pred_chars': 116.565, 'nsentences': 1.0, '_world_size': 0.007, '_lm_score_sum': 0.0, '_kaldi_score_sum': 0.0, '_word_lm_sum': 0.0, '_num_words': 0.0, '_vocab_seen': [0.007, 0.007, 0.002, 0.007, 0.007, 0.007, 0.007, 0.005, 0.007, 0.001, 0.007, 0.007, 0.007, 0.007, 0.007, 0.007, 0.0, 0.007, 0.007, 0.007, 0.007, 0.007, 0.007, 0.007, 0.0, 0.007, 0.007, 0.007, 0.007, 0.0, 0.007, 0.0, 0.0, 0.007, 0.007, 0.0, 0.007, 0.007, 0.007, 0.0, 0.007, 0.007, 0.007, 0.0, 0.007, 0.0, 0.0, 0.0, 0.0, 0.0, 0.0, 0.0, 0.0, 0.0, 0.0, 0.0, 0.0, 0.0, 0.0, 0.0]}\n"
          ]
        },
        {
          "name": "stderr",
          "output_type": "stream",
          "text": [
            "Train: 100%|██████████| 82/82 [00:24<00:00,  3.36it/s]\n",
            "Epoch 1806\n",
            "Train: 100%|██████████| 82/82 [00:20<00:00,  3.93it/s]\n",
            "Epoch 1807\n",
            "Train: 100%|██████████| 82/82 [00:24<00:00,  3.39it/s]\n",
            "Epoch 1808\n",
            "Train: 100%|██████████| 82/82 [00:20<00:00,  3.98it/s]\n",
            "Epoch 1809\n",
            "Train: 100%|██████████| 82/82 [00:24<00:00,  3.39it/s]\n",
            "Eval : 100%|██████████| 7/7 [00:02<00:00,  3.08it/s]\n",
            "Epoch 1810\n"
          ]
        },
        {
          "name": "stdout",
          "output_type": "stream",
          "text": [
            "Saving model...\n",
            "{'edit_distance': 112.544, '_num_chars': 125.089, '_num_pred_chars': 114.872, 'nsentences': 1.0, '_world_size': 0.007, '_lm_score_sum': 0.0, '_kaldi_score_sum': 0.0, '_word_lm_sum': 0.0, '_num_words': 0.0, '_vocab_seen': [0.007, 0.007, 0.007, 0.007, 0.007, 0.007, 0.0, 0.007, 0.007, 0.0, 0.007, 0.007, 0.007, 0.007, 0.007, 0.007, 0.007, 0.007, 0.007, 0.007, 0.007, 0.007, 0.007, 0.007, 0.0, 0.0, 0.007, 0.002, 0.007, 0.0, 0.007, 0.0, 0.0, 0.007, 0.007, 0.0, 0.004, 0.0, 0.007, 0.0, 0.007, 0.007, 0.002, 0.0, 0.007, 0.007, 0.007, 0.0, 0.0, 0.0, 0.0, 0.0, 0.0, 0.0, 0.0, 0.0, 0.0, 0.0, 0.0, 0.0]}\n"
          ]
        },
        {
          "name": "stderr",
          "output_type": "stream",
          "text": [
            "Train: 100%|██████████| 82/82 [00:20<00:00,  3.97it/s]\n",
            "Epoch 1811\n",
            "Train: 100%|██████████| 82/82 [00:24<00:00,  3.36it/s]\n",
            "Epoch 1812\n",
            "Train: 100%|██████████| 82/82 [00:20<00:00,  3.96it/s]\n",
            "Epoch 1813\n",
            "Train: 100%|██████████| 82/82 [00:24<00:00,  3.36it/s]\n",
            "Epoch 1814\n",
            "Train: 100%|██████████| 82/82 [00:20<00:00,  3.95it/s]\n",
            "Eval : 100%|██████████| 7/7 [00:02<00:00,  3.02it/s]\n",
            "Epoch 1815\n"
          ]
        },
        {
          "name": "stdout",
          "output_type": "stream",
          "text": [
            "Saving model...\n",
            "{'edit_distance': 110.267, '_num_chars': 125.089, '_num_pred_chars': 113.028, 'nsentences': 1.0, '_world_size': 0.007, '_lm_score_sum': 0.0, '_kaldi_score_sum': 0.0, '_word_lm_sum': 0.0, '_num_words': 0.0, '_vocab_seen': [0.007, 0.007, 0.0, 0.007, 0.007, 0.007, 0.0, 0.002, 0.007, 0.007, 0.007, 0.007, 0.007, 0.007, 0.0, 0.007, 0.007, 0.007, 0.007, 0.007, 0.007, 0.007, 0.007, 0.007, 0.0, 0.0, 0.007, 0.007, 0.007, 0.0, 0.007, 0.007, 0.007, 0.007, 0.007, 0.0, 0.007, 0.0, 0.007, 0.0, 0.007, 0.007, 0.007, 0.007, 0.007, 0.007, 0.007, 0.0, 0.007, 0.0, 0.0, 0.0, 0.0, 0.0, 0.0, 0.0, 0.0, 0.0, 0.0, 0.0]}\n"
          ]
        },
        {
          "name": "stderr",
          "output_type": "stream",
          "text": [
            "Train: 100%|██████████| 82/82 [00:24<00:00,  3.37it/s]\n",
            "Epoch 1816\n",
            "Train: 100%|██████████| 82/82 [00:20<00:00,  3.94it/s]\n",
            "Epoch 1817\n",
            "Train: 100%|██████████| 82/82 [00:24<00:00,  3.34it/s]\n",
            "Epoch 1818\n",
            "Train: 100%|██████████| 82/82 [00:20<00:00,  3.96it/s]\n",
            "Epoch 1819\n",
            "Train: 100%|██████████| 82/82 [00:23<00:00,  3.43it/s]\n",
            "Eval : 100%|██████████| 7/7 [00:02<00:00,  3.01it/s]\n",
            "Epoch 1820\n"
          ]
        },
        {
          "name": "stdout",
          "output_type": "stream",
          "text": [
            "Saving model...\n",
            "{'edit_distance': 108.944, '_num_chars': 125.089, '_num_pred_chars': 110.522, 'nsentences': 1.0, '_world_size': 0.007, '_lm_score_sum': 0.0, '_kaldi_score_sum': 0.0, '_word_lm_sum': 0.0, '_num_words': 0.0, '_vocab_seen': [0.007, 0.007, 0.007, 0.007, 0.007, 0.007, 0.007, 0.0, 0.007, 0.0, 0.007, 0.007, 0.007, 0.007, 0.0, 0.007, 0.007, 0.007, 0.007, 0.007, 0.007, 0.007, 0.007, 0.0, 0.0, 0.007, 0.004, 0.002, 0.007, 0.0, 0.007, 0.0, 0.007, 0.007, 0.007, 0.0, 0.001, 0.0, 0.007, 0.007, 0.007, 0.007, 0.007, 0.0, 0.007, 0.007, 0.007, 0.0, 0.0, 0.0, 0.0, 0.0, 0.0, 0.0, 0.0, 0.0, 0.0, 0.0, 0.0, 0.0]}\n"
          ]
        },
        {
          "name": "stderr",
          "output_type": "stream",
          "text": [
            "Train: 100%|██████████| 82/82 [00:20<00:00,  3.93it/s]\n",
            "Epoch 1821\n",
            "Train: 100%|██████████| 82/82 [00:24<00:00,  3.38it/s]\n",
            "Epoch 1822\n",
            "Train: 100%|██████████| 82/82 [00:20<00:00,  3.95it/s]\n",
            "Epoch 1823\n",
            "Train: 100%|██████████| 82/82 [00:23<00:00,  3.42it/s]\n",
            "Epoch 1824\n",
            "Train: 100%|██████████| 82/82 [00:20<00:00,  3.96it/s]\n",
            "Eval : 100%|██████████| 7/7 [00:02<00:00,  3.01it/s]\n",
            "Epoch 1825\n"
          ]
        },
        {
          "name": "stdout",
          "output_type": "stream",
          "text": [
            "Saving model...\n",
            "{'edit_distance': 113.729, '_num_chars': 125.089, '_num_pred_chars': 120.752, 'nsentences': 1.0, '_world_size': 0.007, '_lm_score_sum': 0.0, '_kaldi_score_sum': 0.0, '_word_lm_sum': 0.0, '_num_words': 0.0, '_vocab_seen': [0.007, 0.007, 0.007, 0.007, 0.007, 0.007, 0.0, 0.002, 0.007, 0.007, 0.007, 0.007, 0.007, 0.007, 0.007, 0.007, 0.007, 0.007, 0.007, 0.007, 0.007, 0.007, 0.007, 0.007, 0.0, 0.007, 0.0, 0.0, 0.007, 0.0, 0.007, 0.0, 0.007, 0.007, 0.007, 0.0, 0.007, 0.007, 0.007, 0.0, 0.007, 0.007, 0.007, 0.007, 0.007, 0.0, 0.007, 0.0, 0.0, 0.007, 0.0, 0.0, 0.0, 0.0, 0.0, 0.0, 0.0, 0.0, 0.0, 0.0]}\n"
          ]
        },
        {
          "name": "stderr",
          "output_type": "stream",
          "text": [
            "Train: 100%|██████████| 82/82 [00:24<00:00,  3.35it/s]\n",
            "Epoch 1826\n",
            "Train: 100%|██████████| 82/82 [00:20<00:00,  3.93it/s]\n",
            "Epoch 1827\n",
            "Train: 100%|██████████| 82/82 [00:23<00:00,  3.42it/s]\n",
            "Epoch 1828\n",
            "Train: 100%|██████████| 82/82 [00:20<00:00,  3.96it/s]\n",
            "Epoch 1829\n",
            "Train: 100%|██████████| 82/82 [00:24<00:00,  3.33it/s]\n",
            "Eval : 100%|██████████| 7/7 [00:02<00:00,  3.07it/s]\n",
            "Epoch 1830\n"
          ]
        },
        {
          "name": "stdout",
          "output_type": "stream",
          "text": [
            "Saving model...\n",
            "{'edit_distance': 114.644, '_num_chars': 125.089, '_num_pred_chars': 124.189, 'nsentences': 1.0, '_world_size': 0.007, '_lm_score_sum': 0.0, '_kaldi_score_sum': 0.0, '_word_lm_sum': 0.0, '_num_words': 0.0, '_vocab_seen': [0.007, 0.007, 0.007, 0.007, 0.007, 0.007, 0.0, 0.0, 0.007, 0.007, 0.007, 0.007, 0.007, 0.007, 0.0, 0.007, 0.007, 0.007, 0.007, 0.007, 0.007, 0.007, 0.007, 0.0, 0.0, 0.007, 0.007, 0.007, 0.007, 0.0, 0.0, 0.0, 0.007, 0.007, 0.007, 0.0, 0.007, 0.007, 0.0, 0.0, 0.007, 0.007, 0.007, 0.007, 0.007, 0.0, 0.0, 0.0, 0.0, 0.007, 0.0, 0.0, 0.0, 0.0, 0.0, 0.0, 0.0, 0.0, 0.0, 0.0]}\n"
          ]
        },
        {
          "name": "stderr",
          "output_type": "stream",
          "text": [
            "Train: 100%|██████████| 82/82 [00:20<00:00,  3.93it/s]\n",
            "Epoch 1831\n",
            "Train: 100%|██████████| 82/82 [00:24<00:00,  3.40it/s]\n",
            "Epoch 1832\n",
            "Train: 100%|██████████| 82/82 [00:20<00:00,  3.95it/s]\n",
            "Epoch 1833\n",
            "Train: 100%|██████████| 82/82 [00:24<00:00,  3.35it/s]\n",
            "Epoch 1834\n",
            "Train: 100%|██████████| 82/82 [00:20<00:00,  3.93it/s]\n",
            "Eval : 100%|██████████| 7/7 [00:02<00:00,  3.06it/s]\n",
            "Epoch 1835\n"
          ]
        },
        {
          "name": "stdout",
          "output_type": "stream",
          "text": [
            "Saving model...\n",
            "{'edit_distance': 111.895, '_num_chars': 125.089, '_num_pred_chars': 120.42, 'nsentences': 1.0, '_world_size': 0.007, '_lm_score_sum': 0.0, '_kaldi_score_sum': 0.0, '_word_lm_sum': 0.0, '_num_words': 0.0, '_vocab_seen': [0.007, 0.007, 0.007, 0.007, 0.007, 0.007, 0.007, 0.0, 0.007, 0.0, 0.007, 0.007, 0.007, 0.007, 0.0, 0.007, 0.007, 0.007, 0.007, 0.007, 0.007, 0.007, 0.007, 0.007, 0.0, 0.007, 0.007, 0.0, 0.007, 0.001, 0.0, 0.0, 0.007, 0.007, 0.007, 0.0, 0.007, 0.007, 0.007, 0.0, 0.006, 0.007, 0.0, 0.007, 0.007, 0.007, 0.0, 0.0, 0.0, 0.007, 0.0, 0.0, 0.0, 0.0, 0.0, 0.0, 0.0, 0.0, 0.0, 0.0]}\n"
          ]
        },
        {
          "name": "stderr",
          "output_type": "stream",
          "text": [
            "Train: 100%|██████████| 82/82 [00:24<00:00,  3.35it/s]\n",
            "Epoch 1836\n",
            "Train: 100%|██████████| 82/82 [00:20<00:00,  3.92it/s]\n",
            "Epoch 1837\n",
            "Train: 100%|██████████| 82/82 [00:24<00:00,  3.34it/s]\n",
            "Epoch 1838\n",
            "Train: 100%|██████████| 82/82 [00:20<00:00,  3.94it/s]\n",
            "Epoch 1839\n",
            "Train: 100%|██████████| 82/82 [00:23<00:00,  3.44it/s]\n",
            "Eval : 100%|██████████| 7/7 [00:02<00:00,  3.06it/s]\n",
            "Epoch 1840\n"
          ]
        },
        {
          "name": "stdout",
          "output_type": "stream",
          "text": [
            "Saving model...\n",
            "{'edit_distance': 110.654, '_num_chars': 125.089, '_num_pred_chars': 108.651, 'nsentences': 1.0, '_world_size': 0.007, '_lm_score_sum': 0.0, '_kaldi_score_sum': 0.0, '_word_lm_sum': 0.0, '_num_words': 0.0, '_vocab_seen': [0.007, 0.007, 0.007, 0.007, 0.007, 0.007, 0.0, 0.0, 0.007, 0.007, 0.007, 0.007, 0.007, 0.007, 0.007, 0.007, 0.0, 0.007, 0.007, 0.007, 0.007, 0.007, 0.007, 0.007, 0.007, 0.007, 0.007, 0.0, 0.007, 0.0, 0.007, 0.0, 0.007, 0.007, 0.007, 0.0, 0.007, 0.007, 0.007, 0.0, 0.007, 0.007, 0.0, 0.0, 0.007, 0.0, 0.0, 0.0, 0.0, 0.007, 0.0, 0.0, 0.0, 0.0, 0.0, 0.0, 0.0, 0.0, 0.0, 0.0]}\n"
          ]
        },
        {
          "name": "stderr",
          "output_type": "stream",
          "text": [
            "Train: 100%|██████████| 82/82 [00:20<00:00,  3.93it/s]\n",
            "Epoch 1841\n",
            "Train: 100%|██████████| 82/82 [00:24<00:00,  3.38it/s]\n",
            "Epoch 1842\n",
            "Train: 100%|██████████| 82/82 [00:20<00:00,  3.97it/s]\n",
            "Epoch 1843\n",
            "Train: 100%|██████████| 82/82 [00:24<00:00,  3.35it/s]\n",
            "Epoch 1844\n",
            "Train: 100%|██████████| 82/82 [00:20<00:00,  3.96it/s]\n",
            "Eval : 100%|██████████| 7/7 [00:02<00:00,  3.04it/s]\n",
            "Epoch 1845\n"
          ]
        },
        {
          "name": "stdout",
          "output_type": "stream",
          "text": [
            "Saving model...\n",
            "{'edit_distance': 108.13, '_num_chars': 125.089, '_num_pred_chars': 106.837, 'nsentences': 1.0, '_world_size': 0.007, '_lm_score_sum': 0.0, '_kaldi_score_sum': 0.0, '_word_lm_sum': 0.0, '_num_words': 0.0, '_vocab_seen': [0.007, 0.007, 0.007, 0.007, 0.007, 0.007, 0.007, 0.005, 0.007, 0.0, 0.007, 0.007, 0.007, 0.007, 0.007, 0.007, 0.0, 0.007, 0.007, 0.007, 0.007, 0.007, 0.007, 0.007, 0.0, 0.007, 0.007, 0.0, 0.007, 0.0, 0.007, 0.007, 0.0, 0.007, 0.007, 0.0, 0.0, 0.007, 0.007, 0.007, 0.007, 0.007, 0.0, 0.0, 0.007, 0.0, 0.0, 0.0, 0.0, 0.0, 0.007, 0.0, 0.0, 0.0, 0.0, 0.0, 0.0, 0.0, 0.0, 0.0]}\n"
          ]
        },
        {
          "name": "stderr",
          "output_type": "stream",
          "text": [
            "Train: 100%|██████████| 82/82 [00:23<00:00,  3.42it/s]\n",
            "Epoch 1846\n",
            "Train: 100%|██████████| 82/82 [00:20<00:00,  3.95it/s]\n",
            "Epoch 1847\n",
            "Train: 100%|██████████| 82/82 [00:24<00:00,  3.39it/s]\n",
            "Epoch 1848\n",
            "Train: 100%|██████████| 82/82 [00:20<00:00,  3.93it/s]\n",
            "Epoch 1849\n",
            "Train: 100%|██████████| 82/82 [00:24<00:00,  3.35it/s]\n",
            "Eval : 100%|██████████| 7/7 [00:02<00:00,  3.00it/s]\n",
            "Epoch 1850\n"
          ]
        },
        {
          "name": "stdout",
          "output_type": "stream",
          "text": [
            "Saving model...\n",
            "{'edit_distance': 112.627, '_num_chars': 125.089, '_num_pred_chars': 120.513, 'nsentences': 1.0, '_world_size': 0.007, '_lm_score_sum': 0.0, '_kaldi_score_sum': 0.0, '_word_lm_sum': 0.0, '_num_words': 0.0, '_vocab_seen': [0.007, 0.007, 0.007, 0.007, 0.007, 0.007, 0.0, 0.0, 0.007, 0.007, 0.007, 0.007, 0.007, 0.007, 0.0, 0.007, 0.007, 0.007, 0.007, 0.007, 0.007, 0.007, 0.007, 0.007, 0.0, 0.0, 0.006, 0.0, 0.007, 0.007, 0.007, 0.0, 0.007, 0.007, 0.007, 0.0, 0.007, 0.007, 0.007, 0.0, 0.007, 0.007, 0.0, 0.0, 0.007, 0.007, 0.0, 0.0, 0.0, 0.0, 0.007, 0.0, 0.0, 0.0, 0.0, 0.0, 0.0, 0.0, 0.0, 0.0]}\n"
          ]
        },
        {
          "name": "stderr",
          "output_type": "stream",
          "text": [
            "Train: 100%|██████████| 82/82 [00:21<00:00,  3.90it/s]\n",
            "Epoch 1851\n",
            "Train: 100%|██████████| 82/82 [00:24<00:00,  3.34it/s]\n",
            "Epoch 1852\n",
            "Train: 100%|██████████| 82/82 [00:20<00:00,  3.93it/s]\n",
            "Epoch 1853\n",
            "Train: 100%|██████████| 82/82 [00:24<00:00,  3.38it/s]\n",
            "Epoch 1854\n",
            "Train: 100%|██████████| 82/82 [00:20<00:00,  3.92it/s]\n",
            "Eval : 100%|██████████| 7/7 [00:02<00:00,  2.98it/s]\n",
            "Epoch 1855\n"
          ]
        },
        {
          "name": "stdout",
          "output_type": "stream",
          "text": [
            "Saving model...\n",
            "{'edit_distance': 112.991, '_num_chars': 125.089, '_num_pred_chars': 112.783, 'nsentences': 1.0, '_world_size': 0.007, '_lm_score_sum': 0.0, '_kaldi_score_sum': 0.0, '_word_lm_sum': 0.0, '_num_words': 0.0, '_vocab_seen': [0.007, 0.007, 0.007, 0.007, 0.007, 0.007, 0.007, 0.007, 0.007, 0.007, 0.007, 0.007, 0.007, 0.007, 0.0, 0.007, 0.007, 0.007, 0.007, 0.007, 0.007, 0.007, 0.007, 0.007, 0.0, 0.0, 0.007, 0.0, 0.007, 0.0, 0.007, 0.007, 0.007, 0.007, 0.007, 0.007, 0.007, 0.007, 0.007, 0.0, 0.0, 0.007, 0.0, 0.0, 0.007, 0.007, 0.0, 0.0, 0.0, 0.0, 0.007, 0.0, 0.0, 0.0, 0.0, 0.0, 0.0, 0.0, 0.0, 0.0]}\n"
          ]
        },
        {
          "name": "stderr",
          "output_type": "stream",
          "text": [
            "Train: 100%|██████████| 82/82 [00:24<00:00,  3.38it/s]\n",
            "Epoch 1856\n",
            "Train: 100%|██████████| 82/82 [00:20<00:00,  3.93it/s]\n",
            "Epoch 1857\n",
            "Train: 100%|██████████| 82/82 [00:24<00:00,  3.29it/s]\n",
            "Epoch 1858\n",
            "Train: 100%|██████████| 82/82 [00:20<00:00,  3.96it/s]\n",
            "Epoch 1859\n",
            "Train: 100%|██████████| 82/82 [00:24<00:00,  3.36it/s]\n",
            "Eval : 100%|██████████| 7/7 [00:02<00:00,  3.05it/s]\n",
            "Epoch 1860\n"
          ]
        },
        {
          "name": "stdout",
          "output_type": "stream",
          "text": [
            "Saving model...\n",
            "{'edit_distance': 110.965, '_num_chars': 125.089, '_num_pred_chars': 113.405, 'nsentences': 1.0, '_world_size': 0.007, '_lm_score_sum': 0.0, '_kaldi_score_sum': 0.0, '_word_lm_sum': 0.0, '_num_words': 0.0, '_vocab_seen': [0.007, 0.007, 0.007, 0.007, 0.007, 0.007, 0.0, 0.007, 0.007, 0.007, 0.007, 0.007, 0.007, 0.007, 0.0, 0.007, 0.007, 0.007, 0.007, 0.007, 0.007, 0.007, 0.007, 0.007, 0.0, 0.0, 0.007, 0.0, 0.007, 0.0, 0.0, 0.0, 0.0, 0.007, 0.007, 0.007, 0.007, 0.007, 0.007, 0.0, 0.0, 0.007, 0.007, 0.0, 0.007, 0.007, 0.0, 0.0, 0.0, 0.0, 0.002, 0.0, 0.0, 0.0, 0.0, 0.0, 0.0, 0.0, 0.0, 0.0]}\n"
          ]
        },
        {
          "name": "stderr",
          "output_type": "stream",
          "text": [
            "Train: 100%|██████████| 82/82 [00:20<00:00,  3.93it/s]\n",
            "Epoch 1861\n",
            "Train: 100%|██████████| 82/82 [00:24<00:00,  3.38it/s]\n",
            "Epoch 1862\n",
            "Train: 100%|██████████| 82/82 [00:20<00:00,  3.95it/s]\n",
            "Epoch 1863\n",
            "Train: 100%|██████████| 82/82 [00:24<00:00,  3.34it/s]\n",
            "Epoch 1864\n",
            "Train: 100%|██████████| 82/82 [00:21<00:00,  3.89it/s]\n",
            "Eval : 100%|██████████| 7/7 [00:02<00:00,  2.99it/s]\n",
            "Epoch 1865\n"
          ]
        },
        {
          "name": "stdout",
          "output_type": "stream",
          "text": [
            "Saving model...\n",
            "{'edit_distance': 117.138, '_num_chars': 125.089, '_num_pred_chars': 130.313, 'nsentences': 1.0, '_world_size': 0.007, '_lm_score_sum': 0.0, '_kaldi_score_sum': 0.0, '_word_lm_sum': 0.0, '_num_words': 0.0, '_vocab_seen': [0.007, 0.007, 0.007, 0.007, 0.0, 0.007, 0.0, 0.007, 0.007, 0.0, 0.007, 0.007, 0.007, 0.007, 0.0, 0.007, 0.007, 0.007, 0.007, 0.007, 0.007, 0.007, 0.007, 0.007, 0.007, 0.0, 0.007, 0.007, 0.007, 0.0, 0.0, 0.0, 0.007, 0.007, 0.007, 0.007, 0.0, 0.007, 0.007, 0.007, 0.0, 0.007, 0.007, 0.0, 0.007, 0.001, 0.0, 0.0, 0.007, 0.0, 0.007, 0.0, 0.0, 0.0, 0.0, 0.0, 0.0, 0.0, 0.0, 0.0]}\n"
          ]
        },
        {
          "name": "stderr",
          "output_type": "stream",
          "text": [
            "Train: 100%|██████████| 82/82 [00:24<00:00,  3.29it/s]\n",
            "Epoch 1866\n",
            "Train: 100%|██████████| 82/82 [00:20<00:00,  3.96it/s]\n",
            "Epoch 1867\n",
            "Train: 100%|██████████| 82/82 [00:24<00:00,  3.40it/s]\n",
            "Epoch 1868\n",
            "Train: 100%|██████████| 82/82 [00:20<00:00,  3.95it/s]\n",
            "Epoch 1869\n",
            "Train: 100%|██████████| 82/82 [00:24<00:00,  3.38it/s]\n",
            "Eval : 100%|██████████| 7/7 [00:02<00:00,  3.05it/s]\n",
            "Epoch 1870\n"
          ]
        },
        {
          "name": "stdout",
          "output_type": "stream",
          "text": [
            "Saving model...\n",
            "{'edit_distance': 111.081, '_num_chars': 125.089, '_num_pred_chars': 115.118, 'nsentences': 1.0, '_world_size': 0.007, '_lm_score_sum': 0.0, '_kaldi_score_sum': 0.0, '_word_lm_sum': 0.0, '_num_words': 0.0, '_vocab_seen': [0.007, 0.007, 0.007, 0.007, 0.007, 0.007, 0.007, 0.007, 0.007, 0.0, 0.007, 0.006, 0.007, 0.007, 0.0, 0.005, 0.007, 0.007, 0.0, 0.007, 0.007, 0.007, 0.007, 0.007, 0.0, 0.0, 0.007, 0.007, 0.007, 0.0, 0.007, 0.0, 0.0, 0.0, 0.007, 0.007, 0.0, 0.007, 0.007, 0.0, 0.0, 0.007, 0.007, 0.007, 0.007, 0.0, 0.0, 0.0, 0.007, 0.0, 0.0, 0.0, 0.0, 0.0, 0.0, 0.0, 0.0, 0.0, 0.0, 0.0]}\n"
          ]
        },
        {
          "name": "stderr",
          "output_type": "stream",
          "text": [
            "Train: 100%|██████████| 82/82 [00:21<00:00,  3.89it/s]\n",
            "Epoch 1871\n",
            "Train: 100%|██████████| 82/82 [00:24<00:00,  3.36it/s]\n",
            "Epoch 1872\n",
            "Train: 100%|██████████| 82/82 [00:20<00:00,  3.91it/s]\n",
            "Epoch 1873\n",
            "Train: 100%|██████████| 82/82 [00:24<00:00,  3.36it/s]\n",
            "Epoch 1874\n",
            "Train: 100%|██████████| 82/82 [00:20<00:00,  3.96it/s]\n",
            "Eval : 100%|██████████| 7/7 [00:02<00:00,  3.06it/s]\n",
            "Epoch 1875\n"
          ]
        },
        {
          "name": "stdout",
          "output_type": "stream",
          "text": [
            "Saving model...\n",
            "{'edit_distance': 109.908, '_num_chars': 125.089, '_num_pred_chars': 108.615, 'nsentences': 1.0, '_world_size': 0.007, '_lm_score_sum': 0.0, '_kaldi_score_sum': 0.0, '_word_lm_sum': 0.0, '_num_words': 0.0, '_vocab_seen': [0.004, 0.007, 0.007, 0.007, 0.007, 0.007, 0.0, 0.007, 0.007, 0.0, 0.007, 0.0, 0.007, 0.007, 0.0, 0.007, 0.007, 0.007, 0.0, 0.007, 0.007, 0.007, 0.007, 0.007, 0.0, 0.0, 0.006, 0.0, 0.007, 0.0, 0.007, 0.0, 0.0, 0.0, 0.007, 0.007, 0.007, 0.007, 0.007, 0.0, 0.007, 0.007, 0.007, 0.007, 0.007, 0.0, 0.0, 0.0, 0.007, 0.0, 0.0, 0.0, 0.0, 0.0, 0.0, 0.007, 0.0, 0.0, 0.0, 0.0]}\n"
          ]
        },
        {
          "name": "stderr",
          "output_type": "stream",
          "text": [
            "Train: 100%|██████████| 82/82 [00:23<00:00,  3.43it/s]\n",
            "Epoch 1876\n",
            "Train: 100%|██████████| 82/82 [00:20<00:00,  3.97it/s]\n",
            "Epoch 1877\n",
            "Train: 100%|██████████| 82/82 [00:24<00:00,  3.39it/s]\n",
            "Epoch 1878\n",
            "Train: 100%|██████████| 82/82 [00:20<00:00,  3.97it/s]\n",
            "Epoch 1879\n",
            "Train: 100%|██████████| 82/82 [00:23<00:00,  3.43it/s]\n",
            "Eval : 100%|██████████| 7/7 [00:02<00:00,  3.03it/s]\n",
            "Epoch 1880\n"
          ]
        },
        {
          "name": "stdout",
          "output_type": "stream",
          "text": [
            "Saving model...\n",
            "{'edit_distance': 110.803, '_num_chars': 125.089, '_num_pred_chars': 109.689, 'nsentences': 1.0, '_world_size': 0.007, '_lm_score_sum': 0.0, '_kaldi_score_sum': 0.0, '_word_lm_sum': 0.0, '_num_words': 0.0, '_vocab_seen': [0.007, 0.007, 0.007, 0.007, 0.007, 0.007, 0.0, 0.007, 0.007, 0.0, 0.007, 0.0, 0.007, 0.007, 0.007, 0.007, 0.007, 0.007, 0.007, 0.007, 0.007, 0.007, 0.007, 0.007, 0.0, 0.0, 0.007, 0.0, 0.007, 0.0, 0.006, 0.0, 0.0, 0.0, 0.007, 0.007, 0.007, 0.007, 0.007, 0.0, 0.0, 0.007, 0.007, 0.007, 0.007, 0.0, 0.0, 0.0, 0.007, 0.0, 0.0, 0.0, 0.0, 0.0, 0.0, 0.007, 0.0, 0.0, 0.0, 0.0]}\n"
          ]
        },
        {
          "name": "stderr",
          "output_type": "stream",
          "text": [
            "Train: 100%|██████████| 82/82 [00:20<00:00,  3.94it/s]\n",
            "Epoch 1881\n",
            "Train: 100%|██████████| 82/82 [00:24<00:00,  3.38it/s]\n",
            "Epoch 1882\n",
            "Train: 100%|██████████| 82/82 [00:20<00:00,  3.97it/s]\n",
            "Epoch 1883\n",
            "Train: 100%|██████████| 82/82 [00:24<00:00,  3.34it/s]\n",
            "Epoch 1884\n",
            "Train: 100%|██████████| 82/82 [00:20<00:00,  3.92it/s]\n",
            "Eval : 100%|██████████| 7/7 [00:02<00:00,  3.01it/s]\n",
            "Epoch 1885\n"
          ]
        },
        {
          "name": "stdout",
          "output_type": "stream",
          "text": [
            "Saving model...\n",
            "{'edit_distance': 114.283, '_num_chars': 125.089, '_num_pred_chars': 123.493, 'nsentences': 1.0, '_world_size': 0.007, '_lm_score_sum': 0.0, '_kaldi_score_sum': 0.0, '_word_lm_sum': 0.0, '_num_words': 0.0, '_vocab_seen': [0.007, 0.007, 0.007, 0.007, 0.007, 0.007, 0.005, 0.007, 0.007, 0.006, 0.007, 0.0, 0.007, 0.007, 0.0, 0.0, 0.007, 0.007, 0.007, 0.007, 0.007, 0.0, 0.007, 0.007, 0.0, 0.0, 0.007, 0.007, 0.007, 0.007, 0.007, 0.0, 0.007, 0.007, 0.007, 0.0, 0.007, 0.007, 0.007, 0.007, 0.007, 0.007, 0.0, 0.007, 0.007, 0.0, 0.007, 0.0, 0.007, 0.0, 0.0, 0.0, 0.0, 0.0, 0.0, 0.0, 0.0, 0.0, 0.0, 0.0]}\n"
          ]
        },
        {
          "name": "stderr",
          "output_type": "stream",
          "text": [
            "Train: 100%|██████████| 82/82 [00:24<00:00,  3.33it/s]\n",
            "Epoch 1886\n",
            "Train: 100%|██████████| 82/82 [00:20<00:00,  3.94it/s]\n",
            "Epoch 1887\n",
            "Train: 100%|██████████| 82/82 [00:24<00:00,  3.41it/s]\n",
            "Epoch 1888\n",
            "Train: 100%|██████████| 82/82 [00:20<00:00,  3.94it/s]\n",
            "Epoch 1889\n",
            "Train: 100%|██████████| 82/82 [00:24<00:00,  3.40it/s]\n",
            "Eval : 100%|██████████| 7/7 [00:02<00:00,  3.08it/s]\n",
            "Epoch 1890\n"
          ]
        },
        {
          "name": "stdout",
          "output_type": "stream",
          "text": [
            "Saving model...\n",
            "{'edit_distance': 110.678, '_num_chars': 125.089, '_num_pred_chars': 119.766, 'nsentences': 1.0, '_world_size': 0.007, '_lm_score_sum': 0.0, '_kaldi_score_sum': 0.0, '_word_lm_sum': 0.0, '_num_words': 0.0, '_vocab_seen': [0.007, 0.007, 0.007, 0.007, 0.007, 0.007, 0.0, 0.007, 0.007, 0.006, 0.007, 0.007, 0.007, 0.007, 0.0, 0.007, 0.007, 0.007, 0.007, 0.007, 0.007, 0.007, 0.007, 0.007, 0.0, 0.0, 0.007, 0.007, 0.007, 0.0, 0.007, 0.0, 0.007, 0.007, 0.007, 0.0, 0.007, 0.007, 0.007, 0.007, 0.007, 0.007, 0.0, 0.007, 0.007, 0.0, 0.007, 0.0, 0.0, 0.0, 0.0, 0.0, 0.0, 0.0, 0.0, 0.0, 0.0, 0.0, 0.0, 0.0]}\n"
          ]
        },
        {
          "name": "stderr",
          "output_type": "stream",
          "text": [
            "Train: 100%|██████████| 82/82 [00:20<00:00,  3.94it/s]\n",
            "Epoch 1891\n",
            "Train: 100%|██████████| 82/82 [00:24<00:00,  3.35it/s]\n",
            "Epoch 1892\n",
            "Train: 100%|██████████| 82/82 [00:20<00:00,  3.96it/s]\n",
            "Epoch 1893\n",
            "Train: 100%|██████████| 82/82 [00:24<00:00,  3.36it/s]\n",
            "Epoch 1894\n",
            "Train: 100%|██████████| 82/82 [00:20<00:00,  3.94it/s]\n",
            "Eval : 100%|██████████| 7/7 [00:02<00:00,  3.08it/s]\n",
            "Epoch 1895\n"
          ]
        },
        {
          "name": "stdout",
          "output_type": "stream",
          "text": [
            "Saving model...\n",
            "{'edit_distance': 114.987, '_num_chars': 125.089, '_num_pred_chars': 120.09, 'nsentences': 1.0, '_world_size': 0.007, '_lm_score_sum': 0.0, '_kaldi_score_sum': 0.0, '_word_lm_sum': 0.0, '_num_words': 0.0, '_vocab_seen': [0.007, 0.007, 0.007, 0.007, 0.007, 0.007, 0.004, 0.007, 0.007, 0.007, 0.007, 0.0, 0.007, 0.007, 0.007, 0.0, 0.007, 0.007, 0.007, 0.007, 0.007, 0.007, 0.007, 0.007, 0.007, 0.007, 0.007, 0.007, 0.007, 0.0, 0.007, 0.007, 0.0, 0.007, 0.007, 0.007, 0.0, 0.007, 0.007, 0.007, 0.0, 0.007, 0.0, 0.007, 0.007, 0.0, 0.007, 0.0, 0.007, 0.0, 0.0, 0.0, 0.0, 0.0, 0.0, 0.0, 0.0, 0.0, 0.0, 0.0]}\n"
          ]
        },
        {
          "name": "stderr",
          "output_type": "stream",
          "text": [
            "Train: 100%|██████████| 82/82 [00:24<00:00,  3.34it/s]\n",
            "Epoch 1896\n",
            "Train: 100%|██████████| 82/82 [00:20<00:00,  3.96it/s]\n",
            "Epoch 1897\n",
            "Train: 100%|██████████| 82/82 [00:24<00:00,  3.36it/s]\n",
            "Epoch 1898\n",
            "Train: 100%|██████████| 82/82 [00:20<00:00,  3.95it/s]\n",
            "Epoch 1899\n",
            "Train: 100%|██████████| 82/82 [00:24<00:00,  3.37it/s]\n",
            "Eval : 100%|██████████| 7/7 [00:02<00:00,  3.01it/s]\n",
            "Epoch 1900\n"
          ]
        },
        {
          "name": "stdout",
          "output_type": "stream",
          "text": [
            "Saving model...\n",
            "{'edit_distance': 113.468, '_num_chars': 125.089, '_num_pred_chars': 116.833, 'nsentences': 1.0, '_world_size': 0.007, '_lm_score_sum': 0.0, '_kaldi_score_sum': 0.0, '_word_lm_sum': 0.0, '_num_words': 0.0, '_vocab_seen': [0.007, 0.007, 0.007, 0.007, 0.007, 0.007, 0.0, 0.0, 0.007, 0.007, 0.007, 0.0, 0.007, 0.007, 0.0, 0.0, 0.007, 0.007, 0.007, 0.007, 0.007, 0.007, 0.007, 0.007, 0.007, 0.007, 0.007, 0.007, 0.007, 0.007, 0.007, 0.0, 0.0, 0.007, 0.007, 0.007, 0.0, 0.007, 0.007, 0.001, 0.0, 0.007, 0.0, 0.007, 0.007, 0.0, 0.007, 0.0, 0.0, 0.0, 0.0, 0.0, 0.0, 0.0, 0.0, 0.0, 0.0, 0.0, 0.0, 0.0]}\n"
          ]
        },
        {
          "name": "stderr",
          "output_type": "stream",
          "text": [
            "Train: 100%|██████████| 82/82 [00:20<00:00,  3.95it/s]\n",
            "Epoch 1901\n",
            "Train: 100%|██████████| 82/82 [00:24<00:00,  3.39it/s]\n",
            "Epoch 1902\n",
            "Train: 100%|██████████| 82/82 [00:20<00:00,  3.98it/s]\n",
            "Epoch 1903\n",
            "Train: 100%|██████████| 82/82 [00:23<00:00,  3.46it/s]\n",
            "Epoch 1904\n",
            "Train: 100%|██████████| 82/82 [00:20<00:00,  3.95it/s]\n",
            "Eval : 100%|██████████| 7/7 [00:02<00:00,  3.03it/s]\n",
            "Epoch 1905\n"
          ]
        },
        {
          "name": "stdout",
          "output_type": "stream",
          "text": [
            "Saving model...\n",
            "{'edit_distance': 110.496, '_num_chars': 125.089, '_num_pred_chars': 115.663, 'nsentences': 1.0, '_world_size': 0.007, '_lm_score_sum': 0.0, '_kaldi_score_sum': 0.0, '_word_lm_sum': 0.0, '_num_words': 0.0, '_vocab_seen': [0.007, 0.007, 0.007, 0.007, 0.007, 0.007, 0.007, 0.007, 0.007, 0.007, 0.007, 0.007, 0.007, 0.007, 0.0, 0.007, 0.0, 0.007, 0.007, 0.007, 0.007, 0.007, 0.007, 0.007, 0.0, 0.007, 0.007, 0.0, 0.007, 0.0, 0.007, 0.0, 0.0, 0.007, 0.007, 0.007, 0.006, 0.007, 0.007, 0.0, 0.0, 0.007, 0.007, 0.007, 0.007, 0.0, 0.0, 0.007, 0.0, 0.0, 0.0, 0.0, 0.0, 0.0, 0.0, 0.0, 0.0, 0.0, 0.0, 0.0]}\n"
          ]
        },
        {
          "name": "stderr",
          "output_type": "stream",
          "text": [
            "Train: 100%|██████████| 82/82 [00:24<00:00,  3.38it/s]\n",
            "Epoch 1906\n",
            "Train: 100%|██████████| 82/82 [00:20<00:00,  3.95it/s]\n",
            "Epoch 1907\n",
            "Train: 100%|██████████| 82/82 [00:24<00:00,  3.40it/s]\n",
            "Epoch 1908\n",
            "Train: 100%|██████████| 82/82 [00:20<00:00,  3.95it/s]\n",
            "Epoch 1909\n",
            "Train: 100%|██████████| 82/82 [00:24<00:00,  3.38it/s]\n",
            "Eval : 100%|██████████| 7/7 [00:02<00:00,  3.06it/s]\n",
            "Epoch 1910\n"
          ]
        },
        {
          "name": "stdout",
          "output_type": "stream",
          "text": [
            "Saving model...\n",
            "{'edit_distance': 111.952, '_num_chars': 125.089, '_num_pred_chars': 118.608, 'nsentences': 1.0, '_world_size': 0.007, '_lm_score_sum': 0.0, '_kaldi_score_sum': 0.0, '_word_lm_sum': 0.0, '_num_words': 0.0, '_vocab_seen': [0.007, 0.007, 0.007, 0.007, 0.007, 0.007, 0.002, 0.007, 0.007, 0.007, 0.007, 0.007, 0.007, 0.007, 0.0, 0.007, 0.007, 0.007, 0.007, 0.007, 0.007, 0.007, 0.007, 0.007, 0.0, 0.0, 0.007, 0.007, 0.007, 0.0, 0.007, 0.0, 0.0, 0.007, 0.007, 0.0, 0.007, 0.006, 0.007, 0.0, 0.0, 0.007, 0.007, 0.007, 0.007, 0.0, 0.0, 0.007, 0.0, 0.0, 0.0, 0.0, 0.0, 0.0, 0.0, 0.0, 0.0, 0.0, 0.0, 0.0]}\n"
          ]
        },
        {
          "name": "stderr",
          "output_type": "stream",
          "text": [
            "Train: 100%|██████████| 82/82 [00:20<00:00,  3.91it/s]\n",
            "Epoch 1911\n",
            "Train: 100%|██████████| 82/82 [00:24<00:00,  3.34it/s]\n",
            "Epoch 1912\n",
            "Train: 100%|██████████| 82/82 [00:20<00:00,  3.97it/s]\n",
            "Epoch 1913\n",
            "Train: 100%|██████████| 82/82 [00:24<00:00,  3.40it/s]\n",
            "Epoch 1914\n",
            "Train: 100%|██████████| 82/82 [00:20<00:00,  3.99it/s]\n",
            "Eval : 100%|██████████| 7/7 [00:02<00:00,  3.03it/s]\n",
            "Epoch 1915\n"
          ]
        },
        {
          "name": "stdout",
          "output_type": "stream",
          "text": [
            "Saving model...\n",
            "{'edit_distance': 110.198, '_num_chars': 125.089, '_num_pred_chars': 109.723, 'nsentences': 1.0, '_world_size': 0.007, '_lm_score_sum': 0.0, '_kaldi_score_sum': 0.0, '_word_lm_sum': 0.0, '_num_words': 0.0, '_vocab_seen': [0.007, 0.007, 0.007, 0.007, 0.007, 0.007, 0.0, 0.007, 0.007, 0.007, 0.007, 0.0, 0.007, 0.007, 0.0, 0.007, 0.007, 0.007, 0.007, 0.007, 0.007, 0.007, 0.007, 0.007, 0.0, 0.0, 0.007, 0.0, 0.007, 0.0, 0.007, 0.007, 0.007, 0.007, 0.007, 0.0, 0.007, 0.007, 0.007, 0.0, 0.007, 0.007, 0.0, 0.007, 0.007, 0.0, 0.0, 0.0, 0.0, 0.0, 0.0, 0.0, 0.0, 0.0, 0.0, 0.0, 0.0, 0.0, 0.0, 0.0]}\n"
          ]
        },
        {
          "name": "stderr",
          "output_type": "stream",
          "text": [
            "Train: 100%|██████████| 82/82 [00:23<00:00,  3.42it/s]\n",
            "Epoch 1916\n",
            "Train: 100%|██████████| 82/82 [00:20<00:00,  3.99it/s]\n",
            "Epoch 1917\n",
            "Train: 100%|██████████| 82/82 [00:24<00:00,  3.37it/s]\n",
            "Epoch 1918\n",
            "Train: 100%|██████████| 82/82 [00:20<00:00,  3.99it/s]\n",
            "Epoch 1919\n",
            "Train: 100%|██████████| 82/82 [00:24<00:00,  3.35it/s]\n",
            "Eval : 100%|██████████| 7/7 [00:02<00:00,  2.95it/s]\n",
            "Epoch 1920\n"
          ]
        },
        {
          "name": "stdout",
          "output_type": "stream",
          "text": [
            "Saving model...\n",
            "{'edit_distance': 112.075, '_num_chars': 125.089, '_num_pred_chars': 117.119, 'nsentences': 1.0, '_world_size': 0.007, '_lm_score_sum': 0.0, '_kaldi_score_sum': 0.0, '_word_lm_sum': 0.0, '_num_words': 0.0, '_vocab_seen': [0.007, 0.007, 0.007, 0.007, 0.007, 0.007, 0.0, 0.007, 0.007, 0.007, 0.007, 0.007, 0.007, 0.007, 0.0, 0.007, 0.007, 0.007, 0.007, 0.007, 0.0, 0.007, 0.007, 0.001, 0.0, 0.0, 0.007, 0.0, 0.007, 0.0, 0.007, 0.007, 0.007, 0.007, 0.007, 0.0, 0.007, 0.007, 0.007, 0.0, 0.007, 0.007, 0.0, 0.007, 0.007, 0.007, 0.0, 0.0, 0.0, 0.0, 0.0, 0.0, 0.0, 0.0, 0.0, 0.0, 0.0, 0.0, 0.0, 0.0]}\n"
          ]
        },
        {
          "name": "stderr",
          "output_type": "stream",
          "text": [
            "Train: 100%|██████████| 82/82 [00:20<00:00,  3.96it/s]\n",
            "Epoch 1921\n",
            "Train: 100%|██████████| 82/82 [00:24<00:00,  3.39it/s]\n",
            "Epoch 1922\n",
            "Train: 100%|██████████| 82/82 [00:20<00:00,  3.96it/s]\n",
            "Epoch 1923\n",
            "Train: 100%|██████████| 82/82 [00:24<00:00,  3.37it/s]\n",
            "Epoch 1924\n",
            "Train: 100%|██████████| 82/82 [00:20<00:00,  3.95it/s]\n",
            "Eval : 100%|██████████| 7/7 [00:02<00:00,  3.02it/s]\n",
            "Epoch 1925\n"
          ]
        },
        {
          "name": "stdout",
          "output_type": "stream",
          "text": [
            "Saving model...\n",
            "{'edit_distance': 110.231, '_num_chars': 125.089, '_num_pred_chars': 113.757, 'nsentences': 1.0, '_world_size': 0.007, '_lm_score_sum': 0.0, '_kaldi_score_sum': 0.0, '_word_lm_sum': 0.0, '_num_words': 0.0, '_vocab_seen': [0.007, 0.007, 0.007, 0.007, 0.0, 0.007, 0.0, 0.007, 0.007, 0.007, 0.007, 0.0, 0.007, 0.007, 0.007, 0.007, 0.007, 0.007, 0.007, 0.007, 0.007, 0.007, 0.007, 0.0, 0.0, 0.0, 0.0, 0.0, 0.007, 0.0, 0.007, 0.007, 0.007, 0.007, 0.007, 0.007, 0.007, 0.007, 0.007, 0.0, 0.007, 0.007, 0.0, 0.007, 0.007, 0.007, 0.007, 0.0, 0.0, 0.0, 0.0, 0.0, 0.0, 0.0, 0.0, 0.0, 0.0, 0.0, 0.0, 0.0]}\n"
          ]
        },
        {
          "name": "stderr",
          "output_type": "stream",
          "text": [
            "Train: 100%|██████████| 82/82 [00:24<00:00,  3.40it/s]\n",
            "Epoch 1926\n",
            "Train: 100%|██████████| 82/82 [00:20<00:00,  3.97it/s]\n",
            "Epoch 1927\n",
            "Train: 100%|██████████| 82/82 [00:23<00:00,  3.43it/s]\n",
            "Epoch 1928\n",
            "Train: 100%|██████████| 82/82 [00:20<00:00,  3.98it/s]\n",
            "Epoch 1929\n",
            "Train: 100%|██████████| 82/82 [00:24<00:00,  3.39it/s]\n",
            "Eval : 100%|██████████| 7/7 [00:02<00:00,  3.09it/s]\n",
            "Epoch 1930\n"
          ]
        },
        {
          "name": "stdout",
          "output_type": "stream",
          "text": [
            "Saving model...\n",
            "{'edit_distance': 109.334, '_num_chars': 125.089, '_num_pred_chars': 113.26, 'nsentences': 1.0, '_world_size': 0.007, '_lm_score_sum': 0.0, '_kaldi_score_sum': 0.0, '_word_lm_sum': 0.0, '_num_words': 0.0, '_vocab_seen': [0.007, 0.007, 0.007, 0.007, 0.007, 0.007, 0.0, 0.007, 0.007, 0.007, 0.007, 0.005, 0.007, 0.007, 0.004, 0.007, 0.007, 0.007, 0.007, 0.007, 0.007, 0.007, 0.007, 0.007, 0.007, 0.0, 0.0, 0.0, 0.007, 0.0, 0.007, 0.007, 0.007, 0.007, 0.007, 0.007, 0.007, 0.007, 0.007, 0.0, 0.007, 0.007, 0.0, 0.007, 0.007, 0.007, 0.0, 0.0, 0.0, 0.0, 0.0, 0.0, 0.0, 0.0, 0.0, 0.0, 0.0, 0.0, 0.0, 0.0]}\n"
          ]
        },
        {
          "name": "stderr",
          "output_type": "stream",
          "text": [
            "Train: 100%|██████████| 82/82 [00:20<00:00,  3.95it/s]\n",
            "Epoch 1931\n",
            "Train: 100%|██████████| 82/82 [00:23<00:00,  3.42it/s]\n",
            "Epoch 1932\n",
            "Train: 100%|██████████| 82/82 [00:20<00:00,  3.94it/s]\n",
            "Epoch 1933\n",
            "Train: 100%|██████████| 82/82 [00:24<00:00,  3.38it/s]\n",
            "Epoch 1934\n",
            "Train: 100%|██████████| 82/82 [00:20<00:00,  3.97it/s]\n",
            "Eval : 100%|██████████| 7/7 [00:02<00:00,  3.06it/s]\n",
            "Epoch 1935\n"
          ]
        },
        {
          "name": "stdout",
          "output_type": "stream",
          "text": [
            "Saving model...\n",
            "{'edit_distance': 110.435, '_num_chars': 125.089, '_num_pred_chars': 110.281, 'nsentences': 1.0, '_world_size': 0.007, '_lm_score_sum': 0.0, '_kaldi_score_sum': 0.0, '_word_lm_sum': 0.0, '_num_words': 0.0, '_vocab_seen': [0.007, 0.007, 0.007, 0.007, 0.007, 0.007, 0.007, 0.0, 0.007, 0.007, 0.007, 0.0, 0.007, 0.007, 0.0, 0.007, 0.007, 0.007, 0.007, 0.007, 0.007, 0.007, 0.007, 0.0, 0.0, 0.007, 0.007, 0.007, 0.007, 0.0, 0.007, 0.0, 0.0, 0.007, 0.007, 0.0, 0.007, 0.007, 0.007, 0.0, 0.0, 0.0, 0.0, 0.007, 0.007, 0.007, 0.0, 0.0, 0.0, 0.0, 0.007, 0.0, 0.0, 0.0, 0.0, 0.0, 0.0, 0.0, 0.0, 0.0]}\n"
          ]
        },
        {
          "name": "stderr",
          "output_type": "stream",
          "text": [
            "Train: 100%|██████████| 82/82 [00:23<00:00,  3.42it/s]\n",
            "Epoch 1936\n",
            "Train: 100%|██████████| 82/82 [00:20<00:00,  3.97it/s]\n",
            "Epoch 1937\n",
            "Train: 100%|██████████| 82/82 [00:24<00:00,  3.39it/s]\n",
            "Epoch 1938\n",
            "Train: 100%|██████████| 82/82 [00:20<00:00,  3.93it/s]\n",
            "Epoch 1939\n",
            "Train: 100%|██████████| 82/82 [00:24<00:00,  3.37it/s]\n",
            "Eval : 100%|██████████| 7/7 [00:02<00:00,  3.02it/s]\n",
            "Epoch 1940\n"
          ]
        },
        {
          "name": "stdout",
          "output_type": "stream",
          "text": [
            "Saving model...\n",
            "{'edit_distance': 112.425, '_num_chars': 125.089, '_num_pred_chars': 115.922, 'nsentences': 1.0, '_world_size': 0.007, '_lm_score_sum': 0.0, '_kaldi_score_sum': 0.0, '_word_lm_sum': 0.0, '_num_words': 0.0, '_vocab_seen': [0.007, 0.007, 0.007, 0.007, 0.007, 0.007, 0.0, 0.007, 0.007, 0.007, 0.007, 0.007, 0.007, 0.007, 0.007, 0.007, 0.007, 0.007, 0.007, 0.007, 0.007, 0.007, 0.007, 0.007, 0.0, 0.007, 0.007, 0.007, 0.007, 0.0, 0.007, 0.0, 0.0, 0.007, 0.007, 0.0, 0.007, 0.007, 0.007, 0.0, 0.007, 0.007, 0.0, 0.007, 0.007, 0.007, 0.0, 0.0, 0.0, 0.0, 0.0, 0.0, 0.0, 0.0, 0.0, 0.0, 0.0, 0.0, 0.0, 0.0]}\n"
          ]
        },
        {
          "name": "stderr",
          "output_type": "stream",
          "text": [
            "Train: 100%|██████████| 82/82 [00:20<00:00,  3.94it/s]\n",
            "Epoch 1941\n",
            "Train: 100%|██████████| 82/82 [00:24<00:00,  3.38it/s]\n",
            "Epoch 1942\n",
            "Train: 100%|██████████| 82/82 [00:20<00:00,  3.95it/s]\n",
            "Epoch 1943\n",
            "Train: 100%|██████████| 82/82 [00:24<00:00,  3.40it/s]\n",
            "Epoch 1944\n",
            "Train: 100%|██████████| 82/82 [00:20<00:00,  3.94it/s]\n",
            "Eval : 100%|██████████| 7/7 [00:02<00:00,  3.01it/s]\n",
            "Epoch 1945\n"
          ]
        },
        {
          "name": "stdout",
          "output_type": "stream",
          "text": [
            "Saving model...\n",
            "{'edit_distance': 110.322, '_num_chars': 125.089, '_num_pred_chars': 117.334, 'nsentences': 1.0, '_world_size': 0.007, '_lm_score_sum': 0.0, '_kaldi_score_sum': 0.0, '_word_lm_sum': 0.0, '_num_words': 0.0, '_vocab_seen': [0.007, 0.007, 0.007, 0.007, 0.001, 0.007, 0.007, 0.0, 0.007, 0.007, 0.007, 0.007, 0.007, 0.007, 0.0, 0.007, 0.0, 0.007, 0.007, 0.007, 0.007, 0.007, 0.007, 0.007, 0.0, 0.0, 0.007, 0.007, 0.007, 0.0, 0.007, 0.007, 0.0, 0.007, 0.007, 0.0, 0.007, 0.007, 0.007, 0.0, 0.007, 0.0, 0.007, 0.0, 0.007, 0.0, 0.0, 0.0, 0.0, 0.0, 0.0, 0.0, 0.0, 0.0, 0.0, 0.0, 0.0, 0.0, 0.0, 0.0]}\n"
          ]
        },
        {
          "name": "stderr",
          "output_type": "stream",
          "text": [
            "Train: 100%|██████████| 82/82 [00:24<00:00,  3.38it/s]\n",
            "Epoch 1946\n",
            "Train: 100%|██████████| 82/82 [00:20<00:00,  3.94it/s]\n",
            "Epoch 1947\n",
            "Train: 100%|██████████| 82/82 [00:23<00:00,  3.42it/s]\n",
            "Epoch 1948\n",
            "Train: 100%|██████████| 82/82 [00:20<00:00,  3.95it/s]\n",
            "Epoch 1949\n",
            "Train: 100%|██████████| 82/82 [00:24<00:00,  3.39it/s]\n",
            "Eval : 100%|██████████| 7/7 [00:02<00:00,  3.13it/s]\n",
            "Epoch 1950\n"
          ]
        },
        {
          "name": "stdout",
          "output_type": "stream",
          "text": [
            "Saving model...\n",
            "{'edit_distance': 109.215, '_num_chars': 125.089, '_num_pred_chars': 113.984, 'nsentences': 1.0, '_world_size': 0.007, '_lm_score_sum': 0.0, '_kaldi_score_sum': 0.0, '_word_lm_sum': 0.0, '_num_words': 0.0, '_vocab_seen': [0.007, 0.007, 0.007, 0.007, 0.007, 0.007, 0.005, 0.007, 0.007, 0.006, 0.007, 0.007, 0.007, 0.007, 0.0, 0.007, 0.007, 0.007, 0.0, 0.007, 0.0, 0.007, 0.007, 0.007, 0.007, 0.0, 0.007, 0.007, 0.007, 0.0, 0.007, 0.007, 0.007, 0.007, 0.007, 0.0, 0.0, 0.007, 0.007, 0.0, 0.007, 0.007, 0.007, 0.0, 0.007, 0.0, 0.0, 0.0, 0.0, 0.0, 0.0, 0.0, 0.0, 0.0, 0.0, 0.0, 0.0, 0.0, 0.0, 0.0]}\n"
          ]
        },
        {
          "name": "stderr",
          "output_type": "stream",
          "text": [
            "Train: 100%|██████████| 82/82 [00:21<00:00,  3.87it/s]\n",
            "Epoch 1951\n",
            "Train: 100%|██████████| 82/82 [00:25<00:00,  3.26it/s]\n",
            "Epoch 1952\n",
            "Train: 100%|██████████| 82/82 [00:20<00:00,  3.94it/s]\n",
            "Epoch 1953\n",
            "Train: 100%|██████████| 82/82 [00:24<00:00,  3.34it/s]\n",
            "Epoch 1954\n",
            "Train: 100%|██████████| 82/82 [00:20<00:00,  3.96it/s]\n",
            "Eval : 100%|██████████| 7/7 [00:02<00:00,  3.03it/s]\n",
            "Epoch 1955\n"
          ]
        },
        {
          "name": "stdout",
          "output_type": "stream",
          "text": [
            "Saving model...\n",
            "{'edit_distance': 112.827, '_num_chars': 125.089, '_num_pred_chars': 113.611, 'nsentences': 1.0, '_world_size': 0.007, '_lm_score_sum': 0.0, '_kaldi_score_sum': 0.0, '_word_lm_sum': 0.0, '_num_words': 0.0, '_vocab_seen': [0.007, 0.007, 0.007, 0.007, 0.007, 0.007, 0.007, 0.0, 0.007, 0.007, 0.007, 0.007, 0.007, 0.007, 0.0, 0.007, 0.007, 0.007, 0.007, 0.007, 0.007, 0.007, 0.007, 0.007, 0.0, 0.0, 0.007, 0.0, 0.007, 0.007, 0.007, 0.007, 0.007, 0.007, 0.007, 0.0, 0.0, 0.007, 0.007, 0.007, 0.007, 0.007, 0.007, 0.0, 0.007, 0.0, 0.007, 0.0, 0.0, 0.0, 0.0, 0.0, 0.0, 0.0, 0.0, 0.0, 0.0, 0.0, 0.0, 0.0]}\n"
          ]
        },
        {
          "name": "stderr",
          "output_type": "stream",
          "text": [
            "Train: 100%|██████████| 82/82 [00:24<00:00,  3.39it/s]\n",
            "Epoch 1956\n",
            "Train: 100%|██████████| 82/82 [00:20<00:00,  3.93it/s]\n",
            "Epoch 1957\n",
            "Train: 100%|██████████| 82/82 [00:24<00:00,  3.40it/s]\n",
            "Epoch 1958\n",
            "Train: 100%|██████████| 82/82 [00:20<00:00,  3.96it/s]\n",
            "Epoch 1959\n",
            "Train: 100%|██████████| 82/82 [00:24<00:00,  3.37it/s]\n",
            "Eval : 100%|██████████| 7/7 [00:02<00:00,  3.06it/s]\n",
            "Epoch 1960\n"
          ]
        },
        {
          "name": "stdout",
          "output_type": "stream",
          "text": [
            "Saving model...\n",
            "{'edit_distance': 114.163, '_num_chars': 125.089, '_num_pred_chars': 119.974, 'nsentences': 1.0, '_world_size': 0.007, '_lm_score_sum': 0.0, '_kaldi_score_sum': 0.0, '_word_lm_sum': 0.0, '_num_words': 0.0, '_vocab_seen': [0.007, 0.007, 0.007, 0.007, 0.007, 0.007, 0.007, 0.007, 0.007, 0.007, 0.007, 0.007, 0.007, 0.007, 0.0, 0.007, 0.007, 0.007, 0.007, 0.007, 0.007, 0.007, 0.007, 0.007, 0.0, 0.007, 0.007, 0.007, 0.007, 0.0, 0.007, 0.007, 0.0, 0.007, 0.007, 0.0, 0.007, 0.005, 0.007, 0.007, 0.0, 0.007, 0.007, 0.0, 0.007, 0.0, 0.007, 0.0, 0.0, 0.0, 0.007, 0.0, 0.0, 0.0, 0.0, 0.0, 0.0, 0.0, 0.0, 0.0]}\n"
          ]
        },
        {
          "name": "stderr",
          "output_type": "stream",
          "text": [
            "Train: 100%|██████████| 82/82 [00:20<00:00,  3.93it/s]\n",
            "Epoch 1961\n",
            "Train: 100%|██████████| 82/82 [00:24<00:00,  3.36it/s]\n",
            "Epoch 1962\n",
            "Train: 100%|██████████| 82/82 [00:20<00:00,  3.95it/s]\n",
            "Epoch 1963\n",
            "Train: 100%|██████████| 82/82 [00:24<00:00,  3.39it/s]\n",
            "Epoch 1964\n",
            "Train: 100%|██████████| 82/82 [00:20<00:00,  3.93it/s]\n",
            "Eval : 100%|██████████| 7/7 [00:02<00:00,  3.08it/s]\n",
            "Epoch 1965\n"
          ]
        },
        {
          "name": "stdout",
          "output_type": "stream",
          "text": [
            "Saving model...\n",
            "{'edit_distance': 113.506, '_num_chars': 125.089, '_num_pred_chars': 120.55, 'nsentences': 1.0, '_world_size': 0.007, '_lm_score_sum': 0.0, '_kaldi_score_sum': 0.0, '_word_lm_sum': 0.0, '_num_words': 0.0, '_vocab_seen': [0.007, 0.007, 0.007, 0.007, 0.007, 0.007, 0.007, 0.0, 0.007, 0.007, 0.007, 0.007, 0.007, 0.007, 0.0, 0.007, 0.006, 0.007, 0.007, 0.007, 0.007, 0.007, 0.007, 0.007, 0.0, 0.0, 0.007, 0.007, 0.007, 0.007, 0.007, 0.006, 0.007, 0.007, 0.007, 0.0, 0.007, 0.007, 0.007, 0.007, 0.007, 0.007, 0.007, 0.0, 0.007, 0.0, 0.007, 0.0, 0.0, 0.0, 0.0, 0.0, 0.0, 0.0, 0.0, 0.0, 0.0, 0.0, 0.0, 0.0]}\n"
          ]
        },
        {
          "name": "stderr",
          "output_type": "stream",
          "text": [
            "Train: 100%|██████████| 82/82 [00:24<00:00,  3.32it/s]\n",
            "Epoch 1966\n",
            "Train: 100%|██████████| 82/82 [00:21<00:00,  3.90it/s]\n",
            "Epoch 1967\n",
            "Train: 100%|██████████| 82/82 [00:24<00:00,  3.38it/s]\n",
            "Epoch 1968\n",
            "Train: 100%|██████████| 82/82 [00:20<00:00,  3.96it/s]\n",
            "Epoch 1969\n",
            "Train: 100%|██████████| 82/82 [00:24<00:00,  3.41it/s]\n",
            "Eval : 100%|██████████| 7/7 [00:02<00:00,  3.04it/s]\n",
            "Epoch 1970\n"
          ]
        },
        {
          "name": "stdout",
          "output_type": "stream",
          "text": [
            "Saving model...\n",
            "{'edit_distance': 110.062, '_num_chars': 125.089, '_num_pred_chars': 113.834, 'nsentences': 1.0, '_world_size': 0.007, '_lm_score_sum': 0.0, '_kaldi_score_sum': 0.0, '_word_lm_sum': 0.0, '_num_words': 0.0, '_vocab_seen': [0.007, 0.007, 0.007, 0.007, 0.007, 0.007, 0.0, 0.007, 0.007, 0.007, 0.007, 0.007, 0.007, 0.007, 0.0, 0.007, 0.0, 0.007, 0.007, 0.007, 0.007, 0.007, 0.007, 0.0, 0.007, 0.0, 0.007, 0.007, 0.007, 0.0, 0.007, 0.0, 0.007, 0.007, 0.007, 0.007, 0.007, 0.007, 0.007, 0.005, 0.0, 0.007, 0.007, 0.0, 0.007, 0.0, 0.007, 0.0, 0.002, 0.0, 0.0, 0.0, 0.0, 0.0, 0.0, 0.0, 0.0, 0.0, 0.0, 0.0]}\n"
          ]
        },
        {
          "name": "stderr",
          "output_type": "stream",
          "text": [
            "Train: 100%|██████████| 82/82 [00:20<00:00,  3.96it/s]\n",
            "Epoch 1971\n",
            "Train: 100%|██████████| 82/82 [00:24<00:00,  3.35it/s]\n",
            "Epoch 1972\n",
            "Train: 100%|██████████| 82/82 [00:20<00:00,  3.97it/s]\n",
            "Epoch 1973\n",
            "Train: 100%|██████████| 82/82 [00:23<00:00,  3.48it/s]\n",
            "Epoch 1974\n",
            "Train: 100%|██████████| 82/82 [00:20<00:00,  3.95it/s]\n",
            "Eval : 100%|██████████| 7/7 [00:02<00:00,  3.04it/s]\n",
            "Epoch 1975\n"
          ]
        },
        {
          "name": "stdout",
          "output_type": "stream",
          "text": [
            "Saving model...\n",
            "{'edit_distance': 110.819, '_num_chars': 125.089, '_num_pred_chars': 118.432, 'nsentences': 1.0, '_world_size': 0.007, '_lm_score_sum': 0.0, '_kaldi_score_sum': 0.0, '_word_lm_sum': 0.0, '_num_words': 0.0, '_vocab_seen': [0.007, 0.007, 0.007, 0.007, 0.007, 0.007, 0.007, 0.0, 0.007, 0.007, 0.007, 0.007, 0.007, 0.007, 0.0, 0.007, 0.002, 0.007, 0.007, 0.007, 0.007, 0.007, 0.007, 0.0, 0.007, 0.0, 0.007, 0.007, 0.007, 0.0, 0.007, 0.0, 0.0, 0.007, 0.007, 0.0, 0.0, 0.007, 0.007, 0.0, 0.0, 0.0, 0.007, 0.0, 0.007, 0.007, 0.0, 0.0, 0.0, 0.0, 0.0, 0.0, 0.0, 0.0, 0.0, 0.0, 0.0, 0.0, 0.0, 0.0]}\n"
          ]
        },
        {
          "name": "stderr",
          "output_type": "stream",
          "text": [
            "Train: 100%|██████████| 82/82 [00:24<00:00,  3.36it/s]\n",
            "Epoch 1976\n",
            "Train: 100%|██████████| 82/82 [00:20<00:00,  3.98it/s]\n",
            "Epoch 1977\n",
            "Train: 100%|██████████| 82/82 [00:23<00:00,  3.43it/s]\n",
            "Epoch 1978\n",
            "Train: 100%|██████████| 82/82 [00:20<00:00,  3.95it/s]\n",
            "Epoch 1979\n",
            "Train: 100%|██████████| 82/82 [00:24<00:00,  3.40it/s]\n",
            "Eval : 100%|██████████| 7/7 [00:02<00:00,  3.02it/s]\n",
            "Epoch 1980\n"
          ]
        },
        {
          "name": "stdout",
          "output_type": "stream",
          "text": [
            "Saving model...\n",
            "{'edit_distance': 110.749, '_num_chars': 125.089, '_num_pred_chars': 111.156, 'nsentences': 1.0, '_world_size': 0.007, '_lm_score_sum': 0.0, '_kaldi_score_sum': 0.0, '_word_lm_sum': 0.0, '_num_words': 0.0, '_vocab_seen': [0.007, 0.007, 0.007, 0.007, 0.007, 0.007, 0.0, 0.0, 0.007, 0.007, 0.007, 0.007, 0.007, 0.007, 0.0, 0.007, 0.0, 0.007, 0.007, 0.007, 0.007, 0.007, 0.007, 0.007, 0.0, 0.0, 0.007, 0.007, 0.007, 0.0, 0.007, 0.0, 0.0, 0.007, 0.007, 0.0, 0.0, 0.007, 0.007, 0.0, 0.0, 0.0, 0.007, 0.007, 0.007, 0.007, 0.0, 0.0, 0.0, 0.0, 0.0, 0.0, 0.0, 0.0, 0.0, 0.0, 0.0, 0.0, 0.0, 0.0]}\n"
          ]
        },
        {
          "name": "stderr",
          "output_type": "stream",
          "text": [
            "Train: 100%|██████████| 82/82 [00:20<00:00,  3.98it/s]\n",
            "Epoch 1981\n",
            "Train: 100%|██████████| 82/82 [00:24<00:00,  3.40it/s]\n",
            "Epoch 1982\n",
            "Train: 100%|██████████| 82/82 [00:20<00:00,  3.95it/s]\n",
            "Epoch 1983\n",
            "Train: 100%|██████████| 82/82 [00:24<00:00,  3.40it/s]\n",
            "Epoch 1984\n",
            "Train: 100%|██████████| 82/82 [00:20<00:00,  3.97it/s]\n",
            "Eval : 100%|██████████| 7/7 [00:02<00:00,  3.05it/s]\n",
            "Epoch 1985\n"
          ]
        },
        {
          "name": "stdout",
          "output_type": "stream",
          "text": [
            "Saving model...\n",
            "{'edit_distance': 111.102, '_num_chars': 125.089, '_num_pred_chars': 118.285, 'nsentences': 1.0, '_world_size': 0.007, '_lm_score_sum': 0.0, '_kaldi_score_sum': 0.0, '_word_lm_sum': 0.0, '_num_words': 0.0, '_vocab_seen': [0.007, 0.007, 0.007, 0.007, 0.007, 0.007, 0.007, 0.007, 0.007, 0.007, 0.007, 0.0, 0.007, 0.007, 0.001, 0.007, 0.007, 0.007, 0.007, 0.007, 0.007, 0.007, 0.007, 0.0, 0.0, 0.0, 0.007, 0.007, 0.007, 0.0, 0.007, 0.0, 0.0, 0.007, 0.007, 0.0, 0.007, 0.007, 0.007, 0.007, 0.0, 0.0, 0.007, 0.007, 0.007, 0.007, 0.0, 0.007, 0.0, 0.0, 0.0, 0.0, 0.0, 0.0, 0.0, 0.0, 0.0, 0.0, 0.0, 0.0]}\n"
          ]
        },
        {
          "name": "stderr",
          "output_type": "stream",
          "text": [
            "Train: 100%|██████████| 82/82 [00:24<00:00,  3.34it/s]\n",
            "Epoch 1986\n",
            "Train: 100%|██████████| 82/82 [00:20<00:00,  3.96it/s]\n",
            "Epoch 1987\n",
            "Train: 100%|██████████| 82/82 [00:24<00:00,  3.40it/s]\n",
            "Epoch 1988\n",
            "Train: 100%|██████████| 82/82 [00:20<00:00,  3.96it/s]\n",
            "Epoch 1989\n",
            "Train: 100%|██████████| 82/82 [00:24<00:00,  3.39it/s]\n",
            "Eval : 100%|██████████| 7/7 [00:02<00:00,  3.07it/s]\n",
            "Epoch 1990\n"
          ]
        },
        {
          "name": "stdout",
          "output_type": "stream",
          "text": [
            "Saving model...\n",
            "{'edit_distance': 108.586, '_num_chars': 125.089, '_num_pred_chars': 109.928, 'nsentences': 1.0, '_world_size': 0.007, '_lm_score_sum': 0.0, '_kaldi_score_sum': 0.0, '_word_lm_sum': 0.0, '_num_words': 0.0, '_vocab_seen': [0.007, 0.007, 0.007, 0.007, 0.007, 0.007, 0.0, 0.0, 0.007, 0.0, 0.007, 0.007, 0.007, 0.007, 0.0, 0.007, 0.0, 0.007, 0.007, 0.007, 0.007, 0.007, 0.007, 0.0, 0.0, 0.0, 0.007, 0.007, 0.007, 0.007, 0.007, 0.0, 0.0, 0.007, 0.007, 0.0, 0.0, 0.007, 0.007, 0.0, 0.007, 0.0, 0.007, 0.003, 0.007, 0.007, 0.0, 0.0, 0.0, 0.0, 0.0, 0.0, 0.0, 0.0, 0.0, 0.0, 0.0, 0.0, 0.0, 0.0]}\n"
          ]
        },
        {
          "name": "stderr",
          "output_type": "stream",
          "text": [
            "Train: 100%|██████████| 82/82 [00:20<00:00,  3.93it/s]\n",
            "Epoch 1991\n",
            "Train: 100%|██████████| 82/82 [00:24<00:00,  3.39it/s]\n",
            "Epoch 1992\n",
            "Train: 100%|██████████| 82/82 [00:20<00:00,  3.96it/s]\n",
            "Epoch 1993\n",
            "Train: 100%|██████████| 82/82 [00:23<00:00,  3.42it/s]\n",
            "Epoch 1994\n",
            "Train: 100%|██████████| 82/82 [00:20<00:00,  3.98it/s]\n",
            "Eval : 100%|██████████| 7/7 [00:02<00:00,  3.07it/s]\n",
            "Epoch 1995\n"
          ]
        },
        {
          "name": "stdout",
          "output_type": "stream",
          "text": [
            "Saving model...\n",
            "{'edit_distance': 109.965, '_num_chars': 125.089, '_num_pred_chars': 109.909, 'nsentences': 1.0, '_world_size': 0.007, '_lm_score_sum': 0.0, '_kaldi_score_sum': 0.0, '_word_lm_sum': 0.0, '_num_words': 0.0, '_vocab_seen': [0.007, 0.007, 0.007, 0.007, 0.007, 0.007, 0.0, 0.007, 0.007, 0.006, 0.007, 0.007, 0.007, 0.007, 0.0, 0.007, 0.007, 0.007, 0.007, 0.007, 0.007, 0.007, 0.007, 0.007, 0.007, 0.007, 0.0, 0.007, 0.007, 0.0, 0.007, 0.007, 0.0, 0.007, 0.007, 0.0, 0.007, 0.007, 0.007, 0.0, 0.0, 0.007, 0.007, 0.0, 0.007, 0.007, 0.0, 0.0, 0.0, 0.0, 0.0, 0.0, 0.0, 0.0, 0.0, 0.0, 0.0, 0.0, 0.0, 0.0]}\n"
          ]
        },
        {
          "name": "stderr",
          "output_type": "stream",
          "text": [
            "Train: 100%|██████████| 82/82 [00:24<00:00,  3.39it/s]\n",
            "Epoch 1996\n",
            "Train: 100%|██████████| 82/82 [00:20<00:00,  3.98it/s]\n",
            "Epoch 1997\n",
            "Train: 100%|██████████| 82/82 [00:24<00:00,  3.38it/s]\n",
            "Epoch 1998\n",
            "Train: 100%|██████████| 82/82 [00:20<00:00,  3.97it/s]\n",
            "Epoch 1999\n",
            "Train: 100%|██████████| 82/82 [00:24<00:00,  3.40it/s]\n",
            "Eval : 100%|██████████| 7/7 [00:02<00:00,  3.02it/s]\n",
            "Epoch 2000\n"
          ]
        },
        {
          "name": "stdout",
          "output_type": "stream",
          "text": [
            "Saving model...\n",
            "{'edit_distance': 111.644, '_num_chars': 125.089, '_num_pred_chars': 114.568, 'nsentences': 1.0, '_world_size': 0.007, '_lm_score_sum': 0.0, '_kaldi_score_sum': 0.0, '_word_lm_sum': 0.0, '_num_words': 0.0, '_vocab_seen': [0.007, 0.007, 0.007, 0.007, 0.007, 0.007, 0.004, 0.0, 0.007, 0.0, 0.007, 0.007, 0.007, 0.007, 0.007, 0.007, 0.007, 0.007, 0.007, 0.007, 0.007, 0.007, 0.007, 0.007, 0.0, 0.0, 0.0, 0.007, 0.007, 0.0, 0.007, 0.007, 0.0, 0.007, 0.007, 0.007, 0.007, 0.007, 0.007, 0.0, 0.0, 0.007, 0.007, 0.0, 0.007, 0.007, 0.0, 0.0, 0.007, 0.0, 0.0, 0.0, 0.0, 0.0, 0.0, 0.0, 0.0, 0.0, 0.0, 0.0]}\n"
          ]
        },
        {
          "name": "stderr",
          "output_type": "stream",
          "text": [
            "Train: 100%|██████████| 82/82 [00:20<00:00,  3.94it/s]\n"
          ]
        }
      ],
      "source": [
        "print(f\"Training for {num_epochs} epochs\", file=sys.stderr)\n",
        "\n",
        "for epoch in range(epoch_start, num_epochs + epoch_start):\n",
        "    print(f\"Epoch {epoch}\", file=sys.stderr)\n",
        "    model.train()\n",
        "    # The model uses the epoch number to decide which part of the network to train\n",
        "    model.set_num_updates(epoch) # Look at what this function does in the Wav2vec_U class\n",
        "\n",
        "    train_stats = run_model(model, train_dataloader, optimizer)\n",
        "\n",
        "    if epoch % eval_interval == eval_interval-1:\n",
        "\n",
        "        model.eval()\n",
        "        with torch.no_grad():\n",
        "            eval_stats = run_model(model, validation_dataloader, optimizer)\n",
        "            print(\"Saving model...\")\n",
        "            valid_dist = eval_stats['edit_distance']\n",
        "            if valid_dist <= best_dist:\n",
        "              save_model(model, optimizer, valid_dist, epoch, f'gan_{epoch+1}.pt')\n",
        "              best_dist = valid_dist\n",
        "            wandb.log({\n",
        "                'edit_distance' : valid_dist,\n",
        "             })\n",
        "            print(eval_stats)\n",
        "            \n",
        "        # TODO: perhaps save your model and optimizer here\n",
        "        # Tip: You can even save the model after every epoch along with the best model. \n",
        "        # This may help to continue training even if the best model is from a very early epoch.\n",
        "\n",
        "    else:\n",
        "        eval_stats = {}\n",
        "      \n",
        "\n",
        "    # TODO: Log training/eval statistics\n"
      ]
    },
    {
      "cell_type": "markdown",
      "id": "fa463D7CGwED",
      "metadata": {
        "id": "fa463D7CGwED"
      },
      "source": [
        "# Testing and submission to Kaggle"
      ]
    },
    {
      "cell_type": "code",
      "execution_count": 23,
      "id": "4d60ff70-589d-49b4-9445-0587cf538070",
      "metadata": {
        "id": "4d60ff70-589d-49b4-9445-0587cf538070"
      },
      "outputs": [],
      "source": [
        "from dataset import extracted_features_dataset\n",
        "test_path = '11-685-s23-hw5/test/'# TODO: PathToTest\n",
        "testset = extracted_features_dataset.ExtractedFeaturesDataset(path=test_path,\n",
        "                                                              split='test')\n",
        "\n",
        "test_dataloader_args = train_dataloader_args.copy()\n",
        "test_dataloader_args[\"shuffle\"] = False\n",
        "test_dataloader_args[\"collate_fn\"] = testset.collater\n",
        "\n",
        "test_dataloader = data.DataLoader(testset, **test_dataloader_args)"
      ]
    },
    {
      "cell_type": "markdown",
      "id": "t87M7kvdIGgI",
      "metadata": {
        "id": "t87M7kvdIGgI"
      },
      "source": [
        "Write the `test_step` function which can be coded very similar to `valid_step` given in `task/unpaired_audio_text.py`"
      ]
    },
    {
      "cell_type": "markdown",
      "id": "uo6nr_8tIkI4",
      "metadata": {
        "id": "uo6nr_8tIkI4"
      },
      "source": [
        "Write some code to evaluate and get the results. You are free to write the below cells however you want"
      ]
    },
    {
      "cell_type": "code",
      "execution_count": 24,
      "id": "D_F9axpLIh2P",
      "metadata": {
        "colab": {
          "base_uri": "https://localhost:8080/"
        },
        "id": "D_F9axpLIh2P",
        "outputId": "4f655981-9bca-460d-ac1c-6586e1e37cd0"
      },
      "outputs": [
        {
          "name": "stderr",
          "output_type": "stream",
          "text": [
            "Test:  14%|█▍        | 1/7 [00:01<00:06,  1.02s/it]"
          ]
        },
        {
          "name": "stdout",
          "output_type": "stream",
          "text": [
            "HYP: w ʌ n w ʌ z l æ f t s t ɪ f æ z ɐ ɹ ʌ ʃ ɪ n l ʌ n d ə n n̩ ɪ n ə ɪ n ɚ v iː n ɪ t aɪ m b ʌ k ɪ ŋ h æ m p ɜː h æ p s ɛ n t h ɪ t uː p æ ɹ ɪ s n n̩ æ z h iː d ð ə h ɔːɹ s ɪ z n h æ z n̩ ɛ n i w ʌ n b ɹ ɑː t ɐ l æ ɾ ɚ f ɔːɹ m iː n n̩ æ s t d aɪ t æ n j ə n iː ɡ ɚ l\n"
          ]
        },
        {
          "name": "stderr",
          "output_type": "stream",
          "text": [
            "Test: 100%|██████████| 7/7 [00:02<00:00,  3.33it/s]\n"
          ]
        }
      ],
      "source": [
        "model.eval()\n",
        "results = []\n",
        "\n",
        "\n",
        "for data in tqdm(test_dataloader, desc=\"Test\"):\n",
        "    # TODO\n",
        "    data_input = data['net_input']\n",
        "    net_input = dict()\n",
        "    net_input['features'] = data_input['features'].to(device)\n",
        "    net_input['padding_mask'] = data_input['padding_mask'].to(device)\n",
        "    if 'random_label' in data_input.keys():\n",
        "      net_input['random_label'] = data_input['random_label'].to(device)\n",
        "    data['net_input'] = net_input\n",
        "\n",
        "    logging, pred = task.test_step(data, model)\n",
        "    results += pred\n",
        "\n",
        "print(len(results))"
      ]
    },
    {
      "cell_type": "code",
      "execution_count": 26,
      "id": "lT2TutVbJOYh",
      "metadata": {
        "id": "lT2TutVbJOYh"
      },
      "outputs": [],
      "source": [
        "# TODO: Replace the path and get the phoneme_map.json for mapping\n",
        "with open(\"11-685-s23-hw5/test/phoneme_map.json\", \"r\") as file:\n",
        "    phon_map = json.load(file)"
      ]
    },
    {
      "cell_type": "code",
      "execution_count": null,
      "id": "A8VW9S5OEACk",
      "metadata": {
        "colab": {
          "base_uri": "https://localhost:8080/"
        },
        "id": "A8VW9S5OEACk",
        "outputId": "c4e19e24-4037-4227-f5ea-f674b9f7118b"
      },
      "outputs": [
        {
          "name": "stdout",
          "output_type": "stream",
          "text": [
            "1000\n"
          ]
        }
      ],
      "source": [
        "predictions = []\n",
        "\n",
        "for line in results:\n",
        "    # TODO: Map results with phon_map\n",
        "    phon_list = line.split()\n",
        "    for j in range(len(phon_list)):\n",
        "      phon_list[j] = phon_map[phon_list[j]]\n",
        "    chars = \"\".join(phon_list)\n",
        "    predictions.append(chars)\n",
        "\n",
        "print(len(predictions))"
      ]
    },
    {
      "cell_type": "code",
      "execution_count": 28,
      "id": "bDnijOksJqMj",
      "metadata": {
        "id": "bDnijOksJqMj"
      },
      "outputs": [],
      "source": [
        "# TODO: Make the CSV and submit to kaggle\n",
        "import pandas as pd\n",
        "\n",
        "with open(\"random_submission.csv\", 'w') as fh:\n",
        "  fh.write('id,predictions\\n') \n",
        "  for i in range(len(predictions)):\n",
        "    fh.write(str(i)+ ',' + predictions[i] + \"\\n\") \n",
        "\n",
        "df = pd.read_csv(\"random_submission.csv\")\n",
        "df.to_csv('submission.csv', index = False)"
      ]
    },
    {
      "cell_type": "code",
      "execution_count": 29,
      "id": "zBq58ilhEUA7",
      "metadata": {
        "colab": {
          "base_uri": "https://localhost:8080/"
        },
        "id": "zBq58ilhEUA7",
        "outputId": "dd7346fa-3d77-4232-c99a-aa5a631c2beb"
      },
      "outputs": [
        {
          "name": "stdout",
          "output_type": "stream",
          "text": [
            "Warning: Looks like you're using an outdated API Version, please consider updating (server 1.5.13 / client 1.5.8)\n",
            "100% 118k/118k [00:00<00:00, 166kB/s]\n",
            "Successfully submitted to Unsupervised Speech Recognition"
          ]
        }
      ],
      "source": [
        "if SUBMIT:\n",
        "  !kaggle competitions submit -c 11-685-s23-hw5 -f submission.csv -m \"I made it!\""
      ]
    }
  ],
  "metadata": {
    "accelerator": "GPU",
    "colab": {
      "machine_shape": "hm",
      "provenance": []
    },
    "gpuClass": "premium",
    "kernelspec": {
      "display_name": "Python 3 (ipykernel)",
      "language": "python",
      "name": "python3"
    },
    "language_info": {
      "codemirror_mode": {
        "name": "ipython",
        "version": 3
      },
      "file_extension": ".py",
      "mimetype": "text/x-python",
      "name": "python",
      "nbconvert_exporter": "python",
      "pygments_lexer": "ipython3",
      "version": "3.9.7"
    }
  },
  "nbformat": 4,
  "nbformat_minor": 5
}
